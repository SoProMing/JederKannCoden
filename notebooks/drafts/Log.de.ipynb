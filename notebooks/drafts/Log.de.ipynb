{
 "cells": [
  {
   "cell_type": "markdown",
   "metadata": {},
   "source": [
    "# Themen\n",
    "\n",
    "top\n",
    "\n",
    "strg-c\n",
    "\n",
    "Befehle --help\n",
    "\n",
    "Lokale Firewall\n",
    "\n",
    "Lokale Netzwerksettings\n",
    "\n",
    "Ubuntu 24.04-LTS\n",
    "\n",
    "grep hinzufügen\n",
    "\n",
    "$@ im skript herausfinden"
   ]
  }
 ],
 "metadata": {
  "language_info": {
   "name": "python"
  }
 },
 "nbformat": 4,
 "nbformat_minor": 2
}
