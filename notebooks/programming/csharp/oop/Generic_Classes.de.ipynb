{
 "cells": [
  {
   "cell_type": "markdown",
   "metadata": {},
   "source": [
    "[Jeder kann coden](../../abstract/Contents.de.ipynb) / [Programmieren & TicTacToe](../../Programming_And_TicTacToe.de.ipynb) / [Objektorientierte Programmierung](../../Objectoriented_Programming.de.ipynb) / [Objektorientierte Programmierung in C#](CSharp_Basics.de.ipynb)\n",
    "\n",
    "# Generische Klassen\n",
    "\n",
    "<table border=\"0\">\n",
    "  <tr>\n",
    "    <td>\n",
    "        <img src=\"Generic_classes.jpeg\">\n",
    "    </td>\n",
    "    <td rowspan=\"2\">\n",
    "        <a href=\"https://miro.com/app/board/o9J_lOJi2o0=/?moveToWidget=3458764554347680798&cot=14\"><img src=\"Radar_generic_classes.de.jpg\"></a>\n",
    "    </td>\n",
    "  </tr>\n",
    "  <tr>\n",
    "    <td>\n",
    "      <a href=\"https://learn.microsoft.com/de-de/dotnet/csharp/programming-guide/generics/\">Microsoft Docs – Generics (C#-Programmierhandbuch)</a><br>\n",
    "      <a href=\"https://learn.microsoft.com/de-de/dotnet/standard/generics/\">Microsoft Docs – Generics in .NET</a><br>\n",
    "      <a href=\"https://docs.microsoft.com/de-de/dotnet/api/system.collections.generic?view=net-8.0\">System.Collections.Generic Namespace</a><br>\n",
    "      <a href=\"https://www.tutorialsteacher.com/csharp/csharp-generics\">TutorialsTeacher – Generics in C#</a><br>\n",
    "      <a href=\"https://www.geeksforgeeks.org/c-sharp-generics/\">GeeksforGeeks – C# Generics</a><br>\n",
    "      <a href=\"https://dotnettutorials.net/lesson/generics-in-csharp/\">DotNet Tutorials – Generics in C#</a><br>\n",
    "      <a href=\"https://stackoverflow.com/questions/tagged/c%23-generics\">Stack Overflow – Fragen zu Generics in C#</a><br>\n",
    "      <a href=\"https://en.wikipedia.org/wiki/Generics_in_C%23\">Wikipedia – Generics in C#</a><br>\n",
    "      <a href=\"https://www.udemy.com/course/csharp-advanced/\">Udemy – C# Advanced Topics (mit Generics)</a><br>\n",
    "      <a href=\"https://www.youtube.com/watch?v=Kmgo00avvEw\">YouTube – Generics einfach erklärt (C#)</a>\n",
    "    </td>\n",
    "  </tr>\n",
    "</table>"
   ]
  },
  {
   "cell_type": "markdown",
   "metadata": {},
   "source": [
    "## Was sind generische Klassen?\n",
    "\n",
    "Generische Klassen in C# erlauben es, **Typparameter** zu verwenden. So können wir **typsicheren, wiederverwendbaren Code** schreiben, der z. B. nicht für Temperaturdaten, Luftqualität und Wasserstände separat dupliziert werden muss.\n",
    "\n",
    "### Eine generische Box für Messwerte\n",
    "\n",
    "Hier haben wir eine generische Klasse `MesswertBox<T>`, die einen Messwert vom Typ `T` speichert. Wir können sie für verschiedene Typen wie `double` oder `string` verwenden."
   ]
  },
  {
   "cell_type": "code",
   "execution_count": 1,
   "metadata": {
    "language_info": {
     "name": "polyglot-notebook"
    },
    "polyglot_notebook": {
     "kernelName": "csharp"
    }
   },
   "outputs": [
    {
     "name": "stdout",
     "output_type": "stream",
     "text": [
      "Gemessener Wert: 22.4\n",
      "Gemessener Wert: Gut\n"
     ]
    }
   ],
   "source": [
    "class MesswertBox<T>\n",
    "{\n",
    "    public T Wert;\n",
    "\n",
    "    public void DruckeMesswert()\n",
    "    {\n",
    "        Console.WriteLine($\"Gemessener Wert: {Wert}\");\n",
    "    }\n",
    "}\n",
    "\n",
    "var temperatur = new MesswertBox<double> { Wert = 22.4 };\n",
    "var luftqualität = new MesswertBox<string> { Wert = \"Gut\" };\n",
    "\n",
    "temperatur.DruckeMesswert();  // Gemessener Wert: 22.4\n",
    "luftqualität.DruckeMesswert(); // Gemessener Wert: Gut"
   ]
  },
  {
   "cell_type": "markdown",
   "metadata": {},
   "source": [
    "Vorteil: Wir müssen **nicht** separate Klassen für jeden Typ von Messwert schreiben.\n",
    "\n",
    "### Generische Methode in generischer Klasse\n",
    "\n",
    "Generische **Klassen** können generische **Methoden** enthalten. Hier wird `U` als Typ-Parameter für die Methode `VergleicheMitReferenz` verwendet. So können wir die Methode flexibel für verschiedene Typen aufrufen."
   ]
  },
  {
   "cell_type": "code",
   "execution_count": 2,
   "metadata": {
    "language_info": {
     "name": "polyglot-notebook"
    },
    "polyglot_notebook": {
     "kernelName": "csharp"
    }
   },
   "outputs": [
    {
     "name": "stdout",
     "output_type": "stream",
     "text": [
      "Wert 19.5 wird mit Referenz Grenzwert 20°C verglichen.\n"
     ]
    }
   ],
   "source": [
    "class UmweltMessung<T>\n",
    "{\n",
    "    public T Wert;\n",
    "\n",
    "    public void VergleicheMitReferenz<U>(U referenz)\n",
    "    {\n",
    "        Console.WriteLine($\"Wert {Wert} wird mit Referenz {referenz} verglichen.\");\n",
    "    }\n",
    "}\n",
    "\n",
    "var messung = new UmweltMessung<double> { Wert = 19.5 };\n",
    "messung.VergleicheMitReferenz(\"Grenzwert 20°C\");"
   ]
  },
  {
   "cell_type": "markdown",
   "metadata": {},
   "source": [
    "Methoden können eigene Typen verwenden – unabhängig vom Klassentyp.\n",
    "\n",
    "### Mehrere Typ-Parameter\n",
    "\n",
    "Diese Klasse `Messpunkt<TWert, TEinheit>` erlaubt es, zwei verschiedene Typen zu kombinieren."
   ]
  },
  {
   "cell_type": "code",
   "execution_count": 3,
   "metadata": {
    "language_info": {
     "name": "polyglot-notebook"
    },
    "polyglot_notebook": {
     "kernelName": "csharp"
    }
   },
   "outputs": [
    {
     "name": "stdout",
     "output_type": "stream",
     "text": [
      "Messpunkt: 450 ppm\n"
     ]
    }
   ],
   "source": [
    "class Messpunkt<TWert, TEinheit>\n",
    "{\n",
    "    public TWert Wert;\n",
    "    public TEinheit Einheit;\n",
    "\n",
    "    public void Anzeige()\n",
    "    {\n",
    "        Console.WriteLine($\"Messpunkt: {Wert} {Einheit}\");\n",
    "    }\n",
    "}\n",
    "\n",
    "var co2 = new Messpunkt<int, string> { Wert = 450, Einheit = \"ppm\" };\n",
    "co2.Anzeige(); // Messpunkt: 450 ppm"
   ]
  },
  {
   "cell_type": "markdown",
   "metadata": {},
   "source": [
    "Ideal für strukturierte Daten wie (Wert + Einheit).\n",
    "\n",
    "### Einschränkung mit `where`\n",
    "\n",
    "Einschränkung mit `where` stellt hier sicher, dass der Typ `T` die Schnittstelle `IIdentifizierbar` implementiert. So kannst du sicher sein, dass `Id` verfügbar ist."
   ]
  },
  {
   "cell_type": "code",
   "execution_count": 5,
   "metadata": {
    "language_info": {
     "name": "polyglot-notebook"
    },
    "polyglot_notebook": {
     "kernelName": "csharp"
    }
   },
   "outputs": [
    {
     "name": "stdout",
     "output_type": "stream",
     "text": [
      "Sensor-ID: 42\n"
     ]
    }
   ],
   "source": [
    "interface IIdentifizierbar\n",
    "{\n",
    "    int Id { get; }\n",
    "}\n",
    "\n",
    "class Sensor : IIdentifizierbar\n",
    "{\n",
    "    public int Id { get; set; }\n",
    "    public string Typ { get; set; }\n",
    "}\n",
    "\n",
    "class SensorRepo<T> where T : IIdentifizierbar\n",
    "{\n",
    "    public void ZeigeId(T element)\n",
    "    {\n",
    "        Console.WriteLine($\"Sensor-ID: {element.Id}\");\n",
    "    }\n",
    "}\n",
    "\n",
    "var sensor = new Sensor { Id = 42, Typ = \"Temperatur\" };\n",
    "var repo = new SensorRepo<Sensor>();\n",
    "repo.ZeigeId(sensor); // Sensor-ID: 42"
   ]
  },
  {
   "cell_type": "markdown",
   "metadata": {},
   "source": [
    "Mit `where` stellst du sicher, dass ein Typ bestimmte Eigenschaften erfüllt.\n",
    "\n",
    "### `default(T)` verwenden\n",
    "\n",
    "`default(T)` gibt in dem folgenden Beispiel den **Standardwert** des Typs `T` zurück. Für numerische Typen ist das `0`, für Referenztypen `null`."
   ]
  },
  {
   "cell_type": "code",
   "execution_count": 6,
   "metadata": {
    "language_info": {
     "name": "polyglot-notebook"
    },
    "polyglot_notebook": {
     "kernelName": "csharp"
    }
   },
   "outputs": [
    {
     "name": "stdout",
     "output_type": "stream",
     "text": [
      "Standardwert: 0\n",
      "Standardwert: \n"
     ]
    }
   ],
   "source": [
    "class Messung<T>\n",
    "{\n",
    "    public T Wert = default;\n",
    "\n",
    "    public void Ausgabe()\n",
    "    {\n",
    "        Console.WriteLine($\"Standardwert: {Wert}\");\n",
    "    }\n",
    "}\n",
    "\n",
    "var m1 = new Messung<double>();\n",
    "var m2 = new Messung<string>();\n",
    "\n",
    "m1.Ausgabe(); // Standardwert: 0\n",
    "m2.Ausgabe(); // Standardwert:"
   ]
  },
  {
   "cell_type": "markdown",
   "metadata": {},
   "source": [
    "Nützlich für Initialisierung von Feldern mit unbekanntem Typ.\n",
    "\n",
    "### Statische Felder pro Typ\n",
    "\n",
    "Statische Felder in generischen Klassen sind **typspezifisch**. Das bedeutet, dass sie für jeden Typ, der die Klasse verwendet, **eigenständig** sind."
   ]
  },
  {
   "cell_type": "code",
   "execution_count": 6,
   "metadata": {
    "language_info": {
     "name": "polyglot-notebook"
    },
    "polyglot_notebook": {
     "kernelName": "csharp"
    }
   },
   "outputs": [
    {
     "name": "stdout",
     "output_type": "stream",
     "text": [
      "String-Zähler: 2\n",
      "Double-Zähler: 1\n"
     ]
    }
   ],
   "source": [
    "class Zähler<T>\n",
    "{\n",
    "    public static int Anzahl = 0;\n",
    "\n",
    "    public Zähler()\n",
    "    {\n",
    "        Anzahl++;\n",
    "    }\n",
    "}\n",
    "\n",
    "new Zähler<string>();\n",
    "new Zähler<string>();\n",
    "new Zähler<double>();\n",
    "\n",
    "Console.WriteLine($\"String-Zähler: {Zähler<string>.Anzahl}\"); // 2\n",
    "Console.WriteLine($\"Double-Zähler: {Zähler<double>.Anzahl}\"); // 1"
   ]
  },
  {
   "cell_type": "markdown",
   "metadata": {},
   "source": [
    "Jeder Typ hat **einen eigenen Satz an statischen Feldern**.\n",
    "\n",
    "### Repositories\n",
    "\n",
    "Repositories sind z.B. auch praktisch für Umweltdaten, Sensorik und Logik. Sie kapseln die Datenhaltung und bieten eine klare Schnittstelle."
   ]
  },
  {
   "cell_type": "code",
   "execution_count": 7,
   "metadata": {
    "language_info": {
     "name": "polyglot-notebook"
    },
    "polyglot_notebook": {
     "kernelName": "csharp"
    }
   },
   "outputs": [
    {
     "name": "stdout",
     "output_type": "stream",
     "text": [
      "Gefundene Messung: 18.7 °C\n"
     ]
    }
   ],
   "source": [
    "class Messung : IIdentifizierbar\n",
    "{\n",
    "    public int Id { get; set; }\n",
    "    public double Wert { get; set; }\n",
    "}\n",
    "\n",
    "class MessungRepository<T> where T : IIdentifizierbar\n",
    "{\n",
    "    private List<T> daten = new();\n",
    "\n",
    "    public void Speichern(T element) => daten.Add(element);\n",
    "    public T Suche(int id) => daten.First(e => e.Id == id);\n",
    "}\n",
    "\n",
    "var repo = new MessungRepository<Messung>();\n",
    "repo.Speichern(new Messung { Id = 1, Wert = 18.7 });\n",
    "\n",
    "var gefunden = repo.Suche(1);\n",
    "Console.WriteLine($\"Gefundene Messung: {gefunden.Wert} °C\"); // 18.7"
   ]
  },
  {
   "cell_type": "markdown",
   "metadata": {},
   "source": [
    "Sehr nützlich für Sensoren, Messdaten, Log-Einträge usw.\n",
    "\n",
    "### Zusammenfassung\n",
    "\n",
    "| Feature             | Nutzen                                         |\n",
    "| ------------------- | ---------------------------------------------- |\n",
    "| `Box<T>`            | Typsichere Container                           |\n",
    "| `Pair<T1, T2>`      | Kombinierte Werte                              |\n",
    "| `where`-Constraints | Sicherer Einsatz spezialisierter Typen         |\n",
    "| `default(T)`        | Initialisierung generischer Felder             |\n",
    "| statische Felder    | Eigene Speicherbereiche pro Typspezialisierung |\n",
    "| Repositories        | Praktisch für Umweltdaten, Sensorik, Logik     |\n",
    "| generische Methoden | Methoden flexibel unabhängig vom Klassentyp    |"
   ]
  }
 ],
 "metadata": {
  "kernelspec": {
   "display_name": ".NET (C#)",
   "language": "C#",
   "name": ".net-csharp"
  },
  "language_info": {
   "name": "polyglot-notebook"
  },
  "polyglot_notebook": {
   "kernelInfo": {
    "defaultKernelName": "csharp",
    "items": [
     {
      "aliases": [],
      "name": "csharp"
     }
    ]
   }
  }
 },
 "nbformat": 4,
 "nbformat_minor": 2
}
