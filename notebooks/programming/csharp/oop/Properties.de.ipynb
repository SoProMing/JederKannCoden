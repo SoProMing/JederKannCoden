{
 "cells": [
  {
   "cell_type": "markdown",
   "metadata": {},
   "source": [
    "[Jeder kann coden](../../abstract/Contents.de.ipynb) / [Programmieren & TicTacToe](../../Programming_And_TicTacToe.de.ipynb) / [Objektorientierte Programmierung](../../Objectoriented_Programming.de.ipynb) / [Objektorientierte Programmierung in C#](CSharp_Basics.de.ipynb)\n",
    "\n",
    "# Properties (Attribute) in C#\n",
    "\n",
    "<table border=\"0\">\n",
    "  <tr>\n",
    "    <td>\n",
    "        <img src=\"Properties.webp\">\n",
    "    </td>\n",
    "    <td rowspan=\"2\">\n",
    "        <a href=\"https://miro.com/app/board/o9J_lOJi2o0=/?moveToWidget=3458764554347680798&cot=14\"><img src=\"Radar_OOP.jpg\"></a>\n",
    "    </td>\n",
    "  </tr>\n",
    "  <tr>\n",
    "    <td>\n",
    "      <a href=\"https://learn.microsoft.com/en-us/dotnet/csharp/programming-guide/classes-and-structs/using-properties\" target=\"_blank\">C# Properties - Microsoft Learn</a><br>\n",
    "      <a href=\"https://www.tutorialsteacher.com/csharp/csharp-property\" target=\"_blank\">C# Properties Tutorial - TutorialsTeacher</a><br>\n",
    "      <a href=\"https://www.geeksforgeeks.org/properties-in-c-sharp/\" target=\"_blank\">Properties in C# - GeeksforGeeks</a><br>\n",
    "      <a href=\"https://www.csharpstation.com/Tutorial/lesson11\" target=\"_blank\">Properties in C# - C# Station Tutorial</a><br>\n",
    "      <a href=\"https://www.dotnetperls.com/property\" target=\"_blank\">C# Property Examples - DotNetPerls</a><br>\n",
    "      <a href=\"https://code-maze.com/csharp-properties/\" target=\"_blank\">Understanding Properties in C# - Code Maze</a>\n",
    "    </td>\n",
    "  </tr>\n",
    "</table>\n",
    "\n",
    "In C# sind **Properties** (Eigenschaften) spezielle Member einer Klasse, die wie Felder verwendet werden, aber Zugriffsmethoden (`get` und `set`) enthalten. Sie bieten eine flexible Möglichkeit, den Zugriff auf private Felder zu kontrollieren und gleichzeitig eine saubere Syntax für den Zugriff bereitzustellen.\n",
    "\n",
    "**Grundlegender Aufbau:**"
   ]
  },
  {
   "cell_type": "code",
   "execution_count": null,
   "metadata": {
    "dotnet_interactive": {
     "language": "csharp"
    },
    "polyglot_notebook": {
     "kernelName": "csharp"
    },
    "vscode": {
     "languageId": "polyglot-notebook"
    }
   },
   "outputs": [],
   "source": [
    "class Klasse\n",
    "{\n",
    "    private int _feld;\n",
    "\n",
    "    public int Eigenschaft\n",
    "    {\n",
    "        get { return _feld; } // Rückgabe des Werts\n",
    "        set { _feld = value; } // Setzt den Wert\n",
    "    }\n",
    "}"
   ]
  },
  {
   "cell_type": "markdown",
   "metadata": {},
   "source": [
    "- **`get`**: Wird verwendet, um den Wert der Eigenschaft zu lesen.\n",
    "- **`set`**: Wird verwendet, um den Wert der Eigenschaft zu schreiben. Der spezielle Schlüsselwort **`value`** repräsentiert den Wert, der der Eigenschaft zugewiesen wird.\n",
    "\n",
    "### Praxisbeispiel: Umweltinformatik\n",
    "Angenommen, wir möchten eine Klasse erstellen, die Informationen über die CO₂-Bilanz eines Fahrzeuges verwaltet. Eine Eigenschaft kann genutzt werden, um sicherzustellen, dass der CO₂-Wert nur einen positiven Wert annehmen kann.\n",
    "\n",
    "#### Codebeispiel"
   ]
  },
  {
   "cell_type": "code",
   "execution_count": null,
   "metadata": {
    "dotnet_interactive": {
     "language": "csharp"
    },
    "polyglot_notebook": {
     "kernelName": "csharp"
    },
    "vscode": {
     "languageId": "polyglot-notebook"
    }
   },
   "outputs": [],
   "source": [
    "class Fahrzeug\n",
    "{\n",
    "    private double _co2Emission; // privates Feld\n",
    "\n",
    "    // Property mit get und set\n",
    "    public double CO2Emission\n",
    "    {\n",
    "        get\n",
    "        {\n",
    "            return _co2Emission;\n",
    "        }\n",
    "        set\n",
    "        {\n",
    "            if (value < 0)\n",
    "            {\n",
    "                Console.WriteLine(\"CO₂-Emissionen können nicht negativ sein.\");\n",
    "            }\n",
    "            else\n",
    "            {\n",
    "                _co2Emission = value;\n",
    "            }\n",
    "        }\n",
    "    }\n",
    "\n",
    "    // Automatisch implementierte Property\n",
    "    public string Fahrzeugtyp { get; set; }\n",
    "\n",
    "    // Methode zur Ausgabe von Informationen\n",
    "    public void Ausgabe()\n",
    "    {\n",
    "        Console.WriteLine($\"Fahrzeugtyp: {Fahrzeugtyp}\");\n",
    "        Console.WriteLine($\"CO₂-Emissionen: {_co2Emission} g/km\");\n",
    "    }\n",
    "}\n",
    "\n",
    "Fahrzeug fahrzeug = new Fahrzeug();\n",
    "\n",
    "// Fahrzeugtyp setzen\n",
    "fahrzeug.Fahrzeugtyp = \"Elektroauto\";\n",
    "Console.WriteLine(\"Fahrzeugtyp gesetzt auf: Elektroauto\");\n",
    "\n",
    "// CO₂-Emission setzen\n",
    "fahrzeug.CO2Emission = 0; // Elektromobilität: 0 Emission\n",
    "Console.WriteLine(\"CO₂-Emission auf 0 gesetzt.\");\n",
    "\n",
    "// Falsche Werte testen\n",
    "fahrzeug.CO2Emission = -50; // Negativer Wert wird abgewiesen\n",
    "\n",
    "// Ausgabe der Daten\n",
    "fahrzeug.Ausgabe();\n",
    "\n",
    "// Neues Fahrzeug erstellen\n",
    "Fahrzeug fahrzeug2 = new Fahrzeug\n",
    "{\n",
    "    Fahrzeugtyp = \"Diesel\",\n",
    "    CO2Emission = 120 // Direkte Initialisierung\n",
    "};\n",
    "\n",
    "// Ausgabe der Daten\n",
    "fahrzeug2.Ausgabe();"
   ]
  },
  {
   "cell_type": "markdown",
   "metadata": {},
   "source": [
    "### Erklärung des Beispiels\n",
    "\n",
    "1. **Private Felder und `value`:**\n",
    "   - Das Feld `_co2Emission` ist privat und wird nur über die `CO2Emission`-Property zugänglich gemacht.\n",
    "   - Im `set`-Accessor wird geprüft, ob der Wert positiv ist. **`value`** repräsentiert den Wert, der der Property zugewiesen wurde.\n",
    "\n",
    "2. **Flexibilität von Properties:**\n",
    "   - Sie können Berechnungen oder Validierungen (wie die Prüfung auf negative Werte) im `set`-Accessor durchführen.\n",
    "   - Automatisch implementierte Properties wie `Fahrzeugtyp` vereinfachen den Code, wenn keine spezielle Logik notwendig ist.\n",
    "\n",
    "3. **Praktische Anwendung:**\n",
    "   - Im Kontext der Umweltinformatik könnte eine solche Klasse z.B. für Simulationen oder Bewertungen der CO₂-Bilanz von Fahrzeugflotten verwendet werden.\n",
    "\n",
    "## Vertiefung\n",
    "\n",
    "### Weiterführende Details zu Properties in C#\n",
    "\n",
    "#### 1. **Automatisch implementierte Properties**\n",
    "Automatisch implementierte Properties vereinfachen den Code, wenn keine zusätzliche Logik in `get` oder `set` benötigt wird. Der Compiler erstellt automatisch ein privates Feld im Hintergrund:"
   ]
  },
  {
   "cell_type": "code",
   "execution_count": 1,
   "metadata": {
    "dotnet_interactive": {
     "language": "csharp"
    },
    "polyglot_notebook": {
     "kernelName": "csharp"
    },
    "vscode": {
     "languageId": "polyglot-notebook"
    }
   },
   "outputs": [],
   "source": [
    "public string Fahrzeugtyp { get; set; }"
   ]
  },
  {
   "cell_type": "markdown",
   "metadata": {},
   "source": [
    "- Vorteil: Schneller zu schreiben und lesbar.\n",
    "- Nachteil: Keine Möglichkeit für zusätzliche Logik wie Validierung oder Berechnung.\n",
    "\n",
    "#### 2. **Read-only Properties**\n",
    "Manchmal möchte man eine Eigenschaft nur lesbar machen. Dafür wird nur ein `get` definiert:"
   ]
  },
  {
   "cell_type": "code",
   "execution_count": null,
   "metadata": {
    "dotnet_interactive": {
     "language": "csharp"
    },
    "polyglot_notebook": {
     "kernelName": "csharp"
    },
    "vscode": {
     "languageId": "polyglot-notebook"
    }
   },
   "outputs": [],
   "source": [
    "public string Hersteller { get; } = \"Tesla\";"
   ]
  },
  {
   "cell_type": "markdown",
   "metadata": {},
   "source": [
    "Alternativ kann der Wert nur im Konstruktor oder Initialisierer gesetzt werden.\n",
    "\n",
    "#### 3. **Write-only Properties**\n",
    "Eine Eigenschaft kann auch nur einen `set`-Accessor haben. Dies wird selten verwendet, ist aber möglich:"
   ]
  },
  {
   "cell_type": "code",
   "execution_count": null,
   "metadata": {
    "dotnet_interactive": {
     "language": "csharp"
    },
    "polyglot_notebook": {
     "kernelName": "csharp"
    },
    "vscode": {
     "languageId": "polyglot-notebook"
    }
   },
   "outputs": [],
   "source": [
    "private string _geheimeDaten;\n",
    "\n",
    "public string GeheimeDaten\n",
    "{\n",
    "    set { _geheimeDaten = value; }\n",
    "}"
   ]
  },
  {
   "cell_type": "markdown",
   "metadata": {},
   "source": [
    "Die Eigenschaft kann dann nur geschrieben, aber nicht gelesen werden.\n",
    "\n",
    "#### 4. **Expression-bodied Properties**\n",
    "Für einfache Eigenschaften kann man eine kompakte Syntax verwenden:"
   ]
  },
  {
   "cell_type": "code",
   "execution_count": null,
   "metadata": {
    "dotnet_interactive": {
     "language": "csharp"
    },
    "polyglot_notebook": {
     "kernelName": "csharp"
    },
    "vscode": {
     "languageId": "polyglot-notebook"
    }
   },
   "outputs": [],
   "source": [
    "public double Kilometerstand { get; private set; }\n",
    "\n",
    "public bool IstEffizient => Kilometerstand > 100 && CO2Emission < 50;"
   ]
  },
  {
   "cell_type": "markdown",
   "metadata": {},
   "source": [
    "Die **Expression-bodied Properties** sind besonders nützlich für Berechnungen oder einfache Logik.\n",
    "\n",
    "#### 5. **Validierung in Properties**\n",
    "Wie im Beispiel gezeigt, kann die `set`-Methode verwendet werden, um Werte zu validieren:"
   ]
  },
  {
   "cell_type": "code",
   "execution_count": null,
   "metadata": {
    "dotnet_interactive": {
     "language": "csharp"
    },
    "polyglot_notebook": {
     "kernelName": "csharp"
    },
    "vscode": {
     "languageId": "polyglot-notebook"
    }
   },
   "outputs": [],
   "source": [
    "public double CO2Emission\n",
    "{\n",
    "    get => _co2Emission;\n",
    "    set\n",
    "    {\n",
    "        if (value < 0)\n",
    "            throw new ArgumentException(\"CO₂-Emissionen dürfen nicht negativ sein.\");\n",
    "        _co2Emission = value;\n",
    "    }\n",
    "}"
   ]
  },
  {
   "cell_type": "markdown",
   "metadata": {},
   "source": [
    "- **Vorteil:** Zentrale Validierung im Setter.\n",
    "- **Nachteil:** Kann zusätzliche Komplexität hinzufügen.\n",
    "\n",
    "#### 6. **Static Properties**\n",
    "Eigenschaften können `static` sein, um auf Klassenebene verwendet zu werden:"
   ]
  },
  {
   "cell_type": "code",
   "execution_count": null,
   "metadata": {
    "dotnet_interactive": {
     "language": "csharp"
    },
    "polyglot_notebook": {
     "kernelName": "csharp"
    },
    "vscode": {
     "languageId": "polyglot-notebook"
    }
   },
   "outputs": [],
   "source": [
    "public static string UmweltZiel => \"Reduzierung der CO₂-Emissionen bis 2030.\";"
   ]
  },
  {
   "cell_type": "markdown",
   "metadata": {},
   "source": [
    "Diese Eigenschaft gehört zur Klasse und nicht zu einer Instanz.\n",
    "\n",
    "#### 7. **Backerless Properties**\n",
    "Manche Eigenschaften benötigen kein privates Feld (Backer), sondern berechnen ihren Wert direkt:"
   ]
  },
  {
   "cell_type": "code",
   "execution_count": null,
   "metadata": {
    "dotnet_interactive": {
     "language": "csharp"
    },
    "polyglot_notebook": {
     "kernelName": "csharp"
    },
    "vscode": {
     "languageId": "polyglot-notebook"
    }
   },
   "outputs": [],
   "source": [
    "public double Effizienz => Kilometerstand / CO2Emission;"
   ]
  },
  {
   "cell_type": "markdown",
   "metadata": {},
   "source": [
    "Das kann praktisch für Werte sein, die sich aus anderen Feldern oder Eigenschaften ableiten lassen.\n",
    "\n",
    "#### 8. **Zugriffsmodifizierer auf `get` und `set`**\n",
    "Manchmal soll der Zugriff auf `get` oder `set` eingeschränkt werden, z.B. nur intern:"
   ]
  },
  {
   "cell_type": "code",
   "execution_count": null,
   "metadata": {
    "dotnet_interactive": {
     "language": "csharp"
    },
    "polyglot_notebook": {
     "kernelName": "csharp"
    },
    "vscode": {
     "languageId": "polyglot-notebook"
    }
   },
   "outputs": [],
   "source": [
    "public double CO2Emission { get; private set; }"
   ]
  },
  {
   "cell_type": "markdown",
   "metadata": {},
   "source": [
    "Hier kann `CO2Emission` von außerhalb der Klasse nur gelesen, aber nicht geschrieben werden.\n",
    "\n",
    "### Erweiterte Nutzung im Umweltinformatik-Kontext\n",
    "\n",
    "#### Beispiel 1: Überwachung von Umweltdaten\n",
    "Ein System zur Verwaltung von Wetterdaten könnte wie folgt gestaltet werden:"
   ]
  },
  {
   "cell_type": "code",
   "execution_count": null,
   "metadata": {
    "dotnet_interactive": {
     "language": "csharp"
    },
    "polyglot_notebook": {
     "kernelName": "csharp"
    },
    "vscode": {
     "languageId": "polyglot-notebook"
    }
   },
   "outputs": [],
   "source": [
    "public class Wetterstation\n",
    "{\n",
    "    private double _temperatur;\n",
    "\n",
    "    public double Temperatur\n",
    "    {\n",
    "        get => _temperatur;\n",
    "        set\n",
    "        {\n",
    "            if (value < -50 || value > 60)\n",
    "                throw new ArgumentOutOfRangeException(\"Temperatur außerhalb des gültigen Bereichs.\");\n",
    "            _temperatur = value;\n",
    "        }\n",
    "    }\n",
    "\n",
    "    public string Standort { get; set; }\n",
    "\n",
    "    public void Ausgabe()\n",
    "    {\n",
    "        Console.WriteLine($\"Standort: {Standort}, Temperatur: {_temperatur}°C\");\n",
    "    }\n",
    "}"
   ]
  },
  {
   "cell_type": "markdown",
   "metadata": {},
   "source": [
    "#### Beispiel 2: Simulation von Emissionen\n",
    "Ein System zur Überwachung von Fabriken:"
   ]
  },
  {
   "cell_type": "code",
   "execution_count": null,
   "metadata": {
    "dotnet_interactive": {
     "language": "csharp"
    },
    "polyglot_notebook": {
     "kernelName": "csharp"
    },
    "vscode": {
     "languageId": "polyglot-notebook"
    }
   },
   "outputs": [],
   "source": [
    "public class Fabrik\n",
    "{\n",
    "    private double _jahresEmission;\n",
    "\n",
    "    public double JahresEmission\n",
    "    {\n",
    "        get => _jahresEmission;\n",
    "        set\n",
    "        {\n",
    "            if (value < 0)\n",
    "                throw new ArgumentException(\"Emissionen können nicht negativ sein.\");\n",
    "            _jahresEmission = value;\n",
    "        }\n",
    "    }\n",
    "\n",
    "    public string Name { get; set; }\n",
    "\n",
    "    public bool IstUmweltfreundlich => JahresEmission < 1000;\n",
    "\n",
    "    public void Ausgabe()\n",
    "    {\n",
    "        Console.WriteLine($\"{Name} hat {(IstUmweltfreundlich ? \"umweltfreundliche\" : \"hohe\")} Emissionen: {_jahresEmission} t CO₂/Jahr.\");\n",
    "    }\n",
    "}"
   ]
  },
  {
   "cell_type": "markdown",
   "metadata": {},
   "source": [
    "### Best Practices für Properties\n",
    "\n",
    "1. **Encapsulation (Kapselung):**\n",
    "   Verwende Properties, um den direkten Zugriff auf Felder zu vermeiden und eine zentrale Steuerung des Datenflusses zu ermöglichen.\n",
    "\n",
    "2. **Validation:**\n",
    "   Nutze den `set`-Accessor, um Werte zu validieren oder zu transformieren, bevor sie in das Feld geschrieben werden.\n",
    "\n",
    "3. **Expression-bodied Properties:**\n",
    "   Für einfache Berechnungen oder Regeln bietet diese kompakte Syntax Vorteile.\n",
    "\n",
    "4. **Automatische Properties:**\n",
    "   Wenn keine Logik erforderlich ist, erleichtern automatisch implementierte Properties den Code.\n",
    "\n",
    "5. **Zugriffsmodifikatoren:**\n",
    "   Begrenze den Zugriff auf `get` oder `set`, um unerwünschte Änderungen zu verhindern.\n",
    "\n",
    "### Fazit\n",
    "\n",
    "Properties in C# bieten eine leistungsstarke und flexible Möglichkeit, Datenkapselung und -validierung zu implementieren. Sie sind ein zentrales Werkzeug für die saubere und sichere Verwaltung von Daten in einer Klasse und spielen eine wichtige Rolle in professionellen Anwendungen, insbesondere bei der Modellierung realer Szenarien wie in der Umweltinformatik."
   ]
  }
 ],
 "metadata": {
  "kernelspec": {
   "display_name": ".NET (C#)",
   "language": "C#",
   "name": ".net-csharp"
  },
  "language_info": {
   "name": "python"
  },
  "polyglot_notebook": {
   "kernelInfo": {
    "defaultKernelName": "csharp",
    "items": [
     {
      "aliases": [],
      "name": "csharp"
     }
    ]
   }
  }
 },
 "nbformat": 4,
 "nbformat_minor": 2
}
