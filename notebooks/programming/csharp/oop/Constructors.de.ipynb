{
 "cells": [
  {
   "cell_type": "markdown",
   "metadata": {},
   "source": [
    "[Jeder kann coden](../../abstract/Contents.de.ipynb) / [Programmieren & TicTacToe](../../Programming_And_TicTacToe.de.ipynb) / [Objektorientierte Programmierung](../../Objectoriented_Programming.de.ipynb) / [Objektorientierte Programmierung in C#](CSharp_Basics.de.ipynb)\n",
    "\n",
    "# Konstruktoren in C#\n",
    "\n",
    "<table border=\"0\">\n",
    "  <tr>\n",
    "    <td>\n",
    "        <img src=\"Constructors.webp\">\n",
    "    </td>\n",
    "    <td rowspan=\"2\">\n",
    "        <a href=\"https://miro.com/app/board/o9J_lOJi2o0=/?moveToWidget=3458764554347680798&cot=14\"><img src=\"Radar_OOP.jpg\"></a>\n",
    "    </td>\n",
    "  </tr>\n",
    "  <tr>\n",
    "    <td>\n",
    "      <a href=\"https://learn.microsoft.com/de-de/dotnet/csharp/programming-guide/classes-and-structs/constructors\">Konstruktoren in C# - Microsoft Docs (Tutorial)</a><br>\n",
    "      <a href=\"https://www.tutorialsteacher.com/csharp/csharp-constructors\">C# Constructors Tutorial - TutorialsTeacher</a><br>\n",
    "      <a href=\"https://learn.microsoft.com/de-de/dotnet/csharp/language-reference/keywords/this\">this-Schlüsselwort in C# - Microsoft Docs</a><br>\n",
    "      <a href=\"https://learn.microsoft.com/de-de/dotnet/csharp/language-reference/keywords/base\">base-Schlüsselwort in C# - Microsoft Docs</a>\n",
    "    </td>\n",
    "  </tr>\n",
    "</table>\n",
    "\n",
    "Konstruktoren in C# sind spezielle Methoden, die beim Erstellen einer Instanz einer Klasse automatisch aufgerufen werden. Sie dienen der Initialisierung von Objekten und bieten verschiedene Funktionen, um eine ordnungsgemäße und effiziente Objektkonstruktion zu gewährleisten.\n",
    "\n",
    "### Wichtige Eigenschaften von Konstruktoren\n",
    "1. **Gleicher Name wie die Klasse**:\n",
    "   Der Konstruktor muss denselben Namen wie die Klasse haben."
   ]
  },
  {
   "cell_type": "code",
   "execution_count": null,
   "metadata": {
    "dotnet_interactive": {
     "language": "csharp"
    },
    "polyglot_notebook": {
     "kernelName": "csharp"
    },
    "vscode": {
     "languageId": "polyglot-notebook"
    }
   },
   "outputs": [],
   "source": [
    "class MyClass\n",
    "{\n",
    "    public MyClass() { }\n",
    "}"
   ]
  },
  {
   "cell_type": "markdown",
   "metadata": {},
   "source": [
    "2. **Kein Rückgabewert**:\n",
    "   Konstruktoren haben keinen Rückgabewert, nicht einmal `void`.\n",
    "\n",
    "3. **Automatische Ausführung**:\n",
    "   Sie werden automatisch aufgerufen, wenn eine Instanz der Klasse erstellt wird:"
   ]
  },
  {
   "cell_type": "code",
   "execution_count": null,
   "metadata": {
    "dotnet_interactive": {
     "language": "csharp"
    },
    "polyglot_notebook": {
     "kernelName": "csharp"
    },
    "vscode": {
     "languageId": "polyglot-notebook"
    }
   },
   "outputs": [],
   "source": [
    "MyClass obj = new MyClass();"
   ]
  },
  {
   "cell_type": "markdown",
   "metadata": {},
   "source": [
    "4. **Überladbarkeit**:\n",
    "   Konstruktoren können überladen werden, um verschiedene Initialisierungsvarianten zu unterstützen."
   ]
  },
  {
   "cell_type": "code",
   "execution_count": null,
   "metadata": {
    "dotnet_interactive": {
     "language": "csharp"
    },
    "polyglot_notebook": {
     "kernelName": "csharp"
    },
    "vscode": {
     "languageId": "polyglot-notebook"
    }
   },
   "outputs": [],
   "source": [
    "class MyClass\n",
    "{\n",
    "    public MyClass() { }\n",
    "    public MyClass(int value) { }\n",
    "}"
   ]
  },
  {
   "cell_type": "markdown",
   "metadata": {},
   "source": [
    "### Typen von Konstruktoren\n",
    "\n",
    "1. **Standardkonstruktor**:\n",
    "   Wenn kein Konstruktor definiert wird, stellt C# automatisch einen Standardkonstruktor bereit."
   ]
  },
  {
   "cell_type": "code",
   "execution_count": null,
   "metadata": {
    "dotnet_interactive": {
     "language": "csharp"
    },
    "polyglot_notebook": {
     "kernelName": "csharp"
    },
    "vscode": {
     "languageId": "polyglot-notebook"
    }
   },
   "outputs": [],
   "source": [
    "class MyClass\n",
    "{\n",
    "    // Kein expliziter Konstruktor\n",
    "}\n",
    "\n",
    "class Program\n",
    "{\n",
    "    static void Main()\n",
    "    {\n",
    "        MyClass obj = new MyClass(); // Standardkonstruktor wird verwendet\n",
    "    }\n",
    "}"
   ]
  },
  {
   "cell_type": "markdown",
   "metadata": {},
   "source": [
    "2. **Parameterisierte Konstruktoren**:\n",
    "   Ermöglichen die Initialisierung von Objekten mit bestimmten Werten."
   ]
  },
  {
   "cell_type": "code",
   "execution_count": null,
   "metadata": {
    "dotnet_interactive": {
     "language": "csharp"
    },
    "polyglot_notebook": {
     "kernelName": "csharp"
    },
    "vscode": {
     "languageId": "polyglot-notebook"
    }
   },
   "outputs": [],
   "source": [
    "class MyClass\n",
    "{\n",
    "    public int Value;\n",
    "    public MyClass(int value)\n",
    "    {\n",
    "        Value = value;\n",
    "    }\n",
    "}"
   ]
  },
  {
   "cell_type": "markdown",
   "metadata": {},
   "source": [
    "3. **Statische Konstruktoren**:\n",
    "   Initialisieren statische Mitglieder einer Klasse und werden nur einmal aufgerufen."
   ]
  },
  {
   "cell_type": "code",
   "execution_count": null,
   "metadata": {
    "dotnet_interactive": {
     "language": "csharp"
    },
    "polyglot_notebook": {
     "kernelName": "csharp"
    },
    "vscode": {
     "languageId": "polyglot-notebook"
    }
   },
   "outputs": [],
   "source": [
    "class MyClass\n",
    "{\n",
    "    static MyClass()\n",
    "    {\n",
    "        Console.WriteLine(\"Statischer Konstruktor wird aufgerufen.\");\n",
    "    }\n",
    "}"
   ]
  },
  {
   "cell_type": "markdown",
   "metadata": {},
   "source": [
    "4. **Kopierkonstruktoren**:\n",
    "   Initialisieren ein Objekt basierend auf einem anderen Objekt derselben Klasse."
   ]
  },
  {
   "cell_type": "code",
   "execution_count": null,
   "metadata": {
    "dotnet_interactive": {
     "language": "csharp"
    },
    "polyglot_notebook": {
     "kernelName": "csharp"
    },
    "vscode": {
     "languageId": "polyglot-notebook"
    }
   },
   "outputs": [],
   "source": [
    "class MyClass\n",
    "{\n",
    "    public int Value;\n",
    "    public MyClass(MyClass obj)\n",
    "    {\n",
    "        Value = obj.Value;\n",
    "    }\n",
    "}"
   ]
  },
  {
   "cell_type": "markdown",
   "metadata": {},
   "source": [
    "### Nutzung von Schlüsselwörtern\n",
    "\n",
    "1. **`this`**:\n",
    "   Ruft einen anderen Konstruktor derselben Klasse auf."
   ]
  },
  {
   "cell_type": "code",
   "execution_count": null,
   "metadata": {
    "dotnet_interactive": {
     "language": "csharp"
    },
    "polyglot_notebook": {
     "kernelName": "csharp"
    },
    "vscode": {
     "languageId": "polyglot-notebook"
    }
   },
   "outputs": [],
   "source": [
    "class MyClass\n",
    "{\n",
    "    public int Value;\n",
    "    public MyClass() : this(0) { }\n",
    "    public MyClass(int value)\n",
    "    {\n",
    "        Value = value;\n",
    "    }\n",
    "}"
   ]
  },
  {
   "cell_type": "markdown",
   "metadata": {},
   "source": [
    "2. **`base`**:\n",
    "   Ruft den Konstruktor der Basisklasse auf."
   ]
  },
  {
   "cell_type": "code",
   "execution_count": null,
   "metadata": {
    "dotnet_interactive": {
     "language": "csharp"
    },
    "polyglot_notebook": {
     "kernelName": "csharp"
    },
    "vscode": {
     "languageId": "polyglot-notebook"
    }
   },
   "outputs": [],
   "source": [
    "class BaseClass\n",
    "{\n",
    "    public BaseClass(string message)\n",
    "    {\n",
    "        Console.WriteLine(message);\n",
    "    }\n",
    "}\n",
    "\n",
    "class DerivedClass : BaseClass\n",
    "{\n",
    "    public DerivedClass() : base(\"Hallo von der Basisklasse\") { }\n",
    "}"
   ]
  },
  {
   "cell_type": "markdown",
   "metadata": {},
   "source": [
    "\n",
    "3. **`new`**:\n",
    "   Erstellt eine neue Instanz und ruft den Konstruktor auf."
   ]
  },
  {
   "cell_type": "code",
   "execution_count": null,
   "metadata": {
    "dotnet_interactive": {
     "language": "csharp"
    },
    "polyglot_notebook": {
     "kernelName": "csharp"
    },
    "vscode": {
     "languageId": "polyglot-notebook"
    }
   },
   "outputs": [],
   "source": [
    "MyClass obj = new MyClass();"
   ]
  },
  {
   "cell_type": "markdown",
   "metadata": {},
   "source": [
    "### Praxisbeispiel\n",
    "\n",
    "Angenommen, wir modellieren Umweltdaten-Sensoren:"
   ]
  },
  {
   "cell_type": "code",
   "execution_count": null,
   "metadata": {
    "dotnet_interactive": {
     "language": "csharp"
    },
    "polyglot_notebook": {
     "kernelName": "csharp"
    },
    "vscode": {
     "languageId": "polyglot-notebook"
    }
   },
   "outputs": [],
   "source": [
    "class Sensor\n",
    "{\n",
    "    public string Name { get; private set; }\n",
    "    public string Location { get; private set; }\n",
    "\n",
    "    // Standardkonstruktor\n",
    "    public Sensor()\n",
    "    {\n",
    "        Name = \"Unbekannter Sensor\";\n",
    "        Location = \"Unbekannt\";\n",
    "    }\n",
    "\n",
    "    // Parameterisierter Konstruktor\n",
    "    public Sensor(string name, string location)\n",
    "    {\n",
    "        Name = name;\n",
    "        Location = location;\n",
    "    }\n",
    "\n",
    "    public void DisplayInfo()\n",
    "    {\n",
    "        Console.WriteLine($\"Sensor: {Name}, Standort: {Location}\");\n",
    "    }\n",
    "}\n",
    "\n",
    "// Standardkonstruktor\n",
    "Sensor defaultSensor = new Sensor();\n",
    "defaultSensor.DisplayInfo();\n",
    "\n",
    "// Parameterisierter Konstruktor\n",
    "Sensor tempSensor = new Sensor(\"Temperatursensor\", \"Waldgebiet\");\n",
    "tempSensor.DisplayInfo();"
   ]
  },
  {
   "cell_type": "markdown",
   "metadata": {},
   "source": [
    "### Best Practices\n",
    "\n",
    "1. **Vermeide komplexe Logik in Konstruktoren**:\n",
    "   Konstruktoren sollten sich auf die Initialisierung beschränken.\n",
    "\n",
    "2. **Nutze Initialisierungslisten**:\n",
    "   Konstruktorinitialisierer (z. B. `: this(...)` oder `: base(...)`) verbessern die Lesbarkeit und Wiederverwendbarkeit.\n",
    "\n",
    "3. **Vermeide Abhängigkeiten**:\n",
    "   Konstruktoren sollten minimalistisch und unabhängig sein, um Testbarkeit zu fördern.\n",
    "\n",
    "## Vertiefung\n",
    "\n",
    "### 1. **`this`-Schlüsselwort**\n",
    "Das `this`-Schlüsselwort verweist auf die aktuelle Instanz der Klasse. Es wird oft verwendet, um Namenskonflikte zwischen Feldern und Parametern im Konstruktor zu lösen.\n",
    "\n",
    "#### Beispiel:\n",
    "Angenommen, wir modellieren Sensoren, die Umweltdaten erfassen."
   ]
  },
  {
   "cell_type": "markdown",
   "metadata": {},
   "source": [
    "using System;\n",
    "\n",
    "class Sensor\n",
    "{\n",
    "    public string Name { get; private set; }\n",
    "    public string Location { get; private set; }\n",
    "\n",
    "    // Konstruktor mit this-Schlüsselwort\n",
    "    public Sensor(string name, string location)\n",
    "    {\n",
    "        this.Name = name; // this bezieht sich auf das aktuelle Objektfeld Name\n",
    "        this.Location = location;\n",
    "    }\n",
    "\n",
    "    public void DisplayInfo()\n",
    "    {\n",
    "        Console.WriteLine($\"Sensor: {Name} befindet sich in {Location}.\");\n",
    "    }\n",
    "}\n",
    "\n",
    "class Program\n",
    "{\n",
    "    static void Main()\n",
    "    {\n",
    "        Sensor tempSensor = new Sensor(\"Temperatursensor\", \"Waldgebiet\");\n",
    "        tempSensor.DisplayInfo();\n",
    "    }\n",
    "}"
   ]
  },
  {
   "cell_type": "markdown",
   "metadata": {},
   "source": [
    "Hier wird `this.Name` und `this.Location` verwendet, um auf die Felder der Klasse zuzugreifen.\n",
    "\n",
    "### 2. **`new`-Schlüsselwort**\n",
    "Das `new`-Schlüsselwort wird verwendet, um eine neue Instanz eines Objekts zu erstellen. Außerdem kann es verwendet werden, um eine Methode oder ein Mitglied in einer abgeleiteten Klasse zu verbergen.\n",
    "\n",
    "#### Beispiel:\n",
    "Hier erstellen wir eine Klasse für einen Feinstaubsensor, die von der Basisklasse `Sensor` erbt."
   ]
  },
  {
   "cell_type": "markdown",
   "metadata": {},
   "source": [
    "using System;\n",
    "\n",
    "class FeinstaubSensor : Sensor\n",
    "{\n",
    "    public int Partikelkonzentration { get; private set; }\n",
    "\n",
    "    public FeinstaubSensor(string name, string location, int partikelkonzentration)\n",
    "        : base(name, location) // base ruft den Konstruktor der Basisklasse auf\n",
    "    {\n",
    "        this.Partikelkonzentration = partikelkonzentration;\n",
    "    }\n",
    "\n",
    "    public new void DisplayInfo() // new verbirgt die Methode der Basisklasse\n",
    "    {\n",
    "        base.DisplayInfo();\n",
    "        Console.WriteLine($\"Partikelkonzentration: {Partikelkonzentration} µg/m³.\");\n",
    "    }\n",
    "}\n",
    "\n",
    "class Program\n",
    "{\n",
    "    static void Main()\n",
    "    {\n",
    "        FeinstaubSensor dustSensor = new FeinstaubSensor(\"Feinstaubsensor\", \"Innenstadt\", 35);\n",
    "        dustSensor.DisplayInfo();\n",
    "    }\n",
    "}"
   ]
  },
  {
   "cell_type": "markdown",
   "metadata": {},
   "source": [
    "Hier wird `new` verwendet, um die `DisplayInfo`-Methode der Basisklasse `Sensor` zu verbergen und eine spezifische Ausgabe für den `FeinstaubSensor` bereitzustellen.\n",
    "\n",
    "### 3. **`base`-Schlüsselwort**\n",
    "Das `base`-Schlüsselwort wird verwendet, um auf Mitglieder der Basisklasse zuzugreifen, einschließlich des Konstruktors der Basisklasse. Es wird häufig in abgeleiteten Klassen eingesetzt, um die Initialisierung der Basisklasse zu übernehmen.\n",
    "\n",
    "#### Beispiel:\n",
    "Ein weiterer Sensor, der Temperatur- und Feinstaubdaten gemeinsam erfasst."
   ]
  },
  {
   "cell_type": "markdown",
   "metadata": {},
   "source": [
    "using System;\n",
    "\n",
    "class TemperaturFeinstaubSensor : FeinstaubSensor\n",
    "{\n",
    "    public double Temperatur { get; private set; }\n",
    "\n",
    "    public TemperaturFeinstaubSensor(string name, string location, int partikelkonzentration, double temperatur)\n",
    "        : base(name, location, partikelkonzentration)\n",
    "    {\n",
    "        this.Temperatur = temperatur;\n",
    "    }\n",
    "\n",
    "    public override void DisplayInfo()\n",
    "    {\n",
    "        base.DisplayInfo(); // Ruft die DisplayInfo der Basisklasse FeinstaubSensor auf\n",
    "        Console.WriteLine($\"Temperatur: {Temperatur}°C.\");\n",
    "    }\n",
    "}\n",
    "\n",
    "class Program\n",
    "{\n",
    "    static void Main()\n",
    "    {\n",
    "        TemperaturFeinstaubSensor combinedSensor = new TemperaturFeinstaubSensor(\"Multi-Sensor\", \"Industriegebiet\", 40, 22.5);\n",
    "        combinedSensor.DisplayInfo();\n",
    "    }\n",
    "}"
   ]
  },
  {
   "cell_type": "markdown",
   "metadata": {},
   "source": [
    "In diesem Beispiel wird `base.DisplayInfo()` verwendet, um die Ausgabe der Basisklasse `FeinstaubSensor` zu ergänzen."
   ]
  }
 ],
 "metadata": {
  "kernelspec": {
   "display_name": ".NET (C#)",
   "language": "C#",
   "name": ".net-csharp"
  },
  "language_info": {
   "name": "python"
  },
  "polyglot_notebook": {
   "kernelInfo": {
    "defaultKernelName": "csharp",
    "items": [
     {
      "aliases": [],
      "name": "csharp"
     }
    ]
   }
  }
 },
 "nbformat": 4,
 "nbformat_minor": 2
}
