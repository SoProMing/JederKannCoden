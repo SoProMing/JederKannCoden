{
 "cells": [
  {
   "cell_type": "markdown",
   "metadata": {},
   "source": [
    "[Jeder kann coden](../../abstract/Contents.de.ipynb) / [Programmieren & TicTacToe](../../Programming_And_TicTacToe.de.ipynb) / [Objektorientierte Programmierung](../../Objectoriented_Programming.de.ipynb)\n",
    "\n",
    "# Grundlagen der objektorientierten Programmierung (OOP) in C#\n",
    "\n",
    "<table border=\"0\">\n",
    "  <tr>\n",
    "    <td>\n",
    "        <img src=\"CSharp_Basics.webp\">\n",
    "    </td>\n",
    "    <td rowspan=\"2\">\n",
    "        <a href=\"https://miro.com/app/board/o9J_lOJi2o0=/?moveToWidget=3458764554347680798&cot=14\"><img src=\"Radar_OOP.jpg\"></a>\n",
    "    </td>\n",
    "  </tr>\n",
    "  <tr>\n",
    "    <td>\n",
    "      <a href=\"https://learn.microsoft.com/de-de/dotnet/csharp/fundamentals/tutorials/oop\">Link zur Microsoft Dokumentation</a><br>\n",
    "      <a href=\"https://miro.com/app/board/o9J_lOJi2o0=/?moveToWidget=3458764554347680798&cot=14\">Link zum roten Faden auf Miro</a><br>\n",
    "      <a href=\"https://www.w3schools.com/cs/cs_oop.php\">Link zu Tutorial auf w3schools</a>\n",
    "    </td>\n",
    "  </tr>\n",
    "</table>\n",
    "\n",
    "Die objektorientierte Programmierung (OOP) in C# ermöglicht es, komplexe Systeme durch das Erstellen und Verwalten von Objekten zu modellieren, was auch in der Umweltinformatik hilfreich ist, um reale Entitäten wie Flüsse, Seen und andere Umweltkomponenten zu repräsentieren. C# verwendet dabei die Prinzipien Klassen und Objekte, Vererbung, Polymorphismus, Kapselung und Abstraktion. Im Folgenden wird jedes Prinzip ausführlich erklärt, und wir betrachten auch die Verwendung des Operators `new`, der eine Schlüsselrolle bei der Instanziierung von Objekten spielt.\n",
    "\n",
    "### Klassen und Objekte\n",
    "\n",
    "In der OOP werden **Klassen** als Baupläne für Objekte verwendet. Eine Klasse definiert Eigenschaften (Daten) und Methoden (Verhalten) von Objekten. **Objekte** sind Instanzen dieser Klassen, die mit konkreten Daten versehen sind.\n",
    "\n",
    "#### Beispiel:\n",
    "Angenommen, wir möchten einen Fluss in der Umweltinformatik modellieren. Dafür erstellen wir eine `Fluss`-Klasse mit Eigenschaften wie `Name`, `Laenge` und `Durchfluss`. "
   ]
  },
  {
   "cell_type": "code",
   "execution_count": 36,
   "metadata": {
    "dotnet_interactive": {
     "language": "csharp"
    },
    "polyglot_notebook": {
     "kernelName": "csharp"
    },
    "vscode": {
     "languageId": "polyglot-notebook"
    }
   },
   "outputs": [],
   "source": [
    "public class Fluss\n",
    "{\n",
    "    private string Name { get; set; } // Name des Flusses\n",
    "    private double Laenge { get; set; } // Länge in Kilometern\n",
    "    private double Durchfluss { get; set; } // Durchfluss in Kubikmeter pro Sekunde\n",
    "\n",
    "    public Fluss(string Name, double Laenge, double Durchfluss)\n",
    "    {\n",
    "        this.Name = Name;\n",
    "        this.Laenge = Laenge;\n",
    "        this.Durchfluss = Durchfluss;\n",
    "    }\n",
    "\n",
    "    public void FlussInformation()\n",
    "    {\n",
    "        Console.WriteLine($\"{Name} hat eine Länge von {Laenge / 1000} km und einen Durchfluss von {Durchfluss} m³/s.\");\n",
    "    }\n",
    "\n",
    "    public Fluss durchFlussÜberflutet( double zusätzlicherDurchfluss) {\n",
    "        Durchfluss += zusätzlicherDurchfluss;\n",
    "        return this;\n",
    "    }\n",
    "}"
   ]
  },
  {
   "cell_type": "markdown",
   "metadata": {},
   "source": [
    "#### Verwendung von `new`:\n",
    "Der Operator `new` wird verwendet, um eine Instanz der Klasse zu erstellen, also ein Objekt. Der Operator reserviert Speicherplatz und initialisiert das Objekt."
   ]
  },
  {
   "cell_type": "code",
   "execution_count": 35,
   "metadata": {
    "dotnet_interactive": {
     "language": "csharp"
    },
    "polyglot_notebook": {
     "kernelName": "csharp"
    },
    "vscode": {
     "languageId": "polyglot-notebook"
    }
   },
   "outputs": [
    {
     "name": "stdout",
     "output_type": "stream",
     "text": [
      "Rhein hat eine Länge von 1233 km und einen Durchfluss von 2900 m³/s.\n",
      "Rhein hat eine Länge von 1233 km und einen Durchfluss von 3400 m³/s.\n",
      "Rhein hat eine Länge von 1233 km und einen Durchfluss von 3400 m³/s.\n"
     ]
    }
   ],
   "source": [
    "Fluss fluss1 = new Fluss(\"Rhein\", 1233000, 2900);\n",
    "fluss1.FlussInformation();\n",
    "fluss1.durchFlussÜberflutet(500).FlussInformation();\n",
    "fluss1.FlussInformation();"
   ]
  },
  {
   "cell_type": "markdown",
   "metadata": {},
   "source": [
    "Hier erzeugt `new Fluss(...)` ein neues `Fluss`-Objekt und weist es der Variablen `rhein` zu. Dieses `rhein`-Objekt repräsentiert einen spezifischen Fluss und kann über die Methoden und Eigenschaften der Klasse angesprochen werden.\n",
    "\n",
    "#### Objekte anlegen und aufräumen\n",
    "\n",
    "<a href=\"https://miro.com/app/board/o9J_lOJi2o0=/?moveToWidget=3074457367127295133&cot=14\"><img src=\"Create_n_cleanup_objects.jpg\"/></a>\n",
    "\n",
    "### ≝ Definitionen\n",
    "\n",
    "#### Klasse\n",
    "   Eine Klasse ist ein Bauplan oder eine Vorlage für Objekte. Sie definiert die Eigenschaften (Felder) und das Verhalten (Methoden), die ein Objekt haben soll. \n",
    "\n",
    "   **Beispiel in C#:**\n",
    "   ```csharp\n",
    "   public class Auto\n",
    "   {\n",
    "       public string Marke { get; set; }\n",
    "       public void Fahren()\n",
    "       {\n",
    "           Console.WriteLine(\"Das Auto fährt.\");\n",
    "       }\n",
    "   }\n",
    "   ```\n",
    "\n",
    "#### Instanz\n",
    "   Eine Instanz ist ein konkretes Objekt, das auf Basis einer Klasse erstellt wurde. Sie ist eine \"reale Umsetzung\" der Klasse im Speicher.\n",
    "\n",
    "   **Beispiel in C#:**\n",
    "   ```csharp\n",
    "   Auto meinAuto = new Auto();\n",
    "   ```\n",
    "\n",
    "#### Instanziierung\n",
    "   Der Prozess des Erstellens einer Instanz aus einer Klasse. Dies geschieht mit dem `new`-Schlüsselwort in C#.\n",
    "\n",
    "   **Beispiel in C#:**\n",
    "   ```csharp\n",
    "   Auto meinAuto = new Auto(); // Instanziierung\n",
    "   ```\n",
    "\n",
    "#### Objekt\n",
    "   Ein Objekt ist eine konkrete Ausprägung einer Klasse. Es besitzt spezifische Werte für seine Eigenschaften und kann Methoden ausführen. Ein Objekt wird durch Instanziierung erzeugt.\n",
    "\n",
    "   **Beispiel in C#:**\n",
    "   ```csharp\n",
    "   Auto meinAuto = new Auto();\n",
    "   meinAuto.Marke = \"Tesla\";  // Objekt mit spezifischen Werten\n",
    "   meinAuto.Fahren();\n",
    "   ```\n",
    "\n",
    "Zusammengefasst:  \n",
    "- Eine **Klasse** ist die Vorlage.  \n",
    "- Eine **Instanz** ist eine konkrete Umsetzung der Klasse.  \n",
    "- Die **Instanziierung** ist der Vorgang, eine Instanz zu erzeugen.  \n",
    "- Ein **Objekt** ist das Ergebnis der Instanziierung, also die reale Umsetzung der Klasse.\n",
    "\n",
    "### `static`\n",
    "\n",
    "Das Schlüsselwort `static` in C# ist ein Modifier, der sich auf **Klassen, Methoden, Felder oder Eigenschaften** anwenden lässt. Es bedeutet, dass ein Mitglied oder eine Klasse zur **Klasse selbst** gehört und nicht zu einer **Instanz** der Klasse. Du hast bereits gelernt, dass du mit `new` Objekte erstellst. Objekte gehören zu einer Instanz der Klasse. `static` hingegen gehört direkt zur Klasse und benötigt keine Instanz.\n",
    "\n",
    "#### Unterschied zwischen `static` und Instanzbasiert\n",
    "\n",
    "- **Instanzbasiert**: Mit `new` erzeugst du eine Instanz, und die Instanz hat ihre eigenen Daten.\n",
    "- **Static**: Etwas, das `static` ist, gehört **allen Instanzen gemeinsam** oder nur der Klasse selbst.\n",
    "\n",
    "#### Wann verwendet man `static`?\n",
    "\n",
    "- Wenn ein Wert oder eine Funktion **unabhängig** von einer bestimmten Instanz sein soll.\n",
    "- Wenn du **globale** Funktionen oder Konstanten brauchst, die für das gesamte Programm gelten.\n",
    "\n",
    "#### Beispiel 1: `static` Feld"
   ]
  },
  {
   "cell_type": "code",
   "execution_count": null,
   "metadata": {
    "dotnet_interactive": {
     "language": "csharp"
    },
    "polyglot_notebook": {
     "kernelName": "csharp"
    },
    "vscode": {
     "languageId": "polyglot-notebook"
    }
   },
   "outputs": [
    {
     "name": "stdout",
     "output_type": "stream",
     "text": [
      "Temperatur überschreitet das Maximum!\n",
      "MaxTemperatur: 45\n",
      "Temperatur sensor1: 40\n",
      "Temperatur sensor2: 45\n"
     ]
    }
   ],
   "source": [
    "class UmweltDaten\n",
    "{\n",
    "    public static int MaxTemperatur = 50; // Gilt für alle Instanzen gleichermaßen\n",
    "    public int AktuelleTemperatur; // Instanzspezifisch\n",
    "\n",
    "    public void SetzeTemperatur(int temperatur)\n",
    "    {\n",
    "        if (temperatur > MaxTemperatur)\n",
    "        {\n",
    "            Console.WriteLine(\"Temperatur überschreitet das Maximum!\");\n",
    "            AktuelleTemperatur = MaxTemperatur;\n",
    "        }\n",
    "        else\n",
    "        {\n",
    "            AktuelleTemperatur = temperatur;\n",
    "        }\n",
    "    }\n",
    "}\n",
    "UmweltDaten.MaxTemperatur = 45; // Zugriff direkt über die Klasse\n",
    "\n",
    "UmweltDaten sensor1 = new UmweltDaten();\n",
    "UmweltDaten sensor2 = new UmweltDaten();\n",
    "\n",
    "sensor1.SetzeTemperatur(40);\n",
    "sensor2.SetzeTemperatur(50); // Gibt eine Warnung aus, da MaxTemperatur = 45\n",
    "\n",
    "Console.WriteLine($\"MaxTemperatur: {UmweltDaten.MaxTemperatur}\");\n",
    "Console.WriteLine($\"Temperatur sensor1: {sensor1.AktuelleTemperatur}\");\n",
    "Console.WriteLine($\"Temperatur sensor2: {sensor2.AktuelleTemperatur}\");\n",
    "Console.WriteLine($\"Temperatur sensor2: {sensor1.AktuelleTemperatur}\");"
   ]
  },
  {
   "cell_type": "markdown",
   "metadata": {},
   "source": [
    "#### Erklärung:\n",
    "1. `MaxTemperatur` ist `static`. Alle Instanzen der Klasse teilen sich diesen Wert.\n",
    "2. `AktuelleTemperatur` ist instanzspezifisch, jede Instanz hat einen eigenen Wert.\n",
    "\n",
    "#### Beispiel 2: `static` Methode\n",
    "Eine `static` Methode gehört direkt zur Klasse, nicht zur Instanz."
   ]
  },
  {
   "cell_type": "code",
   "execution_count": 2,
   "metadata": {
    "dotnet_interactive": {
     "language": "csharp"
    },
    "polyglot_notebook": {
     "kernelName": "csharp"
    },
    "vscode": {
     "languageId": "polyglot-notebook"
    }
   },
   "outputs": [
    {
     "name": "stdout",
     "output_type": "stream",
     "text": [
      "Ergebnis: 15\n"
     ]
    }
   ],
   "source": [
    "class MatheHelfer\n",
    "{\n",
    "    public static int Addiere(int a, int b)\n",
    "    {\n",
    "        return a + b;\n",
    "    }\n",
    "}\n",
    "\n",
    "int ergebnis = MatheHelfer.Addiere(5, 10); // Direkt über die Klasse aufrufen\n",
    "Console.WriteLine($\"Ergebnis: {ergebnis}\");\n"
   ]
  },
  {
   "cell_type": "markdown",
   "metadata": {},
   "source": [
    "#### Erklärung:\n",
    "- Du kannst `Addiere` direkt über `MatheHelfer` verwenden, ohne ein Objekt der Klasse zu erstellen.\n",
    "\n",
    "#### Einschränkungen von `static`\n",
    "1. `static` Methoden und Felder können **nicht auf Instanzmitglieder** zugreifen, da sie nicht wissen, welche Instanz sie verwenden sollen.\n",
    "2. Sie gehören **immer zur Klasse** und sind daher für alle gleich.\n",
    "\n",
    "#### `static` und nicht-`static`\n",
    "\n",
    "<a href=\"https://miro.com/app/board/o9J_lOJi2o0=/?moveToWidget=3458764516687486607&cot=14\"><img src=\"Static_n_not_static.jpg\"/></a>\n",
    "\n",
    "### Vererbung\n",
    "\n",
    "**Vererbung** ermöglicht es, von einer Basisklasse (Elternklasse) zu erben und eine abgeleitete Klasse (Kindklasse) zu erstellen, die zusätzliche oder spezialisierte Eigenschaften und Methoden hat. Das spart Wiederholungen im Code und hilft dabei, gemeinsame Eigenschaften in der Basisklasse zu definieren.\n",
    "\n",
    "#### Beispiel:\n",
    "Erstellen einer abgeleiteten Klasse `VerschmutzterFluss`, die von der Basisklasse `Fluss` erbt und eine zusätzliche Eigenschaft zur Schadstoffkonzentration hat."
   ]
  },
  {
   "cell_type": "code",
   "execution_count": 38,
   "metadata": {
    "dotnet_interactive": {
     "language": "csharp"
    },
    "polyglot_notebook": {
     "kernelName": "csharp"
    },
    "vscode": {
     "languageId": "polyglot-notebook"
    }
   },
   "outputs": [
    {
     "ename": "Error",
     "evalue": "(13,30): error CS0122: 'Der Zugriff auf \"Fluss.Name\" ist aufgrund des Schutzgrads nicht möglich.",
     "output_type": "error",
     "traceback": [
      "(13,30): error CS0122: 'Der Zugriff auf \"Fluss.Name\" ist aufgrund des Schutzgrads nicht möglich."
     ]
    }
   ],
   "source": [
    "public class VerschmutzterFluss : Fluss\n",
    "{\n",
    "    public double Schadstoffkonzentration { get; set; } // Schadstoffkonzentration in mg/L\n",
    "\n",
    "    public VerschmutzterFluss(string name, double laenge, double durchfluss, double schadstoffkonzentration)\n",
    "        : base(name, laenge, durchfluss)\n",
    "    {\n",
    "        Schadstoffkonzentration = schadstoffkonzentration;\n",
    "    }\n",
    "\n",
    "    public void VerschmutzungsInfo()\n",
    "    {\n",
    "        Console.WriteLine($\"{Name} hat eine Schadstoffkonzentration von {Schadstoffkonzentration} mg/L.\");\n",
    "    }\n",
    "}"
   ]
  },
  {
   "cell_type": "markdown",
   "metadata": {},
   "source": [
    "#### Verwendung von `new`:\n",
    "Auch hier wird `new` verwendet, um eine Instanz der abgeleiteten Klasse `VerschmutzterFluss` zu erstellen."
   ]
  },
  {
   "cell_type": "code",
   "execution_count": 4,
   "metadata": {
    "dotnet_interactive": {
     "language": "csharp"
    },
    "polyglot_notebook": {
     "kernelName": "csharp"
    },
    "vscode": {
     "languageId": "polyglot-notebook"
    }
   },
   "outputs": [
    {
     "name": "stdout",
     "output_type": "stream",
     "text": [
      "Main hat eine Länge von 524 km und einen Durchfluss von 200 m³/s.\n",
      "Main hat eine Schadstoffkonzentration von 3,5 mg/L.\n"
     ]
    }
   ],
   "source": [
    "VerschmutzterFluss main = new VerschmutzterFluss(\"Main\", 524, 200, 3.5);\n",
    "main.FlussInformation();\n",
    "main.VerschmutzungsInfo();"
   ]
  },
  {
   "cell_type": "markdown",
   "metadata": {},
   "source": [
    "### Polymorphismus\n",
    "\n",
    "**Polymorphismus** ermöglicht es, Objekte der abgeleiteten Klasse auf die gleiche Weise wie Objekte der Basisklasse zu behandeln. Es vereinfacht das Arbeiten mit mehreren Objekten, die sich zwar in Details unterscheiden, aber eine gemeinsame Schnittstelle oder Basisklasse haben.\n",
    "\n",
    "#### Beispiel:\n",
    "Eine Methode, die Informationen über verschiedene `Fluss`-Objekte (verschmutzt oder nicht) anzeigt, ohne die genaue Typzugehörigkeit zu kennen."
   ]
  },
  {
   "cell_type": "code",
   "execution_count": 37,
   "metadata": {
    "dotnet_interactive": {
     "language": "csharp"
    },
    "polyglot_notebook": {
     "kernelName": "csharp"
    },
    "vscode": {
     "languageId": "polyglot-notebook"
    }
   },
   "outputs": [
    {
     "ename": "Error",
     "evalue": "(4,18): error CS0246: Der Typ- oder Namespacename \"VerschmutzterFluss\" wurde nicht gefunden (möglicherweise fehlt eine using-Direktive oder ein Assemblyverweis).",
     "output_type": "error",
     "traceback": [
      "(4,18): error CS0246: Der Typ- oder Namespacename \"VerschmutzterFluss\" wurde nicht gefunden (möglicherweise fehlt eine using-Direktive oder ein Assemblyverweis)."
     ]
    }
   ],
   "source": [
    "public void ZeigeFlussInfo(Fluss fluss)\n",
    "{\n",
    "    fluss.FlussInformation();\n",
    "    if (fluss is VerschmutzterFluss verschmutzterFluss)\n",
    "    {\n",
    "        verschmutzterFluss.VerschmutzungsInfo();\n",
    "    }\n",
    "}"
   ]
  },
  {
   "cell_type": "markdown",
   "metadata": {},
   "source": [
    "#### Verwendung:\n",
    "Durch Polymorphismus können wir verschiedene Objekte, die die gleiche Basisklasse teilen, in derselben Methode verwenden."
   ]
  },
  {
   "cell_type": "code",
   "execution_count": 6,
   "metadata": {
    "dotnet_interactive": {
     "language": "csharp"
    },
    "polyglot_notebook": {
     "kernelName": "csharp"
    },
    "vscode": {
     "languageId": "polyglot-notebook"
    }
   },
   "outputs": [
    {
     "name": "stdout",
     "output_type": "stream",
     "text": [
      "Donau hat eine Länge von 2850 km und einen Durchfluss von 6500 m³/s.\n",
      "Elbe hat eine Länge von 1094 km und einen Durchfluss von 700 m³/s.\n",
      "Elbe hat eine Schadstoffkonzentration von 2,8 mg/L.\n"
     ]
    }
   ],
   "source": [
    "Fluss donau = new Fluss(\"Donau\", 2850, 6500);\n",
    "VerschmutzterFluss elbe = new VerschmutzterFluss(\"Elbe\", 1094, 700, 2.8);\n",
    "\n",
    "ZeigeFlussInfo(donau);\n",
    "ZeigeFlussInfo(elbe);"
   ]
  },
  {
   "cell_type": "markdown",
   "metadata": {},
   "source": [
    "### Kapselung\n",
    "\n",
    "**Kapselung** bedeutet, dass Daten und Methoden einer Klasse geschützt werden und nur über bestimmte Schnittstellen darauf zugegriffen werden kann. Das hilft, die Datenintegrität zu bewahren.\n",
    "\n",
    "#### Beispiel:\n",
    "Wir verhindern, dass die Schadstoffkonzentration eines `VerschmutzterFluss`-Objekts negativ sein kann."
   ]
  },
  {
   "cell_type": "code",
   "execution_count": 7,
   "metadata": {
    "dotnet_interactive": {
     "language": "csharp"
    },
    "polyglot_notebook": {
     "kernelName": "csharp"
    },
    "vscode": {
     "languageId": "polyglot-notebook"
    }
   },
   "outputs": [],
   "source": [
    "public class VerschmutzterFluss : Fluss\n",
    "{\n",
    "    private double schadstoffkonzentration;\n",
    "\n",
    "    public double Schadstoffkonzentration\n",
    "    {\n",
    "        get { return schadstoffkonzentration; }\n",
    "        set\n",
    "        {\n",
    "            if (value >= 0)\n",
    "                schadstoffkonzentration = value;\n",
    "            else\n",
    "                throw new ArgumentException(\"Schadstoffkonzentration muss positiv sein.\");\n",
    "        }\n",
    "    }\n",
    "\n",
    "    public VerschmutzterFluss(string name, double laenge, double durchfluss, double schadstoffkonzentration)\n",
    "        : base(name, laenge, durchfluss)\n",
    "    {\n",
    "        Schadstoffkonzentration = schadstoffkonzentration;\n",
    "    }\n",
    "}"
   ]
  },
  {
   "cell_type": "markdown",
   "metadata": {},
   "source": [
    "Die `Schadstoffkonzentration`-Eigenschaft wird über eine Zugriffsmethode geschützt, die sicherstellt, dass keine negativen Werte gesetzt werden können.\n",
    "\n",
    "### Abstraktion\n",
    "\n",
    "**Abstraktion** hilft dabei, nur die wichtigen Eigenschaften und Methoden einer Klasse freizugeben und unnötige Details auszublenden. Dadurch bleibt der Code übersichtlich und verständlich.\n",
    "\n",
    "#### Beispiel:\n",
    "Wir erstellen eine abstrakte Basisklasse `Gewaesser`, die die gemeinsamen Eigenschaften und Methoden aller Gewässer enthält."
   ]
  },
  {
   "cell_type": "code",
   "execution_count": 8,
   "metadata": {
    "dotnet_interactive": {
     "language": "csharp"
    },
    "polyglot_notebook": {
     "kernelName": "csharp"
    },
    "vscode": {
     "languageId": "polyglot-notebook"
    }
   },
   "outputs": [],
   "source": [
    "public abstract class Gewaesser\n",
    "{\n",
    "    public string Name { get; set; }\n",
    "    public abstract void ZeigeGewaesserInfo();\n",
    "}\n",
    "\n",
    "public class See : Gewaesser\n",
    "{\n",
    "    public double Flaeche { get; set; } // Fläche in Quadratkilometern\n",
    "\n",
    "    public See(string name, double flaeche)\n",
    "    {\n",
    "        Name = name;\n",
    "        Flaeche = flaeche;\n",
    "    }\n",
    "\n",
    "    public override void ZeigeGewaesserInfo()\n",
    "    {\n",
    "        Console.WriteLine($\"Der See {Name} hat eine Fläche von {Flaeche} km².\");\n",
    "    }\n",
    "}\n",
    "\n",
    "public class Fluss : Gewaesser\n",
    "{\n",
    "    public double Laenge { get; set; }\n",
    "\n",
    "    public Fluss(string name, double laenge)\n",
    "    {\n",
    "        Name = name;\n",
    "        Laenge = laenge;\n",
    "    }\n",
    "\n",
    "    public override void ZeigeGewaesserInfo()\n",
    "    {\n",
    "        Console.WriteLine($\"Der Fluss {Name} hat eine Länge von {Laenge} km.\");\n",
    "    }\n",
    "}"
   ]
  },
  {
   "cell_type": "markdown",
   "metadata": {},
   "source": [
    "#### Verwendung:\n",
    "Wir erstellen eine Liste von `Gewaesser`-Objekten, ohne uns um die Details jedes spezifischen Gewässers zu kümmern."
   ]
  },
  {
   "cell_type": "code",
   "execution_count": null,
   "metadata": {
    "dotnet_interactive": {
     "language": "csharp"
    },
    "polyglot_notebook": {
     "kernelName": "csharp"
    },
    "vscode": {
     "languageId": "polyglot-notebook"
    }
   },
   "outputs": [
    {
     "name": "stdout",
     "output_type": "stream",
     "text": [
      "Der See Bodensee hat eine Fläche von 536 km².\n",
      "Der Fluss Rhein hat eine Länge von 1233 km.\n"
     ]
    }
   ],
   "source": [
    "List<Gewaesser> gewaesserListe = new List<Gewaesser>\n",
    "{\n",
    "    new See(\"Bodensee\", 536),\n",
    "    new Fluss(\"Rhein\", 1233)\n",
    "};\n",
    "\n",
    "foreach (var gewaesser in gewaesserListe)\n",
    "{\n",
    "    gewaesser.ZeigeGewaesserInfo();\n",
    "}"
   ]
  },
  {
   "cell_type": "markdown",
   "metadata": {},
   "source": [
    "### Cheatsheet Klassen in C#\n",
    "\n",
    "<a href=\"https://miro.com/app/board/o9J_lOJi2o0=/?moveToWidget=3074457367103186951&cot=14\"><img src=\"Classes.jpg\"/></a>\n",
    "\n",
    "### Zusammenfassung\n",
    "\n",
    "In der OOP ermöglicht der `new`-Operator das Erstellen neuer Objekte und damit das Modellieren von Umweltkomponenten in der Softwareentwicklung. Klassen und Objekte, Vererbung, Polymorphismus, Kapselung und Abstraktion helfen, komplexe Systeme realistisch abzubilden und strukturierte, wartbare Software zu entwickeln."
   ]
  },
  {
   "cell_type": "markdown",
   "metadata": {},
   "source": [
    "[Objektorientierte Programmierung Samples](CSharp_Samples.de.ipynb) →"
   ]
  }
 ],
 "metadata": {
  "kernelspec": {
   "display_name": ".NET (C#)",
   "language": "C#",
   "name": ".net-csharp"
  },
  "language_info": {
   "name": "python"
  },
  "polyglot_notebook": {
   "kernelInfo": {
    "defaultKernelName": "csharp",
    "items": [
     {
      "aliases": [],
      "name": "csharp"
     }
    ]
   }
  }
 },
 "nbformat": 4,
 "nbformat_minor": 2
}
