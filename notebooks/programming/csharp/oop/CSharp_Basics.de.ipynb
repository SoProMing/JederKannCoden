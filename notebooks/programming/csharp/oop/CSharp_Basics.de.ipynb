{
 "cells": [
  {
   "cell_type": "markdown",
   "metadata": {},
   "source": [
    "[Jeder kann coden](../../abstract/Contents.de.ipynb) / [Programmieren & TicTacToe](../../Programming_And_TicTacToe.de.ipynb) / [Objektorientierte Programmierung](../../Objectoriented_Programming.de.ipynb)\n",
    "\n",
    "# Grundlagen der objektorientierten Programmierung (OOP) in C#\n",
    "\n",
    "<table border=\"0\">\n",
    "  <tr>\n",
    "    <td>\n",
    "        <img src=\"CSharp_Basics.webp\">\n",
    "    </td>\n",
    "    <td rowspan=\"2\">\n",
    "        <a href=\"https://miro.com/app/board/o9J_lOJi2o0=/?moveToWidget=3458764554347680798&cot=14\"><img src=\"Radar_OOP.jpg\"></a>\n",
    "    </td>\n",
    "  </tr>\n",
    "  <tr>\n",
    "    <td>\n",
    "      <a href=\"https://learn.microsoft.com/de-de/dotnet/csharp/fundamentals/tutorials/oop\">Link zur Microsoft Dokumentation</a><br>\n",
    "      <a href=\"https://miro.com/app/board/o9J_lOJi2o0=/?moveToWidget=3458764554347680798&cot=14\">Link zum roten Faden auf Miro</a><br>\n",
    "      <a href=\"https://www.w3schools.com/cs/cs_oop.php\">Link zu Tutorial auf w3schools</a>\n",
    "    </td>\n",
    "  </tr>\n",
    "</table>\n",
    "\n",
    "Die objektorientierte Programmierung (OOP) in C# ermöglicht es, komplexe Systeme durch das Erstellen und Verwalten von Objekten zu modellieren, was besonders in der Umweltinformatik hilfreich ist, um reale Entitäten wie Flüsse, Seen und andere Umweltkomponenten zu repräsentieren. C# verwendet dabei die Prinzipien Klassen und Objekte, Vererbung, Polymorphismus, Kapselung und Abstraktion. Im Folgenden wird jedes Prinzip ausführlich erklärt, und wir betrachten auch die Verwendung des Operators `new`, der eine Schlüsselrolle bei der Instanziierung von Objekten spielt.\n",
    "\n",
    "### 1. Klassen und Objekte\n",
    "\n",
    "In der OOP werden **Klassen** als Baupläne für Objekte verwendet. Eine Klasse definiert Eigenschaften (Daten) und Methoden (Verhalten) von Objekten. **Objekte** sind Instanzen dieser Klassen, die mit konkreten Daten versehen sind.\n",
    "\n",
    "#### Beispiel:\n",
    "Angenommen, wir möchten einen Fluss in der Umweltinformatik modellieren. Dafür erstellen wir eine `Fluss`-Klasse mit Eigenschaften wie `Name`, `Laenge` und `Durchfluss`. "
   ]
  },
  {
   "cell_type": "code",
   "execution_count": 11,
   "metadata": {
    "dotnet_interactive": {
     "language": "csharp"
    },
    "polyglot_notebook": {
     "kernelName": "csharp"
    },
    "vscode": {
     "languageId": "polyglot-notebook"
    }
   },
   "outputs": [],
   "source": [
    "public class Fluss\n",
    "{\n",
    "    public string Name { get; set; } // Name des Flusses\n",
    "    public double Laenge { get; set; } // Länge in Kilometern\n",
    "    public double Durchfluss { get; set; } // Durchfluss in Kubikmeter pro Sekunde\n",
    "\n",
    "    public Fluss(string name, double laenge, double durchfluss)\n",
    "    {\n",
    "        Name = name;\n",
    "        Laenge = laenge;\n",
    "        Durchfluss = durchfluss;\n",
    "    }\n",
    "\n",
    "    public void FlussInformation()\n",
    "    {\n",
    "        Console.WriteLine($\"{Name} hat eine Länge von {Laenge} km und einen Durchfluss von {Durchfluss} m³/s.\");\n",
    "    }\n",
    "}"
   ]
  },
  {
   "cell_type": "markdown",
   "metadata": {},
   "source": [
    "#### Verwendung von `new`:\n",
    "Der Operator `new` wird verwendet, um eine Instanz der Klasse zu erstellen, also ein Objekt. Der Operator reserviert Speicherplatz und initialisiert das Objekt."
   ]
  },
  {
   "cell_type": "code",
   "execution_count": 13,
   "metadata": {
    "dotnet_interactive": {
     "language": "csharp"
    },
    "polyglot_notebook": {
     "kernelName": "csharp"
    },
    "vscode": {
     "languageId": "polyglot-notebook"
    }
   },
   "outputs": [
    {
     "name": "stdout",
     "output_type": "stream",
     "text": [
      "Rhein hat eine Länge von 1233 km und einen Durchfluss von 2900 m³/s.\n"
     ]
    }
   ],
   "source": [
    "Fluss rhein = new Fluss(\"Rhein\", 1233, 2900);\n",
    "rhein.FlussInformation();"
   ]
  },
  {
   "cell_type": "markdown",
   "metadata": {},
   "source": [
    "Hier erzeugt `new Fluss(...)` ein neues `Fluss`-Objekt und weist es der Variablen `rhein` zu. Dieses `rhein`-Objekt repräsentiert einen spezifischen Fluss und kann über die Methoden und Eigenschaften der Klasse angesprochen werden.\n",
    "\n",
    "### 2. Vererbung\n",
    "\n",
    "**Vererbung** ermöglicht es, von einer Basisklasse (Elternklasse) zu erben und eine abgeleitete Klasse (Kindklasse) zu erstellen, die zusätzliche oder spezialisierte Eigenschaften und Methoden hat. Das spart Wiederholungen im Code und hilft dabei, gemeinsame Eigenschaften in der Basisklasse zu definieren.\n",
    "\n",
    "#### Beispiel:\n",
    "Erstellen einer abgeleiteten Klasse `VerschmutzterFluss`, die von der Basisklasse `Fluss` erbt und eine zusätzliche Eigenschaft zur Schadstoffkonzentration hat."
   ]
  },
  {
   "cell_type": "code",
   "execution_count": 3,
   "metadata": {
    "dotnet_interactive": {
     "language": "csharp"
    },
    "polyglot_notebook": {
     "kernelName": "csharp"
    },
    "vscode": {
     "languageId": "polyglot-notebook"
    }
   },
   "outputs": [],
   "source": [
    "public class VerschmutzterFluss : Fluss\n",
    "{\n",
    "    public double Schadstoffkonzentration { get; set; } // Schadstoffkonzentration in mg/L\n",
    "\n",
    "    public VerschmutzterFluss(string name, double laenge, double durchfluss, double schadstoffkonzentration)\n",
    "        : base(name, laenge, durchfluss)\n",
    "    {\n",
    "        Schadstoffkonzentration = schadstoffkonzentration;\n",
    "    }\n",
    "\n",
    "    public void VerschmutzungsInfo()\n",
    "    {\n",
    "        Console.WriteLine($\"{Name} hat eine Schadstoffkonzentration von {Schadstoffkonzentration} mg/L.\");\n",
    "    }\n",
    "}"
   ]
  },
  {
   "cell_type": "markdown",
   "metadata": {},
   "source": [
    "#### Verwendung von `new`:\n",
    "Auch hier wird `new` verwendet, um eine Instanz der abgeleiteten Klasse `VerschmutzterFluss` zu erstellen."
   ]
  },
  {
   "cell_type": "code",
   "execution_count": 4,
   "metadata": {
    "dotnet_interactive": {
     "language": "csharp"
    },
    "polyglot_notebook": {
     "kernelName": "csharp"
    },
    "vscode": {
     "languageId": "polyglot-notebook"
    }
   },
   "outputs": [
    {
     "name": "stdout",
     "output_type": "stream",
     "text": [
      "Main hat eine Länge von 524 km und einen Durchfluss von 200 m³/s.\n",
      "Main hat eine Schadstoffkonzentration von 3,5 mg/L.\n"
     ]
    }
   ],
   "source": [
    "VerschmutzterFluss main = new VerschmutzterFluss(\"Main\", 524, 200, 3.5);\n",
    "main.FlussInformation();\n",
    "main.VerschmutzungsInfo();"
   ]
  },
  {
   "cell_type": "markdown",
   "metadata": {},
   "source": [
    "### 3. Polymorphismus\n",
    "\n",
    "**Polymorphismus** ermöglicht es, Objekte der abgeleiteten Klasse auf die gleiche Weise wie Objekte der Basisklasse zu behandeln. Es vereinfacht das Arbeiten mit mehreren Objekten, die sich zwar in Details unterscheiden, aber eine gemeinsame Schnittstelle oder Basisklasse haben.\n",
    "\n",
    "#### Beispiel:\n",
    "Eine Methode, die Informationen über verschiedene `Fluss`-Objekte (verschmutzt oder nicht) anzeigt, ohne die genaue Typzugehörigkeit zu kennen."
   ]
  },
  {
   "cell_type": "code",
   "execution_count": 5,
   "metadata": {
    "dotnet_interactive": {
     "language": "csharp"
    },
    "polyglot_notebook": {
     "kernelName": "csharp"
    },
    "vscode": {
     "languageId": "polyglot-notebook"
    }
   },
   "outputs": [],
   "source": [
    "public void ZeigeFlussInfo(Fluss fluss)\n",
    "{\n",
    "    fluss.FlussInformation();\n",
    "    if (fluss is VerschmutzterFluss verschmutzterFluss)\n",
    "    {\n",
    "        verschmutzterFluss.VerschmutzungsInfo();\n",
    "    }\n",
    "}"
   ]
  },
  {
   "cell_type": "markdown",
   "metadata": {},
   "source": [
    "#### Verwendung:\n",
    "Durch Polymorphismus können wir verschiedene Objekte, die die gleiche Basisklasse teilen, in derselben Methode verwenden."
   ]
  },
  {
   "cell_type": "code",
   "execution_count": 6,
   "metadata": {
    "dotnet_interactive": {
     "language": "csharp"
    },
    "polyglot_notebook": {
     "kernelName": "csharp"
    },
    "vscode": {
     "languageId": "polyglot-notebook"
    }
   },
   "outputs": [
    {
     "name": "stdout",
     "output_type": "stream",
     "text": [
      "Donau hat eine Länge von 2850 km und einen Durchfluss von 6500 m³/s.\n",
      "Elbe hat eine Länge von 1094 km und einen Durchfluss von 700 m³/s.\n",
      "Elbe hat eine Schadstoffkonzentration von 2,8 mg/L.\n"
     ]
    }
   ],
   "source": [
    "Fluss donau = new Fluss(\"Donau\", 2850, 6500);\n",
    "VerschmutzterFluss elbe = new VerschmutzterFluss(\"Elbe\", 1094, 700, 2.8);\n",
    "\n",
    "ZeigeFlussInfo(donau);\n",
    "ZeigeFlussInfo(elbe);"
   ]
  },
  {
   "cell_type": "markdown",
   "metadata": {},
   "source": [
    "### 4. Kapselung\n",
    "\n",
    "**Kapselung** bedeutet, dass Daten und Methoden einer Klasse geschützt werden und nur über bestimmte Schnittstellen darauf zugegriffen werden kann. Das hilft, die Datenintegrität zu bewahren.\n",
    "\n",
    "#### Beispiel:\n",
    "Wir verhindern, dass die Schadstoffkonzentration eines `VerschmutzterFluss`-Objekts negativ sein kann."
   ]
  },
  {
   "cell_type": "code",
   "execution_count": 7,
   "metadata": {
    "dotnet_interactive": {
     "language": "csharp"
    },
    "polyglot_notebook": {
     "kernelName": "csharp"
    },
    "vscode": {
     "languageId": "polyglot-notebook"
    }
   },
   "outputs": [],
   "source": [
    "public class VerschmutzterFluss : Fluss\n",
    "{\n",
    "    private double schadstoffkonzentration;\n",
    "\n",
    "    public double Schadstoffkonzentration\n",
    "    {\n",
    "        get { return schadstoffkonzentration; }\n",
    "        set\n",
    "        {\n",
    "            if (value >= 0)\n",
    "                schadstoffkonzentration = value;\n",
    "            else\n",
    "                throw new ArgumentException(\"Schadstoffkonzentration muss positiv sein.\");\n",
    "        }\n",
    "    }\n",
    "\n",
    "    public VerschmutzterFluss(string name, double laenge, double durchfluss, double schadstoffkonzentration)\n",
    "        : base(name, laenge, durchfluss)\n",
    "    {\n",
    "        Schadstoffkonzentration = schadstoffkonzentration;\n",
    "    }\n",
    "}"
   ]
  },
  {
   "cell_type": "markdown",
   "metadata": {},
   "source": [
    "Die `Schadstoffkonzentration`-Eigenschaft wird über eine Zugriffsmethode geschützt, die sicherstellt, dass keine negativen Werte gesetzt werden können.\n",
    "\n",
    "### 5. Abstraktion\n",
    "\n",
    "**Abstraktion** hilft dabei, nur die wichtigen Eigenschaften und Methoden einer Klasse freizugeben und unnötige Details auszublenden. Dadurch bleibt der Code übersichtlich und verständlich.\n",
    "\n",
    "#### Beispiel:\n",
    "Wir erstellen eine abstrakte Basisklasse `Gewaesser`, die die gemeinsamen Eigenschaften und Methoden aller Gewässer enthält."
   ]
  },
  {
   "cell_type": "code",
   "execution_count": 8,
   "metadata": {
    "dotnet_interactive": {
     "language": "csharp"
    },
    "polyglot_notebook": {
     "kernelName": "csharp"
    },
    "vscode": {
     "languageId": "polyglot-notebook"
    }
   },
   "outputs": [],
   "source": [
    "public abstract class Gewaesser\n",
    "{\n",
    "    public string Name { get; set; }\n",
    "    public abstract void ZeigeGewaesserInfo();\n",
    "}\n",
    "\n",
    "public class See : Gewaesser\n",
    "{\n",
    "    public double Flaeche { get; set; } // Fläche in Quadratkilometern\n",
    "\n",
    "    public See(string name, double flaeche)\n",
    "    {\n",
    "        Name = name;\n",
    "        Flaeche = flaeche;\n",
    "    }\n",
    "\n",
    "    public override void ZeigeGewaesserInfo()\n",
    "    {\n",
    "        Console.WriteLine($\"Der See {Name} hat eine Fläche von {Flaeche} km².\");\n",
    "    }\n",
    "}\n",
    "\n",
    "public class Fluss : Gewaesser\n",
    "{\n",
    "    public double Laenge { get; set; }\n",
    "\n",
    "    public Fluss(string name, double laenge)\n",
    "    {\n",
    "        Name = name;\n",
    "        Laenge = laenge;\n",
    "    }\n",
    "\n",
    "    public override void ZeigeGewaesserInfo()\n",
    "    {\n",
    "        Console.WriteLine($\"Der Fluss {Name} hat eine Länge von {Laenge} km.\");\n",
    "    }\n",
    "}"
   ]
  },
  {
   "cell_type": "markdown",
   "metadata": {},
   "source": [
    "#### Verwendung:\n",
    "Wir erstellen eine Liste von `Gewaesser`-Objekten, ohne uns um die Details jedes spezifischen Gewässers zu kümmern."
   ]
  },
  {
   "cell_type": "code",
   "execution_count": 9,
   "metadata": {
    "dotnet_interactive": {
     "language": "csharp"
    },
    "polyglot_notebook": {
     "kernelName": "csharp"
    },
    "vscode": {
     "languageId": "polyglot-notebook"
    }
   },
   "outputs": [
    {
     "name": "stdout",
     "output_type": "stream",
     "text": [
      "Der See Bodensee hat eine Fläche von 536 km².\n",
      "Der Fluss Rhein hat eine Länge von 1233 km.\n"
     ]
    }
   ],
   "source": [
    "List<Gewaesser> gewaesserListe = new List<Gewaesser>\n",
    "{\n",
    "    new See(\"Bodensee\", 536),\n",
    "    new Fluss(\"Rhein\", 1233)\n",
    "};\n",
    "\n",
    "foreach (var gewaesser in gewaesserListe)\n",
    "{\n",
    "    gewaesser.ZeigeGewaesserInfo();\n",
    "}"
   ]
  },
  {
   "cell_type": "markdown",
   "metadata": {},
   "source": [
    "### Zusammenfassung\n",
    "\n",
    "In der OOP ermöglicht der `new`-Operator das Erstellen neuer Objekte und damit das Modellieren von Umweltkomponenten in der Softwareentwicklung. Klassen und Objekte, Vererbung, Polymorphismus, Kapselung und Abstraktion helfen, komplexe Systeme realistisch abzubilden und strukturierte, wartbare Software zu entwickeln."
   ]
  },
  {
   "cell_type": "markdown",
   "metadata": {},
   "source": [
    "[Objektorientierte Programmierung Samples](CSharp_Samples.de.ipynb) →"
   ]
  }
 ],
 "metadata": {
  "kernelspec": {
   "display_name": ".NET (C#)",
   "language": "C#",
   "name": ".net-csharp"
  },
  "language_info": {
   "name": "python"
  },
  "polyglot_notebook": {
   "kernelInfo": {
    "defaultKernelName": "csharp",
    "items": [
     {
      "aliases": [],
      "name": "csharp"
     }
    ]
   }
  }
 },
 "nbformat": 4,
 "nbformat_minor": 2
}
