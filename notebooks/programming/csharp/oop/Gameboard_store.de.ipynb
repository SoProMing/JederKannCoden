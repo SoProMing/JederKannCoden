{
 "cells": [
  {
   "cell_type": "markdown",
   "metadata": {},
   "source": [
    "[Jeder kann coden](../../abstract/Contents.de.ipynb) / [Programmieren & TicTacToe](../../Programming_And_TicTacToe.de.ipynb) / [Objektorientierte Programmierung](../../Objectoriented_Programming.de.ipynb) / [Objektorientierte Programmierung in C#](CSharp_Basics.de.ipynb)\n",
    "\n",
    "# Beispiel: Spielfeldmanagement in C#\n",
    "\n",
    "<table border=\"0\">\n",
    "  <tr>\n",
    "    <td>\n",
    "        <img src=\"Gameboard_store.webp\">\n",
    "    </td>\n",
    "    <td rowspan=\"2\">\n",
    "        <a href=\"https://miro.com/app/board/o9J_lOJi2o0=/?moveToWidget=3458764554347680798&cot=14\"><img src=\"../framework/Radar_Files.jpg\"></a>\n",
    "    </td>\n",
    "  </tr>\n",
    "  <tr>\n",
    "    <td>\n",
    "      <a href=\"https://learn.microsoft.com/de-de/dotnet/csharp/programming-guide/interfaces/\" target=\"_blank\">Interfaces in C# – Microsoft Docs</a><br>\n",
    "      <a href=\"https://learn.microsoft.com/de-de/dotnet/csharp/programming-guide/exceptions/\" target=\"_blank\">Exception Handling in C# – Microsoft Docs</a><br>\n",
    "      <a href=\"https://learn.microsoft.com/de-de/dotnet/standard/io/\" target=\"_blank\">Datei- und Datenstrom-E/A – Microsoft Docs</a><br>\n",
    "      <a href=\"https://learn.microsoft.com/de-de/dotnet/csharp/programming-guide/classes-and-structs/abstract-and-sealed-classes-and-class-members\" target=\"_blank\">Abstrakte Klassen und Methoden – Microsoft Docs</a><br>\n",
    "      <a href=\"https://learn.microsoft.com/de-de/dotnet/csharp/language-reference/keywords/using-statement\" target=\"_blank\">Das using-Statement in C# – Microsoft Docs</a><br>\n",
    "      <a href=\"https://stackoverflow.com/questions/273141/what-is-the-difference-between-an-interface-and-abstract-class\" target=\"_blank\">Unterschied zwischen Interface und abstrakter Klasse – Stack Overflow</a><br>\n",
    "      <a href=\"https://dotnettutorials.net/lesson/exception-handling-csharp/\" target=\"_blank\">Exception Handling in C# – DotNet Tutorials</a><br>\n",
    "      <a href=\"https://www.c-sharpcorner.com/article/working-with-files-and-directories-in-C-Sharp/\" target=\"_blank\">Arbeiten mit Dateien und Verzeichnissen in C# – C# Corner</a>\n",
    "    </td>\n",
    "  </tr>\n",
    "</table>\n",
    "\n",
    "### Spielstände speichern und laden mit Interfaces und Exception Handling\n",
    "\n",
    "#### Einführung\n",
    "In der Softwareentwicklung sind Wiederverwendbarkeit und Robustheit entscheidende Eigenschaften gut gestalteter Anwendungen. In diesem Artikel zeigen wir, wie man in C# ein Spielfeld für ein Spiel modelliert, das Spielstände speichern und laden kann. Dabei setzen wir auf bewährte Praktiken wie die Verwendung von Interfaces, abstrakten Klassen und Exception Handling.\n",
    "\n",
    "#### Zielsetzung\n",
    "Unsere Aufgabe ist es, eine Klasse `Spielfeld` zu entwickeln, die Folgendes kann:\n",
    "- Spielstände in eine Datei speichern und daraus laden.\n",
    "- Fehler (z. B. beim Dateizugriff oder bei ungültigem Dateiformat) robust behandeln.\n",
    "- Wiederverwendbare Funktionalität durch Interfaces und Vererbung anbieten.\n",
    "\n",
    "#### Modellierung des Spielfelds\n",
    "Ein Spielfeld besteht aus Zellen, die jeweils einen Spielstein enthalten. Die Klasse `Spielstein` hat eine Eigenschaft `Wert`, die den Zustand einer Zelle beschreibt."
   ]
  },
  {
   "cell_type": "code",
   "execution_count": 1,
   "metadata": {
    "dotnet_interactive": {
     "language": "csharp"
    },
    "polyglot_notebook": {
     "kernelName": "csharp"
    },
    "vscode": {
     "languageId": "polyglot-notebook"
    }
   },
   "outputs": [],
   "source": [
    "internal class Spielstein\n",
    "{\n",
    "    public string Wert { get; set; }\n",
    "}"
   ]
  },
  {
   "cell_type": "markdown",
   "metadata": {},
   "source": [
    "Das Spielfeld selbst wird durch ein zweidimensionales Array von `Spielstein`-Objekten dargestellt:"
   ]
  },
  {
   "cell_type": "code",
   "execution_count": 2,
   "metadata": {
    "dotnet_interactive": {
     "language": "csharp"
    },
    "polyglot_notebook": {
     "kernelName": "csharp"
    },
    "vscode": {
     "languageId": "polyglot-notebook"
    }
   },
   "outputs": [],
   "source": [
    "internal class Spielfeld\n",
    "{\n",
    "    private Spielstein[,] data;\n",
    "\n",
    "    public Spielfeld(int zeilen, int spalten)\n",
    "    {\n",
    "        data = new Spielstein[zeilen, spalten];\n",
    "        // Initialisiere Spielfeld mit leeren Spielsteinen\n",
    "        for (int i = 0; i < zeilen; i++)\n",
    "        {\n",
    "            for (int j = 0; j < spalten; j++)\n",
    "            {\n",
    "                data[i, j] = new Spielstein { Wert = \"-\" };\n",
    "            }\n",
    "        }\n",
    "    }\n",
    "}"
   ]
  },
  {
   "cell_type": "markdown",
   "metadata": {},
   "source": [
    "#### Interfaces und Abstrakte Klassen\n",
    "Um die Funktionalität flexibel und erweiterbar zu halten, nutzen wir das Interface `ISpielstandSpeicher`. Es definiert zwei Methoden: `Speichern` und `Laden`."
   ]
  },
  {
   "cell_type": "code",
   "execution_count": 3,
   "metadata": {
    "dotnet_interactive": {
     "language": "csharp"
    },
    "polyglot_notebook": {
     "kernelName": "csharp"
    },
    "vscode": {
     "languageId": "polyglot-notebook"
    }
   },
   "outputs": [],
   "source": [
    "internal interface ISpielstandSpeicher\n",
    "{\n",
    "    void Speichern(string dateipfad);\n",
    "    void Laden(string dateipfad);\n",
    "}"
   ]
  },
  {
   "cell_type": "markdown",
   "metadata": {},
   "source": [
    "Die abstrakte Klasse `SpielfeldSpeicher` implementiert grundlegendes Exception Handling. Dadurch können konkrete Spielfeldklassen sich auf die Kernlogik konzentrieren."
   ]
  },
  {
   "cell_type": "code",
   "execution_count": 6,
   "metadata": {
    "dotnet_interactive": {
     "language": "csharp"
    },
    "polyglot_notebook": {
     "kernelName": "csharp"
    },
    "vscode": {
     "languageId": "polyglot-notebook"
    }
   },
   "outputs": [],
   "source": [
    "using System;\n",
    "using System.IO;\n",
    "\n",
    "internal abstract class SpielfeldSpeicher : ISpielstandSpeicher\n",
    "{\n",
    "    public abstract void Speichern(string dateipfad);\n",
    "    public abstract void Laden(string dateipfad);\n",
    "\n",
    "    protected void FehlerAusgabe(Exception ex)\n",
    "    {\n",
    "        switch (ex)\n",
    "        {\n",
    "            case IOException ioEx:\n",
    "                Console.WriteLine(\"Fehler beim Zugriff auf die Datei: \" + ioEx.Message);\n",
    "                break;\n",
    "            case UnauthorizedAccessException uaEx:\n",
    "                Console.WriteLine(\"Zugriff verweigert: \" + uaEx.Message);\n",
    "                break;\n",
    "            case FormatException fmtEx:\n",
    "                Console.WriteLine(\"Ungültiges Dateiformat: \" + fmtEx.Message);\n",
    "                break;\n",
    "            default:\n",
    "                Console.WriteLine(\"Ein allgemeiner Fehler ist aufgetreten: \" + ex.Message);\n",
    "                break;\n",
    "        }\n",
    "    }\n",
    "}"
   ]
  },
  {
   "cell_type": "markdown",
   "metadata": {},
   "source": [
    "#### Die Spielfeld-Klasse\n",
    "Die konkrete Klasse `Spielfeld` erbt von `SpielfeldSpeicher`. Die Methoden `Speichern` und `Laden` implementieren die Kernlogik. Mithilfe von `using`-Blöcken stellen wir sicher, dass Ressourcen (z. B. Datei-Handles) korrekt freigegeben werden."
   ]
  },
  {
   "cell_type": "code",
   "execution_count": 7,
   "metadata": {
    "dotnet_interactive": {
     "language": "csharp"
    },
    "polyglot_notebook": {
     "kernelName": "csharp"
    },
    "vscode": {
     "languageId": "polyglot-notebook"
    }
   },
   "outputs": [],
   "source": [
    "internal class Spielfeld : SpielfeldSpeicher\n",
    "{\n",
    "    private Spielstein[,] data;\n",
    "\n",
    "    public Spielfeld(int zeilen, int spalten)\n",
    "    {\n",
    "        data = new Spielstein[zeilen, spalten];\n",
    "        for (int i = 0; i < zeilen; i++)\n",
    "        {\n",
    "            for (int j = 0; j < spalten; j++)\n",
    "            {\n",
    "                data[i, j] = new Spielstein { Wert = \"-\" };\n",
    "            }\n",
    "        }\n",
    "    }\n",
    "\n",
    "    public override void Speichern(string dateipfad)\n",
    "    {\n",
    "        try\n",
    "        {\n",
    "            using (StreamWriter writer = new StreamWriter(dateipfad))\n",
    "            {\n",
    "                for (int i = 0; i < data.GetLength(0); i++)\n",
    "                {\n",
    "                    for (int j = 0; j < data.GetLength(1); j++)\n",
    "                    {\n",
    "                        writer.Write(data[i, j].Wert + \" \");\n",
    "                    }\n",
    "                    writer.WriteLine();\n",
    "                }\n",
    "            }\n",
    "            Console.WriteLine(\"Spielstand erfolgreich gespeichert.\");\n",
    "        }\n",
    "        catch (Exception ex)\n",
    "        {\n",
    "            FehlerAusgabe(ex);\n",
    "        }\n",
    "    }\n",
    "\n",
    "    public override void Laden(string dateipfad)\n",
    "    {\n",
    "        try\n",
    "        {\n",
    "            using (StreamReader reader = new StreamReader(dateipfad))\n",
    "            {\n",
    "                for (int i = 0; i < data.GetLength(0); i++)\n",
    "                {\n",
    "                    string? zeile = reader.ReadLine();\n",
    "                    if (zeile == null)\n",
    "                    {\n",
    "                        throw new FormatException(\"Ungültiges Dateiformat: Eine Zeile fehlt.\");\n",
    "                    }\n",
    "\n",
    "                    string[] werte = zeile.Split(' ', StringSplitOptions.RemoveEmptyEntries);\n",
    "                    if (werte.Length != data.GetLength(1))\n",
    "                    {\n",
    "                        throw new FormatException(\"Ungültiges Dateiformat: Falsche Anzahl an Werten in einer Zeile.\");\n",
    "                    }\n",
    "\n",
    "                    for (int j = 0; j < data.GetLength(1); j++)\n",
    "                    {\n",
    "                        data[i, j].Wert = werte[j];\n",
    "                    }\n",
    "                }\n",
    "            }\n",
    "            Console.WriteLine(\"Spielstand erfolgreich geladen.\");\n",
    "        }\n",
    "        catch (Exception ex)\n",
    "        {\n",
    "            FehlerAusgabe(ex);\n",
    "        }\n",
    "    }\n",
    "\n",
    "    public void AusgabeSpielfeld()\n",
    "    {\n",
    "        for (int i = 0; i < data.GetLength(0); i++)\n",
    "        {\n",
    "            for (int j = 0; j < data.GetLength(1); j++)\n",
    "            {\n",
    "                Console.Write(data[i, j].Wert + \" \");\n",
    "            }\n",
    "            Console.WriteLine();\n",
    "        }\n",
    "    }\n",
    "}"
   ]
  },
  {
   "cell_type": "markdown",
   "metadata": {},
   "source": [
    "#### Beispielnutzung\n",
    "In der `Main`-Methode erstellen wir ein Spielfeld, speichern den Spielstand in eine Datei und laden ihn anschließend wieder."
   ]
  },
  {
   "cell_type": "code",
   "execution_count": 8,
   "metadata": {
    "dotnet_interactive": {
     "language": "csharp"
    },
    "polyglot_notebook": {
     "kernelName": "csharp"
    },
    "vscode": {
     "languageId": "polyglot-notebook"
    }
   },
   "outputs": [
    {
     "name": "stdout",
     "output_type": "stream",
     "text": [
      "- - - \n",
      "- - - \n",
      "- - - \n",
      "Speichern des Spielstands...\n",
      "Spielstand erfolgreich gespeichert.\n",
      "Laden des Spielstands...\n",
      "Spielstand erfolgreich geladen.\n",
      "- - - \n",
      "- - - \n",
      "- - - \n"
     ]
    }
   ],
   "source": [
    "Spielfeld spielfeld = new Spielfeld(3, 3);\n",
    "spielfeld.AusgabeSpielfeld();\n",
    "\n",
    "Console.WriteLine(\"Speichern des Spielstands...\");\n",
    "spielfeld.Speichern(\"spielstand.txt\");\n",
    "\n",
    "Console.WriteLine(\"Laden des Spielstands...\");\n",
    "spielfeld.Laden(\"spielstand.txt\");\n",
    "\n",
    "spielfeld.AusgabeSpielfeld();"
   ]
  },
  {
   "cell_type": "markdown",
   "metadata": {},
   "source": [
    "#### Fazit\n",
    "Mit diesem Ansatz kombinieren wir bewährte Programmierpraktiken:\n",
    "- **Wiederverwendbarkeit** durch Interfaces und abstrakte Klassen.\n",
    "- **Robustheit** durch detailliertes Exception Handling.\n",
    "- **Lesbarkeit** durch die Verwendung von `using`.\n",
    "\n",
    "Das Ergebnis ist ein flexibles System, das leicht erweiterbar ist und zugleich eine saubere Fehlerbehandlung gewährleistet."
   ]
  }
 ],
 "metadata": {
  "kernelspec": {
   "display_name": ".NET (C#)",
   "language": "C#",
   "name": ".net-csharp"
  },
  "language_info": {
   "name": "python"
  },
  "polyglot_notebook": {
   "kernelInfo": {
    "defaultKernelName": "csharp",
    "items": [
     {
      "aliases": [],
      "name": "csharp"
     }
    ]
   }
  }
 },
 "nbformat": 4,
 "nbformat_minor": 2
}
