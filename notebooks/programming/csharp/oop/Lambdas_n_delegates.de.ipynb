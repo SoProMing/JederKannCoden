{
 "cells": [
  {
   "cell_type": "markdown",
   "metadata": {},
   "source": [
    "[Jeder kann coden](../../abstract/Contents.de.ipynb) / [Programmieren & TicTacToe](../../Programming_And_TicTacToe.de.ipynb) / [Objektorientierte Programmierung](../../Objectoriented_Programming.de.ipynb) / [Objektorientierte Programmierung in C#](CSharp_Basics.de.ipynb)\n",
    "\n",
    "# Lambda-Ausdrücke und Delegaten\n",
    "\n",
    "<table border=\"0\">\n",
    "  <tr>\n",
    "    <td>\n",
    "        <img src=\"Lambda_n_Delegate.jpeg\">\n",
    "    </td>\n",
    "    <td rowspan=\"2\">\n",
    "        <a href=\"https://miro.com/app/board/o9J_lOJi2o0=/?moveToWidget=3458764554347680798&cot=14\"><img src=\"Radar_Lambda_n_Delegate.jpg\"></a>\n",
    "    </td>\n",
    "  </tr>\n",
    "  <tr>\n",
    "    <td>\n",
    "      <a href=\"https://learn.microsoft.com/de-de/dotnet/csharp/programming-guide/statements-expressions-operators/lambda-expressions\">Lambda-Ausdrücke – Microsoft Docs</a><br>\n",
    "      <a href=\"https://learn.microsoft.com/de-de/dotnet/csharp/programming-guide/delegates/\">Delegaten – Microsoft Docs</a><br>\n",
    "      <a href=\"https://learn.microsoft.com/de-de/dotnet/csharp/language-reference/operators/lambda-operator\">Lambda-Operator – Microsoft Docs</a><br>\n",
    "      <a href=\"https://learn.microsoft.com/de-de/dotnet/standard/delegates-lambdas\">Delegates & Lambdas – .NET Standard</a><br>\n",
    "      <a href=\"https://learn.microsoft.com/de-de/dotnet/csharp/language-reference/keywords/delegate\">delegate Schlüsselwort – Microsoft Docs</a><br>\n",
    "      <a href=\"https://learn.microsoft.com/de-de/dotnet/csharp/fundamentals/functional/delegates\">Funktionale Programmierung mit Delegates</a><br>\n",
    "      <a href=\"https://www.c-sharpcorner.com/UploadFile/0c1bb2/delegates-in-C-Sharp/\">Delegates in C# – C# Corner</a><br>\n",
    "      <a href=\"https://www.tutorialsteacher.com/csharp/csharp-delegates\">C# Delegates – TutorialsTeacher</a><br>\n",
    "      <a href=\"https://www.tutorialsteacher.com/linq/linq-lambda-expressions\">LINQ Lambda Expressions – TutorialsTeacher</a><br>\n",
    "      <a href=\"https://code-maze.com/csharp-func-action-predicate-delegates/\">Func, Action & Predicate – Code Maze</a><br>\n",
    "    </td>\n",
    "  </tr>\n",
    "</table>"
   ]
  },
  {
   "cell_type": "markdown",
   "metadata": {},
   "source": [
    "Lambda-Funktionen, auch **anonyme Funktionen** genannt, sind ein zentrales Konzept in vielen Programmiersprachen – auch in **C#**, **Python**, **JavaScript**, etc. – und werden vor allem dort verwendet, wo eine Funktion „on the fly“ gebraucht wird, z. B. als Argument einer Methode.\n",
    "\n",
    "### Allgemeine Eigenschaften\n",
    "\n",
    "* **Kurz & anonym:** Keine `def`, `function` oder `Methodenname` notwendig.\n",
    "* **Funktionaler Stil:** Besonders nützlich mit `map`, `filter`, `reduce`, LINQ, Delegates etc.\n",
    "* **Einfacher Syntax:** Ideal für kleine Funktionen mit einer einzigen Anweisung.\n",
    "\n",
    "### In C# erklärt\n",
    "\n",
    "#### Syntax\n",
    "\n",
    "```csharp\n",
    "(parameter) => Ausdruck\n",
    "```\n",
    "\n",
    "#### Beispiel: Quadratzahl berechnen"
   ]
  },
  {
   "cell_type": "code",
   "execution_count": null,
   "metadata": {
    "polyglot_notebook": {
     "kernelName": "csharp"
    },
    "vscode": {
     "languageId": "polyglot-notebook"
    }
   },
   "outputs": [
    {
     "name": "stdout",
     "output_type": "stream",
     "text": [
      "25\n"
     ]
    }
   ],
   "source": [
    "Func<int, int> quadrat = x => x * x;\n",
    "Console.WriteLine(quadrat(5));"
   ]
  },
  {
   "cell_type": "markdown",
   "metadata": {},
   "source": [
    "#### Mehrere Parameter"
   ]
  },
  {
   "cell_type": "code",
   "execution_count": null,
   "metadata": {
    "polyglot_notebook": {
     "kernelName": "csharp"
    },
    "vscode": {
     "languageId": "polyglot-notebook"
    }
   },
   "outputs": [
    {
     "name": "stdout",
     "output_type": "stream",
     "text": [
      "7\n"
     ]
    }
   ],
   "source": [
    "Func<int, int, int> addiere = (a, b) => a + b;\n",
    "Console.WriteLine(addiere(3, 4));"
   ]
  },
  {
   "cell_type": "markdown",
   "metadata": {},
   "source": [
    "#### Kein Rückgabewert"
   ]
  },
  {
   "cell_type": "code",
   "execution_count": null,
   "metadata": {
    "polyglot_notebook": {
     "kernelName": "csharp"
    },
    "vscode": {
     "languageId": "polyglot-notebook"
    }
   },
   "outputs": [
    {
     "name": "stdout",
     "output_type": "stream",
     "text": [
      "Hallo Lambda!\n"
     ]
    }
   ],
   "source": [
    "Action<string> drucke = s => Console.WriteLine(s);\n",
    "drucke(\"Hallo Lambda!\");"
   ]
  },
  {
   "cell_type": "markdown",
   "metadata": {},
   "source": [
    "#### Unterschiede: `Func<>`, `Action<>`, `Predicate<>`\n",
    "\n",
    "| Typ            | Rückgabewert? | Parameter | Beispiel                                      |\n",
    "| -------------- | ------------- | --------- | --------------------------------------------- |\n",
    "| `Func<T>`      | ✅ ja          | 0–16      | `Func<int, string>`                           |\n",
    "| `Action<T>`    | ❌ nein        | 0–16      | `Action<string>`                              |\n",
    "| `Predicate<T>` | ✅ bool        | genau 1   | `Predicate<int> istGerade = x => x % 2 == 0;` |\n",
    "\n",
    "### Kombination mit LINQ\n",
    "Lambda-Ausdrücke sind besonders nützlich in Kombination mit LINQ (Language Integrated Query) in C#. Sie ermöglichen es, Datenabfragen auf Sammlungen wie Listen, Arrays oder Datenbanken elegant und lesbar zu gestalten."
   ]
  },
  {
   "cell_type": "code",
   "execution_count": 6,
   "metadata": {
    "polyglot_notebook": {
     "kernelName": "csharp"
    },
    "vscode": {
     "languageId": "polyglot-notebook"
    }
   },
   "outputs": [
    {
     "name": "stdout",
     "output_type": "stream",
     "text": [
      "2, 4\n"
     ]
    }
   ],
   "source": [
    "List<int> zahlen = new List<int> { 1, 2, 3, 4, 5 };\n",
    "var gerade = zahlen.Where(x => x % 2 == 0).ToList();\n",
    "Console.WriteLine(string.Join(\", \", gerade));"
   ]
  },
  {
   "cell_type": "markdown",
   "metadata": {},
   "source": [
    "### Einschränkungen\n",
    "\n",
    "* Lambda-Ausdrücke können **nur einen Ausdruck** enthalten – keine vollständigen Codeblöcke (außer bei \"Statement Lambdas\").\n",
    "* Kein Zugriff auf `goto`, `break`, `continue` (außer über `yield` oder `return` in komplexeren Versionen).\n",
    "* Schließen über sogenannte **\"Closures\"** auf äußere Variablen.\n",
    "\n",
    "### Statement-Lambdas\n",
    "\n",
    "Wenn du mehr als nur einen Ausdruck brauchst:"
   ]
  },
  {
   "cell_type": "code",
   "execution_count": 7,
   "metadata": {
    "polyglot_notebook": {
     "kernelName": "csharp"
    },
    "vscode": {
     "languageId": "polyglot-notebook"
    }
   },
   "outputs": [
    {
     "name": "stdout",
     "output_type": "stream",
     "text": [
      "10\n"
     ]
    }
   ],
   "source": [
    "Func<int, int, int> komplex = (a, b) => {\n",
    "    int ergebnis = a + b;\n",
    "    return ergebnis * 2;\n",
    "};\n",
    "Console.WriteLine(komplex(2, 3));"
   ]
  },
  {
   "cell_type": "markdown",
   "metadata": {},
   "source": [
    "#### Closures\n",
    "\n",
    "Lambdas können auf Variablen zugreifen, die im äußeren Kontext definiert sind:"
   ]
  },
  {
   "cell_type": "code",
   "execution_count": null,
   "metadata": {
    "polyglot_notebook": {
     "kernelName": "csharp"
    },
    "vscode": {
     "languageId": "polyglot-notebook"
    }
   },
   "outputs": [
    {
     "name": "stdout",
     "output_type": "stream",
     "text": [
      "12\n"
     ]
    }
   ],
   "source": [
    "int faktor = 3;\n",
    "Func<int, int> multiplizieren = x => x * faktor;\n",
    "Console.WriteLine(multiplizieren(4));"
   ]
  },
  {
   "cell_type": "markdown",
   "metadata": {},
   "source": [
    "> ⚠️ `faktor` wird **by reference** gehalten – Änderungen beeinflussen das Verhalten des Lambdas!\n",
    "\n",
    "### Anwendungen\n",
    "\n",
    "* **Callbacks und Eventhandler**\n",
    "* **Filter und Projektionen mit LINQ**\n",
    "* **Code-Kompaktierung**\n",
    "* **Funktionen als Werte weitergeben**\n",
    "\n",
    "### Zusammenfassung\n",
    "\n",
    "| Feature                          | Beschreibung           |\n",
    "| -------------------------------- | ---------------------- |\n",
    "| Anonyme Funktion                 | Kein Name nötig        |\n",
    "| Kürzere Syntax                   | `(x) => x * x`         |\n",
    "| `Func<>`                         | Gibt einen Wert zurück |\n",
    "| `Action<>`                       | Gibt nichts zurück     |\n",
    "| In LINQ weit verbreitet          | `.Where(x => x > 0)`   |\n",
    "| Zugriff auf äußere Variablen     | Closures               |\n",
    "| Erweiterbar zu Statement-Lambdas | mit `{}` und `return`  |"
   ]
  },
  {
   "cell_type": "markdown",
   "metadata": {},
   "source": [
    "## Einsatzmöglichkeiten\n",
    "\n",
    "Hier sind **konkrete, praxisnahe Beispiele**, wie man Lambda-Funktionen in **C#** sinnvoll einsetzen kann – von einfach bis komplex, für Lernen, Alltag und professionelle Softwareentwicklung:\n",
    "\n",
    "### 1. Mathematische Berechnung"
   ]
  },
  {
   "cell_type": "code",
   "execution_count": null,
   "metadata": {
    "polyglot_notebook": {
     "kernelName": "csharp"
    },
    "vscode": {
     "languageId": "polyglot-notebook"
    }
   },
   "outputs": [
    {
     "name": "stdout",
     "output_type": "stream",
     "text": [
      "28.274333882308138\n"
     ]
    }
   ],
   "source": [
    "Func<double, double> flaecheKreis = r => Math.PI * r * r;\n",
    "Console.WriteLine(flaecheKreis(3));"
   ]
  },
  {
   "cell_type": "markdown",
   "metadata": {},
   "source": [
    "### 2. Filtern in einer Liste mit LINQ"
   ]
  },
  {
   "cell_type": "code",
   "execution_count": null,
   "metadata": {
    "polyglot_notebook": {
     "kernelName": "csharp"
    },
    "vscode": {
     "languageId": "polyglot-notebook"
    }
   },
   "outputs": [
    {
     "name": "stdout",
     "output_type": "stream",
     "text": [
      "2, 4, 6\n"
     ]
    }
   ],
   "source": [
    "var zahlen = new List<int> { 1, 2, 3, 4, 5, 6 };\n",
    "var gerade = zahlen.Where(x => x % 2 == 0).ToList();\n",
    "Console.WriteLine(string.Join(\", \", gerade));"
   ]
  },
  {
   "cell_type": "markdown",
   "metadata": {},
   "source": [
    "### 3. Projektion in LINQ (Select)"
   ]
  },
  {
   "cell_type": "code",
   "execution_count": null,
   "metadata": {
    "polyglot_notebook": {
     "kernelName": "csharp"
    },
    "vscode": {
     "languageId": "polyglot-notebook"
    }
   },
   "outputs": [
    {
     "name": "stdout",
     "output_type": "stream",
     "text": [
      "Anna (4 Buchstaben)\n",
      "Ben (3 Buchstaben)\n",
      "Clara (5 Buchstaben)\n"
     ]
    }
   ],
   "source": [
    "var namen = new List<string> { \"Anna\", \"Ben\", \"Clara\" };\n",
    "var mitLaenge = namen.Select(n => $\"{n} ({n.Length} Buchstaben)\").ToList();\n",
    "mitLaenge.ForEach(Console.WriteLine);"
   ]
  },
  {
   "cell_type": "markdown",
   "metadata": {},
   "source": [
    "### 4. Eigene Sortierlogik"
   ]
  },
  {
   "cell_type": "code",
   "execution_count": null,
   "metadata": {
    "polyglot_notebook": {
     "kernelName": "csharp"
    },
    "vscode": {
     "languageId": "polyglot-notebook"
    }
   },
   "outputs": [
    {
     "name": "stdout",
     "output_type": "stream",
     "text": [
      "Kiwi, Apfel, Banane, Pflaume\n"
     ]
    }
   ],
   "source": [
    "var woerter = new List<string> { \"Apfel\", \"Banane\", \"Kiwi\", \"Pflaume\" };\n",
    "woerter.Sort((a, b) => a.Length.CompareTo(b.Length));\n",
    "Console.WriteLine(string.Join(\", \", woerter));"
   ]
  },
  {
   "cell_type": "markdown",
   "metadata": {},
   "source": [
    "### 5. Eventhandler in GUI-Anwendungen (z. B. WPF)\n",
    "\n",
    "```csharp\n",
    "button.Click += (s, e) => MessageBox.Show(\"Button geklickt!\");\n",
    "```\n",
    "\n",
    "### 6. Anonyme Callback-Funktion"
   ]
  },
  {
   "cell_type": "code",
   "execution_count": 13,
   "metadata": {
    "polyglot_notebook": {
     "kernelName": "csharp"
    },
    "vscode": {
     "languageId": "polyglot-notebook"
    }
   },
   "outputs": [
    {
     "name": "stdout",
     "output_type": "stream",
     "text": [
      "50\n"
     ]
    }
   ],
   "source": [
    "void FuehreAus(Func<int, int> operation)\n",
    "{\n",
    "    Console.WriteLine(operation(5));\n",
    "}\n",
    "\n",
    "FuehreAus(x => x * 10);"
   ]
  },
  {
   "cell_type": "markdown",
   "metadata": {},
   "source": [
    "### 7. Verwendung in `Dictionary` mit Bedingungen"
   ]
  },
  {
   "cell_type": "code",
   "execution_count": null,
   "metadata": {
    "polyglot_notebook": {
     "kernelName": "csharp"
    },
    "vscode": {
     "languageId": "polyglot-notebook"
    }
   },
   "outputs": [
    {
     "name": "stdout",
     "output_type": "stream",
     "text": [
      "Gestartet\n"
     ]
    }
   ],
   "source": [
    "var aktionen = new Dictionary<string, Action> {\n",
    "    [\"start\"] = () => Console.WriteLine(\"Gestartet\"),\n",
    "    [\"stop\"]  = () => Console.WriteLine(\"Gestoppt\")\n",
    "};\n",
    "\n",
    "aktionen[\"start\"]();"
   ]
  },
  {
   "cell_type": "markdown",
   "metadata": {},
   "source": [
    "### 8. Filter für Dateinamen"
   ]
  },
  {
   "cell_type": "code",
   "execution_count": null,
   "metadata": {
    "polyglot_notebook": {
     "kernelName": "csharp"
    },
    "vscode": {
     "languageId": "polyglot-notebook"
    }
   },
   "outputs": [
    {
     "name": "stdout",
     "output_type": "stream",
     "text": [
      "test.txt\n"
     ]
    }
   ],
   "source": [
    "string[] dateien = { \"test.txt\", \"readme.md\", \"app.cs\", \"data.json\" };\n",
    "var nurTxt = dateien.Where(f => f.EndsWith(\".txt\"));\n",
    "Console.WriteLine(string.Join(\", \", nurTxt));"
   ]
  },
  {
   "cell_type": "markdown",
   "metadata": {},
   "source": [
    "### 9. Predicate für eigene Suche"
   ]
  },
  {
   "cell_type": "code",
   "execution_count": 16,
   "metadata": {
    "polyglot_notebook": {
     "kernelName": "csharp"
    },
    "vscode": {
     "languageId": "polyglot-notebook"
    }
   },
   "outputs": [
    {
     "name": "stdout",
     "output_type": "stream",
     "text": [
      "True\n"
     ]
    }
   ],
   "source": [
    "Predicate<int> istPrim = n => {\n",
    "    if (n < 2) return false;\n",
    "    return Enumerable.Range(2, n - 2).All(i => n % i != 0);\n",
    "};\n",
    "\n",
    "Console.WriteLine(istPrim(7));"
   ]
  },
  {
   "cell_type": "markdown",
   "metadata": {},
   "source": [
    "### 10. Verzeichnisdateien nach Größe sortieren"
   ]
  },
  {
   "cell_type": "code",
   "execution_count": 18,
   "metadata": {
    "polyglot_notebook": {
     "kernelName": "csharp"
    },
    "vscode": {
     "languageId": "polyglot-notebook"
    }
   },
   "outputs": [
    {
     "name": "stdout",
     "output_type": "stream",
     "text": [
      "Größte Datei: Cheatsheet_Lambdas_n_delegates (627330 Bytes)\n"
     ]
    }
   ],
   "source": [
    "using System.IO;\n",
    "var dateien = new DirectoryInfo(\".\").GetFiles();\n",
    "var groesste = dateien.OrderByDescending(f => f.Length).First();\n",
    "Console.WriteLine($\"Größte Datei: {groesste.Name} ({groesste.Length} Bytes)\");"
   ]
  },
  {
   "cell_type": "markdown",
   "metadata": {},
   "source": [
    "### 11. Asynchrone Lambda für Web-Requests"
   ]
  },
  {
   "cell_type": "code",
   "execution_count": 20,
   "metadata": {
    "polyglot_notebook": {
     "kernelName": "csharp"
    },
    "vscode": {
     "languageId": "polyglot-notebook"
    }
   },
   "outputs": [
    {
     "name": "stdout",
     "output_type": "stream",
     "text": [
      "\n",
      "                <!DOCTYPE html>\n",
      "                <html lang=\"en\">\n",
      "                <head>\n",
      "                    <meta charset=\"UTF-8\">\n",
      "                    <meta name=\"viewport\" content=\"width=device-width, initial-scale=1.0\">\n",
      "                    <link rel=\"stylesheet\" href=\"/SoProMing/JederKannCoden/style.css\">\n",
      "                    <title>Jeder kann coden - Einleitung</title>\n",
      "                </head>\n",
      "                <body>\n",
      "                    <nav>\n",
      "                        <div class=\"menu\">\n",
      "                            \n",
      "                <ul class=\"menu\">\n",
      "  <li class=\"menu-item\">\n",
      "    <a href=\"#\">Htw</a>\n",
      "<ul class=\"submenu\">\n",
      "  <li><a href=\"/SoProMing/JederKannCoden/htw/Team_Signup.de.html\">Anleitung zur Prüfungsgruppenanmeldung</a></li>\n",
      "</ul>\n",
      "  </li>\n",
      "  <li class=\"menu-item\">\n",
      "    <a href=\"#\">Programming</a>\n",
      "<ul class=\"submenu\">\n",
      "  <li><a href=\"/SoProMing/JederKannCoden/programming/Number_Systems.de.html\">Zahlensysteme und Zeichendarstellung</a></li>\n",
      "  <li><a href=\"/SoProMing/JederKannCoden/progra\n"
     ]
    }
   ],
   "source": [
    "using System.Net.Http;\n",
    "Func<string, Task<string>> ladeSeite = async url =>\n",
    "{\n",
    "    using var client = new HttpClient();\n",
    "    return await client.GetStringAsync(url);\n",
    "};\n",
    "\n",
    "string html = await ladeSeite(\"https://www8.2hands.de/SoProMing/JederKannCoden/programming/abstract/Intro.de.html\");\n",
    "Console.WriteLine(html[..1000]); // Zeigt die ersten 100 Zeichen"
   ]
  },
  {
   "cell_type": "markdown",
   "metadata": {},
   "source": [
    "### 12. Transformation von Objekten (Projektion)"
   ]
  },
  {
   "cell_type": "code",
   "execution_count": 21,
   "metadata": {
    "polyglot_notebook": {
     "kernelName": "csharp"
    },
    "vscode": {
     "languageId": "polyglot-notebook"
    }
   },
   "outputs": [
    {
     "name": "stdout",
     "output_type": "stream",
     "text": [
      "Lisa, Tom\n"
     ]
    }
   ],
   "source": [
    "class Person { public string Name; public int Alter; }\n",
    "var personen = new List<Person> {\n",
    "    new Person { Name = \"Lisa\", Alter = 25 },\n",
    "    new Person { Name = \"Tom\", Alter = 32 }\n",
    "};\n",
    "\n",
    "var namen = personen.Select(p => p.Name).ToList();\n",
    "Console.WriteLine(string.Join(\", \", namen));"
   ]
  },
  {
   "cell_type": "markdown",
   "metadata": {},
   "source": [
    "### Cheatsheet Lambdas und Delegaten\n",
    "\n",
    "<a href=\"https://miro.com/app/board/o9J_lOJi2o0=/?moveToWidget=3458764525293354341&cot=14\"><img src=\"Cheatsheet_Lambdas_n_delegates\"></a>"
   ]
  },
  {
   "cell_type": "markdown",
   "metadata": {},
   "source": [
    "## Vertiefung\n",
    "\n",
    "Es gibt noch **mehr zu wissen** über Lambda-Funktionen, besonders in **C#**. Hier sind weiterführende und oft übersehene Aspekte:\n",
    "\n",
    "### 1. Typinferenz und implizite Konvertierung\n",
    "\n",
    "Du kannst den Typ meistens weglassen:\n",
    "\n",
    "```csharp\n",
    "var verdoppeln = (int x) => x * 2;\n",
    "```\n",
    "\n",
    "Aber nicht immer:\n",
    "\n",
    "```csharp\n",
    "var falsch = x => x * 2; // ❌ Fehler: Typ nicht ableitbar\n",
    "```\n",
    "\n",
    "Manchmal hilft explizite Typangabe:\n",
    "\n",
    "```csharp\n",
    "Func<int, int> korrekt = x => x * 2;\n",
    "```\n",
    "\n",
    "### 2. Lambda vs. Delegates (Unterschiede)\n",
    "\n",
    "```csharp\n",
    "delegate int MeinDelegate(int x);\n",
    "MeinDelegate del = delegate (int x) { return x + 1; };\n",
    "\n",
    "Func<int, int> lambda = x => x + 1;\n",
    "```\n",
    "\n",
    "| Aspekt    | Delegate            | Lambda         |\n",
    "| --------- | ------------------- | -------------- |\n",
    "| Syntax    | `delegate (...) {}` | `(...) => ...` |\n",
    "| Klarheit  | etwas länger        | sehr kompakt   |\n",
    "| Capturing | ja                  | ja             |\n",
    "\n",
    "### 3. Capturing von Variablen (Closures)\n",
    "\n",
    "Das ist **mächtig, aber gefährlich**, z. B. in Schleifen:\n",
    "\n",
    "```csharp\n",
    "List<Func<int>> funktionen = new();\n",
    "\n",
    "for (int i = 0; i < 3; i++)\n",
    "{\n",
    "    funktionen.Add(() => i);\n",
    "}\n",
    "\n",
    "foreach (var f in funktionen)\n",
    "    Console.WriteLine(f()); // Gibt 3, 3, 3 aus! Nicht 0, 1, 2\n",
    "```\n",
    "\n",
    "👉 **Fix:** Lokale Kopie der Schleifenvariablen:\n",
    "\n",
    "```csharp\n",
    "for (int i = 0; i < 3; i++)\n",
    "{\n",
    "    int kopie = i;\n",
    "    funktionen.Add(() => kopie);\n",
    "}\n",
    "```\n",
    "\n",
    "### 4. Lambda-Ausdrücke in Expression Trees\n",
    "\n",
    "Normalerweise: `Func<T>` ist **compiled delegate**.\n",
    "\n",
    "Aber `Expression<Func<T>>` ist **Datenstruktur**, die den Ausdruck **beschreibbar und analysierbar** macht (z. B. in ORMs wie Entity Framework):\n",
    "\n",
    "```csharp\n",
    "Expression<Func<int, bool>> ausdruck = x => x > 5;\n",
    "```\n",
    "\n",
    "Du kannst den Baum analysieren:\n",
    "\n",
    "```csharp\n",
    "Console.WriteLine(ausdruck.Body); // x > 5\n",
    "```\n",
    "\n",
    "### 5. Asynchrone Lambda-Funktionen\n",
    "\n",
    "```csharp\n",
    "Func<Task> asyncAktion = async () => {\n",
    "    await Task.Delay(1000);\n",
    "    Console.WriteLine(\"Fertig\");\n",
    "};\n",
    "```\n",
    "\n",
    "Oder mit Rückgabewert:\n",
    "\n",
    "```csharp\n",
    "Func<int, Task<string>> fetch = async (id) => {\n",
    "    await Task.Delay(100);\n",
    "    return $\"Wert für {id}\";\n",
    "};\n",
    "```\n",
    "\n",
    "### 6. Lambdas für Custom Sortierung oder Events\n",
    "\n",
    "```csharp\n",
    "var liste = new List<string> { \"Banane\", \"Apfel\", \"Kirsche\" };\n",
    "liste.Sort((a, b) => a.Length.CompareTo(b.Length)); // nach Länge sortieren\n",
    "```\n",
    "\n",
    "Oder als Eventhandler:\n",
    "\n",
    "```csharp\n",
    "button.Click += (s, e) => MessageBox.Show(\"Geklickt!\");\n",
    "```\n",
    "\n",
    "### 7. Lambdas vs. Methoden-Referenzen\n",
    "\n",
    "```csharp\n",
    "Func<int, int> lambda = x => Quadrat(x);\n",
    "Func<int, int> methodenReferenz = Quadrat;\n",
    "\n",
    "int Quadrat(int x) => x * x;\n",
    "```\n",
    "\n",
    "Beide funktionieren gleich – Referenzen sind oft lesbarer, wenn die Methode bereits existiert.\n",
    "\n",
    "### 8. Lambda in benutzerdefinierten Delegates\n",
    "\n",
    "Du kannst Lambdas auch für eigene Delegate-Typen nutzen:\n",
    "\n",
    "```csharp\n",
    "delegate string Begruessung(string name);\n",
    "Begruessung sagHallo = name => $\"Hallo {name}\";\n",
    "```\n",
    "\n",
    "## ✅ Fazit: Wann Lambdas benutzen?\n",
    "\n",
    "| Situation                          | Lambda sinnvoll?                       |\n",
    "| ---------------------------------- | -------------------------------------- |\n",
    "| Kleine Funktion on-the-fly         | ✅ ja                                   |\n",
    "| Wiederverwendbare Logik            | ❌ besser Methode                       |\n",
    "| Callback oder Filterfunktion       | ✅ ja                                   |\n",
    "| Komplexe Logik mit mehreren Zeilen | ❌ besser Methode oder Statement-Lambda |"
   ]
  }
 ],
 "metadata": {
  "kernelspec": {
   "display_name": ".NET (C#)",
   "language": "C#",
   "name": ".net-csharp"
  },
  "language_info": {
   "name": "python"
  },
  "polyglot_notebook": {
   "kernelInfo": {
    "defaultKernelName": "csharp",
    "items": [
     {
      "aliases": [],
      "name": "csharp"
     }
    ]
   }
  }
 },
 "nbformat": 4,
 "nbformat_minor": 2
}
