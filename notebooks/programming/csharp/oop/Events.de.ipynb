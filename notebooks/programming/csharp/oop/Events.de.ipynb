{
 "cells": [
  {
   "cell_type": "markdown",
   "metadata": {},
   "source": [
    "[Jeder kann coden](../../abstract/Contents.de.ipynb) / [Programmieren & TicTacToe](../../Programming_And_TicTacToe.de.ipynb) / [Objektorientierte Programmierung](../../Objectoriented_Programming.de.ipynb) / [Objektorientierte Programmierung in C#](CSharp_Basics.de.ipynb)\n",
    "\n",
    "# Events\n",
    "\n",
    "<table border=\"0\">\n",
    "  <tr>\n",
    "    <td>\n",
    "        <img src=\"Events.jpeg\">\n",
    "    </td>\n",
    "    <td rowspan=\"2\">\n",
    "        <a href=\"https://miro.com/app/board/o9J_lOJi2o0=/?moveToWidget=3458764554347680798&cot=14\"><img src=\"Radar_Lambda_n_Delegate.jpg\"></a>\n",
    "    </td>\n",
    "  </tr>\n",
    "  <tr>\n",
    "    <td>\n",
    "      <a href=\"https://learn.microsoft.com/de-de/dotnet/csharp/programming-guide/events/\">Events (Microsoft Docs)</a><br>\n",
    "      <a href=\"https://learn.microsoft.com/de-de/dotnet/csharp/programming-guide/delegates/\">Delegates (Microsoft Docs)</a><br>\n",
    "      <a href=\"https://learn.microsoft.com/de-de/dotnet/csharp/language-reference/operators/lambda-expressions\">Lambda-Ausdrücke (Microsoft Docs)</a><br>\n",
    "      <a href=\"https://www.c-sharpcorner.com/UploadFile/1e050f/events-in-C-Sharp/\">Events in C# – C# Corner</a><br>\n",
    "      <a href=\"https://code-maze.com/csharp-events/\">Understanding Events in C# (Code Maze)</a><br>\n",
    "      <a href=\"https://www.tutorialsteacher.com/csharp/csharp-event\">C# Event Tutorial – TutorialsTeacher</a><br>\n",
    "      <a href=\"https://www.dotnetperls.com/event\">C# Event Examples – DotNetPerls</a><br>\n",
    "      <a href=\"https://refactoring.guru/design-patterns/observer/csharp/example\">Observer Pattern in C# – Refactoring Guru</a><br>\n",
    "      <a href=\"https://learn.microsoft.com/de-de/dotnet/api/system.eventhandler-1\">System.EventHandler&lt;T&gt; API-Dokumentation</a><br>\n",
    "      <a href=\"https://stackoverflow.com/questions/2406668/difference-between-event-and-delegate\">StackOverflow: Unterschied zwischen Event und Delegate</a>\n",
    "    </td>\n",
    "  </tr>\n",
    "</table>"
   ]
  },
  {
   "cell_type": "markdown",
   "metadata": {},
   "source": [
    "Ein **Event** ist ein Mechanismus, mit dem ein Objekt **Benachrichtigungen** über bestimmte Änderungen oder Aktionen an interessierte Abonnenten (Observer) senden kann. Es basiert auf dem **Publisher/Subscriber-Prinzip**.\n",
    "\n",
    "**Events nutzen Delegaten als Typ** – also Methoden-Signaturen, die aufgerufen werden, wenn das Event ausgelöst wird.\n",
    "\n",
    "### Grundstruktur eines Events"
   ]
  },
  {
   "cell_type": "code",
   "execution_count": 1,
   "metadata": {
    "polyglot_notebook": {
     "kernelName": "csharp"
    },
    "vscode": {
     "languageId": "polyglot-notebook"
    }
   },
   "outputs": [],
   "source": [
    "public class Alarm\n",
    "{\n",
    "    public event Action AlarmAusgeloest;\n",
    "\n",
    "    public void Ausloesen()\n",
    "    {\n",
    "        Console.WriteLine(\"Alarm wird ausgelöst!\");\n",
    "        AlarmAusgeloest?.Invoke(); // Aufruf aller registrierten Methoden\n",
    "    }\n",
    "}"
   ]
  },
  {
   "cell_type": "markdown",
   "metadata": {},
   "source": [
    "#### Wichtige Merkmale:\n",
    "\n",
    "* `event` schränkt den Zugriff ein (z. B. keine direkten Zuweisungen von außen)\n",
    "* Nur `+=` (Abonnieren) und `-=` (Abmelden) sind erlaubt von außen\n",
    "\n",
    "### Warum `event` statt nur `Delegate`?\n",
    "\n",
    "Ohne `event` könnten andere Objekte die gesamte Delegatenliste **überschreiben** – mit `event` wird das verhindert:\n",
    "\n",
    "```csharp\n",
    "public Action SomethingHappened; // gefährlich – kann überschrieben werden\n",
    "public event Action SaferEvent;  // nur += und -= von außen erlaubt\n",
    "```\n",
    "\n",
    "### Verwendung mit Lambdas\n",
    "\n",
    "Wenn du Lambdas kennst, kannst du elegant Event-Handler registrieren:"
   ]
  },
  {
   "cell_type": "code",
   "execution_count": 2,
   "metadata": {
    "polyglot_notebook": {
     "kernelName": "csharp"
    },
    "vscode": {
     "languageId": "polyglot-notebook"
    }
   },
   "outputs": [
    {
     "name": "stdout",
     "output_type": "stream",
     "text": [
      "Alarm wird ausgelöst!\n",
      "Alarm wurde gehört!\n"
     ]
    }
   ],
   "source": [
    "var alarm = new Alarm();\n",
    "alarm.AlarmAusgeloest += () => Console.WriteLine(\"Alarm wurde gehört!\");\n",
    "alarm.Ausloesen();"
   ]
  },
  {
   "cell_type": "markdown",
   "metadata": {},
   "source": [
    "### Beispiel mit eigenen EventArgs\n",
    "\n",
    "Für komplexere Daten kannst du eigene EventArgs-Klassen nutzen:"
   ]
  },
  {
   "cell_type": "code",
   "execution_count": 3,
   "metadata": {
    "polyglot_notebook": {
     "kernelName": "csharp"
    },
    "vscode": {
     "languageId": "polyglot-notebook"
    }
   },
   "outputs": [],
   "source": [
    "public class TemperatureEventArgs : EventArgs\n",
    "{\n",
    "    public double Temperatur { get; }\n",
    "\n",
    "    public TemperatureEventArgs(double temperatur)\n",
    "    {\n",
    "        Temperatur = temperatur;\n",
    "    }\n",
    "}\n",
    "\n",
    "public class Thermometer\n",
    "{\n",
    "    public event EventHandler<TemperatureEventArgs> TemperaturGeaendert;\n",
    "\n",
    "    public void NeueTemperatur(double temperatur)\n",
    "    {\n",
    "        TemperaturGeaendert?.Invoke(this, new TemperatureEventArgs(temperatur));\n",
    "    }\n",
    "}"
   ]
  },
  {
   "cell_type": "markdown",
   "metadata": {},
   "source": [
    "Verwendung:"
   ]
  },
  {
   "cell_type": "code",
   "execution_count": 6,
   "metadata": {
    "polyglot_notebook": {
     "kernelName": "csharp"
    },
    "vscode": {
     "languageId": "polyglot-notebook"
    }
   },
   "outputs": [
    {
     "name": "stdout",
     "output_type": "stream",
     "text": [
      "Neue Temperatur: 30 °C\n"
     ]
    }
   ],
   "source": [
    "Thermometer thermometer = new Thermometer(); // Erstellen einer Instanz des Thermometers\n",
    "thermometer.NeueTemperatur(25.0); // Nutzen der Methode, um eine neue Temperatur zu setzen\n",
    "\n",
    "// Registrieren eines Ereignishandlers für Temperaturänderungen\n",
    "thermometer.TemperaturGeaendert += (sender, args) =>\n",
    "{\n",
    "    Console.WriteLine($\"Neue Temperatur: {args.Temperatur} °C\");\n",
    "};\n",
    "\n",
    "thermometer.NeueTemperatur(30.0); // Setzen einer neuen Temperatur, was das Ereignis auslöst"
   ]
  },
  {
   "cell_type": "markdown",
   "metadata": {},
   "source": [
    "### 💡 Best Practices\n",
    "\n",
    "| Thema        | Empfehlung                                                                |\n",
    "| ------------ | ------------------------------------------------------------------------- |\n",
    "| EventHandler | Nutze `EventHandler` oder `EventHandler<T>` für eigene Events             |\n",
    "| Nullprüfung  | Verwende `?.Invoke()` oder sichere Aufrufe                                |\n",
    "| Kapselung    | Mach Events `public`, aber nur `private`-set für Auslöser                 |\n",
    "| Benennung    | Verwende das Verb in der Vergangenheitsform: `SomethingHappened`          |\n",
    "| Abmeldung    | Denke daran, Lambdas können nicht wieder abgemeldet werden (kein Handle!) |\n",
    "\n",
    "### 🧨 Schwachstelle: Anonyme Handler\n",
    "\n",
    "Du kannst einen Event-Handler mit Lambda registrieren, aber **nicht wieder entfernen**, wenn du kein Handle hast:\n",
    "\n",
    "```csharp\n",
    "// Diese Zeile lässt sich nicht wieder entfernen!\n",
    "obj.EinEvent += (s, e) => Console.WriteLine(\"...\"); \n",
    "```\n",
    "\n",
    "Alternative:\n",
    "\n",
    "```csharp\n",
    "EventHandler handler = (s, e) => Console.WriteLine(\"...\");\n",
    "obj.EinEvent += handler;\n",
    "// später:\n",
    "obj.EinEvent -= handler;\n",
    "```\n",
    "\n",
    "### Custom Accessors (fortgeschritten)\n",
    "\n",
    "Du kannst eigene `add` / `remove` Accessoren definieren:\n",
    "\n",
    "```csharp\n",
    "private EventHandler myEvent;\n",
    "\n",
    "public event EventHandler MyEvent\n",
    "{\n",
    "    add\n",
    "    {\n",
    "        Console.WriteLine(\"Abonniert!\");\n",
    "        myEvent += value;\n",
    "    }\n",
    "    remove\n",
    "    {\n",
    "        Console.WriteLine(\"Abgemeldet!\");\n",
    "        myEvent -= value;\n",
    "    }\n",
    "}\n",
    "```\n",
    "\n",
    "### Events vs Callbacks\n",
    "\n",
    "| Aspekt      | Event                | Callback                       |\n",
    "| ----------- | -------------------- | ------------------------------ |\n",
    "| Teilnehmer  | Viele Abonnenten     | Genau eine Methode             |\n",
    "| Bindung     | Dynamisch via `+=`   | Direkt als Parameter übergeben |\n",
    "| Architektur | Publisher/Subscriber | Direkt gekoppelt               |\n",
    "\n",
    "### Zusammenfassung\n",
    "\n",
    "* Events sind eine sichere, strukturierte Art, Delegaten zu veröffentlichen\n",
    "* Verwende `event`-Schlüsselwort, um Zugriff einzuschränken\n",
    "* Nutze `EventHandler` / `EventHandler<T>` für standardkonforme Signaturen\n",
    "* Lambdas sind praktisch – aber ohne Referenz nicht wieder abzumelden\n",
    "* Achte auf Speicherlecks durch nicht entfernte Handler (z. B. bei statischen Events!)"
   ]
  },
  {
   "cell_type": "markdown",
   "metadata": {},
   "source": [
    "## Cheatsheet für Events\n",
    "\n",
    "<a href=\"https://miro.com/app/board/o9J_lOJi2o0=/?moveToWidget=3458764525304733582&cot=14\"><img src=\"CheatsheetEvents.jpg\"></a>"
   ]
  },
  {
   "cell_type": "markdown",
   "metadata": {},
   "source": [
    "## Vertiefung\n",
    "\n",
    "### 1. Multicast-Delegaten & Aufrufreihenfolge\n",
    "\n",
    "Ein Event in C# ist ein **Multicast-Delegat**. Das heißt: Mehrere Methoden können sich registrieren und werden **in der Reihenfolge des `+=`** aufgerufen.\n",
    "\n",
    "```csharp\n",
    "myEvent += MethodeA;\n",
    "myEvent += MethodeB;\n",
    "```\n",
    "\n",
    "Wenn `myEvent` ausgelöst wird, geschieht dies in der Reihenfolge:\n",
    "\n",
    "* `MethodeA`\n",
    "* `MethodeB`\n",
    "\n",
    "Falls eine Methode eine **Exception** wirft, werden die **restlichen nicht aufgerufen**, es sei denn du fängst sie manuell ab:\n",
    "\n",
    "```csharp\n",
    "foreach (var handler in myEvent.GetInvocationList())\n",
    "{\n",
    "    try { handler.DynamicInvoke(); }\n",
    "    catch (Exception ex) { Console.WriteLine($\"Fehler: {ex.Message}\"); }\n",
    "}\n",
    "```\n",
    "\n",
    "### 2. Memory Leaks durch Event-Handler\n",
    "\n",
    "Ein typischer Fehler: Du abonnierst ein Event, aber meldest dich nie wieder ab. Wenn der Publisher dann **lange lebt (z. B. statisch oder Singleton)**, wird der Subscriber **niemals vom GC freigegeben**.\n",
    "\n",
    "Beispiel:\n",
    "\n",
    "```csharp\n",
    "publisher.MyEvent += subscriber.HandleSomething;\n",
    "// subscriber wird nie vom GC freigegeben, solange publisher lebt!\n",
    "```\n",
    "\n",
    "**Lösungen:**\n",
    "\n",
    "* `-=` bei `Dispose`\n",
    "* `WeakEventManager` bei WPF\n",
    "* `IDisposable`-Pattern im Subscriber\n",
    "\n",
    "### 3. Schwache Events in WPF / MVVM\n",
    "\n",
    "WPF verwendet **`WeakEventManager`**, um Speicherlecks zu vermeiden:\n",
    "\n",
    "```csharp\n",
    "WeakEventManager<Publisher, EventArgs>.AddHandler(publisher, nameof(Publisher.MyEvent), HandlerMethode);\n",
    "```\n",
    "\n",
    "Vorteil: der Publisher hält keinen **starken Verweis**, sodass der Subscriber gesammelt werden kann.\n",
    "\n",
    "### 4. Testbarkeit von Events\n",
    "\n",
    "Events sind **schwerer testbar**, weil:\n",
    "\n",
    "* Sie keine Rückgabewerte haben\n",
    "* Sie keinen direkten Einfluss auf das Objekt selbst haben\n",
    "\n",
    "**Lösungen:**\n",
    "\n",
    "* Event-Trigger beobachten via Mocks\n",
    "* Oder: explizit `InvokeEventXYZ()` im Test aufrufen und Resultat prüfen\n",
    "\n",
    "### 5. Events und Interfaces\n",
    "\n",
    "Interfaces können Events enthalten:\n",
    "\n",
    "```csharp\n",
    "public interface IDownloadTask\n",
    "{\n",
    "    event EventHandler<ProgressEventArgs> ProgressChanged;\n",
    "}\n",
    "```\n",
    "\n",
    "Das ist nützlich für lose Kopplung und Substitution (z. B. in MVVM).\n",
    "\n",
    "### 6. Events verketten (Chaining)\n",
    "\n",
    "Du kannst Events an Events binden:\n",
    "\n",
    "```csharp\n",
    "obj1.Changed += obj2.OnChanged;\n",
    "obj2.Changed += obj3.OnChanged;\n",
    "// Vorsicht mit Event Loops!\n",
    "```\n",
    "\n",
    "**Tipp**: Schütze dich vor Endlosschleifen durch einfache Logik:\n",
    "\n",
    "```csharp\n",
    "if (!alreadyHandled)\n",
    "{\n",
    "    alreadyHandled = true;\n",
    "    RaiseChanged();\n",
    "}\n",
    "```\n",
    "\n",
    "### 7. Thread-Sicherheit beim Event-Aufruf\n",
    "\n",
    "Events sind nicht automatisch **Thread-safe**. Ein häufiger Pattern:\n",
    "\n",
    "```csharp\n",
    "var handler = MyEvent;\n",
    "if (handler != null)\n",
    "    handler(this, EventArgs.Empty);\n",
    "```\n",
    "\n",
    "Oder ab C# 6+:\n",
    "\n",
    "```csharp\n",
    "MyEvent?.Invoke(this, EventArgs.Empty);\n",
    "```\n",
    "\n",
    "Wenn das Event von einem anderen Thread auf `null` gesetzt wird, kann es sonst zu `NullReferenceException` kommen.\n",
    "\n",
    "### 8. Events serialisierbar machen\n",
    "\n",
    "Events selbst sind **nicht serialisierbar** (weil Delegaten keine Daten sind). Du musst explizit **vom Event ausgelöste Zustände speichern** – nicht das Event selbst.\n",
    "\n",
    "### 9. Custom Event Pattern für Fehlerbehandlung oder Logging\n",
    "\n",
    "Du kannst eigene Event-Zwischenschichten bauen, z. B. für:\n",
    "\n",
    "* Logging bei jeder Registrierung\n",
    "* Fehlerbehandlung\n",
    "* Synchronisierung\n",
    "\n",
    "Beispiel:\n",
    "\n",
    "```csharp\n",
    "private EventHandler myEvent;\n",
    "public event EventHandler MyEvent\n",
    "{\n",
    "    add {\n",
    "        Console.WriteLine(\"Abonnent hinzugefügt\");\n",
    "        myEvent += value;\n",
    "    }\n",
    "    remove {\n",
    "        Console.WriteLine(\"Abonnent entfernt\");\n",
    "        myEvent -= value;\n",
    "    }\n",
    "}\n",
    "```\n",
    "\n",
    "### 10. Events über Netzwerke (SignalR, PubSub etc.)\n",
    "\n",
    "In verteilten Systemen (Blazor, WPF+Backend, Microservices) nutzt man **Events als Konzept**, aber technisch brauchst du:\n",
    "\n",
    "* **SignalR/Websockets** für UI\n",
    "* **Message Broker** (z. B. NATS, RabbitMQ) für Backend\n",
    "\n",
    "Ein Event in C# wird dann z. B. nach außen als Message serialisiert und verschickt.\n",
    "\n",
    "### Merksätze\n",
    "\n",
    "| Thema       | Merksatz                                                |\n",
    "| ----------- | ------------------------------------------------------- |\n",
    "| Lebensdauer | Wer sich anmeldet, sollte sich abmelden                 |\n",
    "| Zugriff     | Nur innerhalb der Klasse darf `Invoke` verwendet werden |\n",
    "| Lambdas     | Nur mit Handle wieder abmeldbar                         |\n",
    "| Standard    | Verwende `EventHandler<T>` mit `EventArgs`              |\n",
    "| Testbarkeit | Lieber explizite Trigger oder Mock-Zugriffe nutzen      |"
   ]
  }
 ],
 "metadata": {
  "kernelspec": {
   "display_name": ".NET (C#)",
   "language": "C#",
   "name": ".net-csharp"
  },
  "language_info": {
   "name": "python"
  },
  "polyglot_notebook": {
   "kernelInfo": {
    "defaultKernelName": "csharp",
    "items": [
     {
      "aliases": [],
      "name": "csharp"
     }
    ]
   }
  }
 },
 "nbformat": 4,
 "nbformat_minor": 2
}
