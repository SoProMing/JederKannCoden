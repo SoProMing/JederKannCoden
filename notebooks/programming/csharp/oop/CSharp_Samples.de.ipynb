{
 "cells": [
  {
   "cell_type": "markdown",
   "metadata": {},
   "source": [
    "[Jeder kann coden](../../abstract/Contents.de.ipynb) / [Programmieren & TicTacToe](../../Programming_And_TicTacToe.de.ipynb) / [Objektorientierte Programmierung](../../Objectoriented_Programming.de.ipynb) / [Objektorientierte Programmierung in C#](CSharp_Basics.de.ipynb)\n",
    "\n",
    "# Objektorientierte Programmierung in C# Samples\n",
    "\n",
    "<table border=\"0\">\n",
    "  <tr>\n",
    "    <td>\n",
    "        <img src=\"CSharp_Samples.webp\">\n",
    "    </td>\n",
    "    <td rowspan=\"2\">\n",
    "        <a href=\"https://miro.com/app/board/o9J_lOJi2o0=/?moveToWidget=3458764554347680798&cot=14\"><img src=\"Radar_OOP.jpg\"></a>\n",
    "    </td>\n",
    "  </tr>\n",
    "  <tr>\n",
    "    <td>\n",
    "      <a href=\"https://learn.microsoft.com/de-de/dotnet/csharp/fundamentals/tutorials/oop\">Link zur Microsoft Dokumentation</a><br>\n",
    "      <a href=\"CSharp_Basics.de.ipynb\">Link zu OOP Basics</a><br>      \n",
    "      <a href=\"https://miro.com/app/board/o9J_lOJi2o0=/?moveToWidget=3458764554347680798&cot=14\">Link zum roten Faden auf Miro</a><br>\n",
    "      <a href=\"https://www.w3schools.com/cs/cs_oop.php\">Link zu Tutorial auf w3schools</a>\n",
    "    </td>\n",
    "  </tr>\n",
    "</table>\n",
    "\n",
    "Die objektorientierte Programmierung in C# hilft Entwicklern, Programme in strukturierte, wiederverwendbare und organisierte Einheiten aufzuteilen. Die Kernkonzepte der OOP sind Klassen, Objekte, Vererbung, Polymorphismus, Abstraktion und Kapselung.\n",
    "\n",
    "### 1. Klassen und Objekte\n",
    "\n",
    "Eine Klasse ist eine Blaupause, die Eigenschaften (Attribute) und Methoden (Funktionen) definiert. Ein Objekt ist eine Instanz einer Klasse.\n",
    "\n",
    "#### Codebeispiel: Erstellen einer einfachen Klasse `Person`"
   ]
  },
  {
   "cell_type": "code",
   "execution_count": 1,
   "metadata": {
    "dotnet_interactive": {
     "language": "csharp"
    },
    "polyglot_notebook": {
     "kernelName": "csharp"
    },
    "vscode": {
     "languageId": "polyglot-notebook"
    }
   },
   "outputs": [
    {
     "name": "stdout",
     "output_type": "stream",
     "text": [
      "Hello, my name is John Doe\n"
     ]
    }
   ],
   "source": [
    "// Definiert eine Klasse namens 'Person' mit den Eigenschaften 'FirstName' und 'LastName' und einer Methode 'Introduce'.\n",
    "public class Person\n",
    "{\n",
    "    public string FirstName;  // Vorname der Person\n",
    "    public string LastName;   // Nachname der Person\n",
    "    \n",
    "    // Methode, die die Person vorstellt.\n",
    "    public void Introduce()\n",
    "    {\n",
    "        Console.WriteLine($\"Hello, my name is {FirstName} {LastName}\");\n",
    "    }\n",
    "}\n",
    "\n",
    "// Erstellen und Verwenden eines Objekts der Klasse 'Person'\n",
    "// Instanz der Klasse 'Person' erstellen und Eigenschaften festlegen\n",
    "var person = new Person();\n",
    "person.FirstName = \"John\";\n",
    "person.LastName = \"Doe\";\n",
    "\n",
    "// Aufrufen der Methode 'Introduce', um eine Ausgabe zu erzeugen\n",
    "person.Introduce();"
   ]
  },
  {
   "cell_type": "markdown",
   "metadata": {},
   "source": [
    "### 2. Eigenschaften (Properties)\n",
    "\n",
    "Eigenschaften ermöglichen den Zugriff auf private Felder einer Klasse und steuern, wie diese Felder gelesen und geschrieben werden können.\n",
    "\n",
    "#### Codebeispiel: Eigenschaft mit `get` und `set`"
   ]
  },
  {
   "cell_type": "code",
   "execution_count": 2,
   "metadata": {
    "dotnet_interactive": {
     "language": "csharp"
    },
    "polyglot_notebook": {
     "kernelName": "csharp"
    },
    "vscode": {
     "languageId": "polyglot-notebook"
    }
   },
   "outputs": [
    {
     "name": "stdout",
     "output_type": "stream",
     "text": [
      "Full Name: Smith\n"
     ]
    }
   ],
   "source": [
    "public class Person\n",
    "{\n",
    "    private string _lastName;  // Privates Feld, das nur über eine Eigenschaft zugänglich ist\n",
    "    \n",
    "    // Eigenschaft 'LastName' mit Lese- und Schreibzugriff\n",
    "    public string LastName\n",
    "    {\n",
    "        get { return _lastName; }\n",
    "        set { _lastName = value; }\n",
    "    }\n",
    "    \n",
    "    // Methode, um den vollständigen Namen auszugeben\n",
    "    public void PrintFullName()\n",
    "    {\n",
    "        Console.WriteLine($\"Full Name: {_lastName}\");\n",
    "    }\n",
    "}\n",
    "\n",
    "var person = new Person();\n",
    "person.LastName = \"Smith\";  // Setzen des Nachnamens über die Eigenschaft\n",
    "\n",
    "person.PrintFullName();  // Ausgabe des vollständigen Namens"
   ]
  },
  {
   "cell_type": "markdown",
   "metadata": {},
   "source": [
    "### 3. Konstruktoren\n",
    "\n",
    "Ein Konstruktor initialisiert ein neues Objekt und legt bei Bedarf Startwerte fest.\n",
    "\n",
    "#### Codebeispiel: Konstruktor in der Klasse `Person`"
   ]
  },
  {
   "cell_type": "code",
   "execution_count": null,
   "metadata": {
    "dotnet_interactive": {
     "language": "csharp"
    },
    "polyglot_notebook": {
     "kernelName": "csharp"
    },
    "vscode": {
     "languageId": "polyglot-notebook"
    }
   },
   "outputs": [],
   "source": [
    "public class Person\n",
    "{\n",
    "    public string FirstName { get; }  // Nur-Lese-Eigenschaft für Vorname\n",
    "    public string LastName { get; }   // Nur-Lese-Eigenschaft für Nachname\n",
    "    \n",
    "    // Konstruktor, der Vor- und Nachnamen als Argumente annimmt\n",
    "    public Person(string firstName, string lastName)\n",
    "    {\n",
    "        FirstName = firstName;\n",
    "        LastName = lastName;\n",
    "    }\n",
    "    \n",
    "    // Methode, um eine Begrüßung auszugeben\n",
    "    public void Greet()\n",
    "    {\n",
    "        Console.WriteLine($\"Hi, I am {FirstName} {LastName}\");\n",
    "    }\n",
    "}\n",
    "\n",
    "public static void Main()\n",
    "{\n",
    "    // Erstellen eines Objekts mit dem Konstruktor und Ausgabe der Begrüßung\n",
    "    var person = new Person(\"Jane\", \"Doe\");\n",
    "    person.Greet();\n",
    "}"
   ]
  },
  {
   "cell_type": "markdown",
   "metadata": {},
   "source": [
    "### 4. Vererbung\n",
    "\n",
    "Vererbung ermöglicht es einer Klasse, von einer anderen Klasse zu erben, sodass sie die Eigenschaften und Methoden der Basisklasse verwenden kann.\n",
    "\n",
    "#### Codebeispiel: Vererbung von einer Basisklasse `Person`"
   ]
  },
  {
   "cell_type": "code",
   "execution_count": null,
   "metadata": {
    "dotnet_interactive": {
     "language": "csharp"
    },
    "polyglot_notebook": {
     "kernelName": "csharp"
    },
    "vscode": {
     "languageId": "polyglot-notebook"
    }
   },
   "outputs": [],
   "source": [
    "public class Person\n",
    "{\n",
    "    public string FirstName { get; }\n",
    "    public string LastName { get; }\n",
    "    \n",
    "    public Person(string firstName, string lastName)\n",
    "    {\n",
    "        FirstName = firstName;\n",
    "        LastName = lastName;\n",
    "    }\n",
    "    \n",
    "    public virtual void Introduce()\n",
    "    {\n",
    "        Console.WriteLine($\"Hello, I am {FirstName} {LastName}\");\n",
    "    }\n",
    "}\n",
    "\n",
    "// Klasse 'Employee', die von 'Person' erbt und eine zusätzliche Eigenschaft 'EmployeeId' besitzt\n",
    "public class Employee : Person\n",
    "{\n",
    "    public int EmployeeId { get; set; }\n",
    "\n",
    "    public Employee(string firstName, string lastName, int employeeId) \n",
    "        : base(firstName, lastName)\n",
    "    {\n",
    "        EmployeeId = employeeId;\n",
    "    }\n",
    "\n",
    "    // Methode überschreiben, um auch die Mitarbeiter-ID anzuzeigen\n",
    "    public override void Introduce()\n",
    "    {\n",
    "        Console.WriteLine($\"Hello, I am {FirstName} {LastName}, Employee ID: {EmployeeId}\");\n",
    "    }\n",
    "}\n",
    "\n",
    "var employee = new Employee(\"Alice\", \"Johnson\", 1234);\n",
    "employee.Introduce();"
   ]
  },
  {
   "cell_type": "markdown",
   "metadata": {},
   "source": [
    "### 5. Abstrakte Klassen und Methoden\n",
    "\n",
    "Abstrakte Klassen können nicht instanziiert werden und dienen als Vorlage für abgeleitete Klassen.\n",
    "\n",
    "#### Codebeispiel: Abstrakte Klasse `Shape` und abgeleitete Klasse `Circle`"
   ]
  },
  {
   "cell_type": "code",
   "execution_count": null,
   "metadata": {
    "dotnet_interactive": {
     "language": "csharp"
    },
    "polyglot_notebook": {
     "kernelName": "csharp"
    },
    "vscode": {
     "languageId": "polyglot-notebook"
    }
   },
   "outputs": [],
   "source": [
    "public abstract class Shape\n",
    "{\n",
    "    public abstract double GetArea();  // Abstrakte Methode zur Berechnung der Fläche\n",
    "}\n",
    "\n",
    "// 'Circle' erbt von 'Shape' und implementiert die Methode 'GetArea'\n",
    "public class Circle : Shape\n",
    "{\n",
    "    public double Radius { get; set; }\n",
    "    \n",
    "    public override double GetArea()\n",
    "    {\n",
    "        return Math.PI * Radius * Radius;\n",
    "    }\n",
    "}\n",
    "\n",
    "var circle = new Circle { Radius = 5.0 };\n",
    "Console.WriteLine($\"Area of Circle: {circle.GetArea()}\");"
   ]
  },
  {
   "cell_type": "markdown",
   "metadata": {},
   "source": [
    "### 6. Schnittstellen (Interfaces)\n",
    "\n",
    "Schnittstellen definieren einen Vertrag, den Klassen erfüllen müssen, die die Schnittstelle implementieren.\n",
    "\n",
    "#### Codebeispiel: Schnittstelle `IMovable` und Implementierung"
   ]
  },
  {
   "cell_type": "code",
   "execution_count": null,
   "metadata": {
    "dotnet_interactive": {
     "language": "csharp"
    },
    "polyglot_notebook": {
     "kernelName": "csharp"
    },
    "vscode": {
     "languageId": "polyglot-notebook"
    }
   },
   "outputs": [],
   "source": [
    "public interface IMovable\n",
    "{\n",
    "    void Move();  // Methode, die implementierende Klassen definieren müssen\n",
    "}\n",
    "\n",
    "public class Car : IMovable\n",
    "{\n",
    "    public void Move()\n",
    "    {\n",
    "        Console.WriteLine(\"The car is moving\");\n",
    "    }\n",
    "}\n",
    "\n",
    "IMovable myCar = new Car();\n",
    "myCar.Move();"
   ]
  },
  {
   "cell_type": "markdown",
   "metadata": {},
   "source": [
    "### 7. Kapselung (Encapsulation)\n",
    "\n",
    "Kapselung schützt Daten innerhalb einer Klasse und bietet nur durch definierte Methoden und Eigenschaften Zugriff darauf.\n",
    "\n",
    "#### Codebeispiel: Verwendung privater Felder und öffentlicher Eigenschaften"
   ]
  },
  {
   "cell_type": "code",
   "execution_count": null,
   "metadata": {
    "dotnet_interactive": {
     "language": "csharp"
    },
    "polyglot_notebook": {
     "kernelName": "csharp"
    },
    "vscode": {
     "languageId": "polyglot-notebook"
    }
   },
   "outputs": [],
   "source": [
    "public class BankAccount\n",
    "{\n",
    "    private decimal balance;  // Privates Feld für den Kontostand\n",
    "    \n",
    "    // Eigenschaft 'Balance' erlaubt nur Lesezugriff von außen\n",
    "    public decimal Balance\n",
    "    {\n",
    "        get { return balance; }\n",
    "        private set { balance = value; }\n",
    "    }\n",
    "    \n",
    "    // Methode, um eine Einzahlung durchzuführen und den Kontostand zu aktualisieren\n",
    "    public void Deposit(decimal amount)\n",
    "    {\n",
    "        if (amount > 0)\n",
    "        {\n",
    "            Balance += amount;\n",
    "            Console.WriteLine($\"Deposited {amount}. New Balance: {Balance}\");\n",
    "        }\n",
    "        else\n",
    "        {\n",
    "            Console.WriteLine(\"Invalid deposit amount\");\n",
    "        }\n",
    "    }\n",
    "}\n",
    "\n",
    "var account = new BankAccount();\n",
    "account.Deposit(100);  // Gültige Einzahlung\n",
    "account.Deposit(-50);  // Ungültige Einzahlung"
   ]
  },
  {
   "cell_type": "markdown",
   "metadata": {},
   "source": [
    "Diese erweiterte Zusammenfassung bietet Erklärungen und eine sinnvolle Ausgabe für jedes Codebeispiel, um das Verständnis der Konzepte zu unterstützen und die Funktionsweise der Objektorientierung in C# zu verdeutlichen."
   ]
  },
  {
   "cell_type": "markdown",
   "metadata": {},
   "source": [
    "### Sichtbarkeit und Lebensdauer\n",
    "\n",
    "<a href=\"https://miro.com/app/board/o9J_lOJi2o0=/?moveToWidget=3074457367134498846&cot=14\"><img src=\"Visibility_n_lifespan.jpg\"/></a>"
   ]
  }
 ],
 "metadata": {
  "kernelspec": {
   "display_name": ".NET (C#)",
   "language": "C#",
   "name": ".net-csharp"
  },
  "language_info": {
   "name": "python"
  },
  "polyglot_notebook": {
   "kernelInfo": {
    "defaultKernelName": "csharp",
    "items": [
     {
      "aliases": [],
      "name": "csharp"
     }
    ]
   }
  }
 },
 "nbformat": 4,
 "nbformat_minor": 2
}
