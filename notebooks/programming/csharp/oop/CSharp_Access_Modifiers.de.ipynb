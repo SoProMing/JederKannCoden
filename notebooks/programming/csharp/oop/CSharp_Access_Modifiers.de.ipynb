{
 "cells": [
  {
   "cell_type": "markdown",
   "metadata": {},
   "source": [
    "[Jeder kann coden](../../abstract/Contents.de.ipynb) / [Programmieren & TicTacToe](../../Programming_And_TicTacToe.de.ipynb) / [Objektorientierte Programmierung](../../Objectoriented_Programming.de.ipynb) / [Objektorientierte Programmierung in C#](CSharp_Basics.de.ipynb)\n",
    "\n",
    "# Zugriffsmodifizierer in C#\n",
    "\n",
    "<table border=\"0\">\n",
    "  <tr>\n",
    "    <td>\n",
    "        <img src=\"Access_Modifiers.webp\">\n",
    "    </td>\n",
    "    <td rowspan=\"2\">\n",
    "        <a href=\"https://miro.com/app/board/o9J_lOJi2o0=/?moveToWidget=3458764554347680798&cot=14\"><img src=\"Radar_OOP.jpg\"></a>\n",
    "    </td>\n",
    "  </tr>\n",
    "  <tr>\n",
    "    <td>\n",
    "      <a href=\"https://learn.microsoft.com/en-us/dotnet/csharp/programming-guide/classes-and-structs/access-modifiers\" target=\"_blank\">C# Access Modifiers - Microsoft Docs</a><br>\n",
    "      <a href=\"https://www.dotnetperls.com/access-modifiers\" target=\"_blank\">Understanding Access Modifiers in C# - DotNetPerls</a><br>\n",
    "      <a href=\"https://www.w3schools.com/cs/cs_access_modifiers.php\" target=\"_blank\">C# Access Modifiers - W3Schools</a><br>\n",
    "    </td>\n",
    "  </tr>\n",
    "</table>\n",
    "\n",
    "In C# gibt es fünf Zugriffsmodifizierer, die den Zugriff auf Klassen, Methoden und Felder steuern: `public`, `private`, `protected`, `internal`, und `protected internal`. Ich erkläre dir jeden Modifizierer und zeige ein Beispiel im Kontext der Umweltinformatik.\n",
    "\n",
    "### `public`\n",
    "Der `public` Modifizierer erlaubt den Zugriff auf ein Feld, eine Methode oder eine Klasse von überall im Projekt.\n",
    "\n",
    "#### Beispiel"
   ]
  },
  {
   "cell_type": "code",
   "execution_count": null,
   "metadata": {
    "dotnet_interactive": {
     "language": "csharp"
    },
    "polyglot_notebook": {
     "kernelName": "csharp"
    },
    "vscode": {
     "languageId": "polyglot-notebook"
    }
   },
   "outputs": [],
   "source": [
    "public class Sensor\n",
    "{\n",
    "    public string Name { get; set; }\n",
    "\n",
    "    public void Messen()\n",
    "    {\n",
    "        Console.WriteLine($\"{Name} misst Umweltdaten...\");\n",
    "    }\n",
    "}\n",
    "\n",
    "Sensor sensor = new Sensor { Name = \"CO2-Sensor\" };\n",
    "sensor.Messen();  // Zugriff auf `Messen` von überall möglich"
   ]
  },
  {
   "cell_type": "markdown",
   "metadata": {},
   "source": [
    "### 2. `private`\n",
    "Der `private` Modifizierer beschränkt den Zugriff auf das Mitglied innerhalb derselben Klasse.\n",
    "\n",
    "#### Beispiel"
   ]
  },
  {
   "cell_type": "code",
   "execution_count": null,
   "metadata": {
    "dotnet_interactive": {
     "language": "csharp"
    },
    "polyglot_notebook": {
     "kernelName": "csharp"
    },
    "vscode": {
     "languageId": "polyglot-notebook"
    }
   },
   "outputs": [],
   "source": [
    "public class Datenlogger\n",
    "{\n",
    "    private string datenFormat = \"JSON\";\n",
    "\n",
    "    public void LogDaten()\n",
    "    {\n",
    "        Console.WriteLine($\"Daten werden im {datenFormat}-Format gespeichert.\");\n",
    "    }\n",
    "}\n",
    "\n",
    "Datenlogger logger = new Datenlogger();\n",
    "logger.LogDaten();\n",
    "// Kein direkter Zugriff auf `datenFormat` von außerhalb der Klasse"
   ]
  },
  {
   "cell_type": "markdown",
   "metadata": {},
   "source": [
    "### `protected`\n",
    "Der `protected` Modifizierer ermöglicht den Zugriff nur innerhalb der eigenen Klasse und in abgeleiteten Klassen.\n",
    "\n",
    "#### Beispiel"
   ]
  },
  {
   "cell_type": "code",
   "execution_count": null,
   "metadata": {
    "dotnet_interactive": {
     "language": "csharp"
    },
    "polyglot_notebook": {
     "kernelName": "csharp"
    },
    "vscode": {
     "languageId": "polyglot-notebook"
    }
   },
   "outputs": [],
   "source": [
    "public class Sensor\n",
    "{\n",
    "    protected string Einheit = \"ppm\";\n",
    "\n",
    "    public void Ausgabe()\n",
    "    {\n",
    "        Console.WriteLine(\"Sensordaten werden ausgegeben.\");\n",
    "    }\n",
    "}\n",
    "\n",
    "public class CO2Sensor : Sensor\n",
    "{\n",
    "    public void Messen()\n",
    "    {\n",
    "        Console.WriteLine($\"CO2-Level wird in {Einheit} gemessen.\");\n",
    "    }\n",
    "}\n",
    "\n",
    "CO2Sensor sensor = new CO2Sensor();\n",
    "sensor.Messen();"
   ]
  },
  {
   "cell_type": "markdown",
   "metadata": {},
   "source": [
    "### `internal`\n",
    "Der `internal` Modifizierer erlaubt den Zugriff innerhalb derselben Assembly, jedoch nicht von externen Assemblys.\n",
    "\n",
    "#### Beispiel"
   ]
  },
  {
   "cell_type": "code",
   "execution_count": null,
   "metadata": {
    "dotnet_interactive": {
     "language": "csharp"
    },
    "polyglot_notebook": {
     "kernelName": "csharp"
    },
    "vscode": {
     "languageId": "polyglot-notebook"
    }
   },
   "outputs": [],
   "source": [
    "internal class DatenVerarbeiter\n",
    "{\n",
    "    public void Verarbeiten()\n",
    "    {\n",
    "        Console.WriteLine(\"Umweltdaten werden verarbeitet.\");\n",
    "    }\n",
    "}\n",
    "\n",
    "DatenVerarbeiter verarbeiter = new DatenVerarbeiter();\n",
    "verarbeiter.Verarbeiten();  // Zugriff innerhalb derselben Assembly"
   ]
  },
  {
   "cell_type": "markdown",
   "metadata": {},
   "source": [
    "### `protected internal`\n",
    "Der `protected internal` Modifizierer kombiniert die Zugriffsrechte von `protected` und `internal`, was bedeutet, dass der Zugriff innerhalb derselben Assembly und von abgeleiteten Klassen möglich ist.\n",
    "\n",
    "#### Beispiel"
   ]
  },
  {
   "cell_type": "code",
   "execution_count": null,
   "metadata": {
    "dotnet_interactive": {
     "language": "csharp"
    },
    "polyglot_notebook": {
     "kernelName": "csharp"
    },
    "vscode": {
     "languageId": "polyglot-notebook"
    }
   },
   "outputs": [],
   "source": [
    "public class Sensor\n",
    "{\n",
    "    protected internal string SensorTyp = \"Luftqualitätssensor\";\n",
    "\n",
    "    public void Ausgabe()\n",
    "    {\n",
    "        Console.WriteLine($\"Typ: {SensorTyp}\");\n",
    "    }\n",
    "}\n",
    "\n",
    "public class FeinstaubSensor : Sensor\n",
    "{\n",
    "    public void Messen()\n",
    "    {\n",
    "        Console.WriteLine($\"{SensorTyp} misst Feinstaubpartikel...\");\n",
    "    }\n",
    "}\n",
    "\n",
    "FeinstaubSensor sensor = new FeinstaubSensor();\n",
    "sensor.Messen();"
   ]
  },
  {
   "cell_type": "markdown",
   "metadata": {},
   "source": [
    "Diese Beispiele illustrieren, wie Zugriffsmodifizierer helfen, den Zugriff auf Daten und Methoden zu kontrollieren, was für eine strukturierte Softwarearchitektur, wie sie auch in der Umweltinformatik wichtig ist, entscheidend ist."
   ]
  },
  {
   "cell_type": "markdown",
   "metadata": {},
   "source": [
    "## Übung\n",
    "\n",
    "Hier ist ein kleines Übungsprogramm, bei dem der Benutzer entscheiden muss, welche Zugriffsmodifizierer (`public`, `private`, `protected`, `internal`, `protected internal`) in den entsprechenden Zeilen ergänzt werden sollen:\n",
    "\n",
    "### Beschreibung:\n",
    "Das Programm simuliert eine Umweltstation, die verschiedene Sensoren (z. B. Temperatur- und Feuchtigkeitssensoren) verwaltet. Der Benutzer muss die Zugriffsmodifizierer hinzufügen, um das Programm funktionsfähig zu machen und sicherzustellen, dass es den gewünschten Zugriffseinschränkungen entspricht.\n",
    "\n",
    "### Übungsprogramm:\n",
    "\n",
    "```csharp\n",
    "using System;\n",
    "\n",
    "namespace Umweltinformatik\n",
    "{\n",
    "    // Ergänze den Zugriffsmodifizierer: Soll diese Klasse nur innerhalb der Assembly zugänglich sein?\n",
    "    class UmweltStation\n",
    "    {\n",
    "        // Ergänze den Zugriffsmodifizierer: Soll der Name der Station von außen änderbar sein?\n",
    "        string StationName;\n",
    "\n",
    "        // Ergänze den Zugriffsmodifizierer: Soll diese Methode nur innerhalb der Klasse oder auch von außen aufgerufen werden können?\n",
    "        void SetStationName(string name)\n",
    "        {\n",
    "            StationName = name;\n",
    "        }\n",
    "\n",
    "        // Ergänze den Zugriffsmodifizierer: Soll diese Methode auch in abgeleiteten Klassen verfügbar sein?\n",
    "        string GetStationName()\n",
    "        {\n",
    "            return StationName;\n",
    "        }\n",
    "    }\n",
    "\n",
    "    // Ergänze den Zugriffsmodifizierer: Soll diese Klasse von überall zugänglich sein?\n",
    "    class Sensor\n",
    "    {\n",
    "        // Ergänze den Zugriffsmodifizierer: Soll dieser Wert nur von abgeleiteten Klassen geändert werden können?\n",
    "        string SensorTyp;\n",
    "\n",
    "        // Ergänze den Zugriffsmodifizierer: Soll diese Methode öffentlich verfügbar sein?\n",
    "        void ErfasseDaten()\n",
    "        {\n",
    "            Console.WriteLine($\"Erfasse Daten vom Typ: {SensorTyp}\");\n",
    "        }\n",
    "    }\n",
    "\n",
    "    class Program\n",
    "    {\n",
    "        static void Main()\n",
    "        {\n",
    "            // Ergänze die Zugriffsmodifizierer, sodass diese Instanz korrekt erstellt und verwendet werden kann.\n",
    "            UmweltStation station = new UmweltStation();\n",
    "            Sensor sensor = new Sensor();\n",
    "\n",
    "            // Ergänze die Zugriffsmodifizierer so, dass diese Methodenaufrufe möglich sind:\n",
    "            // station.SetStationName(\"Station Berlin\");\n",
    "            // Console.WriteLine($\"Station Name: {station.GetStationName()}\");\n",
    "            // sensor.ErfasseDaten();\n",
    "        }\n",
    "    }\n",
    "}\n",
    "```\n",
    "\n",
    "### Lösungshinweise:\n",
    "- Überlege, ob Variablen oder Methoden von außen zugänglich sein sollen (`public`), nur innerhalb der Klasse (`private`), oder in abgeleiteten Klassen (`protected`).\n",
    "- `internal` kann verwendet werden, wenn der Zugriff nur innerhalb des Projekts erlaubt sein soll.\n",
    "- Der `protected internal` Modifizierer kann kombiniert verwendet werden, wenn der Zugriff innerhalb des Projekts und in abgeleiteten Klassen erlaubt sein soll.\n",
    "\n",
    "Wenn du möchtest, kann ich auch die Lösung mit den richtigen Zugriffsmodifizierern bereitstellen."
   ]
  }
 ],
 "metadata": {
  "kernelspec": {
   "display_name": ".NET (C#)",
   "language": "C#",
   "name": ".net-csharp"
  },
  "language_info": {
   "name": "python"
  },
  "polyglot_notebook": {
   "kernelInfo": {
    "defaultKernelName": "csharp",
    "items": [
     {
      "aliases": [],
      "name": "csharp"
     }
    ]
   }
  }
 },
 "nbformat": 4,
 "nbformat_minor": 2
}
