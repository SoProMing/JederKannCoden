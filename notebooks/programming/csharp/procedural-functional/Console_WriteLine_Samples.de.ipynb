{
 "cells": [
  {
   "cell_type": "markdown",
   "id": "3adfadcf",
   "metadata": {},
   "source": [
    "# C# WriteLine Samples\n",
    "\n",
    "<table border=\"0\">\n",
    "  <tr>\n",
    "    <td>\n",
    "        <img src=\"writeline.webp\" style=\"width:280px; height:280px;\">\n",
    "    </td>\n",
    "    <td rowspan=\"2\">\n",
    "        <img src=\"Radar_WriteLine.de.jpg\" style=\"width:480px;\"\n",
    "    </td>\n",
    "  </tr>\n",
    "  <tr>\n",
    "    <td>\n",
    "      <a href=\"https://learn.microsoft.com/de-de/dotnet/api/system.console.writeline?view=net-5.0\">Link zur Microsoft Dokumentation (Quelle)</a><br>\n",
    "      <a href=\"Console_WriteLine_Basics.de.ipynb\">Link zu WriteLine Basics</a><br>\n",
    "      <a href=\"Console_WriteLine_TicTacToe.de.ipynb\">Link zu WriteLine & TicTacToe</a><br>      \n",
    "      <a href=\"Console_ReadLine_Basics.de.ipynb\">Link zu ReadLine</a><br>\n",
    "      <a href=\"https://miro.com/app/board/o9J_lOJi2o0=/?moveToWidget=3458764554347680798&cot=14\">Link zum roten Faden auf Miro</a><br>\n",
    "      <a href=\"https://www.w3schools.com/cs/cs_output.php\">Link zu Tutorial auf w3schools</a>\n",
    "    </td>\n",
    "  </tr>\n",
    "</table>"
   ]
  },
  {
   "cell_type": "markdown",
   "id": "c516b857",
   "metadata": {},
   "source": [
    "## Formatierungsoptionen\n",
    "\n",
    "Der folgende C#-Code zeigt die Anwendung der `Console.WriteLine()`-Methode zur Ausgabe von Werten in verschiedenen Formaten. Er demonstriert numerische Formatbezeichner, Datums-/Uhrzeitformatbezeichner sowie Aufzählungs- (Enum) Formatbezeichner. Verschiedene Formatierungsmuster wie Währung, Wissenschaftliche Notation, Hexadezimal und Datumsformatierung werden verwendet, um die Flexibilität der Ausgabeoptionen in .NET zu zeigen."
   ]
  },
  {
   "cell_type": "code",
   "execution_count": 2,
   "id": "b368150d",
   "metadata": {
    "dotnet_interactive": {
     "language": "csharp"
    },
    "polyglot_notebook": {
     "kernelName": "csharp"
    },
    "vscode": {
     "languageId": "polyglot-notebook"
    }
   },
   "outputs": [
    {
     "name": "stdout",
     "output_type": "stream",
     "text": [
      "Standard Numeric Format Specifiers\n",
      "(C) Currency: . . . . . . . . -123,00 ¤\n",
      "(D) Decimal:. . . . . . . . . -123\n",
      "(E) Scientific: . . . . . . . -1,234500E+002\n",
      "(F) Fixed point:. . . . . . . -123,450\n",
      "(G) General:. . . . . . . . . -123\n",
      "    (default):. . . . . . . . -123 (default = 'G')\n",
      "(N) Number: . . . . . . . . . -123,000\n",
      "(P) Percent:. . . . . . . . . -12.345,000 %\n",
      "(R) Round-trip: . . . . . . . -123,45\n",
      "(X) Hexadecimal:. . . . . . . FFFFFF85\n",
      "\n"
     ]
    }
   ],
   "source": [
    "// Definition einer Enumeration namens \"Color\".\n",
    "enum Color { Yellow = 1, Blue, Green };\n",
    "\n",
    "// Variable, die das aktuelle Datum speichert.\n",
    "static DateTime thisDate = DateTime.Now;\n",
    "\n",
    "// Löscht den Konsoleninhalt.\n",
    "Console.Clear();\n",
    "\n",
    "// Ausgabe von Zahlen mit verschiedenen Standardformatbezeichnern.\n",
    "Console.WriteLine(\"Standard Numeric Format Specifiers\");\n",
    "// Formatierungsbeispiele für negative Ganzzahlen und Gleitkommazahlen.\n",
    "Console.WriteLine(\n",
    "    \"(C) Currency: . . . . . . . . {0:C}\\n\" +    // Währungsformatierung\n",
    "    \"(D) Decimal:. . . . . . . . . {0:D}\\n\" +    // Dezimalformatierung\n",
    "    \"(E) Scientific: . . . . . . . {1:E}\\n\" +   // Wissenschaftliche Notation\n",
    "    \"(F) Fixed point:. . . . . . . {1:F}\\n\" +   // Festkommaformat\n",
    "    \"(G) General:. . . . . . . . . {0:G}\\n\" +   // Allgemeines Zahlenformat\n",
    "    \"    (default):. . . . . . . . {0} (default = 'G')\\n\" +  // Standardformat\n",
    "    \"(N) Number: . . . . . . . . . {0:N}\\n\" +   // Zahlenformat mit Tausendertrennung\n",
    "    \"(P) Percent:. . . . . . . . . {1:P}\\n\" +   // Prozentformatierung\n",
    "    \"(R) Round-trip: . . . . . . . {1:R}\\n\" +   // Round-Trip-Format für Gleitkommazahlen\n",
    "    \"(X) Hexadecimal:. . . . . . . {0:X}\\n\",    // Hexadezimalformatierung\n",
    "    -123, -123.45f);"
   ]
  },
  {
   "cell_type": "code",
   "execution_count": 3,
   "id": "ec4fbc0b",
   "metadata": {
    "dotnet_interactive": {
     "language": "csharp"
    },
    "polyglot_notebook": {
     "kernelName": "csharp"
    },
    "vscode": {
     "languageId": "polyglot-notebook"
    }
   },
   "outputs": [
    {
     "name": "stdout",
     "output_type": "stream",
     "text": [
      "Standard DateTime Format Specifiers\n",
      "(d) Short date: . . . . . . . 21.08.2024\n",
      "(D) Long date:. . . . . . . . Mittwoch, 21. August 2024\n",
      "(t) Short time: . . . . . . . 20:27\n",
      "(T) Long time:. . . . . . . . 20:27:20\n",
      "(f) Full date/short time: . . Mittwoch, 21. August 2024 20:27\n",
      "(F) Full date/long time:. . . Mittwoch, 21. August 2024 20:27:20\n",
      "(g) General date/short time:. 21.08.2024 20:27\n",
      "(G) General date/long time: . 21.08.2024 20:27:20\n",
      "    (default):. . . . . . . . 21.08.2024 20:27:20 (default = 'G')\n",
      "(M) Month:. . . . . . . . . . 21. August\n",
      "(R) RFC1123:. . . . . . . . . Wed, 21 Aug 2024 20:27:20 GMT\n",
      "(s) Sortable: . . . . . . . . 2024-08-21T20:27:20\n",
      "(u) Universal sortable: . . . 2024-08-21 20:27:20Z (invariant)\n",
      "(U) Universal full date/time: Mittwoch, 21. August 2024 18:27:20\n",
      "(Y) Year: . . . . . . . . . . August 2024\n",
      "\n",
      "Standard Enumeration Format Specifiers\n",
      "(G) General:. . . . . . . . . Green\n",
      "    (default):. . . . . . . . Green (default = 'G')\n",
      "(F) Flags:. . . . . . . . . . Green (flags or integer)\n",
      "(D) Decimal number: . . . . . 3\n",
      "(X) Hexadecimal:. . . . . . . 00000003\n",
      "\n"
     ]
    }
   ],
   "source": [
    "\n",
    "// Ausgabe des aktuellen Datums in verschiedenen Formaten.\n",
    "Console.WriteLine(\"Standard DateTime Format Specifiers\");\n",
    "// Formatierungsbeispiele für Datums- und Uhrzeitangaben.\n",
    "Console.WriteLine(\n",
    "    \"(d) Short date: . . . . . . . {0:d}\\n\" +   // Kurzes Datumsformat\n",
    "    \"(D) Long date:. . . . . . . . {0:D}\\n\" +   // Langes Datumsformat\n",
    "    \"(t) Short time: . . . . . . . {0:t}\\n\" +   // Kurzes Zeitformat\n",
    "    \"(T) Long time:. . . . . . . . {0:T}\\n\" +   // Langes Zeitformat\n",
    "    \"(f) Full date/short time: . . {0:f}\\n\" +   // Volles Datum und kurze Zeit\n",
    "    \"(F) Full date/long time:. . . {0:F}\\n\" +   // Volles Datum und lange Zeit\n",
    "    \"(g) General date/short time:. {0:g}\\n\" +   // Generelles Datum und kurze Zeit\n",
    "    \"(G) General date/long time: . {0:G}\\n\" +   // Generelles Datum und lange Zeit\n",
    "    \"    (default):. . . . . . . . {0} (default = 'G')\\n\" +  // Standardformat\n",
    "    \"(M) Month:. . . . . . . . . . {0:M}\\n\" +   // Monatsformat\n",
    "    \"(R) RFC1123:. . . . . . . . . {0:R}\\n\" +   // RFC1123-Datumsformat\n",
    "    \"(s) Sortable: . . . . . . . . {0:s}\\n\" +   // Sortierbares Datumsformat\n",
    "    \"(u) Universal sortable: . . . {0:u} (invariant)\\n\" +   // Universell sortierbares Format\n",
    "    \"(U) Universal full date/time: {0:U}\\n\" +   // Universelles volles Datums-/Zeitformat\n",
    "    \"(Y) Year: . . . . . . . . . . {0:Y}\\n\",    // Jahresformat\n",
    "    thisDate);"
   ]
  },
  {
   "cell_type": "code",
   "execution_count": null,
   "id": "066eaf64",
   "metadata": {
    "dotnet_interactive": {
     "language": "csharp"
    },
    "polyglot_notebook": {
     "kernelName": "csharp"
    },
    "vscode": {
     "languageId": "polyglot-notebook"
    }
   },
   "outputs": [],
   "source": [
    "\n",
    "// Ausgabe einer Aufzählung in verschiedenen Formaten.\n",
    "Console.WriteLine(\"Standard Enumeration Format Specifiers\");\n",
    "// Formatierungsbeispiele für eine Enumeration.\n",
    "Console.WriteLine(\n",
    "    \"(G) General:. . . . . . . . . {0:G}\\n\" +   // Allgemeines Format für Enumerationen\n",
    "    \"    (default):. . . . . . . . {0} (default = 'G')\\n\" +  // Standardformat\n",
    "    \"(F) Flags:. . . . . . . . . . {0:F} (flags or integer)\\n\" +  // Flags-Format für Enumerationen\n",
    "    \"(D) Decimal number: . . . . . {0:D}\\n\" +   // Dezimalformat für Enumerationen\n",
    "    \"(X) Hexadecimal:. . . . . . . {0:X}\\n\",    // Hexadezimalformat für Enumerationen\n",
    "    Color.Green);  // Gibt die Farbe Grün aus."
   ]
  },
  {
   "cell_type": "markdown",
   "id": "12708ce4",
   "metadata": {},
   "source": [
    "## WriteLine & tabellarische Darstellung\n",
    "\n",
    "Der nächste Code berechnet das Trinkgeld für eine Rechnung basierend auf einem festen Trinkgeldsatz von 18 %. Es wird die Rechnung, das Trinkgeld und die Gesamtsumme formatiert und in der Konsole ausgegeben."
   ]
  },
  {
   "cell_type": "code",
   "execution_count": 1,
   "id": "542c80cb",
   "metadata": {
    "dotnet_interactive": {
     "language": "csharp"
    },
    "polyglot_notebook": {
     "kernelName": "csharp"
    },
    "vscode": {
     "languageId": "polyglot-notebook"
    }
   },
   "outputs": [
    {
     "name": "stdout",
     "output_type": "stream",
     "text": [
      "\n",
      "Bill total:\t 42,42 ¤\n",
      "Tip total/rate:\t  7,64 ¤ (18,0 %)\n",
      "------------------------\n",
      "Grand total:\t 50,06 ¤\n"
     ]
    }
   ],
   "source": [
    "// Definiert eine konstante Variable für den Trinkgeldsatz.\n",
    "private const double tipRate = 0.18;\n",
    "\n",
    "// Deklariert eine Variable für die Gesamtrechnung.\n",
    "double billTotal = 42.42;\n",
    "\n",
    "// Berechnet das Trinkgeld basierend auf der Gesamtrechnung und dem Trinkgeldsatz.\n",
    "double tip = billTotal * tipRate;\n",
    "\n",
    "// Gibt die Gesamtrechnung, das Trinkgeld und den Gesamtsumme mit Formatierung in die Konsole aus.\n",
    "Console.WriteLine();\n",
    "Console.WriteLine($\"Bill total:\\t{billTotal,8:c}\");            // Formatierte Ausgabe der Gesamtrechnung.\n",
    "Console.WriteLine($\"Tip total/rate:\\t{tip,8:c} ({tipRate:p1})\"); // Ausgabe des Trinkgelds und des Prozentsatzes.\n",
    "Console.WriteLine((\"\").PadRight(24, '-'));                       // Trennlinie.\n",
    "Console.WriteLine($\"Grand total:\\t{billTotal + tip,8:c}\");       // Ausgabe der Gesamtsumme (Rechnung + Trinkgeld)."
   ]
  },
  {
   "cell_type": "markdown",
   "id": "f3617c0c",
   "metadata": {},
   "source": [
    "## WriteLine & \"new line\"\n",
    "\n",
    "Der folgende Code zeigt, wie man den Zeilenumbruch (Newline) in der Konsole ändern kann. Zuerst werden die Zeilen mit der Standard-Zeilenumbruchsequenz ausgegeben. Danach wird der Zeilenumbruch auf einen doppelten Abstand gesetzt, und die Zeilen werden erneut mit dieser neuen Zeilenumbruchsequenz ausgegeben."
   ]
  },
  {
   "cell_type": "code",
   "execution_count": 2,
   "id": "74c81362",
   "metadata": {
    "dotnet_interactive": {
     "language": "csharp"
    },
    "polyglot_notebook": {
     "kernelName": "csharp"
    },
    "vscode": {
     "languageId": "polyglot-notebook"
    }
   },
   "outputs": [
    {
     "name": "stdout",
     "output_type": "stream",
     "text": [
      "With the default new line characters:\n",
      "\n",
      "This is the first line.\n",
      "This is the second line.\n",
      "\n",
      "With redefined new line characters:\n",
      "\n",
      "This is the first line.\n",
      "This is the second line.\n"
     ]
    }
   ],
   "source": [
    "// Ein Array von Zeichenfolgen, das zwei Zeilen enthält.\n",
    "string[] lines = { \"This is the first line.\", \n",
    "                   \"This is the second line.\" };\n",
    "\n",
    "// Ausgabe der Zeilen unter Verwendung der Standard-Zeilenumbruchsequenz.\n",
    "Console.WriteLine(\"With the default new line characters:\");\n",
    "Console.WriteLine();\n",
    "foreach (string line in lines)\n",
    "   // Gibt jede Zeile mit dem Standard-Zeilenumbruch aus.\n",
    "   Console.WriteLine(line);\n",
    "\n",
    "Console.WriteLine();\n",
    "\n",
    "// Die Zeilenumbruchsequenz wird neu definiert, um einen doppelten Abstand zu verwenden.\n",
    "Console.Out.NewLine = \"\\r\\n\\r\\n\";\n",
    "// Ausgabe der Zeilen unter Verwendung der neu definierten Zeilenumbruchsequenz.\n",
    "Console.WriteLine(\"With redefined new line characters:\");\n",
    "Console.WriteLine();\n",
    "foreach (string line in lines)\n",
    "   // Gibt jede Zeile mit der neuen Zeilenumbruchsequenz aus.\n",
    "   Console.WriteLine(line);"
   ]
  },
  {
   "cell_type": "markdown",
   "id": "1cbb08d1",
   "metadata": {},
   "source": [
    "← [`WriteLine()` Basics](./Console_WriteLine_Basics.de.ipynb)\n",
    "\n",
    "[`WriteLine()` and TicTacToe](./Console_WriteLine_TicTacToe.de.ipynb) →"
   ]
  }
 ],
 "metadata": {
  "kernelspec": {
   "display_name": ".NET (C#)",
   "language": "C#",
   "name": ".net-csharp"
  },
  "language_info": {
   "name": "C#"
  },
  "polyglot_notebook": {
   "kernelInfo": {
    "defaultKernelName": "csharp",
    "items": [
     {
      "aliases": [],
      "name": "csharp"
     }
    ]
   }
  }
 },
 "nbformat": 4,
 "nbformat_minor": 5
}
