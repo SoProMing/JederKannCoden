{
 "cells": [
  {
   "cell_type": "markdown",
   "metadata": {},
   "source": [
    "[Jeder kann coden](../../abstract/Contents.de.ipynb) / [Programmieren & TicTacToe](../../Programming_And_TicTacToe.de.ipynb) / [C# Einführung](../CSharp_Introduction.de.ipynb) / [Funktionen Grundlagen](../CSharp_Introduction/Functions.de.ipynb)\n",
    "\n",
    "# Prozeduren, Funktionen und Methoden in C#\n",
    "\n",
    "<table border=\"0\">\n",
    "  <tr>\n",
    "    <td>\n",
    "        <img src=\"Methods.webp\">\n",
    "    </td>\n",
    "    <td rowspan=\"2\">\n",
    "        <a href=\"https://miro.com/app/board/o9J_lOJi2o0=/?moveToWidget=3458764554347680798&cot=14\"><img src=\"Radar_methods.jpg\"></a>\n",
    "    </td>\n",
    "  </tr>\n",
    "  <tr>\n",
    "    <td>\n",
    "      <a href=\"https://learn.microsoft.com/de-de/dotnet/csharp/programming-guide/classes-and-structs/methods\">Link zur Microsoft Dokumentation</a><br>\n",
    "      <a href=\"https://miro.com/app/board/o9J_lOJi2o0=/?moveToWidget=3458764554345659185&cot=14\">Link zum roten Faden auf Miro</a><br>\n",
    "      <a href=\"https://www.w3schools.com/cs/cs_methods.php\">Link zu Tutorial auf w3schools</a>\n",
    "    </td>\n",
    "  </tr>\n",
    "</table>\n",
    "\n",
    "In C# sind Prozeduren und Funktionen spezielle Arten von  **Methoden**, die in Klassen oder Strukturen definiert werden. Der Unterschied zwischen Prozeduren und Funktionen liegt im  **Rückgabewert**:\n",
    "\n",
    "-   **Prozedur:**  Eine Methode, die keinen Rückgabewert hat (definiert mit  `void`).\n",
    "-   **Funktion:**  Eine Methode, die einen Rückgabewert hat.\n",
    "\n",
    "### Methodensignaturen\n",
    "\n",
    "Eine Methodensignatur definiert den Namen, die Parameter und den Rückgabewert einer Methode. Sie ist eindeutig, wenn:\n",
    "\n",
    "-   Der Name der Methode\n",
    "-   Die Anzahl der Parameter\n",
    "-   Die Reihenfolge und Typen der Parameter\n",
    "\n",
    "**Codebeispiel (Umweltinformatik – Berechnung des CO₂-Fußabdrucks):**"
   ]
  },
  {
   "cell_type": "code",
   "execution_count": 2,
   "metadata": {
    "dotnet_interactive": {
     "language": "csharp"
    },
    "polyglot_notebook": {
     "kernelName": "csharp"
    },
    "vscode": {
     "languageId": "polyglot-notebook"
    }
   },
   "outputs": [],
   "source": [
    "public class CO2Berechnung\n",
    "{\n",
    "    // Methode ohne Rückgabewert (Prozedur)\n",
    "    public void Begrüßung()\n",
    "    {\n",
    "        Console.WriteLine(\"Willkommen zur CO₂-Fußabdruck-Berechnung!\");\n",
    "    }\n",
    "\n",
    "    // Methode mit Rückgabewert (Funktion)\n",
    "    public double BerechneEmissionen(double streckeInKm, double emissionsFaktor)\n",
    "    {\n",
    "        // Signatur: BerechneEmissionen(double, double) : double\n",
    "        return streckeInKm * emissionsFaktor;\n",
    "    }\n",
    "}"
   ]
  },
  {
   "cell_type": "markdown",
   "metadata": {},
   "source": [
    "### Methodenzugriff\n",
    "\n",
    "Methoden können mit Zugriffsmodifizierern definiert werden:\n",
    "\n",
    "-   **public**: Zugriff von überall.\n",
    "-   **private**: Zugriff nur innerhalb der gleichen Klasse.\n",
    "-   **protected**: Zugriff in der gleichen Klasse und abgeleiteten Klassen.\n",
    "-   **internal**: Zugriff innerhalb der gleichen Assembly.\n",
    "-   **protected internal**: Mischung aus  `protected`  und  `internal`.\n",
    "\n",
    "**Beispiel:**"
   ]
  },
  {
   "cell_type": "code",
   "execution_count": 3,
   "metadata": {
    "dotnet_interactive": {
     "language": "csharp"
    },
    "polyglot_notebook": {
     "kernelName": "csharp"
    },
    "vscode": {
     "languageId": "polyglot-notebook"
    }
   },
   "outputs": [],
   "source": [
    "public class CO2Berechnung\n",
    "{\n",
    "    private double emissionsFaktor = 0.21; // nur innerhalb der Klasse sichtbar\n",
    "\n",
    "    public double BerechneEmissionen(double streckeInKm)\n",
    "    {\n",
    "        return streckeInKm * emissionsFaktor; // Zugriff auf private Variable\n",
    "    }\n",
    "}"
   ]
  },
  {
   "cell_type": "markdown",
   "metadata": {},
   "source": [
    "### Methodenparameter und Argumente\n",
    "\n",
    "Methoden können Parameter enthalten, die bei ihrem Aufruf mit Werten (Argumenten) belegt werden.\n",
    "\n",
    "**Beispiel:**"
   ]
  },
  {
   "cell_type": "code",
   "execution_count": 4,
   "metadata": {
    "dotnet_interactive": {
     "language": "csharp"
    },
    "polyglot_notebook": {
     "kernelName": "csharp"
    },
    "vscode": {
     "languageId": "polyglot-notebook"
    }
   },
   "outputs": [],
   "source": [
    "public double BerechneEmissionen(double streckeInKm, double emissionsFaktor)\n",
    "{\n",
    "    return streckeInKm * emissionsFaktor;\n",
    "}\n",
    "\n",
    "// Aufruf\n",
    "double ergebnis = BerechneEmissionen(100, 0.21);"
   ]
  },
  {
   "cell_type": "markdown",
   "metadata": {},
   "source": [
    "### Übergeben nach Wert und Übergeben nach Verweis\n",
    "\n",
    "-   **Nach Wert (by value):**  Standardverhalten, der Wert wird kopiert.\n",
    "-   **Nach Verweis (by reference):**  Übergabe eines Verweises auf die ursprüngliche Variable mit  `ref`  oder  `out`.\n",
    "\n",
    "**Beispiel:**"
   ]
  },
  {
   "cell_type": "code",
   "execution_count": 5,
   "metadata": {
    "dotnet_interactive": {
     "language": "csharp"
    },
    "polyglot_notebook": {
     "kernelName": "csharp"
    },
    "vscode": {
     "languageId": "polyglot-notebook"
    }
   },
   "outputs": [],
   "source": [
    "public void ÄndereWert(ref double emissionsFaktor)\n",
    "{\n",
    "    emissionsFaktor = 0.25; // Originalvariable wird geändert\n",
    "}"
   ]
  },
  {
   "cell_type": "markdown",
   "metadata": {},
   "source": [
    "### Rückgabewerte\n",
    "\n",
    "Eine Methode kann:\n",
    "\n",
    "-   Keinen Rückgabewert haben (`void`).\n",
    "-   Einen Wert zurückgeben (z. B.  `int`,  `double`,  `string`).\n",
    "\n",
    "**Beispiel:**"
   ]
  },
  {
   "cell_type": "code",
   "execution_count": 6,
   "metadata": {
    "dotnet_interactive": {
     "language": "csharp"
    },
    "polyglot_notebook": {
     "kernelName": "csharp"
    },
    "vscode": {
     "languageId": "polyglot-notebook"
    }
   },
   "outputs": [],
   "source": [
    "public double BerechneEmissionen(double streckeInKm, double emissionsFaktor)\n",
    "{\n",
    "    return streckeInKm * emissionsFaktor;\n",
    "}"
   ]
  },
  {
   "cell_type": "markdown",
   "metadata": {},
   "source": [
    "### Asynchrone Methoden\n",
    "\n",
    "Asynchrone Methoden erlauben es, langlaufende Operationen nicht-blockierend auszuführen, z. B. Daten von einer API abrufen.\n",
    "\n",
    "**Beispiel (Daten von einer Umwelt-API abrufen):**"
   ]
  },
  {
   "cell_type": "code",
   "execution_count": 7,
   "metadata": {
    "dotnet_interactive": {
     "language": "csharp"
    },
    "polyglot_notebook": {
     "kernelName": "csharp"
    },
    "vscode": {
     "languageId": "polyglot-notebook"
    }
   },
   "outputs": [],
   "source": [
    "using System.Net.Http;\n",
    "using System.Threading.Tasks;\n",
    "\n",
    "public async Task<double> LadeEmissionsFaktorAsync()\n",
    "{\n",
    "    HttpClient client = new HttpClient();\n",
    "    string response = await client.GetStringAsync(\"https://api.umweltinfo.de/emissionsfaktor\");\n",
    "    return double.Parse(response); // Beispielwert\n",
    "}"
   ]
  },
  {
   "cell_type": "markdown",
   "metadata": {},
   "source": [
    "### Ausdruckstextdefinitionen\n",
    "\n",
    "Kurzform für einfache Methoden, die eine Berechnung oder Rückgabe durchführen.\n",
    "\n",
    "**Beispiel:**"
   ]
  },
  {
   "cell_type": "code",
   "execution_count": 8,
   "metadata": {
    "dotnet_interactive": {
     "language": "csharp"
    },
    "polyglot_notebook": {
     "kernelName": "csharp"
    },
    "vscode": {
     "languageId": "polyglot-notebook"
    }
   },
   "outputs": [],
   "source": [
    "public double BerechneEmissionen(double streckeInKm, double emissionsFaktor) => streckeInKm * emissionsFaktor;"
   ]
  },
  {
   "cell_type": "markdown",
   "metadata": {},
   "source": [
    "### Iterators\n",
    "\n",
    "Iterators erlauben das schrittweise Durchlaufen von Elementen (z. B. mit  `yield return`).\n",
    "\n",
    "**Beispiel:**"
   ]
  },
  {
   "cell_type": "code",
   "execution_count": 9,
   "metadata": {
    "dotnet_interactive": {
     "language": "csharp"
    },
    "polyglot_notebook": {
     "kernelName": "csharp"
    },
    "vscode": {
     "languageId": "polyglot-notebook"
    }
   },
   "outputs": [],
   "source": [
    "public IEnumerable<double> Emissionsfaktoren()\n",
    "{\n",
    "    yield return 0.21; // Auto\n",
    "    yield return 0.05; // Zug\n",
    "    yield return 0.12; // Flugzeug\n",
    "}"
   ]
  },
  {
   "cell_type": "markdown",
   "metadata": {},
   "source": [
    "### Gesamtbeispiel\n",
    "\n",
    "**Code zur Berechnung und Iteration von CO₂-Emissionen:**"
   ]
  },
  {
   "cell_type": "code",
   "execution_count": 10,
   "metadata": {
    "dotnet_interactive": {
     "language": "csharp"
    },
    "polyglot_notebook": {
     "kernelName": "csharp"
    },
    "vscode": {
     "languageId": "polyglot-notebook"
    }
   },
   "outputs": [],
   "source": [
    "using System;\n",
    "using System.Collections.Generic;\n",
    "using System.Net.Http;\n",
    "using System.Threading.Tasks;\n",
    "\n",
    "public class CO2Berechnung\n",
    "{\n",
    "    public void Begrüßung()\n",
    "    {\n",
    "        Console.WriteLine(\"Willkommen zur CO₂-Fußabdruck-Berechnung!\");\n",
    "    }\n",
    "\n",
    "    public double BerechneEmissionen(double streckeInKm, double emissionsFaktor) => streckeInKm * emissionsFaktor;\n",
    "\n",
    "    public async Task<double> LadeEmissionsFaktorAsync()\n",
    "    {\n",
    "        HttpClient client = new HttpClient();\n",
    "        string response = await client.GetStringAsync(\"https://api.umweltinfo.de/emissionsfaktor\");\n",
    "        return double.Parse(response);\n",
    "    }\n",
    "\n",
    "    public IEnumerable<double> Emissionsfaktoren()\n",
    "    {\n",
    "        yield return 0.21; // Auto\n",
    "        yield return 0.05; // Zug\n",
    "        yield return 0.12; // Flugzeug\n",
    "    }\n",
    "}\n",
    "\n",
    "class Program\n",
    "{\n",
    "    static async Task Main(string[] args)\n",
    "    {\n",
    "        CO2Berechnung co2Berechnung = new CO2Berechnung();\n",
    "        co2Berechnung.Begrüßung();\n",
    "\n",
    "        double strecke = 100; // 100 km\n",
    "        double emissionsFaktor = 0.21; // Auto\n",
    "        Console.WriteLine($\"Emissionen: {co2Berechnung.BerechneEmissionen(strecke, emissionsFaktor)} kg CO₂\");\n",
    "\n",
    "        double apiFaktor = await co2Berechnung.LadeEmissionsFaktorAsync();\n",
    "        Console.WriteLine($\"Lade Emissionsfaktor von API: {apiFaktor}\");\n",
    "\n",
    "        Console.WriteLine(\"Verfügbare Emissionsfaktoren:\");\n",
    "        foreach (double faktor in co2Berechnung.Emissionsfaktoren())\n",
    "        {\n",
    "            Console.WriteLine($\"- {faktor} kg/km\");\n",
    "        }\n",
    "    }\n",
    "}"
   ]
  },
  {
   "cell_type": "markdown",
   "metadata": {},
   "source": [
    "## Cheatsheet zu funktionaler Programmierung in C#\n",
    "\n",
    "<a href=\"https://miro.com/app/board/o9J_lOJi2o0=/?moveToWidget=3074457366281003359&cot=14\"><img src=\"Cheatsheet_programming.jpg\"/></a>"
   ]
  }
 ],
 "metadata": {
  "kernelspec": {
   "display_name": ".NET (C#)",
   "language": "C#",
   "name": ".net-csharp"
  },
  "language_info": {
   "name": "python"
  },
  "polyglot_notebook": {
   "kernelInfo": {
    "defaultKernelName": "csharp",
    "items": [
     {
      "aliases": [],
      "name": "csharp"
     }
    ]
   }
  }
 },
 "nbformat": 4,
 "nbformat_minor": 2
}
