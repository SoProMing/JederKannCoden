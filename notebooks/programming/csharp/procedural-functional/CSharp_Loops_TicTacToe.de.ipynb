{
 "cells": [
  {
   "cell_type": "markdown",
   "metadata": {},
   "source": [
    "# Schleifen & TicTacToe\n",
    "\n",
    "<table border=\"0\">\n",
    "  <tr>\n",
    "    <td>\n",
    "        <img src=\"loops.webp\" style=\"width:280px; height:280px;\">\n",
    "    </td>\n",
    "    <td rowspan=\"2\">\n",
    "        <img src=\"Radar_Loops.de.jpg\" style=\"width:480px;\"\n",
    "    </td>\n",
    "  </tr>\n",
    "  <tr>\n",
    "    <td>\n",
    "      <a href=\"https://learn.microsoft.com/de-de/dotnet/csharp/language-reference/statements/iteration-statements\">Link zur Microsoft Dokumentation</a><br>\n",
    "      <a href=\"CSharp_Loops.de.ipynb\">Link zu Schleifen</a><br>\n",
    "      <a href=\"https://miro.com/app/board/o9J_lOJi2o0=/?moveToWidget=3458764554345659185&cot=14\">Link zum roten Faden auf Miro</a><br>\n",
    "      <a href=\"https://www.w3schools.com/cs/cs_while_loop.php\">Link zu Tutorial auf w3schools (while)</a><br>\n",
    "      <a href=\"https://www.w3schools.com/cs/cs_for_loop.php\">Link zu Tutorial auf w3schools (for)</a><br>\n",
    "      <a href=\"https://www.w3schools.com/cs/cs_break.php\">Link zu Tutorial auf w3schools (continue, break)</a>\n",
    "    </td>\n",
    "  </tr>\n",
    "</table>"
   ]
  },
  {
   "cell_type": "markdown",
   "metadata": {},
   "source": [
    "In einem Tic-Tac-Toe-Spiel können Schleifen verwendet werden, um das Spielfeld zu initialisieren, die Benutzer-Eingaben zu verarbeiten und zu überprüfen, ob es einen Gewinner gibt. Hier zeige ich dir anhand eines einfachen Tic-Tac-Toe-Spiels, wie Schleifen in typischen Spielsituationen zum Einsatz kommen.\n",
    "\n",
    "## 1. **Initialisierung des Spielfelds**\n",
    "Das Tic-Tac-Toe-Spielfeld besteht aus einem 3x3-Array. Eine `for`-Schleife kann verwendet werden, um das Spielfeld zu initialisieren und leere Felder zu setzen.\n",
    "\n",
    "**Beispiel:**"
   ]
  },
  {
   "cell_type": "code",
   "execution_count": 2,
   "metadata": {
    "dotnet_interactive": {
     "language": "csharp"
    },
    "polyglot_notebook": {
     "kernelName": "csharp"
    },
    "vscode": {
     "languageId": "polyglot-notebook"
    }
   },
   "outputs": [
    {
     "name": "stdout",
     "output_type": "stream",
     "text": [
      "- - - \n",
      "- - - \n",
      "- - - \n"
     ]
    }
   ],
   "source": [
    "char[,] board = new char[3, 3];\n",
    "\n",
    "// Spielfeld initialisieren\n",
    "for (int i = 0; i < 3; i++)\n",
    "{\n",
    "    for (int j = 0; j < 3; j++)\n",
    "    {\n",
    "        board[i, j] = '-'; // Leere Felder mit '-' darstellen\n",
    "    }\n",
    "}\n",
    "\n",
    "// Spielfeld anzeigen\n",
    "for (int i = 0; i < 3; i++)\n",
    "{\n",
    "    for (int j = 0; j < 3; j++)\n",
    "    {\n",
    "        Console.Write(board[i, j] + \" \");\n",
    "    }\n",
    "    Console.WriteLine();\n",
    "}"
   ]
  },
  {
   "cell_type": "markdown",
   "metadata": {},
   "source": [
    "## 2. **Spielerzug erfassen**\n",
    "Hier wird eine Schleife verwendet, um sicherzustellen, dass der Spieler auf ein freies Feld zieht. Die Schleife wird so lange wiederholt, bis der Spieler eine gültige Position eingegeben hat.\n",
    "\n",
    "**Beispiel:**"
   ]
  },
  {
   "cell_type": "code",
   "execution_count": 5,
   "metadata": {
    "dotnet_interactive": {
     "language": "csharp"
    },
    "polyglot_notebook": {
     "kernelName": "csharp"
    },
    "vscode": {
     "languageId": "polyglot-notebook"
    }
   },
   "outputs": [
    {
     "name": "stdout",
     "output_type": "stream",
     "text": [
      "Geben Sie die Zeile (0-2) ein: \n",
      "Geben Sie die Spalte (0-2) ein: \n"
     ]
    }
   ],
   "source": [
    "int row, col;\n",
    "bool validMove = false;\n",
    "\n",
    "while (!validMove)\n",
    "{\n",
    "    Console.WriteLine(\"Geben Sie die Zeile (0-2) ein: \");\n",
    "    row = 1; // Convert.ToInt32(Console.ReadLine());\n",
    "\n",
    "    Console.WriteLine(\"Geben Sie die Spalte (0-2) ein: \");\n",
    "    col = 1; // Convert.ToInt32(Console.ReadLine());\n",
    "\n",
    "    // Überprüfen, ob das Feld frei ist\n",
    "    if (board[row, col] == '-')\n",
    "    {\n",
    "        board[row, col] = 'X'; // Spieler X macht einen Zug\n",
    "        validMove = true;\n",
    "    }\n",
    "    else\n",
    "    {\n",
    "        Console.WriteLine(\"Das Feld ist bereits belegt. Bitte einen anderen Zug machen.\");\n",
    "    }\n",
    "}"
   ]
  },
  {
   "cell_type": "markdown",
   "metadata": {},
   "source": [
    "## 3. **Gewinnbedingungen überprüfen**\n",
    "Um zu prüfen, ob ein Spieler gewonnen hat, können wir mehrere Schleifen verwenden, um die Reihen, Spalten und Diagonalen des Spielfelds zu durchlaufen. Dabei werden alle Felder überprüft, um festzustellen, ob drei gleiche Symbole in einer Reihe stehen.\n",
    "\n",
    "**Beispiel für Gewinnüberprüfung:**"
   ]
  },
  {
   "cell_type": "code",
   "execution_count": 6,
   "metadata": {
    "dotnet_interactive": {
     "language": "csharp"
    },
    "polyglot_notebook": {
     "kernelName": "csharp"
    },
    "vscode": {
     "languageId": "polyglot-notebook"
    }
   },
   "outputs": [],
   "source": [
    "bool isWin = false;\n",
    "\n",
    "// Zeilen überprüfen\n",
    "for (int i = 0; i < 3; i++)\n",
    "{\n",
    "    if (board[i, 0] == board[i, 1] && board[i, 1] == board[i, 2] && board[i, 0] != '-')\n",
    "    {\n",
    "        isWin = true;\n",
    "        Console.WriteLine($\"Spieler {board[i, 0]} hat gewonnen!\");\n",
    "    }\n",
    "}\n",
    "\n",
    "// Spalten überprüfen\n",
    "for (int i = 0; i < 3; i++)\n",
    "{\n",
    "    if (board[0, i] == board[1, i] && board[1, i] == board[2, i] && board[0, i] != '-')\n",
    "    {\n",
    "        isWin = true;\n",
    "        Console.WriteLine($\"Spieler {board[0, i]} hat gewonnen!\");\n",
    "    }\n",
    "}\n",
    "\n",
    "// Diagonalen überprüfen\n",
    "if (board[0, 0] == board[1, 1] && board[1, 1] == board[2, 2] && board[0, 0] != '-')\n",
    "{\n",
    "    isWin = true;\n",
    "    Console.WriteLine($\"Spieler {board[0, 0]} hat gewonnen!\");\n",
    "}\n",
    "if (board[0, 2] == board[1, 1] && board[1, 1] == board[2, 0] && board[0, 2] != '-')\n",
    "{\n",
    "    isWin = true;\n",
    "    Console.WriteLine($\"Spieler {board[0, 2]} hat gewonnen!\");\n",
    "}"
   ]
  },
  {
   "cell_type": "markdown",
   "metadata": {},
   "source": [
    "## 4. **Unentschieden überprüfen**\n",
    "Um festzustellen, ob das Spiel unentschieden endet (alle Felder belegt sind, aber kein Gewinner ermittelt wurde), kann eine Schleife verwendet werden, um zu überprüfen, ob noch freie Felder existieren.\n",
    "\n",
    "**Beispiel:**"
   ]
  },
  {
   "cell_type": "code",
   "execution_count": 7,
   "metadata": {
    "dotnet_interactive": {
     "language": "csharp"
    },
    "polyglot_notebook": {
     "kernelName": "csharp"
    },
    "vscode": {
     "languageId": "polyglot-notebook"
    }
   },
   "outputs": [],
   "source": [
    "bool isDraw = true;\n",
    "\n",
    "for (int i = 0; i < 3; i++)\n",
    "{\n",
    "    for (int j = 0; j < 3; j++)\n",
    "    {\n",
    "        if (board[i, j] == '-') // Wenn noch leere Felder vorhanden sind\n",
    "        {\n",
    "            isDraw = false;\n",
    "            break;\n",
    "        }\n",
    "    }\n",
    "}\n",
    "\n",
    "if (isDraw && !isWin)\n",
    "{\n",
    "    Console.WriteLine(\"Das Spiel endet unentschieden!\");\n",
    "}"
   ]
  },
  {
   "cell_type": "markdown",
   "metadata": {},
   "source": [
    "## Kompletter Ablauf ohne Funktionen:\n",
    "Hier wird das Spielfeld initialisiert, die Spielzüge nacheinander aufgenommen, der Sieg überprüft und das Unentschieden festgestellt. Die Schleifen spielen bei allen diesen Schritten eine zentrale Rolle.\n",
    "\n",
    "Das gesamte Beispiel ohne Funktionen:\n",
    "\n",
    "```csharp\n",
    "char[,] board = new char[3, 3];\n",
    "\n",
    "// Spielfeld initialisieren\n",
    "for (int i = 0; i < 3; i++)\n",
    "{\n",
    "    for (int j = 0; j < 3; j++)\n",
    "    {\n",
    "        board[i, j] = '-';\n",
    "    }\n",
    "}\n",
    "\n",
    "// Spielablauf\n",
    "bool gameOver = false;\n",
    "bool isPlayerX = true;\n",
    "\n",
    "while (!gameOver)\n",
    "{\n",
    "    // Spielfeld anzeigen\n",
    "    for (int i = 0; i < 3; i++)\n",
    "    {\n",
    "        for (int j = 0; j < 3; j++)\n",
    "        {\n",
    "            Console.Write(board[i, j] + \" \");\n",
    "        }\n",
    "        Console.WriteLine();\n",
    "    }\n",
    "\n",
    "    // Spielerzug\n",
    "    int row, col;\n",
    "    bool validMove = false;\n",
    "\n",
    "    while (!validMove)\n",
    "    {\n",
    "        Console.WriteLine(\"Geben Sie die Zeile (0-2) ein: \");\n",
    "        row = Convert.ToInt32(Console.ReadLine());\n",
    "\n",
    "        Console.WriteLine(\"Geben Sie die Spalte (0-2) ein: \");\n",
    "        col = Convert.ToInt32(Console.ReadLine());\n",
    "\n",
    "        if (board[row, col] == '-')\n",
    "        {\n",
    "            board[row, col] = isPlayerX ? 'X' : 'O';\n",
    "            validMove = true;\n",
    "        }\n",
    "        else\n",
    "        {\n",
    "            Console.WriteLine(\"Das Feld ist bereits belegt. Bitte einen anderen Zug machen.\");\n",
    "        }\n",
    "    }\n",
    "\n",
    "    // Sieg überprüfen\n",
    "    bool isWin = false;\n",
    "\n",
    "    for (int i = 0; i < 3; i++)\n",
    "    {\n",
    "        if (board[i, 0] == board[i, 1] && board[i, 1] == board[i, 2] && board[i, 0] != '-')\n",
    "        {\n",
    "            isWin = true;\n",
    "            Console.WriteLine($\"Spieler {board[i, 0]} hat gewonnen!\");\n",
    "            gameOver = true;\n",
    "        }\n",
    "    }\n",
    "\n",
    "    for (int i = 0; i < 3; i++)\n",
    "    {\n",
    "        if (board[0, i] == board[1, i] && board[1, i] == board[2, i] && board[0, i] != '-')\n",
    "        {\n",
    "            isWin = true;\n",
    "            Console.WriteLine($\"Spieler {board[0, i]} hat gewonnen!\");\n",
    "            gameOver = true;\n",
    "        }\n",
    "    }\n",
    "\n",
    "    if (board[0, 0] == board[1, 1] && board[1, 1] == board[2, 2] && board[0, 0] != '-')\n",
    "    {\n",
    "        isWin = true;\n",
    "        Console.WriteLine($\"Spieler {board[0, 0]} hat gewonnen!\");\n",
    "        gameOver = true;\n",
    "    }\n",
    "    if (board[0, 2] == board[1, 1] && board[1, 1] == board[2, 0] && board[0, 2] != '-')\n",
    "    {\n",
    "        isWin = true;\n",
    "        Console.WriteLine($\"Spieler {board[0, 2]} hat gewonnen!\");\n",
    "        gameOver = true;\n",
    "    }\n",
    "\n",
    "    // Unentschieden überprüfen\n",
    "    bool isDraw = true;\n",
    "\n",
    "    for (int i = 0; i < 3; i++)\n",
    "    {\n",
    "        for (int j = 0; j < 3; j++)\n",
    "        {\n",
    "            if (board[i, j] == '-')\n",
    "            {\n",
    "                isDraw = false;\n",
    "                break;\n",
    "            }\n",
    "        }\n",
    "    }\n",
    "\n",
    "    if (isDraw && !isWin)\n",
    "    {\n",
    "        Console.WriteLine(\"Das Spiel endet unentschieden!\");\n",
    "        gameOver = true;\n",
    "    }\n",
    "\n",
    "    // Spieler wechseln\n",
    "    isPlayerX = !isPlayerX;\n",
    "}\n",
    "```\n",
    "\n",
    "In diesem Ablauf werden Schleifen verwendet, um das Spielfeld zu initialisieren, die Spielzüge zu validieren, das Spielfeld anzuzeigen und die Gewinn- oder Unentschieden-Bedingungen zu überprüfen."
   ]
  },
  {
   "cell_type": "markdown",
   "metadata": {},
   "source": [
    "← [Mehr zu Schleifen in C#](./CSharp_Loops.de.ipynb)"
   ]
  }
 ],
 "metadata": {
  "kernelspec": {
   "display_name": ".NET (C#)",
   "language": "C#",
   "name": ".net-csharp"
  },
  "language_info": {
   "name": "python"
  },
  "polyglot_notebook": {
   "kernelInfo": {
    "defaultKernelName": "csharp",
    "items": [
     {
      "aliases": [],
      "name": "csharp"
     }
    ]
   }
  }
 },
 "nbformat": 4,
 "nbformat_minor": 2
}
