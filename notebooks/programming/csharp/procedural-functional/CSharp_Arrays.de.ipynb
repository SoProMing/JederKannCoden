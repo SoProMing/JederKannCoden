{
 "cells": [
  {
   "cell_type": "markdown",
   "metadata": {},
   "source": [
    "\n",
    "# Arrays in C#\n",
    "\n",
    "<table border=\"0\">\n",
    "  <tr>\n",
    "    <td>\n",
    "        <img src=\"arrays.webp\" style=\"width:280px; height:280px;\">\n",
    "    </td>\n",
    "    <td rowspan=\"2\">\n",
    "        <img src=\"Radar_Arrays.de.jpg\" style=\"width:480px;\"\n",
    "    </td>\n",
    "  </tr>\n",
    "  <tr>\n",
    "    <td>\n",
    "      <a href=\"https://learn.microsoft.com/de-de/dotnet/csharp/language-reference/builtin-types/arrays\">Link zur Microsoft Dokumentation</a><br>\n",
    "      <!--a href=\"CSharp_Boolean_Operators_Basics.de.ipynb\">Link zu Booleschen Operatoren</a><br>-->\n",
    "      <a href=\"https://miro.com/app/board/o9J_lOJi2o0=/?moveToWidget=3458764554345659185&cot=14\">Link zum roten Faden auf Miro</a><br>\n",
    "      <a href=\"https://www.w3schools.com/cs/cs_variables.php\">Link zu Tutorial auf w3schools</a>\n",
    "    </td>\n",
    "  </tr>\n",
    "</table>"
   ]
  },
  {
   "cell_type": "markdown",
   "metadata": {},
   "source": [
    "\n",
    "In C# gibt es verschiedene Arten von Arrays. Hier eine umfassende Übersicht, inklusive einer neuen Betrachtung von verzweigten Arrays (oder auch \"Zickzack-Arrays\" genannt) und implizit typisierten Arrays.\n",
    "\n",
    "## Einfaches Array (Single-Dimensional Array)\n",
    "Ein eindimensionales Array ist das grundlegendste Array. Es speichert eine Liste von Elementen des gleichen Datentyps in einer einzigen Dimension.\n",
    "\n",
    "**Deklaration und Initialisierung:**"
   ]
  },
  {
   "cell_type": "code",
   "execution_count": 5,
   "metadata": {
    "vscode": {
     "languageId": "polyglot-notebook"
    }
   },
   "outputs": [
    {
     "name": "stdout",
     "output_type": "stream",
     "text": [
      "System.Int32[]\n",
      "4\n"
     ]
    }
   ],
   "source": [
    "int[] zahlen = new int[5]; // Ein Array mit 5 Integer-Elementen\n",
    "zahlen[0] = 1;\n",
    "zahlen[1] = 2;\n",
    "\n",
    "// Direkte Initialisierung\n",
    "int[] zahlenDirekt = { 1, 2, 3, 4, 5 };\n",
    "\n",
    "Console.WriteLine(zahlenDirekt);\n",
    "Console.WriteLine(zahlenDirekt[3]);"
   ]
  },
  {
   "cell_type": "markdown",
   "metadata": {},
   "source": [
    "## Mehrdimensionales Array (Multi-Dimensional Array)\n",
    "Mehrdimensionale Arrays speichern Daten in mehreren Reihen und Spalten.\n",
    "\n",
    "**Deklaration und Initialisierung:**"
   ]
  },
  {
   "cell_type": "code",
   "execution_count": 4,
   "metadata": {
    "vscode": {
     "languageId": "polyglot-notebook"
    }
   },
   "outputs": [
    {
     "name": "stdout",
     "output_type": "stream",
     "text": [
      "System.Int32[,]\n",
      "5\n"
     ]
    }
   ],
   "source": [
    "int[,] matrix = new int[2, 3]; // Ein 2x3 Array (2 Zeilen, 3 Spalten)\n",
    "matrix[0, 0] = 1;\n",
    "\n",
    "// Direkte Initialisierung\n",
    "int[,] matrixDirekt = { { 1, 2, 3 }, { 4, 5, 6 } };\n",
    "\n",
    "Console.WriteLine(matrixDirekt);\n",
    "Console.WriteLine(matrixDirekt[1,1]);"
   ]
  },
  {
   "cell_type": "markdown",
   "metadata": {},
   "source": [
    "## Verzweigtes Array (Jagged Array)\n",
    "Ein verzweigtes Array ist ein Array von Arrays, in dem jedes Unterarray unterschiedliche Längen haben kann.\n",
    "\n",
    "**Deklaration und Initialisierung:**"
   ]
  },
  {
   "cell_type": "code",
   "execution_count": 6,
   "metadata": {
    "vscode": {
     "languageId": "polyglot-notebook"
    }
   },
   "outputs": [
    {
     "name": "stdout",
     "output_type": "stream",
     "text": [
      "System.Int32[][]\n",
      "System.Int32[]\n",
      "4\n"
     ]
    }
   ],
   "source": [
    "int[][] verzweigt = new int[3][]; // Ein Array mit 3 \"Reihen\"\n",
    "verzweigt[0] = new int[2]; // Erste Reihe hat 2 Elemente\n",
    "verzweigt[1] = new int[3]; // Zweite Reihe hat 3 Elemente\n",
    "verzweigt[2] = new int[1]; // Dritte Reihe hat 1 Element\n",
    "\n",
    "// Direkte Initialisierung\n",
    "int[][] verzweigtDirekt = \n",
    "{\n",
    "    new int[] { 1, 2 },\n",
    "    new int[] { 3, 4, 5 },\n",
    "    new int[] { 6 }\n",
    "};\n",
    "\n",
    "Console.WriteLine(verzweigtDirekt);\n",
    "Console.WriteLine(verzweigtDirekt[1]);\n",
    "Console.WriteLine(verzweigtDirekt[1][1])"
   ]
  },
  {
   "cell_type": "markdown",
   "metadata": {},
   "source": [
    "## Implizit typisiertes Array\n",
    "In C# können Arrays auch implizit typisiert werden, was bedeutet, dass der Typ des Arrays vom Compiler basierend auf den zugewiesenen Werten abgeleitet wird. Dies erfolgt mit dem `var`-Schlüsselwort.\n",
    "\n",
    "**Beispiel:**"
   ]
  },
  {
   "cell_type": "code",
   "execution_count": 7,
   "metadata": {
    "vscode": {
     "languageId": "polyglot-notebook"
    }
   },
   "outputs": [
    {
     "name": "stdout",
     "output_type": "stream",
     "text": [
      "System.Int32[]\n",
      "System.String[]\n",
      "2\n",
      "Bob\n"
     ]
    }
   ],
   "source": [
    "var zahlen = new[] { 1, 2, 3, 4, 5 }; // Compiler leitet ab, dass dies ein int[] ist\n",
    "var namen = new[] { \"Alice\", \"Bob\", \"Charlie\" }; // Compiler erkennt string[]\n",
    "\n",
    "Console.WriteLine(zahlen);\n",
    "Console.WriteLine(namen);\n",
    "Console.WriteLine(zahlen[1]);\n",
    "Console.WriteLine(namen[1]);"
   ]
  },
  {
   "cell_type": "markdown",
   "metadata": {},
   "source": [
    "In implizit typisierten Arrays müssen alle Elemente denselben Typ haben, damit der Compiler den Typ korrekt ableiten kann. Gemischte Datentypen sind nicht erlaubt.\n",
    "\n",
    "**Vorteil von implizit typisierten Arrays:**\n",
    "- Erhöhte Lesbarkeit und Vereinfachung des Codes, da der Typ nicht explizit angegeben werden muss.\n",
    "- Besonders nützlich in Situationen, in denen der Typ offensichtlich ist oder aus dem Kontext klar wird.\n",
    "\n",
    "#### Wichtige Methoden für Arrays\n",
    "C# bietet einige nützliche Methoden, um Arrays zu manipulieren:\n",
    "- **`Array.Sort()`**: Sortiert das Array.\n",
    "- **`Array.Reverse()`**: Kehrt die Reihenfolge der Elemente um.\n",
    "- **`Array.Find()`**: Findet ein bestimmtes Element im Array.\n",
    "\n",
    "**Beispiel:**"
   ]
  },
  {
   "cell_type": "code",
   "execution_count": 13,
   "metadata": {
    "vscode": {
     "languageId": "polyglot-notebook"
    }
   },
   "outputs": [
    {
     "name": "stdout",
     "output_type": "stream",
     "text": [
      "8\n"
     ]
    }
   ],
   "source": [
    "int[] zahlen = { 5, 3, 8, 1, 2 };\n",
    "Array.Sort(zahlen); // Sortiert das Array\n",
    "Array.Reverse(zahlen); // Kehrt die Reihenfolge um\n",
    "int gefunden = Array.Find(zahlen, x => x == 3); // Findet die Zahl \n",
    "\n",
    "Console.WriteLine(zahlen[0]);"
   ]
  },
  {
   "cell_type": "markdown",
   "metadata": {},
   "source": [
    "## Kopieren von Arrays in C#\n",
    "\n",
    "Es gibt mehrere Möglichkeiten, Arrays in C# zu kopieren. Der einfachste Ansatz ist die Verwendung der Methode **`Array.Copy()`**, oder für vollständige Kopien die Methode **`Clone()`**. Hier sind einige gängige Techniken:\n",
    "\n",
    "### 1. Verwenden von `Array.Copy()`\n",
    "Mit **`Array.Copy()`** kann eine bestimmte Anzahl von Elementen von einem Array in ein anderes kopiert werden.\n",
    "\n",
    "**Beispiel:**"
   ]
  },
  {
   "cell_type": "code",
   "execution_count": 8,
   "metadata": {
    "dotnet_interactive": {
     "language": "csharp"
    },
    "polyglot_notebook": {
     "kernelName": "csharp"
    },
    "vscode": {
     "languageId": "polyglot-notebook"
    }
   },
   "outputs": [
    {
     "name": "stdout",
     "output_type": "stream",
     "text": [
      "2\n"
     ]
    }
   ],
   "source": [
    "int[] originalArray = { 1, 2, 3, 4, 5 };\n",
    "int[] zielArray = new int[5];\n",
    "\n",
    "Array.Copy(originalArray, zielArray, originalArray.Length); // Kopiert alle \n",
    "\n",
    "Console.WriteLine(zielArray[1]);"
   ]
  },
  {
   "cell_type": "markdown",
   "metadata": {},
   "source": [
    "### 2. Verwenden von `Clone()`\n",
    "Die Methode **`Clone()`** erstellt eine flache Kopie des Arrays. Dies bedeutet, dass bei einem Array von einfachen Typen (wie `int`, `char` usw.) eine vollständige Kopie erstellt wird, während bei komplexen Objekten nur die Referenzen kopiert werden.\n",
    "\n",
    "**Beispiel:**"
   ]
  },
  {
   "cell_type": "code",
   "execution_count": 12,
   "metadata": {
    "dotnet_interactive": {
     "language": "csharp"
    },
    "polyglot_notebook": {
     "kernelName": "csharp"
    },
    "vscode": {
     "languageId": "polyglot-notebook"
    }
   },
   "outputs": [
    {
     "name": "stdout",
     "output_type": "stream",
     "text": [
      "2\n",
      "Original Array: Alice\n",
      "Kopiertes Array: Charlie\n"
     ]
    }
   ],
   "source": [
    "int[] originalArray = { 1, 2, 3, 4, 5 };\n",
    "int[] kopiertesArray = (int[])originalArray.Clone(); // Erstellt eine Kopie des Arrays\n",
    "\n",
    "originalArray[1] = 22;\n",
    "\n",
    "Console.WriteLine(kopiertesArray[1]);\n",
    "\n",
    "class Person\n",
    "{\n",
    "    public string Name { get; set; }\n",
    "}\n",
    "\n",
    "Person[] originalRefArray = { new Person { Name = \"Alice\" }, new Person { Name = \"Bob\" } };\n",
    "Person[] kopiertesRefArray = (Person[])originalRefArray.Clone(); // Flache Kopie des Arrays\n",
    "\n",
    "// Initialer Wert\n",
    "Console.WriteLine(\"Original Array: \" + originalRefArray[0].Name); \n",
    "\n",
    "// Änderung im originalen Array\n",
    "originalRefArray[0].Name = \"Charlie\";\n",
    "\n",
    "// Ausgabe, um die Veränderung zu überprüfen\n",
    "Console.WriteLine(\"Kopiertes Array: \" + kopiertesRefArray[0].Name);"
   ]
  },
  {
   "cell_type": "markdown",
   "metadata": {},
   "source": [
    "Beide Arrays zeigen jeweils auf dieselben Objekte, die jeweils die Daten enthalten, indem die Elemente in den Arrays nur auf die Objekte referenzieren. Ändert man die Daten im Objekt, so sind die neuen Daten auch nach Clone in dem anderen Array sichbar.\n",
    "\n",
    "```mermaid\n",
    "graph TD\n",
    "    subgraph Original Array\n",
    "        A1[Person 1: Alice]\n",
    "        A2[Person 2: Bob]\n",
    "    end\n",
    "    \n",
    "    subgraph Kopiertes Array\n",
    "        B1[Person 1: Alice]\n",
    "        B2[Person 2: Bob]\n",
    "    end\n",
    "    \n",
    "    subgraph Objekte\n",
    "        A1 & B1 -- Referenz --> O1[(Objekt Alice)]\n",
    "        A2 & B2 -- Referenz --> O2[(Objekt Bob)]\n",
    "    end\n",
    "```"
   ]
  },
  {
   "cell_type": "markdown",
   "metadata": {},
   "source": [
    "### 3. Kopieren mit `Array.ConstrainedCopy()`\n",
    "Diese Methode ist ähnlich wie **`Array.Copy()`**, bietet jedoch zusätzliche Sicherheitsprüfungen und wird in speziellen Szenarien verwendet, in denen die Integrität des Kopiervorgangs garantiert werden muss.\n",
    "\n",
    "**Beispiel:**"
   ]
  },
  {
   "cell_type": "code",
   "execution_count": 14,
   "metadata": {
    "dotnet_interactive": {
     "language": "csharp"
    },
    "polyglot_notebook": {
     "kernelName": "csharp"
    },
    "vscode": {
     "languageId": "polyglot-notebook"
    }
   },
   "outputs": [
    {
     "name": "stdout",
     "output_type": "stream",
     "text": [
      "2\n"
     ]
    }
   ],
   "source": [
    "int[] originalArray = { 1, 2, 3, 4, 5 };\n",
    "int[] zielArray = new int[5];\n",
    "\n",
    "Array.ConstrainedCopy(originalArray, 0, zielArray, 0, originalArray.Length); // Sichere Kopie\n",
    "\n",
    "Console.WriteLine(zielArray[1]);"
   ]
  },
  {
   "cell_type": "markdown",
   "metadata": {},
   "source": [
    "← [Wichtige Konzepte im Zusammenhang mit Variablen in C#](../CSharp_Introduction.de.ipynb#Wichtige-Konzepte-im-Zusammenhang-mit-Variablen)"
   ]
  }
 ],
 "metadata": {
  "kernelspec": {
   "display_name": ".NET (C#)",
   "language": "C#",
   "name": ".net-csharp"
  },
  "language_info": {
   "name": "python"
  },
  "polyglot_notebook": {
   "kernelInfo": {
    "defaultKernelName": "csharp",
    "items": [
     {
      "aliases": [],
      "name": "csharp"
     }
    ]
   }
  }
 },
 "nbformat": 4,
 "nbformat_minor": 2
}
