{
 "cells": [
  {
   "cell_type": "markdown",
   "metadata": {},
   "source": [
    "# String Typen in C#\n",
    "\n",
    "<table border=\"0\">\n",
    "  <tr>\n",
    "    <td>\n",
    "        <img src=\"numbers.webp\">\n",
    "    </td>\n",
    "    <td rowspan=\"2\">\n",
    "        <a href=\"https://miro.com/app/board/o9J_lOJi2o0=/?moveToWidget=3458764554347680798&cot=14\"><img src=\"Radar_Numbers.de.jpg\"></a>\n",
    "    </td>\n",
    "  </tr>\n",
    "  <tr>\n",
    "    <td>\n",
    "      <a href=\"https://learn.microsoft.com/de-de/dotnet/csharp/language-reference/builtin-types/integral-numeric-types\">Link zur Microsoft Dokumentation (Quelle)</a><br>\n",
    "      <!--a href=\"CSharp_Boolean_Operators_Basics.de.ipynb\">Link zu Booleschen Operatoren</a><br>-->\n",
    "      <a href=\"https://miro.com/app/board/o9J_lOJi2o0=/?moveToWidget=3458764554345659185&cot=14\">Link zum roten Faden auf Miro</a><br>\n",
    "      <a href=\"https://www.w3schools.com/cs/cs_variables.php\">Link zu Tutorial auf w3schools</a>\n",
    "    </td>\n",
    "  </tr>\n",
    "</table>"
   ]
  },
  {
   "cell_type": "markdown",
   "metadata": {},
   "source": [
    "\n",
    "### Einführung in Strings\n",
    "\n",
    "Ein `string` in C# ist eine Sequenz von Unicode-Zeichen. Der `string`-Typ ist eine Referenztyp und wird in .NET als unveränderlich (immutable) betrachtet. Das bedeutet, dass jede Modifikation an einem String zur Erstellung eines neuen String-Objekts führt."
   ]
  },
  {
   "cell_type": "code",
   "execution_count": 1,
   "metadata": {
    "dotnet_interactive": {
     "language": "csharp"
    },
    "polyglot_notebook": {
     "kernelName": "csharp"
    },
    "vscode": {
     "languageId": "polyglot-notebook"
    }
   },
   "outputs": [
    {
     "name": "stdout",
     "output_type": "stream",
     "text": [
      "Hello, World!\n"
     ]
    }
   ],
   "source": [
    "string hello = \"Hello, World!\";\n",
    "Console.WriteLine(hello);  // Ausgabe: Hello, World!"
   ]
  },
  {
   "cell_type": "markdown",
   "metadata": {},
   "source": [
    "### Zeichenfolgenliterale\n",
    "\n",
    "Strings können mithilfe von Anführungszeichen initialisiert werden. Es gibt auch unformatierte Zeichenfolgenliterale, die mit `@` markiert sind und Escape-Sequenzen ignorieren.\n",
    "\n",
    "**Beispiel:**"
   ]
  },
  {
   "cell_type": "code",
   "execution_count": 2,
   "metadata": {
    "dotnet_interactive": {
     "language": "csharp"
    },
    "polyglot_notebook": {
     "kernelName": "csharp"
    },
    "vscode": {
     "languageId": "polyglot-notebook"
    }
   },
   "outputs": [
    {
     "name": "stdout",
     "output_type": "stream",
     "text": [
      "C:\\Users\\Documents\\file.txt\n"
     ]
    }
   ],
   "source": [
    "string path = @\"C:\\Users\\Documents\\file.txt\";\n",
    "Console.WriteLine(path);  // Ausgabe: C:\\Users\\Documents\\file.txt"
   ]
  },
  {
   "cell_type": "markdown",
   "metadata": {},
   "source": [
    "### Escape-Sequenzen\n",
    "\n",
    "Escape-Sequenzen werden verwendet, um spezielle Zeichen in einem String darzustellen, z.B. `\\n` für einen Zeilenumbruch.\n",
    "\n",
    "| Escape-Sequenz | Bedeutung            |\n",
    "|----------------|----------------------|\n",
    "| `\\\\`           | Rückwärtsschrägstrich |\n",
    "| `\\'`           | Einfaches Anführungszeichen |\n",
    "| `\\\"`           | Doppelte Anführungszeichen |\n",
    "| `\\n`           | Neue Zeile           |\n",
    "| `\\t`           | Tabulator            |\n",
    "\n",
    "**Beispiel:**"
   ]
  },
  {
   "cell_type": "code",
   "execution_count": 3,
   "metadata": {
    "dotnet_interactive": {
     "language": "csharp"
    },
    "polyglot_notebook": {
     "kernelName": "csharp"
    },
    "vscode": {
     "languageId": "polyglot-notebook"
    }
   },
   "outputs": [
    {
     "name": "stdout",
     "output_type": "stream",
     "text": [
      "Hello\n",
      "World!\n"
     ]
    }
   ],
   "source": [
    "string sentence = \"Hello\\nWorld!\";\n",
    "Console.WriteLine(sentence);  // Ausgabe: Hello (neue Zeile) World!"
   ]
  },
  {
   "cell_type": "markdown",
   "metadata": {},
   "source": [
    "### Unveränderlichkeit von Strings\n",
    "\n",
    "Strings in C# sind unveränderlich. Jede Modifikation erzeugt eine neue Instanz des Strings, anstatt den bestehenden String zu ändern.\n",
    "\n",
    "**Beispiel:**"
   ]
  },
  {
   "cell_type": "code",
   "execution_count": 4,
   "metadata": {
    "dotnet_interactive": {
     "language": "csharp"
    },
    "polyglot_notebook": {
     "kernelName": "csharp"
    },
    "vscode": {
     "languageId": "polyglot-notebook"
    }
   },
   "outputs": [
    {
     "name": "stdout",
     "output_type": "stream",
     "text": [
      "Hello\n",
      "Hallo\n"
     ]
    }
   ],
   "source": [
    "string original = \"Hello\";\n",
    "string modified = original.Replace('e', 'a');\n",
    "Console.WriteLine(original);  // Ausgabe: Hello\n",
    "Console.WriteLine(modified);  // Ausgabe: Hallo"
   ]
  },
  {
   "cell_type": "markdown",
   "metadata": {},
   "source": [
    "### String-Interpolation\n",
    "\n",
    "String-Interpolation erlaubt es, Ausdrücke in einem String einzubetten, indem ein `$` vor den String gesetzt wird.\n",
    "\n",
    "**Beispiel:**"
   ]
  },
  {
   "cell_type": "code",
   "execution_count": 5,
   "metadata": {
    "dotnet_interactive": {
     "language": "csharp"
    },
    "polyglot_notebook": {
     "kernelName": "csharp"
    },
    "vscode": {
     "languageId": "polyglot-notebook"
    }
   },
   "outputs": [
    {
     "name": "stdout",
     "output_type": "stream",
     "text": [
      "Die Summe von 10 und 20 ist 30.\n"
     ]
    }
   ],
   "source": [
    "int x = 10;\n",
    "int y = 20;\n",
    "string result = $\"Die Summe von {x} und {y} ist {x + y}.\";\n",
    "Console.WriteLine(result);  // Ausgabe: Die Summe von 10 und 20 ist 30."
   ]
  },
  {
   "cell_type": "markdown",
   "metadata": {},
   "source": [
    "### Methoden von Strings\n",
    "\n",
    "Strings in C# bieten viele Methoden zur Manipulation und Analyse von Zeichenfolgen.\n",
    "\n",
    "| Methode            | Beschreibung                                          |\n",
    "|--------------------|------------------------------------------------------|\n",
    "| `Length`           | Gibt die Anzahl der Zeichen im String zurück.        |\n",
    "| `ToUpper()`        | Gibt eine Kopie des Strings in Großbuchstaben zurück. |\n",
    "| `ToLower()`        | Gibt eine Kopie des Strings in Kleinbuchstaben zurück.|\n",
    "| `Trim()`           | Entfernt Leerzeichen am Anfang und Ende des Strings. |\n",
    "| `Contains()`       | Prüft, ob der String eine bestimmte Zeichenfolge enthält. |\n",
    "\n",
    "**Beispiel:**"
   ]
  },
  {
   "cell_type": "code",
   "execution_count": 6,
   "metadata": {
    "dotnet_interactive": {
     "language": "csharp"
    },
    "polyglot_notebook": {
     "kernelName": "csharp"
    },
    "vscode": {
     "languageId": "polyglot-notebook"
    }
   },
   "outputs": [
    {
     "name": "stdout",
     "output_type": "stream",
     "text": [
      "Hello\n",
      " HELLO \n",
      "True\n"
     ]
    }
   ],
   "source": [
    "string test = \" Hello \";\n",
    "Console.WriteLine(test.Trim());  // Ausgabe: Hello\n",
    "Console.WriteLine(test.ToUpper());  // Ausgabe: HELLO\n",
    "Console.WriteLine(test.Contains(\"Hel\"));  // Ausgabe: True"
   ]
  },
  {
   "cell_type": "markdown",
   "metadata": {},
   "source": [
    "### Zugriff auf einzelne Zeichen\n",
    "\n",
    "Ein `string` kann wie ein Array behandelt werden, um auf einzelne Zeichen zuzugreifen.\n",
    "\n",
    "**Beispiel:**"
   ]
  },
  {
   "cell_type": "code",
   "execution_count": 7,
   "metadata": {
    "dotnet_interactive": {
     "language": "csharp"
    },
    "polyglot_notebook": {
     "kernelName": "csharp"
    },
    "vscode": {
     "languageId": "polyglot-notebook"
    }
   },
   "outputs": [
    {
     "name": "stdout",
     "output_type": "stream",
     "text": [
      "H\n"
     ]
    }
   ],
   "source": [
    "string word = \"Hello\";\n",
    "char firstChar = word[0];\n",
    "Console.WriteLine(firstChar);  // Ausgabe: H"
   ]
  },
  {
   "cell_type": "markdown",
   "metadata": {},
   "source": [
    "### Suchen und Vergleichen von Strings\n",
    "\n",
    "C# bietet verschiedene Methoden zum Suchen und Vergleichen von Strings, wie `IndexOf()`, `LastIndexOf()`, `StartsWith()` und `Equals()`.\n",
    "\n",
    "| Methode            | Beschreibung                                    |\n",
    "|--------------------|------------------------------------------------|\n",
    "| `IndexOf()`        | Gibt den Index des ersten Vorkommens eines Zeichens oder einer Zeichenfolge zurück. |\n",
    "| `LastIndexOf()`    | Gibt den Index des letzten Vorkommens zurück.   |\n",
    "| `StartsWith()`     | Prüft, ob der String mit einer bestimmten Zeichenfolge beginnt. |\n",
    "| `Equals()`         | Vergleicht zwei Strings auf Gleichheit.         |\n",
    "\n",
    "**Beispiel:**"
   ]
  },
  {
   "cell_type": "code",
   "execution_count": 8,
   "metadata": {
    "dotnet_interactive": {
     "language": "csharp"
    },
    "polyglot_notebook": {
     "kernelName": "csharp"
    },
    "vscode": {
     "languageId": "polyglot-notebook"
    }
   },
   "outputs": [
    {
     "name": "stdout",
     "output_type": "stream",
     "text": [
      "4\n"
     ]
    }
   ],
   "source": [
    "string text = \"Hello World!\";\n",
    "int index = text.IndexOf('o');\n",
    "Console.WriteLine(index);  // Ausgabe: 4"
   ]
  },
  {
   "cell_type": "markdown",
   "metadata": {},
   "source": [
    "### Verwenden von LINQ mit Strings\n",
    "\n",
    "LINQ kann verwendet werden, um Strings auf elegante Weise zu filtern, sortieren oder zu transformieren.\n",
    "\n",
    "**Beispiel:**"
   ]
  },
  {
   "cell_type": "code",
   "execution_count": 9,
   "metadata": {
    "dotnet_interactive": {
     "language": "csharp"
    },
    "polyglot_notebook": {
     "kernelName": "csharp"
    },
    "vscode": {
     "languageId": "polyglot-notebook"
    }
   },
   "outputs": [
    {
     "name": "stdout",
     "output_type": "stream",
     "text": [
      "sentence.\n",
      "test\n",
      "This\n"
     ]
    }
   ],
   "source": [
    "string sentence = \"This is a test sentence.\";\n",
    "var words = sentence.Split(' ')\n",
    "                    .Where(w => w.Length > 2)\n",
    "                    .OrderBy(w => w);\n",
    "                    \n",
    "foreach (var word in words)\n",
    "{\n",
    "    Console.WriteLine(word);\n",
    "}"
   ]
  },
  {
   "cell_type": "markdown",
   "metadata": {},
   "source": [
    "### Der Datentyp `char`\n",
    "\n",
    "In C# wird der Datentyp `char` verwendet, um ein einzelnes Unicode-Zeichen zu repräsentieren. Ein `char` ist ein 16-Bit-Wert und wird in einfachen Anführungszeichen dargestellt.\n",
    "\n",
    "**Beispiel:**"
   ]
  },
  {
   "cell_type": "code",
   "execution_count": 10,
   "metadata": {
    "dotnet_interactive": {
     "language": "csharp"
    },
    "polyglot_notebook": {
     "kernelName": "csharp"
    },
    "vscode": {
     "languageId": "polyglot-notebook"
    }
   },
   "outputs": [
    {
     "name": "stdout",
     "output_type": "stream",
     "text": [
      "A\n"
     ]
    }
   ],
   "source": [
    "char letter = 'A';\n",
    "Console.WriteLine(letter);  // Ausgabe: A"
   ]
  },
  {
   "cell_type": "markdown",
   "metadata": {},
   "source": [
    "#### Eigenschaften und Methoden von `char`\n",
    "\n",
    "Der `char`-Typ hat nützliche Methoden, die es ermöglichen, Zeichen zu analysieren und zu manipulieren, z. B. ob es sich um ein Zahlzeichen oder einen Buchstaben handelt.\n",
    "\n",
    "| Methode               | Beschreibung                                 |\n",
    "|-----------------------|---------------------------------------------|\n",
    "| `char.IsDigit(c)`      | Prüft, ob das Zeichen eine Ziffer ist.      |\n",
    "| `char.IsLetter(c)`     | Prüft, ob das Zeichen ein Buchstabe ist.    |\n",
    "| `char.IsLower(c)`      | Prüft, ob das Zeichen ein Kleinbuchstabe ist. |\n",
    "| `char.IsUpper(c)`      | Prüft, ob das Zeichen ein Großbuchstabe ist. |\n",
    "\n",
    "**Beispiel:**"
   ]
  },
  {
   "cell_type": "code",
   "execution_count": 11,
   "metadata": {
    "dotnet_interactive": {
     "language": "csharp"
    },
    "polyglot_notebook": {
     "kernelName": "csharp"
    },
    "vscode": {
     "languageId": "polyglot-notebook"
    }
   },
   "outputs": [
    {
     "name": "stdout",
     "output_type": "stream",
     "text": [
      "True\n"
     ]
    }
   ],
   "source": [
    "char digit = '5';\n",
    "bool isDigit = char.IsDigit(digit);\n",
    "Console.WriteLine(isDigit);  // Ausgabe: True"
   ]
  },
  {
   "cell_type": "markdown",
   "metadata": {},
   "source": [
    "### Zugriff auf Strings als Arrays von `char`\n",
    "\n",
    "Ein String in C# kann als ein Array von `char` behandelt werden. Jedes Zeichen eines Strings ist über einen nullbasierten Index zugänglich, ähnlich wie bei Arrays.\n",
    "\n",
    "**Beispiel:**"
   ]
  },
  {
   "cell_type": "code",
   "execution_count": 12,
   "metadata": {
    "dotnet_interactive": {
     "language": "csharp"
    },
    "polyglot_notebook": {
     "kernelName": "csharp"
    },
    "vscode": {
     "languageId": "polyglot-notebook"
    }
   },
   "outputs": [
    {
     "name": "stdout",
     "output_type": "stream",
     "text": [
      "H\n",
      "o\n"
     ]
    }
   ],
   "source": [
    "string word = \"Hello\";\n",
    "char firstChar = word[0];  // Zugriff auf das erste Zeichen\n",
    "char lastChar = word[word.Length - 1];  // Zugriff auf das letzte Zeichen\n",
    "Console.WriteLine(firstChar);  // Ausgabe: H\n",
    "Console.WriteLine(lastChar);   // Ausgabe: o"
   ]
  },
  {
   "cell_type": "markdown",
   "metadata": {},
   "source": [
    "### Konvertieren eines Strings in ein `char`-Array\n",
    "\n",
    "Man kann einen String explizit in ein `char[]` (ein Array von Zeichen) umwandeln, um direkten Zugriff auf jedes Zeichen zu erhalten und es zu manipulieren.\n",
    "\n",
    "**Beispiel:**"
   ]
  },
  {
   "cell_type": "code",
   "execution_count": 13,
   "metadata": {
    "dotnet_interactive": {
     "language": "csharp"
    },
    "polyglot_notebook": {
     "kernelName": "csharp"
    },
    "vscode": {
     "languageId": "polyglot-notebook"
    }
   },
   "outputs": [
    {
     "name": "stdout",
     "output_type": "stream",
     "text": [
      "A\n",
      "r\n",
      "r\n",
      "a\n",
      "y\n"
     ]
    }
   ],
   "source": [
    "string example = \"Array\";\n",
    "char[] charArray = example.ToCharArray();\n",
    "\n",
    "foreach (char c in charArray)\n",
    "{\n",
    "    Console.WriteLine(c);  // Ausgabe: A r r a y\n",
    "}"
   ]
  },
  {
   "cell_type": "markdown",
   "metadata": {},
   "source": [
    "### Modifizieren von Zeichen in einem `char`-Array\n",
    "\n",
    "Da Strings in C# unveränderlich sind, kann man sie nicht direkt ändern. Stattdessen kann man ein `char[]` verwenden, um die Zeichenfolge zu modifizieren, und dann das Array wieder in einen String konvertieren.\n",
    "\n",
    "**Beispiel:**"
   ]
  },
  {
   "cell_type": "code",
   "execution_count": 14,
   "metadata": {
    "dotnet_interactive": {
     "language": "csharp"
    },
    "polyglot_notebook": {
     "kernelName": "csharp"
    },
    "vscode": {
     "languageId": "polyglot-notebook"
    }
   },
   "outputs": [
    {
     "name": "stdout",
     "output_type": "stream",
     "text": [
      "Hallo\n"
     ]
    }
   ],
   "source": [
    "string original = \"Hello\";\n",
    "char[] charArray = original.ToCharArray();\n",
    "charArray[1] = 'a';  // Modifizieren des zweiten Zeichens\n",
    "\n",
    "string modified = new string(charArray);\n",
    "Console.WriteLine(modified);  // Ausgabe: Hallo"
   ]
  },
  {
   "cell_type": "markdown",
   "metadata": {},
   "source": [
    "### Umformatiertes Zeichenfolgenliteral mit `\"\"\"`\n",
    "\n",
    "In C# kannst du mit dreifachen doppelten Anführungszeichen (`\"\"\"`) eine Zeichenfolge definieren, die Formatierungen wie Zeilenumbrüche und Einrückungen direkt beibehält. Dieses Feature wurde in C# 11 eingeführt und erlaubt es, mehrzeilige Zeichenfolgen literarisch darzustellen, ohne auf Escape-Sequenzen wie `\\n` oder `\\t` angewiesen zu sein.\n",
    "\n",
    "#### Syntax\n",
    "\n",
    "Ein umformatiertes Zeichenfolgenliteral beginnt und endet mit drei doppelten Anführungszeichen (`\"\"\"`). Der Text innerhalb dieser Begrenzung wird genau so übernommen, wie er zwischen den Anführungszeichen steht, einschließlich Zeilenumbrüchen und Leerzeichen.\n",
    "\n",
    "#### Beispiel:"
   ]
  },
  {
   "cell_type": "code",
   "execution_count": 15,
   "metadata": {
    "dotnet_interactive": {
     "language": "csharp"
    },
    "polyglot_notebook": {
     "kernelName": "csharp"
    },
    "vscode": {
     "languageId": "polyglot-notebook"
    }
   },
   "outputs": [
    {
     "name": "stdout",
     "output_type": "stream",
     "text": [
      "Dies ist eine mehrzeilige Zeichenfolge.\n",
      "Sie behält ihre Formatierung bei,\n",
      "einschließlich Zeilenumbrüchen und Leerzeichen.\n"
     ]
    }
   ],
   "source": [
    "string multiLineString = \"\"\"\n",
    "    Dies ist eine mehrzeilige Zeichenfolge.\n",
    "    Sie behält ihre Formatierung bei,\n",
    "    einschließlich Zeilenumbrüchen und Leerzeichen.\n",
    "    \"\"\";\n",
    "\n",
    "Console.WriteLine(multiLineString);"
   ]
  },
  {
   "cell_type": "markdown",
   "metadata": {},
   "source": [
    "#### Einrückungen in umformatierten Literalen\n",
    "\n",
    "Die Einrückung eines umformatierten Zeichenfolgenliterals wird automatisch an der Position des schließenden `\"\"\"` ausgerichtet. Das bedeutet, dass der Text so formatiert wird, wie er im Code steht. Zusätzliche Leerzeichen am Anfang jeder Zeile können jedoch zu einem weniger gut formatierten String führen, wenn die Formatierung im Code nicht sorgfältig durchgeführt wird.\n",
    "\n",
    "**Beispiel mit zusätzlicher Einrückung:**"
   ]
  },
  {
   "cell_type": "code",
   "execution_count": 16,
   "metadata": {
    "dotnet_interactive": {
     "language": "csharp"
    },
    "polyglot_notebook": {
     "kernelName": "csharp"
    },
    "vscode": {
     "languageId": "polyglot-notebook"
    }
   },
   "outputs": [
    {
     "name": "stdout",
     "output_type": "stream",
     "text": [
      "    Dies ist ein Beispiel für eine Zeichenfolge mit Einrückung.\n",
      "    Der Abstand wird beibehalten, je nachdem, wie der Text im Code geschrieben ist.\n"
     ]
    }
   ],
   "source": [
    "string text = \"\"\"\n",
    "        Dies ist ein Beispiel für eine Zeichenfolge mit Einrückung.\n",
    "        Der Abstand wird beibehalten, je nachdem, wie der Text im Code geschrieben ist.\n",
    "    \"\"\";\n",
    "\n",
    "Console.WriteLine(text);"
   ]
  },
  {
   "cell_type": "markdown",
   "metadata": {},
   "source": [
    "#### Kombination mit Interpolation\n",
    "\n",
    "Umformatierte Zeichenfolgenliterale unterstützen auch String-Interpolation, sodass du Variablen oder Ausdrücke in den Text einfügen kannst.\n",
    "\n",
    "**Beispiel:**"
   ]
  },
  {
   "cell_type": "code",
   "execution_count": 17,
   "metadata": {
    "dotnet_interactive": {
     "language": "csharp"
    },
    "polyglot_notebook": {
     "kernelName": "csharp"
    },
    "vscode": {
     "languageId": "polyglot-notebook"
    }
   },
   "outputs": [
    {
     "name": "stdout",
     "output_type": "stream",
     "text": [
      "Hallo, Welt!\n",
      "Willkommen zu dieser mehrzeiligen Zeichenfolge.\n"
     ]
    }
   ],
   "source": [
    "string name = \"Welt\";\n",
    "string interpolated = $\"\"\"\n",
    "    Hallo, {name}!\n",
    "    Willkommen zu dieser mehrzeiligen Zeichenfolge.\n",
    "    \"\"\";\n",
    "\n",
    "Console.WriteLine(interpolated);"
   ]
  },
  {
   "cell_type": "markdown",
   "metadata": {},
   "source": [
    "### Vorteile von umformatierten Zeichenfolgenliteralen\n",
    "\n",
    "- **Lesbarkeit**: Mehrzeilige Strings können ohne Escape-Sequenzen definiert werden, was den Code lesbarer macht.\n",
    "- **Formattreue**: Der String behält die genaue Formatierung bei, wie er im Code erscheint, einschließlich Zeilenumbrüchen und Leerzeichen.\n",
    "- **Einfache Interpolation**: Die Verwendung von Interpolation in mehrzeiligen Strings erleichtert die dynamische Einbindung von Werten."
   ]
  },
  {
   "cell_type": "markdown",
   "metadata": {},
   "source": [
    "← [Wichtige Konzepte im Zusammenhang mit Variablen in C#](../CSharp_Introduction.de.ipynb#Wichtige-Konzepte-im-Zusammenhang-mit-Variablen)"
   ]
  }
 ],
 "metadata": {
  "kernelspec": {
   "display_name": ".NET (C#)",
   "language": "C#",
   "name": ".net-csharp"
  },
  "language_info": {
   "name": "python"
  },
  "polyglot_notebook": {
   "kernelInfo": {
    "defaultKernelName": "csharp",
    "items": [
     {
      "aliases": [],
      "name": "csharp"
     }
    ]
   }
  }
 },
 "nbformat": 4,
 "nbformat_minor": 2
}
