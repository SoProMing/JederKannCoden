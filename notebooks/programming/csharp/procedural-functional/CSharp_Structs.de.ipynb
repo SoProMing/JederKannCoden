{
 "cells": [
  {
   "cell_type": "markdown",
   "metadata": {},
   "source": [
    "[Jeder kann coden](../../abstract/Contents.de.ipynb) / [Programmieren & TicTacToe](../../Programming_And_TicTacToe.de.ipynb) / [C# Einführung](../CSharp_Introduction.de.ipynb)\n",
    "\n",
    "# Structs in C#\n",
    "\n",
    "<table border=\"0\">\n",
    "  <tr>\n",
    "    <td>\n",
    "        <img src=\"Structs.webp\">\n",
    "    </td>\n",
    "    <td rowspan=\"2\">\n",
    "        <a href=\"https://miro.com/app/board/o9J_lOJi2o0=/?moveToWidget=3458764554347680798&cot=14\"><img src=\"Radar_Structs.jpg\"></a>\n",
    "    </td>\n",
    "  </tr>\n",
    "  <tr>\n",
    "    <td>\n",
    "      <a href=\"https://learn.microsoft.com/en-us/dotnet/csharp/language-reference/builtin-types/struct\" target=\"_blank\">Structs in C# (Microsoft Docs)</a><br>\n",
    "      <a href=\"https://learn.microsoft.com/en-us/dotnet/csharp/programming-guide/types/structs\" target=\"_blank\">Programming Guide: Structs (Microsoft Docs)</a><br>\n",
    "      <a href=\"https://www.geeksforgeeks.org/c-sharp-struct/\" target=\"_blank\">Structs in C# - GeeksforGeeks</a><br>\n",
    "      <a href=\"https://www.csharp-examples.net/struct/\" target=\"_blank\">C# Struct Examples - C# Examples</a><br>\n",
    "      <a href=\"https://www.tutorialsteacher.com/csharp/csharp-struct\" target=\"_blank\">C# Struct Tutorial - TutorialsTeacher</a><br>\n",
    "      <a href=\"https://stackoverflow.com/questions/tagged/struct\" target=\"_blank\">Struct Tag - Stack Overflow</a><br>\n",
    "      <a href=\"https://code-maze.com/csharp-structs/\" target=\"_blank\">Understanding Structs in C# - Code Maze</a><br>\n",
    "    </td>\n",
    "  </tr>\n",
    "</table>"
   ]
  },
  {
   "cell_type": "markdown",
   "metadata": {},
   "source": [
    "In C# sind `structs` (Strukturen) benutzerdefinierte Datentypen, die sich von Klassen dadurch unterscheiden, dass sie Werttypen statt Referenztypen sind. `structs` werden im Stack und nicht im Heap gespeichert, was sie für leichte Datenstrukturen besonders effizient macht. Sie sind ideal für kleine Datenobjekte, die keine Vererbung oder Referenzsemantik benötigen. Typische Anwendungsfälle für `structs` sind geometrische oder physikalische Werte, die sich häufig ändern und für die Speicher- und Leistungseffizienz wichtig ist.\n",
    "\n",
    "### Deklaration und Eigenschaften von structs\n",
    "\n",
    "- `structs` können Methoden, Felder, Eigenschaften und Konstruktoren enthalten, jedoch keine Destruktoren und Vererbung (außer dem impliziten Erben von `System.ValueType`).\n",
    "- `structs` haben eine \"Call-by-Value\"-Semantik, was bedeutet, dass bei der Übergabe an Methoden eine Kopie des Wertes erstellt wird.\n",
    "\n",
    "### Beispiel: Struct zur Darstellung einer Messung der Luftqualität\n",
    "\n",
    "Angenommen, wir möchten eine einfache Struktur zur Darstellung einer Luftqualitätsmessung in der Umweltinformatik erstellen. Hierzu erstellen wir ein `struct` namens `AirQualityMeasurement`, das folgende Eigenschaften enthält:\n",
    "\n",
    "- `PM2_5` (Feinstaubbelastung in Mikrogramm pro Kubikmeter)\n",
    "- `PM10` (gröberer Feinstaubwert)\n",
    "- `Location` (Messort)"
   ]
  },
  {
   "cell_type": "code",
   "execution_count": 9,
   "metadata": {
    "dotnet_interactive": {
     "language": "csharp"
    },
    "polyglot_notebook": {
     "kernelName": "csharp"
    },
    "vscode": {
     "languageId": "polyglot-notebook"
    }
   },
   "outputs": [
    {
     "name": "stdout",
     "output_type": "stream",
     "text": [
      "Messung am Standort Berlin-Mitte:\n",
      "PM2.5: 25,3 µg/m³, PM10: 45,7 µg/m³\n"
     ]
    }
   ],
   "source": [
    "struct AirQualityMeasurement\n",
    "{\n",
    "    public float PM2_5;\n",
    "    public float PM10;\n",
    "    public string Location;\n",
    "\n",
    "    // Konstruktor\n",
    "    public AirQualityMeasurement(float pm25, float pm10, string location)\n",
    "    {\n",
    "        PM2_5 = pm25;\n",
    "        PM10 = pm10;\n",
    "        Location = location;\n",
    "    }\n",
    "\n",
    "    // Methode zur Ausgabe der Messung\n",
    "    public void PrintMeasurement()\n",
    "    {\n",
    "        Console.WriteLine($\"Messung am Standort {Location}:\");\n",
    "        Console.WriteLine($\"PM2.5: {PM2_5} µg/m³, PM10: {PM10} µg/m³\");\n",
    "    }\n",
    "}\n",
    "\n",
    "// Initialisierung eines AirQualityMeasurement-Structs\n",
    "AirQualityMeasurement measurement = new AirQualityMeasurement(25.3f, 45.7f, \"Berlin-Mitte\");\n",
    "\n",
    "// Ausgabe der Messwerte\n",
    "measurement.PrintMeasurement();"
   ]
  },
  {
   "cell_type": "markdown",
   "metadata": {},
   "source": [
    "In diesem Beispiel wird eine `AirQualityMeasurement`-Instanz erstellt und die Messwerte für PM2.5 und PM10 an einem bestimmten Standort auf der Konsole ausgegeben.\n",
    "\n",
    "### Struct als Werttyp – Beispiel mit Parameterübergabe\n",
    "\n",
    "Da `structs` Werttypen sind, werden sie standardmäßig bei der Übergabe an eine Methode oder eine andere Struktur kopiert. Änderungen an der Kopie betreffen daher nicht das Original. Im folgenden Beispiel wird ein Struct für die Temperaturmessung (`TemperatureMeasurement`) erstellt und an eine Methode übergeben, die den Wert modifiziert:"
   ]
  },
  {
   "cell_type": "code",
   "execution_count": 12,
   "metadata": {
    "dotnet_interactive": {
     "language": "csharp"
    },
    "polyglot_notebook": {
     "kernelName": "csharp"
    },
    "vscode": {
     "languageId": "polyglot-notebook"
    }
   },
   "outputs": [
    {
     "name": "stdout",
     "output_type": "stream",
     "text": [
      "Vor dem Methodenaufruf:\n",
      "Temperatur am Standort Hamburg: 22,5 °C\n",
      "Geänderte Temperatur innerhalb der Methode: 27,5 °C\n",
      "Nach dem Methodenaufruf:\n",
      "Temperatur am Standort Hamburg: 27,5 °C\n"
     ]
    }
   ],
   "source": [
    "class TemperatureMeasurement\n",
    "{\n",
    "    public float Temperature;\n",
    "    public string Location;\n",
    "\n",
    "    public TemperatureMeasurement(float temperature, string location)\n",
    "    {\n",
    "        Temperature = temperature;\n",
    "        Location = location;\n",
    "    }\n",
    "\n",
    "    public void PrintMeasurement()\n",
    "    {\n",
    "        Console.WriteLine($\"Temperatur am Standort {Location}: {Temperature} °C\");\n",
    "    }\n",
    "}\n",
    "\n",
    "static void ModifyTemperature(TemperatureMeasurement tempMeasurement)\n",
    "{\n",
    "    // Ändern der Temperatur in der Kopie des structs\n",
    "    tempMeasurement.Temperature += 5.0f;\n",
    "    Console.WriteLine($\"Geänderte Temperatur innerhalb der Methode: {tempMeasurement.Temperature} °C\");\n",
    "}\n",
    "\n",
    "TemperatureMeasurement measurement = new TemperatureMeasurement(22.5f, \"Hamburg\");\n",
    "\n",
    "// Vorherige Temperatur ausgeben\n",
    "Console.WriteLine(\"Vor dem Methodenaufruf:\");\n",
    "measurement.PrintMeasurement();\n",
    "        \n",
    "// Methode aufrufen, die eine Kopie des Structs modifiziert\n",
    "ModifyTemperature(measurement);\n",
    "\n",
    "// Nach dem Methodenaufruf\n",
    "Console.WriteLine(\"Nach dem Methodenaufruf:\");\n",
    "measurement.PrintMeasurement();"
   ]
  },
  {
   "cell_type": "markdown",
   "metadata": {},
   "source": [
    "### Erklärung\n",
    "\n",
    "1. Wir erstellen eine Instanz von `TemperatureMeasurement` mit einer Temperatur von 22.5 °C.\n",
    "2. Die Methode `ModifyTemperature` ändert die Temperatur, aber da ein `struct` als Werttyp übergeben wird, wird nur eine Kopie übergeben.\n",
    "3. Daher bleiben die Änderungen lokal auf die Methode beschränkt, und die ursprüngliche Temperatur bleibt nach dem Methodenaufruf unverändert.\n",
    "\n",
    "### Fazit\n",
    "\n",
    "Strukturen (`structs`) sind eine wertvolle Möglichkeit, kleine, unveränderliche Datenobjekte in C# zu modellieren, die bei der Übertragung kopiert werden sollen, z. B. Messwerte in der Umweltinformatik."
   ]
  },
  {
   "cell_type": "markdown",
   "metadata": {},
   "source": [
    "## Vertiefung\n",
    "\n",
    "### **1. Unterschiede zwischen `struct` und `class`**\n",
    "| Eigenschaft                | `struct`                                     | `class`                      |\n",
    "|----------------------------|----------------------------------------------|------------------------------|\n",
    "| **Typ**                   | Werttyp (stack-basiert)                      | Referenztyp (heap-basiert)   |\n",
    "| **Standardkonstruktor**    | Kein Parameterloser Standardkonstruktor      | Immer ein parameterloser Standardkonstruktor vorhanden |\n",
    "| **Vererbung**             | Keine Vererbung erlaubt                      | Unterstützt Vererbung        |\n",
    "| **Nullbarkeit**            | Kann mit `Nullable<T>` oder `?` verwendet werden | Kann direkt null sein        |\n",
    "| **Leistung**              | Schneller für kleine, kurzlebige Daten       | Besser für komplexe Objekte  |\n",
    "\n",
    "### **2. Immutability (Unveränderlichkeit)**\n",
    "\n",
    "Während `structs` per Standard veränderbar sind, ist es oft sinnvoll, sie unveränderlich zu machen, da dies Fehler bei der Bearbeitung vermeidet. Dies geschieht, indem Felder oder Eigenschaften als `readonly` markiert werden.\n",
    "\n",
    "**Beispiel: Unveränderlicher Struct**"
   ]
  },
  {
   "cell_type": "code",
   "execution_count": 5,
   "metadata": {
    "dotnet_interactive": {
     "language": "csharp"
    },
    "polyglot_notebook": {
     "kernelName": "csharp"
    },
    "vscode": {
     "languageId": "polyglot-notebook"
    }
   },
   "outputs": [],
   "source": [
    "struct ReadonlyMeasurement\n",
    "{\n",
    "    public readonly float PM2_5 { get; }\n",
    "    public readonly float PM10 { get; }\n",
    "    public readonly string Location { get; }\n",
    "\n",
    "    public ReadonlyMeasurement(float pm25, float pm10, string location)\n",
    "    {\n",
    "        PM2_5 = pm25;\n",
    "        PM10 = pm10;\n",
    "        Location = location;\n",
    "    }\n",
    "\n",
    "    public void PrintMeasurement()\n",
    "    {\n",
    "        Console.WriteLine($\"Messung: {Location}, PM2.5: {PM2_5}, PM10: {PM10}\");\n",
    "    }\n",
    "}"
   ]
  },
  {
   "cell_type": "markdown",
   "metadata": {},
   "source": [
    "**Vorteil:** Der Zustand des `struct` bleibt nach der Initialisierung unverändert, was Konsistenz und Thread-Sicherheit gewährleistet.\n",
    "\n",
    "### **3. Speicherüberlegungen**\n",
    "\n",
    "Da `structs` Werttypen sind, wird bei jeder Kopie eine neue Instanz erstellt. Dies kann bei großen `structs` zu höheren Speicher- und Performancekosten führen. In solchen Fällen ist es besser, eine `class` zu verwenden.\n",
    "\n",
    "**Richtlinie:**\n",
    "- Verwende `structs`, wenn sie klein (typischerweise weniger als 16 Byte) und kurzlebig sind.\n",
    "- Für komplexere oder größere Datenstrukturen sind Klassen besser geeignet.\n",
    "\n",
    "### **4. Boxen und Unboxen**\n",
    "\n",
    "Wenn ein `struct` in einen `object`-Typ oder ein Interface-Typ konvertiert wird, findet ein Prozess namens **Boxing** statt, bei dem der Wert in eine Referenz auf dem Heap umgewandelt wird. Unboxing ist der umgekehrte Vorgang.\n",
    "\n",
    "**Beispiel: Boxing und Unboxing**"
   ]
  },
  {
   "cell_type": "code",
   "execution_count": 6,
   "metadata": {
    "dotnet_interactive": {
     "language": "csharp"
    },
    "polyglot_notebook": {
     "kernelName": "csharp"
    },
    "vscode": {
     "languageId": "polyglot-notebook"
    }
   },
   "outputs": [
    {
     "name": "stdout",
     "output_type": "stream",
     "text": [
      "Ursprünglicher Wert: 15,5, Nach Unboxing: 15,5\n"
     ]
    }
   ],
   "source": [
    "struct AirQuality\n",
    "{\n",
    "    public float PM2_5;\n",
    "\n",
    "    public AirQuality(float pm25)\n",
    "    {\n",
    "        PM2_5 = pm25;\n",
    "    }\n",
    "}\n",
    "AirQuality airQuality = new AirQuality(15.5f);\n",
    "\n",
    "// Boxing\n",
    "object boxed = airQuality;\n",
    "\n",
    "// Unboxing\n",
    "AirQuality unboxed = (AirQuality)boxed;\n",
    "\n",
    "Console.WriteLine($\"Ursprünglicher Wert: {airQuality.PM2_5}, Nach Unboxing: {unboxed.PM2_5}\");"
   ]
  },
  {
   "cell_type": "markdown",
   "metadata": {},
   "source": [
    "**Nachteil:** Boxing/Unboxing ist ein teurer Vorgang und sollte vermieden werden, wenn hohe Performance wichtig ist.\n",
    "\n",
    "### **5. Default-Werte für Structs**\n",
    "\n",
    "Ein `struct` hat standardmäßig seine Felder mit Standardwerten (z. B. `0` für Zahlen, `false` für boolesche Werte) initialisiert. Dies bedeutet, dass alle Felder eines `struct` initialisiert sein müssen, bevor darauf zugegriffen wird.\n",
    "\n",
    "**Beispiel: Default-Werte**"
   ]
  },
  {
   "cell_type": "code",
   "execution_count": 7,
   "metadata": {
    "dotnet_interactive": {
     "language": "csharp"
    },
    "polyglot_notebook": {
     "kernelName": "csharp"
    },
    "vscode": {
     "languageId": "polyglot-notebook"
    }
   },
   "outputs": [
    {
     "name": "stdout",
     "output_type": "stream",
     "text": [
      "Default-Werte: Value=0, Unit=\n"
     ]
    }
   ],
   "source": [
    "struct Measurement\n",
    "{\n",
    "    public float Value;\n",
    "    public string Unit;\n",
    "}\n",
    "\n",
    "Measurement defaultMeasurement = new Measurement();\n",
    "Console.WriteLine($\"Default-Werte: Value={defaultMeasurement.Value}, Unit={defaultMeasurement.Unit}\");"
   ]
  },
  {
   "cell_type": "markdown",
   "metadata": {},
   "source": [
    "### **6. Einsatzmöglichkeiten in der Umweltinformatik**\n",
    "\n",
    "Strukturen sind besonders nützlich in Bereichen wie Umweltinformatik, wo kleine, leichtgewichtige Datenobjekte häufig benötigt werden. Beispiele könnten sein:\n",
    "\n",
    "- **Geographische Koordinaten:** Ein `struct` für Latitude/Longitude.\n",
    "- **Umweltmessungen:** Luftqualitäts- oder Wasserstandsmessungen.\n",
    "- **Sensorwerte:** Temperatur, Luftdruck, Feuchtigkeit.\n",
    "\n",
    "**Beispiel: Sensor-Array mit structs**"
   ]
  },
  {
   "cell_type": "code",
   "execution_count": 8,
   "metadata": {
    "dotnet_interactive": {
     "language": "csharp"
    },
    "polyglot_notebook": {
     "kernelName": "csharp"
    },
    "vscode": {
     "languageId": "polyglot-notebook"
    }
   },
   "outputs": [
    {
     "name": "stdout",
     "output_type": "stream",
     "text": [
      "Sensor: Temperatur, Wert: 22,5, Zeit: 24.01.2025 13:34:04\n",
      "Sensor: Luftfeuchtigkeit, Wert: 60,3, Zeit: 24.01.2025 13:34:04\n"
     ]
    }
   ],
   "source": [
    "struct SensorData\n",
    "{\n",
    "    public string SensorName;\n",
    "    public float Value;\n",
    "    public DateTime Timestamp;\n",
    "\n",
    "    public SensorData(string sensorName, float value, DateTime timestamp)\n",
    "    {\n",
    "        SensorName = sensorName;\n",
    "        Value = value;\n",
    "        Timestamp = timestamp;\n",
    "    }\n",
    "\n",
    "    public void PrintData()\n",
    "    {\n",
    "        Console.WriteLine($\"Sensor: {SensorName}, Wert: {Value}, Zeit: {Timestamp}\");\n",
    "    }\n",
    "}\n",
    "\n",
    "SensorData[] sensors = new SensorData[2]\n",
    "{\n",
    "    new SensorData(\"Temperatur\", 22.5f, DateTime.Now),\n",
    "    new SensorData(\"Luftfeuchtigkeit\", 60.3f, DateTime.Now)\n",
    "};\n",
    "\n",
    "foreach (var sensor in sensors)\n",
    "{\n",
    "    sensor.PrintData();\n",
    "}"
   ]
  },
  {
   "cell_type": "markdown",
   "metadata": {},
   "source": [
    "### **Zusammenfassung**\n",
    "\n",
    "- `structs` sind leistungsstarke Werkzeuge für kleine, unveränderliche Datenobjekte, aber sie sollten nicht für große oder komplexe Strukturen verwendet werden.\n",
    "- Sie sind besonders in der Umweltinformatik nützlich, um Messdaten oder Sensordaten effizient zu modellieren.\n",
    "- Achte auf mögliche Box-/Unbox-Operationen und nutze `readonly` für immutables Design."
   ]
  }
 ],
 "metadata": {
  "kernelspec": {
   "display_name": ".NET (C#)",
   "language": "C#",
   "name": ".net-csharp"
  },
  "language_info": {
   "name": "python"
  },
  "polyglot_notebook": {
   "kernelInfo": {
    "defaultKernelName": "csharp",
    "items": [
     {
      "aliases": [],
      "name": "csharp"
     }
    ]
   }
  }
 },
 "nbformat": 4,
 "nbformat_minor": 2
}
