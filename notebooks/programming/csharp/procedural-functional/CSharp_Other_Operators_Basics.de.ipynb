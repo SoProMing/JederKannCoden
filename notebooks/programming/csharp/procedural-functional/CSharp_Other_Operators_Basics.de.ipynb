{
 "cells": [
  {
   "cell_type": "markdown",
   "metadata": {},
   "source": [
    "# Grundlagen weiterer Operatoren\n",
    "\n",
    "<table border=\"0\">\n",
    "  <tr>\n",
    "    <td>\n",
    "        <img src=\"other_operators.webp\" style=\"width:280px; height:280px;\">\n",
    "    </td>\n",
    "    <td rowspan=\"2\">\n",
    "        <img src=\"Radar_Operators.de.jpg\" style=\"width:480px;\"\n",
    "    </td>\n",
    "  </tr>\n",
    "  <tr>\n",
    "    <td>\n",
    "      <a href=\"https://learn.microsoft.com/de-de/dotnet/csharp/language-reference/operators/\">Link zur Microsoft Dokumentation</a><br>\n",
    "      <a href=\"CSharp_Boolean_Operators_Basics.de.ipynb\">Link zu Booleschen Operatoren</a><br>\n",
    "      <a href=\"https://miro.com/app/board/o9J_lOJi2o0=/?moveToWidget=3458764554345659185&cot=14\">Link zum roten Faden auf Miro</a><br>\n",
    "      <a href=\"https://www.w3schools.com/cs/cs_operators.php\">Link zu Tutorial auf w3schools</a>\n",
    "    </td>\n",
    "  </tr>\n",
    "</table>"
   ]
  },
  {
   "cell_type": "markdown",
   "metadata": {},
   "source": [
    "### 1. Gleichheits- und Vergleichsoperatoren\n",
    "\n",
    "- **Gleichheitsoperator (`==`)**: Überprüft, ob zwei Werte gleich sind.\n",
    "- **Ungleichheitsoperator (`!=`)**: Überprüft, ob zwei Werte ungleich sind.\n",
    "- **Vergleichsoperatoren (`<`, `>`, `<=`, `>=`)**: Vergleichen zwei Werte.\n",
    "\n",
    "#### Beispiel:"
   ]
  },
  {
   "cell_type": "code",
   "execution_count": 1,
   "metadata": {
    "dotnet_interactive": {
     "language": "csharp"
    },
    "polyglot_notebook": {
     "kernelName": "csharp"
    },
    "vscode": {
     "languageId": "polyglot-notebook"
    }
   },
   "outputs": [],
   "source": [
    "int a = 5;\n",
    "int b = 10;\n",
    "\n",
    "bool gleich = (a == b); // Überprüft, ob a gleich b ist\n",
    "bool ungleich = (a != b); // Überprüft, ob a ungleich b ist\n",
    "bool kleiner = (a < b); // Überprüft, ob a kleiner als b ist\n",
    "bool groesser = (a > b); // Überprüft, ob a größer als b ist\n",
    "bool kleinerOderGleich = (a <= b); // Überprüft, ob a kleiner oder gleich b ist\n",
    "bool groesserOderGleich = (a >= b); // Überprüft, ob a größer oder gleich b ist"
   ]
  },
  {
   "cell_type": "markdown",
   "metadata": {},
   "source": [
    "<details>\n",
    "<summary>Ausführliche Erklärung...</summary>\n",
    "Die Gleichheits- und Vergleichsoperatoren in C# ermöglichen es Entwicklern, logische Bedingungen zu überprüfen. Der Gleichheitsoperator (`==`) vergleicht, ob zwei Werte identisch sind, während der Ungleichheitsoperator (`!=`) überprüft, ob sie unterschiedlich sind. Die Vergleichsoperatoren sind nützlich, um numerische Werte zu vergleichen, beispielsweise um festzustellen, ob eine Zahl kleiner oder größer als eine andere ist. Diese Operatoren geben einen booleschen Wert zurück (`true` oder `false`), der in Bedingungen verwendet werden kann, wie etwa in `if`-Anweisungen oder Schleifen.\n",
    "</details>\n",
    "\n",
    "### 2. Arithmetische Operatoren\n",
    "\n",
    "- **Addition (`+`)**: Addiert zwei Werte.\n",
    "- **Subtraktion (`-`)**: Subtrahiert den zweiten Wert vom ersten.\n",
    "- **Multiplikation (`*`)**: Multipliziert zwei Werte.\n",
    "- **Division (`/`)**: Teilt den ersten Wert durch den zweiten.\n",
    "- **Modulus (`%`)**: Gibt den Rest einer Division zurück.\n",
    "- **Kurzschreibweisen**: \n",
    "  - Addition: `+=`\n",
    "  - Subtraktion: `-=`\n",
    "  - Multiplikation: `*=`\n",
    "  - Division: `/=`\n",
    "  - Modulus: `%=`\n",
    "\n",
    "#### Beispiel:"
   ]
  },
  {
   "cell_type": "code",
   "execution_count": null,
   "metadata": {
    "dotnet_interactive": {
     "language": "csharp"
    },
    "polyglot_notebook": {
     "kernelName": "csharp"
    },
    "vscode": {
     "languageId": "polyglot-notebook"
    }
   },
   "outputs": [],
   "source": [
    "int x = 15;\n",
    "int y = 4;\n",
    "\n",
    "int summe = x + y; // Addition\n",
    "int differenz = x - y; // Subtraktion\n",
    "int produkt = x * y; // Multiplikation\n",
    "int quotient = x / y; // Division (ganzzahlig)\n",
    "int rest = x % y; // Modulus\n",
    "\n",
    "// Kurzschreibweisen\n",
    "x += 5; // Erhöht x um 5 (x = x + 5)\n",
    "x -= 2; // Verringert x um 2 (x = x - 2)\n",
    "x *= 3; // Multipliziert x mit 3 (x = x * 3)\n",
    "x /= 2; // Teilt x durch 2 (x = x / 2)\n",
    "x %= 3; // Setzt x auf den Rest von x geteilt durch 3 (x = x % 3)"
   ]
  },
  {
   "cell_type": "markdown",
   "metadata": {},
   "source": [
    "<details>\n",
    "<summary>Ausführliche Erklärung...</summary>\n",
    "Arithmetische Operatoren in C# sind grundlegende Werkzeuge, die es ermöglichen, mathematische Berechnungen durchzuführen. Der Addition-Operator (`+`) addiert zwei Zahlen, während der Subtraktionsoperator (`-`) den zweiten Wert von dem ersten abzieht. Der Multiplikationsoperator (`*`) multipliziert zwei Werte, und der Divisionsoperator (`/`) teilt den ersten Wert durch den zweiten, wobei bei der Ganzzahldivision nur der ganzzahlige Teil des Ergebnisses beibehalten wird. Der Modulus-Operator (`%`) gibt den Rest einer Division zurück und ist nützlich, um festzustellen, ob eine Zahl gerade oder ungerade ist oder um zyklische Berechnungen durchzuführen.\n",
    "\n",
    "Die Kurzschreibweisen für diese Operatoren ermöglichen es, die Werte in einer kompakten Form zu aktualisieren. Zum Beispiel erhöht `x += 5` den aktuellen Wert von `x` um `5`, was dasselbe ist wie `x = x + 5`. Diese Schreibweise verbessert die Lesbarkeit und reduziert die Codezeilen, die zur Durchführung von Berechnungen erforderlich sind.\n",
    "</details>\n",
    "\n",
    "### 3. Schiebeoperatoren\n",
    "\n",
    "- **Linker Schiebeoperator (`<<`)**: Verschiebt die Bits nach links und multipliziert mit 2.\n",
    "- **Rechter Schiebeoperator (`>>`)**: Verschiebt die Bits nach rechts und dividiert durch 2.\n",
    "\n",
    "#### Beispiel:"
   ]
  },
  {
   "cell_type": "code",
   "execution_count": null,
   "metadata": {
    "dotnet_interactive": {
     "language": "csharp"
    },
    "polyglot_notebook": {
     "kernelName": "csharp"
    },
    "vscode": {
     "languageId": "polyglot-notebook"
    }
   },
   "outputs": [],
   "source": [
    "int zahl = 5; // In Binär: 0000 0101\n",
    "\n",
    "int links = zahl << 1; // Verschiebt die Bits nach links, ergibt 10 (0000 1010)\n",
    "int rechts = zahl >> 1; // Verschiebt die Bits nach rechts, ergibt 2 (0000 0010)"
   ]
  },
  {
   "cell_type": "markdown",
   "metadata": {},
   "source": [
    "<details>\n",
    "<summary>Ausführliche Erklärung...</summary>\n",
    "Schiebeoperatoren sind in C# spezielle Operatoren, die mit den Bitdarstellungen von Zahlen arbeiten. Der linke Schiebeoperator (`<<`) verschiebt die Bits einer Zahl nach links, was gleichbedeutend mit einer Multiplikation der Zahl mit 2 ist. Zum Beispiel würde das Verschieben von `5` (in Binär `0000 0101`) nach links um eine Position das Ergebnis `10` (in Binär `0000 1010`) erzeugen. Der rechte Schiebeoperator (`>>`) hingegen verschiebt die Bits nach rechts und entspricht einer Division durch 2. Diese Operatoren sind besonders nützlich in der Systemprogrammierung und bei der Arbeit mit binären Daten.\n",
    "</details>\n",
    "\n",
    "### 4. Ternärer Operator\n",
    "\n",
    "- **Ternärer Operator (`? :`)**: Eine Kurzschreibweise für `if-else`-Anweisungen, die einen Wert basierend auf einer Bedingung zurückgibt.\n",
    "\n",
    "#### Beispiel:"
   ]
  },
  {
   "cell_type": "code",
   "execution_count": null,
   "metadata": {
    "dotnet_interactive": {
     "language": "csharp"
    },
    "polyglot_notebook": {
     "kernelName": "csharp"
    },
    "vscode": {
     "languageId": "polyglot-notebook"
    }
   },
   "outputs": [],
   "source": [
    "int a = 5;\n",
    "int b = 10;\n",
    "\n",
    "// Ternärer Operator zur Bestimmung des größeren Wertes\n",
    "int groesser = (a > b) ? a : b; // Wenn a größer als b ist, wird a zurückgegeben, andernfalls b"
   ]
  },
  {
   "cell_type": "markdown",
   "metadata": {},
   "source": [
    "<details>\n",
    "<summary>Ausführliche Erklärung...</summary>\n",
    "Der ternäre Operator in C# ist eine kompakte Möglichkeit, eine Bedingung zu überprüfen und basierend auf dem Ergebnis einen von zwei Werten zurückzugeben. Der Operator hat die Form `Bedingung ? WertWennWahr : WertWennFalsch`. Wenn die Bedingung `true` ist, wird `WertWennWahr` zurückgegeben, andernfalls wird `WertWennFalsch` zurückgegeben. Dies ermöglicht eine übersichtliche und prägnante Schreibweise, die die Notwendigkeit für eine vollständige `if-else`-Anweisung verringert. Der ternäre Operator ist besonders nützlich in Situationen, in denen eine einfache Bedingungsüberprüfung erforderlich ist.\n",
    "</details>\n",
    "\n",
    "### 5. Operatorrangfolge\n",
    "\n",
    "- **Operatorrangfolge**: Bestimmt die Reihenfolge, in der Operatoren in einem Ausdruck ausgewertet werden.\n",
    "  \n",
    "<details>\n",
    "<summary>Ausführliche Erklärung...</summary>\n",
    "In C# haben Operatoren unterschiedliche Prioritäten, die festlegen, in welcher Reihenfolge sie in einer Berechnung ausgeführt werden. Operatoren mit höherer Priorität werden vor denen mit niedrigerer Priorität ausgeführt. Zum Beispiel hat der Multiplikationsoperator (`*`) eine höhere Priorität als der Addition-Operator (`+`), sodass in einem Ausdruck wie `3 + 4 * 5` zuerst die Multiplikation und dann die Addition durchgeführt wird, was das Ergebnis `23` ergibt. \n",
    "</details>\n",
    "\n",
    "Einige der wichtigsten Operatoren in der Rangfolge sind:\n",
    "1. **Postfix-Operatoren** (`++`, `--`)\n",
    "2. **Präfix-Operatoren** (`++`, `--`, `+`, `-`, `!`, `~`)\n",
    "3. **Multiplikation und Division** (`*`, `/`, `%`)\n",
    "4. **Addition und Subtraktion** (`+`, `-`)\n",
    "5. **Vergleichsoperatoren** (`<`, `>`, `<=`, `>=`, `==`, `!=`)\n",
    "6. **Logische Operatoren** (`&&`, `||`)\n",
    "7. **Zuweisungsoperatoren** (`=`, `+=`, `-=`, `*=`, `/=`, `%=`, `<<=`, `>>=`, `&=`, `|=`, `^=`)\n",
    "\n",
    "Um die Rangfolge von Operatoren besser zu verstehen, ist es hilfreich, Klammern zu verwenden, um die gewünschte Reihenfolge klarzustellen, besonders in komplexen Ausdrücken. Beispielsweise würde `3 + (4 * 5)` sicherstellen, dass die Multiplikation zuerst ausgeführt wird, während `3 + 4 * 5` die Multiplikation aufgrund der Rangfolge zuerst durchführt."
   ]
  },
  {
   "cell_type": "markdown",
   "metadata": {},
   "source": [
    "← [Grundlagen zu Booleschen Operatoren](./CSharp_Boolean_Operators_Basics.de.ipynb)"
   ]
  }
 ],
 "metadata": {
  "kernelspec": {
   "display_name": ".NET (C#)",
   "language": "C#",
   "name": ".net-csharp"
  },
  "language_info": {
   "name": "python",
   "version": "3.10.5"
  },
  "polyglot_notebook": {
   "kernelInfo": {
    "defaultKernelName": "csharp",
    "items": [
     {
      "aliases": [],
      "name": "csharp"
     }
    ]
   }
  }
 },
 "nbformat": 4,
 "nbformat_minor": 2
}
