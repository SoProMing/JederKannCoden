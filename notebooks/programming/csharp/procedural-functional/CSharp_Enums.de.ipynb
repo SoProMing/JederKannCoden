{
 "cells": [
  {
   "cell_type": "markdown",
   "metadata": {},
   "source": [
    "[Jeder kann coden](../../abstract/Contents.de.ipynb) / [Programmieren & TicTacToe](../../Programming_And_TicTacToe.de.ipynb) / [C# Einführung](../CSharp_Introduction.de.ipynb)\n",
    "\n",
    "# Enums in C#\n",
    "\n",
    "<table border=\"0\">\n",
    "  <tr>\n",
    "    <td>\n",
    "        <img src=\"Enums.webp\">\n",
    "    </td>\n",
    "    <td rowspan=\"2\">\n",
    "        <a href=\"https://miro.com/app/board/o9J_lOJi2o0=/?moveToWidget=3458764554347680798&cot=14\"><img src=\"Radar_Enums.jpg\"></a>\n",
    "    </td>\n",
    "  </tr>\n",
    "  <tr>\n",
    "    <td>\n",
    "      <a href=\"https://learn.microsoft.com/en-us/dotnet/csharp/language-reference/builtin-types/enum\" target=\"_blank\">Microsoft Docs: Enum (C# Reference)</a><br>\n",
    "      <a href=\"https://learn.microsoft.com/en-us/dotnet/api/system.enum\" target=\"_blank\">System.Enum (API Documentation)</a><br>\n",
    "      <a href=\"https://www.tutorialspoint.com/csharp/csharp_enums.htm\" target=\"_blank\">TutorialsPoint: C# Enums</a><br>\n",
    "      <a href=\"https://www.geeksforgeeks.org/c-sharp-enum/\" target=\"_blank\">GeeksforGeeks: C# Enum</a><br>\n",
    "      <a href=\"https://www.c-sharpcorner.com/UploadFile/mahesh/understanding-enum-in-C-Sharp/\" target=\"_blank\">C# Corner: Understanding Enum in C#</a><br>\n",
    "      <a href=\"https://www.codeproject.com/Articles/35560/Enums-Flags-and-C\" target=\"_blank\">CodeProject: Enums, Flags and C#</a><br>\n",
    "      <a href=\"https://stackify.com/csharp-enum/\" target=\"_blank\">Stackify: Everything You Need to Know About Enums in C#</a>\n",
    "    </td>\n",
    "  </tr>\n",
    "</table>"
   ]
  },
  {
   "cell_type": "markdown",
   "metadata": {},
   "source": [
    "Enums in C# sind benannte Konstanten, die es ermöglichen, Variablen eine begrenzte Anzahl von Werten zuzuweisen. Sie verbessern die Lesbarkeit und Wartbarkeit des Codes, da sie anstelle von reinen Zahlen oder Texten verwendet werden können. Enums sind besonders nützlich, wenn eine Variable nur bestimmte Werte annehmen soll. Sie werden mit dem `enum`-Schlüsselwort definiert und haben standardmäßig `int` als zugrundeliegenden Typ, der aber auf `byte`, `sbyte`, `short`, `ushort`, `uint`, `long` oder `ulong` geändert werden kann.\n",
    "\n",
    "### Definition eines Enums\n",
    "Enums werden wie folgt definiert:"
   ]
  },
  {
   "cell_type": "code",
   "execution_count": 1,
   "metadata": {
    "dotnet_interactive": {
     "language": "csharp"
    },
    "polyglot_notebook": {
     "kernelName": "csharp"
    },
    "vscode": {
     "languageId": "polyglot-notebook"
    }
   },
   "outputs": [],
   "source": [
    "enum PollutionLevel\n",
    "{\n",
    "    Low,       // Standardmäßig 0\n",
    "    Medium,    // 1\n",
    "    High,      // 2\n",
    "    Critical   // 3\n",
    "}"
   ]
  },
  {
   "cell_type": "markdown",
   "metadata": {},
   "source": [
    "In diesem Beispiel steht `PollutionLevel` für unterschiedliche Verschmutzungsstufen. Die Werte (`Low`, `Medium`, `High`, `Critical`) werden dabei automatisch auf die Werte 0, 1, 2 und 3 abgebildet.\n",
    "\n",
    "### Verwendung eines Enums\n",
    "\n",
    "Hier ist ein Beispiel, das ein `enum` zur Überwachung der Luftverschmutzung in einem Umweltinformatik-Kontext verwendet und die Verschmutzungsstufe auf der Konsole ausgibt:\n"
   ]
  },
  {
   "cell_type": "code",
   "execution_count": 10,
   "metadata": {
    "dotnet_interactive": {
     "language": "csharp"
    },
    "polyglot_notebook": {
     "kernelName": "csharp"
    },
    "vscode": {
     "languageId": "polyglot-notebook"
    }
   },
   "outputs": [
    {
     "name": "stdout",
     "output_type": "stream",
     "text": [
      "Aktuelle Verschmutzungsstufe: High\n",
      "Die Luftqualität ist schlecht. Empfindliche Gruppen sollten Aktivitäten im Freien vermeiden.\n"
     ]
    }
   ],
   "source": [
    "using System;\n",
    "\n",
    "enum PollutionLevel\n",
    "{\n",
    "    Low = 1,\n",
    "    Medium = 2,\n",
    "    High = 3,\n",
    "    Critical = 4\n",
    "}\n",
    "\n",
    "PollutionLevel currentLevel = PollutionLevel.High;\n",
    "\n",
    "Console.WriteLine(\"Aktuelle Verschmutzungsstufe: \" + currentLevel);\n",
    "\n",
    "switch (currentLevel)\n",
    "{\n",
    "    case PollutionLevel.Low:\n",
    "        Console.WriteLine(\"Die Luftqualität ist gut.\");\n",
    "        break;\n",
    "    case PollutionLevel.Medium:\n",
    "        Console.WriteLine(\"Die Luftqualität ist akzeptabel, aber Vorsicht ist geboten.\");\n",
    "        break;\n",
    "    case PollutionLevel.High:\n",
    "        Console.WriteLine(\"Die Luftqualität ist schlecht. Empfindliche Gruppen sollten Aktivitäten im Freien vermeiden.\");\n",
    "        break;\n",
    "    case PollutionLevel.Critical:\n",
    "        Console.WriteLine(\"Kritische Luftqualität! Vermeiden Sie alle Outdoor-Aktivitäten.\");\n",
    "        break;\n",
    "    default:\n",
    "        Console.WriteLine(\"Unbekannte Verschmutzungsstufe.\");\n",
    "        break;\n",
    "}"
   ]
  },
  {
   "cell_type": "markdown",
   "metadata": {},
   "source": [
    "### Erklärung des Codes\n",
    "\n",
    "1. **Enum-Deklaration:** Wir haben ein `enum` namens `PollutionLevel` erstellt, das vier mögliche Werte enthält: `Low`, `Medium`, `High`, und `Critical`.\n",
    "   \n",
    "2. **Enum-Verwendung:** Die Variable `currentLevel` vom Typ `PollutionLevel` wird auf `PollutionLevel.High` gesetzt.\n",
    "\n",
    "3. **Ausgabe:** Mithilfe einer `switch`-Anweisung wird basierend auf der aktuellen Verschmutzungsstufe eine entsprechende Nachricht auf der Konsole ausgegeben.\n",
    "\n",
    "### Konvertierung zwischen Enum und Integer\n",
    "\n",
    "Enums lassen sich leicht in Integer und umgekehrt konvertieren, was hilfreich sein kann, wenn man beispielsweise die Werte aus einer Datenquelle liest."
   ]
  },
  {
   "cell_type": "code",
   "execution_count": 3,
   "metadata": {
    "dotnet_interactive": {
     "language": "csharp"
    },
    "polyglot_notebook": {
     "kernelName": "csharp"
    },
    "vscode": {
     "languageId": "polyglot-notebook"
    }
   },
   "outputs": [
    {
     "name": "stdout",
     "output_type": "stream",
     "text": [
      "Der numerische Wert der Verschmutzungsstufe 'Critical' ist: 4\n",
      "Die Verschmutzungsstufe mit dem numerischen Wert 2 ist: Medium\n"
     ]
    }
   ],
   "source": [
    "int levelValue = (int)PollutionLevel.Critical;\n",
    "Console.WriteLine(\"Der numerische Wert der Verschmutzungsstufe 'Critical' ist: \" + levelValue);\n",
    "\n",
    "PollutionLevel newLevel = (PollutionLevel)2;\n",
    "Console.WriteLine(\"Die Verschmutzungsstufe mit dem numerischen Wert 2 ist: \" + newLevel);"
   ]
  },
  {
   "cell_type": "markdown",
   "metadata": {},
   "source": [
    "### Beispiel im Kontext der Umweltinformatik\n",
    "\n",
    "In einem umweltbezogenen Szenario könnte ein `enum` zur Überwachung des Verschmutzungslevels verschiedener Wasserkörper verwendet werden. Das folgende Beispiel zeigt, wie die Wasserqualität mithilfe eines Enums überwacht werden könnte:"
   ]
  },
  {
   "cell_type": "code",
   "execution_count": 11,
   "metadata": {
    "dotnet_interactive": {
     "language": "csharp"
    },
    "polyglot_notebook": {
     "kernelName": "csharp"
    },
    "vscode": {
     "languageId": "polyglot-notebook"
    }
   },
   "outputs": [
    {
     "name": "stdout",
     "output_type": "stream",
     "text": [
      "Aktuelle Wasserqualität des Flusses: Poor\n",
      "Wasserqualität ist schlecht. Vorsicht beim Schwimmen oder Konsum.\n"
     ]
    }
   ],
   "source": [
    "enum WaterQuality\n",
    "{\n",
    "    Excellent,\n",
    "    Good,\n",
    "    Fair,\n",
    "    Poor,\n",
    "    Hazardous\n",
    "}\n",
    "\n",
    "WaterQuality riverQuality = WaterQuality.Poor;\n",
    "\n",
    "Console.WriteLine(\"Aktuelle Wasserqualität des Flusses: \" + riverQuality);\n",
    "\n",
    "if (riverQuality == WaterQuality.Hazardous)\n",
    "{\n",
    "    Console.WriteLine(\"Warnung: Wasser ist gefährlich! Kein Kontakt empfohlen.\");\n",
    "}\n",
    "else if (riverQuality == WaterQuality.Poor)\n",
    "{\n",
    "    Console.WriteLine(\"Wasserqualität ist schlecht. Vorsicht beim Schwimmen oder Konsum.\");\n",
    "}\n",
    "else\n",
    "{\n",
    "    Console.WriteLine(\"Wasserqualität ist akzeptabel.\");\n",
    "}"
   ]
  },
  {
   "cell_type": "markdown",
   "metadata": {},
   "source": [
    "In diesem Beispiel wird die Wasserqualität eines Flusses überwacht, und je nach Qualitätsstufe werden Warnungen auf der Konsole ausgegeben."
   ]
  },
  {
   "cell_type": "markdown",
   "metadata": {},
   "source": [
    "## Vertiefung\n",
    "\n",
    "Zusätzlich zu den Grundlagen und Anwendungsbeispielen gibt es einige weiterführende Aspekte zu Enums in C#, die ihre Nützlichkeit und Flexibilität hervorheben:\n",
    "\n",
    "### Erweiterte Verwendungsmöglichkeiten\n",
    "\n",
    "1. **Enum-Werte benennen:**\n",
    "   Enum-Werte können auch explizit numerische Werte zugewiesen bekommen. Dies ist nützlich, wenn man spezifische Werte oder Standards abbilden möchte."
   ]
  },
  {
   "cell_type": "code",
   "execution_count": 5,
   "metadata": {
    "dotnet_interactive": {
     "language": "csharp"
    },
    "polyglot_notebook": {
     "kernelName": "csharp"
    },
    "vscode": {
     "languageId": "polyglot-notebook"
    }
   },
   "outputs": [],
   "source": [
    "   enum PollutionLevel\n",
    "   {\n",
    "       Low = 10,\n",
    "       Medium = 20,\n",
    "       High = 30,\n",
    "       Critical = 40\n",
    "   }"
   ]
  },
  {
   "cell_type": "markdown",
   "metadata": {},
   "source": [
    "   Damit können die Werte mit anderen Systemen oder Datenbanken korreliert werden, die spezifische numerische Werte erwarten.\n",
    "\n",
    "2. **Flags für Bitfelder:**\n",
    "   Mit dem `[Flags]`-Attribut kann ein Enum als Bitfeld verwendet werden. Dies erlaubt die Kombination von Enum-Werten mit bitweisen Operationen."
   ]
  },
  {
   "cell_type": "code",
   "execution_count": 6,
   "metadata": {
    "dotnet_interactive": {
     "language": "csharp"
    },
    "polyglot_notebook": {
     "kernelName": "csharp"
    },
    "vscode": {
     "languageId": "polyglot-notebook"
    }
   },
   "outputs": [
    {
     "name": "stdout",
     "output_type": "stream",
     "text": [
      "Aktuelle Verschmutzungsquellen: Vehicles, Factories\n",
      "Fahrzeuge tragen zur Verschmutzung bei.\n"
     ]
    }
   ],
   "source": [
    "    [Flags]\n",
    "    enum PollutionSources\n",
    "    {\n",
    "        None = 0,\n",
    "        Vehicles = 1,\n",
    "        Factories = 2,\n",
    "        Agriculture = 4,\n",
    "        NaturalDisasters = 8\n",
    "    }\n",
    "\n",
    "    PollutionSources currentSources = PollutionSources.Vehicles | PollutionSources.Factories;\n",
    "    Console.WriteLine(\"Aktuelle Verschmutzungsquellen: \" + currentSources);\n",
    "\n",
    "    // Überprüfen, ob Fahrzeuge eine Quelle sind\n",
    "    if (currentSources.HasFlag(PollutionSources.Vehicles))\n",
    "    {\n",
    "        Console.WriteLine(\"Fahrzeuge tragen zur Verschmutzung bei.\");\n",
    "    }"
   ]
  },
  {
   "cell_type": "markdown",
   "metadata": {},
   "source": [
    "   **Einsatz in der Umweltinformatik:** Ein solches Enum könnte verwendet werden, um die Verschmutzungsquellen in einem Gebiet zu kategorisieren und zu analysieren.\n",
    "\n",
    "3. **Enum als Typ-Sicherheit:**\n",
    "   Enums verhindern die unbeabsichtigte Zuweisung ungültiger Werte, was besonders in größeren Codebasen hilfreich ist. Ein Enum-Wert ist strikt auf die definierten Werte beschränkt, was Fehler reduziert.\n",
    "\n",
    "4. **String-Representation:**\n",
    "   Enum-Werte können in Zeichenfolgen umgewandelt werden, um sie benutzerfreundlich darzustellen, oder umgekehrt, Zeichenfolgen in Enum-Werte zu konvertieren."
   ]
  },
  {
   "cell_type": "code",
   "execution_count": 7,
   "metadata": {
    "dotnet_interactive": {
     "language": "csharp"
    },
    "polyglot_notebook": {
     "kernelName": "csharp"
    },
    "vscode": {
     "languageId": "polyglot-notebook"
    }
   },
   "outputs": [
    {
     "name": "stdout",
     "output_type": "stream",
     "text": [
      "Verschmutzungslevel als String: High\n",
      "Geparstes Level: Critical\n"
     ]
    }
   ],
   "source": [
    "   string levelName = PollutionLevel.High.ToString();\n",
    "   Console.WriteLine(\"Verschmutzungslevel als String: \" + levelName);\n",
    "\n",
    "   PollutionLevel parsedLevel;\n",
    "   if (Enum.TryParse(\"Critical\", out parsedLevel))\n",
    "   {\n",
    "       Console.WriteLine(\"Geparstes Level: \" + parsedLevel);\n",
    "   }"
   ]
  },
  {
   "cell_type": "markdown",
   "metadata": {},
   "source": [
    "5. **Enum-Werte iterieren:**\n",
    "   Es ist möglich, alle Werte eines Enums zu durchlaufen, um sie beispielsweise in einer Benutzerschnittstelle anzuzeigen."
   ]
  },
  {
   "cell_type": "code",
   "execution_count": 8,
   "metadata": {
    "dotnet_interactive": {
     "language": "csharp"
    },
    "polyglot_notebook": {
     "kernelName": "csharp"
    },
    "vscode": {
     "languageId": "polyglot-notebook"
    }
   },
   "outputs": [
    {
     "name": "stdout",
     "output_type": "stream",
     "text": [
      "Verschmutzungslevel: Low\n",
      "Verschmutzungslevel: Medium\n",
      "Verschmutzungslevel: High\n",
      "Verschmutzungslevel: Critical\n"
     ]
    }
   ],
   "source": [
    "   foreach (var level in Enum.GetValues(typeof(PollutionLevel)))\n",
    "   {\n",
    "       Console.WriteLine(\"Verschmutzungslevel: \" + level);\n",
    "   }"
   ]
  },
  {
   "cell_type": "markdown",
   "metadata": {},
   "source": [
    "6. **Anpassung der Darstellung:**\n",
    "   Enums können mit Attributen erweitert werden, um benutzerfreundliche Beschriftungen oder zusätzliche Informationen hinzuzufügen."
   ]
  },
  {
   "cell_type": "code",
   "execution_count": 9,
   "metadata": {
    "dotnet_interactive": {
     "language": "csharp"
    },
    "polyglot_notebook": {
     "kernelName": "csharp"
    },
    "vscode": {
     "languageId": "polyglot-notebook"
    }
   },
   "outputs": [
    {
     "name": "stdout",
     "output_type": "stream",
     "text": [
      "Beschreibung: Hoch\n"
     ]
    }
   ],
   "source": [
    "    using System.ComponentModel;\n",
    "\n",
    "    enum PollutionLevel\n",
    "    {\n",
    "        [Description(\"Niedrig\")]\n",
    "        Low,\n",
    "        [Description(\"Mittel\")]\n",
    "        Medium,\n",
    "        [Description(\"Hoch\")]\n",
    "        High,\n",
    "        [Description(\"Kritisch\")]\n",
    "        Critical\n",
    "    }\n",
    "\n",
    "    static string GetDescription(Enum value)\n",
    "    {\n",
    "        var field = value.GetType().GetField(value.ToString());\n",
    "        var attribute = (DescriptionAttribute)Attribute.GetCustomAttribute(field, typeof(DescriptionAttribute));\n",
    "        return attribute == null ? value.ToString() : attribute.Description;\n",
    "    }\n",
    "\n",
    "    Console.WriteLine(\"Beschreibung: \" + GetDescription(PollutionLevel.High));\n"
   ]
  },
  {
   "cell_type": "markdown",
   "metadata": {},
   "source": [
    "### Grenzen und Überlegungen\n",
    "\n",
    "1. **Keine dynamischen Werte:** Enum-Werte müssen zur Kompilierzeit bekannt sein. Sie können nicht dynamisch zur Laufzeit geändert werden. Wenn Flexibilität erforderlich ist, sind andere Ansätze wie Klassen oder Dictionaries sinnvoller.\n",
    "\n",
    "2. **Kein direktes Mapping von Enum zu Text oder Datenbankwerten:** Für eine konsistente Zuordnung kann eine zusätzliche Abbildungsebene (z. B. Dictionary) oder die Nutzung von Attributen (wie oben gezeigt) notwendig sein.\n",
    "\n",
    "### Fazit\n",
    "\n",
    "Enums in C# bieten eine klare und sichere Möglichkeit, feste Werte in Programmen darzustellen. Sie verbessern die Lesbarkeit und Wartbarkeit des Codes, da sie aussagekräftige Namen anstelle von magischen Zahlen oder Strings verwenden. Mit erweiterten Techniken wie Flags, String-Konvertierung und Attributen können Enums flexibel und leistungsstark in vielen Szenarien, einschließlich der Umweltinformatik, eingesetzt werden."
   ]
  }
 ],
 "metadata": {
  "kernelspec": {
   "display_name": ".NET (C#)",
   "language": "C#",
   "name": ".net-csharp"
  },
  "language_info": {
   "name": "python"
  },
  "polyglot_notebook": {
   "kernelInfo": {
    "defaultKernelName": "csharp",
    "items": [
     {
      "aliases": [],
      "name": "csharp"
     }
    ]
   }
  }
 },
 "nbformat": 4,
 "nbformat_minor": 2
}
