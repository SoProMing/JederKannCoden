{
 "cells": [
  {
   "cell_type": "markdown",
   "metadata": {},
   "source": [
    "\n",
    "# Bedingte Anweisungen in C#\n",
    "\n",
    "<table border=\"0\">\n",
    "  <tr>\n",
    "    <td>\n",
    "        <img src=\"conditional.webp\" style=\"width:280px; height:280px;\">\n",
    "    </td>\n",
    "    <td rowspan=\"2\">\n",
    "        <img src=\"Radar_Conditions.de.jpg\" style=\"width:480px;\"\n",
    "    </td>\n",
    "  </tr>\n",
    "  <tr>\n",
    "    <td>\n",
    "      <a href=\"https://learn.microsoft.com/de-de/dotnet/csharp/language-reference/statements/selection-statements\">Link zur Microsoft Dokumentation (Quelle)</a><br>\n",
    "      <a href=\"CSharp_Boolean_Operators_Basics.de.ipynb\">Link zu Booleschen Operatoren</a><br>\n",
    "      <a href=\"CSharp_Conditional_TicTacToe.de.ipynb\">Link zu bedingten Anweisungen & TictTacToe</a><br>\n",
    "      <a href=\"https://miro.com/app/board/o9J_lOJi2o0=/?moveToWidget=3458764554345659184&cot=14\">Link zum roten Faden auf Miro</a><br>\n",
    "      <a href=\"https://www.w3schools.com/cs/cs_conditions.php\">Link zu Tutorial auf w3schools (if, else)</a><br>\n",
    "      <a href=\"https://www.w3schools.com/cs/cs_switch.php\">Link zu Tutorial auf w3schools (switch, case)</a>\n",
    "    </td>\n",
    "  </tr>\n",
    "</table>"
   ]
  },
  {
   "cell_type": "markdown",
   "metadata": {},
   "source": [
    "\n",
    "In C# gibt es verschiedene Auswahlanweisungen, die es dem Programm ermöglichen, basierend auf einer Bedingung oder einem Wert verschiedene Wege einzuschlagen. Die wichtigsten Auswahlanweisungen sind:\n",
    "\n",
    "- `if`\n",
    "- `else`\n",
    "- `else if`\n",
    "- `switch`\n",
    "- `case`\n",
    "\n",
    "#### **`if`-Anweisung**\n",
    "\n",
    "Die `if`-Anweisung führt einen Codeblock aus, wenn eine Bedingung `true` ist. Der allgemeine Aufbau sieht folgendermaßen aus:"
   ]
  },
  {
   "cell_type": "code",
   "execution_count": 1,
   "metadata": {
    "dotnet_interactive": {
     "language": "csharp"
    },
    "polyglot_notebook": {
     "kernelName": "csharp"
    },
    "vscode": {
     "languageId": "polyglot-notebook"
    }
   },
   "outputs": [
    {
     "name": "stdout",
     "output_type": "stream",
     "text": [
      "Die Zahl ist positiv.\n"
     ]
    }
   ],
   "source": [
    "int number = 5;\n",
    "if (number > 0)\n",
    "{\n",
    "    Console.WriteLine(\"Die Zahl ist positiv.\");\n",
    "}"
   ]
  },
  {
   "cell_type": "markdown",
   "metadata": {},
   "source": [
    "In diesem Beispiel wird die Nachricht „Die Zahl ist positiv.“ nur dann ausgegeben, wenn `number` größer als 0 ist.\n",
    "\n",
    "#### **`else`-Anweisung**\n",
    "\n",
    "Die `else`-Anweisung wird verwendet, um einen alternativen Codeblock auszuführen, wenn die Bedingung in der `if`-Anweisung `false` ist:"
   ]
  },
  {
   "cell_type": "code",
   "execution_count": 1,
   "metadata": {
    "dotnet_interactive": {
     "language": "csharp"
    },
    "polyglot_notebook": {
     "kernelName": "csharp"
    },
    "vscode": {
     "languageId": "polyglot-notebook"
    }
   },
   "outputs": [
    {
     "name": "stdout",
     "output_type": "stream",
     "text": [
      "Die Zahl ist nicht positiv.\n"
     ]
    }
   ],
   "source": [
    "int number = -5;\n",
    "if (number > 0)\n",
    "{\n",
    "    Console.WriteLine(\"Die Zahl ist positiv.\");\n",
    "}\n",
    "else\n",
    "{\n",
    "    Console.WriteLine(\"Die Zahl ist nicht positiv.\");\n",
    "}"
   ]
  },
  {
   "cell_type": "markdown",
   "metadata": {},
   "source": [
    "Hier wird „Die Zahl ist nicht positiv.“ ausgegeben, weil `number` negativ ist.\n",
    "\n",
    "#### **`else if`-Anweisung**\n",
    "\n",
    "Mit der `else if`-Anweisung kannst du mehrere Bedingungen hintereinander überprüfen:"
   ]
  },
  {
   "cell_type": "code",
   "execution_count": 2,
   "metadata": {
    "dotnet_interactive": {
     "language": "csharp"
    },
    "polyglot_notebook": {
     "kernelName": "csharp"
    },
    "vscode": {
     "languageId": "polyglot-notebook"
    }
   },
   "outputs": [
    {
     "name": "stdout",
     "output_type": "stream",
     "text": [
      "Die Zahl ist null.\n"
     ]
    }
   ],
   "source": [
    "int number = 0;\n",
    "if (number > 0)\n",
    "{\n",
    "    Console.WriteLine(\"Die Zahl ist positiv.\");\n",
    "}\n",
    "else if (number < 0)\n",
    "{\n",
    "    Console.WriteLine(\"Die Zahl ist negativ.\");\n",
    "}\n",
    "else\n",
    "{\n",
    "    Console.WriteLine(\"Die Zahl ist null.\");\n",
    "}"
   ]
  },
  {
   "cell_type": "markdown",
   "metadata": {},
   "source": [
    "In diesem Fall wird „Die Zahl ist null.“ ausgegeben.\n",
    "\n",
    "#### **`switch`-Anweisung**\n",
    "\n",
    "Die `switch`-Anweisung ermöglicht eine Auswahl basierend auf dem Wert einer Variablen. Jeder mögliche Wert wird in einem `case`-Zweig definiert:"
   ]
  },
  {
   "cell_type": "code",
   "execution_count": 3,
   "metadata": {
    "dotnet_interactive": {
     "language": "csharp"
    },
    "polyglot_notebook": {
     "kernelName": "csharp"
    },
    "vscode": {
     "languageId": "polyglot-notebook"
    }
   },
   "outputs": [
    {
     "name": "stdout",
     "output_type": "stream",
     "text": [
      "Mittwoch\n"
     ]
    }
   ],
   "source": [
    "int day = 3;\n",
    "switch (day)\n",
    "{\n",
    "    case 1:\n",
    "        Console.WriteLine(\"Montag\");\n",
    "        break;\n",
    "    case 2:\n",
    "        Console.WriteLine(\"Dienstag\");\n",
    "        break;\n",
    "    case 3:\n",
    "        Console.WriteLine(\"Mittwoch\");\n",
    "        break;\n",
    "    default:\n",
    "        Console.WriteLine(\"Ungültiger Tag\");\n",
    "        break;\n",
    "}"
   ]
  },
  {
   "cell_type": "markdown",
   "metadata": {},
   "source": [
    "Hier wird „Mittwoch“ ausgegeben, da `day` den Wert 3 hat.\n",
    "\n",
    "#### **`case`-Anweisung**\n",
    "\n",
    "Jeder `case`-Zweig innerhalb eines `switch`-Blocks wird ausgeführt, wenn der Wert mit dem `switch`-Argument übereinstimmt. Der `default`-Zweig wird ausgeführt, wenn keiner der definierten `case`-Zweige zutrifft.\n",
    "\n",
    "##### Tabelle: Syntax der `switch`-Anweisung\n",
    "\n",
    "| Element         | Beschreibung                                                                 |\n",
    "|-----------------|-------------------------------------------------------------------------------|\n",
    "| `switch`        | Leitet eine Auswahlanweisung basierend auf dem Wert einer Variablen ein.      |\n",
    "| `case`          | Definiert einen Zweig, der ausgeführt wird, wenn der Wert mit dem `switch`-Argument übereinstimmt. |\n",
    "| `default`       | Wird ausgeführt, wenn keiner der `case`-Zweige zutrifft.                     |\n",
    "| `break`         | Beendet die Ausführung des aktuellen Zweigs und verlässt den `switch`-Block.  |\n",
    "\n",
    "#### **`switch` mit Musterabgleich**\n",
    "\n",
    "Ab C# 7.0 kannst du in der `switch`-Anweisung auch Muster verwenden, um flexiblere Bedingungen zu erstellen:"
   ]
  },
  {
   "cell_type": "code",
   "execution_count": 4,
   "metadata": {
    "dotnet_interactive": {
     "language": "csharp"
    },
    "polyglot_notebook": {
     "kernelName": "csharp"
    },
    "vscode": {
     "languageId": "polyglot-notebook"
    }
   },
   "outputs": [
    {
     "name": "stdout",
     "output_type": "stream",
     "text": [
      "Positive ganze Zahl\n"
     ]
    }
   ],
   "source": [
    "object obj = 10;\n",
    "switch (obj)\n",
    "{\n",
    "    case int i when i > 0:\n",
    "        Console.WriteLine(\"Positive ganze Zahl\");\n",
    "        break;\n",
    "    case int i when i < 0:\n",
    "        Console.WriteLine(\"Negative ganze Zahl\");\n",
    "        break;\n",
    "    default:\n",
    "        Console.WriteLine(\"Unbekannter Typ oder null\");\n",
    "        break;\n",
    "}"
   ]
  },
  {
   "cell_type": "markdown",
   "metadata": {},
   "source": [
    "In diesem Fall wird „Positive ganze Zahl“ ausgegeben.\n",
    "\n",
    "#### **`switch`-Ausdruck**\n",
    "\n",
    "Der `switch`-Ausdruck ist eine kompakte Alternative zur herkömmlichen `switch`-Anweisung. Er wurde in C# 8.0 eingeführt:"
   ]
  },
  {
   "cell_type": "code",
   "execution_count": 5,
   "metadata": {
    "dotnet_interactive": {
     "language": "csharp"
    },
    "polyglot_notebook": {
     "kernelName": "csharp"
    },
    "vscode": {
     "languageId": "polyglot-notebook"
    }
   },
   "outputs": [
    {
     "name": "stdout",
     "output_type": "stream",
     "text": [
      "Dienstag\n"
     ]
    }
   ],
   "source": [
    "int number = 2;\n",
    "string day = number switch\n",
    "{\n",
    "    1 => \"Montag\",\n",
    "    2 => \"Dienstag\",\n",
    "    3 => \"Mittwoch\",\n",
    "    _ => \"Ungültiger Tag\"\n",
    "};\n",
    "Console.WriteLine(day);"
   ]
  },
  {
   "cell_type": "markdown",
   "metadata": {},
   "source": [
    "Hier gibt der `switch`-Ausdruck „Dienstag“ zurück, da `number` den Wert 2 hat."
   ]
  },
  {
   "cell_type": "markdown",
   "metadata": {},
   "source": [
    "[Bedingte Anweisungen & TicTacToe](./CSharp_Conditional_TicTacToe.de.ipynb) →\n",
    "\n",
    "← [Grundlagen zu Schleifen in C#](../CSharp_Introduction.de.ipynb#Schleifen)"
   ]
  }
 ],
 "metadata": {
  "kernelspec": {
   "display_name": ".NET (C#)",
   "language": "C#",
   "name": ".net-csharp"
  },
  "language_info": {
   "name": "python"
  },
  "polyglot_notebook": {
   "kernelInfo": {
    "defaultKernelName": "csharp",
    "items": [
     {
      "aliases": [],
      "name": "csharp"
     }
    ]
   }
  }
 },
 "nbformat": 4,
 "nbformat_minor": 2
}
