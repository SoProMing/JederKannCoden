{
 "cells": [
  {
   "cell_type": "markdown",
   "metadata": {},
   "source": [
    "# Schleifen in C#\n",
    "\n",
    "<table border=\"0\">\n",
    "  <tr>\n",
    "    <td>\n",
    "        <img src=\"loops.webp\" style=\"width:280px; height:280px;\">\n",
    "    </td>\n",
    "    <td rowspan=\"2\">\n",
    "        <img src=\"Radar_Loops.de.jpg\" style=\"width:480px;\"\n",
    "    </td>\n",
    "  </tr>\n",
    "  <tr>\n",
    "    <td>\n",
    "      <a href=\"https://learn.microsoft.com/de-de/dotnet/csharp/language-reference/statements/iteration-statements\">Link zur Microsoft Dokumentation</a><br>\n",
    "      <a href=\"CSharp_Loops_TicTacToe.de.ipynb\">Link zu Schleifen und TicTacToe</a><br>\n",
    "      <a href=\"https://miro.com/app/board/o9J_lOJi2o0=/?moveToWidget=3458764554345659185&cot=14\">Link zum roten Faden auf Miro</a><br>\n",
    "      <a href=\"https://www.w3schools.com/cs/cs_while_loop.php\">Link zu Tutorial auf w3schools (while)</a><br>\n",
    "      <a href=\"https://www.w3schools.com/cs/cs_for_loop.php\">Link zu Tutorial auf w3schools (for)</a><br>\n",
    "      <a href=\"https://www.w3schools.com/cs/cs_break.php\">Link zu Tutorial auf w3schools (continue, break)</a>\n",
    "    </td>\n",
    "  </tr>\n",
    "</table>"
   ]
  },
  {
   "cell_type": "markdown",
   "metadata": {},
   "source": [
    "\n",
    "## For-Schleife\n",
    "Die `for`-Schleife wird verwendet, wenn die Anzahl der Iterationen bekannt ist. Sie besteht aus einer Initialisierung, einer Bedingung und einem Iterator.\n",
    "\n",
    "**Syntax:**\n",
    "```csharp\n",
    "for (initialisierung; bedingung; iterator)\n",
    "{\n",
    "    // Anweisungen\n",
    "}\n",
    "```\n",
    "\n",
    "**Beispiel:**"
   ]
  },
  {
   "cell_type": "code",
   "execution_count": null,
   "metadata": {
    "dotnet_interactive": {
     "language": "csharp"
    },
    "polyglot_notebook": {
     "kernelName": "csharp"
    },
    "vscode": {
     "languageId": "polyglot-notebook"
    }
   },
   "outputs": [],
   "source": [
    "for (int i = 0; i < 5; i++)\n",
    "{\n",
    "    Console.WriteLine($\"Iteration {i}\");\n",
    "}"
   ]
  },
  {
   "cell_type": "markdown",
   "metadata": {},
   "source": [
    "## While-Schleife\n",
    "Die `while`-Schleife führt eine Anweisung oder einen Block aus, solange die Bedingung `true` ist.\n",
    "\n",
    "**Syntax:**\n",
    "```csharp\n",
    "while (bedingung)\n",
    "{\n",
    "    // Anweisungen\n",
    "}\n",
    "```\n",
    "\n",
    "**Beispiel:**"
   ]
  },
  {
   "cell_type": "code",
   "execution_count": null,
   "metadata": {
    "dotnet_interactive": {
     "language": "csharp"
    },
    "polyglot_notebook": {
     "kernelName": "csharp"
    },
    "vscode": {
     "languageId": "polyglot-notebook"
    }
   },
   "outputs": [],
   "source": [
    "int i = 0;\n",
    "while (i < 5)\n",
    "{\n",
    "    Console.WriteLine($\"Iteration {i}\");\n",
    "    i++;\n",
    "}"
   ]
  },
  {
   "cell_type": "markdown",
   "metadata": {},
   "source": [
    "## Do-While-Schleife\n",
    "Die `do-while`-Schleife ist ähnlich wie die `while`-Schleife, aber die Bedingung wird erst nach der ersten Ausführung geprüft, wodurch die Schleife mindestens einmal durchläuft.\n",
    "\n",
    "**Syntax:**\n",
    "```csharp\n",
    "do\n",
    "{\n",
    "    // Anweisungen\n",
    "} while (bedingung);\n",
    "```\n",
    "\n",
    "**Beispiel:**"
   ]
  },
  {
   "cell_type": "code",
   "execution_count": null,
   "metadata": {
    "dotnet_interactive": {
     "language": "csharp"
    },
    "polyglot_notebook": {
     "kernelName": "csharp"
    },
    "vscode": {
     "languageId": "polyglot-notebook"
    }
   },
   "outputs": [],
   "source": [
    "int i = 0;\n",
    "do\n",
    "{\n",
    "    Console.WriteLine($\"Iteration {i}\");\n",
    "    i++;\n",
    "} while (i < 5);"
   ]
  },
  {
   "cell_type": "markdown",
   "metadata": {},
   "source": [
    "## Foreach-Schleife\n",
    "Die `foreach`-Schleife wird verwendet, um durch eine Sammlung wie Arrays oder Listen zu iterieren.\n",
    "\n",
    "**Syntax:**\n",
    "```csharp\n",
    "foreach (var item in sammlung)\n",
    "{\n",
    "    // Anweisungen\n",
    "}\n",
    "```\n",
    "\n",
    "**Beispiel:**"
   ]
  },
  {
   "cell_type": "code",
   "execution_count": null,
   "metadata": {
    "dotnet_interactive": {
     "language": "csharp"
    },
    "polyglot_notebook": {
     "kernelName": "csharp"
    },
    "vscode": {
     "languageId": "polyglot-notebook"
    }
   },
   "outputs": [],
   "source": [
    "string[] namen = { \"Alice\", \"Bob\", \"Charlie\" };\n",
    "foreach (string name in namen)\n",
    "{\n",
    "    Console.WriteLine(name);\n",
    "}"
   ]
  },
  {
   "cell_type": "markdown",
   "metadata": {},
   "source": [
    "## Break und Continue\n",
    "Die `break`-Anweisung beendet die Schleife vorzeitig, während `continue` die aktuelle Iteration überspringt und mit der nächsten fortfährt.\n",
    "\n",
    "**Beispiel für `break`:**"
   ]
  },
  {
   "cell_type": "code",
   "execution_count": null,
   "metadata": {
    "dotnet_interactive": {
     "language": "csharp"
    },
    "polyglot_notebook": {
     "kernelName": "csharp"
    },
    "vscode": {
     "languageId": "polyglot-notebook"
    }
   },
   "outputs": [],
   "source": [
    "for (int i = 0; i < 10; i++)\n",
    "{\n",
    "    if (i == 5)\n",
    "        break;\n",
    "    Console.WriteLine(i);\n",
    "}"
   ]
  },
  {
   "cell_type": "markdown",
   "metadata": {},
   "source": [
    "**Beispiel für `continue`:**"
   ]
  },
  {
   "cell_type": "code",
   "execution_count": null,
   "metadata": {
    "dotnet_interactive": {
     "language": "csharp"
    },
    "polyglot_notebook": {
     "kernelName": "csharp"
    },
    "vscode": {
     "languageId": "polyglot-notebook"
    }
   },
   "outputs": [],
   "source": [
    "for (int i = 0; i < 10; i++)\n",
    "{\n",
    "    if (i == 5)\n",
    "        continue;\n",
    "    Console.WriteLine(i);\n",
    "}"
   ]
  },
  {
   "cell_type": "markdown",
   "metadata": {},
   "source": [
    "## Zusammenfassung der Schleifenarten in einer Tabelle:\n",
    "\n",
    "| Schleifenart     | Verwendung                          | Besonderheiten |\n",
    "|------------------|-------------------------------------|----------------|\n",
    "| `for`            | Bekannte Anzahl an Iterationen      | Initialisierung, Bedingung und Iterator in einer Zeile |\n",
    "| `while`          | Schleife läuft, solange Bedingung true ist | Bedingung wird vor dem ersten Durchlauf geprüft |\n",
    "| `do-while`       | Mindestens ein Schleifendurchlauf   | Bedingung wird nach dem ersten Durchlauf geprüft |\n",
    "| `foreach`        | Iteration über Sammlungen           | Wird für Arrays, Listen und andere Enumerables verwendet |\n",
    "| `break`          | Beendet die Schleife                | Kann in allen Schleifenarten verwendet werden |\n",
    "| `continue`       | Überspringt die aktuelle Iteration  | Kann in allen Schleifenarten verwendet werden |\n",
    "\n",
    "## Iteration durch arrays\n",
    "\n",
    "### Eindimensionales Array mit Schleifen durchlaufen\n",
    "\n",
    "Ein eindimensionales Array kann mithilfe einer einfachen `for`- oder `foreach`-Schleife durchlaufen werden.\n",
    "\n",
    "**Beispiel mit `for`-Schleife:**"
   ]
  },
  {
   "cell_type": "code",
   "execution_count": null,
   "metadata": {
    "dotnet_interactive": {
     "language": "csharp"
    },
    "polyglot_notebook": {
     "kernelName": "csharp"
    },
    "vscode": {
     "languageId": "polyglot-notebook"
    }
   },
   "outputs": [],
   "source": [
    "int[] zahlen = { 1, 2, 3, 4, 5 };\n",
    "for (int i = 0; i < zahlen.Length; i++)\n",
    "{\n",
    "    Console.WriteLine(zahlen[i]);\n",
    "}"
   ]
  },
  {
   "cell_type": "markdown",
   "metadata": {},
   "source": [
    "**Beispiel mit `foreach`-Schleife:**"
   ]
  },
  {
   "cell_type": "code",
   "execution_count": null,
   "metadata": {
    "dotnet_interactive": {
     "language": "csharp"
    },
    "polyglot_notebook": {
     "kernelName": "csharp"
    },
    "vscode": {
     "languageId": "polyglot-notebook"
    }
   },
   "outputs": [],
   "source": [
    "int[] zahlen = { 1, 2, 3, 4, 5 };\n",
    "foreach (int zahl in zahlen)\n",
    "{\n",
    "    Console.WriteLine(zahl);\n",
    "}"
   ]
  },
  {
   "cell_type": "markdown",
   "metadata": {},
   "source": [
    "### Zweidimensionales Array mit Schleifen durchlaufen\n",
    "\n",
    "Ein zweidimensionales Array wird oft als Tabelle dargestellt, mit Zeilen und Spalten. Um ein zweidimensionales Array zu durchlaufen, verwendet man eine verschachtelte Schleife.\n",
    "\n",
    "**Beispiel:**"
   ]
  },
  {
   "cell_type": "code",
   "execution_count": null,
   "metadata": {
    "dotnet_interactive": {
     "language": "csharp"
    },
    "polyglot_notebook": {
     "kernelName": "csharp"
    },
    "vscode": {
     "languageId": "polyglot-notebook"
    }
   },
   "outputs": [],
   "source": [
    "int[,] matrix = { \n",
    "    { 1, 2, 3 }, \n",
    "    { 4, 5, 6 }, \n",
    "    { 7, 8, 9 } \n",
    "};\n",
    "\n",
    "for (int i = 0; i < matrix.GetLength(0); i++) // Zeilen\n",
    "{\n",
    "    for (int j = 0; j < matrix.GetLength(1); j++) // Spalten\n",
    "    {\n",
    "        Console.Write(matrix[i, j] + \" \");\n",
    "    }\n",
    "    Console.WriteLine(); // Neue Zeile nach jeder Zeile der Matrix\n",
    "}"
   ]
  },
  {
   "cell_type": "markdown",
   "metadata": {},
   "source": [
    "### Verschachtelte Arrays (Jagged Arrays) mit Schleifen durchlaufen\n",
    "\n",
    "Verschachtelte Arrays (auch als \"verzweigte Arrays\" bezeichnet) bestehen aus Arrays von Arrays. Sie sind nützlich, wenn die Zeilen unterschiedliche Längen haben können.\n",
    "\n",
    "**Beispiel:**"
   ]
  },
  {
   "cell_type": "code",
   "execution_count": null,
   "metadata": {
    "dotnet_interactive": {
     "language": "csharp"
    },
    "polyglot_notebook": {
     "kernelName": "csharp"
    },
    "vscode": {
     "languageId": "polyglot-notebook"
    }
   },
   "outputs": [],
   "source": [
    "int[][] jaggedArray = new int[][]\n",
    "{\n",
    "    new int[] { 1, 2 },\n",
    "    new int[] { 3, 4, 5 },\n",
    "    new int[] { 6 }\n",
    "};\n",
    "\n",
    "for (int i = 0; i < jaggedArray.Length; i++)\n",
    "{\n",
    "    for (int j = 0; j < jaggedArray[i].Length; j++)\n",
    "    {\n",
    "        Console.Write(jaggedArray[i][j] + \" \");\n",
    "    }\n",
    "    Console.WriteLine(); // Neue Zeile nach jeder Reihe des verschachtelten Arrays\n",
    "}"
   ]
  },
  {
   "cell_type": "markdown",
   "metadata": {},
   "source": [
    "### Zusammenfassung in einer Tabelle:\n",
    "\n",
    "| Array-Typ                  | Beispiel für Iteration                                  |\n",
    "|----------------------------|---------------------------------------------------------|\n",
    "| Eindimensionales Array      | `for` oder `foreach` zum Durchlaufen der Elemente       |\n",
    "| Zweidimensionales Array     | Verschachtelte `for`-Schleifen für Zeilen und Spalten   |\n",
    "| Verschachteltes (Jagged) Array | Verschachtelte `for`-Schleifen für Arrays unterschiedlicher Länge |\n",
    "\n",
    "Diese Beispiele zeigen, wie verschiedene Arten von Arrays mit Schleifen durchlaufen werden können. Sie sind ein wichtiger Bestandteil bei der Verarbeitung von Datenstrukturen in C#."
   ]
  },
  {
   "cell_type": "markdown",
   "metadata": {},
   "source": [
    "← [Grundlagen zu Schleifen in C#](../CSharp_Introduction.de.ipynb#Schleifen)"
   ]
  }
 ],
 "metadata": {
  "kernelspec": {
   "display_name": ".NET (C#)",
   "language": "C#",
   "name": ".net-csharp"
  },
  "language_info": {
   "name": "python"
  },
  "polyglot_notebook": {
   "kernelInfo": {
    "defaultKernelName": "csharp",
    "items": [
     {
      "aliases": [],
      "name": "csharp"
     }
    ]
   }
  }
 },
 "nbformat": 4,
 "nbformat_minor": 2
}
