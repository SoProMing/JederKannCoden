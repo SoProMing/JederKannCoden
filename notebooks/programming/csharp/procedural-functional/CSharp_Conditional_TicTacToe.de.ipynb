{
 "cells": [
  {
   "cell_type": "markdown",
   "metadata": {},
   "source": [
    "\n",
    "# Bedingte Anweisungen & TicTacToe\n",
    "\n",
    "<table border=\"0\">\n",
    "  <tr>\n",
    "    <td>\n",
    "        <img src=\"conditional.webp\">\n",
    "    </td>\n",
    "    <td rowspan=\"2\">\n",
    "        <a href=\"https://miro.com/app/board/o9J_lOJi2o0=/?moveToWidget=3458764554347680798&cot=14\"><img src=\"Radar_Conditions.de.jpg\"></a>\n",
    "    </td>\n",
    "  </tr>\n",
    "  <tr>\n",
    "    <td>\n",
    "      <a href=\"https://learn.microsoft.com/de-de/dotnet/csharp/language-reference/statements/selection-statements\">Link zur Microsoft Dokumentation (Quelle)</a><br>\n",
    "      <a href=\"CSharp_Boolean_Operators_Basics.de.ipynb\">Link zu Booleschen Operatoren</a><br>\n",
    "      <a href=\"CSharp_Conditional.de.ipynb\">Link zu bedingten Anweisungen</a><br>\n",
    "      <a href=\"https://miro.com/app/board/o9J_lOJi2o0=/?moveToWidget=3458764554345659184&cot=14\">Link zum roten Faden auf Miro</a><br>\n",
    "      <a href=\"https://www.w3schools.com/cs/cs_conditions.php\">Link zu Tutorial auf w3schools (if, else)</a><br>\n",
    "      <a href=\"https://www.w3schools.com/cs/cs_switch.php\">Link zu Tutorial auf w3schools (switch, case)</a>\n",
    "    </td>\n",
    "  </tr>\n",
    "</table>"
   ]
  },
  {
   "cell_type": "markdown",
   "metadata": {},
   "source": [
    "## Vorbereitung: Spielbrett definieren\n",
    "Wir definieren das 3x3-Spielfeld statisch, damit wir keine Schleifen verwenden müssen. Das Spielfeld besteht aus `char`-Werten, die entweder ein leeres Feld oder ein Zeichen für den Spieler ('X' oder 'O') darstellen."
   ]
  },
  {
   "cell_type": "code",
   "execution_count": 4,
   "metadata": {
    "dotnet_interactive": {
     "language": "csharp"
    },
    "polyglot_notebook": {
     "kernelName": "csharp"
    },
    "vscode": {
     "languageId": "polyglot-notebook"
    }
   },
   "outputs": [],
   "source": [
    "\n",
    "char[,] board = {\n",
    "    { 'X', 'O', 'X' },\n",
    "    { 'O', 'X', ' ' },\n",
    "    { ' ', ' ', 'O' }\n",
    "};"
   ]
  },
  {
   "cell_type": "markdown",
   "metadata": {},
   "source": [
    "## Beispiel: Überprüfung der Gewinnbedingungen\n",
    "\n",
    "Hier verwenden wir `if`, `else if` und `else`, um die Bedingungen für einen Gewinner ohne Schleifen zu überprüfen. Wir gehen durch alle möglichen Gewinnkombinationen (Reihen, Spalten und Diagonalen) manuell durch."
   ]
  },
  {
   "cell_type": "code",
   "execution_count": 5,
   "metadata": {
    "dotnet_interactive": {
     "language": "csharp"
    },
    "polyglot_notebook": {
     "kernelName": "csharp"
    },
    "vscode": {
     "languageId": "polyglot-notebook"
    }
   },
   "outputs": [
    {
     "name": "stdout",
     "output_type": "stream",
     "text": [
      "Kein Gewinner\n"
     ]
    }
   ],
   "source": [
    "string result = \"Kein Gewinner\";\n",
    "\n",
    "// Prüfe Reihen\n",
    "if (board[0, 0] == board[0, 1] && board[0, 1] == board[0, 2] && board[0, 0] != ' ')\n",
    "    result = $\"Spieler {board[0, 0]} gewinnt!\";\n",
    "else if (board[1, 0] == board[1, 1] && board[1, 1] == board[1, 2] && board[1, 0] != ' ')\n",
    "    result = $\"Spieler {board[1, 0]} gewinnt!\";\n",
    "else if (board[2, 0] == board[2, 1] && board[2, 1] == board[2, 2] && board[2, 0] != ' ')\n",
    "    result = $\"Spieler {board[2, 0]} gewinnt!\";\n",
    "\n",
    "// Prüfe Spalten\n",
    "if (board[0, 0] == board[1, 0] && board[1, 0] == board[2, 0] && board[0, 0] != ' ')\n",
    "    result = $\"Spieler {board[0, 0]} gewinnt!\";\n",
    "else if (board[0, 1] == board[1, 1] && board[1, 1] == board[2, 1] && board[0, 1] != ' ')\n",
    "    result = $\"Spieler {board[0, 1]} gewinnt!\";\n",
    "else if (board[0, 2] == board[1, 2] && board[1, 2] == board[2, 2] && board[0, 2] != ' ')\n",
    "    result = $\"Spieler {board[0, 2]} gewinnt!\";\n",
    "\n",
    "// Prüfe Diagonalen\n",
    "if (board[0, 0] == board[1, 1] && board[1, 1] == board[2, 2] && board[0, 0] != ' ')\n",
    "    result = $\"Spieler {board[0, 0]} gewinnt!\";\n",
    "else if (board[0, 2] == board[1, 1] && board[1, 1] == board[2, 0] && board[0, 2] != ' ')\n",
    "    result = $\"Spieler {board[0, 2]} gewinnt!\";\n",
    "\n",
    "Console.WriteLine(result)"
   ]
  },
  {
   "cell_type": "markdown",
   "metadata": {},
   "source": [
    "## Beispiel: Unentschieden ohne Schleifen prüfen\n",
    "\n",
    "Da wir aktuell noch keine Schleifen verwenden, prüfen wir jedes Feld manuell, um festzustellen, ob das Spiel unentschieden ist (d.h. wenn alle Felder belegt sind, aber kein Gewinner festgestellt wurde)."
   ]
  },
  {
   "cell_type": "code",
   "execution_count": 6,
   "metadata": {
    "dotnet_interactive": {
     "language": "csharp"
    },
    "polyglot_notebook": {
     "kernelName": "csharp"
    },
    "vscode": {
     "languageId": "polyglot-notebook"
    }
   },
   "outputs": [
    {
     "data": {
      "text/plain": [
       "Spiel läuft noch."
      ]
     },
     "metadata": {},
     "output_type": "display_data"
    }
   ],
   "source": [
    "// Prüfe, ob alle Felder belegt sind (ohne Schleifen)\n",
    "if (board[0, 0] != ' ' && board[0, 1] != ' ' && board[0, 2] != ' ' &&\n",
    "    board[1, 0] != ' ' && board[1, 1] != ' ' && board[1, 2] != ' ' &&\n",
    "    board[2, 0] != ' ' && board[2, 1] != ' ' && board[2, 2] != ' ')\n",
    "{\n",
    "    return \"Unentschieden!\";\n",
    "}\n",
    "else\n",
    "{\n",
    "    return \"Spiel läuft noch.\";\n",
    "}"
   ]
  },
  {
   "cell_type": "markdown",
   "metadata": {},
   "source": [
    "## Beispiel: Spielerwechsel mit `switch`\n",
    "\n",
    "Um den Spieler zu wechseln, verwenden wir eine einfache `switch`-Anweisung. Es wird überprüft, welcher Spieler an der Reihe ist, und entsprechend gewechselt."
   ]
  },
  {
   "cell_type": "code",
   "execution_count": 8,
   "metadata": {
    "dotnet_interactive": {
     "language": "csharp"
    },
    "polyglot_notebook": {
     "kernelName": "csharp"
    },
    "vscode": {
     "languageId": "polyglot-notebook"
    }
   },
   "outputs": [
    {
     "name": "stdout",
     "output_type": "stream",
     "text": [
      "Aktueller Spieler: O\n"
     ]
    }
   ],
   "source": [
    "char currentPlayer = 'X';\n",
    "\n",
    "switch (currentPlayer)\n",
    "{\n",
    "    case 'X':\n",
    "        currentPlayer = 'O';\n",
    "        break;\n",
    "    case 'O':\n",
    "        currentPlayer = 'X';\n",
    "        break;\n",
    "    default:\n",
    "        currentPlayer = 'X';\n",
    "        break;\n",
    "}\n",
    "\n",
    "Console.WriteLine(\"Aktueller Spieler: \" + currentPlayer);"
   ]
  },
  {
   "cell_type": "markdown",
   "metadata": {},
   "source": [
    "← [Bedingte Anweisungen in C#](./CSharp_Conditional.de.ipynb)"
   ]
  }
 ],
 "metadata": {
  "kernelspec": {
   "display_name": ".NET (C#)",
   "language": "C#",
   "name": ".net-csharp"
  },
  "language_info": {
   "name": "python"
  },
  "polyglot_notebook": {
   "kernelInfo": {
    "defaultKernelName": "csharp",
    "items": [
     {
      "aliases": [],
      "name": "csharp"
     }
    ]
   }
  }
 },
 "nbformat": 4,
 "nbformat_minor": 2
}
