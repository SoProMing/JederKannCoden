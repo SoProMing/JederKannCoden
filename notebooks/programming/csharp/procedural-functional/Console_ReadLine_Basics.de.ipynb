{
 "cells": [
  {
   "cell_type": "markdown",
   "metadata": {},
   "source": [
    "[Jeder kann coden](../../abstract/Contents.de.ipynb) / [Programmieren & TicTacToe](../../Programming_And_TicTacToe.de.ipynb) / [C# Einführung](../CSharp_Introduction.de.ipynb)\n",
    "\n",
    "# Grundlagen C# ReadLine\n",
    "\n",
    "<table border=\"0\">\n",
    "  <tr>\n",
    "    <td>\n",
    "        <img src=\"readline.webp\">\n",
    "    </td>\n",
    "    <td rowspan=\"2\">\n",
    "        <a href=\"https://miro.com/app/board/o9J_lOJi2o0=/?moveToWidget=3458764554347680798&cot=14\"><img src=\"Radar_ReadLine.de.jpg\"></a>\n",
    "    </td>\n",
    "  </tr>\n",
    "  <tr>\n",
    "    <td>\n",
    "      <a href=\"https://learn.microsoft.com/de-de/dotnet/api/system.console.readline?view=net-8.0\">Link zur Microsoft Dokumentation</a><br>\n",
    "      <a href=\"https://miro.com/app/board/o9J_lOJi2o0=/?moveToWidget=3458764554347680798&cot=14\">Link zum roten Faden auf Miro</a><br>\n",
    "      <a href=\"https://www.w3schools.com/cs/cs_user_input.php\">Link zu Tutorial auf w3schools</a>\n",
    "    </td>\n",
    "  </tr>\n",
    "</table>"
   ]
  },
  {
   "cell_type": "markdown",
   "metadata": {},
   "source": [
    "\n",
    "`ReadLine()` ist eine Methode aus dem .NET Framework, die in C# verwendet wird, um eine ganze Zeile Text von einer Eingabequelle wie der Konsole zu lesen. Sie gehört zur Klasse `Console` im Namespace `System`.\n",
    "\n",
    "### Syntax:"
   ]
  },
  {
   "cell_type": "code",
   "execution_count": 1,
   "metadata": {
    "dotnet_interactive": {
     "language": "csharp"
    },
    "polyglot_notebook": {
     "kernelName": "csharp"
    },
    "vscode": {
     "languageId": "polyglot-notebook"
    }
   },
   "outputs": [
    {
     "ename": "Error",
     "evalue": "Command cancelled.",
     "output_type": "error",
     "traceback": [
      "Command cancelled."
     ]
    }
   ],
   "source": [
    "string input = Console.ReadLine();"
   ]
  },
  {
   "cell_type": "markdown",
   "metadata": {},
   "source": [
    "\n",
    "### Funktionsweise:\n",
    "- **Eingabe lesen:** `Console.ReadLine()` wartet darauf, dass der Benutzer eine Eingabe macht und die Eingabetaste drückt.\n",
    "- **Rückgabewert:** Die Methode gibt die gesamte Zeile als Zeichenkette (`string`) zurück. Dies beinhaltet alle Zeichen, die der Benutzer eingibt, aber **ohne den abschließenden Zeilenumbruch**.\n",
    "- **Null-Rückgabe:** Wenn die Eingabequelle keine Daten mehr bereitstellt (z. B. beim Lesen aus einer Datei oder einem Stream), gibt `ReadLine()` `null` zurück.\n",
    "\n",
    "### Beispiel:"
   ]
  },
  {
   "cell_type": "code",
   "execution_count": 3,
   "metadata": {
    "dotnet_interactive": {
     "language": "csharp"
    },
    "polyglot_notebook": {
     "kernelName": "csharp"
    },
    "vscode": {
     "languageId": "polyglot-notebook"
    }
   },
   "outputs": [
    {
     "name": "stdout",
     "output_type": "stream",
     "text": [
      "Bitte geben Sie Ihren Namen ein:\n"
     ]
    },
    {
     "ename": "Error",
     "evalue": "Command cancelled.",
     "output_type": "error",
     "traceback": [
      "Command cancelled."
     ]
    }
   ],
   "source": [
    "Console.WriteLine(\"Bitte geben Sie Ihren Namen ein:\");\n",
    "string name = Console.ReadLine();\n",
    "Console.WriteLine($\"Hallo, {name}!\");"
   ]
  },
  {
   "cell_type": "markdown",
   "metadata": {},
   "source": [
    "- In diesem Beispiel wird der Benutzer nach seinem Namen gefragt, und die Eingabe wird in der Variablen `name` gespeichert. Anschließend wird die Eingabe in einer Begrüßungsnachricht verwendet.\n",
    "\n",
    "### Wichtige Punkte:\n",
    "1. **Blockierende Methode:** `ReadLine()` ist blockierend, was bedeutet, dass das Programm anhält, bis der Benutzer eine Eingabe macht.\n",
    "2. **Keine Fehlerbehandlung für leere Eingaben:** Wenn der Benutzer einfach nur die Eingabetaste drückt, gibt `ReadLine()` einen leeren String zurück (keine Zeichen), aber keinen Fehler.\n",
    "\n",
    "### Anwendung:\n",
    "- Ideal für einfache Benutzereingaben in Konsolenanwendungen.\n",
    "- Kann in Kombination mit Schleifen verwendet werden, um wiederholt Eingaben vom Benutzer zu sammeln, bis eine bestimmte Bedingung erfüllt ist."
   ]
  },
  {
   "cell_type": "markdown",
   "metadata": {},
   "source": [
    "## ReadLine und TicTacToe\n",
    "\n",
    "Bei TicTacToe müssen die Spieler steuern können, wo ihr nächster Stein gesetzt wird. Das kann man z.B. so erreichen:"
   ]
  },
  {
   "cell_type": "code",
   "execution_count": 2,
   "metadata": {
    "dotnet_interactive": {
     "language": "csharp"
    },
    "polyglot_notebook": {
     "kernelName": "csharp"
    },
    "vscode": {
     "languageId": "polyglot-notebook"
    }
   },
   "outputs": [
    {
     "name": "stdout",
     "output_type": "stream",
     "text": [
      "Spieler X, wähle ein Feld (1-9):\n"
     ]
    },
    {
     "ename": "Error",
     "evalue": "Command cancelled.",
     "output_type": "error",
     "traceback": [
      "Command cancelled."
     ]
    }
   ],
   "source": [
    "// Deklariert eine statische Variable, die den aktuellen Spieler speichert.\n",
    "// Zu Beginn des Spiels ist der erste Spieler 'X'.\n",
    "static char currentPlayer = 'X';\n",
    "\n",
    "// Gibt eine Nachricht an die Konsole aus, die den aktuellen Spieler anzeigt \n",
    "// und ihn auffordert, ein Feld zwischen 1 und 9 zu wählen.\n",
    "Console.WriteLine($\"Spieler {currentPlayer}, wähle ein Feld (1-9):\");\n",
    "\n",
    "// Liest die Eingabe des Benutzers von der Konsole, konvertiert die Eingabe \n",
    "// (die als String vorliegt) in eine Ganzzahl und speichert sie in der Variable 'choice'.\n",
    "int choice = int.Parse(Console.ReadLine());\n",
    " "
   ]
  },
  {
   "cell_type": "markdown",
   "metadata": {},
   "source": [
    "<details>\n",
    "<summary>Ausführliche Erklärung...</summary>\n",
    "\n",
    "1.  **Variable für den aktuellen Spieler**: Diese Zeile legt fest, dass das Spiel mit Spieler X beginnt.\n",
    "2.  **Ausgabeaufforderung**: Hier wird dem Spieler angezeigt, dass er an der Reihe ist, und es wird nach seiner Eingabe gefragt.\n",
    "3.  **Benutzereingabe**: Der Code liest die Eingabe des Spielers und wandelt sie in eine Ganzzahl um, die die Wahl des Feldes repräsentiert.\n",
    "\n",
    "</details>"
   ]
  },
  {
   "cell_type": "markdown",
   "metadata": {},
   "source": [
    "← [Einführung in das Konzept einer Variablen in C#](../CSharp_Introduction.de.ipynb#einführung-in-das-konzept-einer-variablen)"
   ]
  }
 ],
 "metadata": {
  "kernelspec": {
   "display_name": ".NET (C#)",
   "language": "C#",
   "name": ".net-csharp"
  },
  "language_info": {
   "name": "python",
   "version": "3.10.5"
  },
  "polyglot_notebook": {
   "kernelInfo": {
    "defaultKernelName": "csharp",
    "items": [
     {
      "aliases": [],
      "name": "csharp"
     }
    ]
   }
  }
 },
 "nbformat": 4,
 "nbformat_minor": 2
}
