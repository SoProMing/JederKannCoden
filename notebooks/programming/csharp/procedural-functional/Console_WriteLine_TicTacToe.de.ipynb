{
 "cells": [
  {
   "cell_type": "markdown",
   "id": "3adfadcf",
   "metadata": {},
   "source": [
    "[Jeder kann coden](../../abstract/Contents.de.ipynb) / [Programmieren & TicTacToe](../../Programming_And_TicTacToe.de.ipynb) / [C# Einführung](../CSharp_Introduction.de.ipynb) / [`Console.Writeline` Basics](Console_WriteLine_Basics.de.ipynb)  / [`Console.Writeline` Samples](Console_WriteLine_Samples.de.ipynb)\n",
    "\n",
    "# C# WriteLine & TicTacToe\n",
    "\n",
    "<table border=\"0\">\n",
    "  <tr>\n",
    "    <td>\n",
    "        <img src=\"writeline.webp\">\n",
    "    </td>\n",
    "    <td rowspan=\"2\">\n",
    "        <a href=\"https://miro.com/app/board/o9J_lOJi2o0=/?moveToWidget=3458764554347680798&cot=14\"><img src=\"Radar_WriteLine.de.jpg\"></a>\n",
    "    </td>\n",
    "  </tr>\n",
    "  <tr>\n",
    "    <td>\n",
    "      <a href=\"https://learn.microsoft.com/de-de/dotnet/api/system.console.writeline?view=net-5.0\">Link zur Microsoft Dokumentation</a><br>\n",
    "      <a href=\"https://miro.com/app/board/o9J_lOJi2o0=/?moveToWidget=3458764554347680798&cot=14\">Link zum roten Faden auf Miro</a><br>\n",
    "      <a href=\"https://www.w3schools.com/cs/cs_output.php\">Link zu Tutorial auf w3schools</a>\n",
    "    </td>\n",
    "  </tr>\n",
    "</table>"
   ]
  },
  {
   "cell_type": "markdown",
   "id": "34d68b03",
   "metadata": {},
   "source": [
    "Um ein Tic-Tac-Toe-Spielbrett zu malen, kannst du die Methode Console.WriteLine() verwenden, um den aktuellen Zustand des Bretts zu zeichnen. Das Brett besteht aus 3x3 Feldern, die entweder leer sind oder ein \"X\" oder \"O\" enthalten. Fangen wir mit einem leeren Brett an:"
   ]
  },
  {
   "cell_type": "code",
   "execution_count": 1,
   "id": "d549d608",
   "metadata": {
    "dotnet_interactive": {
     "language": "csharp"
    },
    "polyglot_notebook": {
     "kernelName": "csharp"
    },
    "vscode": {
     "languageId": "polyglot-notebook"
    }
   },
   "outputs": [
    {
     "name": "stdout",
     "output_type": "stream",
     "text": [
      "   |   |   \n",
      "---+---+---\n",
      "   |   |   \n",
      "---+---+---\n",
      "   |   |   \n"
     ]
    }
   ],
   "source": [
    "// Malen des leeren Tic-Tac-Toe-Bretts\n",
    "Console.WriteLine(\"   |   |   \");  // Erste Reihe\n",
    "Console.WriteLine(\"---+---+---\");  // Trennlinie\n",
    "Console.WriteLine(\"   |   |   \");  // Zweite Reihe\n",
    "Console.WriteLine(\"---+---+---\");  // Trennlinie\n",
    "Console.WriteLine(\"   |   |   \");  // Dritte Reihe"
   ]
  },
  {
   "cell_type": "markdown",
   "id": "caa10411",
   "metadata": {},
   "source": [
    "Und nun erweitert um 9 Variablen:"
   ]
  },
  {
   "cell_type": "code",
   "execution_count": 13,
   "id": "e4417676",
   "metadata": {
    "dotnet_interactive": {
     "language": "csharp"
    },
    "polyglot_notebook": {
     "kernelName": "csharp"
    },
    "vscode": {
     "languageId": "polyglot-notebook"
    }
   },
   "outputs": [
    {
     "name": "stdout",
     "output_type": "stream",
     "text": [
      " X | O | X \n",
      "---+---+---\n",
      " . | O | X \n",
      "---+---+---\n",
      " X | X | O \n",
      "Unentschieden... :-)\n"
     ]
    }
   ],
   "source": [
    "string a = \"X\", b = \"O\", c = \"X\", d = \".\", e = \"O\", f = \"X\", g = \"X\", h = \"X\", i = \"O\";\n",
    "\n",
    "// Malen des leeren Tic-Tac-Toe-Bretts\n",
    "Console.WriteLine($\" {a} | {b} | {c} \");  // Erste Reihe\n",
    "Console.WriteLine($\"---+---+---\");  // Trennlinie\n",
    "Console.WriteLine($\" {d} | {e} | {f} \");  // Zweite Reihe\n",
    "Console.WriteLine($\"---+---+---\");  // Trennlinie\n",
    "Console.WriteLine($\" {g} | {h} | {i} \");  // Dritte Reihe\n",
    "\n",
    "Console.WriteLine(\"Unentschieden... :-)\")"
   ]
  },
  {
   "cell_type": "markdown",
   "id": "eab2400e",
   "metadata": {},
   "source": [
    "← [`WriteLine()` Samples](./Console_WriteLine_Samples.de.ipynb)"
   ]
  }
 ],
 "metadata": {
  "kernelspec": {
   "display_name": ".NET (C#)",
   "language": "C#",
   "name": ".net-csharp"
  },
  "language_info": {
   "name": "C#"
  },
  "polyglot_notebook": {
   "kernelInfo": {
    "defaultKernelName": "csharp",
    "items": [
     {
      "aliases": [],
      "name": "csharp"
     }
    ]
   }
  }
 },
 "nbformat": 4,
 "nbformat_minor": 5
}
