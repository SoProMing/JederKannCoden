{
 "cells": [
  {
   "cell_type": "markdown",
   "metadata": {},
   "source": [
    "[Jeder kann coden](../../abstract/Contents.de.ipynb) / [Programmieren & TicTacToe](../../Programming_And_TicTacToe.de.ipynb) / [C# Einführung](../CSharp_Introduction.de.ipynb)\n",
    "\n",
    "# Referenztypen und Werttypen in C#\n",
    "\n",
    "<table border=\"0\">\n",
    "  <tr>\n",
    "    <td>\n",
    "        <img src=\"Reference_Value.webp\">\n",
    "    </td>\n",
    "    <td rowspan=\"2\">\n",
    "        <a href=\"https://miro.com/app/board/o9J_lOJi2o0=/?moveToWidget=3458764554347680798&cot=14\"><img src=\"Radar_Ref.jpg\"></a>\n",
    "    </td>\n",
    "  </tr>\n",
    "  <tr>\n",
    "    <td>\n",
    "      <a href=\"https://learn.microsoft.com/de-de/dotnet/csharp/language-reference/keywords/reference-types\">Link zur Microsoft Dokumentation (Quelle)</a><br>\n",
    "      <a href=\"https://miro.com/app/board/o9J_lOJi2o0=/?moveToWidget=3458764554345659185&cot=14\">Link zum roten Faden auf Miro</a>\n",
    "    </td>\n",
    "  </tr>\n",
    "</table>\n",
    "\n",
    "In C# werden Datentypen in zwei Kategorien unterteilt:\n",
    "\n",
    "1.  **Werttypen**:\n",
    "    \n",
    "    -   Enthalten die tatsächlichen Werte.\n",
    "    -   Werden auf dem  **Stack**  gespeichert.\n",
    "    -   Beispiele:  `int`,  `float`,  `bool`,  `struct`.\n",
    "2.  **Referenztypen**:\n",
    "    \n",
    "    -   Enthalten einen  **Verweis (Referenz)**  auf den Speicherort, an dem die Daten tatsächlich gespeichert sind.\n",
    "    -   Der eigentliche Wert wird auf dem  **Heap**  gespeichert, während die Referenz auf dem  **Stack**  gespeichert wird.\n",
    "    -   Beispiele:  `class`,  `string`,  `array`.\n",
    "\n",
    "### Stack und Heap\n",
    "\n",
    "-   **Stack**:\n",
    "    \n",
    "    -   Schneller Speicherbereich, der für lokale Variablen und Methodenaufrufe verwendet wird.\n",
    "    -   Organisiert als LIFO (Last In, First Out).\n",
    "    -   Jede Methode hat ihren eigenen Stackrahmen (Stack Frame) für Parameter, Rückgabewerte und lokale Variablen.\n",
    "-   **Heap**:\n",
    "    \n",
    "    -   Speicher für dynamisch erzeugte Objekte.\n",
    "    -   Langsamer als der Stack, aber erlaubt flexiblere Speicherverwaltung.\n",
    "    -   Referenzen auf Objekte im Heap werden auf dem Stack gespeichert.\n",
    "\n",
    "<img src=\"stack_heap.png\"/>\n",
    "\n",
    "<details><summary>Embedded miro board...</summary>\n",
    "\n",
    "<iframe width=\"768\" height=\"768\" src=\"https://miro.com/app/live-embed/o9J_lOJi2o0=/?moveToViewport=-1518,-280,1369,799&embedId=521724089499\" frameborder=\"0\" scrolling=\"no\" allow=\"fullscreen; clipboard-read; clipboard-write\" allowfullscreen></iframe>\n",
    "</details>\n",
    "\n",
    "### Übergabe von Parametern\n",
    "\n",
    "1.  **Werttypen**:\n",
    "    \n",
    "    -   Standardmäßig erfolgt die Übergabe  **per Wert**. Es wird eine Kopie der Variablen erstellt, sodass Änderungen an der Kopie keinen Einfluss auf das Original haben.\n",
    "2.  **Referenztypen**:\n",
    "    \n",
    "    -   Der Verweis wird standardmäßig  **per Wert**  übergeben. Das bedeutet, dass zwar das Objekt selbst geändert werden kann, aber nicht die Referenz.\n",
    "3.  **Übergabe per  `ref`**:\n",
    "    \n",
    "    -   Übermittelt den tatsächlichen Speicherort der Variable (Stack oder Heap).\n",
    "    -   Änderungen am Parameter beeinflussen die ursprüngliche Variable direkt.\n",
    "4.  **Übergabe per  `out`**:\n",
    "    \n",
    "    -   Ähnlich wie  `ref`, jedoch muss die Variable vor der Verwendung initialisiert werden.\n",
    "\n",
    "<img src=\"Reference_Debugger.jpg\"/>\n",
    "\n",
    "### Zusammenarbeit von Stack und Heap\n",
    "\n",
    "Wenn ein Referenztyp (z. B. ein Objekt) übergeben wird:\n",
    "\n",
    "1.  Der Verweis auf das Objekt wird auf dem Stack gespeichert.\n",
    "2.  Das Objekt selbst liegt auf dem Heap.\n",
    "3.  Änderungen am Objekt über den Verweis wirken sich auf das Original aus.\n",
    "\n",
    "### Codebeispiele\n",
    "\n",
    "#### 1.  **Änderung eines Referenztyps**"
   ]
  },
  {
   "cell_type": "code",
   "execution_count": null,
   "metadata": {
    "dotnet_interactive": {
     "language": "csharp"
    },
    "polyglot_notebook": {
     "kernelName": "csharp"
    }
   },
   "outputs": [],
   "source": [
    "using System;\n",
    "\n",
    "class Program\n",
    "{\n",
    "    class Person\n",
    "    {\n",
    "        public string Name { get; set; }\n",
    "    }\n",
    "\n",
    "    static void ChangeName(Person person)\n",
    "    {\n",
    "        person.Name = \"Changed\";\n",
    "    }\n",
    "\n",
    "    static void Main()\n",
    "    {\n",
    "        Person p = new Person { Name = \"Original\" };\n",
    "        Console.WriteLine($\"Before: {p.Name}\");\n",
    "\n",
    "        ChangeName(p);\n",
    "\n",
    "        Console.WriteLine($\"After: {p.Name}\");\n",
    "    }\n",
    "}"
   ]
  },
  {
   "cell_type": "markdown",
   "metadata": {},
   "source": [
    "Hier wird nur die Referenz (`person`) übergeben. Änderungen am Objekt ändern den Zustand des ursprünglichen Objekts.\n",
    "\n",
    "#### 2.  **Wertänderung mit  `ref`**"
   ]
  },
  {
   "cell_type": "code",
   "execution_count": null,
   "metadata": {
    "dotnet_interactive": {
     "language": "csharp"
    },
    "polyglot_notebook": {
     "kernelName": "csharp"
    }
   },
   "outputs": [],
   "source": [
    "using System;\n",
    "\n",
    "class Program\n",
    "{\n",
    "    static void ChangeValue(ref int x)\n",
    "    {\n",
    "        x = 100;\n",
    "    }\n",
    "\n",
    "    static void Main()\n",
    "    {\n",
    "        int value = 10;\n",
    "        Console.WriteLine($\"Before: {value}\");\n",
    "\n",
    "        ChangeValue(ref value);\n",
    "\n",
    "        Console.WriteLine($\"After: {value}\");\n",
    "    }\n",
    "}"
   ]
  },
  {
   "cell_type": "markdown",
   "metadata": {},
   "source": [
    "Mit  `ref`  wird die tatsächliche Speicheradresse von  `value`  übergeben. Änderungen innerhalb der Methode ändern den ursprünglichen Wert.\n",
    "\n",
    "#### 3.  **Referenzänderung mit  `ref`**"
   ]
  },
  {
   "cell_type": "code",
   "execution_count": null,
   "metadata": {
    "dotnet_interactive": {
     "language": "csharp"
    },
    "polyglot_notebook": {
     "kernelName": "csharp"
    }
   },
   "outputs": [],
   "source": [
    "using System;\n",
    "\n",
    "class Program\n",
    "{\n",
    "    class Person\n",
    "    {\n",
    "        public string Name { get; set; }\n",
    "    }\n",
    "\n",
    "    static void ChangeReference(ref Person person)\n",
    "    {\n",
    "        person = new Person { Name = \"New Person\" };\n",
    "    }\n",
    "\n",
    "    static void Main()\n",
    "    {\n",
    "        Person p = new Person { Name = \"Original\" };\n",
    "        Console.WriteLine($\"Before: {p.Name}\");\n",
    "\n",
    "        ChangeReference(ref p);\n",
    "\n",
    "        Console.WriteLine($\"After: {p.Name}\");\n",
    "    }\n",
    "}"
   ]
  },
  {
   "cell_type": "markdown",
   "metadata": {},
   "source": [
    "Hier ändert  `ChangeReference`  den Verweis selbst. Das ursprüngliche Objekt (`p`) zeigt nach dem Methodenaufruf auf eine neue Instanz.\n",
    "\n",
    "### Fazit\n",
    "\n",
    "-   Werttypen speichern die Daten direkt und sind isoliert bei der Übergabe.\n",
    "-   Referenztypen speichern Verweise, Änderungen am Objekt über einen Verweis wirken sich auf das Original aus.\n",
    "-   `ref`  erlaubt die Übergabe der tatsächlichen Adresse, was Änderungen am Originalwert oder Referenz ermöglicht."
   ]
  }
 ],
 "metadata": {
  "kernelspec": {
   "display_name": ".NET (C#)",
   "language": "C#",
   "name": ".net-csharp"
  },
  "language_info": {
   "name": "polyglot-notebook"
  },
  "polyglot_notebook": {
   "kernelInfo": {
    "defaultKernelName": "csharp",
    "items": [
     {
      "aliases": [],
      "name": "csharp"
     }
    ]
   }
  }
 },
 "nbformat": 4,
 "nbformat_minor": 2
}
