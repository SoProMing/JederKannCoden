{
 "cells": [
  {
   "cell_type": "markdown",
   "id": "3adfadcf",
   "metadata": {},
   "source": [
    "[Jeder kann coden](../../abstract/Contents.de.ipynb) / [Programmieren & TicTacToe](../../Programming_And_TicTacToe.de.ipynb) / [C# Einführung](../CSharp_Introduction.de.ipynb)\n",
    "\n",
    "# Grundlagen C# WriteLine\n",
    "\n",
    "<table border=\"0\">\n",
    "  <tr>\n",
    "    <td>\n",
    "        <img src=\"writeline.webp\">\n",
    "    </td>\n",
    "    <td rowspan=\"2\">\n",
    "        <a href=\"https://miro.com/app/board/o9J_lOJi2o0=/?moveToWidget=3458764554347680798&cot=14\"><img src=\"Radar_WriteLine.de.jpg\"></a>\n",
    "    </td>\n",
    "  </tr>\n",
    "  <tr>\n",
    "    <td>\n",
    "      <a href=\"https://learn.microsoft.com/de-de/dotnet/api/system.console.writeline?view=net-5.0\">Link zur Microsoft Dokumentation</a><br>\n",
    "      <a href=\"https://miro.com/app/board/o9J_lOJi2o0=/?moveToWidget=3458764554347680798&cot=14\">Link zum roten Faden auf Miro</a><br>\n",
    "      <a href=\"https://www.w3schools.com/cs/cs_output.php\">Link zu Tutorial auf w3schools</a>\n",
    "    </td>\n",
    "  </tr>\n",
    "</table>"
   ]
  },
  {
   "cell_type": "markdown",
   "id": "e2203104",
   "metadata": {},
   "source": [
    "In C# gibt es mehrere Möglichkeiten, Textausgaben zu erzeugen, insbesondere wenn man Konsolenanwendungen schreibt. Hier sind einige der gebräuchlichsten Methoden:\n",
    "\n",
    "## 1. Console.WriteLine\n",
    "Console.WriteLine ist die häufigste Methode zur Ausgabe von Text in die Konsole. Sie zeigt den angegebenen Text an und fügt am Ende einen Zeilenumbruch hinzu."
   ]
  },
  {
   "cell_type": "code",
   "execution_count": 2,
   "id": "d9169cb6",
   "metadata": {
    "dotnet_interactive": {
     "language": "csharp"
    },
    "polyglot_notebook": {
     "kernelName": "csharp"
    }
   },
   "outputs": [
    {
     "name": "stdout",
     "output_type": "stream",
     "text": [
      "Dies ist eine Textausgabe mit einem Zeilenumbruch!\n",
      "Nächste Zeile...\n"
     ]
    }
   ],
   "source": [
    "Console.WriteLine(\"Dies ist eine Textausgabe mit einem Zeilenumbruch!\");\n",
    "Console.WriteLine(\"Nächste Zeile...\");"
   ]
  },
  {
   "cell_type": "markdown",
   "id": "8102ce4a",
   "metadata": {},
   "source": [
    "## 2. Console.Write\n",
    "Im Gegensatz zu Console.WriteLine zeigt Console.Write den Text an, ohne einen Zeilenumbruch hinzuzufügen. Dadurch bleibt der Cursor in derselben Zeile."
   ]
  },
  {
   "cell_type": "code",
   "execution_count": 3,
   "id": "8b102f39",
   "metadata": {
    "dotnet_interactive": {
     "language": "csharp"
    },
    "polyglot_notebook": {
     "kernelName": "csharp"
    }
   },
   "outputs": [
    {
     "name": "stdout",
     "output_type": "stream",
     "text": [
      "Dies ist eine Textausgabe ohne Zeilenumbruch.Nächste Zeile...\n"
     ]
    }
   ],
   "source": [
    "Console.Write(\"Dies ist eine Textausgabe ohne Zeilenumbruch.\");\n",
    "Console.WriteLine(\"Nächste Zeile...\");"
   ]
  },
  {
   "cell_type": "markdown",
   "id": "50922302",
   "metadata": {},
   "source": [
    "## 3. String-Interpolation\n",
    "Seit C# 6.0 kann man Zeichenfolgeninterpolation verwenden, um Variablen und Text miteinander zu kombinieren. Dies geschieht durch das Voranstellen eines $-Zeichens vor die Zeichenkette."
   ]
  },
  {
   "cell_type": "markdown",
   "id": "a651fb2b",
   "metadata": {},
   "source": [
    "<div style=\"border:2px solid #008CBA; padding:10px; background-color:#E0F7FA;\">\n",
    "\n",
    "### 💡 Praxistipp\n",
    "\n",
    "In C# verhält sich der + Operator unterschiedlich, je nachdem, ob er mit int (Integer) oder string Typen verwendet wird:\n",
    "\n",
    "-   `int`  +  `int`  ergibt eine Addition.\n",
    "-   `string`  +  `string`  ergibt eine Verkettung.\n",
    "-   `string`  +  `int`  oder  `int`  +  `string`  führt zu einer Verkettung, indem  `int`  automatisch in  `string`  umgewandelt wird.\n",
    "-   Kombinierte Ausdrücke folgen der Auswertungsreihenfolge von links nach rechts, und sobald ein  `string`  involviert ist, wird alles als  `string`  behandelt, sofern keine Klammern die Reihenfolge ändern.\n",
    "\n",
    "Um das Beispiel zu verstehen, solltest du folgende Kapitel kennen:\n",
    "\n",
    "[Grundlagen weiterer Operatoren](./CSharp_Other_Operators_Basics.de.ipynb) →\n",
    "\n",
    "</div>"
   ]
  },
  {
   "cell_type": "code",
   "execution_count": 40,
   "id": "aae37cc0",
   "metadata": {
    "dotnet_interactive": {
     "language": "csharp"
    },
    "polyglot_notebook": {
     "kernelName": "csharp"
    }
   },
   "outputs": [
    {
     "name": "stdout",
     "output_type": "stream",
     "text": [
      "Ich bin 24 + 25 Jahre alt\n",
      "Ich bin 2425 Jahre alt\n",
      "Ich bin 1325 Jahre alt\n",
      "Ich bin 2421 Jahre alt\n",
      "Ich bin 34 Jahre alt\n",
      "Ich bin {alter + alter2} Jahre alt\n"
     ]
    }
   ],
   "source": [
    "int alter = 13; \n",
    "int alter2 = 21; \n",
    "string alter3 = \"24\"; \n",
    "string alter4 = \"25\"; \n",
    "\n",
    "Console.WriteLine($\"Ich bin {alter3} + {alter4} Jahre alt\");\n",
    "// Verwendet String-Interpolation, um die Zeichenfolgen alter3 und alter4 in die Ausgabe einzubetten.\n",
    "// Da sie als Text ausgegeben werden, sieht der Benutzer die Ausgabe: \"Ich bin 24 + 25 Jahre alt\".\n",
    "\n",
    "Console.WriteLine($\"Ich bin {alter3 + alter4} Jahre alt\");\n",
    "// Da alter3 und alter4 Zeichenfolgen sind, wird bei der Verwendung von '+' keine mathematische Addition, sondern eine Verkettung durchgeführt.\n",
    "// Ergebnis: Die Ausgabe zeigt \"Ich bin 2425 Jahre alt\".\n",
    "\n",
    "Console.WriteLine($\"Ich bin {alter + alter4} Jahre alt\");\n",
    "// Hier wird versucht, die Ganzzahl alter mit der Zeichenfolge alter4 zu verknüpfen. \n",
    "// 'alter' wird implizit in eine Zeichenfolge konvertiert und mit 'alter4' verkettet, wodurch der Text \"Ich bin 1325 Jahre alt\" ausgegeben wird.\n",
    "\n",
    "Console.WriteLine($\"Ich bin {alter3 + alter2} Jahre alt\");\n",
    "// In diesem Fall wird alter3 (eine Zeichenfolge) mit alter2 (eine Ganzzahl) verknüpft. \n",
    "// alter2 wird zuerst implizit in eine Zeichenfolge konvertiert, sodass das Ergebnis der Verkettung \"Ich bin 2421 Jahre alt\" lautet.\n",
    "\n",
    "Console.WriteLine($\"Ich bin {alter + alter2} Jahre alt\");\n",
    "// Hier wird die Addition von zwei Ganzzahlen, 'alter' und 'alter2', durchgeführt. \n",
    "// Das Ergebnis, 34, wird dann in die Ausgabe eingebettet, sodass der Benutzer \"Ich bin 34 Jahre alt\" sieht.\n",
    "\n",
    "Console.WriteLine(\"Ich bin {alter + alter2} Jahre alt\");\n",
    "// Da hier keine String-Interpolation verwendet wird (fehlendes $ vor dem String), werden die Variablen nicht aufgelöst.\n",
    "// Der Text wird unverändert ausgegeben: \"Ich bin {alter + alter2} Jahre alt\"."
   ]
  },
  {
   "cell_type": "markdown",
   "id": "50a7b5fa",
   "metadata": {},
   "source": [
    "## 4. Verkettung von Zeichenfolgen\n",
    "Man kann auch mehrere Zeichenfolgen und Werte durch Verkettung kombinieren, bevor man sie ausgibt."
   ]
  },
  {
   "cell_type": "code",
   "execution_count": 31,
   "id": "4e9b2154",
   "metadata": {
    "dotnet_interactive": {
     "language": "csharp"
    },
    "polyglot_notebook": {
     "kernelName": "csharp"
    }
   },
   "outputs": [
    {
     "name": "stdout",
     "output_type": "stream",
     "text": [
      "Dies ist eine verkettete Nachricht.\n"
     ]
    }
   ],
   "source": [
    "Console.WriteLine(\"Dies ist eine \" + \"verkettete Nachricht.\");"
   ]
  },
  {
   "cell_type": "markdown",
   "id": "2a06d456",
   "metadata": {},
   "source": [
    "## 5. Formatierte Ausgabe\n",
    "Man kann Console.WriteLine auch mit formatierter Ausgabe verwenden, wobei Platzhalter {} verwendet werden, um Werte in einer Zeichenfolge zu platzieren."
   ]
  },
  {
   "cell_type": "code",
   "execution_count": 41,
   "id": "64c79b64",
   "metadata": {
    "dotnet_interactive": {
     "language": "csharp"
    },
    "polyglot_notebook": {
     "kernelName": "csharp"
    }
   },
   "outputs": [
    {
     "name": "stdout",
     "output_type": "stream",
     "text": [
      "Name: Anna, Alter: 30 weiblich\n"
     ]
    }
   ],
   "source": [
    "string gender = \"weiblich\";\n",
    "Console.WriteLine(\"Name: {0}, Alter: {1} {2}\", \"Anna\", 30, gender);\n",
    "/*                        |           |   |      |     |     |\n",
    "                          |           |   +------------------^\n",
    "                          |           +----------------^\n",
    "                          +----------------------^ */"
   ]
  },
  {
   "cell_type": "markdown",
   "id": "9568e6b8",
   "metadata": {},
   "source": [
    "## 6. Mehrzeilige Ausgaben\n",
    "Man kann auch mehrere Zeilen auf einmal ausgeben, indem man entweder mehrere Console.WriteLine-Befehle verwendet oder \\n für Zeilenumbrüche in einer Zeichenkette benutzt."
   ]
  },
  {
   "cell_type": "code",
   "execution_count": 32,
   "id": "61156a35",
   "metadata": {
    "dotnet_interactive": {
     "language": "csharp"
    },
    "polyglot_notebook": {
     "kernelName": "csharp"
    }
   },
   "outputs": [
    {
     "name": "stdout",
     "output_type": "stream",
     "text": [
      "Erste Zeile\n",
      "Zweite Zeile\n",
      "Dritte Zeile\n"
     ]
    }
   ],
   "source": [
    "Console.WriteLine(\"Erste Zeile\\nZweite Zeile\\nDritte Zeile\");"
   ]
  },
  {
   "cell_type": "markdown",
   "id": "2b0e1f71",
   "metadata": {},
   "source": [
    "## 7. Escape-Sequenzen\n",
    "In C# können spezielle Zeichen wie Anführungszeichen oder Backslashes in Zeichenfolgen mit einem Backslash (\\\\) maskiert werden, um sie korrekt anzuzeigen."
   ]
  },
  {
   "cell_type": "code",
   "execution_count": 39,
   "id": "15162ddc",
   "metadata": {
    "dotnet_interactive": {
     "language": "csharp"
    },
    "polyglot_notebook": {
     "kernelName": "csharp"
    }
   },
   "outputs": [
    {
     "name": "stdout",
     "output_type": "stream",
     "text": [
      "Das ist ein \"Zitat\" mit backslash(\\).\n"
     ]
    }
   ],
   "source": [
    "// dies ist ein Kommentar für eine Zeile\n",
    "Console.WriteLine(\"Das ist ein \\\"Zitat\\\" mit backslash(\\\\).\"); // kann ich auch hier machen"
   ]
  },
  {
   "cell_type": "markdown",
   "id": "57262234",
   "metadata": {},
   "source": [
    "## Zusammenfassung\n",
    "Diese Methoden sind nützlich, um Benutzern Informationen anzuzeigen, Debugging zu betreiben oder Daten zu präsentieren. Sie bieten Flexibilität bei der Darstellung und Formatierung von Text.\n",
    "\n",
    "← [Das Konzept einer Variablen](../CSharp_Introduction.de.ipynb#Das-Konzept-einer-Variablen)\n",
    "\n",
    "[`WriteLine()` Samples](./Console_WriteLine_Samples.de.ipynb) →"
   ]
  }
 ],
 "metadata": {
  "kernelspec": {
   "display_name": ".NET (C#)",
   "language": "C#",
   "name": ".net-csharp"
  },
  "language_info": {
   "name": "polyglot-notebook"
  },
  "polyglot_notebook": {
   "kernelInfo": {
    "defaultKernelName": "csharp",
    "items": [
     {
      "aliases": [],
      "name": "csharp"
     }
    ]
   }
  }
 },
 "nbformat": 4,
 "nbformat_minor": 5
}
