{
 "cells": [
  {
   "cell_type": "markdown",
   "id": "864d6887",
   "metadata": {},
   "source": [
    "# Numerische Gleitkomma-Typen\n",
    "\n",
    "<table border=\"0\">\n",
    "  <tr>\n",
    "    <td>\n",
    "        <img src=\"Floating.webp\">\n",
    "    </td>\n",
    "    <td rowspan=\"2\">\n",
    "        <a href=\"https://miro.com/app/board/o9J_lOJi2o0=/?moveToWidget=3458764554347680798&cot=14\"><img src=\"Radar_Numbers.de.jpg\"></a>\n",
    "    </td>\n",
    "  </tr>\n",
    "  <tr>\n",
    "    <td>\n",
    "      <a href=\"https://learn.microsoft.com/de-de/dotnet/csharp/language-reference/builtin-types/floating-point-numeric-types\">Link zur Microsoft Dokumentation (Quelle)</a><br>\n",
    "      <!--a href=\"CSharp_Boolean_Operators_Basics.de.ipynb\">Link zu Booleschen Operatoren</a><br>-->\n",
    "      <a href=\"https://miro.com/app/board/o9J_lOJi2o0=/?moveToWidget=3458764554345659185&cot=14\">Link zum roten Faden auf Miro</a><br>\n",
    "      <a href=\"https://www.w3schools.com/cs/cs_variables.php\">Link zu Tutorial auf w3schools</a>\n",
    "    </td>\n",
    "  </tr>\n",
    "</table>"
   ]
  },
  {
   "cell_type": "markdown",
   "id": "7fd07a26",
   "metadata": {},
   "source": [
    "\n",
    "## Übersichtstabelle der Gleitkomma-Typen\n",
    "\n",
    "| Typ     | Größe (in Bits) | Bereich                              | Präzision                  |\n",
    "|---------|------------------|-------------------------------------|----------------------------|\n",
    "| float   | 32               | ±1.5 x 10^−45 bis ±3.4 x 10^38    | 7 signifikante Ziffern     |\n",
    "| double  | 64               | ±5.0 × 10^−324 bis ±1.7 × 10^308   | 15-16 signifikante Ziffern  |\n",
    "| decimal | 128              | ±1.0 x 10^-28 bis ±7.9 x 10^28    | 28-29 signifikante Ziffern  |\n"
   ]
  },
  {
   "cell_type": "markdown",
   "id": "b6e8949f",
   "metadata": {},
   "source": [
    "## float"
   ]
  },
  {
   "cell_type": "markdown",
   "id": "b1335858",
   "metadata": {},
   "source": [
    "**Beschreibung:** Ein einfacher 32-Bit Gleitkomma-Datentyp, der verwendet wird, wenn weniger Präzision erforderlich ist. Der Typ ist eine gute Wahl für Grafiken, wenn Speicherplatz ein Anliegen ist."
   ]
  },
  {
   "cell_type": "markdown",
   "id": "145ee062",
   "metadata": {},
   "source": [
    "**Beispiele:**"
   ]
  },
  {
   "cell_type": "markdown",
   "id": "80fb2986",
   "metadata": {},
   "source": [
    "```csharp\n",
    "float f = 3.14f;\n",
    "```"
   ]
  },
  {
   "cell_type": "markdown",
   "id": "17f509fe",
   "metadata": {},
   "source": [
    "```csharp\n",
    "float area = 5.0f * 3.0f; // Berechnung der Fläche\n",
    "```"
   ]
  },
  {
   "cell_type": "markdown",
   "id": "2ab47384",
   "metadata": {},
   "source": [
    "**Bereich:** ±1.5 x 10^−45 bis ±3.4 x 10^38"
   ]
  },
  {
   "cell_type": "markdown",
   "id": "0a47afe2",
   "metadata": {},
   "source": [
    "**Präzision:** 7 signifikante Ziffern"
   ]
  },
  {
   "cell_type": "markdown",
   "id": "52aa73b3",
   "metadata": {},
   "source": [
    "## double"
   ]
  },
  {
   "cell_type": "markdown",
   "id": "ef72169e",
   "metadata": {},
   "source": [
    "**Beschreibung:** Ein doppelter 64-Bit Gleitkomma-Datentyp, der für präzisere Berechnungen verwendet wird. Dieser Typ ist ideal für wissenschaftliche Berechnungen."
   ]
  },
  {
   "cell_type": "markdown",
   "id": "811c9e77",
   "metadata": {},
   "source": [
    "**Beispiele:**"
   ]
  },
  {
   "cell_type": "markdown",
   "id": "0ee69680",
   "metadata": {},
   "source": [
    "```csharp\n",
    "double d = 3.14;\n",
    "```"
   ]
  },
  {
   "cell_type": "markdown",
   "id": "9c3b27f9",
   "metadata": {},
   "source": [
    "```csharp\n",
    "double circumference = 2 * Math.PI * radius; // Berechnung des Umfangs\n",
    "```"
   ]
  },
  {
   "cell_type": "markdown",
   "id": "2ac547a1",
   "metadata": {},
   "source": [
    "**Bereich:** ±5.0 × 10^−324 bis ±1.7 × 10^308"
   ]
  },
  {
   "cell_type": "markdown",
   "id": "de2f9a44",
   "metadata": {},
   "source": [
    "**Präzision:** 15-16 signifikante Ziffern"
   ]
  },
  {
   "cell_type": "markdown",
   "id": "de3fb373",
   "metadata": {},
   "source": [
    "## decimal"
   ]
  },
  {
   "cell_type": "markdown",
   "id": "89cdc55c",
   "metadata": {},
   "source": [
    "**Beschreibung:** Ein 128-Bit Datentyp, der für finanzielle und monetäre Berechnungen verwendet wird. Der decimal-Typ bietet eine hohe Präzision und eignet sich ideal für Geldbeträge."
   ]
  },
  {
   "cell_type": "markdown",
   "id": "7253fca4",
   "metadata": {},
   "source": [
    "**Beispiele:**"
   ]
  },
  {
   "cell_type": "markdown",
   "id": "7dd09db1",
   "metadata": {},
   "source": [
    "```csharp\n",
    "decimal price = 19.95m;\n",
    "```"
   ]
  },
  {
   "cell_type": "markdown",
   "id": "1d5b2eb1",
   "metadata": {},
   "source": [
    "```csharp\n",
    "decimal total = price * quantity; // Berechnung des Gesamtpreises\n",
    "```"
   ]
  },
  {
   "cell_type": "markdown",
   "id": "f7a889be",
   "metadata": {},
   "source": [
    "**Bereich:** ±1.0 x 10^-28 bis ±7.9 x 10^28"
   ]
  },
  {
   "cell_type": "markdown",
   "id": "bd11b614",
   "metadata": {},
   "source": [
    "**Präzision:** 28-29 signifikante Ziffern"
   ]
  },
  {
   "cell_type": "markdown",
   "id": "32cf7d1b",
   "metadata": {},
   "source": [
    "\n",
    "## Konvertierungen zwischen Gleitkomma-Typen\n",
    "\n",
    "In C# ist es häufig erforderlich, zwischen den verschiedenen Gleitkomma-Typen zu konvertieren. \n",
    "Die Konvertierungen können implizit oder explizit sein:\n",
    "\n",
    "1. **Implizite Konvertierungen**: Diese erfolgen automatisch, wenn der Zieltyp größer ist als der Quelltyp. \n",
    "   Zum Beispiel kann ein `float` ohne explizite Konvertierung in einen `double` umgewandelt werden:\n",
    "   ```csharp\n",
    "   float f = 3.14f;\n",
    "   double d = f; // Implizite Konvertierung von float zu double\n",
    "   ```\n",
    "\n",
    "2. **Explizite Konvertierungen**: Diese sind erforderlich, wenn der Zieltyp kleiner ist als der Quelltyp oder wenn eine präzisere Konvertierung gewünscht wird. \n",
    "   Zum Beispiel muss ein `double` in einen `float` umgewandelt werden:\n",
    "   ```csharp\n",
    "   double d = 3.14;\n",
    "   float f = (float)d; // Explizite Konvertierung von double zu float\n",
    "   ```\n",
    "\n",
    "Es ist wichtig, bei Konvertierungen auf den möglichen Verlust von Genauigkeit zu achten, insbesondere bei der Umwandlung von `double` zu `float` oder von `decimal` zu `float` oder `double`.\n"
   ]
  },
  {
   "cell_type": "markdown",
   "id": "c51a4637",
   "metadata": {},
   "source": [
    "← [Wichtige Konzepte im Zusammenhang mit Variablen in C#](../CSharp_Introduction.de.ipynb#Wichtige-Konzepte-im-Zusammenhang-mit-Variablen)"
   ]
  }
 ],
 "metadata": {
  "language_info": {
   "name": "python"
  }
 },
 "nbformat": 4,
 "nbformat_minor": 5
}
