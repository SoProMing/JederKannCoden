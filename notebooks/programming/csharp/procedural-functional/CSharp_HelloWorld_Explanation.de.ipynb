{
 "cells": [
  {
   "cell_type": "markdown",
   "id": "80d3e7be",
   "metadata": {},
   "source": [
    "# C# - Struktur eines Programms\n",
    "\n",
    "<img src=\"helloworld.webp\" style=\"width:280px; height:280px;\">\n",
    "\n",
    "[Link zur Microsoft Dokumentation](https://learn.microsoft.com/de-de/dotnet/api/system.console.writeline?view=net-5.0)"
   ]
  },
  {
   "cell_type": "markdown",
   "id": "84d1a190",
   "metadata": {},
   "source": [
    "Wir haben bereits `Console.WriteLine` kennengelernt, also werden wir uns jetzt auf die restlichen Teile des Programms konzentrieren. Unser Beispiel ist das klassische 'Hello World'-Programm."
   ]
  },
  {
   "cell_type": "markdown",
   "id": "250b86e9",
   "metadata": {},
   "source": [
    "## Erstellen eines neuen Programms mit VS Code\n",
    "\n",
    "Um in Visual Studio Code ein C# Konsolenprogramm zu erstellen, folgen Sie diesen Schritten:\n",
    "\n",
    "### Voraussetzungen:\n",
    "\n",
    "[Siehe toolchain...](../tools/Toolchain.de.ipynb)\n",
    "\n",
    "### Schritt 1: Neues Projekt erstellen\n",
    "1. **Terminal öffnen:**\n",
    "   - Öffnen Sie das Terminal in Visual Studio Code (View -> Terminal oder `Ctrl + ö`).\n",
    "\n",
    "2. **Neues C# Konsolenprojekt erstellen:**\n",
    "   - Erstelle ein Verzeichnis, in dem Du Dein Projekt erstellen möchtest."
   ]
  },
  {
   "cell_type": "code",
   "execution_count": null,
   "id": "2d900d01",
   "metadata": {
    "dotnet_interactive": {
     "language": "csharp"
    },
    "polyglot_notebook": {
     "kernelName": "csharp"
    },
    "vscode": {
     "languageId": "polyglot-notebook"
    }
   },
   "outputs": [],
   "source": [
    "mkdir -p ../sandbox/helloworld"
   ]
  },
  {
   "cell_type": "markdown",
   "id": "c1b86b4b",
   "metadata": {},
   "source": [
    "   - Gib den folgenden Befehl ein, um ein neues C#-Projekt in dem erstellen Verzeichnis zu erzeugen:\n",
    "   "
   ]
  },
  {
   "cell_type": "code",
   "execution_count": null,
   "id": "634341a9",
   "metadata": {
    "dotnet_interactive": {
     "language": "csharp"
    },
    "polyglot_notebook": {
     "kernelName": "csharp"
    },
    "vscode": {
     "languageId": "polyglot-notebook"
    }
   },
   "outputs": [],
   "source": [
    "!dotnet new console -o ../sandbox/helloworld"
   ]
  },
  {
   "cell_type": "markdown",
   "id": "c5a95baa",
   "metadata": {},
   "source": [
    "3. **Projektordner öffnen:**\n",
    "   - Navigiere in Visual Studio Code zum Menü **File** -> **Open Folder** und wähle den neu erstellten Ordner `MeinKonsolenProgramm` aus.\n",
    "\n",
    "### Schritt 2: C#-Datei bearbeiten\n",
    "1. **Datei \"Program.cs\" öffnen:**\n",
    "   - In Deinem Projektordner findest Du eine Datei namens `Program.cs`. Öffne diese.\n",
    "\n",
    "2. **Code bearbeiten:**\n",
    "   - Standardmäßig enthält diese Datei bereits einen einfachen C#-Code, der \"Hello, World!\" ausgibt. Du kannst diesen Code nach Belieben ändern.\n",
    "\n",
    "### Schritt 3: Programm kompilieren und ausführen\n",
    "1. **Programm ausführen:**\n",
    "   - Um Dein Programm zu kompilieren und auszuführen, verwende den folgenden Befehl im Terminal:\n"
   ]
  },
  {
   "cell_type": "code",
   "execution_count": null,
   "id": "73c0622e",
   "metadata": {
    "dotnet_interactive": {
     "language": "csharp"
    },
    "polyglot_notebook": {
     "kernelName": "csharp"
    },
    "vscode": {
     "languageId": "polyglot-notebook"
    }
   },
   "outputs": [],
   "source": [
    "!cd ../sandbox/helloworld && dotnet run"
   ]
  },
  {
   "cell_type": "markdown",
   "id": "6f7078b4",
   "metadata": {},
   "source": [
    "\n",
    "   - Dein Konsolenprogramm wird kompiliert und ausgeführt. Das Ergebnis wird im Terminal angezeigt.\n",
    "\n",
    "### Schritt 4: Debugging\n",
    "1. **Launch.json einrichten (optional):**\n",
    "   - Um das Debugging in Visual Studio Code zu ermöglichen, klicke in der linken Seitenleiste auf den Debugger-Tab und dann auf den Link \"create a launch.json file\". Wählen Sie \".NET Core\" aus.\n",
    "   - Jetzt kannst Breakpoints setzen und Dein Programm mit dem Debugger ausführen.\n",
    "\n",
    "Damit solltest Du in der Lage sein, ein C# Konsolenprogramm in Visual Studio Code zu erstellen und auszuführen.\n",
    "\n",
    "## Erstellen in Visual Studio\n",
    "\n",
    "<img src=\"Visual_studio_hello_world.miro.de.jpg\" style=\"width:100%;\">\n",
    "\n",
    "<details>\n",
    "<summary>Inline miro frame...</summary>\n",
    "<iframe src=\"https://miro.com/app/board/o9J_lOJi2o0=/?moveToWidget=3074457365421059036&cot=14\" width=\"100%\" height=\"600px\"></iframe>\n",
    "</details>\n",
    "\n",
    "[Link auf Miro Frame...](https://miro.com/app/board/o9J_lOJi2o0=/?moveToWidget=3074457365421059036&cot=14)"
   ]
  },
  {
   "cell_type": "markdown",
   "id": "bfe855b0",
   "metadata": {
    "dotnet_interactive": {
     "language": "csharp"
    },
    "polyglot_notebook": {
     "kernelName": "csharp"
    }
   },
   "source": [
    "## Hello world C# code\n",
    "\n",
    "```csharp\n",
    "using System;\n",
    "\n",
    "namespace HelloWorld\n",
    "{\n",
    "    class Program\n",
    "    {\n",
    "        static void Main(string[] args)\n",
    "        {\n",
    "            Console.WriteLine(\"Hello World!\");\n",
    "        }\n",
    "    }\n",
    "}\n",
    "```"
   ]
  },
  {
   "cell_type": "markdown",
   "id": "1e2fe0d5",
   "metadata": {},
   "source": [
    "[Hier gehts zu den Grundlagen zu `WriteLine()`](Console_WriteLine_Basics.de.ipynb) →"
   ]
  },
  {
   "cell_type": "markdown",
   "id": "179fa2e1",
   "metadata": {},
   "source": [
    "**1. Zeile: `using System;`**"
   ]
  },
  {
   "cell_type": "markdown",
   "id": "7cdb492f",
   "metadata": {},
   "source": [
    "Die Zeile `using System;` importiert den Namespace `System` in unser Programm. Ein Namespace ist eine Sammlung von Klassen und anderen Typen, die eine logische Gruppe bilden. `System` enthält grundlegende Klassen wie `Console`, die wir für die Konsolenausgabe verwenden."
   ]
  },
  {
   "cell_type": "markdown",
   "id": "51a67fe0",
   "metadata": {},
   "source": [
    "**2. Zeile: `namespace HelloWorld`**"
   ]
  },
  {
   "cell_type": "markdown",
   "id": "93956b88",
   "metadata": {},
   "source": [
    "Hier definieren wir einen neuen Namespace namens `HelloWorld`. Ein Namespace hilft dabei, unseren Code zu organisieren und möglichen Namenskonflikten vorzubeugen, indem er ähnlich benannte Klassen und Methoden voneinander trennt."
   ]
  },
  {
   "cell_type": "markdown",
   "id": "0719f19b",
   "metadata": {},
   "source": [
    "**3. Zeile: `{`**"
   ]
  },
  {
   "cell_type": "markdown",
   "id": "7bbdd955",
   "metadata": {},
   "source": [
    "Diese geschweifte Klammer `{` markiert den Beginn des `HelloWorld`-Namespaces. Alle nachfolgenden Definitionen gehören zu diesem Namespace."
   ]
  },
  {
   "cell_type": "markdown",
   "id": "1573dcbc",
   "metadata": {},
   "source": [
    "**4. Zeile: `class Program`**"
   ]
  },
  {
   "cell_type": "markdown",
   "id": "ca19c4fc",
   "metadata": {},
   "source": [
    "Innerhalb des Namespaces definieren wir eine Klasse namens `Program`. Klassen sind die grundlegenden Bausteine in C#, die Daten und Verhalten kapseln. Sie enthalten Felder, Methoden und andere Typen."
   ]
  },
  {
   "cell_type": "markdown",
   "id": "6b44c896",
   "metadata": {},
   "source": [
    "**5. Zeile: `{`**"
   ]
  },
  {
   "cell_type": "markdown",
   "id": "65dbc2f9",
   "metadata": {},
   "source": [
    "Die nächste geschweifte Klammer `{` markiert den Beginn der `Program`-Klasse. Alles, was innerhalb dieser Klammern steht, gehört zur `Program`-Klasse."
   ]
  },
  {
   "cell_type": "markdown",
   "id": "39e258ae",
   "metadata": {},
   "source": [
    "**6. Zeile: `static void Main(string[] args)`**"
   ]
  },
  {
   "cell_type": "markdown",
   "id": "02c133d4",
   "metadata": {},
   "source": [
    "Hier definieren wir die `Main`-Methode. In C# ist die `Main`-Methode der Einstiegspunkt jedes Konsolenprogramms. Das Schlüsselwort `static` bedeutet, dass diese Methode zur Klasse selbst gehört und nicht zu einer Instanz dieser Klasse. `void` gibt an, dass die Methode keinen Rückgabewert hat. `Main` ist der Name der Methode, und `string[] args` ist ein Parameter, der ein Array von Zeichenketten enthält. Diese Zeichenketten können als Befehlszeilenargumente an das Programm übergeben werden."
   ]
  },
  {
   "cell_type": "markdown",
   "id": "2bbe3535",
   "metadata": {},
   "source": [
    "**7. Zeile: `{`**"
   ]
  },
  {
   "cell_type": "markdown",
   "id": "ce690498",
   "metadata": {},
   "source": [
    "Die geschweifte Klammer `{` öffnet den Rumpf der `Main`-Methode. Hier beginnt der eigentliche Programmcode, der beim Start der Anwendung ausgeführt wird."
   ]
  },
  {
   "cell_type": "markdown",
   "id": "bf5c45ad",
   "metadata": {},
   "source": [
    "**8. Zeile: `Console.WriteLine(\"Hello World!\");`**"
   ]
  },
  {
   "cell_type": "markdown",
   "id": "1e21410d",
   "metadata": {},
   "source": [
    "1.  **`Console`**:\n",
    "    \n",
    "    -   `Console`  ist der Name einer Klasse im  `System`-Namespace. Diese Klasse stellt Methoden und Eigenschaften bereit, um Eingaben von der Konsole zu lesen und Ausgaben auf der Konsole anzuzeigen. In diesem Fall verwenden wir sie, um Text auf der Konsole anzuzeigen.\n",
    "2.  **Punkt  `.`**:\n",
    "    \n",
    "    -   Der Punkt ist der  **Zugriffsoperator**. Er wird verwendet, um auf Mitglieder (Methoden, Eigenschaften, Felder usw.) einer Klasse oder eines Objekts zuzugreifen. In diesem Fall greifen wir auf die Methode  `WriteLine`  der Klasse  `Console`  zu.\n",
    "3.  **`WriteLine`**:\n",
    "    \n",
    "    -   `WriteLine`  ist eine Methode der  `Console`-Klasse. Diese Methode gibt Text auf der Konsole aus und fügt am Ende automatisch einen Zeilenumbruch hinzu. Sie ist überladen, was bedeutet, dass sie verschiedene Arten von Argumenten akzeptieren kann (z. B. Strings, Zahlen, usw.).\n",
    "4.  **Runde Klammern  `()`**:\n",
    "    \n",
    "    -   Die runden Klammern umschließen die  **Argumente**  der Methode. In diesem Fall übergeben wir der Methode  `WriteLine`  ein Argument, nämlich den String  `\"Hello World!\"`.\n",
    "    -   Auch wenn eine Methode keine Argumente hat, sind die Klammern erforderlich, um den Methodenaufruf korrekt zu kennzeichnen.\n",
    "5.  **Anführungszeichen  `\"`**:\n",
    "    \n",
    "    -   Die doppelten Anführungszeichen kennzeichnen eine  **Zeichenkette**  (String) in C#. Alles, was zwischen den Anführungszeichen steht, wird als Text behandelt. In diesem Fall ist  `\"Hello World!\"`  eine Zeichenkette, die aus den Wörtern \"Hello\" und \"World\" sowie einem Ausrufezeichen besteht.\n",
    "6.  **Zeichenkette  `\"Hello World!\"`**:\n",
    "    \n",
    "    -   Dies ist der  **Inhalt**  (Text), der von der  `WriteLine`-Methode auf der Konsole ausgegeben wird. Der Text wird genau so, wie er in den Anführungszeichen steht, auf der Konsole angezeigt.\n",
    "7.  **Semikolon  `;`**:\n",
    "    \n",
    "    -   Das Semikolon ist ein  **Endezeichen**  für Anweisungen in C#. Es markiert das Ende dieser vollständigen Anweisung. Jede einzelne Anweisung in C# muss mit einem Semikolon abgeschlossen werden, damit der Compiler das Ende der Anweisung erkennt. Ohne das Semikolon würde der Code nicht kompiliert werden, und der Compiler würde einen Fehler melden."
   ]
  },
  {
   "cell_type": "markdown",
   "id": "ad0091bc",
   "metadata": {},
   "source": [
    "**9. Zeile: `}`**"
   ]
  },
  {
   "cell_type": "markdown",
   "id": "93b18647",
   "metadata": {},
   "source": [
    "Diese geschweifte Klammer `}` schließt den Rumpf der `Main`-Methode. Damit ist der Umfang des Codes, der bei Programmausführung ausgeführt wird, abgeschlossen."
   ]
  },
  {
   "cell_type": "markdown",
   "id": "67425276",
   "metadata": {},
   "source": [
    "**10. Zeile: `}`**"
   ]
  },
  {
   "cell_type": "markdown",
   "id": "a4a71167",
   "metadata": {},
   "source": [
    "Diese geschweifte Klammer `}` schließt die `Program`-Klasse ab. Alles, was zu dieser Klasse gehört, ist jetzt definiert."
   ]
  },
  {
   "cell_type": "markdown",
   "id": "208bcfb8",
   "metadata": {},
   "source": [
    "**11. Zeile: `}`**"
   ]
  },
  {
   "cell_type": "markdown",
   "id": "aead8656",
   "metadata": {},
   "source": [
    "Und schließlich schließt diese geschweifte Klammer `}` den `HelloWorld`-Namespace. Unser Programm ist jetzt vollständig."
   ]
  },
  {
   "cell_type": "markdown",
   "id": "fa66b368",
   "metadata": {},
   "source": [
    "**Abschluss**"
   ]
  },
  {
   "cell_type": "markdown",
   "id": "74584beb",
   "metadata": {},
   "source": [
    "Wir haben nun die grundlegende Struktur eines C#-Programms durchgearbeitet. Jede Komponente hat ihre spezifische Rolle, von der Definition von Namespaces und Klassen bis zur `Main`-Methode, die als Einstiegspunkt dient. Das Verständnis dieser Struktur ist wesentlich, um komplexere Programme zu entwickeln."
   ]
  }
 ],
 "metadata": {
  "kernelspec": {
   "display_name": ".NET (C#)",
   "language": "C#",
   "name": ".net-csharp"
  },
  "language_info": {
   "codemirror_mode": {
    "name": "ipython",
    "version": 3
   },
   "file_extension": ".py",
   "mimetype": "text/x-python",
   "name": "python",
   "nbconvert_exporter": "python",
   "pygments_lexer": "ipython3",
   "version": "3.10.5"
  },
  "polyglot_notebook": {
   "kernelInfo": {
    "defaultKernelName": "csharp",
    "items": [
     {
      "aliases": [],
      "name": "csharp"
     }
    ]
   }
  }
 },
 "nbformat": 4,
 "nbformat_minor": 5
}
