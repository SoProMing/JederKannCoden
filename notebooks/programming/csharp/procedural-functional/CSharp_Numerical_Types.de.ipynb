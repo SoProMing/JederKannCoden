{
 "cells": [
  {
   "cell_type": "markdown",
   "metadata": {},
   "source": [
    "[Jeder kann coden](../../abstract/Contents.de.ipynb) / [Programmieren & TicTacToe](../../Programming_And_TicTacToe.de.ipynb) / [C# Einführung](../CSharp_Introduction.de.ipynb)\n",
    "\n",
    "# Ganzzahlige numerische Typen\n",
    "\n",
    "<table border=\"0\">\n",
    "  <tr>\n",
    "    <td>\n",
    "        <img src=\"numbers.webp\">\n",
    "    </td>\n",
    "    <td rowspan=\"2\">\n",
    "        <a href=\"https://miro.com/app/board/o9J_lOJi2o0=/?moveToWidget=3458764554347680798&cot=14\"><img src=\"Radar_Numbers.de.jpg\"></a>\n",
    "    </td>\n",
    "  </tr>\n",
    "  <tr>\n",
    "    <td>\n",
    "      <a href=\"https://learn.microsoft.com/de-de/dotnet/csharp/language-reference/builtin-types/integral-numeric-types\">Link zur Microsoft Dokumentation (Quelle)</a><br>\n",
    "      <!--a href=\"CSharp_Boolean_Operators_Basics.de.ipynb\">Link zu Booleschen Operatoren</a><br>-->\n",
    "      <a href=\"https://miro.com/app/board/o9J_lOJi2o0=/?moveToWidget=3458764554345659185&cot=14\">Link zum roten Faden auf Miro</a><br>\n",
    "      <a href=\"https://www.w3schools.com/cs/cs_variables.php\">Link zu Tutorial auf w3schools</a>\n",
    "    </td>\n",
    "  </tr>\n",
    "</table>"
   ]
  },
  {
   "cell_type": "markdown",
   "metadata": {},
   "source": [
    "## Übersicht über ganzzahlige numerische Typen\n",
    "\n",
    "C# bietet mehrere ganzzahlige numerische Typen, die ganze Zahlen darstellen. Diese Typen unterscheiden sich in ihrer Größe und ob sie negative Werte darstellen können.\n",
    "\n",
    "| Typ       | Größe (Bits) | Bereich                               | C# Schlüsselwort |\n",
    "|------------|-------------|-------------------------------------|------------------|\n",
    "| `sbyte`    | 8           | -128 bis 127                         | `sbyte`          |\n",
    "| `byte`     | 8           | 0 bis 255                            | `byte`           |\n",
    "| `short`    | 16          | -32.768 bis 32.767                   | `short`          |\n",
    "| `ushort`   | 16          | 0 bis 65.535                         | `ushort`         |\n",
    "| `int`      | 32          | -2.147.483.648 bis 2.147.483.647    | `int`            |\n",
    "| `uint`     | 32          | 0 bis 4.294.967.295                  | `uint`           |\n",
    "| `long`     | 64          | -9.223.372.036.854.775.808 bis 9.223.372.036.854.775.807 | `long`          |\n",
    "| `ulong`    | 64          | 0 bis 18.446.744.073.709.551.615   | `ulong`          |"
   ]
  },
  {
   "cell_type": "markdown",
   "metadata": {},
   "source": [
    "<div style=\"border:2px solid #008CBA; padding:10px; background-color:#E0F7FA;\">\n",
    "\n",
    "## 💡 Praxistipp\n",
    "\n",
    "Wenn ein `unsigned int` den Wert `0` hat und um `1` dekrementiert wird, tritt ein sogenannter **Umbruch** oder **Wrap-around** ein. Das bedeutet, dass der Wert von `0` zum maximal möglichen Wert für diesen Datentyp zurückspringt.\n",
    "\n",
    "### Erklärung des Umbruchs bei `unsigned int`\n",
    "\n",
    "Ein `unsigned int` (ohne Vorzeichen) kann nur positive Werte und `0` speichern. Nehmen wir an, wir haben einen 32-Bit-`unsigned int`. Die Werte reichen dann von `0` bis `2^32 - 1` (das ist `4.294.967.295`).\n",
    "\n",
    "- Wenn du also `0` um `1` dekrementierst, gibt es keine Möglichkeit, einen negativen Wert zu speichern.\n",
    "- Stattdessen springt der Wert auf das höchste mögliche Ergebnis für diesen Datentyp: `4.294.967.295`.\n",
    "\n",
    "Dies wird als **Umbruch** bezeichnet, da der Wert wie ein Zähler \"um die Null herum\" auf den maximal möglichen Wert \"umbricht\".\n",
    "\n",
    "Hier ein Beispiel, das zu einem Absturz führt, da durch den Umbruch auf eine Stelle im Array zugegriffen wird, die weit außerhalb des Arrays liegt.\n",
    "\n",
    "Um das Beispiel zu verstehen, solltest du folgende Kapitel kennen:\n",
    "\n",
    "[Grundlagen weiterer Operatoren](./CSharp_Other_Operators_Basics.de.ipynb) →\n",
    "\n",
    "[Bedingte Anweisungen in C#](./CSharp_Conditional.de.ipynb) →\n",
    "\n",
    "[Schleifen in C#](./CSharp_Loops.de.ipynb) →\n",
    "\n",
    "</div>"
   ]
  },
  {
   "cell_type": "code",
   "execution_count": 8,
   "metadata": {
    "dotnet_interactive": {
     "language": "csharp"
    },
    "polyglot_notebook": {
     "kernelName": "csharp"
    },
    "vscode": {
     "languageId": "polyglot-notebook"
    }
   },
   "outputs": [
    {
     "name": "stdout",
     "output_type": "stream",
     "text": [
      "test[5]:F\n",
      "test[4]:E\n",
      "test[3]:D\n",
      "test[2]:C\n",
      "test[1]:B\n",
      "test[0]:A\n",
      "test[4294967295]:"
     ]
    },
    {
     "ename": "Error",
     "evalue": "System.IndexOutOfRangeException: Index was outside the bounds of the array.\n   at System.String.get_Chars(Int32 index)\n   at Submission#9.<<Initialize>>d__0.MoveNext()\n--- End of stack trace from previous location ---\n   at Microsoft.CodeAnalysis.Scripting.ScriptExecutionState.RunSubmissionsAsync[TResult](ImmutableArray`1 precedingExecutors, Func`2 currentExecutor, StrongBox`1 exceptionHolderOpt, Func`2 catchExceptionOpt, CancellationToken cancellationToken)",
     "output_type": "error",
     "traceback": [
      "System.IndexOutOfRangeException: Index was outside the bounds of the array.\n",
      "   at System.String.get_Chars(Int32 index)\n",
      "   at Submission#9.<<Initialize>>d__0.MoveNext()\n",
      "--- End of stack trace from previous location ---\n",
      "   at Microsoft.CodeAnalysis.Scripting.ScriptExecutionState.RunSubmissionsAsync[TResult](ImmutableArray`1 precedingExecutors, Func`2 currentExecutor, StrongBox`1 exceptionHolderOpt, Func`2 catchExceptionOpt, CancellationToken cancellationToken)"
     ]
    }
   ],
   "source": [
    "uint zaehler = 5; // Initialisierung eines Integers namens \"zaehler\" mit dem Wert 5\n",
    "string test = \"ABCDEF\"; // Initialisierung einer Zeichenkette (String) \"test\" mit dem Wert \"ABCDEF\"\n",
    "char search = '9'; // Initialisierung einer char-Variable \"search\" mit dem Zeichen '9'\n",
    "\n",
    "// Die while-Schleife wird so lange ausgeführt, wie der Wert von \"zaehler\" größer oder gleich 0 ist.\n",
    "while (zaehler >= 0) { \n",
    "    // Gibt den Index und den aktuellen Wert des Zeichens in der Zeichenkette \"test\" an der Position \"zaehler\" aus.\n",
    "    Console.Write($\"test[{zaehler}]:\"); \n",
    "    Console.WriteLine($\"{test[(int)zaehler]}\"); // Gibt das Zeichen in \"test\" an der Stelle \"zaehler\" aus.\n",
    "    \n",
    "    // Überprüft, ob das aktuelle Zeichen in \"test\" an der Position \"zaehler\" dem Suchzeichen \"search\" entspricht.\n",
    "    if (test[(int)zaehler] == search) { \n",
    "        Console.WriteLine(\"Treffer\"); // Gibt \"Treffer\" aus, wenn das Suchzeichen gefunden wurde.\n",
    "        break; // Beendet die Schleife, wenn das Suchzeichen gefunden wurde.\n",
    "    }\n",
    "\n",
    "    // Verringert den Wert von \"zaehler\" um 1 und fährt mit der nächsten Iteration der Schleife fort.\n",
    "    zaehler = zaehler - 1;\n",
    "}\n",
    "\n",
    "// Diese Anweisung wird ausgeführt, wenn die Schleife endet (entweder durch das \"break\" oder weil \"zaehler\" kleiner als 0 ist).\n",
    "Console.WriteLine(\"Ende\");"
   ]
  },
  {
   "cell_type": "markdown",
   "metadata": {},
   "source": [
    "<div style=\"border:2px solid #008CBA; padding:10px; background-color:#E0F7FA;\">\n",
    "\n",
    "### Zusammenfassung des Programmablaufs:\n",
    "\n",
    "1.  Der  `zaehler`  wird auf den Wert  `5`  gesetzt, um von der letzten Position der Zeichenkette  `test`  zu starten.\n",
    "2.  Die  `while`-Schleife läuft, bis  `zaehler`  negativ wird.\n",
    "3.  Innerhalb der Schleife wird jedes Zeichen in  `test`  an der aktuellen Position ausgegeben.\n",
    "4.  Falls das Zeichen  `search`  (der Wert  `'9'`) in  `test`  gefunden wird, wird  `Treffer`  ausgegeben, und die Schleife wird mit  `break`  beendet.\n",
    "5.  Der Wert von  `zaehler`  wird nach jeder Iteration um 1 verringert.\n",
    "6.  Wenn die Schleife endet, gibt das Programm  `Ende`  aus.\n",
    "\n",
    "**Hinweis:**  Die Schleife führt zu einem Fehler, da  `zaehler`  irgendwann auf  `-1`  sinkt, wodurch ein Fehler bei der Indexierung von  `test`  entsteht.\n",
    "\n",
    "</div>"
   ]
  },
  {
   "cell_type": "markdown",
   "metadata": {},
   "source": [
    "## Beispiele zur Verwendung\n",
    "\n",
    "### sbyte\n",
    "```csharp\n",
    "sbyte a = -100;\n",
    "Console.WriteLine(a);\n",
    "```\n",
    "\n",
    "### byte\n",
    "```csharp\n",
    "byte b = 255;\n",
    "Console.WriteLine(b);\n",
    "```\n",
    "\n",
    "### short\n",
    "```csharp\n",
    "short c = -30000;\n",
    "Console.WriteLine(c);\n",
    "```\n",
    "\n",
    "### ushort\n",
    "```csharp\n",
    "ushort d = 65000;\n",
    "Console.WriteLine(d);\n",
    "```\n",
    "\n",
    "### int\n",
    "```csharp\n",
    "int e = 2000000000;\n",
    "Console.WriteLine(e);\n",
    "```\n",
    "\n",
    "### uint\n",
    "```csharp\n",
    "uint f = 4000000000;\n",
    "Console.WriteLine(f);\n",
    "```\n",
    "\n",
    "### long\n",
    "```csharp\n",
    "long g = -9000000000000000000;\n",
    "Console.WriteLine(g);\n",
    "```\n",
    "\n",
    "### ulong\n",
    "```csharp\n",
    "ulong h = 18000000000000000000;\n",
    "Console.WriteLine(h);\n",
    "```\n"
   ]
  },
  {
   "cell_type": "markdown",
   "metadata": {},
   "source": [
    "## Ganzzahlenliterale\n",
    "\n",
    "In C# können ganzzahlige Literale auf verschiedene Arten dargestellt werden:\n",
    "- **Dezimal:** `int x = 123;`\n",
    "- **Hexadezimal:** `int y = 0x7B; // 123 in Hexadezimal`\n",
    "- **Binär:** `int z = 0b1111011; // 123 in Binär`\n",
    "- **Oktal:** C# unterstützt keine Oktaldarstellung direkt, aber man kann eine Umrechnung vornehmen.\n",
    "\n",
    "### Beispiel für ganzzahlige Literale\n",
    "```csharp\n",
    "int dezimal = 123;\n",
    "int hexadezimal = 0x7B;\n",
    "int binaer = 0b1111011;\n",
    "Console.WriteLine(dezimal);\n",
    "Console.WriteLine(hexadezimal);\n",
    "Console.WriteLine(binaer);\n",
    "```\n"
   ]
  },
  {
   "cell_type": "markdown",
   "metadata": {},
   "source": [
    "## Konvertierungen\n",
    "\n",
    "In C# können Sie zwischen verschiedenen ganzzahligen Typen konvertieren. Einige Konvertierungen sind implizit (automatisch) und andere erfordern eine explizite Umwandlung:\n",
    "\n",
    "- **Implizite Konvertierung:** von `byte` nach `int`.\n",
    "- **Explizite Konvertierung:** von `int` nach `byte`.\n",
    "\n",
    "### Beispiel für Konvertierungen"
   ]
  },
  {
   "cell_type": "code",
   "execution_count": 6,
   "metadata": {
    "dotnet_interactive": {
     "language": "csharp"
    },
    "polyglot_notebook": {
     "kernelName": "csharp"
    },
    "vscode": {
     "languageId": "polyglot-notebook"
    }
   },
   "outputs": [
    {
     "name": "stdout",
     "output_type": "stream",
     "text": [
      "255\n",
      "44\n"
     ]
    }
   ],
   "source": [
    "byte b = 255;\n",
    "int i = b; // implizite Konvertierung\n",
    "Console.WriteLine(i);\n",
    "\n",
    "int j = 300;\n",
    "byte c = (byte)j; // explizite Konvertierung\n",
    "Console.WriteLine(c);"
   ]
  },
  {
   "cell_type": "markdown",
   "metadata": {},
   "source": [
    "← [Wichtige Konzepte im Zusammenhang mit Variablen in C#](../CSharp_Introduction.de.ipynb#Wichtige-Konzepte-im-Zusammenhang-mit-Variablen)"
   ]
  }
 ],
 "metadata": {
  "kernelspec": {
   "display_name": ".NET (C#)",
   "language": "C#",
   "name": ".net-csharp"
  },
  "language_info": {
   "codemirror_mode": {
    "name": "ipython",
    "version": 3
   },
   "file_extension": ".py",
   "mimetype": "text/x-python",
   "name": "python",
   "nbconvert_exporter": "python",
   "pygments_lexer": "ipython3",
   "version": "3.8.5"
  },
  "polyglot_notebook": {
   "kernelInfo": {
    "defaultKernelName": "csharp",
    "items": [
     {
      "aliases": [],
      "name": "csharp"
     }
    ]
   }
  }
 },
 "nbformat": 4,
 "nbformat_minor": 4
}
