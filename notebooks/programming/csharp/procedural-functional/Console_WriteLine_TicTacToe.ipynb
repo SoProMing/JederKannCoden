{
 "cells": [
  {
   "cell_type": "markdown",
   "id": "3adfadcf",
   "metadata": {},
   "source": [
    "# C# WriteLine & TicTacToe\n",
    "\n",
    "<table border=\"0\">\n",
    "  <tr>\n",
    "    <td>\n",
    "        <img src=\"writeline.webp\" style=\"width:280px; height:280px;\">\n",
    "    </td>\n",
    "    <td rowspan=\"2\">\n",
    "        <img src=\"Radar_WriteLine.de.jpg\" style=\"width:480px;\"\n",
    "    </td>\n",
    "  </tr>\n",
    "  <tr>\n",
    "    <td>\n",
    "      <a href=\"https://learn.microsoft.com/de-de/dotnet/api/system.console.writeline?view=net-5.0\">Link zur Microsoft Dokumentation</a><br>\n",
    "      <a href=\"Console_WriteLine_Samples.de.ipynb\">Link zu WriteLine Samples</a><br>\n",
    "      <a href=\"Console_WriteLine_TicTacToe.ipynb\">Link zu WriteLine & TicTacToe</a>\n",
    "      <a href=\"https://miro.com/app/board/o9J_lOJi2o0=/?moveToWidget=3458764554347680798&cot=14\">Link zum roten Faden auf Miro</a>\n",
    "    </td>\n",
    "  </tr>\n",
    "</table>"
   ]
  },
  {
   "cell_type": "markdown",
   "id": "34d68b03",
   "metadata": {},
   "source": [
    "Um ein Tic-Tac-Toe-Spielbrett zu malen, kannst du die Methode Console.WriteLine() verwenden, um den aktuellen Zustand des Bretts zu zeichnen. Das Brett besteht aus 3x3 Feldern, die entweder leer sind oder ein \"X\" oder \"O\" enthalten. Fangen wir mit einem leeren Brett an:"
   ]
  },
  {
   "cell_type": "code",
   "execution_count": null,
   "id": "d549d608",
   "metadata": {
    "vscode": {
     "languageId": "polyglot-notebook"
    }
   },
   "outputs": [],
   "source": [
    "// Malen des leeren Tic-Tac-Toe-Bretts\n",
    "Console.WriteLine(\"   |   |   \");  // Erste Reihe\n",
    "Console.WriteLine(\"---+---+---\");  // Trennlinie\n",
    "Console.WriteLine(\"   |   |   \");  // Zweite Reihe\n",
    "Console.WriteLine(\"---+---+---\");  // Trennlinie\n",
    "Console.WriteLine(\"   |   |   \");  // Dritte Reihe"
   ]
  },
  {
   "cell_type": "markdown",
   "id": "caa10411",
   "metadata": {},
   "source": [
    "Und nun erweitert um 9 Variablen:"
   ]
  },
  {
   "cell_type": "code",
   "execution_count": 2,
   "id": "e4417676",
   "metadata": {
    "vscode": {
     "languageId": "polyglot-notebook"
    }
   },
   "outputs": [
    {
     "name": "stdout",
     "output_type": "stream",
     "text": [
      "   |   |   \n",
      "---+---+---\n",
      "   |   |   \n",
      "---+---+---\n",
      "   |   |   \n"
     ]
    }
   ],
   "source": [
    "string a = \" \", b = \" \", c = \" \", d = \" \", e = \" \", f = \" \", g = \" \", h = \" \", i = \" \";\n",
    "\n",
    "// Malen des leeren Tic-Tac-Toe-Bretts\n",
    "Console.WriteLine($\" {a} | {b} | {c} \");  // Erste Reihe\n",
    "Console.WriteLine($\"---+---+---\");  // Trennlinie\n",
    "Console.WriteLine($\" {d} | {e} | {f} \");  // Zweite Reihe\n",
    "Console.WriteLine($\"---+---+---\");  // Trennlinie\n",
    "Console.WriteLine($\" {g} | {h} | {i} \");  // Dritte Reihe"
   ]
  }
 ],
 "metadata": {
  "kernelspec": {
   "display_name": ".NET (C#)",
   "language": "C#",
   "name": ".net-csharp"
  },
  "language_info": {
   "name": "C#"
  },
  "polyglot_notebook": {
   "kernelInfo": {
    "defaultKernelName": "csharp",
    "items": [
     {
      "aliases": [],
      "name": "csharp"
     }
    ]
   }
  }
 },
 "nbformat": 4,
 "nbformat_minor": 5
}
