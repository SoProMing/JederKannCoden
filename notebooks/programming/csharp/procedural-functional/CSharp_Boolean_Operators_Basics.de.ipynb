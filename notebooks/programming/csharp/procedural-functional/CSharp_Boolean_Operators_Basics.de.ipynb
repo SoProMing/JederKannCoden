{
 "cells": [
  {
   "cell_type": "markdown",
   "metadata": {},
   "source": [
    "[Jeder kann coden](../../abstract/Contents.de.ipynb) / [Programmieren & TicTacToe](../../Programming_And_TicTacToe.de.ipynb) / [C# Einführung](../CSharp_Introduction.de.ipynb) / [Operatoren Übersicht](../CSharp_Introduction/Operators.de.ipynb)\n",
    "\n",
    "# Grundlagen Boolesche Operatoren\n",
    "\n",
    "<table border=\"0\">\n",
    "  <tr>\n",
    "    <td>\n",
    "        <img src=\"boolean_operators.webp\">\n",
    "    </td>\n",
    "    <td rowspan=\"2\">\n",
    "        <a href=\"https://miro.com/app/board/o9J_lOJi2o0=/?moveToWidget=3458764554347680798&cot=14\"><img src=\"Radar_Bool.de.jpg\"></a>\n",
    "    </td>\n",
    "  </tr>\n",
    "  <tr>\n",
    "    <td>\n",
    "      <a href=\"https://learn.microsoft.com/de-de/dotnet/csharp/language-reference/operators/boolean-logical-operators\">Link zur Microsoft Dokumentation</a><br>\n",
    "      <a href=\"https://miro.com/app/board/o9J_lOJi2o0=/?moveToWidget=3458764554345659189&cot=14\">Link zum roten Faden auf Miro</a><br>\n",
    "      <a href=\"https://www.w3schools.com/cs/cs_operators_logical.php\">Link zu Tutorial auf w3schools</a>\n",
    "    </td>\n",
    "  </tr>\n",
    "</table>"
   ]
  },
  {
   "cell_type": "markdown",
   "metadata": {},
   "source": [
    "## Boolesche Algebra\n",
    "\n",
    "### 1. Einleitung in die boolsche Algebra\n",
    "\n",
    "-   **Definition**\n",
    "    \n",
    "    -   Mathematisches System für Wahrheitswerte\n",
    "    -   Grundlage für digitale Logik und Programmierung\n",
    "-   **Bedeutung in der Informatik**\n",
    "    \n",
    "    -   Zentral für digitale Schaltungen\n",
    "    -   Relevant in Datenbankabfragen und Algorithmen\n",
    "-   **Geschichte**\n",
    "    \n",
    "    -   Entwickelt von George Boole im 19. Jahrhundert\n",
    "    -   Grundlage für moderne Computertechnik\n",
    "-   **Anwendungsbeispiele**\n",
    "    \n",
    "    -   **Digitale Schaltungen**: Logikgatter in Hardware\n",
    "    -   **Suchalgorithmen**: Datenfilterung in Datenbanken\n",
    "    -   **Programmiersprachen**: Steuerung des Programmflusses\n",
    "\n",
    "<details>\n",
    "<summary>Ausführliche Erklärung...</summary>\n",
    "Die boolesche Algebra ist ein mathematisches System, das auf den Wahrheitswerten basiert und die logische Verarbeitung von Informationen ermöglicht. Sie ist die Grundlage für digitale Schaltungen und Programmierung.\n",
    "  \n",
    "**Bedeutung in der Informatik**\n",
    "Boolesche Algebra spielt eine zentrale Rolle in der Computerwissenschaft, insbesondere in der digitalen Logik, Datenbankabfragen, Programmierung und Algorithmusentwicklung. Sie ermöglicht es, komplexe logische Bedingungen zu formulieren und zu verarbeiten.\n",
    "\n",
    "**Geschichte**\n",
    "George Boole, ein englischer Mathematiker, entwickelte im 19. Jahrhundert die Grundprinzipien der booleschen Algebra. Seine Arbeit führte zur Formulierung der booleschen Operationen, die für die moderne Computertechnik von entscheidender Bedeutung sind.\n",
    "\n",
    "- **Anwendungsbeispiele**\n",
    "  - Boolesche Algebra wird in einer Vielzahl von Anwendungen eingesetzt, darunter:\n",
    "    - **Digitale Schaltungen**: Logikgatter, die in der Hardwareentwicklung verwendet werden.\n",
    "    - **Suchalgorithmen**: Bedingungen zur Filterung von Daten in Datenbanken.\n",
    "    - **Programmiersprachen**: Verwendung von booleschen Ausdrücken zur Steuerung des Programmflusses.\n",
    "</details>\n",
    "\n",
    "### 2. Boolesche Operatoren in C#\n",
    "#### 2.1 AND-Operator (`&&`)\n",
    "\n",
    "**Erklärung:**\n",
    "Der AND-Operator (`&&`) gibt true zurück, wenn beide Operanden true sind. Dies ist besonders nützlich, um komplexe Bedingungen zu formulieren.\n",
    "\n",
    "💡 Dieser Operator hat Laufzeitvorteile, da er den zweiten Operanden nur auswertet, wenn der erste `true` ist. Er wird daher auch bedingter Operator genannt."
   ]
  },
  {
   "cell_type": "code",
   "execution_count": null,
   "metadata": {
    "dotnet_interactive": {
     "language": "csharp"
    },
    "polyglot_notebook": {
     "kernelName": "csharp"
    },
    "vscode": {
     "languageId": "polyglot-notebook"
    }
   },
   "outputs": [],
   "source": [
    "bool a = true;\n",
    "bool b = false;\n",
    "bool result = a && b; // result ist false"
   ]
  },
  {
   "cell_type": "markdown",
   "metadata": {},
   "source": [
    "\n",
    "#### 2.2 OR-Operator (`||`)\n",
    "\n",
    "**Erklärung:**\n",
    "Der OR-Operator (`||`) gibt true zurück, wenn mindestens einer der Operanden true ist. Dies ermöglicht die Definition von Alternativen in logischen Ausdrücken.\n",
    "\n",
    "💡 Dieser Operator hat Laufzeitvorteile, da er den zweiten Operanden nur auswertet, wenn der erste `false` ist. Er wird daher ebenfalls bedingter Operator genannt."
   ]
  },
  {
   "cell_type": "code",
   "execution_count": null,
   "metadata": {
    "dotnet_interactive": {
     "language": "csharp"
    },
    "polyglot_notebook": {
     "kernelName": "csharp"
    },
    "vscode": {
     "languageId": "polyglot-notebook"
    }
   },
   "outputs": [],
   "source": [
    "bool a = true;\n",
    "bool b = false;\n",
    "bool result = a || b; // result ist true"
   ]
  },
  {
   "cell_type": "markdown",
   "metadata": {},
   "source": [
    "#### 2.3 NOT-Operator (`!`)\n",
    "\n",
    "**Erklärung:**\n",
    "Der NOT-Operator (`!`) kehrt den booleschen Wert um. Wenn der Operand true ist, wird er zu false und umgekehrt."
   ]
  },
  {
   "cell_type": "code",
   "execution_count": null,
   "metadata": {
    "dotnet_interactive": {
     "language": "csharp"
    },
    "polyglot_notebook": {
     "kernelName": "csharp"
    },
    "vscode": {
     "languageId": "polyglot-notebook"
    }
   },
   "outputs": [],
   "source": [
    "bool a = true;\n",
    "bool result = !a; // result ist false"
   ]
  },
  {
   "cell_type": "markdown",
   "metadata": {},
   "source": [
    "#### 2.4 Bitwise AND-Operator (`&`)\n",
    "\n",
    "**Erklärung:**\n",
    "Der bitweise AND-Operator (`&`) führt eine bitweise AND-Operation durch. Dies ist nützlich, um mit Ganzzahlen auf Bit-Ebene zu arbeiten."
   ]
  },
  {
   "cell_type": "code",
   "execution_count": null,
   "metadata": {
    "dotnet_interactive": {
     "language": "csharp"
    },
    "polyglot_notebook": {
     "kernelName": "csharp"
    },
    "vscode": {
     "languageId": "polyglot-notebook"
    }
   },
   "outputs": [],
   "source": [
    "int a = 5; // (0101)\n",
    "int b = 3; // (0011)\n",
    "int result = a & b; // result ist 1 (0001)"
   ]
  },
  {
   "cell_type": "markdown",
   "metadata": {},
   "source": [
    "#### 2.5 Bitwise OR-Operator (`|`)\n",
    "\n",
    "**Erklärung:**\n",
    "Der bitweise OR-Operator (`|`) führt eine bitweise OR-Operation durch, die die Bits beider Operanden vergleicht."
   ]
  },
  {
   "cell_type": "code",
   "execution_count": null,
   "metadata": {
    "dotnet_interactive": {
     "language": "csharp"
    },
    "polyglot_notebook": {
     "kernelName": "csharp"
    },
    "vscode": {
     "languageId": "polyglot-notebook"
    }
   },
   "outputs": [],
   "source": [
    "int a = 5; // (0101)\n",
    "int b = 3; // (0011)\n",
    "int result = a | b; // result ist 7 (0111)"
   ]
  },
  {
   "cell_type": "markdown",
   "metadata": {},
   "source": [
    "#### 2.6 Bitwise XOR-Operator (`^`)\n",
    "\n",
    "**Erklärung:**\n",
    "Der bitweise XOR-Operator (`^`) gibt true zurück, wenn die Operanden unterschiedlich sind. Dies ist nützlich, um Unterschiede zwischen zwei Zahlen zu identifizieren."
   ]
  },
  {
   "cell_type": "code",
   "execution_count": 3,
   "metadata": {
    "dotnet_interactive": {
     "language": "csharp"
    },
    "polyglot_notebook": {
     "kernelName": "csharp"
    },
    "vscode": {
     "languageId": "polyglot-notebook"
    }
   },
   "outputs": [
    {
     "name": "stdout",
     "output_type": "stream",
     "text": [
      "6 5\n"
     ]
    }
   ],
   "source": [
    "int a = 5; // (0101)\n",
    "int b = 3; // (0011)\n",
    "int result = a ^ b; // result ist 6 (0110)\n",
    "\n",
    "int c = result  ^ b;\n",
    "Console.WriteLine(result + \" \" + c);"
   ]
  },
  {
   "cell_type": "markdown",
   "metadata": {},
   "source": [
    "### 3. Distributivgesetz\n",
    "\n",
    "**Erklärung:**\n",
    "Das Distributivgesetz in der booleschen Algebra beschreibt, wie sich Operationen auf eine bestimmte Weise verteilen. Es wird formuliert als:\n",
    "\n",
    "- $( A \\land (B \\lor C) = (A \\land B) \\lor (A \\land C) )$\n",
    "- $( A \\lor (B \\land C) = (A \\lor B) \\land (A \\lor C) )$\n",
    "\n",
    "**Beispiele:**\n",
    "\n",
    "1. **AND über OR**:"
   ]
  },
  {
   "cell_type": "code",
   "execution_count": null,
   "metadata": {
    "dotnet_interactive": {
     "language": "csharp"
    },
    "polyglot_notebook": {
     "kernelName": "csharp"
    },
    "vscode": {
     "languageId": "polyglot-notebook"
    }
   },
   "outputs": [],
   "source": [
    "bool A = true;\n",
    "bool B = false;\n",
    "bool C = true;\n",
    "bool result = A && (B || C); // result ist true\n",
    "// Entsprechend dem Distributivgesetz:\n",
    "bool result2 = (A && B) || (A && C); // result2 ist true"
   ]
  },
  {
   "cell_type": "markdown",
   "metadata": {},
   "source": [
    "2. **OR über AND**:"
   ]
  },
  {
   "cell_type": "code",
   "execution_count": null,
   "metadata": {
    "dotnet_interactive": {
     "language": "csharp"
    },
    "polyglot_notebook": {
     "kernelName": "csharp"
    },
    "vscode": {
     "languageId": "polyglot-notebook"
    }
   },
   "outputs": [],
   "source": [
    "bool A = true;\n",
    "bool B = false;\n",
    "bool C = false;\n",
    "bool result = A || (B && C); // result ist true\n",
    "// Entsprechend dem Distributivgesetz:\n",
    "bool result2 = (A || B) && (A || C); // result2 ist true"
   ]
  },
  {
   "cell_type": "markdown",
   "metadata": {},
   "source": [
    "### 4. De Morgansche Gesetze\n",
    "\n",
    "Die beiden Gesetze lauten:\n",
    "\n",
    "1.  $¬(A∧B)=¬A∨¬B¬(A∧B)=¬A∨¬B$\n",
    "2.  $¬(A∨B)=¬A∧¬B¬(A∨B)=¬A∧¬B$\n",
    "\n",
    "### Bedeutung\n",
    "\n",
    "-   Das erste Gesetz besagt, dass die Negation eines AND-Ausdrucks gleich der Disjunktion (OR) der Negationen der einzelnen Terme ist.\n",
    "-   Das zweite Gesetz besagt, dass die Negation eines OR-Ausdrucks gleich der Konjunktion (AND) der Negationen der einzelnen Terme ist.\n",
    "\n",
    "### Beispiele in C#\n",
    "\n",
    "1.  **Erstes Gesetz**:"
   ]
  },
  {
   "cell_type": "code",
   "execution_count": null,
   "metadata": {
    "dotnet_interactive": {
     "language": "csharp"
    },
    "polyglot_notebook": {
     "kernelName": "csharp"
    },
    "vscode": {
     "languageId": "polyglot-notebook"
    }
   },
   "outputs": [],
   "source": [
    "bool A = true;\n",
    "bool B = false;\n",
    "bool result = !(A && B); // result ist true\n",
    "// Entsprechend dem De Morganschen Gesetz:\n",
    "bool result2 = !A || !B; // result2 ist true"
   ]
  },
  {
   "cell_type": "markdown",
   "metadata": {},
   "source": [
    "2.  **Zweites Gesetz**:"
   ]
  },
  {
   "cell_type": "code",
   "execution_count": null,
   "metadata": {
    "dotnet_interactive": {
     "language": "csharp"
    },
    "polyglot_notebook": {
     "kernelName": "csharp"
    },
    "vscode": {
     "languageId": "polyglot-notebook"
    }
   },
   "outputs": [],
   "source": [
    "bool A = true;\n",
    "bool B = false;\n",
    "bool result = !(A || B); // result ist false\n",
    "// Entsprechend dem De Morganschen Gesetz:\n",
    "bool result2 = !A && !B; // result2 ist false"
   ]
  },
  {
   "cell_type": "markdown",
   "metadata": {},
   "source": [
    "Diese Gesetze sind sehr nützlich in der Logik und der Programmierung, insbesondere bei der Vereinfachung von booleschen Ausdrücken und der Analyse von Bedingungen.\n",
    "\n",
    "### 4. Komplexe boolesche Ausdrücke\n",
    "\n",
    "**Erklärung:**\n",
    "Komplexe boolesche Ausdrücke können durch die Kombination mehrerer Operatoren gebildet werden. Dabei ist die Reihenfolge der Operationen wichtig."
   ]
  },
  {
   "cell_type": "code",
   "execution_count": null,
   "metadata": {
    "dotnet_interactive": {
     "language": "csharp"
    },
    "polyglot_notebook": {
     "kernelName": "csharp"
    },
    "vscode": {
     "languageId": "polyglot-notebook"
    }
   },
   "outputs": [],
   "source": [
    "bool a = true;\n",
    "bool b = false;\n",
    "bool c = true;\n",
    "bool result = a && (b || c); // result ist true"
   ]
  },
  {
   "cell_type": "markdown",
   "metadata": {},
   "source": [
    "### 5. Anwendungen der booleschen Algebra\n",
    "- [**Verzweigungen**](CSharp_Conditional.de.ipynb) \n",
    "- [**Schleifen**](CSharp_Loops.de.ipynb)\n",
    "\n",
    "**Erklärung:**\n",
    "Boolesche Ausdrücke sind grundlegend für Kontrollstrukturen in der Programmierung, wie if-Anweisungen und Schleifen. Sie steuern den Fluss von Programmen und ermöglichen die Ausführung bestimmter Codeabschnitte unter bestimmten Bedingungen.\n",
    "\n",
    "Ein Beispiel könnte die Verwendung von booleschen Ausdrücken in einem Such- oder Sortieralgorithmus sein, wo Bedingungen über die zu vergleichenden Elemente entscheiden, wie die Iterationen stattfinden."
   ]
  },
  {
   "cell_type": "markdown",
   "metadata": {},
   "source": [
    "← [Übersicht zu Operatoren in C#](../CSharp_Introduction.de.ipynb#operatoren)\n",
    "\n",
    "[Weitere Operatoren in C#](./CSharp_Other_Operators_Basics.de.ipynb) →"
   ]
  }
 ],
 "metadata": {
  "kernelspec": {
   "display_name": ".NET (C#)",
   "language": "C#",
   "name": ".net-csharp"
  },
  "language_info": {
   "name": "python",
   "version": "3.10.5"
  },
  "polyglot_notebook": {
   "kernelInfo": {
    "defaultKernelName": "csharp",
    "items": [
     {
      "aliases": [],
      "name": "csharp"
     }
    ]
   }
  }
 },
 "nbformat": 4,
 "nbformat_minor": 2
}
