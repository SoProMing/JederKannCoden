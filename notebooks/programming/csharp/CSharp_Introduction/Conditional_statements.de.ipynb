{
 "cells": [
  {
   "cell_type": "markdown",
   "metadata": {},
   "source": [
    "[Jeder kann coden](../../abstract/Contents.de.ipynb) / [Programmieren & TicTacToe](../../Programming_And_TicTacToe.de.ipynb) / [C# Einführung](../CSharp_Introduction.de.ipynb)\n",
    "\n",
    "# Bedingte Anweisungen\n",
    "\n",
    "<table border=\"0\">\n",
    "  <tr>\n",
    "    <td>\n",
    "        <img src=\"Conditional_Statements.webp\">\n",
    "    </td>\n",
    "    <td rowspan=\"2\">\n",
    "        <a href=\"https://miro.com/app/board/o9J_lOJi2o0=/?moveToWidget=3458764554347680798&cot=14\"><img src=\"Radar_Conditional_Statements.de.jpg\"></a>\n",
    "    </td>\n",
    "  </tr>\n",
    "  <tr>\n",
    "    <td>\n",
    "      <a href=\"https://learn.microsoft.com/de-de/dotnet/csharp/language-reference/statements/selection-statements\">Link zur Microsoft Dokumentation</a><br>\n",
    "      <a href=\"https://miro.com/app/board/o9J_lOJi2o0=/?moveToWidget=3458764554347680798&cot=14\">Link zum roten Faden auf Miro</a><br>\n",
    "      <a href=\"https://www.w3schools.com/cs/cs_conditions.php\">Link zu Tutorial auf w3schools</a>\n",
    "    </td>\n",
    "  </tr>\n",
    "</table>"
   ]
  },
  {
   "cell_type": "markdown",
   "metadata": {},
   "source": [
    "<div style=\"border:2px solidrgb(188, 236, 252); padding:10px; background-color:#E0F7FA;\">\n",
    "\n",
    "[🤖 Code passend zu diesem notebook online auf dotnetfiddle zum Laufen bringen](https://dotnetfiddle.net/70ouqP)\n",
    "\n",
    "</div>\n",
    "\n",
    "Bedingte Anweisungen wie  `if`,  `else`, und  `switch`  ermöglichen es, verschiedene Codepfade basierend auf bestimmten Bedingungen auszuführen.\n",
    "\n",
    "### Beispiel mit  `if`:"
   ]
  },
  {
   "cell_type": "code",
   "execution_count": 46,
   "metadata": {
    "dotnet_interactive": {
     "language": "csharp"
    },
    "polyglot_notebook": {
     "kernelName": "csharp"
    },
    "vscode": {
     "languageId": "polyglot-notebook"
    }
   },
   "outputs": [
    {
     "name": "stdout",
     "output_type": "stream",
     "text": [
      "You are an adult.\n",
      "With pension.\n"
     ]
    }
   ],
   "source": [
    "int age = 65;\n",
    "\n",
    "if (age >= 18)\n",
    "{\n",
    "    Console.WriteLine(\"You are an adult.\");\n",
    "    if (age >= 64)\n",
    "    {\n",
    "        Console.WriteLine(\"With pension.\");\n",
    "    }\n",
    "}\n",
    "else if ( age < 4 )\n",
    "{\n",
    "    Console.WriteLine(\"You are a toddler.\");\n",
    "}\n",
    "else\n",
    "{\n",
    "    Console.WriteLine(\"You are not an adult.\");\n",
    "}"
   ]
  },
  {
   "cell_type": "markdown",
   "metadata": {},
   "source": [
    "### Switch Anweisung\n",
    "\n",
    "Die  `switch`-Anweisung bietet eine strukturierte Möglichkeit, mehrere Bedingungen zu prüfen:"
   ]
  },
  {
   "cell_type": "code",
   "execution_count": 39,
   "metadata": {
    "dotnet_interactive": {
     "language": "csharp"
    },
    "polyglot_notebook": {
     "kernelName": "csharp"
    },
    "vscode": {
     "languageId": "polyglot-notebook"
    }
   },
   "outputs": [
    {
     "name": "stdout",
     "output_type": "stream",
     "text": [
      "Another day\n"
     ]
    }
   ],
   "source": [
    "int day = 3;\n",
    "switch (day)\n",
    "{\n",
    "    case 1:\n",
    "        Console.WriteLine(\"Monday\");\n",
    "        break;\n",
    "    case 2:\n",
    "        Console.WriteLine(\"Tuesday\");\n",
    "        break;\n",
    "    default:\n",
    "        Console.WriteLine(\"Another day\");\n",
    "        break;\n",
    "}"
   ]
  },
  {
   "cell_type": "markdown",
   "metadata": {},
   "source": [
    "[Mehr zu bedingten Anweisungen in C#](../procedural-functional/CSharp_Conditional.de.ipynb) →"
   ]
  }
 ],
 "metadata": {
  "kernelspec": {
   "display_name": ".NET (C#)",
   "language": "C#",
   "name": ".net-csharp"
  },
  "language_info": {
   "name": "python"
  },
  "polyglot_notebook": {
   "kernelInfo": {
    "defaultKernelName": "csharp",
    "items": [
     {
      "aliases": [],
      "name": "csharp"
     }
    ]
   }
  }
 },
 "nbformat": 4,
 "nbformat_minor": 2
}
