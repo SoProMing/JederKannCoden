{
 "cells": [
  {
   "cell_type": "markdown",
   "metadata": {},
   "source": [
    "[Jeder kann coden](../../abstract/Contents.de.ipynb) / [Programmieren & TicTacToe](../../Programming_And_TicTacToe.de.ipynb) / [C# Einführung](../CSharp_Introduction.de.ipynb)\n",
    "\n",
    "# Schleifen\n",
    "\n",
    "<table border=\"0\">\n",
    "  <tr>\n",
    "    <td>\n",
    "        <img src=\"Loops.webp\">\n",
    "    </td>\n",
    "    <td rowspan=\"2\">\n",
    "        <a href=\"https://miro.com/app/board/o9J_lOJi2o0=/?moveToWidget=3458764554347680798&cot=14\"><img src=\"Radar_Loops.de.jpg\"></a>\n",
    "    </td>\n",
    "  </tr>\n",
    "  <tr>\n",
    "    <td>\n",
    "      <a href=\"https://learn.microsoft.com/de-de/dotnet/csharp/language-reference/statements/iteration-statements\">Link zur Microsoft Dokumentation</a><br>\n",
    "      <a href=\"https://miro.com/app/board/o9J_lOJi2o0=/?moveToWidget=3458764554347680798&cot=14\">Link zum roten Faden auf Miro</a><br>\n",
    "      <a href=\"https://www.w3schools.com/cs/cs_while_loop.php\">Link zu Tutorial auf w3schools</a>\n",
    "    </td>\n",
    "  </tr>\n",
    "</table>\n",
    "\n",
    "### for Schleife\n",
    "\n",
    "Die  `for`-Schleife wird verwendet, um einen Block von Anweisungen eine bestimmte Anzahl von Malen auszuführen:"
   ]
  },
  {
   "cell_type": "code",
   "execution_count": 50,
   "metadata": {
    "dotnet_interactive": {
     "language": "csharp"
    },
    "polyglot_notebook": {
     "kernelName": "csharp"
    },
    "vscode": {
     "languageId": "polyglot-notebook"
    }
   },
   "outputs": [
    {
     "name": "stdout",
     "output_type": "stream",
     "text": [
      "0\n",
      "1\n",
      "2\n",
      "3\n",
      "4\n",
      "5\n",
      "6\n",
      "5\n",
      "4\n",
      "3\n",
      "2\n",
      "1\n",
      "0\n"
     ]
    }
   ],
   "source": [
    "for (int i = 0; i < 6; i++)\n",
    "{\n",
    "    Console.WriteLine(i);\n",
    "}\n",
    "\n",
    "int j;\n",
    "for (j = 6; j >= 0; j--)\n",
    "{\n",
    "    Console.WriteLine(j);\n",
    "}"
   ]
  },
  {
   "cell_type": "markdown",
   "metadata": {},
   "source": [
    "### break und continue Schlüsselworte\n",
    "\n",
    "`break`  beendet die Schleife, während  `continue`  den aktuellen Schleifendurchlauf überspringt und mit dem nächsten fortfährt:"
   ]
  },
  {
   "cell_type": "code",
   "execution_count": 53,
   "metadata": {
    "dotnet_interactive": {
     "language": "csharp"
    },
    "polyglot_notebook": {
     "kernelName": "csharp"
    },
    "vscode": {
     "languageId": "polyglot-notebook"
    }
   },
   "outputs": [
    {
     "name": "stdout",
     "output_type": "stream",
     "text": [
      "\n",
      "Zeile1: 0|Zeile2: 0|\n",
      "Zeile1: 1|Zeile2: 1|1\n",
      "\n",
      "Zeile1: 2|Zeile2: 2|\n",
      "Zeile1: 3|Zeile2: 3|3\n",
      "\n",
      "Zeile1: 4|Zeile2: 4|\n",
      "Zeile1: 5|"
     ]
    }
   ],
   "source": [
    "for (int i = 0; i < 10; i++)\n",
    "{\n",
    "    Console.Write(\"\\nZeile1: \" + i + \"|\");\n",
    "    if (i == 5) break;      // Schleife wird beendet\n",
    "    Console.Write(\"Zeile2: \" + i + \"|\");\n",
    "    if (i % 2 == 0) continue; // Springt zur nächsten Iteration\n",
    "    Console.WriteLine(i);\n",
    "}"
   ]
  },
  {
   "cell_type": "markdown",
   "metadata": {},
   "source": [
    "### foreach Schleife\n",
    "\n",
    "Die  `foreach`-Schleife durchläuft alle Elemente einer Sammlung, z.B. ein Array oder eine Liste:"
   ]
  },
  {
   "cell_type": "code",
   "execution_count": 55,
   "metadata": {
    "dotnet_interactive": {
     "language": "csharp"
    },
    "polyglot_notebook": {
     "kernelName": "csharp"
    },
    "vscode": {
     "languageId": "polyglot-notebook"
    }
   },
   "outputs": [
    {
     "name": "stdout",
     "output_type": "stream",
     "text": [
      "Apple\n",
      "Banana\n",
      "Cherry\n",
      "A\n",
      "p\n",
      "p\n",
      "l\n",
      "e\n"
     ]
    }
   ],
   "source": [
    "string[] fruits = { \"Apple\", \"Banana\", \"Cherry\" };\n",
    "foreach (string fruit in fruits)\n",
    "{\n",
    "    Console.WriteLine(fruit);\n",
    "}\n",
    "foreach( char c in fruits[0])\n",
    "{\n",
    "    Console.WriteLine(c);\n",
    "}"
   ]
  },
  {
   "cell_type": "markdown",
   "metadata": {},
   "source": [
    "### while Schleife und do Schleife\n",
    "\n",
    "`while`-Schleifen wiederholen eine Anweisung, solange eine Bedingung wahr ist, während  `do`-Schleifen die Anweisung mindestens einmal ausführen, bevor die Bedingung geprüft wird:"
   ]
  },
  {
   "cell_type": "code",
   "execution_count": 60,
   "metadata": {
    "dotnet_interactive": {
     "language": "csharp"
    },
    "polyglot_notebook": {
     "kernelName": "csharp"
    },
    "vscode": {
     "languageId": "polyglot-notebook"
    }
   },
   "outputs": [],
   "source": [
    "int count = 5;\n",
    "while (count < 5)\n",
    "{\n",
    "    count++;\n",
    "    Console.WriteLine(count);\n",
    "}"
   ]
  },
  {
   "cell_type": "code",
   "execution_count": 61,
   "metadata": {
    "dotnet_interactive": {
     "language": "csharp"
    },
    "polyglot_notebook": {
     "kernelName": "csharp"
    },
    "vscode": {
     "languageId": "polyglot-notebook"
    }
   },
   "outputs": [
    {
     "name": "stdout",
     "output_type": "stream",
     "text": [
      "6\n"
     ]
    }
   ],
   "source": [
    "int count2 = 5;\n",
    "do\n",
    "{\n",
    "    count2++;\n",
    "    Console.WriteLine(count2);\n",
    "} while (count2 < 5);"
   ]
  },
  {
   "cell_type": "markdown",
   "metadata": {},
   "source": [
    "### ≝ Definitionen\n",
    "\n",
    "#### Kopfgesteuerte Schleifen\n",
    "- **Definition**: Eine Schleife, bei der die Bedingung **vor** dem Schleifenkörper geprüft wird. Wenn die Bedingung **wahr** ist, wird der Schleifenkörper ausgeführt, sonst wird die Schleife beendet.\n",
    "- **Beispiel**: `while`-Schleife in C#.\n",
    "  ```csharp\n",
    "  int i = 0;\n",
    "  while (i < 5) {\n",
    "      Console.WriteLine(i);\n",
    "      i++;\n",
    "  }\n",
    "  ```\n",
    "\n",
    "#### Fußgesteuerte Schleifen\n",
    "- **Definition**: Eine Schleife, bei der die Bedingung **nach** dem Schleifenkörper geprüft wird. Der Schleifenkörper wird **mindestens einmal** ausgeführt.\n",
    "- **Beispiel**: `do-while`-Schleife in C#.\n",
    "  ```csharp\n",
    "  int i = 0;\n",
    "  do {\n",
    "      Console.WriteLine(i);\n",
    "      i++;\n",
    "  } while (i < 5);\n",
    "  ```\n",
    "\n",
    "#### Zählschleifen (Zählergesteuerte Schleifen)\n",
    "- **Definition**: Eine Schleife, die von einem **festgelegten Startwert** bis zu einem **Endwert** läuft, wobei ein **Schrittwert** definiert wird. Es wird ein **Zähler** verwendet, um die Iterationen zu kontrollieren.\n",
    "- **Beispiel**: `for`-Schleife in C#.\n",
    "  ```csharp\n",
    "  for (int i = 0; i < 5; i++) {\n",
    "      Console.WriteLine(i);\n",
    "  }\n",
    "  ```"
   ]
  },
  {
   "cell_type": "markdown",
   "metadata": {},
   "source": [
    "[Mehr zu Schleifen in C#](../procedural-functional/CSharp_Loops.de.ipynb) →"
   ]
  },
  {
   "cell_type": "markdown",
   "metadata": {},
   "source": [
    "[Schleifen und TicTacToe](../procedural-functional/CSharp_Loops_TicTacToe.de.ipynb) →"
   ]
  }
 ],
 "metadata": {
  "kernelspec": {
   "display_name": ".NET (C#)",
   "language": "C#",
   "name": ".net-csharp"
  },
  "language_info": {
   "name": "python"
  },
  "polyglot_notebook": {
   "kernelInfo": {
    "defaultKernelName": "csharp",
    "items": [
     {
      "aliases": [],
      "name": "csharp"
     }
    ]
   }
  }
 },
 "nbformat": 4,
 "nbformat_minor": 2
}
