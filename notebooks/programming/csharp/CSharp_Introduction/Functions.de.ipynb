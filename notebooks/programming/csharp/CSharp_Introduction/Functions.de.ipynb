{
 "cells": [
  {
   "cell_type": "markdown",
   "metadata": {},
   "source": [
    "[Jeder kann coden](../../abstract/Contents.de.ipynb) / [Programmieren & TicTacToe](../../Programming_And_TicTacToe.de.ipynb) / [C# Einführung](../CSharp_Introduction.de.ipynb)\n",
    "\n",
    "# Prozeduren und Funktionen\n",
    "\n",
    "<table border=\"0\">\n",
    "  <tr>\n",
    "    <td>\n",
    "        <img src=\"Functions.webp\">\n",
    "    </td>\n",
    "    <td rowspan=\"2\">\n",
    "        <a href=\"https://miro.com/app/board/o9J_lOJi2o0=/?moveToWidget=3458764554347680798&cot=14\"><img src=\"Radar_Functions.de.jpg\"></a>\n",
    "    </td>\n",
    "  </tr>\n",
    "  <tr>\n",
    "    <td>\n",
    "      <a href=\"https://learn.microsoft.com/en-us/dotnet/csharp/programming-guide/classes-and-structs/methods\">Link zur Microsoft Dokumentation</a><br>\n",
    "      <a href=\"https://miro.com/app/board/o9J_lOJi2o0=/?moveToWidget=3458764554347680798&cot=14\">Link zum roten Faden auf Miro</a><br>\n",
    "      <a href=\"https://www.w3schools.com/cs/cs_methods.php\">Link zu Tutorial auf w3schools</a>\n",
    "    </td>\n",
    "  </tr>\n",
    "</table>\n",
    "\n",
    "In C# sind *Prozeduren* und *Funktionen* wesentliche Bestandteile der Programmstruktur, die es ermöglichen, Code modular und wiederverwendbar zu gestalten. In der C#-Terminologie wird allerdings eher von *Methoden* gesprochen. Methoden können prozedural oder funktional aufgebaut sein. Hier ist eine kurze Übersicht:\n",
    "\n",
    "### 1. Methoden (Prozeduren und Funktionen)\n",
    "\n",
    "In C# können Methoden entweder als Prozeduren (ohne Rückgabewert) oder als Funktionen (mit Rückgabewert) gestaltet werden:\n",
    "\n",
    "- **Prozeduren**: Methoden, die keinen Wert zurückgeben, verwenden den `void`-Rückgabetyp. Sie führen nur eine Aktion aus, ohne ein Ergebnis zurückzugeben.\n",
    "- **Funktionen**: Methoden, die einen Wert zurückgeben, haben einen spezifischen Rückgabetyp (z. B. `int`, `string`). Der Rückgabewert wird mit dem `return`-Schlüsselwort festgelegt.\n",
    "\n",
    "### 2. Definition einer Methode\n",
    "\n",
    "Eine Methode wird durch eine Methodensignatur definiert, die den Rückgabewert, den Namen der Methode und optionale Parameter enthält.\n",
    "\n",
    "Syntax einer Methode:\n",
    "\n",
    "```csharp\n",
    "Rückgabetyp MethodeName(Datentyp Parameter1, Datentyp Parameter2, ...)\n",
    "{\n",
    "    // Methodenkörper\n",
    "    // Optionale Berechnungen und Logik\n",
    "    return Wert; // (falls kein `void` verwendet wird)\n",
    "}\n",
    "```\n",
    "\n",
    "### 3. Beispiel für eine Prozedur (ohne Rückgabewert)\n",
    "\n",
    "Eine Prozedur (oder `void`-Methode) führt nur eine Aktion aus und gibt keinen Wert zurück:"
   ]
  },
  {
   "cell_type": "code",
   "execution_count": 36,
   "metadata": {
    "dotnet_interactive": {
     "language": "csharp"
    },
    "polyglot_notebook": {
     "kernelName": "csharp"
    },
    "vscode": {
     "languageId": "polyglot-notebook"
    }
   },
   "outputs": [],
   "source": [
    "void Begrüßen(string name)\n",
    "{\n",
    "    Console.WriteLine(\"Hallo, \" + name + \"!\");\n",
    "}"
   ]
  },
  {
   "cell_type": "markdown",
   "metadata": {},
   "source": [
    "Aufruf der Prozedur:"
   ]
  },
  {
   "cell_type": "code",
   "execution_count": 37,
   "metadata": {
    "dotnet_interactive": {
     "language": "csharp"
    },
    "polyglot_notebook": {
     "kernelName": "csharp"
    },
    "vscode": {
     "languageId": "polyglot-notebook"
    }
   },
   "outputs": [
    {
     "name": "stdout",
     "output_type": "stream",
     "text": [
      "Hallo, Max!\n"
     ]
    }
   ],
   "source": [
    "Begrüßen(\"Max\"); // Ausgabe: Hallo, Max!"
   ]
  },
  {
   "cell_type": "markdown",
   "metadata": {},
   "source": [
    "### 4. Beispiel für eine Funktion (mit Rückgabewert)\n",
    "\n",
    "Eine Funktion gibt einen Wert zurück, der für weitere Berechnungen oder Aktionen verwendet werden kann:"
   ]
  },
  {
   "cell_type": "code",
   "execution_count": 38,
   "metadata": {
    "dotnet_interactive": {
     "language": "csharp"
    },
    "polyglot_notebook": {
     "kernelName": "csharp"
    },
    "vscode": {
     "languageId": "polyglot-notebook"
    }
   },
   "outputs": [],
   "source": [
    "int Addiere(int zahl1, int zahl2)\n",
    "{\n",
    "    return zahl1 + zahl2;\n",
    "}"
   ]
  },
  {
   "cell_type": "markdown",
   "metadata": {},
   "source": [
    "Aufruf der Funktion:"
   ]
  },
  {
   "cell_type": "code",
   "execution_count": 39,
   "metadata": {
    "dotnet_interactive": {
     "language": "csharp"
    },
    "polyglot_notebook": {
     "kernelName": "csharp"
    },
    "vscode": {
     "languageId": "polyglot-notebook"
    }
   },
   "outputs": [
    {
     "name": "stdout",
     "output_type": "stream",
     "text": [
      "7\n"
     ]
    }
   ],
   "source": [
    "int ergebnis = Addiere(3, 4); // ergebnis hat den Wert 7\n",
    "Console.WriteLine(ergebnis); // Ausgabe: 7"
   ]
  },
  {
   "cell_type": "markdown",
   "metadata": {},
   "source": [
    "### 5. Parameter und Überladung\n",
    "\n",
    "- **Parameter**: Methoden können Parameter haben, die Eingabewerte akzeptieren. C# erlaubt auch *optionale* und *named parameters*.\n",
    "- **Überladung**: C# erlaubt die Definition mehrerer Methoden mit demselben Namen, solange sich die Parameterliste unterscheidet (Method Overloading).\n",
    "\n",
    "Beispiel:"
   ]
  },
  {
   "cell_type": "code",
   "execution_count": 40,
   "metadata": {
    "dotnet_interactive": {
     "language": "csharp"
    },
    "polyglot_notebook": {
     "kernelName": "csharp"
    },
    "vscode": {
     "languageId": "polyglot-notebook"
    }
   },
   "outputs": [],
   "source": [
    "int Berechne(int x, int y)\n",
    "{\n",
    "    return x + y;\n",
    "}\n",
    "\n",
    "int Berechne(int x, int y, int z)\n",
    "{\n",
    "    return x + y + z;\n",
    "}"
   ]
  },
  {
   "cell_type": "markdown",
   "metadata": {},
   "source": [
    "Aufruf:"
   ]
  },
  {
   "cell_type": "code",
   "execution_count": 41,
   "metadata": {
    "dotnet_interactive": {
     "language": "csharp"
    },
    "polyglot_notebook": {
     "kernelName": "csharp"
    },
    "vscode": {
     "languageId": "polyglot-notebook"
    }
   },
   "outputs": [
    {
     "name": "stdout",
     "output_type": "stream",
     "text": [
      "5\n",
      "9\n"
     ]
    }
   ],
   "source": [
    "int summe1 = Berechne(2, 3);    // Ausgabe: 5\n",
    "Console.WriteLine(summe1);\n",
    "int summe2 = Berechne(2, 3, 4); // Ausgabe: 9\n",
    "Console.WriteLine(summe2);"
   ]
  },
  {
   "cell_type": "markdown",
   "metadata": {},
   "source": [
    "### 6. Rekursion\n",
    "\n",
    "Methoden können sich in C# auch rekursiv aufrufen, d. h., eine Methode kann sich selbst innerhalb ihres eigenen Körpers aufrufen. \n",
    "\n",
    "Beispiel einer rekursiven Methode zur Berechnung der Fakultät:"
   ]
  },
  {
   "cell_type": "code",
   "execution_count": 11,
   "metadata": {
    "dotnet_interactive": {
     "language": "csharp"
    },
    "polyglot_notebook": {
     "kernelName": "csharp"
    },
    "vscode": {
     "languageId": "polyglot-notebook"
    }
   },
   "outputs": [],
   "source": [
    "int Fakultaet(int n)// <-------+\n",
    "{                   //         |\n",
    "    if (n <= 1)     //         |\n",
    "        return 1;   //         |\n",
    "    else            //         |\n",
    "        return n * Fakultaet(n - 1);\n",
    "}"
   ]
  },
  {
   "cell_type": "markdown",
   "metadata": {},
   "source": [
    "Aufruf:"
   ]
  },
  {
   "cell_type": "code",
   "execution_count": 12,
   "metadata": {
    "dotnet_interactive": {
     "language": "csharp"
    },
    "polyglot_notebook": {
     "kernelName": "csharp"
    },
    "vscode": {
     "languageId": "polyglot-notebook"
    }
   },
   "outputs": [
    {
     "name": "stdout",
     "output_type": "stream",
     "text": [
      "120\n"
     ]
    }
   ],
   "source": [
    "int ergebnis = Fakultaet(5); // Ergebnis: 120 (5 * 4 * 3 * 2 * 1)\n",
    "Console.WriteLine(ergebnis);"
   ]
  }
 ],
 "metadata": {
  "kernelspec": {
   "display_name": ".NET (C#)",
   "language": "C#",
   "name": ".net-csharp"
  },
  "language_info": {
   "name": "python"
  },
  "polyglot_notebook": {
   "kernelInfo": {
    "defaultKernelName": "csharp",
    "items": [
     {
      "aliases": [],
      "name": "csharp"
     }
    ]
   }
  }
 },
 "nbformat": 4,
 "nbformat_minor": 2
}
