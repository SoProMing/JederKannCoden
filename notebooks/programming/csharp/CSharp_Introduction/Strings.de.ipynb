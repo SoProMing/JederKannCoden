{
 "cells": [
  {
   "cell_type": "markdown",
   "metadata": {},
   "source": [
    "[Jeder kann coden](../../abstract/Contents.de.ipynb) / [Programmieren & TicTacToe](../../Programming_And_TicTacToe.de.ipynb) / [C# Einführung](../CSharp_Introduction.de.ipynb)\n",
    "\n",
    "# Mit Strings arbeiten\n",
    "\n",
    "<table border=\"0\">\n",
    "  <tr>\n",
    "    <td>\n",
    "        <img src=\"Strings.webp\">\n",
    "    </td>\n",
    "    <td rowspan=\"2\">\n",
    "        <a href=\"https://miro.com/app/board/o9J_lOJi2o0=/?moveToWidget=3458764554347680798&cot=14\"><img src=\"Radar_Value_Types.de.jpg\"></a>\n",
    "    </td>\n",
    "  </tr>\n",
    "  <tr>\n",
    "    <td>\n",
    "      <a href=\"https://learn.microsoft.com/en-us/dotnet/csharp/programming-guide/strings/\">Link zur Microsoft Dokumentation</a><br>\n",
    "      <a href=\"https://miro.com/app/board/o9J_lOJi2o0=/?moveToWidget=3458764554347680798&cot=14\">Link zum roten Faden auf Miro</a><br>\n",
    "      <a href=\"https://www.w3schools.com/cs/cs_variables.php\">Link zu Tutorial auf w3schools</a>\n",
    "    </td>\n",
    "  </tr>\n",
    "</table>"
   ]
  },
  {
   "cell_type": "markdown",
   "metadata": {},
   "source": [
    "<div style=\"border:2px solidrgb(188, 236, 252); padding:10px; background-color:#E0F7FA;\">\n",
    "\n",
    "[🤖 Code passend zu diesem notebook online auf dotnetfiddle zum Laufen bringen](https://dotnetfiddle.net/cmHQFm)\n",
    "\n",
    "</div>\n",
    "\n",
    "Strings sind Folgen von Zeichen. Sie können wie folgt deklariert und verwendet werden:"
   ]
  },
  {
   "cell_type": "code",
   "execution_count": 5,
   "metadata": {
    "dotnet_interactive": {
     "language": "csharp"
    },
    "polyglot_notebook": {
     "kernelName": "csharp"
    },
    "vscode": {
     "languageId": "polyglot-notebook"
    }
   },
   "outputs": [
    {
     "name": "stdout",
     "output_type": "stream",
     "text": [
      "This is a verbatim string\\n\n"
     ]
    }
   ],
   "source": [
    "string greeting = \"Hello\";\n",
    "string verbatim = @\"This is a verbatim string\\n\";\n",
    "Console.WriteLine(verbatim);"
   ]
  },
  {
   "cell_type": "markdown",
   "metadata": {},
   "source": [
    "Ein verbatim string (`@\"\"`) ignoriert Escape-Zeichen wie  `\\n`  und ermöglicht das Schreiben von Pfaden und Texten, die Sonderzeichen enthalten."
   ]
  },
  {
   "cell_type": "markdown",
   "metadata": {},
   "source": [
    "[Grundlagen zu `ReadLine()`](../procedural-functional/Console_ReadLine_Basics.de.ipynb) →"
   ]
  },
  {
   "cell_type": "markdown",
   "metadata": {},
   "source": [
    "## Strings vertiefen\n",
    "\n",
    "Strings bieten zahlreiche Methoden zur Manipulation, z.B. zur Änderung der Groß-/Kleinschreibung oder zur Extraktion von Teilstrings:"
   ]
  },
  {
   "cell_type": "code",
   "execution_count": 18,
   "metadata": {
    "dotnet_interactive": {
     "language": "csharp"
    },
    "polyglot_notebook": {
     "kernelName": "csharp"
    },
    "vscode": {
     "languageId": "polyglot-notebook"
    }
   },
   "outputs": [
    {
     "name": "stdout",
     "output_type": "stream",
     "text": [
      "HELLO, WORLD!\n",
      "World!\n",
      "True\n",
      "True\n"
     ]
    }
   ],
   "source": [
    "string hello = \"Hello, World!\";\n",
    "int length = hello.Length;       // Länge des Strings\n",
    "string upper = hello.ToUpper();  // \"HELLO, WORLD!\"\n",
    "string sub = hello.Substring(7); // \"World!\"\n",
    "char buchstabe = 'b';\n",
    "bool gleich = buchstabe.Equals(buchstabe);\n",
    "bool gleich2 = buchstabe == 'b';\n",
    "\n",
    "Console.WriteLine(upper);\n",
    "Console.WriteLine(sub);\n",
    "Console.WriteLine(gleich);\n",
    "Console.WriteLine(gleich2);"
   ]
  },
  {
   "cell_type": "markdown",
   "metadata": {},
   "source": [
    "## Strings durchsuchen\n",
    "\n",
    "Strings können durchsucht werden, um das Vorkommen bestimmter Zeichen oder Wörter zu finden:"
   ]
  },
  {
   "cell_type": "code",
   "execution_count": 21,
   "metadata": {
    "dotnet_interactive": {
     "language": "csharp"
    },
    "polyglot_notebook": {
     "kernelName": "csharp"
    },
    "vscode": {
     "languageId": "polyglot-notebook"
    }
   },
   "outputs": [
    {
     "name": "stdout",
     "output_type": "stream",
     "text": [
      "40\n",
      "True\n"
     ]
    }
   ],
   "source": [
    "string sentence = \"The quick brown fox jumps over the lazy dog.\";\n",
    "bool containsFox = sentence.Contains(\"fox\");\n",
    "int indexOfDog = sentence.IndexOf(\"dog\");\n",
    "\n",
    "bool containsBrown = sentence.IndexOf(\"brown\") >= 0;\n",
    "\n",
    "Console.WriteLine(indexOfDog);\n",
    "Console.WriteLine(containsBrown);"
   ]
  },
  {
   "cell_type": "markdown",
   "metadata": {},
   "source": [
    "-   `Contains()`  gibt  `true`  zurück, wenn der String das angegebene Wort enthält.\n",
    "-   `IndexOf()`  gibt die Position des ersten Vorkommens des Wortes zurück.\n",
    "\n",
    "[Mehr zu Strings](../procedural-functional/CSharp_String_Type.de.ipynb) →"
   ]
  }
 ],
 "metadata": {
  "kernelspec": {
   "display_name": ".NET (C#)",
   "language": "C#",
   "name": ".net-csharp"
  },
  "language_info": {
   "name": "python"
  },
  "polyglot_notebook": {
   "kernelInfo": {
    "defaultKernelName": "csharp",
    "items": [
     {
      "aliases": [],
      "name": "csharp"
     }
    ]
   }
  }
 },
 "nbformat": 4,
 "nbformat_minor": 2
}
