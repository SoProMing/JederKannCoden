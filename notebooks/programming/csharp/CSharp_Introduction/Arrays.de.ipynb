{
 "cells": [
  {
   "cell_type": "markdown",
   "metadata": {},
   "source": [
    "[Jeder kann coden](../../abstract/Contents.de.ipynb) / [Programmieren & TicTacToe](../../Programming_And_TicTacToe.de.ipynb) / [C# Einführung](../CSharp_Introduction.de.ipynb)\n",
    "\n",
    "# Arrays in C#\n",
    "\n",
    "<table border=\"0\">\n",
    "  <tr>\n",
    "    <td>\n",
    "        <img src=\"Arrays.webp\">\n",
    "    </td>\n",
    "    <td rowspan=\"2\">\n",
    "        <a href=\"https://miro.com/app/board/o9J_lOJi2o0=/?moveToWidget=3458764554347680798&cot=14\"><img src=\"Radar_Arrays.de.jpg\"></a>\n",
    "    </td>\n",
    "  </tr>\n",
    "  <tr>\n",
    "    <td>\n",
    "      <a href=\"https://learn.microsoft.com/de-de/dotnet/csharp/language-reference/builtin-types/arrays\">Link zur Microsoft Dokumentation</a><br>\n",
    "      <a href=\"https://miro.com/app/board/o9J_lOJi2o0=/?moveToWidget=3458764554347680798&cot=14\">Link zum roten Faden auf Miro</a><br>\n",
    "      <a href=\"https://www.w3schools.com/cs/cs_arrays.php\">Link zu Tutorial auf w3schools</a>\n",
    "    </td>\n",
    "  </tr>\n",
    "</table>\n",
    "\n",
    "### Einfaches Array (Single-Dimensional Array)\n",
    "Speichert eine Liste von Elementen desselben Typs in einer einzigen Dimension."
   ]
  },
  {
   "cell_type": "code",
   "execution_count": null,
   "metadata": {
    "dotnet_interactive": {
     "language": "csharp"
    },
    "polyglot_notebook": {
     "kernelName": "csharp"
    },
    "vscode": {
     "languageId": "polyglot-notebook"
    }
   },
   "outputs": [],
   "source": [
    "int[] zahlen = { 1, 2, 3, 4, 5 };"
   ]
  },
  {
   "cell_type": "markdown",
   "metadata": {},
   "source": [
    "### Mehrdimensionales Array (Multi-Dimensional Array)\n",
    "Speichert Daten in mehreren Dimensionen, z.B. Tabellenform."
   ]
  },
  {
   "cell_type": "code",
   "execution_count": 22,
   "metadata": {
    "dotnet_interactive": {
     "language": "csharp"
    },
    "polyglot_notebook": {
     "kernelName": "csharp"
    },
    "vscode": {
     "languageId": "polyglot-notebook"
    }
   },
   "outputs": [],
   "source": [
    "int[,] matrix = { { 1, 2, 3 }, { 4, 5, 6 } };\n",
    "\n",
    "string[,] ticTacToeBoard = {\n",
    "        { \"X\", \" \", \" \"},\n",
    "        { \" \", \" \", \" \"},\n",
    "        { \" \", \" \", \" \"}\n",
    "    };"
   ]
  },
  {
   "cell_type": "markdown",
   "metadata": {},
   "source": [
    "#### Array im Speicher\n",
    "\n",
    "<img src=\"../../theory/Array_logical_n_saved.de.jpg\" style=\"width:100%;\">\n",
    "\n",
    "<details>\n",
    "<summary>Inline miro frame...</summary>\n",
    "<iframe src=\"https://miro.com/app/board/o9J_lOJi2o0=/?moveToWidget=3074457367102695297&cot=14\" width=\"100%\" height=\"600px\"></iframe>\n",
    "</details>\n",
    "\n",
    "[Link auf Miro Frame...](https://miro.com/app/board/o9J_lOJi2o0=/?moveToWidget=3074457367102695297&cot=14)"
   ]
  },
  {
   "cell_type": "markdown",
   "metadata": {},
   "source": [
    "### Verzweigtes Array (Jagged Array)\n",
    "Ein Array von Arrays, bei dem die inneren Arrays unterschiedliche Längen haben können."
   ]
  },
  {
   "cell_type": "code",
   "execution_count": null,
   "metadata": {
    "dotnet_interactive": {
     "language": "csharp"
    },
    "polyglot_notebook": {
     "kernelName": "csharp"
    },
    "vscode": {
     "languageId": "polyglot-notebook"
    }
   },
   "outputs": [],
   "source": [
    "int[][] verzweigt = { new int[] { 1, 2 }, new int[] { 3, 4, 5 } };"
   ]
  },
  {
   "cell_type": "markdown",
   "metadata": {},
   "source": [
    "#### Jagged Array im Speicher\n",
    "\n",
    "<img src=\"../../theory/Jagged_array.de.jpg\" style=\"width:100%;\">\n",
    "\n",
    "<details>\n",
    "<summary>Inline miro frame...</summary>\n",
    "<iframe src=\"https://miro.com/app/board/o9J_lOJi2o0=/?moveToWidget=3074457367071336904&cot=14\" width=\"100%\" height=\"600px\"></iframe>\n",
    "</details>\n",
    "\n",
    "[Link auf Miro Frame...](https://miro.com/app/board/o9J_lOJi2o0=/?moveToWidget=3074457367071336904&cot=14)"
   ]
  }
 ],
 "metadata": {
  "kernelspec": {
   "display_name": ".NET (C#)",
   "language": "C#",
   "name": ".net-csharp"
  },
  "language_info": {
   "name": "python"
  },
  "polyglot_notebook": {
   "kernelInfo": {
    "defaultKernelName": "csharp",
    "items": [
     {
      "aliases": [],
      "name": "csharp"
     }
    ]
   }
  }
 },
 "nbformat": 4,
 "nbformat_minor": 2
}
