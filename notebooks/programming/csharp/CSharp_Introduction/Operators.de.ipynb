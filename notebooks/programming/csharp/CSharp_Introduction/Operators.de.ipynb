{
 "cells": [
  {
   "cell_type": "markdown",
   "metadata": {},
   "source": [
    "[Jeder kann coden](../../abstract/Contents.de.ipynb) / [Programmieren & TicTacToe](../../Programming_And_TicTacToe.de.ipynb) / [C# Einführung](../CSharp_Introduction.de.ipynb)\n",
    "\n",
    "# Operatoren\n",
    "\n",
    "<table border=\"0\">\n",
    "  <tr>\n",
    "    <td>\n",
    "        <img src=\"Operators.webp\">\n",
    "    </td>\n",
    "    <td rowspan=\"2\">\n",
    "        <a href=\"https://miro.com/app/board/o9J_lOJi2o0=/?moveToWidget=3458764554347680798&cot=14\"><img src=\"Radar_Operators.de.jpg\"></a>\n",
    "    </td>\n",
    "  </tr>\n",
    "  <tr>\n",
    "    <td>\n",
    "      <a href=\"https://learn.microsoft.com/de-de/dotnet/csharp/language-reference/operators/\">Link zur Microsoft Dokumentation</a><br>\n",
    "      <a href=\"https://miro.com/app/board/o9J_lOJi2o0=/?moveToWidget=3458764554347680798&cot=14\">Link zum roten Faden auf Miro</a><br>\n",
    "      <a href=\"https://www.w3schools.com/cs/cs_operators.php\">Link zu Tutorial auf w3schools</a>\n",
    "    </td>\n",
    "  </tr>\n",
    "</table>\n",
    "\n",
    "C# bietet eine Vielzahl von Operatoren wie Zuweisungsoperatoren, Arithmetische Operatoren, Vergleichsoperatoren und Logische Operatoren:"
   ]
  },
  {
   "cell_type": "code",
   "execution_count": 37,
   "metadata": {
    "dotnet_interactive": {
     "language": "csharp"
    },
    "polyglot_notebook": {
     "kernelName": "csharp"
    },
    "vscode": {
     "languageId": "polyglot-notebook"
    }
   },
   "outputs": [
    {
     "name": "stdout",
     "output_type": "stream",
     "text": [
      "Kein Teen!\n",
      "False\n",
      "True\n"
     ]
    }
   ],
   "source": [
    "int a = 10;\n",
    "int b = 20;\n",
    "int sum = a + b;\n",
    "bool isEqual = a == b;\n",
    "\n",
    "bool and = false && true;\n",
    "bool or = false || true;\n",
    "\n",
    "int alter = 6;\n",
    "if ( ( alter > 12 ) && ( alter <= 19 ) )\n",
    "{\n",
    "    Console.WriteLine(\"Teen!\");\n",
    "}\n",
    "// if ( ( alter < 12 ) || ( alter > 19 ) )\n",
    "else\n",
    "{\n",
    "    Console.WriteLine(\"Kein Teen!\");\n",
    "}\n",
    "\n",
    "if ( ( alter >= 19 ) )\n",
    "{\n",
    "    Console.WriteLine(\"Autofahren\");\n",
    "}\n",
    "\n",
    "Console.WriteLine(and);\n",
    "Console.WriteLine(or);"
   ]
  },
  {
   "cell_type": "markdown",
   "metadata": {},
   "source": [
    "-   Arithmetische Operatoren:  `+`,  `-`,  `*`,  `/`,  `%`\n",
    "-   Vergleichsoperatoren:  `==`,  `!=`,  `>`,  `<`,  `>=`,  `<=`\n",
    "-   Logische Operatoren:  `&&`,  `||`,  `!`"
   ]
  },
  {
   "cell_type": "markdown",
   "metadata": {},
   "source": [
    "[Mehr zu Booleschen Operatoren](./procedural-functional/CSharp_Boolean_Operators_Basics.de.ipynb) →\n",
    "\n",
    "[Mehr zu weiteren Operatoren](./procedural-functional/CSharp_Other_Operators_Basics.de.ipynb) →"
   ]
  }
 ],
 "metadata": {
  "kernelspec": {
   "display_name": ".NET (C#)",
   "language": "C#",
   "name": ".net-csharp"
  },
  "language_info": {
   "name": "python"
  },
  "polyglot_notebook": {
   "kernelInfo": {
    "defaultKernelName": "csharp",
    "items": [
     {
      "aliases": [],
      "name": "csharp"
     }
    ]
   }
  }
 },
 "nbformat": 4,
 "nbformat_minor": 2
}
