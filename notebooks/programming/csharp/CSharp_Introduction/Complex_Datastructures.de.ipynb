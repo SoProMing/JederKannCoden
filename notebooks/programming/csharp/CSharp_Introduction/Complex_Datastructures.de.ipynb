{
 "cells": [
  {
   "cell_type": "markdown",
   "metadata": {},
   "source": [
    "[Jeder kann coden](../../abstract/Contents.de.ipynb) / [Programmieren & TicTacToe](../../Programming_And_TicTacToe.de.ipynb) / [C# Einführung](../CSharp_Introduction.de.ipynb)\n",
    "\n",
    "# Komplexere Datenstrukturen\n",
    "\n",
    "<table border=\"0\">\n",
    "  <tr>\n",
    "    <td>\n",
    "        <img src=\"Complex_Datastructures.webp\">\n",
    "    </td>\n",
    "    <td rowspan=\"2\">\n",
    "        <a href=\"https://miro.com/app/board/o9J_lOJi2o0=/?moveToWidget=3458764554347680798&cot=14\"><img src=\"Radar_Complex_Datastructures.de.jpg\"></a>\n",
    "    </td>\n",
    "  </tr>\n",
    "  <tr>\n",
    "    <td>\n",
    "      <a href=\"https://learn.microsoft.com/de-de/dotnet/standard/collections/\">Link zur Microsoft Dokumentation</a><br>\n",
    "      <a href=\"https://miro.com/app/board/o9J_lOJi2o0=/?moveToWidget=3458764554347680798&cot=14\">Link zum roten Faden auf Miro</a><br>\n",
    "    </td>\n",
    "  </tr>\n",
    "</table>\n",
    "\n",
    "<a href=\"https://miro.com/app/board/o9J_lOJi2o0=/?moveToWidget=3074457358216576641&cot=14\"><img src=\"../../theory/Complex_Datastructures.de.jpg\" style=\"width:100%;\"></a>\n",
    "\n",
    "Komplexe Datenstrukturen in C# sind Datenstrukturen, die mehr als einfache Werte (wie int, string, etc.) enthalten und oft mehrere Ebenen oder eine Kombination verschiedener Typen und Strukturen bieten. Hier sind die grundlegenden Typen:\n",
    "\n",
    "### 1. Arrays (Wiederholung)\n",
    "   - Arrays sind eine Sammlung von Elementen desselben Datentyps, die über einen Index zugegriffen werden können. Sie sind fix in ihrer Größe und sehr effizient für den Zugriff auf die Daten.\n",
    "   - Einfache Arrays: `int[] numbers = new int[5];`\n",
    "   - Mehrdimensionale Arrays: `int[,] matrix = new int[3, 3];`\n",
    "   - Verzweigte Arrays (Zickzack-Arrays): `int[][] jaggedArray = new int[3][];`\n",
    "   - Vorteile: Schneller Zugriff auf Elemente.\n",
    "   - Nachteile: Feste Größe, daher weniger flexibel."
   ]
  },
  {
   "cell_type": "code",
   "execution_count": null,
   "metadata": {
    "dotnet_interactive": {
     "language": "csharp"
    },
    "polyglot_notebook": {
     "kernelName": "csharp"
    },
    "vscode": {
     "languageId": "polyglot-notebook"
    }
   },
   "outputs": [],
   "source": [
    "int[] numbers = { 1, 2, 3, 4, 5 };\n",
    "Console.WriteLine(numbers[2]);  // Ausgabe: 3"
   ]
  },
  {
   "cell_type": "markdown",
   "metadata": {},
   "source": [
    "### 2. Listen (`List<T>`)\n",
    "   - Listen sind dynamische Arrays und bieten die Möglichkeit, Elemente hinzuzufügen oder zu entfernen. Sie sind viel flexibler als Arrays, da ihre Größe dynamisch angepasst wird.\n",
    "   - Deklaration: `List<int> numbers = new List<int>();`\n",
    "   - Methoden: `Add()`, `Remove()`, `Contains()`, `Count`.\n",
    "   - Vorteile: Flexibel und einfacher im Handling.\n",
    "   - Nachteile: Im Vergleich zu Arrays geringfügig langsamer beim direkten Zugriff auf große Datenmengen."
   ]
  },
  {
   "cell_type": "code",
   "execution_count": null,
   "metadata": {
    "dotnet_interactive": {
     "language": "csharp"
    },
    "polyglot_notebook": {
     "kernelName": "csharp"
    },
    "vscode": {
     "languageId": "polyglot-notebook"
    }
   },
   "outputs": [
    {
     "name": "stdout",
     "output_type": "stream",
     "text": [
      "Apple\n",
      "Banana\n",
      "Cherry\n",
      "Orange\n"
     ]
    }
   ],
   "source": [
    "List<string> fruits = new List<string> { \"Apple\", \"Banana\", \"Cherry\" };\n",
    "fruits.Add(\"Orange\");\n",
    "Console.WriteLine(fruits[s]);\n",
    "foreach ( string s in fruits ) {\n",
    "    Console.WriteLine(s);  // Ausgabe: Cherry\n",
    "}"
   ]
  },
  {
   "cell_type": "markdown",
   "metadata": {},
   "source": [
    "### 3. Wörterbuch (`Dictionary<TKey, TValue>`)\n",
    "   - Ein Wörterbuch ist eine Sammlung von Schlüssel-Wert-Paaren, bei denen jedes Element einen Schlüssel und einen Wert hat. Es wird verwendet, um Daten schnell anhand eines eindeutigen Schlüssels zu suchen.\n",
    "   - Deklaration: `Dictionary<string, int> ageMap = new Dictionary<string, int>();`\n",
    "   - Vorteile: Sehr effizient für schnelle Nachschlageoperationen.\n",
    "   - Nachteile: Schlüssel müssen eindeutig sein und der Schlüssel wird zum Indexieren verwendet."
   ]
  },
  {
   "cell_type": "code",
   "execution_count": 5,
   "metadata": {
    "dotnet_interactive": {
     "language": "csharp"
    },
    "polyglot_notebook": {
     "kernelName": "csharp"
    },
    "vscode": {
     "languageId": "polyglot-notebook"
    }
   },
   "outputs": [
    {
     "name": "stdout",
     "output_type": "stream",
     "text": [
      "30\n"
     ]
    }
   ],
   "source": [
    "Dictionary<string, int> ages = new Dictionary<string, int>();\n",
    "ages[\"Alice\"] = 30;\n",
    "ages[\"Bob\"] = 25;\n",
    "Console.WriteLine(ages[\"Alice\"]);  // Ausgabe: 30"
   ]
  },
  {
   "cell_type": "markdown",
   "metadata": {},
   "source": [
    "### 4. Warteschlangen (`Queue<T>`)\n",
    "   - Warteschlangen sind FIFO (First In, First Out) Datenstrukturen, bei denen das erste hinzugefügte Element auch das erste ist, das entfernt wird.\n",
    "   - Deklaration: `Queue<int> queue = new Queue<int>();`\n",
    "   - Methoden: `Enqueue()` fügt ein Element hinzu, `Dequeue()` entfernt ein Element.\n",
    "   - Vorteile: Ideal für Szenarien, in denen Elemente in einer bestimmten Reihenfolge verarbeitet werden müssen.\n",
    "   - Nachteile: Kein direkter Zugriff auf Elemente in der Mitte der Warteschlange."
   ]
  },
  {
   "cell_type": "code",
   "execution_count": null,
   "metadata": {
    "dotnet_interactive": {
     "language": "csharp"
    },
    "polyglot_notebook": {
     "kernelName": "csharp"
    },
    "vscode": {
     "languageId": "polyglot-notebook"
    }
   },
   "outputs": [],
   "source": [
    "Queue<string> queue = new Queue<string>();\n",
    "queue.Enqueue(\"First\");\n",
    "queue.Enqueue(\"Second\");\n",
    "Console.WriteLine(queue.Dequeue());  // Ausgabe: First"
   ]
  },
  {
   "cell_type": "markdown",
   "metadata": {},
   "source": [
    "### 5. Stapel (`Stack<T>`)\n",
    "   - Stacks sind LIFO (Last In, First Out) Datenstrukturen, bei denen das letzte hinzugefügte Element auch das erste ist, das entfernt wird.\n",
    "   - Deklaration: `Stack<int> stack = new Stack<int>();`\n",
    "   - Methoden: `Push()` fügt ein Element hinzu, `Pop()` entfernt das oberste Element.\n",
    "   - Vorteile: Effizient für Szenarien, in denen der Zugriff auf das zuletzt hinzugefügte Element wichtig ist.\n",
    "   - Nachteile: Kein Zugriff auf Elemente außer auf das oberste."
   ]
  },
  {
   "cell_type": "code",
   "execution_count": null,
   "metadata": {
    "dotnet_interactive": {
     "language": "csharp"
    },
    "polyglot_notebook": {
     "kernelName": "csharp"
    },
    "vscode": {
     "languageId": "polyglot-notebook"
    }
   },
   "outputs": [],
   "source": [
    "Stack<string> stack = new Stack<string>();\n",
    "stack.Push(\"Bottom\");\n",
    "stack.Push(\"Top\");\n",
    "Console.WriteLine(stack.Pop());  // Ausgabe: Top"
   ]
  },
  {
   "cell_type": "markdown",
   "metadata": {},
   "source": [
    "### 6. Mengen (`HashSet<T>`)\n",
    "   - Ein HashSet speichert eine Sammlung von eindeutigen Elementen und wird häufig verwendet, um die Existenz eines bestimmten Wertes schnell zu überprüfen.\n",
    "   - Deklaration: `HashSet<int> uniqueNumbers = new HashSet<int>();`\n",
    "   - Vorteile: Schnelle Überprüfung auf das Vorhandensein eines Elements.\n",
    "   - Nachteile: Keine Duplikate erlaubt, und die Elemente haben keine bestimmte Reihenfolge."
   ]
  },
  {
   "cell_type": "code",
   "execution_count": null,
   "metadata": {
    "dotnet_interactive": {
     "language": "csharp"
    },
    "polyglot_notebook": {
     "kernelName": "csharp"
    },
    "vscode": {
     "languageId": "polyglot-notebook"
    }
   },
   "outputs": [],
   "source": [
    "HashSet<int> uniqueNumbers = new HashSet<int> { 1, 2, 3, 3 };\n",
    "uniqueNumbers.Add(4);\n",
    "Console.WriteLine(uniqueNumbers.Contains(3));  // Ausgabe: True"
   ]
  },
  {
   "cell_type": "markdown",
   "metadata": {},
   "source": [
    "### 7. Verbundene Listen (`LinkedList<T>`)\n",
    "   - LinkedLists bestehen aus Knoten, die Verweise auf das nächste und, bei doppelt verketteten Listen, das vorherige Element enthalten. Diese Struktur ermöglicht eine dynamische Größe und das Einfügen oder Entfernen von Elementen an beliebiger Stelle.\n",
    "   - Deklaration: `LinkedList<int> linkedList = new LinkedList<int>();`\n",
    "   - Vorteile: Flexibler als Arrays und Listen für Einfüge-/Löschoperationen.\n",
    "   - Nachteile: Langsamer bei sequentiellem Zugriff im Vergleich zu Arrays oder Listen."
   ]
  },
  {
   "cell_type": "code",
   "execution_count": null,
   "metadata": {
    "dotnet_interactive": {
     "language": "csharp"
    },
    "polyglot_notebook": {
     "kernelName": "csharp"
    },
    "vscode": {
     "languageId": "polyglot-notebook"
    }
   },
   "outputs": [],
   "source": [
    "LinkedList<string> linkedList = new LinkedList<string>();\n",
    "linkedList.AddLast(\"First\");\n",
    "linkedList.AddLast(\"Second\");\n",
    "linkedList.AddFirst(\"Zeroth\");\n",
    "Console.WriteLine(linkedList.First.Value);  // Ausgabe: Zeroth"
   ]
  },
  {
   "cell_type": "markdown",
   "metadata": {},
   "source": [
    "### 8. Bäume\n",
    "   - Bäume sind hierarchische Datenstrukturen, die eine Sammlung von Elementen in Eltern-Kind-Beziehungen organisieren.\n",
    "   - Typische Anwendungen sind binäre Bäume, AVL-Bäume, B-Bäume oder N-Bäume. In C# können diese als Klassen modelliert werden.\n",
    "   - Deklaration eines binären Baums erfolgt durch Erstellung von Knoten-Klassen mit `left` und `right` Verweisen.\n",
    "   - Vorteile: Effizient für hierarchische Daten und schnelle Suchen.\n",
    "   - Nachteile: Komplex in der Implementierung und Pflege."
   ]
  },
  {
   "cell_type": "code",
   "execution_count": null,
   "metadata": {
    "dotnet_interactive": {
     "language": "csharp"
    },
    "polyglot_notebook": {
     "kernelName": "csharp"
    },
    "vscode": {
     "languageId": "polyglot-notebook"
    }
   },
   "outputs": [],
   "source": [
    "class TreeNode {\n",
    "    public int Value;\n",
    "    public TreeNode Left;\n",
    "    public TreeNode Right;\n",
    "    public TreeNode(int value) { Value = value; }\n",
    "}\n",
    "\n",
    "TreeNode root = new TreeNode(1);\n",
    "root.Left = new TreeNode(2);\n",
    "root.Right = new TreeNode(3);\n",
    "Console.WriteLine(root.Left.Value);  // Ausgabe: 2"
   ]
  },
  {
   "cell_type": "markdown",
   "metadata": {},
   "source": [
    "### 9. Graphen\n",
    "   - Graphen sind Netzwerke von Knoten, die durch Kanten verbunden sind. Sie werden verwendet, um Beziehungen darzustellen, wie z.B. soziale Netzwerke oder Routen.\n",
    "   - In C# werden Graphen typischerweise durch `Dictionary<TKey, List<TValue>>` oder benutzerdefinierte Klassen für Knoten und Kanten implementiert.\n",
    "   - Vorteile: Ideal für die Darstellung und Bearbeitung von Netzwerken und Beziehungen.\n",
    "   - Nachteile: Komplex in der Implementierung und erfordern spezielle Algorithmen zur effizienten Navigation."
   ]
  },
  {
   "cell_type": "code",
   "execution_count": null,
   "metadata": {
    "dotnet_interactive": {
     "language": "csharp"
    },
    "polyglot_notebook": {
     "kernelName": "csharp"
    },
    "vscode": {
     "languageId": "polyglot-notebook"
    }
   },
   "outputs": [],
   "source": [
    "class Graph {\n",
    "    public Dictionary<string, List<string>> AdjacencyList = new Dictionary<string, List<string>>();\n",
    "    public void AddEdge(string node, string neighbor) {\n",
    "        if (!AdjacencyList.ContainsKey(node)) {\n",
    "            AdjacencyList[node] = new List<string>();\n",
    "        }\n",
    "        AdjacencyList[node].Add(neighbor);\n",
    "    }\n",
    "}\n",
    "\n",
    "Graph graph = new Graph();\n",
    "graph.AddEdge(\"A\", \"B\");\n",
    "graph.AddEdge(\"A\", \"C\");\n",
    "Console.WriteLine(string.Join(\", \", graph.AdjacencyList[\"A\"]));  // Ausgabe: B, C"
   ]
  },
  {
   "cell_type": "markdown",
   "metadata": {},
   "source": [
    "\n",
    "Jede dieser Strukturen kann je nach Anforderungen an Leistung, Speicherbedarf und die Art der Daten in einem bestimmten Szenario vorteilhaft sein."
   ]
  }
 ],
 "metadata": {
  "kernelspec": {
   "display_name": ".NET (C#)",
   "language": "C#",
   "name": ".net-csharp"
  },
  "language_info": {
   "name": "python"
  },
  "polyglot_notebook": {
   "kernelInfo": {
    "defaultKernelName": "csharp",
    "items": [
     {
      "aliases": [],
      "name": "csharp"
     }
    ]
   }
  }
 },
 "nbformat": 4,
 "nbformat_minor": 2
}
