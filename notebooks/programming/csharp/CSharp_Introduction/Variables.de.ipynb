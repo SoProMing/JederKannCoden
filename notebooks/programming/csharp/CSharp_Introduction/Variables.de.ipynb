{
 "cells": [
  {
   "cell_type": "markdown",
   "metadata": {},
   "source": [
    "[Jeder kann coden](../../abstract/Contents.de.ipynb) / [Programmieren & TicTacToe](../../Programming_And_TicTacToe.de.ipynb) / [C# Einführung](../CSharp_Introduction.de.ipynb)\n",
    "\n",
    "# Das Konzept einer Variablen\n",
    "\n",
    "<table border=\"0\">\n",
    "  <tr>\n",
    "    <td>\n",
    "        <img src=\"Variables.webp\">\n",
    "    </td>\n",
    "    <td rowspan=\"2\">\n",
    "        <a href=\"https://miro.com/app/board/o9J_lOJi2o0=/?moveToWidget=3458764554347680798&cot=14\"><img src=\"Radar_Value_Types.de.jpg\"></a>\n",
    "    </td>\n",
    "  </tr>\n",
    "  <tr>\n",
    "    <td>\n",
    "      <a href=\"https://learn.microsoft.com/de-de/dotnet/csharp/language-reference/language-specification/variables\">Link zur Microsoft Dokumentation</a><br>\n",
    "      <a href=\"https://miro.com/app/board/o9J_lOJi2o0=/?moveToWidget=3458764554347680798&cot=14\">Link zum roten Faden auf Miro</a><br>\n",
    "      <a href=\"https://www.w3schools.com/cs/cs_variables.php\">Link zu Tutorial auf w3schools</a>\n",
    "    </td>\n",
    "  </tr>\n",
    "</table>\n",
    "\n",
    "Eine Variable in C# ist ein benannter Speicherort im Arbeitsspeicher eines Programms, der dazu verwendet wird, Daten zu speichern und darauf zuzugreifen. Variablen ermöglichen es, Werte vorübergehend zu speichern, um sie im weiteren Verlauf des Programms zu verwenden. Sie sind ein fundamentales Konzept in der Programmierung, da sie es erlauben, mit Daten flexibel und dynamisch zu arbeiten.\n",
    "\n",
    "### Aufbau einer Variable\n",
    "\n",
    "1.  **Deklaration**: Um eine Variable in C# zu verwenden, muss sie zuerst deklariert werden. Bei der Deklaration einer Variablen wird der Typ festgelegt, der angibt, welche Art von Daten die Variable speichern kann. Der Variablenname muss eindeutig sein und den Namenskonventionen von C# folgen.\n",
    "    \n",
    "    -   Beispiel:  `int age;`  Hier wird eine Variable namens  `age`  deklariert, die einen Ganzzahlwert speichern kann.\n",
    "2.  **Initialisierung**: Nach der Deklaration kann der Variablen ein Wert zugewiesen werden. Dies kann entweder direkt bei der Deklaration oder zu einem späteren Zeitpunkt im Code geschehen.\n",
    "    \n",
    "    -   Beispiel:  `int age = 25;`  Hier wird der Variablen  `age`  direkt ein Wert zugewiesen.\n",
    "3.  **Zugriff und Modifikation**: Nachdem eine Variable deklariert und initialisiert wurde, kann auf ihren Wert zugegriffen und dieser bei Bedarf geändert werden.\n",
    "    \n",
    "    -   Beispiel:  `age = 30;`  Hier wird der Wert von  `age`  auf 30 geändert."
   ]
  },
  {
   "cell_type": "code",
   "execution_count": 2,
   "metadata": {
    "dotnet_interactive": {
     "language": "csharp"
    },
    "polyglot_notebook": {
     "kernelName": "csharp"
    },
    "vscode": {
     "languageId": "polyglot-notebook"
    }
   },
   "outputs": [
    {
     "name": "stdout",
     "output_type": "stream",
     "text": [
      "0\n",
      "><\n"
     ]
    }
   ],
   "source": [
    "int age;\n",
    "Console.WriteLine(age);\n",
    "string name;\n",
    "Console.WriteLine($\">{name}<\");"
   ]
  },
  {
   "cell_type": "markdown",
   "metadata": {},
   "source": [
    "### Typen von Variablen\n",
    "\n",
    "In C# sind Variablen stark typisiert, was bedeutet, dass der Typ einer Variablen zur Zeit der Deklaration festgelegt wird und sich nicht mehr ändern kann. Die wichtigsten Typen von Variablen sind:\n",
    "\n",
    "-   **Primitive Datentypen**: Diese umfassen einfache Datentypen wie Ganzzahlen (`int`), Gleitkommazahlen (`float`,  `double`), Zeichen (`char`) und Wahrheitswerte (`bool`).\n",
    "-   **Referenztypen**: Zu den Referenztypen gehören komplexere Datentypen wie Klassen, Arrays, Strings und Objekte. Im Gegensatz zu primitiven Datentypen speichern Referenztypen einen Verweis (Referenz) auf den tatsächlichen Speicherort der Daten, nicht die Daten selbst."
   ]
  },
  {
   "cell_type": "code",
   "execution_count": 3,
   "metadata": {
    "dotnet_interactive": {
     "language": "csharp"
    },
    "polyglot_notebook": {
     "kernelName": "csharp"
    },
    "vscode": {
     "languageId": "polyglot-notebook"
    }
   },
   "outputs": [
    {
     "name": "stdout",
     "output_type": "stream",
     "text": [
      "False\n"
     ]
    }
   ],
   "source": [
    "bool test;\n",
    "Console.WriteLine(test);"
   ]
  },
  {
   "cell_type": "markdown",
   "metadata": {},
   "source": [
    "### Lebensdauer und Sichtbarkeit\n",
    "\n",
    "Der Gültigkeitsbereich (Scope) einer Variablen bestimmt, wo im Code auf sie zugegriffen werden kann. Variablen können lokal (innerhalb einer Methode) oder global (z.B. als Klassenfelder) deklariert werden.\n",
    "\n",
    "-   **Lokale Variablen**: Diese existieren nur innerhalb der Methode oder des Blocks, in dem sie deklariert wurden. Nach Verlassen des Blocks wird der Speicher, der der Variablen zugewiesen wurde, freigegeben.\n",
    "    -   Beispiel:  `void MyMethod() { int x = 5; }`\n",
    "-   **Globale bzw. Klassenvariablen**: Diese werden in der Klasse selbst deklariert und sind für alle Methoden dieser Klasse zugänglich, solange sie im entsprechenden Gültigkeitsbereich liegen.\n",
    "    -   Beispiel:  `class MyClass { int y; }`"
   ]
  },
  {
   "cell_type": "markdown",
   "metadata": {},
   "source": [
    "### Wichtige Konzepte im Zusammenhang mit Variablen\n",
    "\n",
    "1.  **Konstanten**: In C# gibt es auch die Möglichkeit, Variablen als konstant zu deklarieren. Diese Variablen können nach ihrer Initialisierung nicht mehr verändert werden. Das Schlüsselwort dafür ist  `const`.\n",
    "    \n",
    "    -   Beispiel:  `const int MAX_AGE = 100;`\n",
    "2.  **Nullable-Typen**: Normalerweise kann eine Variable eines Wertetyps (z.B.  `int`) keinen  `null`-Wert enthalten. C# bietet jedoch sogenannte Nullable-Typen, die es ermöglichen, dass Wertetypen  `null`  sein können.\n",
    "    \n",
    "    -   Beispiel:  `string? nullableString = null;`\n",
    "3.  **Automatisch implementierte Eigenschaften**: In modernen C#-Versionen gibt es zudem die Möglichkeit, Variablen mit dem Schlüsselwort  `var`  automatisch den Typ zuzuweisen, basierend auf dem initial zugewiesenen Wert. Dies nennt man Typinferenz.\n",
    "    \n",
    "    -   Beispiel:  `var name = \"John\";`  Der Compiler leitet automatisch ab, dass  `name`  vom Typ  `string`  ist.\n",
    "4.  **Speicherverwaltung**: Für den Umgang mit Variablen ist es wichtig zu verstehen, dass C# über eine automatische Speicherverwaltung verfügt, die durch den Garbage Collector gesteuert wird. Dieser sorgt dafür, dass nicht mehr benötigter Speicher automatisch freigegeben wird.\n",
    "\n",
    "### Beispiel:\n"
   ]
  },
  {
   "cell_type": "code",
   "execution_count": 38,
   "metadata": {
    "dotnet_interactive": {
     "language": "csharp"
    },
    "polyglot_notebook": {
     "kernelName": "csharp"
    },
    "vscode": {
     "languageId": "polyglot-notebook"
    }
   },
   "outputs": [],
   "source": [
    "int number = 10;\n",
    "string name = \"John\";\n",
    "double price = 9.99;"
   ]
  },
  {
   "cell_type": "markdown",
   "metadata": {},
   "source": [
    "-   `int`  ist ein Datentyp für ganze Zahlen.\n",
    "-   `string`  speichert eine Zeichenkette.\n",
    "-   `double`  ist ein Datentyp für Gleitkommazahlen."
   ]
  },
  {
   "cell_type": "markdown",
   "metadata": {},
   "source": [
    "[Numerische Typen von Variablen](../procedural-functional/CSharp_Numerical_Types.de.ipynb) →"
   ]
  },
  {
   "cell_type": "markdown",
   "metadata": {},
   "source": [
    "## Datentypen:  `int`,  `float`, und  `double`\n",
    "\n",
    "### `int`\n",
    "\n",
    "Der  `int`-Typ speichert ganze Zahlen (ohne Dezimalstellen). Er ist 32 Bit breit und kann Werte im Bereich von -2.147.483.648 bis 2.147.483.647 speichern.\n",
    "\n",
    "### `float`\n",
    "\n",
    "Der  `float`-Typ speichert Gleitkommazahlen (Zahlen mit Dezimalstellen). Er ist 32 Bit breit und eignet sich für die Speicherung von Werten mit weniger Genauigkeit, aber größerem Bereich. Ein  `float`-Wert benötigt das Suffix  `f`:\n"
   ]
  },
  {
   "cell_type": "code",
   "execution_count": 39,
   "metadata": {
    "dotnet_interactive": {
     "language": "csharp"
    },
    "polyglot_notebook": {
     "kernelName": "csharp"
    },
    "vscode": {
     "languageId": "polyglot-notebook"
    }
   },
   "outputs": [],
   "source": [
    "float pi = 3.14f;"
   ]
  },
  {
   "cell_type": "markdown",
   "metadata": {},
   "source": [
    "### `double`\n",
    "\n",
    "Der  `double`-Typ ist ein 64-Bit-Gleitkommatyp und bietet eine höhere Genauigkeit und einen größeren Bereich als  `float`. Dies ist der am häufigsten verwendete Typ für Gleitkommazahlen:"
   ]
  },
  {
   "cell_type": "code",
   "execution_count": 40,
   "metadata": {
    "dotnet_interactive": {
     "language": "csharp"
    },
    "polyglot_notebook": {
     "kernelName": "csharp"
    },
    "vscode": {
     "languageId": "polyglot-notebook"
    }
   },
   "outputs": [],
   "source": [
    "double precisePi = 3.14159265358979;"
   ]
  },
  {
   "cell_type": "markdown",
   "metadata": {},
   "source": [
    "[Numerische Gleitkomma-Typen von Variablen](../procedural-functional/CSharp_Numerical_Floating_Types.de.ipynb) →"
   ]
  },
  {
   "cell_type": "markdown",
   "metadata": {},
   "source": [
    "## Weitere Variablentypen\n",
    "\n",
    "### Var Schlüsselwort\n",
    "\n",
    "Das  `var`-Schlüsselwort ermöglicht es, Variablen ohne explizite Typangabe zu deklarieren. Der Typ wird vom Compiler zur Kompilierzeit bestimmt:"
   ]
  },
  {
   "cell_type": "code",
   "execution_count": null,
   "metadata": {
    "dotnet_interactive": {
     "language": "csharp"
    },
    "polyglot_notebook": {
     "kernelName": "csharp"
    },
    "vscode": {
     "languageId": "polyglot-notebook"
    }
   },
   "outputs": [],
   "source": [
    "var number = 42;  // number wird als int deklariert\n",
    "var text = \"Mein Text\";"
   ]
  },
  {
   "cell_type": "markdown",
   "metadata": {},
   "source": [
    "### Echte Literale\n",
    "\n",
    "C# unterstützt verschiedene Zahlensysteme wie Dezimal, Hexadezimal und Binär:"
   ]
  },
  {
   "cell_type": "code",
   "execution_count": null,
   "metadata": {
    "dotnet_interactive": {
     "language": "csharp"
    },
    "polyglot_notebook": {
     "kernelName": "csharp"
    },
    "vscode": {
     "languageId": "polyglot-notebook"
    }
   },
   "outputs": [],
   "source": [
    "int decimalNumber = 42;\n",
    "int hexNumber = 0x2A;   // 42 in Hexadezimal\n",
    "int binaryNumber = 0b101010; // 42 in Binär"
   ]
  },
  {
   "cell_type": "markdown",
   "metadata": {},
   "source": [
    "## Typen casting\n",
    "\n",
    "Casting ermöglicht die Umwandlung eines Datentyps in einen anderen. Dies kann explizit oder implizit geschehen:"
   ]
  },
  {
   "cell_type": "code",
   "execution_count": null,
   "metadata": {
    "dotnet_interactive": {
     "language": "csharp"
    },
    "polyglot_notebook": {
     "kernelName": "csharp"
    },
    "vscode": {
     "languageId": "polyglot-notebook"
    }
   },
   "outputs": [],
   "source": [
    "int number = 42;\n",
    "double castedNumber = (double)number;  // Explizites Casting"
   ]
  }
 ],
 "metadata": {
  "kernelspec": {
   "display_name": ".NET (C#)",
   "language": "C#",
   "name": ".net-csharp"
  },
  "language_info": {
   "name": "python"
  },
  "polyglot_notebook": {
   "kernelInfo": {
    "defaultKernelName": "csharp",
    "items": [
     {
      "aliases": [],
      "name": "csharp"
     }
    ]
   }
  }
 },
 "nbformat": 4,
 "nbformat_minor": 2
}
