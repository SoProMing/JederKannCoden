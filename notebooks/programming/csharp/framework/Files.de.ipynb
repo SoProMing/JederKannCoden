{
 "cells": [
  {
   "cell_type": "markdown",
   "metadata": {},
   "source": [
    "[Jeder kann coden](../../abstract/Contents.de.ipynb) / [Programmieren & TicTacToe](../../Programming_And_TicTacToe.de.ipynb) / [C# Einführung](../CSharp_Introduction.de.ipynb)\n",
    "\n",
    "# Dateioperationen in C#\n",
    "\n",
    "<table border=\"0\">\n",
    "  <tr>\n",
    "    <td>\n",
    "        <img src=\"Files.webp\">\n",
    "    </td>\n",
    "    <td rowspan=\"2\">\n",
    "        <a href=\"https://miro.com/app/board/o9J_lOJi2o0=/?moveToWidget=3458764554347680798&cot=14\"><img src=\"Radar_Files.jpg\"></a>\n",
    "    </td>\n",
    "  </tr>\n",
    "  <tr>\n",
    "    <td>\n",
    "      <a href=\"https://learn.microsoft.com/de-de/dotnet/api/system.io.file?view=net-8.0\" target=\"_blank\">System.IO.File Dokumentation</a><br>\n",
    "      <a href=\"https://learn.microsoft.com/de-de/dotnet/standard/io/how-to-read-and-write-to-a-text-file\" target=\"_blank\">Textdateien lesen und schreiben</a><br>\n",
    "      <a href=\"https://learn.microsoft.com/de-de/dotnet/standard/io/file-streams\" target=\"_blank\">Arbeiten mit Streams</a><br>\n",
    "      <a href=\"https://learn.microsoft.com/de-de/dotnet/standard/io/how-to-enumerate-directories-and-files\" target=\"_blank\">Verzeichnisse und Dateien auflisten</a><br>\n",
    "      <a href=\"https://learn.microsoft.com/de-de/dotnet/api/system.io.path?view=net-8.0\" target=\"_blank\">System.IO.Path Dokumentation</a><br>\n",
    "      <a href=\"https://learn.microsoft.com/de-de/dotnet/api/system.io.filestream?view=net-8.0\" target=\"_blank\">FileStream Dokumentation</a><br>\n",
    "      <a href=\"https://learn.microsoft.com/de-de/dotnet/api/system.io.streamwriter?view=net-8.0\" target=\"_blank\">StreamWriter Dokumentation</a><br>\n",
    "      <a href=\"https://learn.microsoft.com/de-de/dotnet/api/system.io.streamreader?view=net-8.0\" target=\"_blank\">StreamReader Dokumentation</a><br>\n",
    "      <a href=\"https://learn.microsoft.com/de-de/dotnet/api/system.io.filesecurity?view=net-8.0\" target=\"_blank\">System.IO.FileSecurity Dokumentation</a><br>\n",
    "      <a href=\"https://learn.microsoft.com/de-de/dotnet/csharp/programming-guide/file-system/how-to-use-the-system-io-namespace\" target=\"_blank\">Verwendung des System.IO-Namespace</a>\n",
    "    </td>\n",
    "  </tr>\n",
    "</table>\n",
    "\n",
    "Die Klasse `System.IO.File` in C# bietet Methoden für das Arbeiten mit Dateien, wie das Erstellen, Lesen, Schreiben, Kopieren, Verschieben, Löschen und Prüfen von Dateien. Diese Methoden sind statisch und befinden sich im Namespace `System.IO`.\n",
    "\n",
    "### Wichtige Methoden der `File`-Klasse\n",
    "\n",
    "1. **Datei erstellen**"
   ]
  },
  {
   "cell_type": "code",
   "execution_count": 17,
   "metadata": {
    "dotnet_interactive": {
     "language": "csharp"
    },
    "polyglot_notebook": {
     "kernelName": "csharp"
    },
    "vscode": {
     "languageId": "polyglot-notebook"
    }
   },
   "outputs": [
    {
     "name": "stdout",
     "output_type": "stream",
     "text": [
      "Datei erstellt: example.txt\n"
     ]
    }
   ],
   "source": [
    "using System.IO;\n",
    "\n",
    "string filePath = \"example.txt\";\n",
    "File.Create(filePath).Dispose(); // Erstellt eine Datei und schließt den Stream\n",
    "Console.WriteLine(\"Datei erstellt: \" + filePath);"
   ]
  },
  {
   "cell_type": "markdown",
   "metadata": {},
   "source": [
    "2. **Text in eine Datei schreiben**"
   ]
  },
  {
   "cell_type": "code",
   "execution_count": 18,
   "metadata": {
    "dotnet_interactive": {
     "language": "csharp"
    },
    "polyglot_notebook": {
     "kernelName": "csharp"
    },
    "vscode": {
     "languageId": "polyglot-notebook"
    }
   },
   "outputs": [
    {
     "name": "stdout",
     "output_type": "stream",
     "text": [
      "Inhalt in die Datei geschrieben.\n"
     ]
    }
   ],
   "source": [
    "string content = \"Das ist ein Beispieltext.\";\n",
    "File.WriteAllText(filePath, content);\n",
    "Console.WriteLine(\"Inhalt in die Datei geschrieben.\");"
   ]
  },
  {
   "cell_type": "markdown",
   "metadata": {},
   "source": [
    "3. **Text aus einer Datei lesen**"
   ]
  },
  {
   "cell_type": "code",
   "execution_count": 3,
   "metadata": {
    "dotnet_interactive": {
     "language": "csharp"
    },
    "polyglot_notebook": {
     "kernelName": "csharp"
    },
    "vscode": {
     "languageId": "polyglot-notebook"
    }
   },
   "outputs": [
    {
     "name": "stdout",
     "output_type": "stream",
     "text": [
      "Gelesener Inhalt: Das ist ein Beispieltext.\n"
     ]
    }
   ],
   "source": [
    "string readContent = File.ReadAllText(filePath);\n",
    "Console.WriteLine(\"Gelesener Inhalt: \" + readContent);"
   ]
  },
  {
   "cell_type": "markdown",
   "metadata": {},
   "source": [
    "4. **Datei kopieren**"
   ]
  },
  {
   "cell_type": "code",
   "execution_count": 4,
   "metadata": {
    "dotnet_interactive": {
     "language": "csharp"
    },
    "polyglot_notebook": {
     "kernelName": "csharp"
    },
    "vscode": {
     "languageId": "polyglot-notebook"
    }
   },
   "outputs": [
    {
     "name": "stdout",
     "output_type": "stream",
     "text": [
      "Datei kopiert nach: example_copy.txt\n"
     ]
    }
   ],
   "source": [
    "string copyPath = \"example_copy.txt\";\n",
    "File.Copy(filePath, copyPath, true); // true überschreibt die Datei, falls sie existiert\n",
    "Console.WriteLine(\"Datei kopiert nach: \" + copyPath);"
   ]
  },
  {
   "cell_type": "markdown",
   "metadata": {},
   "source": [
    "5. **Datei verschieben**"
   ]
  },
  {
   "cell_type": "code",
   "execution_count": 5,
   "metadata": {
    "dotnet_interactive": {
     "language": "csharp"
    },
    "polyglot_notebook": {
     "kernelName": "csharp"
    },
    "vscode": {
     "languageId": "polyglot-notebook"
    }
   },
   "outputs": [
    {
     "name": "stdout",
     "output_type": "stream",
     "text": [
      "Datei verschoben nach: example_moved.txt\n"
     ]
    }
   ],
   "source": [
    "string newPath = \"example_moved.txt\";\n",
    "File.Move(copyPath, newPath);\n",
    "Console.WriteLine(\"Datei verschoben nach: \" + newPath);"
   ]
  },
  {
   "cell_type": "markdown",
   "metadata": {},
   "source": [
    "6. **Datei löschen**"
   ]
  },
  {
   "cell_type": "code",
   "execution_count": 6,
   "metadata": {
    "dotnet_interactive": {
     "language": "csharp"
    },
    "polyglot_notebook": {
     "kernelName": "csharp"
    },
    "vscode": {
     "languageId": "polyglot-notebook"
    }
   },
   "outputs": [
    {
     "name": "stdout",
     "output_type": "stream",
     "text": [
      "Datei gelöscht: example_moved.txt\n"
     ]
    }
   ],
   "source": [
    "File.Delete(newPath);\n",
    "Console.WriteLine(\"Datei gelöscht: \" + newPath);"
   ]
  },
  {
   "cell_type": "markdown",
   "metadata": {},
   "source": [
    "7. **Prüfen, ob eine Datei existiert**"
   ]
  },
  {
   "cell_type": "code",
   "execution_count": 7,
   "metadata": {
    "dotnet_interactive": {
     "language": "csharp"
    },
    "polyglot_notebook": {
     "kernelName": "csharp"
    },
    "vscode": {
     "languageId": "polyglot-notebook"
    }
   },
   "outputs": [
    {
     "name": "stdout",
     "output_type": "stream",
     "text": [
      "Die Datei existiert.\n"
     ]
    }
   ],
   "source": [
    "if (File.Exists(filePath))\n",
    "{\n",
    "    Console.WriteLine(\"Die Datei existiert.\");\n",
    "}\n",
    "else\n",
    "{\n",
    "    Console.WriteLine(\"Die Datei existiert nicht.\");\n",
    "}"
   ]
  },
  {
   "cell_type": "markdown",
   "metadata": {},
   "source": [
    "### Arbeiten mit Streams\n",
    "\n",
    "Die `File`-Klasse unterstützt auch das Arbeiten mit Streams, um effizientere Dateioperationen durchzuführen.\n",
    "\n",
    "#### Schreiben mit `StreamWriter`"
   ]
  },
  {
   "cell_type": "code",
   "execution_count": 8,
   "metadata": {
    "dotnet_interactive": {
     "language": "csharp"
    },
    "polyglot_notebook": {
     "kernelName": "csharp"
    },
    "vscode": {
     "languageId": "polyglot-notebook"
    }
   },
   "outputs": [
    {
     "name": "stdout",
     "output_type": "stream",
     "text": [
      "Zusätzlicher Text geschrieben.\n"
     ]
    }
   ],
   "source": [
    "using (StreamWriter writer = File.AppendText(filePath))\n",
    "{\n",
    "    writer.WriteLine(\"Zusätzlicher Text.\");\n",
    "    Console.WriteLine(\"Zusätzlicher Text geschrieben.\");\n",
    "}"
   ]
  },
  {
   "cell_type": "markdown",
   "metadata": {},
   "source": [
    "#### Lesen mit `StreamReader`"
   ]
  },
  {
   "cell_type": "code",
   "execution_count": 9,
   "metadata": {
    "dotnet_interactive": {
     "language": "csharp"
    },
    "polyglot_notebook": {
     "kernelName": "csharp"
    },
    "vscode": {
     "languageId": "polyglot-notebook"
    }
   },
   "outputs": [
    {
     "name": "stdout",
     "output_type": "stream",
     "text": [
      "Das ist ein Beispieltext.Zusätzlicher Text.\n"
     ]
    }
   ],
   "source": [
    "using (StreamReader reader = File.OpenText(filePath))\n",
    "{\n",
    "    string line;\n",
    "    while ((line = reader.ReadLine()) != null)\n",
    "    {\n",
    "        Console.WriteLine(line);\n",
    "    }\n",
    "}"
   ]
  },
  {
   "cell_type": "markdown",
   "metadata": {},
   "source": [
    "### Umgang mit Ausnahmen\n",
    "\n",
    "Da Dateioperationen fehlschlagen können (z. B. wegen fehlender Berechtigungen oder nicht vorhandener Dateien), sollte man Ausnahmen behandeln:"
   ]
  },
  {
   "cell_type": "code",
   "execution_count": 15,
   "metadata": {
    "dotnet_interactive": {
     "language": "csharp"
    },
    "polyglot_notebook": {
     "kernelName": "csharp"
    },
    "vscode": {
     "languageId": "polyglot-notebook"
    }
   },
   "outputs": [
    {
     "name": "stdout",
     "output_type": "stream",
     "text": [
      "Fehler: Could not find file '/Users/starkj/Documents/2hands/Soproming/Repo/JederKannCoden/notebooks/programming/csharp/framework/nonexistent.txt'.\n"
     ]
    }
   ],
   "source": [
    "try\n",
    "{\n",
    "    File.Move(\"nonexistent.txt\", newPath);\n",
    "}\n",
    "catch (IOException e)\n",
    "{\n",
    "    Console.WriteLine(\"Fehler: \" + e.Message);\n",
    "}"
   ]
  },
  {
   "cell_type": "markdown",
   "metadata": {},
   "source": [
    "### Beispiel: Dateioperationen in einem Arbeitskontext\n",
    "\n",
    "Angenommen, wir möchten ein Protokoll erstellen, das Sensordaten in einer Datei speichert und bei Bedarf ausliest:"
   ]
  },
  {
   "cell_type": "code",
   "execution_count": 16,
   "metadata": {
    "dotnet_interactive": {
     "language": "csharp"
    },
    "polyglot_notebook": {
     "kernelName": "csharp"
    },
    "vscode": {
     "languageId": "polyglot-notebook"
    }
   },
   "outputs": [
    {
     "name": "stdout",
     "output_type": "stream",
     "text": [
      "Sensordaten gespeichert.\n",
      "Gespeicherte Einträge:\n",
      "Timestamp: 17.01.2025 10:59:17, Value: 23.7°C\n"
     ]
    }
   ],
   "source": [
    "string logFile = \"sensor_log.txt\";\n",
    "\n",
    "// Sensordaten schreiben\n",
    "string sensorData = $\"Timestamp: {DateTime.Now}, Value: 23.7°C\";\n",
    "File.AppendAllText(logFile, sensorData + Environment.NewLine);\n",
    "Console.WriteLine(\"Sensordaten gespeichert.\");\n",
    "\n",
    "// Sensordaten auslesen\n",
    "string[] logEntries = File.ReadAllLines(logFile);\n",
    "Console.WriteLine(\"Gespeicherte Einträge:\");\n",
    "foreach (string entry in logEntries)\n",
    "{\n",
    "    Console.WriteLine(entry);\n",
    "}"
   ]
  },
  {
   "cell_type": "markdown",
   "metadata": {},
   "source": [
    "### Fazit\n",
    "\n",
    "Die `File`-Klasse bietet eine einfache Möglichkeit, häufige Dateioperationen durchzuführen. Für komplexere Szenarien wie parallelen Zugriff oder große Datenmengen können Streams oder andere Klassen wie `FileStream` verwendet werden."
   ]
  },
  {
   "cell_type": "markdown",
   "metadata": {},
   "source": [
    "## Vertiefung\n",
    "\n",
    "Zu Dateioperationen in C# gibt es weitere wichtige Aspekte, die je nach Anwendungsszenario relevant sein können:\n",
    "\n",
    "### 1. **Weitere Methoden der `File`-Klasse**\n",
    "\n",
    "Die `File`-Klasse bietet viele zusätzliche Funktionen, die über die grundlegenden Dateioperationen hinausgehen:\n",
    "\n",
    "- **`File.AppendText`**  \n",
    "  Fügt Text an eine vorhandene Datei an.\n",
    "  ```csharp\n",
    "  using (StreamWriter writer = File.AppendText(\"example.txt\"))\n",
    "  {\n",
    "      writer.WriteLine(\"Weitere Zeile.\");\n",
    "  }\n",
    "  ```\n",
    "\n",
    "- **`File.ReadAllLines`**  \n",
    "  Liest alle Zeilen einer Datei in ein Array von Zeichenfolgen.\n",
    "  ```csharp\n",
    "  string[] lines = File.ReadAllLines(\"example.txt\");\n",
    "  foreach (string line in lines)\n",
    "  {\n",
    "      Console.WriteLine(line);\n",
    "  }\n",
    "  ```\n",
    "\n",
    "- **`File.ReadAllBytes` und `File.WriteAllBytes`**  \n",
    "  Ermöglicht das Arbeiten mit Binärdaten. Diese Methoden eignen sich für Dateien wie Bilder oder Dokumente.\n",
    "  ```csharp\n",
    "  byte[] data = File.ReadAllBytes(\"image.png\");\n",
    "  File.WriteAllBytes(\"copy_image.png\", data);\n",
    "  ```\n",
    "\n",
    "- **`File.GetAttributes` und `File.SetAttributes`**  \n",
    "  Zum Abrufen und Festlegen von Dateiattributen wie \"Schreibgeschützt\" oder \"Versteckt\".\n",
    "  ```csharp\n",
    "  File.SetAttributes(\"example.txt\", FileAttributes.ReadOnly);\n",
    "  Console.WriteLine(File.GetAttributes(\"example.txt\"));\n",
    "  ```\n",
    "\n",
    "- **`File.GetLastWriteTime`**  \n",
    "  Liefert das Datum und die Uhrzeit der letzten Änderung.\n",
    "  ```csharp\n",
    "  DateTime lastWrite = File.GetLastWriteTime(\"example.txt\");\n",
    "  Console.WriteLine(\"Letzte Änderung: \" + lastWrite);\n",
    "  ```\n",
    "\n",
    "### 2. **Arbeiten mit großen Dateien**\n",
    "\n",
    "Für große Dateien, bei denen das Laden in den Speicher ineffizient wäre, sollte man Streams verwenden, um Daten stückweise zu lesen oder zu schreiben:\n",
    "\n",
    "- **Lesen großer Dateien mit Streams**\n",
    "  ```csharp\n",
    "  using (FileStream fs = File.OpenRead(\"largefile.txt\"))\n",
    "  using (StreamReader reader = new StreamReader(fs))\n",
    "  {\n",
    "      string line;\n",
    "      while ((line = reader.ReadLine()) != null)\n",
    "      {\n",
    "          Console.WriteLine(line);\n",
    "      }\n",
    "  }\n",
    "  ```\n",
    "\n",
    "- **Schreiben großer Dateien mit Streams**\n",
    "  ```csharp\n",
    "  using (FileStream fs = File.Create(\"largefile_output.txt\"))\n",
    "  using (StreamWriter writer = new StreamWriter(fs))\n",
    "  {\n",
    "      for (int i = 0; i < 100000; i++)\n",
    "      {\n",
    "          writer.WriteLine($\"Zeile {i + 1}\");\n",
    "      }\n",
    "  }\n",
    "  ```\n",
    "\n",
    "### 3. **Plattformübergreifende Pfadverwaltung**\n",
    "\n",
    "Dateipfade unterscheiden sich zwischen Windows und Unix/Linux-Systemen. Die `Path`-Klasse hilft bei der plattformunabhängigen Erstellung und Verwaltung von Pfaden.\n",
    "\n",
    "- **Beispiel: Arbeiten mit der `Path`-Klasse**\n",
    "  ```csharp\n",
    "  string folder = Path.Combine(\"C:\", \"Logs\");\n",
    "  string fileName = \"log.txt\";\n",
    "  string fullPath = Path.Combine(folder, fileName);\n",
    "\n",
    "  Console.WriteLine(\"Vollständiger Pfad: \" + fullPath);\n",
    "  ```\n",
    "\n",
    "### 4. **Asynchrone Dateioperationen**\n",
    "\n",
    "Asynchrone Methoden wie `File.ReadAllTextAsync` oder `File.WriteAllTextAsync` sind nützlich, um die Benutzeroberfläche nicht zu blockieren oder serverseitige Ressourcen effizienter zu nutzen.\n",
    "\n",
    "- **Beispiel: Asynchrone Dateioperation**\n",
    "  ```csharp\n",
    "  async Task ReadFileAsync()\n",
    "  {\n",
    "      string content = await File.ReadAllTextAsync(\"example.txt\");\n",
    "      Console.WriteLine(\"Gelesener Inhalt: \" + content);\n",
    "  }\n",
    "  ```\n",
    "\n",
    "### 5. **Zugriffsrechte und Berechtigungen**\n",
    "\n",
    "Manchmal ist es wichtig, Zugriffsrechte auf Dateien zu prüfen oder festzulegen. Dies wird in der Regel durch die `FileSecurity`-Klasse ermöglicht.\n",
    "\n",
    "- **Beispiel: Zugriffsrechte anzeigen**\n",
    "  ```csharp\n",
    "  var fileInfo = new FileInfo(\"example.txt\");\n",
    "  var security = fileInfo.GetAccessControl();\n",
    "\n",
    "  Console.WriteLine(security.GetOwner(typeof(System.Security.Principal.NTAccount)));\n",
    "  ```\n",
    "\n",
    "### 6. **Fehlerbehandlung und Robustheit**\n",
    "\n",
    "Dateioperationen können häufig fehlschlagen. Typische Fehlerquellen sind:\n",
    "- Die Datei existiert nicht (`FileNotFoundException`).\n",
    "- Keine Zugriffsrechte (`UnauthorizedAccessException`).\n",
    "- Eine Datei ist in Gebrauch (`IOException`).\n",
    "\n",
    "Es ist daher ratsam, `try-catch`-Blöcke zu verwenden, um Fehler robust zu behandeln und dem Nutzer ggf. Alternativen anzubieten.\n",
    "\n",
    "### 7. **Best Practices**\n",
    "- **Relative vs. absolute Pfade**: Nach Möglichkeit relative Pfade verwenden, um die Portabilität zu erhöhen.\n",
    "- **Pfadvalidierung**: Vor dem Zugriff sicherstellen, dass Pfade gültig und sicher sind.\n",
    "- **Ressourcenmanagement**: Streams oder Writer immer mit `using`-Blöcken verwenden, um Ressourcen ordnungsgemäß freizugeben.\n",
    "- **Asynchrone Verarbeitung**: Für zeitkritische Anwendungen asynchrone Methoden nutzen, um Blockaden zu vermeiden.\n",
    "\n",
    "### 8. **Praxisbeispiel: Sicherungskopie erstellen**\n",
    "\n",
    "Das folgende Beispiel erstellt eine Sicherungskopie einer Datei und fügt dabei ein Zeitstempel an den Dateinamen an:\n",
    "```csharp\n",
    "string originalFile = \"data.txt\";\n",
    "string backupFile = $\"data_backup_{DateTime.Now:yyyyMMdd_HHmmss}.txt\";\n",
    "\n",
    "if (File.Exists(originalFile))\n",
    "{\n",
    "    File.Copy(originalFile, backupFile);\n",
    "    Console.WriteLine($\"Sicherungskopie erstellt: {backupFile}\");\n",
    "}\n",
    "else\n",
    "{\n",
    "    Console.WriteLine(\"Originaldatei nicht gefunden.\");\n",
    "}\n",
    "```\n",
    "\n",
    "Wenn du ein spezifisches Szenario oder weitere Themen wie das Arbeiten mit temporären Dateien, `FileStream` oder Netzwerkpfaden betrachten möchtest, lass es mich wissen!"
   ]
  }
 ],
 "metadata": {
  "kernelspec": {
   "display_name": ".NET (C#)",
   "language": "C#",
   "name": ".net-csharp"
  },
  "language_info": {
   "name": "python"
  },
  "polyglot_notebook": {
   "kernelInfo": {
    "defaultKernelName": "csharp",
    "items": [
     {
      "aliases": [],
      "name": "csharp"
     }
    ]
   }
  }
 },
 "nbformat": 4,
 "nbformat_minor": 2
}
