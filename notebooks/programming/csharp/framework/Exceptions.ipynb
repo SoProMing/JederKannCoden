{
 "cells": [
  {
   "cell_type": "markdown",
   "metadata": {},
   "source": [
    "[Jeder kann coden](../../abstract/Contents.de.ipynb) / [Programmieren & TicTacToe](../../Programming_And_TicTacToe.de.ipynb) / [C# Einführung](../CSharp_Introduction.de.ipynb)\n",
    "\n",
    "# Exceptions\n",
    "\n",
    "<table border=\"0\">\n",
    "  <tr>\n",
    "    <td>\n",
    "        <img src=\"Exceptions.webp\">\n",
    "    </td>\n",
    "    <td rowspan=\"2\">\n",
    "        <a href=\"https://miro.com/app/board/o9J_lOJi2o0=/?moveToWidget=3458764554347680798&cot=14\"><img src=\"Radar_Exceptions.jpg\"></a>\n",
    "    </td>\n",
    "  </tr>\n",
    "  <tr>\n",
    "    <td>\n",
    "      <a href=\"https://learn.microsoft.com/de-de/dotnet/csharp/fundamentals/exceptions/\" target=\"_blank\">Grundlagen zu Exceptions in C#</a><br>\n",
    "      <a href=\"https://learn.microsoft.com/de-de/dotnet/standard/exceptions/\" target=\"_blank\">Übersicht über die .NET-Exception-Hierarchie</a><br>\n",
    "      <a href=\"https://learn.microsoft.com/de-de/dotnet/api/system.exception\" target=\"_blank\">System.Exception Klasse (API-Referenz)</a><br>\n",
    "      <a href=\"https://learn.microsoft.com/de-de/dotnet/csharp/language-reference/keywords/try-catch\" target=\"_blank\">try-catch-Schlüsselwort in C#</a><br>\n",
    "      <a href=\"https://learn.microsoft.com/de-de/dotnet/csharp/language-reference/keywords/throw\" target=\"_blank\">throw-Schlüsselwort in C#</a><br>\n",
    "      <a href=\"https://learn.microsoft.com/de-de/dotnet/csharp/language-reference/keywords/finally\" target=\"_blank\">finally-Schlüsselwort in C#</a><br>\n",
    "      <a href=\"https://learn.microsoft.com/de-de/dotnet/csharp/programming-guide/exceptions/creating-and-throwing-exceptions\" target=\"_blank\">Benutzerdefinierte Exceptions erstellen und verwenden</a><br>\n",
    "      <a href=\"https://learn.microsoft.com/de-de/dotnet/standard/exceptions/how-to-implement-user-defined-exceptions\" target=\"_blank\">How-to: Benutzerdefinierte Exceptions implementieren</a><br>\n",
    "      <a href=\"https://learn.microsoft.com/de-de/dotnet/framework/debug-trace-profile/handling-and-throwing-exceptions\" target=\"_blank\">Fehlerbehandlung und Auslösen von Exceptions in .NET Framework</a><br>\n",
    "      <a href=\"https://learn.microsoft.com/de-de/dotnet/core/diagnostics/\" target=\"_blank\">Diagnose und Debugging von .NET-Anwendungen</a><br>\n",
    "      <a href=\"https://learn.microsoft.com/de-de/dotnet/core/extensions/logging\" target=\"_blank\">Logging in .NET-Anwendungen</a>\n",
    "    </td>\n",
    "  </tr>\n",
    "</table>\n",
    "\n",
    "Die Seite behandelt die Grundlagen von *Exceptions* (Ausnahmen) in C# und erklärt, wie Fehler in Programmen behandelt werden können. Hier sind die wichtigsten Inhalte und Beispiele, kommentiert und erklärt:\n",
    "\n",
    "### 1. Einführung in Exceptions\n",
    "Exceptions sind Ereignisse, die während der Laufzeit auftreten und das normale Ausführen eines Programms unterbrechen. Sie werden verwendet, um Fehler zu erkennen und zu behandeln, ohne dass das Programm abstürzt.\n",
    "\n",
    "### 2. `try`, `catch`, `finally`-Blöcke\n",
    "Exceptions werden in C# oft mit `try`, `catch` und `finally` behandelt. Ein `try`-Block enthält den Code, der möglicherweise eine Ausnahme auslöst. `catch` fängt die Ausnahme ab und erlaubt es, den Fehler zu behandeln, und `finally` führt Code aus, der unabhängig davon läuft, ob eine Ausnahme auftrat oder nicht.\n",
    "\n",
    "#### Beispiel 1: Grundstruktur mit `try`, `catch`, und `finally`"
   ]
  },
  {
   "cell_type": "code",
   "execution_count": 1,
   "metadata": {
    "dotnet_interactive": {
     "language": "csharp"
    },
    "polyglot_notebook": {
     "kernelName": "csharp"
    },
    "vscode": {
     "languageId": "polyglot-notebook"
    }
   },
   "outputs": [
    {
     "name": "stdout",
     "output_type": "stream",
     "text": [
      "Fehler: Division durch Null ist nicht erlaubt.\n",
      "Dieser Block wird immer ausgeführt, egal ob eine Ausnahme auftritt oder nicht.\n"
     ]
    }
   ],
   "source": [
    "try\n",
    "{\n",
    "    int divisor = 0;\n",
    "    int result = 10 / divisor; // Dies löst eine Division durch Null Ausnahme aus\n",
    "}\n",
    "catch (DivideByZeroException ex)\n",
    "{\n",
    "    Console.WriteLine(\"Fehler: Division durch Null ist nicht erlaubt.\"); // Fehlerbehandlung\n",
    "}\n",
    "finally\n",
    "{\n",
    "    Console.WriteLine(\"Dieser Block wird immer ausgeführt, egal ob eine Ausnahme auftritt oder nicht.\"); // Cleanup-Code\n",
    "}"
   ]
  },
  {
   "cell_type": "markdown",
   "metadata": {},
   "source": [
    "- **Kommentar**: In diesem Beispiel wird versucht, durch Null zu teilen, was eine `DivideByZeroException` auslöst. Der `catch`-Block fängt die Ausnahme ab und gibt eine Fehlermeldung aus. Der `finally`-Block wird am Ende immer ausgeführt und kann zur Bereinigung genutzt werden.\n",
    "\n",
    "### 3. Spezifische Exceptions behandeln\n",
    "In C# können verschiedene Exception-Typen auftreten, wie `ArgumentNullException`, `FileNotFoundException` und viele mehr. Man kann mehrere `catch`-Blöcke verwenden, um verschiedene Exception-Typen zu behandeln.\n",
    "\n",
    "#### Beispiel 2: Mehrere `catch`-Blöcke"
   ]
  },
  {
   "cell_type": "code",
   "execution_count": 2,
   "metadata": {
    "dotnet_interactive": {
     "language": "csharp"
    },
    "polyglot_notebook": {
     "kernelName": "csharp"
    },
    "vscode": {
     "languageId": "polyglot-notebook"
    }
   },
   "outputs": [
    {
     "name": "stdout",
     "output_type": "stream",
     "text": [
      "Fehler: Es wurde auf ein null-Array zugegriffen.\n"
     ]
    }
   ],
   "source": [
    "try\n",
    "{\n",
    "    string[] names = null;\n",
    "    Console.WriteLine(names[0]); // Zugriff auf null-Array löst eine NullReferenceException aus\n",
    "}\n",
    "catch (NullReferenceException ex)\n",
    "{\n",
    "    Console.WriteLine(\"Fehler: Es wurde auf ein null-Array zugegriffen.\");\n",
    "}\n",
    "catch (IndexOutOfRangeException ex)\n",
    "{\n",
    "    Console.WriteLine(\"Fehler: Index außerhalb des Bereichs.\");\n",
    "}"
   ]
  },
  {
   "cell_type": "markdown",
   "metadata": {},
   "source": [
    "- **Kommentar**: Hier versucht das Programm, auf ein null-Array zuzugreifen, was eine `NullReferenceException` auslöst. Der entsprechende `catch`-Block behandelt diesen Fehler. Würde der Fehler nicht übereinstimmen, könnte ein anderer `catch`-Block einspringen.\n",
    "\n",
    "### 4. Benutzerdefinierte Exceptions\n",
    "Man kann eigene Exception-Typen erstellen, um spezifische Fehlerfälle in eigenen Anwendungen zu kennzeichnen. Hierzu wird von der `Exception`-Klasse abgeleitet.\n",
    "\n",
    "#### Beispiel 3: Benutzerdefinierte Exception"
   ]
  },
  {
   "cell_type": "code",
   "execution_count": 3,
   "metadata": {
    "dotnet_interactive": {
     "language": "csharp"
    },
    "polyglot_notebook": {
     "kernelName": "csharp"
    },
    "vscode": {
     "languageId": "polyglot-notebook"
    }
   },
   "outputs": [
    {
     "name": "stdout",
     "output_type": "stream",
     "text": [
      "Benutzerdefinierte Exception abgefangen: Alter kann nicht negativ sein.\n"
     ]
    }
   ],
   "source": [
    "public class InvalidAgeException : Exception\n",
    "{\n",
    "    public InvalidAgeException(string message) : base(message) { }\n",
    "}\n",
    "\n",
    "try\n",
    "{\n",
    "    int age = -5;\n",
    "    if (age < 0)\n",
    "    {\n",
    "        throw new InvalidAgeException(\"Alter kann nicht negativ sein.\"); // Benutzerdefinierte Exception\n",
    "    }\n",
    "}\n",
    "catch (InvalidAgeException ex)\n",
    "{\n",
    "    Console.WriteLine($\"Benutzerdefinierte Exception abgefangen: {ex.Message}\");\n",
    "}"
   ]
  },
  {
   "cell_type": "markdown",
   "metadata": {},
   "source": [
    "- **Kommentar**: Die benutzerdefinierte Exception `InvalidAgeException` wird erstellt und genutzt, um ein negatives Alter abzufangen. Dies ermöglicht spezifische Fehlerbehandlungen.\n",
    "\n",
    "### 5. Die `throw`-Anweisung\n",
    "Mit `throw` kann eine Exception explizit ausgelöst werden. Dies ist nützlich, wenn bestimmte Bedingungen nicht erfüllt sind.\n",
    "\n",
    "#### Beispiel 4: Verwendung von `throw`"
   ]
  },
  {
   "cell_type": "code",
   "execution_count": 4,
   "metadata": {
    "dotnet_interactive": {
     "language": "csharp"
    },
    "polyglot_notebook": {
     "kernelName": "csharp"
    },
    "vscode": {
     "languageId": "polyglot-notebook"
    }
   },
   "outputs": [
    {
     "name": "stdout",
     "output_type": "stream",
     "text": [
      "Fehler: Die Zahl muss positiv sein.\n"
     ]
    }
   ],
   "source": [
    "public static void CheckPositive(int number)\n",
    "{\n",
    "    if (number <= 0)\n",
    "    {\n",
    "        throw new ArgumentException(\"Die Zahl muss positiv sein.\"); // Ausnahme wird explizit ausgelöst\n",
    "    }\n",
    "}\n",
    "\n",
    "try\n",
    "{\n",
    "    CheckPositive(-1);\n",
    "}\n",
    "catch (ArgumentException ex)\n",
    "{\n",
    "    Console.WriteLine($\"Fehler: {ex.Message}\");\n",
    "}"
   ]
  },
  {
   "cell_type": "markdown",
   "metadata": {},
   "source": [
    "- **Kommentar**: Die Methode `CheckPositive` prüft, ob eine Zahl positiv ist. Wenn die Zahl negativ oder null ist, wird eine `ArgumentException` mit einer Nachricht ausgelöst.\n",
    "\n",
    "### 6. Exception-Wiederverwendung\n",
    "In einem `catch`-Block kann `throw;` ohne Argument genutzt werden, um die aktuelle Exception erneut auszulösen, sodass sie von anderen Teilen des Programms weiterverarbeitet werden kann.\n",
    "\n",
    "#### Beispiel 5: Exception-Wiederverwendung"
   ]
  },
  {
   "cell_type": "code",
   "execution_count": 5,
   "metadata": {
    "dotnet_interactive": {
     "language": "csharp"
    },
    "polyglot_notebook": {
     "kernelName": "csharp"
    },
    "vscode": {
     "languageId": "polyglot-notebook"
    }
   },
   "outputs": [
    {
     "name": "stdout",
     "output_type": "stream",
     "text": [
      "Fehler in innerem Block.\n",
      "Fehler im äußeren Block.\n"
     ]
    }
   ],
   "source": [
    "try\n",
    "{\n",
    "    try\n",
    "    {\n",
    "        int[] numbers = { 1, 2, 3 };\n",
    "        Console.WriteLine(numbers[5]); // Ausnahme auslösen\n",
    "    }\n",
    "    catch (IndexOutOfRangeException ex)\n",
    "    {\n",
    "        Console.WriteLine(\"Fehler in innerem Block.\");\n",
    "        throw; // Ausnahme weitergeben\n",
    "    }\n",
    "}\n",
    "catch (IndexOutOfRangeException ex)\n",
    "{\n",
    "    Console.WriteLine(\"Fehler im äußeren Block.\");\n",
    "}"
   ]
  },
  {
   "cell_type": "markdown",
   "metadata": {},
   "source": [
    "- **Kommentar**: Im inneren `catch`-Block wird die Ausnahme weitergegeben, um sie im äußeren `catch`-Block erneut zu behandeln.\n",
    "\n",
    "### 7. Ausnahmeinformationen anzeigen\n",
    "Exceptions besitzen Eigenschaften wie `Message`, `StackTrace` und `InnerException`, um zusätzliche Informationen bereitzustellen.\n",
    "\n",
    "#### Beispiel 6: Eigenschaften einer Exception"
   ]
  },
  {
   "cell_type": "code",
   "execution_count": 7,
   "metadata": {
    "dotnet_interactive": {
     "language": "csharp"
    },
    "polyglot_notebook": {
     "kernelName": "csharp"
    },
    "vscode": {
     "languageId": "polyglot-notebook"
    }
   },
   "outputs": [
    {
     "name": "stdout",
     "output_type": "stream",
     "text": [
      "Fehler: Attempted to divide by zero.\n",
      "Stapelverfolgung:    at Submission#7.<<Initialize>>d__0.MoveNext()\n"
     ]
    }
   ],
   "source": [
    "try\n",
    "{\n",
    "    int divisor = 0;\n",
    "    int result = 10 / divisor;\n",
    "}\n",
    "catch (DivideByZeroException ex)\n",
    "{\n",
    "    Console.WriteLine($\"Fehler: {ex.Message}\"); // Fehlermeldung\n",
    "    Console.WriteLine($\"Stapelverfolgung: {ex.StackTrace}\"); // StackTrace\n",
    "}"
   ]
  },
  {
   "cell_type": "markdown",
   "metadata": {},
   "source": [
    "- **Kommentar**: Dieses Beispiel zeigt, wie `Message` und `StackTrace` einer Exception genutzt werden können, um detaillierte Informationen zum Fehler zu erhalten.\n",
    "\n",
    "### 8. `when`-Filter in `catch`\n",
    "Mit `when` kann man Bedingungen festlegen, die ein `catch`-Block erfüllen muss.\n",
    "\n",
    "#### Beispiel 7: Verwendung von `catch` mit `when`"
   ]
  },
  {
   "cell_type": "code",
   "execution_count": 8,
   "metadata": {
    "dotnet_interactive": {
     "language": "csharp"
    },
    "polyglot_notebook": {
     "kernelName": "csharp"
    },
    "vscode": {
     "languageId": "polyglot-notebook"
    }
   },
   "outputs": [
    {
     "name": "stdout",
     "output_type": "stream",
     "text": [
      "Der Wert-Parameter war negativ.\n"
     ]
    }
   ],
   "source": [
    "try\n",
    "{\n",
    "    int value = -10;\n",
    "    if (value < 0)\n",
    "    {\n",
    "        throw new ArgumentOutOfRangeException(\"value\", \"Wert darf nicht negativ sein.\");\n",
    "    }\n",
    "}\n",
    "catch (ArgumentOutOfRangeException ex) when (ex.ParamName == \"value\")\n",
    "{\n",
    "    Console.WriteLine(\"Der Wert-Parameter war negativ.\");\n",
    "}\n"
   ]
  },
  {
   "cell_type": "markdown",
   "metadata": {},
   "source": [
    "- **Kommentar**: Hier wird ein `catch`-Block nur ausgeführt, wenn die Bedingung `ex.ParamName == \"value\"` erfüllt ist. Das ermöglicht eine gezielte Behandlung.\n",
    "\n",
    "### Cheatsheet Exceptions\n",
    "\n",
    "<a href=\"https://miro.com/app/board/o9J_lOJi2o0=/?moveToWidget=3458764514035549144&cot=14\"><img src=\"Cheatsheet_Exceptions.jpg\"></a>"
   ]
  },
  {
   "cell_type": "markdown",
   "metadata": {},
   "source": [
    "## Vertiefung\n",
    "\n",
    "Das Thema Exceptions in C# ist umfassend und bietet viele weitere Aspekte, die ergänzend behandelt werden können, um ein vollständiges Verständnis zu entwickeln. Hier einige zusätzliche Punkte:\n",
    "\n",
    "### 1. **Best Practices bei der Fehlerbehandlung**\n",
    "- **Nur erwartete Ausnahmen abfangen:** Fangen Sie nur solche Ausnahmen ab, die Sie sinnvoll behandeln können. Allgemeine `catch (Exception)`-Blöcke sollten vermieden werden, es sei denn, sie sind gut begründet.\n",
    "- **Spezifischere Ausnahmen zuerst behandeln:** Wenn mehrere `catch`-Blöcke verwendet werden, sollten spezifischere Ausnahmen vor allgemeine gesetzt werden.\n",
    "  ```csharp\n",
    "  try\n",
    "  {\n",
    "      // Code\n",
    "  }\n",
    "  catch (ArgumentOutOfRangeException ex)\n",
    "  {\n",
    "      // Behandlung spezifischer Ausnahme\n",
    "  }\n",
    "  catch (Exception ex)\n",
    "  {\n",
    "      // Allgemeine Ausnahmebehandlung\n",
    "  }\n",
    "  ```\n",
    "\n",
    "- **Vermeidung von `catch` ohne Aktion:** Leere `catch`-Blöcke führen dazu, dass Fehler ignoriert werden, was Debugging und Wartung erschwert.\n",
    "\n",
    "### 2. **Performance-Überlegungen**\n",
    "- Das Auslösen und Abfangen von Ausnahmen ist ressourcenintensiv. Verwenden Sie Ausnahmen daher nur für Fehlerfälle und nicht für Kontrollfluss.\n",
    "  \n",
    "  **Beispiel (schlecht):**\n",
    "  ```csharp\n",
    "  try\n",
    "  {\n",
    "      int index = Array.FindIndex(array, item => item == value);\n",
    "      if (index == -1) throw new Exception(\"Wert nicht gefunden.\");\n",
    "  }\n",
    "  catch\n",
    "  {\n",
    "      // Alternative Verarbeitung\n",
    "  }\n",
    "  ```\n",
    "\n",
    "  **Besser:**\n",
    "  ```csharp\n",
    "  int index = Array.FindIndex(array, item => item == value);\n",
    "  if (index == -1)\n",
    "  {\n",
    "      Console.WriteLine(\"Wert nicht gefunden.\");\n",
    "  }\n",
    "  ```\n",
    "\n",
    "### 3. **Ressourcenverwaltung mit `using`**\n",
    "Für Objekte, die Ressourcen belegen (z. B. Datei- oder Datenbankzugriffe), kann `using` verwendet werden. Es stellt sicher, dass die Ressourcen auch im Fehlerfall ordnungsgemäß freigegeben werden.\n",
    "\n",
    "```csharp\n",
    "using (StreamReader reader = new StreamReader(\"file.txt\"))\n",
    "{\n",
    "    string content = reader.ReadToEnd();\n",
    "    Console.WriteLine(content);\n",
    "}\n",
    "// Ressourcen werden hier automatisch freigegeben\n",
    "```\n",
    "\n",
    "- **Alternative mit `try`-`finally`:** Falls `using` nicht verwendet wird, kann ein `finally`-Block zur Freigabe genutzt werden.\n",
    "\n",
    "### 4. **Unbehandelte Ausnahmen**\n",
    "- **Globaler Exception-Handler:** Für Anwendungen (insbesondere GUIs oder Server) kann ein globaler Exception-Handler definiert werden, um unbehandelte Ausnahmen abzufangen.\n",
    "\n",
    "  **Beispiel (Konsolenanwendung):**\n",
    "  ```csharp\n",
    "  AppDomain.CurrentDomain.UnhandledException += (sender, args) =>\n",
    "  {\n",
    "      Console.WriteLine($\"Unbehandelte Ausnahme: {args.ExceptionObject}\");\n",
    "  };\n",
    "  ```\n",
    "\n",
    "### 5. **Asynchrone Fehlerbehandlung**\n",
    "Bei asynchronen Methoden (z. B. `async`/`await`) ist die Fehlerbehandlung ein wenig anders:\n",
    "- Exceptions in asynchronen Methoden können mit `try`-`catch` abgefangen werden.\n",
    "\n",
    "  ```csharp\n",
    "  try\n",
    "  {\n",
    "      await SomeAsyncMethod();\n",
    "  }\n",
    "  catch (Exception ex)\n",
    "  {\n",
    "      Console.WriteLine($\"Fehler: {ex.Message}\");\n",
    "  }\n",
    "  ```\n",
    "\n",
    "- Exceptions, die in `Task`-Objekten auftreten, können mit `Task.Wait` oder `Task.Result` abgefangen werden.\n",
    "\n",
    "### 6. **Dokumentation von Exceptions**\n",
    "- **XML-Kommentare:** Methoden, die Exceptions auslösen können, sollten dies in den XML-Kommentaren dokumentieren. Dies hilft Entwicklern, sich auf mögliche Fehler vorzubereiten.\n",
    "\n",
    "  ```csharp\n",
    "  /// <summary>\n",
    "  /// Führt eine Berechnung aus.\n",
    "  /// </summary>\n",
    "  /// <param name=\"value\">Ein Wert für die Berechnung.</param>\n",
    "  /// <exception cref=\"ArgumentOutOfRangeException\">Wenn der Wert negativ ist.</exception>\n",
    "  public void Calculate(int value)\n",
    "  {\n",
    "      if (value < 0) throw new ArgumentOutOfRangeException(nameof(value));\n",
    "  }\n",
    "  ```\n",
    "\n",
    "### 7. **Serialisierbare Exceptions**\n",
    "Benutzerdefinierte Exceptions sollten mit `[Serializable]` markiert und korrekt serialisierbar gemacht werden, um in verteilten Anwendungen genutzt werden zu können.\n",
    "\n",
    "```csharp\n",
    "[Serializable]\n",
    "public class MyCustomException : Exception\n",
    "{\n",
    "    public MyCustomException() { }\n",
    "    public MyCustomException(string message) : base(message) { }\n",
    "    public MyCustomException(string message, Exception inner) : base(message, inner) { }\n",
    "    protected MyCustomException(SerializationInfo info, StreamingContext context) : base(info, context) { }\n",
    "}\n",
    "```\n",
    "\n",
    "### 8. **Exception-Hierarchie**\n",
    "Die Klassenhierarchie für Exceptions in .NET hilft, spezifische Ausnahmen besser zu verstehen:\n",
    "- `System.Exception`: Basisklasse für alle Ausnahmen.\n",
    "- `System.SystemException`: Basisklasse für Ausnahmen, die vom Laufzeitsystem ausgelöst werden.\n",
    "- `System.ApplicationException`: Kann für benutzerdefinierte Ausnahmen verwendet werden, wird jedoch selten genutzt.\n",
    "\n",
    "### 9. **Logging von Exceptions**\n",
    "Fehler sollten idealerweise protokolliert werden, um sie später analysieren zu können. Tools wie `Serilog`, `NLog` oder das .NET-Built-in Logging Framework können dafür verwendet werden.\n",
    "\n",
    "```csharp\n",
    "try\n",
    "{\n",
    "    throw new InvalidOperationException(\"Fehlerhafte Operation.\");\n",
    "}\n",
    "catch (Exception ex)\n",
    "{\n",
    "    // Beispiel mit Serilog\n",
    "    Log.Error(ex, \"Ein Fehler ist aufgetreten.\");\n",
    "}\n",
    "```"
   ]
  }
 ],
 "metadata": {
  "kernelspec": {
   "display_name": ".NET (C#)",
   "language": "C#",
   "name": ".net-csharp"
  },
  "language_info": {
   "name": "python"
  },
  "polyglot_notebook": {
   "kernelInfo": {
    "defaultKernelName": "csharp",
    "items": [
     {
      "aliases": [],
      "name": "csharp"
     }
    ]
   }
  }
 },
 "nbformat": 4,
 "nbformat_minor": 2
}
