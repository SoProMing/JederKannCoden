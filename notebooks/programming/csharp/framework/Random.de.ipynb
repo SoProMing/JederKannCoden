{
 "cells": [
  {
   "cell_type": "markdown",
   "metadata": {},
   "source": [
    "[Jeder kann coden](../../abstract/Contents.de.ipynb) / [Programmieren & TicTacToe](../../Programming_And_TicTacToe.de.ipynb) / [C# Einführung](../CSharp_Introduction.de.ipynb)\n",
    "\n",
    "# .NET System.Random\n",
    "\n",
    "<img src=\"Random.webp\" style=\"width:280px; height:280px;\"/>\n",
    "\n",
    "In C# ist die Klasse  `Random`  Teil des Namensraums  `System`  und wird verwendet, um Pseudozufallszahlen zu generieren. Die Zahlen sind deterministisch, wenn sie mit demselben Seed initialisiert werden, da die  `Random`-Klasse einen Algorithmus verwendet, der den Zufall simuliert.\n",
    "\n",
    "### Erstellung eines Random-Objekts"
   ]
  },
  {
   "cell_type": "code",
   "execution_count": 61,
   "metadata": {
    "dotnet_interactive": {
     "language": "csharp"
    },
    "polyglot_notebook": {
     "kernelName": "csharp"
    },
    "vscode": {
     "languageId": "polyglot-notebook"
    }
   },
   "outputs": [
    {
     "name": "stdout",
     "output_type": "stream",
     "text": [
      "1939825708\n"
     ]
    }
   ],
   "source": [
    "Random random = new Random();\n",
    "Console.WriteLine(random.Next());"
   ]
  },
  {
   "cell_type": "markdown",
   "metadata": {},
   "source": [
    "Optional kann ein Seed angegeben werden:"
   ]
  },
  {
   "cell_type": "code",
   "execution_count": 57,
   "metadata": {
    "dotnet_interactive": {
     "language": "csharp"
    },
    "polyglot_notebook": {
     "kernelName": "csharp"
    },
    "vscode": {
     "languageId": "polyglot-notebook"
    }
   },
   "outputs": [
    {
     "name": "stdout",
     "output_type": "stream",
     "text": [
      "1434747710\n",
      "302596119\n",
      "269548474\n",
      "1122627734\n"
     ]
    }
   ],
   "source": [
    "Random randomWithSeed = new Random(42); // Der Seed 42 führt immer zu den gleichen \"zufälligen\" Ergebnissen.`\n",
    "Console.WriteLine(randomWithSeed.Next()); \n",
    "Console.WriteLine(randomWithSeed.Next()); \n",
    "Console.WriteLine(randomWithSeed.Next()); \n",
    "Console.WriteLine(randomWithSeed.Next()); "
   ]
  },
  {
   "cell_type": "markdown",
   "metadata": {},
   "source": [
    "### Methoden der  `Random`-Klasse\n",
    "\n",
    "1.  **`Next()`**\n",
    "    \n",
    "    -   Gibt eine nichtnegative Ganzzahl zurück.\n",
    "    -   Beispiel:"
   ]
  },
  {
   "cell_type": "code",
   "execution_count": 6,
   "metadata": {
    "dotnet_interactive": {
     "language": "csharp"
    },
    "polyglot_notebook": {
     "kernelName": "csharp"
    },
    "vscode": {
     "languageId": "polyglot-notebook"
    }
   },
   "outputs": [
    {
     "name": "stdout",
     "output_type": "stream",
     "text": [
      "1178624418\n"
     ]
    }
   ],
   "source": [
    "int randomInt = random.Next();\n",
    "Console.WriteLine(randomInt);"
   ]
  },
  {
   "cell_type": "markdown",
   "metadata": {},
   "source": [
    "2.  **`Next(int maxValue)`**\n",
    "    \n",
    "    -   Gibt eine nichtnegative Ganzzahl kleiner als  `maxValue`  zurück.\n",
    "    -   Beispiel:"
   ]
  },
  {
   "cell_type": "code",
   "execution_count": 18,
   "metadata": {
    "dotnet_interactive": {
     "language": "csharp"
    },
    "polyglot_notebook": {
     "kernelName": "csharp"
    },
    "vscode": {
     "languageId": "polyglot-notebook"
    }
   },
   "outputs": [
    {
     "name": "stdout",
     "output_type": "stream",
     "text": [
      "1\n"
     ]
    }
   ],
   "source": [
    "int randomInt = random.Next(10); // Werte zwischen 0 und 9\n",
    "Console.WriteLine(randomInt);"
   ]
  },
  {
   "cell_type": "markdown",
   "metadata": {},
   "source": [
    "3.  **`Next(int minValue, int maxValue)`**\n",
    "    \n",
    "    -   Gibt eine Ganzzahl zurück, die mindestens  `minValue`  und kleiner als  `maxValue`  ist.\n",
    "    -   Beispiel:"
   ]
  },
  {
   "cell_type": "code",
   "execution_count": 23,
   "metadata": {
    "dotnet_interactive": {
     "language": "csharp"
    },
    "polyglot_notebook": {
     "kernelName": "csharp"
    },
    "vscode": {
     "languageId": "polyglot-notebook"
    }
   },
   "outputs": [
    {
     "name": "stdout",
     "output_type": "stream",
     "text": [
      "12\n"
     ]
    }
   ],
   "source": [
    "int randomInt = random.Next(5, 15); // Werte zwischen 5 und 14\n",
    "Console.WriteLine(randomInt); "
   ]
  },
  {
   "cell_type": "markdown",
   "metadata": {},
   "source": [
    "4.  **`NextDouble()`**\n",
    "    \n",
    "    -   Gibt eine Fließkommazahl zurück, die größer oder gleich 0,0 und kleiner als 1,0 ist.\n",
    "    -   Beispiel:"
   ]
  },
  {
   "cell_type": "code",
   "execution_count": 28,
   "metadata": {
    "dotnet_interactive": {
     "language": "csharp"
    },
    "polyglot_notebook": {
     "kernelName": "csharp"
    },
    "vscode": {
     "languageId": "polyglot-notebook"
    }
   },
   "outputs": [
    {
     "name": "stdout",
     "output_type": "stream",
     "text": [
      "0,45570452535841655\n"
     ]
    }
   ],
   "source": [
    "double randomDouble = random.NextDouble();\n",
    "Console.WriteLine(randomDouble);"
   ]
  },
  {
   "cell_type": "markdown",
   "metadata": {},
   "source": [
    "5.  **`NextBytes(byte[] buffer)`**\n",
    "    \n",
    "    -   Füllt ein Byte-Array mit zufälligen Bytes.\n",
    "    -   Beispiel:"
   ]
  },
  {
   "cell_type": "code",
   "execution_count": 64,
   "metadata": {
    "dotnet_interactive": {
     "language": "csharp"
    },
    "polyglot_notebook": {
     "kernelName": "csharp"
    },
    "vscode": {
     "languageId": "polyglot-notebook"
    }
   },
   "outputs": [
    {
     "name": "stdout",
     "output_type": "stream",
     "text": [
      "232, 218, 88, 94, 92\n"
     ]
    }
   ],
   "source": [
    "byte[] bytes = new byte[5];\n",
    "random.NextBytes(bytes);\n",
    "Console.WriteLine(string.Join(\", \", bytes));"
   ]
  },
  {
   "cell_type": "markdown",
   "metadata": {},
   "source": [
    "### Beispiele\n",
    "\n",
    "#### Beispiel 1: Würfeln (1 bis 6)"
   ]
  },
  {
   "cell_type": "code",
   "execution_count": 62,
   "metadata": {
    "dotnet_interactive": {
     "language": "csharp"
    },
    "polyglot_notebook": {
     "kernelName": "csharp"
    },
    "vscode": {
     "languageId": "polyglot-notebook"
    }
   },
   "outputs": [
    {
     "name": "stdout",
     "output_type": "stream",
     "text": [
      "Würfelergebnis: 4\n"
     ]
    }
   ],
   "source": [
    "Random random = new Random();\n",
    "int diceRoll = random.Next(1, 7); // Zufällige Zahl zwischen 1 und 6\n",
    "Console.WriteLine($\"Würfelergebnis: {diceRoll}\");"
   ]
  },
  {
   "cell_type": "markdown",
   "metadata": {},
   "source": [
    "#### Beispiel 2: Zufälliger Bruchteil"
   ]
  },
  {
   "cell_type": "code",
   "execution_count": 63,
   "metadata": {
    "dotnet_interactive": {
     "language": "csharp"
    },
    "polyglot_notebook": {
     "kernelName": "csharp"
    },
    "vscode": {
     "languageId": "polyglot-notebook"
    }
   },
   "outputs": [
    {
     "name": "stdout",
     "output_type": "stream",
     "text": [
      "Zufälliger Bruchteil: 0,2897057851918725\n"
     ]
    }
   ],
   "source": [
    "Random random = new Random();\n",
    "double fraction = random.NextDouble();\n",
    "Console.WriteLine($\"Zufälliger Bruchteil: {fraction}\");"
   ]
  },
  {
   "cell_type": "markdown",
   "metadata": {},
   "source": [
    "#### Beispiel 3: Zufällige Zeichenkette"
   ]
  },
  {
   "cell_type": "code",
   "execution_count": 40,
   "metadata": {
    "dotnet_interactive": {
     "language": "csharp"
    },
    "polyglot_notebook": {
     "kernelName": "csharp"
    },
    "vscode": {
     "languageId": "polyglot-notebook"
    }
   },
   "outputs": [
    {
     "name": "stdout",
     "output_type": "stream",
     "text": [
      "Zufälliges Zeichen: 2\n"
     ]
    }
   ],
   "source": [
    "Random random = new Random();\n",
    "string chars = \"ABCDEFGHIJKLMNOPQRSTUVWXYZabcdefghijklmnopqrstuvwxyz0123456789\";\n",
    "char randomChar = chars[random.Next(chars.Length)];\n",
    "Console.WriteLine($\"Zufälliges Zeichen: {randomChar}\");"
   ]
  },
  {
   "cell_type": "markdown",
   "metadata": {},
   "source": [
    "### Wichtige Hinweise\n",
    "\n",
    "-   **Determinismus:**  Wenn zwei  `Random`-Objekte mit demselben Seed erstellt werden, erzeugen sie dieselbe Sequenz von Zufallszahlen.\n",
    "-   **Thread-Sicherheit:**  Die  `Random`-Klasse ist nicht threadsicher. Für Multithreading kann  `Random.Shared`  oder  `ThreadLocal<Random>`  verwendet werden.\n",
    "-   **Vermeidung häufiger Initialisierung:**  Das häufige Erstellen neuer  `Random`-Instanzen mit demselben Seed (z. B. ohne expliziten Seed, kurz nacheinander) kann zu identischen Ergebnissen führen."
   ]
  }
 ],
 "metadata": {
  "kernelspec": {
   "display_name": ".NET (C#)",
   "language": "C#",
   "name": ".net-csharp"
  },
  "language_info": {
   "name": "python"
  },
  "polyglot_notebook": {
   "kernelInfo": {
    "defaultKernelName": "csharp",
    "items": [
     {
      "aliases": [],
      "name": "csharp"
     }
    ]
   }
  }
 },
 "nbformat": 4,
 "nbformat_minor": 2
}
