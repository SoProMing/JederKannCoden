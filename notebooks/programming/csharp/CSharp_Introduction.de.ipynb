{
 "cells": [
  {
   "cell_type": "markdown",
   "metadata": {},
   "source": [
    "# Einführung in C#\n",
    "\n",
    "<img src=\"Introduction_csharp.webp\" style=\"width:280px; height:280px;\">"
   ]
  },
  {
   "cell_type": "markdown",
   "metadata": {},
   "source": [
    "Dieses Notebook bietet eine umfassende Einführung in die Grundlagen von C# und behandelt verschiedene Konzepte und Syntaxelemente dieser Programmiersprache. C# ist eine der Hauptsprachen, die auf der .NET-Plattform verwendet werden, und eignet sich für eine Vielzahl von Anwendungen, von Desktop-Programmen bis hin zu Web-Anwendungen und Spielen.\n",
    "\n",
    "Folgende wichtige Grundkonzepte werden in diesem Notebook angesprochen:\n",
    "- [Das Konzept einer Variablen](#das-konzept-einer-variablen)\n",
    "- [Datentypen: `int`, `float`, und `double`](#datentypen--int--float-und--double)\n",
    "- [Strings](#mit-strings-arbeiten)\n",
    "- [Arrays](#arrays-in-c)\n",
    "- [Kommentare](#kommentare)\n",
    "- [Datentypen: `var` und echte Literale](#weitere-variablentypen)\n",
    "- [Typen \"casting\"](#typen-casting)\n",
    "- [Operatoren](#operatoren)\n",
    "- [Bedingte Anweisungen](#bedingte-anweisungen)\n",
    "- [Schleifen](#schleifen)\n",
    "- [Prozeduren und Funktionen](#prozeduren-und-funktionen)\n",
    "- [Komplexere Datenstrukturen](#komplexere-datenstrukturen)\n",
    "\n",
    "### Der Rote Faden\n",
    "\n",
    "Der rote Faden zeigt auf, wie einzelne Themen und Cluster von Themen aufeinander aufbauen, um Programmieren stukturiert zu erlernen.\n",
    "\n",
    "<details>\n",
    "<summary>Inline miro frame vom \"roten Faden\"...</summary>\n",
    "<iframe src=\"https://miro.com/app/board/o9J_lOJi2o0=/?moveToWidget=3458764554347680798&cot=14\" width=\"100%\" height=\"600px\"></iframe>\n",
    "</details>\n",
    "\n",
    "[Link auf den \"roten Faden\" in Miro...](https://miro.com/app/board/o9J_lOJi2o0=/?moveToWidget=3458764554347680798&cot=14)\n",
    "\n",
    "### Weitere Resourcen\n",
    "\n",
    "[Link zur Microsoft Dokumentation](https://learn.microsoft.com/de-de/dotnet/csharp/tour-of-csharp/tutorials/)"
   ]
  },
  {
   "cell_type": "markdown",
   "metadata": {},
   "source": [
    "## Mit C# loslegen\n",
    "\n",
    "### Was ist C#?\n",
    "\n",
    "-   Moderne, objektorientierte Programmiersprache\n",
    "-   Von Microsoft entwickelt\n",
    "-   Teil des .NET-Frameworks\n",
    "-   Leistungsstark und leicht zu erlernen\n",
    "-   Funktionen: stark typisierte Variablen, Klassen, Vererbung, reichhaltige Standardbibliothek\n",
    "\n",
    "-   **Compiler:**\n",
    "    \n",
    "    -   Spezielles Programm zur Übersetzung von Quellcode in Maschinensprache\n",
    "    -   Bei C#: zweistufiger Übersetzungsprozess:\n",
    "        1.  Quellcode → Intermediate Language (IL)\n",
    "        2.  IL → Maschinencode (durch .NET Common Language Runtime - CLR)\n",
    "    -   Vorteil: Plattformunabhängigkeit (vorausgesetzt .NET-Framework ist vorhanden)\n",
    "\n",
    "-   **C# grundlegende Syntax:**\n",
    "    \n",
    "    -   Programm besteht aus  `using`-Anweisungen (Import von Namespaces)\n",
    "    -   Klasse als Container für Code\n",
    "    -   `Main`-Methode als Einstiegspunkt des Programms\n",
    "\n",
    "<details>\n",
    "<summary>Nochmal zum Nachlesen...</summary>\n",
    "\n",
    "C# ist eine fortschrittliche und moderne Programmiersprache, die speziell von Microsoft entwickelt wurde und eine zentrale Komponente des leistungsfähigen .NET-Frameworks darstellt. Sie wurde mit dem Ziel entworfen, eine Programmiersprache zu schaffen, die sowohl die Leistungsfähigkeit und Flexibilität bietet, die von professionellen Entwicklern benötigt wird, als auch eine einfache und intuitive Lernkurve für Einsteiger aufweist. C# kombiniert die bewährten Prinzipien der objektorientierten Programmierung mit einer Vielzahl von fortschrittlichen Funktionen, die es Entwicklern ermöglichen, robuste, skalierbare und wiederverwendbare Anwendungen zu erstellen.\n",
    "\n",
    "Die Sprache ist stark typisiert, was bedeutet, dass der Datentyp einer Variablen explizit festgelegt wird und somit eine strenge Typprüfung durch den Compiler erfolgt. Dies trägt zur Fehlervermeidung bei und sorgt für eine höhere Codequalität. Zusätzlich bietet C# eine umfangreiche Unterstützung für die Definition von Klassen, die als Baupläne für Objekte dienen und zentrale Elemente der objektorientierten Programmierung sind. Durch die Möglichkeit der Vererbung können Klassen Funktionalitäten von anderen Klassen erben, was zu einer besseren Wiederverwendbarkeit und Organisation des Codes führt. Darüber hinaus bietet C# eine reichhaltige Standardbibliothek, die eine Vielzahl vorgefertigter Funktionen und Klassen zur Verfügung stellt, welche die Entwicklung beschleunigen und die Implementierung komplexer Aufgaben vereinfachen.\n",
    "\n",
    "### Was ist ein Compiler?\n",
    "\n",
    "Ein Compiler ist ein spezielles Softwarewerkzeug, das den von einem Entwickler in einer höheren Programmiersprache wie C# verfassten Quellcode in eine Form übersetzt, die von einem Computer direkt ausgeführt werden kann. Dieser Prozess ist von zentraler Bedeutung in der Softwareentwicklung, da Computer selbst den Quellcode in seiner ursprünglichen Form nicht verstehen können. Stattdessen muss dieser Code in Maschinensprache umgewandelt werden, eine Sprache, die aus einer Reihe von binären Instruktionen besteht, die die CPU des Computers direkt verarbeiten kann.\n",
    "\n",
    "Im Kontext von C# erfolgt diese Übersetzung in zwei Schritten, um eine optimale Ausführung und Plattformunabhängigkeit zu gewährleisten:\n",
    "\n",
    "1. **Übersetzung des Quellcodes in die Intermediate Language (IL)**: Der C#-Compiler, auch als C#-Kompilierer bekannt, nimmt den geschriebenen Quellcode und wandelt ihn zunächst in eine Zwischensprache um, die als Intermediate Language (IL) bezeichnet wird. Diese IL ist eine plattformunabhängige Repräsentation des Codes, die noch nicht direkt von der Hardware ausgeführt werden kann, aber bereits wesentlich näher an der Maschinensprache liegt als der ursprüngliche Quellcode.\n",
    "\n",
    "2. **Konvertierung der IL in Maschinencode**: Beim Starten der Anwendung übernimmt die .NET Common Language Runtime (CLR) die Verantwortung für den nächsten Schritt. Sie übersetzt die IL in den nativen Maschinencode, der spezifisch auf der Zielmaschine ausgeführt werden kann. Dieser Just-In-Time- (JIT-)Kompilierungsprozess sorgt dafür, dass der Code optimal auf der jeweiligen Hardware ausgeführt wird. Der Vorteil dieses zweistufigen Kompilierungsprozesses besteht darin, dass der gleiche C#-Code auf verschiedenen Plattformen laufen kann, solange diese das .NET-Framework oder eine kompatible Umgebung unterstützen.\n",
    "\n",
    "### Grundlegende Syntax von C#\n",
    "\n",
    "Ein typisches C#-Programm folgt einer klar strukturierten Syntax, die den Aufbau des Programms definiert. Ein einfaches C#-Programm besteht aus mehreren wesentlichen Elementen:\n",
    "\n",
    "- **`using`-Anweisungen**: Diese befinden sich am Anfang des Programms und dienen dazu, Namespaces zu importieren. Namespaces sind Sammlungen von Klassen und anderen Typen, die das Programm verwendet. Durch das Importieren eines Namespaces können Sie auf dessen Inhalte zugreifen, ohne deren vollständigen Pfad angeben zu müssen. Beispielsweise ermöglicht `using System;` den Zugriff auf grundlegende Funktionalitäten wie das Schreiben von Ausgaben auf die Konsole.\n",
    "\n",
    "- **Klasse**: In C# wird der gesamte Code innerhalb von Klassen organisiert. Eine Klasse fungiert als Container für Felder, Methoden und andere Mitglieder, die zusammen die Funktionalität des Programms definieren. Jede Anwendung in C# hat mindestens eine Klasse, die den Hauptcode enthält.\n",
    "\n",
    "- **`Main`-Methode**: Diese Methode stellt den Einstiegspunkt eines jeden C#-Programms dar. Wenn das Programm gestartet wird, beginnt die Ausführung mit der `Main`-Methode. Diese Methode kann Parameter empfangen und steuert die Ausführung des Programms.\n",
    "</details>\n",
    "\n",
    "### Hello world!"
   ]
  },
  {
   "cell_type": "markdown",
   "metadata": {
    "dotnet_interactive": {
     "language": "csharp"
    },
    "polyglot_notebook": {
     "kernelName": "csharp"
    }
   },
   "source": [
    "```csharp\n",
    "using System;\n",
    "\n",
    "class Program\n",
    "{\n",
    "    static void Main()\n",
    "    {\n",
    "        Console.WriteLine(\"Hello, World!\");\n",
    "    }\n",
    "}\n",
    "``` "
   ]
  },
  {
   "cell_type": "markdown",
   "metadata": {},
   "source": [
    "\n",
    "Hier wird  `System`  importiert, ein Namespace, der grundlegende Funktionen bereitstellt, wie das Drucken auf der Konsole. Die  `Main`-Methode ist der Einstiegspunkt des Programms.\n",
    "\n",
    "[Vertiefung zum \"Hello World\" Beispiel...](procedural-functional/CSharp_HelloWorld_Explanation.de.ipynb) →"
   ]
  },
  {
   "cell_type": "markdown",
   "metadata": {},
   "source": [
    "[Grundlagen zu `WriteLine()`...](procedural-functional/Console_WriteLine_Basics.de.ipynb) →"
   ]
  },
  {
   "cell_type": "markdown",
   "metadata": {},
   "source": [
    "## Das Konzept einer Variablen\n",
    "\n",
    "← [Datentypen und Variablen am Beispiel von TicTacToe](../Programming_And_TicTacToe.de.ipynb#Datentypen-und-Variablen)\n",
    "\n",
    "Eine Variable in C# ist ein benannter Speicherort im Arbeitsspeicher eines Programms, der dazu verwendet wird, Daten zu speichern und darauf zuzugreifen. Variablen ermöglichen es, Werte vorübergehend zu speichern, um sie im weiteren Verlauf des Programms zu verwenden. Sie sind ein fundamentales Konzept in der Programmierung, da sie es erlauben, mit Daten flexibel und dynamisch zu arbeiten.\n",
    "\n",
    "### Aufbau einer Variable\n",
    "\n",
    "1.  **Deklaration**: Um eine Variable in C# zu verwenden, muss sie zuerst deklariert werden. Bei der Deklaration einer Variablen wird der Typ festgelegt, der angibt, welche Art von Daten die Variable speichern kann. Der Variablenname muss eindeutig sein und den Namenskonventionen von C# folgen.\n",
    "    \n",
    "    -   Beispiel:  `int age;`  Hier wird eine Variable namens  `age`  deklariert, die einen Ganzzahlwert speichern kann.\n",
    "2.  **Initialisierung**: Nach der Deklaration kann der Variablen ein Wert zugewiesen werden. Dies kann entweder direkt bei der Deklaration oder zu einem späteren Zeitpunkt im Code geschehen.\n",
    "    \n",
    "    -   Beispiel:  `int age = 25;`  Hier wird der Variablen  `age`  direkt ein Wert zugewiesen.\n",
    "3.  **Zugriff und Modifikation**: Nachdem eine Variable deklariert und initialisiert wurde, kann auf ihren Wert zugegriffen und dieser bei Bedarf geändert werden.\n",
    "    \n",
    "    -   Beispiel:  `age = 30;`  Hier wird der Wert von  `age`  auf 30 geändert."
   ]
  },
  {
   "cell_type": "code",
   "execution_count": 2,
   "metadata": {
    "dotnet_interactive": {
     "language": "csharp"
    },
    "polyglot_notebook": {
     "kernelName": "csharp"
    },
    "vscode": {
     "languageId": "polyglot-notebook"
    }
   },
   "outputs": [
    {
     "name": "stdout",
     "output_type": "stream",
     "text": [
      "0\n",
      "><\n"
     ]
    }
   ],
   "source": [
    "int age;\n",
    "Console.WriteLine(age);\n",
    "string name;\n",
    "Console.WriteLine($\">{name}<\");"
   ]
  },
  {
   "cell_type": "markdown",
   "metadata": {},
   "source": [
    "### Typen von Variablen\n",
    "\n",
    "In C# sind Variablen stark typisiert, was bedeutet, dass der Typ einer Variablen zur Zeit der Deklaration festgelegt wird und sich nicht mehr ändern kann. Die wichtigsten Typen von Variablen sind:\n",
    "\n",
    "-   **Primitive Datentypen**: Diese umfassen einfache Datentypen wie Ganzzahlen (`int`), Gleitkommazahlen (`float`,  `double`), Zeichen (`char`) und Wahrheitswerte (`bool`).\n",
    "-   **Referenztypen**: Zu den Referenztypen gehören komplexere Datentypen wie Klassen, Arrays, Strings und Objekte. Im Gegensatz zu primitiven Datentypen speichern Referenztypen einen Verweis (Referenz) auf den tatsächlichen Speicherort der Daten, nicht die Daten selbst."
   ]
  },
  {
   "cell_type": "code",
   "execution_count": 3,
   "metadata": {
    "dotnet_interactive": {
     "language": "csharp"
    },
    "polyglot_notebook": {
     "kernelName": "csharp"
    },
    "vscode": {
     "languageId": "polyglot-notebook"
    }
   },
   "outputs": [
    {
     "name": "stdout",
     "output_type": "stream",
     "text": [
      "False\n"
     ]
    }
   ],
   "source": [
    "bool test;\n",
    "Console.WriteLine(test);"
   ]
  },
  {
   "cell_type": "markdown",
   "metadata": {},
   "source": [
    "### Lebensdauer und Sichtbarkeit\n",
    "\n",
    "Der Gültigkeitsbereich (Scope) einer Variablen bestimmt, wo im Code auf sie zugegriffen werden kann. Variablen können lokal (innerhalb einer Methode) oder global (z.B. als Klassenfelder) deklariert werden.\n",
    "\n",
    "-   **Lokale Variablen**: Diese existieren nur innerhalb der Methode oder des Blocks, in dem sie deklariert wurden. Nach Verlassen des Blocks wird der Speicher, der der Variablen zugewiesen wurde, freigegeben.\n",
    "    -   Beispiel:  `void MyMethod() { int x = 5; }`\n",
    "-   **Globale bzw. Klassenvariablen**: Diese werden in der Klasse selbst deklariert und sind für alle Methoden dieser Klasse zugänglich, solange sie im entsprechenden Gültigkeitsbereich liegen.\n",
    "    -   Beispiel:  `class MyClass { int y; }`"
   ]
  },
  {
   "cell_type": "markdown",
   "metadata": {},
   "source": [
    "### Wichtige Konzepte im Zusammenhang mit Variablen\n",
    "\n",
    "1.  **Konstanten**: In C# gibt es auch die Möglichkeit, Variablen als konstant zu deklarieren. Diese Variablen können nach ihrer Initialisierung nicht mehr verändert werden. Das Schlüsselwort dafür ist  `const`.\n",
    "    \n",
    "    -   Beispiel:  `const int MAX_AGE = 100;`\n",
    "2.  **Nullable-Typen**: Normalerweise kann eine Variable eines Wertetyps (z.B.  `int`) keinen  `null`-Wert enthalten. C# bietet jedoch sogenannte Nullable-Typen, die es ermöglichen, dass Wertetypen  `null`  sein können.\n",
    "    \n",
    "    -   Beispiel:  `string? nullableString = null;`\n",
    "3.  **Automatisch implementierte Eigenschaften**: In modernen C#-Versionen gibt es zudem die Möglichkeit, Variablen mit dem Schlüsselwort  `var`  automatisch den Typ zuzuweisen, basierend auf dem initial zugewiesenen Wert. Dies nennt man Typinferenz.\n",
    "    \n",
    "    -   Beispiel:  `var name = \"John\";`  Der Compiler leitet automatisch ab, dass  `name`  vom Typ  `string`  ist.\n",
    "4.  **Speicherverwaltung**: Für den Umgang mit Variablen ist es wichtig zu verstehen, dass C# über eine automatische Speicherverwaltung verfügt, die durch den Garbage Collector gesteuert wird. Dieser sorgt dafür, dass nicht mehr benötigter Speicher automatisch freigegeben wird.\n",
    "\n",
    "### Beispiel:\n"
   ]
  },
  {
   "cell_type": "code",
   "execution_count": 38,
   "metadata": {
    "dotnet_interactive": {
     "language": "csharp"
    },
    "polyglot_notebook": {
     "kernelName": "csharp"
    },
    "vscode": {
     "languageId": "polyglot-notebook"
    }
   },
   "outputs": [],
   "source": [
    "int number = 10;\n",
    "string name = \"John\";\n",
    "double price = 9.99;"
   ]
  },
  {
   "cell_type": "markdown",
   "metadata": {},
   "source": [
    "-   `int`  ist ein Datentyp für ganze Zahlen.\n",
    "-   `string`  speichert eine Zeichenkette.\n",
    "-   `double`  ist ein Datentyp für Gleitkommazahlen."
   ]
  },
  {
   "cell_type": "markdown",
   "metadata": {},
   "source": [
    "[Numerische Typen von Variablen](./procedural-functional/CSharp_Numerical_Types.de.ipynb) →"
   ]
  },
  {
   "cell_type": "markdown",
   "metadata": {},
   "source": [
    "## Datentypen:  `int`,  `float`, und  `double`\n",
    "\n",
    "### `int`\n",
    "\n",
    "Der  `int`-Typ speichert ganze Zahlen (ohne Dezimalstellen). Er ist 32 Bit breit und kann Werte im Bereich von -2.147.483.648 bis 2.147.483.647 speichern.\n",
    "\n",
    "### `float`\n",
    "\n",
    "Der  `float`-Typ speichert Gleitkommazahlen (Zahlen mit Dezimalstellen). Er ist 32 Bit breit und eignet sich für die Speicherung von Werten mit weniger Genauigkeit, aber größerem Bereich. Ein  `float`-Wert benötigt das Suffix  `f`:\n"
   ]
  },
  {
   "cell_type": "code",
   "execution_count": 39,
   "metadata": {
    "dotnet_interactive": {
     "language": "csharp"
    },
    "polyglot_notebook": {
     "kernelName": "csharp"
    },
    "vscode": {
     "languageId": "polyglot-notebook"
    }
   },
   "outputs": [],
   "source": [
    "float pi = 3.14f;"
   ]
  },
  {
   "cell_type": "markdown",
   "metadata": {},
   "source": [
    "### `double`\n",
    "\n",
    "Der  `double`-Typ ist ein 64-Bit-Gleitkommatyp und bietet eine höhere Genauigkeit und einen größeren Bereich als  `float`. Dies ist der am häufigsten verwendete Typ für Gleitkommazahlen:"
   ]
  },
  {
   "cell_type": "code",
   "execution_count": 40,
   "metadata": {
    "dotnet_interactive": {
     "language": "csharp"
    },
    "polyglot_notebook": {
     "kernelName": "csharp"
    },
    "vscode": {
     "languageId": "polyglot-notebook"
    }
   },
   "outputs": [],
   "source": [
    "double precisePi = 3.14159265358979;"
   ]
  },
  {
   "cell_type": "markdown",
   "metadata": {},
   "source": [
    "[Numerische Gleitkomma-Typen von Variablen](./procedural-functional/CSharp_Numerical_Floating_Types.de.ipynb) →"
   ]
  },
  {
   "cell_type": "markdown",
   "metadata": {},
   "source": [
    "## Mit Strings arbeiten\n",
    "\n",
    "Strings sind Folgen von Zeichen. Sie können wie folgt deklariert und verwendet werden:"
   ]
  },
  {
   "cell_type": "code",
   "execution_count": 5,
   "metadata": {
    "dotnet_interactive": {
     "language": "csharp"
    },
    "polyglot_notebook": {
     "kernelName": "csharp"
    },
    "vscode": {
     "languageId": "polyglot-notebook"
    }
   },
   "outputs": [
    {
     "name": "stdout",
     "output_type": "stream",
     "text": [
      "This is a verbatim string\\n\n"
     ]
    }
   ],
   "source": [
    "string greeting = \"Hello\";\n",
    "string verbatim = @\"This is a verbatim string\\n\";\n",
    "Console.WriteLine(verbatim);"
   ]
  },
  {
   "cell_type": "markdown",
   "metadata": {},
   "source": [
    "Ein verbatim string (`@\"\"`) ignoriert Escape-Zeichen wie  `\\n`  und ermöglicht das Schreiben von Pfaden und Texten, die Sonderzeichen enthalten."
   ]
  },
  {
   "cell_type": "markdown",
   "metadata": {},
   "source": [
    "[Grundlagen zu `ReadLine()`](./procedural-functional/Console_ReadLine_Basics.de.ipynb) →"
   ]
  },
  {
   "cell_type": "markdown",
   "metadata": {},
   "source": [
    "## Strings vertiefen\n",
    "\n",
    "Strings bieten zahlreiche Methoden zur Manipulation, z.B. zur Änderung der Groß-/Kleinschreibung oder zur Extraktion von Teilstrings:"
   ]
  },
  {
   "cell_type": "code",
   "execution_count": 18,
   "metadata": {
    "dotnet_interactive": {
     "language": "csharp"
    },
    "polyglot_notebook": {
     "kernelName": "csharp"
    },
    "vscode": {
     "languageId": "polyglot-notebook"
    }
   },
   "outputs": [
    {
     "name": "stdout",
     "output_type": "stream",
     "text": [
      "HELLO, WORLD!\n",
      "World!\n",
      "True\n",
      "True\n"
     ]
    }
   ],
   "source": [
    "string hello = \"Hello, World!\";\n",
    "int length = hello.Length;       // Länge des Strings\n",
    "string upper = hello.ToUpper();  // \"HELLO, WORLD!\"\n",
    "string sub = hello.Substring(7); // \"World!\"\n",
    "char buchstabe = 'b';\n",
    "bool gleich = buchstabe.Equals(buchstabe);\n",
    "bool gleich2 = buchstabe == 'b';\n",
    "\n",
    "Console.WriteLine(upper);\n",
    "Console.WriteLine(sub);\n",
    "Console.WriteLine(gleich);\n",
    "Console.WriteLine(gleich2);"
   ]
  },
  {
   "cell_type": "markdown",
   "metadata": {},
   "source": [
    "## Strings durchsuchen\n",
    "\n",
    "Strings können durchsucht werden, um das Vorkommen bestimmter Zeichen oder Wörter zu finden:"
   ]
  },
  {
   "cell_type": "code",
   "execution_count": 21,
   "metadata": {
    "dotnet_interactive": {
     "language": "csharp"
    },
    "polyglot_notebook": {
     "kernelName": "csharp"
    },
    "vscode": {
     "languageId": "polyglot-notebook"
    }
   },
   "outputs": [
    {
     "name": "stdout",
     "output_type": "stream",
     "text": [
      "40\n",
      "True\n"
     ]
    }
   ],
   "source": [
    "string sentence = \"The quick brown fox jumps over the lazy dog.\";\n",
    "bool containsFox = sentence.Contains(\"fox\");\n",
    "int indexOfDog = sentence.IndexOf(\"dog\");\n",
    "\n",
    "bool containsBrown = sentence.IndexOf(\"brown\") >= 0;\n",
    "\n",
    "Console.WriteLine(indexOfDog);\n",
    "Console.WriteLine(containsBrown);"
   ]
  },
  {
   "cell_type": "markdown",
   "metadata": {},
   "source": [
    "-   `Contains()`  gibt  `true`  zurück, wenn der String das angegebene Wort enthält.\n",
    "-   `IndexOf()`  gibt die Position des ersten Vorkommens des Wortes zurück.\n",
    "\n",
    "[Mehr zu Strings](./procedural-functional/CSharp_String_Type.de.ipynb) →"
   ]
  },
  {
   "cell_type": "markdown",
   "metadata": {},
   "source": [
    "## Arrays in C#\n",
    "\n",
    "1. **Einfaches Array (Single-Dimensional Array)**:  \n",
    "Speichert eine Liste von Elementen desselben Typs in einer einzigen Dimension."
   ]
  },
  {
   "cell_type": "code",
   "execution_count": null,
   "metadata": {
    "dotnet_interactive": {
     "language": "csharp"
    },
    "polyglot_notebook": {
     "kernelName": "csharp"
    },
    "vscode": {
     "languageId": "polyglot-notebook"
    }
   },
   "outputs": [],
   "source": [
    "int[] zahlen = { 1, 2, 3, 4, 5 };"
   ]
  },
  {
   "cell_type": "markdown",
   "metadata": {},
   "source": [
    "2. **Mehrdimensionales Array (Multi-Dimensional Array)**:  \n",
    "Speichert Daten in mehreren Dimensionen, z.B. Tabellenform."
   ]
  },
  {
   "cell_type": "code",
   "execution_count": 22,
   "metadata": {
    "dotnet_interactive": {
     "language": "csharp"
    },
    "polyglot_notebook": {
     "kernelName": "csharp"
    },
    "vscode": {
     "languageId": "polyglot-notebook"
    }
   },
   "outputs": [],
   "source": [
    "int[,] matrix = { { 1, 2, 3 }, { 4, 5, 6 } };\n",
    "\n",
    "string[,] ticTacToeBoard = {\n",
    "        { \"X\", \" \", \" \"},\n",
    "        { \" \", \" \", \" \"},\n",
    "        { \" \", \" \", \" \"}\n",
    "    };"
   ]
  },
  {
   "cell_type": "markdown",
   "metadata": {},
   "source": [
    "#### Array im Speicher\n",
    "\n",
    "<img src=\"../theory/Array_logical_n_saved.de.jpg\" style=\"width:100%;\">\n",
    "\n",
    "<details>\n",
    "<summary>Inline miro frame...</summary>\n",
    "<iframe src=\"https://miro.com/app/board/o9J_lOJi2o0=/?moveToWidget=3074457367102695297&cot=14\" width=\"100%\" height=\"600px\"></iframe>\n",
    "</details>\n",
    "\n",
    "[Link auf Miro Frame...](https://miro.com/app/board/o9J_lOJi2o0=/?moveToWidget=3074457367102695297&cot=14)"
   ]
  },
  {
   "cell_type": "markdown",
   "metadata": {},
   "source": [
    "3. **Verzweigtes Array (Jagged Array)**:  \n",
    "Ein Array von Arrays, bei dem die inneren Arrays unterschiedliche Längen haben können."
   ]
  },
  {
   "cell_type": "code",
   "execution_count": null,
   "metadata": {
    "dotnet_interactive": {
     "language": "csharp"
    },
    "polyglot_notebook": {
     "kernelName": "csharp"
    },
    "vscode": {
     "languageId": "polyglot-notebook"
    }
   },
   "outputs": [],
   "source": [
    "int[][] verzweigt = { new int[] { 1, 2 }, new int[] { 3, 4, 5 } };"
   ]
  },
  {
   "cell_type": "markdown",
   "metadata": {},
   "source": [
    "#### Jagged Array im Speicher\n",
    "\n",
    "<img src=\"../theory/Jagged_array.de.jpg\" style=\"width:100%;\">\n",
    "\n",
    "<details>\n",
    "<summary>Inline miro frame...</summary>\n",
    "<iframe src=\"https://miro.com/app/board/o9J_lOJi2o0=/?moveToWidget=3074457367071336904&cot=14\" width=\"100%\" height=\"600px\"></iframe>\n",
    "</details>\n",
    "\n",
    "[Link auf Miro Frame...](https://miro.com/app/board/o9J_lOJi2o0=/?moveToWidget=3074457367071336904&cot=14)"
   ]
  },
  {
   "cell_type": "markdown",
   "metadata": {},
   "source": [
    "Arrays sind leistungsstark und vielseitig einsetzbar, von einfachen Listen bis hin zu komplexeren Strukturen wie Tabellen und verschachtelten Arrays.\n",
    "\n",
    "[Mehr zu Arrays](./procedural-functional/CSharp_Arrays.de.ipynb) →"
   ]
  },
  {
   "cell_type": "markdown",
   "metadata": {},
   "source": [
    "## Kommentare\n",
    "\n",
    "Kommentare sind Anmerkungen im Code, die nicht ausgeführt werden. Sie dienen dazu, den Code zu dokumentieren und zu erklären:"
   ]
  },
  {
   "cell_type": "code",
   "execution_count": 44,
   "metadata": {
    "dotnet_interactive": {
     "language": "csharp"
    },
    "polyglot_notebook": {
     "kernelName": "csharp"
    },
    "vscode": {
     "languageId": "polyglot-notebook"
    }
   },
   "outputs": [],
   "source": [
    "// Dies ist ein Einzelzeilenkommentar\n",
    "/* Dies ist ein\n",
    "   Blockkommentar */"
   ]
  },
  {
   "cell_type": "markdown",
   "metadata": {},
   "source": [
    "## Weitere Variablentypen\n",
    "\n",
    "### Var Schlüsselwort\n",
    "\n",
    "Das  `var`-Schlüsselwort ermöglicht es, Variablen ohne explizite Typangabe zu deklarieren. Der Typ wird vom Compiler zur Kompilierzeit bestimmt:"
   ]
  },
  {
   "cell_type": "code",
   "execution_count": 45,
   "metadata": {
    "dotnet_interactive": {
     "language": "csharp"
    },
    "polyglot_notebook": {
     "kernelName": "csharp"
    },
    "vscode": {
     "languageId": "polyglot-notebook"
    }
   },
   "outputs": [],
   "source": [
    "var number = 42;  // number wird als int deklariert\n",
    "var text = \"Mein Text\";"
   ]
  },
  {
   "cell_type": "markdown",
   "metadata": {},
   "source": [
    "### Echte Literale\n",
    "\n",
    "C# unterstützt verschiedene Zahlensysteme wie Dezimal, Hexadezimal und Binär:"
   ]
  },
  {
   "cell_type": "code",
   "execution_count": 46,
   "metadata": {
    "dotnet_interactive": {
     "language": "csharp"
    },
    "polyglot_notebook": {
     "kernelName": "csharp"
    },
    "vscode": {
     "languageId": "polyglot-notebook"
    }
   },
   "outputs": [],
   "source": [
    "int decimalNumber = 42;\n",
    "int hexNumber = 0x2A;   // 42 in Hexadezimal\n",
    "int binaryNumber = 0b101010; // 42 in Binär"
   ]
  },
  {
   "cell_type": "markdown",
   "metadata": {},
   "source": [
    "## Typen casting\n",
    "\n",
    "Casting ermöglicht die Umwandlung eines Datentyps in einen anderen. Dies kann explizit oder implizit geschehen:"
   ]
  },
  {
   "cell_type": "code",
   "execution_count": 23,
   "metadata": {
    "dotnet_interactive": {
     "language": "csharp"
    },
    "polyglot_notebook": {
     "kernelName": "csharp"
    },
    "vscode": {
     "languageId": "polyglot-notebook"
    }
   },
   "outputs": [],
   "source": [
    "int number = 42;\n",
    "double castedNumber = (double)number;  // Explizites Casting"
   ]
  },
  {
   "cell_type": "markdown",
   "metadata": {},
   "source": [
    "## Operatoren\n",
    "\n",
    "← [Arithmetik am Beispiel von TicTacToe](../Programming_And_TicTacToe.de.ipynb#Arithmetik)\n",
    "\n",
    "C# bietet eine Vielzahl von Operatoren wie Zuweisungsoperatoren, Arithmetische Operatoren, Vergleichsoperatoren und Logische Operatoren:"
   ]
  },
  {
   "cell_type": "code",
   "execution_count": 37,
   "metadata": {
    "dotnet_interactive": {
     "language": "csharp"
    },
    "polyglot_notebook": {
     "kernelName": "csharp"
    },
    "vscode": {
     "languageId": "polyglot-notebook"
    }
   },
   "outputs": [
    {
     "name": "stdout",
     "output_type": "stream",
     "text": [
      "Kein Teen!\n",
      "False\n",
      "True\n"
     ]
    }
   ],
   "source": [
    "int a = 10;\n",
    "int b = 20;\n",
    "int sum = a + b;\n",
    "bool isEqual = a == b;\n",
    "\n",
    "bool and = false && true;\n",
    "bool or = false || true;\n",
    "\n",
    "int alter = 6;\n",
    "if ( ( alter > 12 ) && ( alter <= 19 ) )\n",
    "{\n",
    "    Console.WriteLine(\"Teen!\");\n",
    "}\n",
    "// if ( ( alter < 12 ) || ( alter > 19 ) )\n",
    "else\n",
    "{\n",
    "    Console.WriteLine(\"Kein Teen!\");\n",
    "}\n",
    "\n",
    "if ( ( alter >= 19 ) )\n",
    "{\n",
    "    Console.WriteLine(\"Autofahren\");\n",
    "}\n",
    "\n",
    "Console.WriteLine(and);\n",
    "Console.WriteLine(or);"
   ]
  },
  {
   "cell_type": "markdown",
   "metadata": {},
   "source": [
    "-   Arithmetische Operatoren:  `+`,  `-`,  `*`,  `/`,  `%`\n",
    "-   Vergleichsoperatoren:  `==`,  `!=`,  `>`,  `<`,  `>=`,  `<=`\n",
    "-   Logische Operatoren:  `&&`,  `||`,  `!`"
   ]
  },
  {
   "cell_type": "markdown",
   "metadata": {},
   "source": [
    "[Mehr zu Booleschen Operatoren](./procedural-functional/CSharp_Boolean_Operators_Basics.de.ipynb) →\n",
    "\n",
    "[Mehr zu weiteren Operatoren](./procedural-functional/CSharp_Other_Operators_Basics.de.ipynb) →"
   ]
  },
  {
   "cell_type": "markdown",
   "metadata": {},
   "source": [
    "## Bedingte Anweisungen\n",
    "\n",
    "← [Kontrollstrukturen am Beispiel von TicTacToe](../Programming_And_TicTacToe.de.ipynb)\n",
    "\n",
    "Bedingte Anweisungen wie  `if`,  `else`, und  `switch`  ermöglichen es, verschiedene Codepfade basierend auf bestimmten Bedingungen auszuführen.\n",
    "\n",
    "### Beispiel mit  `if`:"
   ]
  },
  {
   "cell_type": "code",
   "execution_count": 46,
   "metadata": {
    "dotnet_interactive": {
     "language": "csharp"
    },
    "polyglot_notebook": {
     "kernelName": "csharp"
    },
    "vscode": {
     "languageId": "polyglot-notebook"
    }
   },
   "outputs": [
    {
     "name": "stdout",
     "output_type": "stream",
     "text": [
      "You are an adult.\n",
      "With pension.\n"
     ]
    }
   ],
   "source": [
    "int age = 65;\n",
    "\n",
    "if (age >= 18)\n",
    "{\n",
    "    Console.WriteLine(\"You are an adult.\");\n",
    "    if (age >= 64)\n",
    "    {\n",
    "        Console.WriteLine(\"With pension.\");\n",
    "    }\n",
    "}\n",
    "else if ( age < 4 )\n",
    "{\n",
    "    Console.WriteLine(\"You are a toddler.\");\n",
    "}\n",
    "else\n",
    "{\n",
    "    Console.WriteLine(\"You are not an adult.\");\n",
    "}"
   ]
  },
  {
   "cell_type": "markdown",
   "metadata": {},
   "source": [
    "### Switch Anweisung\n",
    "\n",
    "Die  `switch`-Anweisung bietet eine strukturierte Möglichkeit, mehrere Bedingungen zu prüfen:"
   ]
  },
  {
   "cell_type": "code",
   "execution_count": 39,
   "metadata": {
    "dotnet_interactive": {
     "language": "csharp"
    },
    "polyglot_notebook": {
     "kernelName": "csharp"
    },
    "vscode": {
     "languageId": "polyglot-notebook"
    }
   },
   "outputs": [
    {
     "name": "stdout",
     "output_type": "stream",
     "text": [
      "Another day\n"
     ]
    }
   ],
   "source": [
    "int day = 3;\n",
    "switch (day)\n",
    "{\n",
    "    case 1:\n",
    "        Console.WriteLine(\"Monday\");\n",
    "        break;\n",
    "    case 2:\n",
    "        Console.WriteLine(\"Tuesday\");\n",
    "        break;\n",
    "    default:\n",
    "        Console.WriteLine(\"Another day\");\n",
    "        break;\n",
    "}"
   ]
  },
  {
   "cell_type": "markdown",
   "metadata": {},
   "source": [
    "[Mehr zu bedingten Anweisungen in C#](./procedural-functional/CSharp_Conditional.de.ipynb) →"
   ]
  },
  {
   "cell_type": "markdown",
   "metadata": {},
   "source": [
    "## Schleifen\n",
    "\n",
    "← [Kontrollstrukturen am Beispiel von TicTacToe](../Programming_And_TicTacToe.de.ipynb)\n",
    "\n",
    "### for Schleife\n",
    "\n",
    "Die  `for`-Schleife wird verwendet, um einen Block von Anweisungen eine bestimmte Anzahl von Malen auszuführen:"
   ]
  },
  {
   "cell_type": "code",
   "execution_count": 50,
   "metadata": {
    "dotnet_interactive": {
     "language": "csharp"
    },
    "polyglot_notebook": {
     "kernelName": "csharp"
    },
    "vscode": {
     "languageId": "polyglot-notebook"
    }
   },
   "outputs": [
    {
     "name": "stdout",
     "output_type": "stream",
     "text": [
      "0\n",
      "1\n",
      "2\n",
      "3\n",
      "4\n",
      "5\n",
      "6\n",
      "5\n",
      "4\n",
      "3\n",
      "2\n",
      "1\n",
      "0\n"
     ]
    }
   ],
   "source": [
    "for (int i = 0; i < 6; i++)\n",
    "{\n",
    "    Console.WriteLine(i);\n",
    "}\n",
    "\n",
    "int j;\n",
    "for (j = 6; j >= 0; j--)\n",
    "{\n",
    "    Console.WriteLine(j);\n",
    "}"
   ]
  },
  {
   "cell_type": "markdown",
   "metadata": {},
   "source": [
    "### break und continue Schlüsselworte\n",
    "\n",
    "`break`  beendet die Schleife, während  `continue`  den aktuellen Schleifendurchlauf überspringt und mit dem nächsten fortfährt:"
   ]
  },
  {
   "cell_type": "code",
   "execution_count": 53,
   "metadata": {
    "dotnet_interactive": {
     "language": "csharp"
    },
    "polyglot_notebook": {
     "kernelName": "csharp"
    },
    "vscode": {
     "languageId": "polyglot-notebook"
    }
   },
   "outputs": [
    {
     "name": "stdout",
     "output_type": "stream",
     "text": [
      "\n",
      "Zeile1: 0|Zeile2: 0|\n",
      "Zeile1: 1|Zeile2: 1|1\n",
      "\n",
      "Zeile1: 2|Zeile2: 2|\n",
      "Zeile1: 3|Zeile2: 3|3\n",
      "\n",
      "Zeile1: 4|Zeile2: 4|\n",
      "Zeile1: 5|"
     ]
    }
   ],
   "source": [
    "for (int i = 0; i < 10; i++)\n",
    "{\n",
    "    Console.Write(\"\\nZeile1: \" + i + \"|\");\n",
    "    if (i == 5) break;      // Schleife wird beendet\n",
    "    Console.Write(\"Zeile2: \" + i + \"|\");\n",
    "    if (i % 2 == 0) continue; // Springt zur nächsten Iteration\n",
    "    Console.WriteLine(i);\n",
    "}"
   ]
  },
  {
   "cell_type": "markdown",
   "metadata": {},
   "source": [
    "### foreach Schleife\n",
    "\n",
    "Die  `foreach`-Schleife durchläuft alle Elemente einer Sammlung, z.B. ein Array oder eine Liste:"
   ]
  },
  {
   "cell_type": "code",
   "execution_count": 55,
   "metadata": {
    "dotnet_interactive": {
     "language": "csharp"
    },
    "polyglot_notebook": {
     "kernelName": "csharp"
    },
    "vscode": {
     "languageId": "polyglot-notebook"
    }
   },
   "outputs": [
    {
     "name": "stdout",
     "output_type": "stream",
     "text": [
      "Apple\n",
      "Banana\n",
      "Cherry\n",
      "A\n",
      "p\n",
      "p\n",
      "l\n",
      "e\n"
     ]
    }
   ],
   "source": [
    "string[] fruits = { \"Apple\", \"Banana\", \"Cherry\" };\n",
    "foreach (string fruit in fruits)\n",
    "{\n",
    "    Console.WriteLine(fruit);\n",
    "}\n",
    "foreach( char c in fruits[0])\n",
    "{\n",
    "    Console.WriteLine(c);\n",
    "}"
   ]
  },
  {
   "cell_type": "markdown",
   "metadata": {},
   "source": [
    "### while Schleife und do Schleife\n",
    "\n",
    "`while`-Schleifen wiederholen eine Anweisung, solange eine Bedingung wahr ist, während  `do`-Schleifen die Anweisung mindestens einmal ausführen, bevor die Bedingung geprüft wird:"
   ]
  },
  {
   "cell_type": "code",
   "execution_count": 60,
   "metadata": {
    "dotnet_interactive": {
     "language": "csharp"
    },
    "polyglot_notebook": {
     "kernelName": "csharp"
    },
    "vscode": {
     "languageId": "polyglot-notebook"
    }
   },
   "outputs": [],
   "source": [
    "int count = 5;\n",
    "while (count < 5)\n",
    "{\n",
    "    count++;\n",
    "    Console.WriteLine(count);\n",
    "}"
   ]
  },
  {
   "cell_type": "code",
   "execution_count": 61,
   "metadata": {
    "dotnet_interactive": {
     "language": "csharp"
    },
    "polyglot_notebook": {
     "kernelName": "csharp"
    },
    "vscode": {
     "languageId": "polyglot-notebook"
    }
   },
   "outputs": [
    {
     "name": "stdout",
     "output_type": "stream",
     "text": [
      "6\n"
     ]
    }
   ],
   "source": [
    "int count2 = 5;\n",
    "do\n",
    "{\n",
    "    count2++;\n",
    "    Console.WriteLine(count2);\n",
    "} while (count2 < 5);"
   ]
  },
  {
   "cell_type": "markdown",
   "metadata": {},
   "source": [
    "[Mehr zu Schleifen in C#](./procedural-functional/CSharp_Loops.de.ipynb) →"
   ]
  },
  {
   "cell_type": "markdown",
   "metadata": {},
   "source": [
    "[Schleifen und TicTacToe](./procedural-functional/CSharp_Loops_TicTacToe.de.ipynb) →\n",
    "\n",
    "---"
   ]
  },
  {
   "cell_type": "markdown",
   "metadata": {},
   "source": [
    "## Prozeduren und Funktionen\n",
    "\n",
    "← [Funktionen am Beispiel von TicTacToe](../Programming_And_TicTacToe.de.ipynb#Funktionen)\n",
    "\n",
    "In C# sind *Prozeduren* und *Funktionen* wesentliche Bestandteile der Programmstruktur, die es ermöglichen, Code modular und wiederverwendbar zu gestalten. In der C#-Terminologie wird allerdings eher von *Methoden* gesprochen. Methoden können prozedural oder funktional aufgebaut sein. Hier ist eine kurze Übersicht:\n",
    "\n",
    "### 1. Methoden (Prozeduren und Funktionen)\n",
    "\n",
    "In C# können Methoden entweder als Prozeduren (ohne Rückgabewert) oder als Funktionen (mit Rückgabewert) gestaltet werden:\n",
    "\n",
    "- **Prozeduren**: Methoden, die keinen Wert zurückgeben, verwenden den `void`-Rückgabetyp. Sie führen nur eine Aktion aus, ohne ein Ergebnis zurückzugeben.\n",
    "- **Funktionen**: Methoden, die einen Wert zurückgeben, haben einen spezifischen Rückgabetyp (z. B. `int`, `string`). Der Rückgabewert wird mit dem `return`-Schlüsselwort festgelegt.\n",
    "\n",
    "### 2. Definition einer Methode\n",
    "\n",
    "Eine Methode wird durch eine Methodensignatur definiert, die den Rückgabewert, den Namen der Methode und optionale Parameter enthält.\n",
    "\n",
    "Syntax einer Methode:\n",
    "\n",
    "```csharp\n",
    "Rückgabewert MethodeName(Datentyp Parameter1, Datentyp Parameter2, ...)\n",
    "{\n",
    "    // Methodenkörper\n",
    "    // Optionale Berechnungen und Logik\n",
    "    return Wert; // (falls kein `void` verwendet wird)\n",
    "}\n",
    "```\n",
    "\n",
    "### 3. Beispiel für eine Prozedur (ohne Rückgabewert)\n",
    "\n",
    "Eine Prozedur (oder `void`-Methode) führt nur eine Aktion aus und gibt keinen Wert zurück:"
   ]
  },
  {
   "cell_type": "code",
   "execution_count": 2,
   "metadata": {
    "dotnet_interactive": {
     "language": "csharp"
    },
    "polyglot_notebook": {
     "kernelName": "csharp"
    },
    "vscode": {
     "languageId": "polyglot-notebook"
    }
   },
   "outputs": [],
   "source": [
    "void Begrüßen(string name)\n",
    "{\n",
    "    Console.WriteLine(\"Hallo, \" + name + \"!\");\n",
    "}"
   ]
  },
  {
   "cell_type": "markdown",
   "metadata": {},
   "source": [
    "Aufruf der Prozedur:"
   ]
  },
  {
   "cell_type": "code",
   "execution_count": 3,
   "metadata": {
    "dotnet_interactive": {
     "language": "csharp"
    },
    "polyglot_notebook": {
     "kernelName": "csharp"
    },
    "vscode": {
     "languageId": "polyglot-notebook"
    }
   },
   "outputs": [
    {
     "name": "stdout",
     "output_type": "stream",
     "text": [
      "Hallo, Max!\n"
     ]
    }
   ],
   "source": [
    "Begrüßen(\"Max\"); // Ausgabe: Hallo, Max!"
   ]
  },
  {
   "cell_type": "markdown",
   "metadata": {},
   "source": [
    "### 4. Beispiel für eine Funktion (mit Rückgabewert)\n",
    "\n",
    "Eine Funktion gibt einen Wert zurück, der für weitere Berechnungen oder Aktionen verwendet werden kann:"
   ]
  },
  {
   "cell_type": "code",
   "execution_count": 4,
   "metadata": {
    "dotnet_interactive": {
     "language": "csharp"
    },
    "polyglot_notebook": {
     "kernelName": "csharp"
    },
    "vscode": {
     "languageId": "polyglot-notebook"
    }
   },
   "outputs": [],
   "source": [
    "int Addiere(int zahl1, int zahl2)\n",
    "{\n",
    "    return zahl1 + zahl2;\n",
    "}"
   ]
  },
  {
   "cell_type": "markdown",
   "metadata": {},
   "source": [
    "Aufruf der Funktion:"
   ]
  },
  {
   "cell_type": "code",
   "execution_count": 5,
   "metadata": {
    "dotnet_interactive": {
     "language": "csharp"
    },
    "polyglot_notebook": {
     "kernelName": "csharp"
    },
    "vscode": {
     "languageId": "polyglot-notebook"
    }
   },
   "outputs": [
    {
     "name": "stdout",
     "output_type": "stream",
     "text": [
      "7\n"
     ]
    }
   ],
   "source": [
    "int ergebnis = Addiere(3, 4); // ergebnis hat den Wert 7\n",
    "Console.WriteLine(ergebnis); // Ausgabe: 7"
   ]
  },
  {
   "cell_type": "markdown",
   "metadata": {},
   "source": [
    "### 5. Parameter und Überladung\n",
    "\n",
    "- **Parameter**: Methoden können Parameter haben, die Eingabewerte akzeptieren. C# erlaubt auch *optionale* und *named parameters*.\n",
    "- **Überladung**: C# erlaubt die Definition mehrerer Methoden mit demselben Namen, solange sich die Parameterliste unterscheidet (Method Overloading).\n",
    "\n",
    "Beispiel:"
   ]
  },
  {
   "cell_type": "code",
   "execution_count": 6,
   "metadata": {
    "dotnet_interactive": {
     "language": "csharp"
    },
    "polyglot_notebook": {
     "kernelName": "csharp"
    },
    "vscode": {
     "languageId": "polyglot-notebook"
    }
   },
   "outputs": [],
   "source": [
    "int Berechne(int x, int y)\n",
    "{\n",
    "    return x + y;\n",
    "}\n",
    "\n",
    "int Berechne(int x, int y, int z)\n",
    "{\n",
    "    return x + y + z;\n",
    "}"
   ]
  },
  {
   "cell_type": "markdown",
   "metadata": {},
   "source": [
    "Aufruf:"
   ]
  },
  {
   "cell_type": "code",
   "execution_count": 8,
   "metadata": {
    "dotnet_interactive": {
     "language": "csharp"
    },
    "polyglot_notebook": {
     "kernelName": "csharp"
    },
    "vscode": {
     "languageId": "polyglot-notebook"
    }
   },
   "outputs": [
    {
     "name": "stdout",
     "output_type": "stream",
     "text": [
      "5\n",
      "9\n"
     ]
    }
   ],
   "source": [
    "int summe1 = Berechne(2, 3);    // Ausgabe: 5\n",
    "Console.WriteLine(summe1);\n",
    "int summe2 = Berechne(2, 3, 4); // Ausgabe: 9\n",
    "Console.WriteLine(summe2);"
   ]
  },
  {
   "cell_type": "markdown",
   "metadata": {},
   "source": [
    "### 6. Rekursion\n",
    "\n",
    "Methoden können sich in C# auch rekursiv aufrufen, d. h., eine Methode kann sich selbst innerhalb ihres eigenen Körpers aufrufen. \n",
    "\n",
    "Beispiel einer rekursiven Methode zur Berechnung der Fakultät:"
   ]
  },
  {
   "cell_type": "code",
   "execution_count": 11,
   "metadata": {
    "dotnet_interactive": {
     "language": "csharp"
    },
    "polyglot_notebook": {
     "kernelName": "csharp"
    },
    "vscode": {
     "languageId": "polyglot-notebook"
    }
   },
   "outputs": [],
   "source": [
    "int Fakultaet(int n)// <-------+\n",
    "{                   //         |\n",
    "    if (n <= 1)     //         |\n",
    "        return 1;   //         |\n",
    "    else            //         |\n",
    "        return n * Fakultaet(n - 1);\n",
    "}"
   ]
  },
  {
   "cell_type": "markdown",
   "metadata": {},
   "source": [
    "Aufruf:"
   ]
  },
  {
   "cell_type": "code",
   "execution_count": 12,
   "metadata": {
    "dotnet_interactive": {
     "language": "csharp"
    },
    "polyglot_notebook": {
     "kernelName": "csharp"
    },
    "vscode": {
     "languageId": "polyglot-notebook"
    }
   },
   "outputs": [
    {
     "name": "stdout",
     "output_type": "stream",
     "text": [
      "120\n"
     ]
    }
   ],
   "source": [
    "int ergebnis = Fakultaet(5); // Ergebnis: 120 (5 * 4 * 3 * 2 * 1)\n",
    "Console.WriteLine(ergebnis);"
   ]
  },
  {
   "cell_type": "markdown",
   "metadata": {},
   "source": [
    "#### Prozedurale Programmierung Cheatsheet\n",
    "\n",
    "<img src=\"./procedural-functional/Cheatsheet_programming.jpg\" style=\"width:100%;\">\n",
    "\n",
    "<details>\n",
    "<summary>Inline miro frame...</summary>\n",
    "<iframe src=\"https://miro.com/app/board/o9J_lOJi2o0=/?moveToWidget=3074457366281003359&cot=14\" width=\"100%\" height=\"600px\"></iframe>\n",
    "</details>\n",
    "\n",
    "[Link auf Miro Frame...](https://miro.com/app/board/o9J_lOJi2o0=/?moveToWidget=3074457366281003359&cot=14)"
   ]
  },
  {
   "cell_type": "markdown",
   "metadata": {},
   "source": [
    "## Komplexere Datenstrukturen\n",
    "\n",
    "← [Komplexere Datenstrukturen am Beispiel von TicTacToe](../Programming_And_TicTacToe.de.ipynb#komplexere-datenstrukturen)\n",
    "\n",
    "<img src=\"../theory/Complex_Datastructures.de.jpg\" style=\"width:100%;\">\n",
    "\n",
    "<details>\n",
    "<summary>Inline miro frame...</summary>\n",
    "<iframe src=\"https://miro.com/app/board/o9J_lOJi2o0=/?moveToWidget=3074457358216576641&cot=14\" width=\"100%\" height=\"600px\"></iframe>\n",
    "</details>\n",
    "\n",
    "[Link auf Miro Frame...](https://miro.com/app/board/o9J_lOJi2o0=/?moveToWidget=3074457358216576641&cot=14)\n",
    "\n",
    "Komplexe Datenstrukturen in C# sind Datenstrukturen, die mehr als einfache Werte (wie int, string, etc.) enthalten und oft mehrere Ebenen oder eine Kombination verschiedener Typen und Strukturen bieten. Hier sind die grundlegenden Typen:\n",
    "\n",
    "### 1. **Arrays** (Wiederholung)\n",
    "   - Arrays sind eine Sammlung von Elementen desselben Datentyps, die über einen Index zugegriffen werden können. Sie sind fix in ihrer Größe und sehr effizient für den Zugriff auf die Daten.\n",
    "   - Einfache Arrays: `int[] numbers = new int[5];`\n",
    "   - Mehrdimensionale Arrays: `int[,] matrix = new int[3, 3];`\n",
    "   - Verzweigte Arrays (Zickzack-Arrays): `int[][] jaggedArray = new int[3][];`\n",
    "   - Vorteile: Schneller Zugriff auf Elemente.\n",
    "   - Nachteile: Feste Größe, daher weniger flexibel."
   ]
  },
  {
   "cell_type": "code",
   "execution_count": null,
   "metadata": {
    "vscode": {
     "languageId": "polyglot-notebook"
    }
   },
   "outputs": [],
   "source": [
    "int[] numbers = { 1, 2, 3, 4, 5 };\n",
    "Console.WriteLine(numbers[2]);  // Ausgabe: 3"
   ]
  },
  {
   "cell_type": "markdown",
   "metadata": {},
   "source": [
    "### 2. **Listen (`List<T>`)**\n",
    "   - Listen sind dynamische Arrays und bieten die Möglichkeit, Elemente hinzuzufügen oder zu entfernen. Sie sind viel flexibler als Arrays, da ihre Größe dynamisch angepasst wird.\n",
    "   - Deklaration: `List<int> numbers = new List<int>();`\n",
    "   - Methoden: `Add()`, `Remove()`, `Contains()`, `Count`.\n",
    "   - Vorteile: Flexibel und einfacher im Handling.\n",
    "   - Nachteile: Im Vergleich zu Arrays geringfügig langsamer beim direkten Zugriff auf große Datenmengen."
   ]
  },
  {
   "cell_type": "code",
   "execution_count": null,
   "metadata": {
    "vscode": {
     "languageId": "polyglot-notebook"
    }
   },
   "outputs": [],
   "source": [
    "List<string> fruits = new List<string> { \"Apple\", \"Banana\", \"Cherry\" };\n",
    "fruits.Add(\"Orange\");\n",
    "Console.WriteLine(fruits[2]);  // Ausgabe: Cherry"
   ]
  },
  {
   "cell_type": "markdown",
   "metadata": {},
   "source": [
    "### 3. **Wörterbuch (`Dictionary<TKey, TValue>`)**\n",
    "   - Ein Wörterbuch ist eine Sammlung von Schlüssel-Wert-Paaren, bei denen jedes Element einen Schlüssel und einen Wert hat. Es wird verwendet, um Daten schnell anhand eines eindeutigen Schlüssels zu suchen.\n",
    "   - Deklaration: `Dictionary<string, int> ageMap = new Dictionary<string, int>();`\n",
    "   - Vorteile: Sehr effizient für schnelle Nachschlageoperationen.\n",
    "   - Nachteile: Schlüssel müssen eindeutig sein und der Schlüssel wird zum Indexieren verwendet."
   ]
  },
  {
   "cell_type": "code",
   "execution_count": null,
   "metadata": {
    "vscode": {
     "languageId": "polyglot-notebook"
    }
   },
   "outputs": [],
   "source": [
    "Dictionary<string, int> ages = new Dictionary<string, int>();\n",
    "ages[\"Alice\"] = 30;\n",
    "ages[\"Bob\"] = 25;\n",
    "Console.WriteLine(ages[\"Alice\"]);  // Ausgabe: 30"
   ]
  },
  {
   "cell_type": "markdown",
   "metadata": {},
   "source": [
    "### 4. **Warteschlangen (`Queue<T>`)**\n",
    "   - Warteschlangen sind FIFO (First In, First Out) Datenstrukturen, bei denen das erste hinzugefügte Element auch das erste ist, das entfernt wird.\n",
    "   - Deklaration: `Queue<int> queue = new Queue<int>();`\n",
    "   - Methoden: `Enqueue()` fügt ein Element hinzu, `Dequeue()` entfernt ein Element.\n",
    "   - Vorteile: Ideal für Szenarien, in denen Elemente in einer bestimmten Reihenfolge verarbeitet werden müssen.\n",
    "   - Nachteile: Kein direkter Zugriff auf Elemente in der Mitte der Warteschlange."
   ]
  },
  {
   "cell_type": "code",
   "execution_count": null,
   "metadata": {
    "vscode": {
     "languageId": "polyglot-notebook"
    }
   },
   "outputs": [],
   "source": [
    "Queue<string> queue = new Queue<string>();\n",
    "queue.Enqueue(\"First\");\n",
    "queue.Enqueue(\"Second\");\n",
    "Console.WriteLine(queue.Dequeue());  // Ausgabe: First"
   ]
  },
  {
   "cell_type": "markdown",
   "metadata": {},
   "source": [
    "### 5. **Stapeln (`Stack<T>`)**\n",
    "   - Stacks sind LIFO (Last In, First Out) Datenstrukturen, bei denen das letzte hinzugefügte Element auch das erste ist, das entfernt wird.\n",
    "   - Deklaration: `Stack<int> stack = new Stack<int>();`\n",
    "   - Methoden: `Push()` fügt ein Element hinzu, `Pop()` entfernt das oberste Element.\n",
    "   - Vorteile: Effizient für Szenarien, in denen der Zugriff auf das zuletzt hinzugefügte Element wichtig ist.\n",
    "   - Nachteile: Kein Zugriff auf Elemente außer auf das oberste."
   ]
  },
  {
   "cell_type": "code",
   "execution_count": null,
   "metadata": {
    "vscode": {
     "languageId": "polyglot-notebook"
    }
   },
   "outputs": [],
   "source": [
    "Stack<string> stack = new Stack<string>();\n",
    "stack.Push(\"Bottom\");\n",
    "stack.Push(\"Top\");\n",
    "Console.WriteLine(stack.Pop());  // Ausgabe: Top"
   ]
  },
  {
   "cell_type": "markdown",
   "metadata": {},
   "source": [
    "### 6. **Mengen (`HashSet<T>`)**\n",
    "   - Ein HashSet speichert eine Sammlung von eindeutigen Elementen und wird häufig verwendet, um die Existenz eines bestimmten Wertes schnell zu überprüfen.\n",
    "   - Deklaration: `HashSet<int> uniqueNumbers = new HashSet<int>();`\n",
    "   - Vorteile: Schnelle Überprüfung auf das Vorhandensein eines Elements.\n",
    "   - Nachteile: Keine Duplikate erlaubt, und die Elemente haben keine bestimmte Reihenfolge."
   ]
  },
  {
   "cell_type": "code",
   "execution_count": null,
   "metadata": {
    "vscode": {
     "languageId": "polyglot-notebook"
    }
   },
   "outputs": [],
   "source": [
    "HashSet<int> uniqueNumbers = new HashSet<int> { 1, 2, 3, 3 };\n",
    "uniqueNumbers.Add(4);\n",
    "Console.WriteLine(uniqueNumbers.Contains(3));  // Ausgabe: True"
   ]
  },
  {
   "cell_type": "markdown",
   "metadata": {},
   "source": [
    "### 7. **Verbundene Listen (`LinkedList<T>`)**\n",
    "   - LinkedLists bestehen aus Knoten, die Verweise auf das nächste und, bei doppelt verketteten Listen, das vorherige Element enthalten. Diese Struktur ermöglicht eine dynamische Größe und das Einfügen oder Entfernen von Elementen an beliebiger Stelle.\n",
    "   - Deklaration: `LinkedList<int> linkedList = new LinkedList<int>();`\n",
    "   - Vorteile: Flexibler als Arrays und Listen für Einfüge-/Löschoperationen.\n",
    "   - Nachteile: Langsamer bei sequentiellem Zugriff im Vergleich zu Arrays oder Listen."
   ]
  },
  {
   "cell_type": "code",
   "execution_count": null,
   "metadata": {
    "vscode": {
     "languageId": "polyglot-notebook"
    }
   },
   "outputs": [],
   "source": [
    "LinkedList<string> linkedList = new LinkedList<string>();\n",
    "linkedList.AddLast(\"First\");\n",
    "linkedList.AddLast(\"Second\");\n",
    "linkedList.AddFirst(\"Zeroth\");\n",
    "Console.WriteLine(linkedList.First.Value);  // Ausgabe: Zeroth"
   ]
  },
  {
   "cell_type": "markdown",
   "metadata": {},
   "source": [
    "### 8. **Bäume**\n",
    "   - Bäume sind hierarchische Datenstrukturen, die eine Sammlung von Elementen in Eltern-Kind-Beziehungen organisieren.\n",
    "   - Typische Anwendungen sind binäre Bäume, AVL-Bäume, B-Bäume oder N-Bäume. In C# können diese als Klassen modelliert werden.\n",
    "   - Deklaration eines binären Baums erfolgt durch Erstellung von Knoten-Klassen mit `left` und `right` Verweisen.\n",
    "   - Vorteile: Effizient für hierarchische Daten und schnelle Suchen.\n",
    "   - Nachteile: Komplex in der Implementierung und Pflege."
   ]
  },
  {
   "cell_type": "code",
   "execution_count": null,
   "metadata": {
    "vscode": {
     "languageId": "polyglot-notebook"
    }
   },
   "outputs": [],
   "source": [
    "class TreeNode {\n",
    "    public int Value;\n",
    "    public TreeNode Left;\n",
    "    public TreeNode Right;\n",
    "    public TreeNode(int value) { Value = value; }\n",
    "}\n",
    "\n",
    "TreeNode root = new TreeNode(1);\n",
    "root.Left = new TreeNode(2);\n",
    "root.Right = new TreeNode(3);\n",
    "Console.WriteLine(root.Left.Value);  // Ausgabe: 2"
   ]
  },
  {
   "cell_type": "markdown",
   "metadata": {},
   "source": [
    "### 9. **Graphen**\n",
    "   - Graphen sind Netzwerke von Knoten, die durch Kanten verbunden sind. Sie werden verwendet, um Beziehungen darzustellen, wie z.B. soziale Netzwerke oder Routen.\n",
    "   - In C# werden Graphen typischerweise durch `Dictionary<TKey, List<TValue>>` oder benutzerdefinierte Klassen für Knoten und Kanten implementiert.\n",
    "   - Vorteile: Ideal für die Darstellung und Bearbeitung von Netzwerken und Beziehungen.\n",
    "   - Nachteile: Komplex in der Implementierung und erfordern spezielle Algorithmen zur effizienten Navigation."
   ]
  },
  {
   "cell_type": "code",
   "execution_count": null,
   "metadata": {
    "vscode": {
     "languageId": "polyglot-notebook"
    }
   },
   "outputs": [],
   "source": [
    "class Graph {\n",
    "    public Dictionary<string, List<string>> AdjacencyList = new Dictionary<string, List<string>>();\n",
    "    public void AddEdge(string node, string neighbor) {\n",
    "        if (!AdjacencyList.ContainsKey(node)) {\n",
    "            AdjacencyList[node] = new List<string>();\n",
    "        }\n",
    "        AdjacencyList[node].Add(neighbor);\n",
    "    }\n",
    "}\n",
    "\n",
    "Graph graph = new Graph();\n",
    "graph.AddEdge(\"A\", \"B\");\n",
    "graph.AddEdge(\"A\", \"C\");\n",
    "Console.WriteLine(string.Join(\", \", graph.AdjacencyList[\"A\"]));  // Ausgabe: B, C"
   ]
  },
  {
   "cell_type": "markdown",
   "metadata": {},
   "source": [
    "\n",
    "Jede dieser Strukturen kann je nach Anforderungen an Leistung, Speicherbedarf und die Art der Daten in einem bestimmten Szenario vorteilhaft sein."
   ]
  }
 ],
 "metadata": {
  "kernelspec": {
   "display_name": ".NET (C#)",
   "language": "C#",
   "name": ".net-csharp"
  },
  "language_info": {
   "name": "python"
  },
  "polyglot_notebook": {
   "kernelInfo": {
    "defaultKernelName": "csharp",
    "items": [
     {
      "aliases": [],
      "name": "csharp"
     }
    ]
   }
  }
 },
 "nbformat": 4,
 "nbformat_minor": 2
}
