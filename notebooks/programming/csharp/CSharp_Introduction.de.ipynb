{
 "cells": [
  {
   "cell_type": "markdown",
   "metadata": {},
   "source": [
    "[Jeder kann coden](../abstract/Contents.de.ipynb) / [Programmieren & TicTacToe](../Programming_And_TicTacToe.de.ipynb)\n",
    "\n",
    "# Einführung in C#\n",
    "\n",
    "<table border=\"0\">\n",
    "  <tr>\n",
    "    <td>\n",
    "        <img src=\"Introduction_csharp.webp\">\n",
    "    </td>\n",
    "    <td rowspan=\"2\">\n",
    "        <a href=\"https://miro.com/app/board/uXjVPm0lbTo=/?moveToWidget=3458764607889708296&cot=14\"><img src=\"../abstract/Radar.de.jpg\"></a>\n",
    "    </td>\n",
    "  </tr>\n",
    "  <tr>\n",
    "    <td>\n",
    "      <a href=\"https://learn.microsoft.com/de-de/dotnet/csharp/tour-of-csharp/\">Link zur Microsoft Dokumentation zu c#</a><br>\n",
    "      <a href=\"https://www.w3schools.com/cs/index.php\">Link zu Tutorial auf w3schools</a><br>\n",
    "      <a href=\"https://www.codewars.com\">Link zu codewars</a><br>\n",
    "      <a href=\"https://www.hackerrank.com\">Link zu hackerrank</a><br>\n",
    "    </td>\n",
    "  </tr>\n",
    "</table>"
   ]
  },
  {
   "cell_type": "markdown",
   "metadata": {},
   "source": [
    "<div style=\"border:2px solidrgb(188, 236, 252); padding:10px; background-color:#E0F7FA;\">\n",
    "\n",
    "[🤖 Code passend zu diesem notebook online auf dotnetfiddle zum Laufen bringen](https://dotnetfiddle.net/v8Xi93)\n",
    "\n",
    "</div>\n",
    "\n",
    "Dieses Notebook bietet eine umfassende Einführung in die Grundlagen von C# und behandelt verschiedene Konzepte und Syntaxelemente dieser Programmiersprache. C# ist eine der Hauptsprachen, die auf der .NET-Plattform verwendet werden, und eignet sich für eine Vielzahl von Anwendungen, von Desktop-Programmen bis hin zu Web-Anwendungen und Spielen.\n",
    "\n",
    "### Der Rote Faden\n",
    "\n",
    "Der rote Faden zeigt auf, wie einzelne Themen und Cluster von Themen aufeinander aufbauen, um Programmieren stukturiert zu erlernen.\n",
    "\n",
    "<a href=\"https://miro.com/app/board/o9J_lOJi2o0=/?moveToWidget=3458764554347680798&cot=14\"><img src=\"Red_thread.miro.de.jpg\" style=\"width:1024px;\"></a>\n",
    "\n",
    "### Weitere Resourcen\n",
    "\n",
    "[Link zur Microsoft Dokumentation](https://learn.microsoft.com/de-de/dotnet/csharp/tour-of-csharp/tutorials/)\n",
    "\n",
    "<div style=\"border:2px solid #008CBA; padding:10px; background-color:#E0F7FA;\">\n",
    "\n",
    "### 💡 Praxistipp\n",
    "\n",
    "<details>\n",
    "\n",
    "<summary>Es gibt einige empfehlenswerte Links zu Coding Dojos und weiterführenden Programmierübungen für C#</summary>\n",
    "\n",
    "1. **[Digital Dojo der COUNT IT Group](https://dd.countit.at/dojos/csharp)**:  \n",
    "   Diese Plattform bietet eine Vielzahl von C#-Übungen, die verschiedene Themen wie Entscheidungen, Schleifen, Arrays, Collections, Klassenstrukturen, Enumerationen, Datum und Zeit sowie Vererbung abdecken. Zusätzlich stehen Tutorials für Anfänger und Wiedereinsteiger zur Verfügung.\n",
    "\n",
    "2. **[LernMoment C#-Übungen](https://github.com/LernMoment/csharp-uebungen)**:  \n",
    "   Hier finden Sie gezielte Übungen für Anfänger und Fortgeschrittene, um Fertigkeiten in C# zu trainieren. Beispiele wie die ROT13-Verschlüsselung fördern den Umgang mit Strings und Kontrollstrukturen. Weitere Informationen gibt es auf der [Website von LernMoment](https://lernmoment.de/csharp-uebung-1/).\n",
    "\n",
    "3. **[Clean Code Developer School – Coding Dojo](https://ccd-school.de/coding-dojo/)**:  \n",
    "   Unter dem Begriff \"Kata\" werden hier verschiedene Übungsaufgaben angeboten, die von kleinen Funktionen bis hin zu kompletten Anwendungen reichen. Diese Katas helfen, saubere Softwareentwicklung zu üben und zu vertiefen.\n",
    "\n",
    "4. **[Informatik-verstehen.de](https://www.informatik-verstehen.de/uebungen/informatik-uebungsaufgaben-loesungen/csharp-uebungen-fortgeschrittene/)**:  \n",
    "   Auf dieser Seite finden Sie C#-Übungen für Fortgeschrittene, mit denen Sie Ihr Wissen online testen können. Per Zufallsgenerator werden Fragen aus einem großen Pool bereitgestellt.\n",
    "\n",
    "5. **[TRAIN your programmer](https://trainyourprogrammer.de/csharp)**:  \n",
    "   Diese Plattform enthält eine Sammlung von C#-Übungen mit verschiedenen Schwierigkeitsgraden, die sowohl für Anfänger als auch für Fortgeschrittene geeignet sind.\n",
    "\n",
    "6. **[Codewars](https://www.codewars.com/)**:  \n",
    "   Codewars bietet eine Vielzahl von Herausforderungen (Katas) für C#-Programmierer, die von einfachen bis hin zu komplexen Aufgaben reichen. Sie können Ihre Programmierfähigkeiten verbessern und sich mit anderen Entwicklern messen.\n",
    "\n",
    "7. **[HackerRank](https://www.hackerrank.com/domains/tutorials/10-days-of-csharp)**:  \n",
    "   HackerRank stellt umfangreiche Tutorials und Übungen zu verschiedenen Programmierparadigmen in C# bereit. Besonders das \"10 Days of C#\" Tutorial ist eine hervorragende Möglichkeit, strukturiert zu lernen.\n",
    "\n",
    "8. **[w3schools C# Tutorial](https://www.w3schools.com/cs/)**:  \n",
    "   Diese Plattform bietet eine Einführung in C# mit Übungen, die grundlegende und fortgeschrittene Themen behandeln. Sie können direkt im Browser programmieren und Ergebnisse sofort überprüfen.\n",
    "\n",
    "Mit diesen Ressourcen haben Sie eine solide Grundlage, um Ihre C#-Kenntnisse durch praxisorientierte Übungen und Coding Dojos zu verbessern.\n",
    "\n",
    "</details>\n",
    "\n",
    "</div>"
   ]
  },
  {
   "cell_type": "markdown",
   "metadata": {},
   "source": [
    "## Mit C# loslegen\n",
    "\n",
    "### Was ist C#?\n",
    "\n",
    "-   Moderne, objektorientierte Programmiersprache\n",
    "-   Von Microsoft entwickelt\n",
    "-   Teil des .NET-Frameworks\n",
    "-   Leistungsstark und leicht zu erlernen\n",
    "-   Funktionen: stark typisierte Variablen, Klassen, Vererbung, reichhaltige Standardbibliothek\n",
    "\n",
    "-   **Compiler:**\n",
    "    \n",
    "    -   Spezielles Programm zur Übersetzung von Quellcode in Maschinensprache\n",
    "    -   Bei C#: zweistufiger Übersetzungsprozess:\n",
    "        1.  Quellcode → Intermediate Language (IL)\n",
    "        2.  IL → Maschinencode (durch .NET Common Language Runtime - CLR)\n",
    "    -   Vorteil: Plattformunabhängigkeit (vorausgesetzt .NET-Framework ist vorhanden)\n",
    "\n",
    "-   **C# grundlegende Syntax:**\n",
    "    \n",
    "    -   Programm besteht aus  `using`-Anweisungen (Import von Namespaces)\n",
    "    -   Klasse als Container für Code\n",
    "    -   `Main`-Methode als Einstiegspunkt des Programms\n",
    "\n",
    "<details>\n",
    "<summary>Nochmal zum Nachlesen...</summary>\n",
    "\n",
    "C# ist eine fortschrittliche und moderne Programmiersprache, die speziell von Microsoft entwickelt wurde und eine zentrale Komponente des leistungsfähigen .NET-Frameworks darstellt. Sie wurde mit dem Ziel entworfen, eine Programmiersprache zu schaffen, die sowohl die Leistungsfähigkeit und Flexibilität bietet, die von professionellen Entwicklern benötigt wird, als auch eine einfache und intuitive Lernkurve für Einsteiger aufweist. C# kombiniert die bewährten Prinzipien der objektorientierten Programmierung mit einer Vielzahl von fortschrittlichen Funktionen, die es Entwicklern ermöglichen, robuste, skalierbare und wiederverwendbare Anwendungen zu erstellen.\n",
    "\n",
    "Die Sprache ist stark typisiert, was bedeutet, dass der Datentyp einer Variablen explizit festgelegt wird und somit eine strenge Typprüfung durch den Compiler erfolgt. Dies trägt zur Fehlervermeidung bei und sorgt für eine höhere Codequalität. Zusätzlich bietet C# eine umfangreiche Unterstützung für die Definition von Klassen, die als Baupläne für Objekte dienen und zentrale Elemente der objektorientierten Programmierung sind. Durch die Möglichkeit der Vererbung können Klassen Funktionalitäten von anderen Klassen erben, was zu einer besseren Wiederverwendbarkeit und Organisation des Codes führt. Darüber hinaus bietet C# eine reichhaltige Standardbibliothek, die eine Vielzahl vorgefertigter Funktionen und Klassen zur Verfügung stellt, welche die Entwicklung beschleunigen und die Implementierung komplexer Aufgaben vereinfachen.\n",
    "\n",
    "### Was ist ein Compiler?\n",
    "\n",
    "Ein Compiler ist ein spezielles Softwarewerkzeug, das den von einem Entwickler in einer höheren Programmiersprache wie C# verfassten Quellcode in eine Form übersetzt, die von einem Computer direkt ausgeführt werden kann. Dieser Prozess ist von zentraler Bedeutung in der Softwareentwicklung, da Computer selbst den Quellcode in seiner ursprünglichen Form nicht verstehen können. Stattdessen muss dieser Code in Maschinensprache umgewandelt werden, eine Sprache, die aus einer Reihe von binären Instruktionen besteht, die die CPU des Computers direkt verarbeiten kann.\n",
    "\n",
    "Im Kontext von C# erfolgt diese Übersetzung in zwei Schritten, um eine optimale Ausführung und Plattformunabhängigkeit zu gewährleisten:\n",
    "\n",
    "1. **Übersetzung des Quellcodes in die Intermediate Language (IL)**: Der C#-Compiler, auch als C#-Kompilierer bekannt, nimmt den geschriebenen Quellcode und wandelt ihn zunächst in eine Zwischensprache um, die als Intermediate Language (IL) bezeichnet wird. Diese IL ist eine plattformunabhängige Repräsentation des Codes, die noch nicht direkt von der Hardware ausgeführt werden kann, aber bereits wesentlich näher an der Maschinensprache liegt als der ursprüngliche Quellcode.\n",
    "\n",
    "2. **Konvertierung der IL in Maschinencode**: Beim Starten der Anwendung übernimmt die .NET Common Language Runtime (CLR) die Verantwortung für den nächsten Schritt. Sie übersetzt die IL in den nativen Maschinencode, der spezifisch auf der Zielmaschine ausgeführt werden kann. Dieser Just-In-Time- (JIT-)Kompilierungsprozess sorgt dafür, dass der Code optimal auf der jeweiligen Hardware ausgeführt wird. Der Vorteil dieses zweistufigen Kompilierungsprozesses besteht darin, dass der gleiche C#-Code auf verschiedenen Plattformen laufen kann, solange diese das .NET-Framework oder eine kompatible Umgebung unterstützen.\n",
    "\n",
    "### Grundlegende Syntax von C#\n",
    "\n",
    "Ein typisches C#-Programm folgt einer klar strukturierten Syntax, die den Aufbau des Programms definiert. Ein einfaches C#-Programm besteht aus mehreren wesentlichen Elementen:\n",
    "\n",
    "- **`using`-Anweisungen**: Diese befinden sich am Anfang des Programms und dienen dazu, Namespaces zu importieren. Namespaces sind Sammlungen von Klassen und anderen Typen, die das Programm verwendet. Durch das Importieren eines Namespaces können Sie auf dessen Inhalte zugreifen, ohne deren vollständigen Pfad angeben zu müssen. Beispielsweise ermöglicht `using System;` den Zugriff auf grundlegende Funktionalitäten wie das Schreiben von Ausgaben auf die Konsole.\n",
    "\n",
    "- **Klasse**: In C# wird der gesamte Code innerhalb von Klassen organisiert. Eine Klasse fungiert als Container für Felder, Methoden und andere Mitglieder, die zusammen die Funktionalität des Programms definieren. Jede Anwendung in C# hat mindestens eine Klasse, die den Hauptcode enthält.\n",
    "\n",
    "- **`Main`-Methode**: Diese Methode stellt den Einstiegspunkt eines jeden C#-Programms dar. Wenn das Programm gestartet wird, beginnt die Ausführung mit der `Main`-Methode. Diese Methode kann Parameter empfangen und steuert die Ausführung des Programms.\n",
    "</details>\n",
    "\n",
    "### Hello world!"
   ]
  },
  {
   "cell_type": "markdown",
   "metadata": {
    "dotnet_interactive": {
     "language": "csharp"
    },
    "polyglot_notebook": {
     "kernelName": "csharp"
    }
   },
   "source": [
    "```csharp\n",
    "using System;\n",
    "\n",
    "class Program\n",
    "{\n",
    "    static void Main()\n",
    "    {\n",
    "        Console.WriteLine(\"Hello, World!\");\n",
    "    }\n",
    "}\n",
    "``` "
   ]
  },
  {
   "cell_type": "markdown",
   "metadata": {},
   "source": [
    "\n",
    "Hier wird  `System`  importiert, ein Namespace, der grundlegende Funktionen bereitstellt, wie das Drucken auf der Konsole. Die  `Main`-Methode ist der Einstiegspunkt des Programms.\n",
    "\n",
    "[Vertiefung zum \"Hello World\" Beispiel...](procedural-functional/CSharp_HelloWorld_Explanation.de.ipynb) →"
   ]
  },
  {
   "cell_type": "markdown",
   "metadata": {},
   "source": [
    "[Grundlagen zu `WriteLine()`...](procedural-functional/Console_WriteLine_Basics.de.ipynb) →"
   ]
  },
  {
   "cell_type": "markdown",
   "metadata": {},
   "source": [
    "\n",
    "### Grundlagen von C# anhand der Navigation durch den Code\n",
    "\n",
    "In C# arbeiten wir mit Code, der in  **Klassen**  und  **Methoden**  strukturiert ist. Der Einstiegspunkt ist immer die  `Main`-Methode. Hier werden wir alle Grundlagen ansprechen und ein Beispiel implementieren, das einen Bezug zur Umweltinformatik hat.\n",
    "\n",
    "### Datentypen und Variablen\n",
    "\n",
    "C# bietet primitive  **Werttypen**  (z. B.  `int`,  `double`) und  **Referenztypen**  (z. B.  `string`,  `arrays`). Variablen sind benannte Speicherplätze, die Werte speichern.\n",
    "\n",
    "**Beispiel:**"
   ]
  },
  {
   "cell_type": "code",
   "execution_count": 1,
   "metadata": {
    "dotnet_interactive": {
     "language": "csharp"
    },
    "polyglot_notebook": {
     "kernelName": "csharp"
    },
    "vscode": {
     "languageId": "polyglot-notebook"
    }
   },
   "outputs": [],
   "source": [
    "int alter = 25;        // Ganze Zahl\n",
    "double temperatur = 23.5; // Dezimalzahl\n",
    "string ort = \"Berlin\"; // Zeichenkette\n",
    "bool istRegen = true;  // Wahrheitswert"
   ]
  },
  {
   "cell_type": "markdown",
   "metadata": {},
   "source": [
    "[Weitere Grundlagen zu Variablen](CSharp_Introduction/Variables.de.ipynb) →\n",
    "\n",
    "[Weitere Grundlagen zu Strings](CSharp_Introduction/Strings.de.ipynb) →"
   ]
  },
  {
   "cell_type": "markdown",
   "metadata": {},
   "source": [
    "### Kontrollstrukturen\n",
    "\n",
    "#### Bedingte Anweisungen:\n",
    "\n",
    "Kontrollstrukturen wie  `if`,  `else`, und  `switch`  steuern den Ablauf je nach Bedingungen.\n",
    "\n",
    "**Beispiel:**"
   ]
  },
  {
   "cell_type": "code",
   "execution_count": 2,
   "metadata": {
    "dotnet_interactive": {
     "language": "csharp"
    },
    "polyglot_notebook": {
     "kernelName": "csharp"
    },
    "vscode": {
     "languageId": "polyglot-notebook"
    }
   },
   "outputs": [
    {
     "name": "stdout",
     "output_type": "stream",
     "text": [
      "Es regnet. Bitte einen Regenschirm mitnehmen!\n"
     ]
    }
   ],
   "source": [
    "if (istRegen)\n",
    "{\n",
    "    Console.WriteLine(\"Es regnet. Bitte einen Regenschirm mitnehmen!\");\n",
    "}\n",
    "else\n",
    "{\n",
    "    Console.WriteLine(\"Es ist trocken. Genieße das Wetter!\");\n",
    "}"
   ]
  },
  {
   "cell_type": "markdown",
   "metadata": {},
   "source": [
    "[Weitere Grundlagen zu bedingten Anweisungen](CSharp_Introduction/Conditional_statements.de.ipynb) →"
   ]
  },
  {
   "cell_type": "markdown",
   "metadata": {},
   "source": [
    "#### Schleifen:\n",
    "\n",
    "Wiederholungen werden mit  `for`,  `while`  oder  `foreach`  umgesetzt.\n",
    "\n",
    "**Beispiel:**"
   ]
  },
  {
   "cell_type": "code",
   "execution_count": 3,
   "metadata": {
    "dotnet_interactive": {
     "language": "csharp"
    },
    "polyglot_notebook": {
     "kernelName": "csharp"
    },
    "vscode": {
     "languageId": "polyglot-notebook"
    }
   },
   "outputs": [
    {
     "name": "stdout",
     "output_type": "stream",
     "text": [
      "Messung 1: Temperatur ist 23,5 °C\n",
      "Messung 2: Temperatur ist 23,5 °C\n",
      "Messung 3: Temperatur ist 23,5 °C\n"
     ]
    }
   ],
   "source": [
    "for (int i = 1; i <= 3; i++)\n",
    "{\n",
    "    Console.WriteLine($\"Messung {i}: Temperatur ist {temperatur} °C\");\n",
    "}"
   ]
  },
  {
   "cell_type": "markdown",
   "metadata": {},
   "source": [
    "[Weitere Grundlagen zu Schleifen](CSharp_Introduction/Loops.de.ipynb) →"
   ]
  },
  {
   "cell_type": "markdown",
   "metadata": {},
   "source": [
    "### Arithmetik und Operatoren\n",
    "\n",
    "Operatoren wie  `+`,  `-`,  `*`,  `/`  und  `%`  werden für Berechnungen genutzt.\n",
    "\n",
    "**Beispiel:**"
   ]
  },
  {
   "cell_type": "code",
   "execution_count": 4,
   "metadata": {
    "dotnet_interactive": {
     "language": "csharp"
    },
    "polyglot_notebook": {
     "kernelName": "csharp"
    },
    "vscode": {
     "languageId": "polyglot-notebook"
    }
   },
   "outputs": [
    {
     "name": "stdout",
     "output_type": "stream",
     "text": [
      "Verbleibende Emissionen: 8 kg\n"
     ]
    }
   ],
   "source": [
    "double kohlendioxidEmission = 10.5; // in kg\n",
    "double emissionsReduktion = 2.5;   // in kg\n",
    "\n",
    "double verbleibend = kohlendioxidEmission - emissionsReduktion;\n",
    "Console.WriteLine($\"Verbleibende Emissionen: {verbleibend} kg\");"
   ]
  },
  {
   "cell_type": "markdown",
   "metadata": {},
   "source": [
    "[Weitere Grundlagen zu Operatoren](CSharp_Introduction/Operators.de.ipynb) →"
   ]
  },
  {
   "cell_type": "markdown",
   "metadata": {},
   "source": [
    "### Casting und `var`\n",
    "\n",
    "#### Casting:\n",
    "\n",
    "Explizite und implizite Typumwandlungen.\n",
    "\n",
    "**Beispiel:**"
   ]
  },
  {
   "cell_type": "code",
   "execution_count": 5,
   "metadata": {
    "dotnet_interactive": {
     "language": "csharp"
    },
    "polyglot_notebook": {
     "kernelName": "csharp"
    },
    "vscode": {
     "languageId": "polyglot-notebook"
    }
   },
   "outputs": [],
   "source": [
    "int kleineZahl = 10;\n",
    "double grosseZahl = (double)kleineZahl; // Explizites Casting"
   ]
  },
  {
   "cell_type": "markdown",
   "metadata": {},
   "source": [
    "#### `var`:\n",
    "\n",
    "Automatische Typableitung.\n",
    "\n",
    "**Beispiel:**"
   ]
  },
  {
   "cell_type": "code",
   "execution_count": 6,
   "metadata": {
    "dotnet_interactive": {
     "language": "csharp"
    },
    "polyglot_notebook": {
     "kernelName": "csharp"
    },
    "vscode": {
     "languageId": "polyglot-notebook"
    }
   },
   "outputs": [],
   "source": [
    "var durchschnitt = 12.34; // Compiler erkennt den Typ als double"
   ]
  },
  {
   "cell_type": "markdown",
   "metadata": {},
   "source": [
    "### Kommentare\n",
    "\n",
    "Kommentare werden für Dokumentationen genutzt:"
   ]
  },
  {
   "cell_type": "code",
   "execution_count": 7,
   "metadata": {
    "dotnet_interactive": {
     "language": "csharp"
    },
    "polyglot_notebook": {
     "kernelName": "csharp"
    },
    "vscode": {
     "languageId": "polyglot-notebook"
    }
   },
   "outputs": [],
   "source": [
    "// Das ist ein einzeiliger Kommentar\n",
    "/* Das ist ein \n",
    "   mehrzeiliger Kommentar */"
   ]
  },
  {
   "cell_type": "markdown",
   "metadata": {},
   "source": [
    "### Funktionen\n",
    "\n",
    "Funktionen und Prozeduren strukturieren den Code.\n",
    "\n",
    "**Beispiel:**"
   ]
  },
  {
   "cell_type": "code",
   "execution_count": 8,
   "metadata": {
    "dotnet_interactive": {
     "language": "csharp"
    },
    "polyglot_notebook": {
     "kernelName": "csharp"
    },
    "vscode": {
     "languageId": "polyglot-notebook"
    }
   },
   "outputs": [],
   "source": [
    "static double BerechneEmission(double energieVerbrauch, double emissionsFaktor)\n",
    "{\n",
    "    return energieVerbrauch * emissionsFaktor;\n",
    "}"
   ]
  },
  {
   "cell_type": "markdown",
   "metadata": {},
   "source": [
    "[Weitere Grundlagen zu Funktionen](CSharp_Introduction/Functions.de.ipynb) →"
   ]
  },
  {
   "cell_type": "markdown",
   "metadata": {},
   "source": [
    "### Komplexere Datenstrukturen\n",
    "\n",
    "Arrays und komplexe Typen (z. B.  `Dictionary`).\n",
    "\n",
    "**Beispiel:**"
   ]
  },
  {
   "cell_type": "code",
   "execution_count": 9,
   "metadata": {
    "dotnet_interactive": {
     "language": "csharp"
    },
    "polyglot_notebook": {
     "kernelName": "csharp"
    },
    "vscode": {
     "languageId": "polyglot-notebook"
    }
   },
   "outputs": [
    {
     "name": "stdout",
     "output_type": "stream",
     "text": [
      "Gemessene Temperatur: 22,5 °C\n",
      "Gemessene Temperatur: 23 °C\n",
      "Gemessene Temperatur: 21,8 °C\n"
     ]
    }
   ],
   "source": [
    "double[] temperaturen = { 22.5, 23.0, 21.8 };\n",
    "\n",
    "foreach (double temp in temperaturen)\n",
    "{\n",
    "    Console.WriteLine($\"Gemessene Temperatur: {temp} °C\");\n",
    "}"
   ]
  },
  {
   "cell_type": "markdown",
   "metadata": {},
   "source": [
    "[Weitere Grundlagen zu Arrays](CSharp_Introduction/Arrays.de.ipynb) →\n",
    "\n",
    "[Weitere Grundlagen zu komplexeren Datenstrukturen](CSharp_Introduction/Complex_Datastructures.de.ipynb) →"
   ]
  },
  {
   "cell_type": "markdown",
   "metadata": {},
   "source": [
    "### Komplettes Codebeispiel zur Umweltinformatik"
   ]
  },
  {
   "cell_type": "code",
   "execution_count": 10,
   "metadata": {
    "dotnet_interactive": {
     "language": "csharp"
    },
    "polyglot_notebook": {
     "kernelName": "csharp"
    },
    "vscode": {
     "languageId": "polyglot-notebook"
    }
   },
   "outputs": [
    {
     "name": "stdout",
     "output_type": "stream",
     "text": [
      "Projekt: CO2-Reduktion\n",
      "Berechnung der Emissionen:\n",
      "Messung 1: 10,5 kg\n",
      "Messung 2: 12,3 kg\n",
      "Messung 3: 9,8 kg\n",
      "Gesamte Emissionen nach Faktor: 8,15 kg\n",
      "Emissionen im akzeptablen Bereich.\n"
     ]
    }
   ],
   "source": [
    "// Variablen und Datentypen\n",
    "string projektName = \"CO2-Reduktion\";\n",
    "double[] emissionen = { 10.5, 12.3, 9.8 }; // in kg\n",
    "double emissionsFaktor = 0.25;            // Faktor pro kWh\n",
    "\n",
    "// Ausgabe von Informationen\n",
    "Console.WriteLine($\"Projekt: {projektName}\");\n",
    "Console.WriteLine(\"Berechnung der Emissionen:\");\n",
    "\n",
    "// Schleifen und Arithmetik\n",
    "for (int i = 0; i < emissionen.Length; i++)\n",
    "{\n",
    "    Console.WriteLine($\"Messung {i + 1}: {emissionen[i]} kg\");\n",
    "}\n",
    "\n",
    "// Funktion und komplexe Berechnung\n",
    "double gesamtEmission = BerechneEmission(emissionen, emissionsFaktor);\n",
    "Console.WriteLine($\"Gesamte Emissionen nach Faktor: {gesamtEmission} kg\");\n",
    "\n",
    "// Bedingte Anweisung\n",
    "if (gesamtEmission > 25)\n",
    "{\n",
    "    Console.WriteLine(\"Warnung: Emissionen zu hoch!\");\n",
    "}\n",
    "else\n",
    "{\n",
    "    Console.WriteLine(\"Emissionen im akzeptablen Bereich.\");\n",
    "}\n",
    "\n",
    "// Funktion zur Berechnung der Gesamtemissionen\n",
    "static double BerechneEmission(double[] emissionen, double faktor)\n",
    "{\n",
    "    double summe = 0;\n",
    "    foreach (double emission in emissionen)\n",
    "    {\n",
    "        summe += emission * faktor;\n",
    "    }\n",
    "    return summe;\n",
    "}"
   ]
  },
  {
   "cell_type": "markdown",
   "metadata": {},
   "source": [
    "### Erklärung\n",
    "\n",
    "-   **Werttypen**  (`double`,  `string`) werden genutzt.\n",
    "-   **Kontrollstrukturen**  (`if`,  `for`,  `foreach`) bestimmen den Ablauf.\n",
    "-   **Arithmetik**  (`*`,  `+`) wird für die Berechnung verwendet.\n",
    "-   **Funktionen**  kapseln die Logik (`BerechneEmission`).\n",
    "-   **Arrays**  speichern die Emissionswerte.\n",
    "\n",
    "Dieses Programm zeigt grundlegende C#-Konzepte und berechnet, basierend auf Umweltinformatikdaten, die Gesamtemissionen eines Projekts."
   ]
  },
  {
   "cell_type": "markdown",
   "metadata": {},
   "source": [
    "## Cheatsheet zu funktionaler Programmierung in C#\n",
    "\n",
    "<a href=\"https://miro.com/app/board/o9J_lOJi2o0=/?moveToWidget=3074457366281003359&cot=14\"><img src=\"procedural-functional/Cheatsheet_programming.jpg\"/></a>"
   ]
  }
 ],
 "metadata": {
  "kernelspec": {
   "display_name": ".NET (C#)",
   "language": "C#",
   "name": ".net-csharp"
  },
  "language_info": {
   "name": "python"
  },
  "polyglot_notebook": {
   "kernelInfo": {
    "defaultKernelName": "csharp",
    "items": [
     {
      "aliases": [],
      "name": "csharp"
     }
    ]
   }
  }
 },
 "nbformat": 4,
 "nbformat_minor": 2
}
