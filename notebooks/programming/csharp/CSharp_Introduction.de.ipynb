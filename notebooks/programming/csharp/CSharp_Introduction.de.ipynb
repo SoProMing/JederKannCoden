{
 "cells": [
  {
   "cell_type": "markdown",
   "metadata": {},
   "source": [
    "# Einführung in C#\n",
    "\n",
    "<img src=\"Introduction_csharp.webp\" style=\"width:280px; height:280px;\">\n",
    "\n",
    "<img src=\"Red_thread.miro.de.jpg\" style=\"width:100%;\">\n",
    "\n",
    "<details>\n",
    "<summary>Inline miro frame...</summary>\n",
    "<iframe src=\"https://miro.com/app/board/o9J_lOJi2o0=/?moveToWidget=3458764554347680798&cot=14\" width=\"100%\" height=\"600px\"></iframe>\n",
    "</details>\n",
    "\n",
    "[Link auf Miro Frame...](https://miro.com/app/board/o9J_lOJi2o0=/?moveToWidget=3458764554347680798&cot=14)\n",
    "\n",
    "[Link zur Microsoft Dokumentation](https://learn.microsoft.com/de-de/dotnet/csharp/tour-of-csharp/tutorials/)"
   ]
  },
  {
   "cell_type": "markdown",
   "metadata": {},
   "source": [
    "Dieses Notebook bietet eine umfassende Einführung in die Grundlagen von C# und behandelt verschiedene Konzepte und Syntaxelemente dieser Programmiersprache. C# ist eine der Hauptsprachen, die auf der .NET-Plattform verwendet werden, und eignet sich für eine Vielzahl von Anwendungen, von Desktop-Programmen bis hin zu Web-Anwendungen und Spielen."
   ]
  },
  {
   "cell_type": "markdown",
   "metadata": {},
   "source": [
    "## Mit C# loslegen\n",
    "\n",
    "### Was ist C#?\n",
    "\n",
    "-   Moderne, objektorientierte Programmiersprache\n",
    "-   Von Microsoft entwickelt\n",
    "-   Teil des .NET-Frameworks\n",
    "-   Leistungsstark und leicht zu erlernen\n",
    "-   Funktionen: stark typisierte Variablen, Klassen, Vererbung, reichhaltige Standardbibliothek\n",
    "\n",
    "-   **Compiler:**\n",
    "    \n",
    "    -   Spezielles Programm zur Übersetzung von Quellcode in Maschinensprache\n",
    "    -   Bei C#: zweistufiger Übersetzungsprozess:\n",
    "        1.  Quellcode → Intermediate Language (IL)\n",
    "        2.  IL → Maschinencode (durch .NET Common Language Runtime - CLR)\n",
    "    -   Vorteil: Plattformunabhängigkeit (vorausgesetzt .NET-Framework ist vorhanden)\n",
    "\n",
    "-   **C# grundlegende Syntax:**\n",
    "    \n",
    "    -   Programm besteht aus  `using`-Anweisungen (Import von Namespaces)\n",
    "    -   Klasse als Container für Code\n",
    "    -   `Main`-Methode als Einstiegspunkt des Programms\n",
    "\n",
    "<details>\n",
    "<summary>Nochmal zum Nachlesen...</summary>\n",
    "\n",
    "C# ist eine fortschrittliche und moderne Programmiersprache, die speziell von Microsoft entwickelt wurde und eine zentrale Komponente des leistungsfähigen .NET-Frameworks darstellt. Sie wurde mit dem Ziel entworfen, eine Programmiersprache zu schaffen, die sowohl die Leistungsfähigkeit und Flexibilität bietet, die von professionellen Entwicklern benötigt wird, als auch eine einfache und intuitive Lernkurve für Einsteiger aufweist. C# kombiniert die bewährten Prinzipien der objektorientierten Programmierung mit einer Vielzahl von fortschrittlichen Funktionen, die es Entwicklern ermöglichen, robuste, skalierbare und wiederverwendbare Anwendungen zu erstellen.\n",
    "\n",
    "Die Sprache ist stark typisiert, was bedeutet, dass der Datentyp einer Variablen explizit festgelegt wird und somit eine strenge Typprüfung durch den Compiler erfolgt. Dies trägt zur Fehlervermeidung bei und sorgt für eine höhere Codequalität. Zusätzlich bietet C# eine umfangreiche Unterstützung für die Definition von Klassen, die als Baupläne für Objekte dienen und zentrale Elemente der objektorientierten Programmierung sind. Durch die Möglichkeit der Vererbung können Klassen Funktionalitäten von anderen Klassen erben, was zu einer besseren Wiederverwendbarkeit und Organisation des Codes führt. Darüber hinaus bietet C# eine reichhaltige Standardbibliothek, die eine Vielzahl vorgefertigter Funktionen und Klassen zur Verfügung stellt, welche die Entwicklung beschleunigen und die Implementierung komplexer Aufgaben vereinfachen.\n",
    "\n",
    "### Was ist ein Compiler?\n",
    "\n",
    "Ein Compiler ist ein spezielles Softwarewerkzeug, das den von einem Entwickler in einer höheren Programmiersprache wie C# verfassten Quellcode in eine Form übersetzt, die von einem Computer direkt ausgeführt werden kann. Dieser Prozess ist von zentraler Bedeutung in der Softwareentwicklung, da Computer selbst den Quellcode in seiner ursprünglichen Form nicht verstehen können. Stattdessen muss dieser Code in Maschinensprache umgewandelt werden, eine Sprache, die aus einer Reihe von binären Instruktionen besteht, die die CPU des Computers direkt verarbeiten kann.\n",
    "\n",
    "Im Kontext von C# erfolgt diese Übersetzung in zwei Schritten, um eine optimale Ausführung und Plattformunabhängigkeit zu gewährleisten:\n",
    "\n",
    "1. **Übersetzung des Quellcodes in die Intermediate Language (IL)**: Der C#-Compiler, auch als C#-Kompilierer bekannt, nimmt den geschriebenen Quellcode und wandelt ihn zunächst in eine Zwischensprache um, die als Intermediate Language (IL) bezeichnet wird. Diese IL ist eine plattformunabhängige Repräsentation des Codes, die noch nicht direkt von der Hardware ausgeführt werden kann, aber bereits wesentlich näher an der Maschinensprache liegt als der ursprüngliche Quellcode.\n",
    "\n",
    "2. **Konvertierung der IL in Maschinencode**: Beim Starten der Anwendung übernimmt die .NET Common Language Runtime (CLR) die Verantwortung für den nächsten Schritt. Sie übersetzt die IL in den nativen Maschinencode, der spezifisch auf der Zielmaschine ausgeführt werden kann. Dieser Just-In-Time- (JIT-)Kompilierungsprozess sorgt dafür, dass der Code optimal auf der jeweiligen Hardware ausgeführt wird. Der Vorteil dieses zweistufigen Kompilierungsprozesses besteht darin, dass der gleiche C#-Code auf verschiedenen Plattformen laufen kann, solange diese das .NET-Framework oder eine kompatible Umgebung unterstützen.\n",
    "\n",
    "### Grundlegende Syntax von C#\n",
    "\n",
    "Ein typisches C#-Programm folgt einer klar strukturierten Syntax, die den Aufbau des Programms definiert. Ein einfaches C#-Programm besteht aus mehreren wesentlichen Elementen:\n",
    "\n",
    "- **`using`-Anweisungen**: Diese befinden sich am Anfang des Programms und dienen dazu, Namespaces zu importieren. Namespaces sind Sammlungen von Klassen und anderen Typen, die das Programm verwendet. Durch das Importieren eines Namespaces können Sie auf dessen Inhalte zugreifen, ohne deren vollständigen Pfad angeben zu müssen. Beispielsweise ermöglicht `using System;` den Zugriff auf grundlegende Funktionalitäten wie das Schreiben von Ausgaben auf die Konsole.\n",
    "\n",
    "- **Klasse**: In C# wird der gesamte Code innerhalb von Klassen organisiert. Eine Klasse fungiert als Container für Felder, Methoden und andere Mitglieder, die zusammen die Funktionalität des Programms definieren. Jede Anwendung in C# hat mindestens eine Klasse, die den Hauptcode enthält.\n",
    "\n",
    "- **`Main`-Methode**: Diese Methode stellt den Einstiegspunkt eines jeden C#-Programms dar. Wenn das Programm gestartet wird, beginnt die Ausführung mit der `Main`-Methode. Diese Methode kann Parameter empfangen und steuert die Ausführung des Programms.\n",
    "</details>\n",
    "\n",
    "### Hello world!"
   ]
  },
  {
   "cell_type": "markdown",
   "metadata": {
    "dotnet_interactive": {
     "language": "csharp"
    },
    "polyglot_notebook": {
     "kernelName": "csharp"
    }
   },
   "source": [
    "```csharp\n",
    "using System;\n",
    "\n",
    "class Program\n",
    "{\n",
    "    static void Main()\n",
    "    {\n",
    "        Console.WriteLine(\"Hello, World!\");\n",
    "    }\n",
    "}\n",
    "``` "
   ]
  },
  {
   "cell_type": "markdown",
   "metadata": {},
   "source": [
    "\n",
    "Hier wird  `System`  importiert, ein Namespace, der grundlegende Funktionen bereitstellt, wie das Drucken auf der Konsole. Die  `Main`-Methode ist der Einstiegspunkt des Programms.\n",
    "\n",
    "[Hier gehts zur Vertiefung in das \"Hello World\" Beispiel...](procedural-functional/CSharp_HelloWorld_Explanation.de.ipynb)"
   ]
  },
  {
   "cell_type": "markdown",
   "metadata": {},
   "source": [
    "[Grundlagen zu `WriteLine()`...](procedural-functional/Console_WriteLine_Basics.de.ipynb) →"
   ]
  },
  {
   "cell_type": "markdown",
   "metadata": {},
   "source": [
    "## Das Konzept einer Variablen\n",
    "\n",
    "← [Datentypen und Variablen am Beispiel von TicTacToe](../Programming_And_TicTacToe.de.ipynb#Datentypen-und-Variablen)\n",
    "\n",
    "Eine Variable in C# ist ein benannter Speicherort im Arbeitsspeicher eines Programms, der dazu verwendet wird, Daten zu speichern und darauf zuzugreifen. Variablen ermöglichen es, Werte vorübergehend zu speichern, um sie im weiteren Verlauf des Programms zu verwenden. Sie sind ein fundamentales Konzept in der Programmierung, da sie es erlauben, mit Daten flexibel und dynamisch zu arbeiten.\n",
    "\n",
    "### Aufbau einer Variable\n",
    "\n",
    "1.  **Deklaration**: Um eine Variable in C# zu verwenden, muss sie zuerst deklariert werden. Bei der Deklaration einer Variablen wird der Typ festgelegt, der angibt, welche Art von Daten die Variable speichern kann. Der Variablenname muss eindeutig sein und den Namenskonventionen von C# folgen.\n",
    "    \n",
    "    -   Beispiel:  `int age;`  Hier wird eine Variable namens  `age`  deklariert, die einen Ganzzahlwert speichern kann.\n",
    "2.  **Initialisierung**: Nach der Deklaration kann der Variablen ein Wert zugewiesen werden. Dies kann entweder direkt bei der Deklaration oder zu einem späteren Zeitpunkt im Code geschehen.\n",
    "    \n",
    "    -   Beispiel:  `int age = 25;`  Hier wird der Variablen  `age`  direkt ein Wert zugewiesen.\n",
    "3.  **Zugriff und Modifikation**: Nachdem eine Variable deklariert und initialisiert wurde, kann auf ihren Wert zugegriffen und dieser bei Bedarf geändert werden.\n",
    "    \n",
    "    -   Beispiel:  `age = 30;`  Hier wird der Wert von  `age`  auf 30 geändert."
   ]
  },
  {
   "cell_type": "markdown",
   "metadata": {},
   "source": [
    "### Typen von Variablen\n",
    "\n",
    "In C# sind Variablen stark typisiert, was bedeutet, dass der Typ einer Variablen zur Zeit der Deklaration festgelegt wird und sich nicht mehr ändern kann. Die wichtigsten Typen von Variablen sind:\n",
    "\n",
    "-   **Primitive Datentypen**: Diese umfassen einfache Datentypen wie Ganzzahlen (`int`), Gleitkommazahlen (`float`,  `double`), Zeichen (`char`) und Wahrheitswerte (`bool`).\n",
    "-   **Referenztypen**: Zu den Referenztypen gehören komplexere Datentypen wie Klassen, Arrays, Strings und Objekte. Im Gegensatz zu primitiven Datentypen speichern Referenztypen einen Verweis (Referenz) auf den tatsächlichen Speicherort der Daten, nicht die Daten selbst."
   ]
  },
  {
   "cell_type": "markdown",
   "metadata": {},
   "source": [
    "### Lebensdauer und Sichtbarkeit\n",
    "\n",
    "Der Gültigkeitsbereich (Scope) einer Variablen bestimmt, wo im Code auf sie zugegriffen werden kann. Variablen können lokal (innerhalb einer Methode) oder global (z.B. als Klassenfelder) deklariert werden.\n",
    "\n",
    "-   **Lokale Variablen**: Diese existieren nur innerhalb der Methode oder des Blocks, in dem sie deklariert wurden. Nach Verlassen des Blocks wird der Speicher, der der Variablen zugewiesen wurde, freigegeben.\n",
    "    -   Beispiel:  `void MyMethod() { int x = 5; }`\n",
    "-   **Globale bzw. Klassenvariablen**: Diese werden in der Klasse selbst deklariert und sind für alle Methoden dieser Klasse zugänglich, solange sie im entsprechenden Gültigkeitsbereich liegen.\n",
    "    -   Beispiel:  `class MyClass { int y; }`"
   ]
  },
  {
   "cell_type": "markdown",
   "metadata": {},
   "source": [
    "### Wichtige Konzepte im Zusammenhang mit Variablen\n",
    "\n",
    "1.  **Konstanten**: In C# gibt es auch die Möglichkeit, Variablen als konstant zu deklarieren. Diese Variablen können nach ihrer Initialisierung nicht mehr verändert werden. Das Schlüsselwort dafür ist  `const`.\n",
    "    \n",
    "    -   Beispiel:  `const int MAX_AGE = 100;`\n",
    "2.  **Nullable-Typen**: Normalerweise kann eine Variable eines Wertetyps (z.B.  `int`) keinen  `null`-Wert enthalten. C# bietet jedoch sogenannte Nullable-Typen, die es ermöglichen, dass Wertetypen  `null`  sein können.\n",
    "    \n",
    "    -   Beispiel:  `int? nullableInt = null;`\n",
    "3.  **Automatisch implementierte Eigenschaften**: In modernen C#-Versionen gibt es zudem die Möglichkeit, Variablen mit dem Schlüsselwort  `var`  automatisch den Typ zuzuweisen, basierend auf dem initial zugewiesenen Wert. Dies nennt man Typinferenz.\n",
    "    \n",
    "    -   Beispiel:  `var name = \"John\";`  Der Compiler leitet automatisch ab, dass  `name`  vom Typ  `string`  ist.\n",
    "4.  **Speicherverwaltung**: Für den Umgang mit Variablen ist es wichtig zu verstehen, dass C# über eine automatische Speicherverwaltung verfügt, die durch den Garbage Collector gesteuert wird. Dieser sorgt dafür, dass nicht mehr benötigter Speicher automatisch freigegeben wird.\n",
    "\n",
    "### Beispiel:\n"
   ]
  },
  {
   "cell_type": "code",
   "execution_count": 38,
   "metadata": {
    "dotnet_interactive": {
     "language": "csharp"
    },
    "polyglot_notebook": {
     "kernelName": "csharp"
    },
    "vscode": {
     "languageId": "polyglot-notebook"
    }
   },
   "outputs": [],
   "source": [
    "int number = 10;\n",
    "string name = \"John\";\n",
    "double price = 9.99;"
   ]
  },
  {
   "cell_type": "markdown",
   "metadata": {},
   "source": [
    "-   `int`  ist ein Datentyp für ganze Zahlen.\n",
    "-   `string`  speichert eine Zeichenkette.\n",
    "-   `double`  ist ein Datentyp für Gleitkommazahlen."
   ]
  },
  {
   "cell_type": "markdown",
   "metadata": {},
   "source": [
    "## Datentypen:  `int`,  `float`, und  `double`\n",
    "\n",
    "### `int`\n",
    "\n",
    "Der  `int`-Typ speichert ganze Zahlen (ohne Dezimalstellen). Er ist 32 Bit breit und kann Werte im Bereich von -2.147.483.648 bis 2.147.483.647 speichern.\n",
    "\n",
    "### `float`\n",
    "\n",
    "Der  `float`-Typ speichert Gleitkommazahlen (Zahlen mit Dezimalstellen). Er ist 32 Bit breit und eignet sich für die Speicherung von Werten mit weniger Genauigkeit, aber größerem Bereich. Ein  `float`-Wert benötigt das Suffix  `f`:\n"
   ]
  },
  {
   "cell_type": "code",
   "execution_count": 39,
   "metadata": {
    "dotnet_interactive": {
     "language": "csharp"
    },
    "polyglot_notebook": {
     "kernelName": "csharp"
    },
    "vscode": {
     "languageId": "polyglot-notebook"
    }
   },
   "outputs": [],
   "source": [
    "float pi = 3.14f;"
   ]
  },
  {
   "cell_type": "markdown",
   "metadata": {},
   "source": [
    "### `double`\n",
    "\n",
    "Der  `double`-Typ ist ein 64-Bit-Gleitkommatyp und bietet eine höhere Genauigkeit und einen größeren Bereich als  `float`. Dies ist der am häufigsten verwendete Typ für Gleitkommazahlen:"
   ]
  },
  {
   "cell_type": "code",
   "execution_count": 40,
   "metadata": {
    "dotnet_interactive": {
     "language": "csharp"
    },
    "polyglot_notebook": {
     "kernelName": "csharp"
    },
    "vscode": {
     "languageId": "polyglot-notebook"
    }
   },
   "outputs": [],
   "source": [
    "double precisePi = 3.14159265358979;"
   ]
  },
  {
   "cell_type": "markdown",
   "metadata": {},
   "source": [
    "## Mit Strings arbeiten\n",
    "\n",
    "Strings sind Folgen von Zeichen. Sie können wie folgt deklariert und verwendet werden:"
   ]
  },
  {
   "cell_type": "code",
   "execution_count": 41,
   "metadata": {
    "dotnet_interactive": {
     "language": "csharp"
    },
    "polyglot_notebook": {
     "kernelName": "csharp"
    },
    "vscode": {
     "languageId": "polyglot-notebook"
    }
   },
   "outputs": [],
   "source": [
    "string greeting = \"Hello\";\n",
    "string verbatim = @\"This is a verbatim string\";"
   ]
  },
  {
   "cell_type": "markdown",
   "metadata": {},
   "source": [
    "Ein verbatim string (`@\"\"`) ignoriert Escape-Zeichen wie  `\\n`  und ermöglicht das Schreiben von Pfaden und Texten, die Sonderzeichen enthalten."
   ]
  },
  {
   "cell_type": "markdown",
   "metadata": {},
   "source": [
    "[Grundlagen zu `ReadLine()`](./procedural-functional/Console_ReadLine_Basics.de.ipynb) →"
   ]
  },
  {
   "cell_type": "markdown",
   "metadata": {},
   "source": [
    "## Strings vertiefen\n",
    "\n",
    "Strings bieten zahlreiche Methoden zur Manipulation, z.B. zur Änderung der Groß-/Kleinschreibung oder zur Extraktion von Teilstrings:"
   ]
  },
  {
   "cell_type": "code",
   "execution_count": 1,
   "metadata": {
    "dotnet_interactive": {
     "language": "csharp"
    },
    "polyglot_notebook": {
     "kernelName": "csharp"
    },
    "vscode": {
     "languageId": "polyglot-notebook"
    }
   },
   "outputs": [],
   "source": [
    "string hello = \"Hello, World!\";\n",
    "int length = hello.Length;       // Länge des Strings\n",
    "string upper = hello.ToUpper();  // \"HELLO, WORLD!\"\n",
    "string sub = hello.Substring(7); // \"World!\""
   ]
  },
  {
   "cell_type": "markdown",
   "metadata": {},
   "source": [
    "## Strings durchsuchen\n",
    "\n",
    "Strings können durchsucht werden, um das Vorkommen bestimmter Zeichen oder Wörter zu finden:"
   ]
  },
  {
   "cell_type": "code",
   "execution_count": 43,
   "metadata": {
    "dotnet_interactive": {
     "language": "csharp"
    },
    "polyglot_notebook": {
     "kernelName": "csharp"
    },
    "vscode": {
     "languageId": "polyglot-notebook"
    }
   },
   "outputs": [],
   "source": [
    "string sentence = \"The quick brown fox jumps over the lazy dog.\";\n",
    "bool containsFox = sentence.Contains(\"fox\");\n",
    "int indexOfDog = sentence.IndexOf(\"dog\");"
   ]
  },
  {
   "cell_type": "markdown",
   "metadata": {},
   "source": [
    "-   `Contains()`  gibt  `true`  zurück, wenn der String das angegebene Wort enthält.\n",
    "-   `IndexOf()`  gibt die Position des ersten Vorkommens des Wortes zurück."
   ]
  },
  {
   "cell_type": "markdown",
   "metadata": {},
   "source": [
    "## Kommentare\n",
    "\n",
    "Kommentare sind Anmerkungen im Code, die nicht ausgeführt werden. Sie dienen dazu, den Code zu dokumentieren und zu erklären:"
   ]
  },
  {
   "cell_type": "code",
   "execution_count": 44,
   "metadata": {
    "dotnet_interactive": {
     "language": "csharp"
    },
    "polyglot_notebook": {
     "kernelName": "csharp"
    },
    "vscode": {
     "languageId": "polyglot-notebook"
    }
   },
   "outputs": [],
   "source": [
    "// Dies ist ein Einzelzeilenkommentar\n",
    "/* Dies ist ein\n",
    "   Blockkommentar */"
   ]
  },
  {
   "cell_type": "markdown",
   "metadata": {},
   "source": [
    "## Weitere Variablentypen\n",
    "\n",
    "### Var Schlüsselwort\n",
    "\n",
    "Das  `var`-Schlüsselwort ermöglicht es, Variablen ohne explizite Typangabe zu deklarieren. Der Typ wird vom Compiler zur Kompilierzeit bestimmt:"
   ]
  },
  {
   "cell_type": "code",
   "execution_count": 45,
   "metadata": {
    "dotnet_interactive": {
     "language": "csharp"
    },
    "polyglot_notebook": {
     "kernelName": "csharp"
    },
    "vscode": {
     "languageId": "polyglot-notebook"
    }
   },
   "outputs": [],
   "source": [
    "var number = 42;  // number wird als int deklariert"
   ]
  },
  {
   "cell_type": "markdown",
   "metadata": {},
   "source": [
    "### Echte Literale\n",
    "\n",
    "C# unterstützt verschiedene Zahlensysteme wie Dezimal, Hexadezimal und Binär:"
   ]
  },
  {
   "cell_type": "code",
   "execution_count": 46,
   "metadata": {
    "dotnet_interactive": {
     "language": "csharp"
    },
    "polyglot_notebook": {
     "kernelName": "csharp"
    },
    "vscode": {
     "languageId": "polyglot-notebook"
    }
   },
   "outputs": [],
   "source": [
    "int decimalNumber = 42;\n",
    "int hexNumber = 0x2A;   // 42 in Hexadezimal\n",
    "int binaryNumber = 0b101010; // 42 in Binär"
   ]
  },
  {
   "cell_type": "markdown",
   "metadata": {},
   "source": [
    "## Typen casting\n",
    "\n",
    "Casting ermöglicht die Umwandlung eines Datentyps in einen anderen. Dies kann explizit oder implizit geschehen:"
   ]
  },
  {
   "cell_type": "code",
   "execution_count": 47,
   "metadata": {
    "dotnet_interactive": {
     "language": "csharp"
    },
    "polyglot_notebook": {
     "kernelName": "csharp"
    },
    "vscode": {
     "languageId": "polyglot-notebook"
    }
   },
   "outputs": [],
   "source": [
    "int number = 42;\n",
    "double castedNumber = (double)number;  // Explizites Casting"
   ]
  },
  {
   "cell_type": "markdown",
   "metadata": {},
   "source": [
    "## Operatoren\n",
    "\n",
    "C# bietet eine Vielzahl von Operatoren wie Zuweisungsoperatoren, Arithmetische Operatoren, Vergleichsoperatoren und Logische Operatoren:"
   ]
  },
  {
   "cell_type": "code",
   "execution_count": 48,
   "metadata": {
    "dotnet_interactive": {
     "language": "csharp"
    },
    "polyglot_notebook": {
     "kernelName": "csharp"
    },
    "vscode": {
     "languageId": "polyglot-notebook"
    }
   },
   "outputs": [],
   "source": [
    "int a = 10;\n",
    "int b = 20;\n",
    "int sum = a + b;\n",
    "bool isEqual = a == b;"
   ]
  },
  {
   "cell_type": "markdown",
   "metadata": {},
   "source": [
    "-   Arithmetische Operatoren:  `+`,  `-`,  `*`,  `/`,  `%`\n",
    "-   Vergleichsoperatoren:  `==`,  `!=`,  `>`,  `<`,  `>=`,  `<=`\n",
    "-   Logische Operatoren:  `&&`,  `||`,  `!`"
   ]
  },
  {
   "cell_type": "markdown",
   "metadata": {},
   "source": [
    "[Grundlagen zu Booleschen Operatoren](./procedural-functional/CSharp_Boolean_Operators_Basics.de.ipynb) →\n",
    "\n",
    "[Grundlagen zu weiteren Operatoren](./procedural-functional/CSharp_Other_Operators_Basics.de.ipynb) →"
   ]
  },
  {
   "cell_type": "markdown",
   "metadata": {},
   "source": [
    "## Bedingte Anweisungen\n",
    "\n",
    "← [Kontrollstrukturen am Beispiel von TicTacToe](../Programming_And_TicTacToe.de.ipynb)\n",
    "\n",
    "Bedingte Anweisungen wie  `if`,  `else`, und  `switch`  ermöglichen es, verschiedene Codepfade basierend auf bestimmten Bedingungen auszuführen.\n",
    "\n",
    "### Beispiel mit  `if`:"
   ]
  },
  {
   "cell_type": "code",
   "execution_count": 2,
   "metadata": {
    "dotnet_interactive": {
     "language": "csharp"
    },
    "polyglot_notebook": {
     "kernelName": "csharp"
    },
    "vscode": {
     "languageId": "polyglot-notebook"
    }
   },
   "outputs": [
    {
     "name": "stdout",
     "output_type": "stream",
     "text": [
      "You are not an adult.\n"
     ]
    }
   ],
   "source": [
    "int age = 16;\n",
    "\n",
    "if (age >= 18)\n",
    "{\n",
    "    Console.WriteLine(\"You are an adult.\");\n",
    "}\n",
    "else\n",
    "{\n",
    "    Console.WriteLine(\"You are not an adult.\");\n",
    "}"
   ]
  },
  {
   "cell_type": "markdown",
   "metadata": {},
   "source": [
    "### Switch Anweisung\n",
    "\n",
    "Die  `switch`-Anweisung bietet eine strukturierte Möglichkeit, mehrere Bedingungen zu prüfen:"
   ]
  },
  {
   "cell_type": "code",
   "execution_count": 50,
   "metadata": {
    "dotnet_interactive": {
     "language": "csharp"
    },
    "polyglot_notebook": {
     "kernelName": "csharp"
    },
    "vscode": {
     "languageId": "polyglot-notebook"
    }
   },
   "outputs": [
    {
     "name": "stdout",
     "output_type": "stream",
     "text": [
      "Another day\n"
     ]
    }
   ],
   "source": [
    "int day = 3;\n",
    "switch (day)\n",
    "{\n",
    "    case 1:\n",
    "        Console.WriteLine(\"Monday\");\n",
    "        break;\n",
    "    case 2:\n",
    "        Console.WriteLine(\"Tuesday\");\n",
    "        break;\n",
    "    default:\n",
    "        Console.WriteLine(\"Another day\");\n",
    "        break;\n",
    "}"
   ]
  },
  {
   "cell_type": "markdown",
   "metadata": {},
   "source": [
    "## Schleifen\n",
    "\n",
    "← [Kontrollstrukturen am Beispiel von TicTacToe](../Programming_And_TicTacToe.de.ipynb)\n",
    "\n",
    "### for Schleife\n",
    "\n",
    "Die  `for`-Schleife wird verwendet, um einen Block von Anweisungen eine bestimmte Anzahl von Malen auszuführen:"
   ]
  },
  {
   "cell_type": "code",
   "execution_count": 51,
   "metadata": {
    "dotnet_interactive": {
     "language": "csharp"
    },
    "polyglot_notebook": {
     "kernelName": "csharp"
    },
    "vscode": {
     "languageId": "polyglot-notebook"
    }
   },
   "outputs": [
    {
     "name": "stdout",
     "output_type": "stream",
     "text": [
      "0\n",
      "1\n",
      "2\n",
      "3\n",
      "4\n"
     ]
    }
   ],
   "source": [
    "for (int i = 0; i < 5; i++)\n",
    "{\n",
    "    Console.WriteLine(i);\n",
    "}"
   ]
  },
  {
   "cell_type": "markdown",
   "metadata": {},
   "source": [
    "### break und continue Schlüsselworte\n",
    "\n",
    "`break`  beendet die Schleife, während  `continue`  den aktuellen Schleifendurchlauf überspringt und mit dem nächsten fortfährt:"
   ]
  },
  {
   "cell_type": "code",
   "execution_count": 52,
   "metadata": {
    "dotnet_interactive": {
     "language": "csharp"
    },
    "polyglot_notebook": {
     "kernelName": "csharp"
    },
    "vscode": {
     "languageId": "polyglot-notebook"
    }
   },
   "outputs": [
    {
     "name": "stdout",
     "output_type": "stream",
     "text": [
      "1\n",
      "3\n"
     ]
    }
   ],
   "source": [
    "for (int i = 0; i < 10; i++)\n",
    "{\n",
    "    if (i == 5) break;      // Schleife wird beendet\n",
    "    if (i % 2 == 0) continue; // Springt zur nächsten Iteration\n",
    "    Console.WriteLine(i);\n",
    "}"
   ]
  },
  {
   "cell_type": "markdown",
   "metadata": {},
   "source": [
    "### foreach Schleife\n",
    "\n",
    "Die  `foreach`-Schleife durchläuft alle Elemente einer Sammlung, z.B. ein Array oder eine Liste:"
   ]
  },
  {
   "cell_type": "code",
   "execution_count": 53,
   "metadata": {
    "dotnet_interactive": {
     "language": "csharp"
    },
    "polyglot_notebook": {
     "kernelName": "csharp"
    },
    "vscode": {
     "languageId": "polyglot-notebook"
    }
   },
   "outputs": [
    {
     "name": "stdout",
     "output_type": "stream",
     "text": [
      "Apple\n",
      "Banana\n",
      "Cherry\n"
     ]
    }
   ],
   "source": [
    "string[] fruits = { \"Apple\", \"Banana\", \"Cherry\" };\n",
    "foreach (string fruit in fruits)\n",
    "{\n",
    "    Console.WriteLine(fruit);\n",
    "}"
   ]
  },
  {
   "cell_type": "markdown",
   "metadata": {},
   "source": [
    "### while Schleife und do Schleife\n",
    "\n",
    "`while`-Schleifen wiederholen eine Anweisung, solange eine Bedingung wahr ist, während  `do`-Schleifen die Anweisung mindestens einmal ausführen, bevor die Bedingung geprüft wird:"
   ]
  },
  {
   "cell_type": "code",
   "execution_count": 54,
   "metadata": {
    "dotnet_interactive": {
     "language": "csharp"
    },
    "polyglot_notebook": {
     "kernelName": "csharp"
    },
    "vscode": {
     "languageId": "polyglot-notebook"
    }
   },
   "outputs": [
    {
     "name": "stdout",
     "output_type": "stream",
     "text": [
      "0\n",
      "1\n",
      "2\n",
      "3\n",
      "4\n"
     ]
    }
   ],
   "source": [
    "int count = 0;\n",
    "while (count < 5)\n",
    "{\n",
    "    Console.WriteLine(count);\n",
    "    count++;\n",
    "}"
   ]
  },
  {
   "cell_type": "code",
   "execution_count": 55,
   "metadata": {
    "dotnet_interactive": {
     "language": "csharp"
    },
    "polyglot_notebook": {
     "kernelName": "csharp"
    },
    "vscode": {
     "languageId": "polyglot-notebook"
    }
   },
   "outputs": [
    {
     "name": "stdout",
     "output_type": "stream",
     "text": [
      "0\n",
      "1\n",
      "2\n",
      "3\n",
      "4\n"
     ]
    }
   ],
   "source": [
    "int count2 = 0;\n",
    "do\n",
    "{\n",
    "    Console.WriteLine(count2);\n",
    "    count2++;\n",
    "} while (count2 < 5);"
   ]
  },
  {
   "cell_type": "markdown",
   "metadata": {},
   "source": [
    "## Zusammenfassung\n",
    "\n",
    "Dieses Notebook hat eine Einführung in die Grundlagen von C# gegeben, einschließlich der Syntax, Variablen, grundlegender Datentypen wie  `int`,  `float`, und  `double`, Strings, Kommentare, Operatoren, bedingte Anweisungen und Schleifen. Außerdem wurde das Konzept des Compilers erläutert, der den geschriebenen C#-Code in ausführbaren Maschinencode übersetzt. C# ist eine vielseitige und leistungsfähige Sprache, die sich für viele verschiedene Arten von Anwendungen eignet."
   ]
  }
 ],
 "metadata": {
  "kernelspec": {
   "display_name": ".NET (C#)",
   "language": "C#",
   "name": ".net-csharp"
  },
  "language_info": {
   "name": "python"
  },
  "polyglot_notebook": {
   "kernelInfo": {
    "defaultKernelName": "csharp",
    "items": [
     {
      "aliases": [],
      "name": "csharp"
     }
    ]
   }
  }
 },
 "nbformat": 4,
 "nbformat_minor": 2
}
