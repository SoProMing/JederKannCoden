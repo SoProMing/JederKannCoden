{
 "cells": [
  {
   "cell_type": "markdown",
   "metadata": {},
   "source": [
    "# Jeder kann coden\n",
    "\n",
    "<table border=\"0\">\n",
    "  <tr>\n",
    "    <td>\n",
    "        <img src=\"Everybody_can_code.webp\">\n",
    "    </td>\n",
    "    <td rowspan=\"2\">\n",
    "        <a href=\"https://miro.com/app/board/uXjVPm0lbTo=/?moveToWidget=3458764607889708296&cot=14\"><img src=\"Radar.de.jpg\"></a>\n",
    "    </td>\n",
    "  </tr>\n",
    "  <tr>\n",
    "    <td>\n",
    "      <a href=\"https://learn.microsoft.com/de-de/dotnet/../csharp/tour-of-../csharp/\">Link zur Microsoft Dokumentation zu c#</a><br>\n",
    "      <a href=\"https://www.w3schools.com\">Link zu Tutorials auf w3schools</a><br>\n",
    "      <a href=\"https://www.codewars.com\">Link zu codewars</a><br>\n",
    "      <a href=\"https://www.hackerrank.com\">Link zu hackerrank</a><br>\n",
    "    </td>\n",
    "  </tr>\n",
    "</table>"
   ]
  },
  {
   "cell_type": "markdown",
   "metadata": {},
   "source": [
    "## Einleitung\n",
    "\n",
    "Willkommen zu \"Everybody Can Code\"! Dieses Dokument ist eine Reise durch die Welt des Programmierens, die zeigt, dass wirklich jeder die Fähigkeit entwickeln kann, Software zu verstehen und zu erschaffen. Egal, ob Sie Anfänger oder erfahrener Entwickler sind, die Inhalte bieten wertvolle Einblicke, praktische Beispiele und Inspirationen, um Ihre Fähigkeiten zu erweitern und Ihre Kreativität zu fördern.\n",
    "\n",
    "Die Welt der Technologie entwickelt sich rasant, und Programmieren ist zu einer Schlüsselkompetenz geworden, die über Branchen hinweg Anwendung findet. Dieses Dokument zielt darauf ab, die Barrieren zu senken und einen klaren, zugänglichen Weg zum Erlernen des Programmierens zu bieten. Lassen Sie uns gemeinsam den ersten Schritt machen – oder einen weiteren auf Ihrem Weg zur Exzellenz."
   ]
  },
  {
   "cell_type": "markdown",
   "metadata": {},
   "source": [
    "## Und wie geht das?\n",
    "\n",
    "Dieses Dokument ist als interaktiver Leitfaden für das Programmierenlernen konzipiert. Es bietet eine strukturierte Herangehensweise, die sowohl Theorie als auch Praxis kombiniert. Um das Beste aus den Inhalten herauszuholen, empfehlen wir folgende Schritte:\n",
    "\n",
    "1. **Lesen und Verstehen**: Beginnen Sie mit den erklärenden Texten, um die Konzepte und Prinzipien zu verstehen. Jedes Kapitel baut auf dem vorherigen auf, sodass ein sequenzielles Vorgehen sinnvoll ist.\n",
    "\n",
    "2. **Praktische Übungen**: Viele Abschnitte enthalten Codebeispiele. Kopieren Sie den Code in Ihre Entwicklungsumgebung und experimentieren Sie damit. Verändern Sie den Code und beobachten Sie, wie sich die Änderungen auf das Programm auswirken.\n",
    "\n",
    "3. **Eigene Projekte erstellen**: Nutzen Sie die erlernten Konzepte, um eigene kleine Projekte zu starten. Dies hilft, das Gelernte zu festigen und Ihre Kreativität zu fördern.\n",
    "\n",
    "4. **Vertiefung durch Fragen**: Stellen Sie sich bei jedem Abschnitt die Frage, wie Sie die Konzepte in realen Anwendungen einsetzen können. Dies fördert ein tieferes Verständnis und hilft Ihnen, die Brücke zwischen Theorie und Praxis zu schlagen.\n",
    "\n",
    "5. **Zusätzliche Ressourcen verwenden**: Falls Sie ein Thema besonders interessiert, nutzen Sie die bereitgestellten Links oder Hinweise auf weiterführende Materialien, um Ihr Wissen zu erweitern.\n",
    "\n",
    "Dieses Dokument ist mehr als ein Text – es ist ein Werkzeug, um Ihre Programmierkenntnisse auf eine praktische und verständliche Weise zu erweitern. Es eignet sich für Selbstlerner, Lehrer und Workshop-Organisatoren gleichermaßen.\n",
    "\n",
    "---"
   ]
  },
  {
   "cell_type": "markdown",
   "metadata": {},
   "source": [
    "## Inhaltsverzeichnis\n",
    "\n",
    "### Vorbereitung\n",
    "- [Eisbrecher](../csharp/CSharp_icebreaker.de.ipynb)\n",
    "- [Zahlensysteme und Zeichen](Number_Systems.de.ipynb)\n",
    "- [Werkzeuge zur Vorlesung](../csharp/tools/Toolchain.de.ipynb)\n",
    "### Grundlagen\n",
    "- [Programmieren & TicTacToe:](Programming_And_TicTacToe.de.ipynb) Prozedurale Programmierung am Beispiel von Python & TicTacToe\n",
    "- [Einführung in C#:](../csharp/CSharp_Introduction.de.ipynb) Prozedurale Programmierung in C# als Übersicht\n",
    "  - [Weitere Grundlagen zu Variablen](../csharp/CSharp_Introduction/Variables.de.ipynb)\n",
    "  - [Weitere Grundlagen zu String](../csharp/CSharp_Introduction/Strings.de.ipynb)\n",
    "  - [Weitere Grundlagen zu bedingten Anweisungen](../csharp/CSharp_Introduction/Conditional_statements.de.ipynb)\n",
    "  - [Weitere Grundlagen zu Schleifen](../csharp/CSharp_Introduction/Loops.de.ipynb)\n",
    "  - [Weitere Grundlagen zu Operatoren](../csharp/CSharp_Introduction/Operators.de.ipynb)\n",
    "  - [Weitere Grundlagen zu Funktionen](../csharp/CSharp_Introduction/Functions.de.ipynb)\n",
    "  - [Weitere Grundlagen zu Arrays](../csharp/CSharp_Introduction/Arrays.de.ipynb)\n",
    "  - [Weitere Grundlagen zu komplexen Datenstrukturen](../csharp/CSharp_Introduction/Complex_Datastructures.de.ipynb)\n",
    "### Vertiefung\n",
    "#### Textausgabe\n",
    "- [WriteLine Basiswissen](../csharp/procedural-functional/Console_WriteLine_Basics.de.ipynb)\n",
    "- [Hallo Welt!](../csharp/procedural-functional/CSharp_HelloWorld_Explanation.de.ipynb)\n",
    "- [WriteLine Samples](../csharp/procedural-functional/Console_WriteLine_Samples.de.ipynb)\n",
    "- [WriteLine & TicTacToe](../csharp/procedural-functional/Console_WriteLine_TicTacToe.de.ipynb)\n",
    "#### Texteingabe\n",
    "- [ReadLine & TicTacToe](../csharp/procedural-functional/Console_ReadLine_Basics.de.ipynb)\n",
    "#### Operatoren\n",
    "- [Boolesche Operatoren](../csharp/procedural-functional/CSharp_Boolean_Operators_Basics.de.ipynb)\n",
    "- [Weitere Operatoren](../csharp/procedural-functional/CSharp_Other_Operators_Basics.de.ipynb)\n",
    "#### Datentypen\n",
    "- [Numerische Typen](../csharp/procedural-functional/CSharp_Numerical_Types.de.ipynb)\n",
    "- [Numerische Gleitkomma-Typen](../csharp/procedural-functional/CSharp_Numerical_Floating_Types.de.ipynb)\n",
    "- [String Typen](../csharp/procedural-functional/CSharp_String_Type.de.ipynb)\n",
    "- [Arrays](../csharp/procedural-functional/CSharp_Arrays.de.ipynb)\n",
    "#### Kontrollstrukturen\n",
    "- [Bedingte Anweisungen](../csharp/procedural-functional/CSharp_Conditional.de.ipynb)\n",
    "- [Schleifen](../csharp/procedural-functional/CSharp_Loops.de.ipynb)\n",
    "#### .NET framework\n",
    "- [System.Random](../csharp/framework/Random.de.ipynb)\n",
    "### [TicTacToe in einer einzelnen Prozedur](../csharp/procedural-functional/CSharp_Loops_TicTacToe.de.ipynb)\n",
    "### Funktionale Programmierung\n",
    "- [Funktionen & Prozeduren](../csharp/procedural-functional/CSharp_Methods_Functions.de.ipynb)\n",
    "### Debugging\n",
    "- [Debugging & Breakpoints](../csharp/tools/Debugger.de.ipynb)\n",
    "- [Referenz- & Werttypen](../csharp/procedural-functional/CSharp_Reference_Value.de.ipynb)\n",
    "### Objektorientierte Programmierung\n",
    "#### Grundlagen\n",
    "- [Einleitung](Objectoriented_Programming.de.ipynb)\n",
    "- [Objektorientierte Programmierung in C# Grundlagen](../csharp/oop/CSharp_Basics.de.ipynb)\n",
    "#### Vertiefung\n",
    "- [Objektorientierte Programmierung in C# Samples](../csharp/oop/CSharp_Samples.de.ipynb)"
   ]
  },
  {
   "cell_type": "markdown",
   "metadata": {},
   "source": [
    "### [Erzeugen von HTML-Seiten aus den notebooks](../Create_pdf.en.ipynb)"
   ]
  }
 ],
 "metadata": {
  "kernelspec": {
   "display_name": ".NET (C#)",
   "language": "C#",
   "name": ".net-csharp"
  },
  "language_info": {
   "name": "python",
   "version": "3.10.5"
  },
  "polyglot_notebook": {
   "kernelInfo": {
    "defaultKernelName": "csharp",
    "items": [
     {
      "aliases": [],
      "name": "csharp"
     }
    ]
   }
  }
 },
 "nbformat": 4,
 "nbformat_minor": 2
}
