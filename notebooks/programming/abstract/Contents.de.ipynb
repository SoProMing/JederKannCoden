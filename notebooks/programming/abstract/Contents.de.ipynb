{
 "cells": [
  {
   "cell_type": "markdown",
   "metadata": {},
   "source": [
    "# Jeder kann coden\n",
    "\n",
    "<table border=\"0\">\n",
    "  <tr>\n",
    "    <td>\n",
    "        <img src=\"Everybody_can_code.webp\">\n",
    "    </td>\n",
    "    <td rowspan=\"2\">\n",
    "        <a href=\"https://miro.com/app/board/uXjVPm0lbTo=/?moveToWidget=3458764607889708296&cot=14\"><img src=\"Radar.de.jpg\"></a>\n",
    "    </td>\n",
    "  </tr>\n",
    "  <tr>\n",
    "    <td>\n",
    "      <a href=\"https://www.codewars.com\">Link zu codewars</a><br>\n",
    "      <a href=\"https://www.hackerrank.com\">Link zu hackerrank</a><br>\n",
    "      <a href=\"https://www.w3schools.com/\">W3Schools: Programmier-Tutorials für Anfänger</a> <br>\n",
    "      <a href=\"https://www.freecodecamp.org/\">freeCodeCamp: Interaktives Lernen für Programmieren</a> <br>\n",
    "      <a href=\"https://cs50.harvard.edu/x/\">CS50 von Harvard: Einführung in Informatik</a> <br>\n",
    "      <a href=\"https://visualgo.net/\">Visualgo: Visualisierung von Algorithmen</a> <br>\n",
    "      <a href=\"https://teachyourselfcs.com/\">Teach Yourself Computer Science</a> <br>\n",
    "      <a href=\"https://guides.github.com/introduction/git-handbook/\">Git und GitHub Einführung</a> <br>\n",
    "      <a href=\"https://refactoring.guru/\">Refactoring Guru: Clean Code Konzepte</a> <br>\n",
    "      <a href=\"https://www.codewars.com/\">Codewars: Programmier-Challenges für alle Niveaus</a> <br>\n",
    "      <a href=\"https://www.hackerrank.com/\">HackerRank: Coding-Challenges und Wettbewerbe</a>\n",
    "    </td>\n",
    "  </tr>\n",
    "</table>"
   ]
  },
  {
   "cell_type": "markdown",
   "metadata": {},
   "source": [
    "## Inhaltsverzeichnis\n",
    "\n",
    "### Vorbereitung\n",
    "- [Eisbrecher](../csharp/CSharp_icebreaker.de.ipynb)\n",
    "- [Zahlensysteme und Zeichen](Number_Systems.de.ipynb)\n",
    "- [Werkzeuge zur Vorlesung](../csharp/tools/Toolchain.de.ipynb)\n",
    "### Grundlagen\n",
    "- [Programmieren & TicTacToe:](Programming_And_TicTacToe.de.ipynb) Prozedurale Programmierung am Beispiel von Python & TicTacToe\n",
    "- [Einführung in C#:](../csharp/CSharp_Introduction.de.ipynb) Prozedurale Programmierung in C# als Übersicht\n",
    "  - [Weitere Grundlagen zu Variablen](../csharp/CSharp_Introduction/Variables.de.ipynb)\n",
    "  - [Weitere Grundlagen zu String](../csharp/CSharp_Introduction/Strings.de.ipynb)\n",
    "  - [Weitere Grundlagen zu bedingten Anweisungen](../csharp/CSharp_Introduction/Conditional_statements.de.ipynb)\n",
    "  - [Weitere Grundlagen zu Schleifen](../csharp/CSharp_Introduction/Loops.de.ipynb)\n",
    "  - [Weitere Grundlagen zu Operatoren](../csharp/CSharp_Introduction/Operators.de.ipynb)\n",
    "  - [Weitere Grundlagen zu Funktionen](../csharp/CSharp_Introduction/Functions.de.ipynb)\n",
    "  - [Weitere Grundlagen zu Arrays](../csharp/CSharp_Introduction/Arrays.de.ipynb)\n",
    "  - [Weitere Grundlagen zu komplexen Datenstrukturen](../csharp/CSharp_Introduction/Complex_Datastructures.de.ipynb)\n",
    "### Vertiefung\n",
    "#### Textausgabe\n",
    "- [WriteLine Basiswissen](../csharp/procedural-functional/Console_WriteLine_Basics.de.ipynb)\n",
    "- [Hallo Welt!](../csharp/procedural-functional/CSharp_HelloWorld_Explanation.de.ipynb)\n",
    "- [WriteLine Samples](../csharp/procedural-functional/Console_WriteLine_Samples.de.ipynb)\n",
    "- [WriteLine & TicTacToe](../csharp/procedural-functional/Console_WriteLine_TicTacToe.de.ipynb)\n",
    "#### Texteingabe\n",
    "- [ReadLine & TicTacToe](../csharp/procedural-functional/Console_ReadLine_Basics.de.ipynb)\n",
    "#### Operatoren\n",
    "- [Boolesche Operatoren](../csharp/procedural-functional/CSharp_Boolean_Operators_Basics.de.ipynb)\n",
    "- [Weitere Operatoren](../csharp/procedural-functional/CSharp_Other_Operators_Basics.de.ipynb)\n",
    "#### Datentypen\n",
    "- [Numerische Typen](../csharp/procedural-functional/CSharp_Numerical_Types.de.ipynb)\n",
    "- [Numerische Gleitkomma-Typen](../csharp/procedural-functional/CSharp_Numerical_Floating_Types.de.ipynb)\n",
    "- [String Typen](../csharp/procedural-functional/CSharp_String_Type.de.ipynb)\n",
    "- [Arrays](../csharp/procedural-functional/CSharp_Arrays.de.ipynb)\n",
    "- [Structs](../csharp/procedural-functional/CSharp_Structs.de.ipynb)\n",
    "- [Enums](../csharp/procedural-functional/CSharp_Enums.de.ipynb)\n",
    "#### Kontrollstrukturen\n",
    "- [Bedingte Anweisungen](../csharp/procedural-functional/CSharp_Conditional.de.ipynb)\n",
    "- [Schleifen](../csharp/procedural-functional/CSharp_Loops.de.ipynb)\n",
    "- [Bedingte Anweisungen & TicTacToe](../csharp/procedural-functional/CSharp_Conditional_TicTacToe.de.ipynb)\n",
    "#### .NET framework\n",
    "- [System.Random](../csharp/framework/Random.de.ipynb)\n",
    "- [Reguläre Ausdrücke](../csharp/framework/Regular_Expressions.de.ipynb)\n",
    "- [Exceptions](../csharp/framework/Exceptions.ipynb)\n",
    "- [Dateioperationen](../csharp/framework/Files.de.ipynb)\n",
    "### [TicTacToe in einer einzelnen Prozedur](../csharp/procedural-functional/CSharp_Loops_TicTacToe.de.ipynb)\n",
    "### Funktionale Programmierung\n",
    "- [Funktionen & Prozeduren](../csharp/procedural-functional/CSharp_Methods_Functions.de.ipynb)\n",
    "### Debugging\n",
    "- [Debugging & Breakpoints](../csharp/tools/Debugger.de.ipynb)\n",
    "- [Referenz- & Werttypen](../csharp/procedural-functional/CSharp_Reference_Value.de.ipynb)\n",
    "### Objektorientierte Programmierung\n",
    "#### Grundlagen\n",
    "- [Einleitung](../Objectoriented_Programming.de.ipynb)\n",
    "- [Objektorientierte Programmierung in C# Grundlagen](../csharp/oop/CSharp_Basics.de.ipynb)\n",
    "#### Vertiefung\n",
    "- [Objektorientierte Programmierung in C# Samples](../csharp/oop/CSharp_Samples.de.ipynb)\n",
    "  - [Zugriffsmodifizierer](../csharp/oop/CSharp_Access_Modifiers.de.ipynb)\n",
    "  - [Konstruktoren](../csharp/oop/Constructors.de.ipynb)\n",
    "  - [Properties](../csharp/oop/Properties.de.ipynb)\n",
    "- [💡 Vergleich von Objekten](../csharp/oop/Compare_Objects.de.ipynb)\n",
    "\n",
    "#### Anwendung\n",
    "- [Beispiel: ein Spielstandmanagement in C#](../csharp/oop/Gameboard_store.de.ipynb)\n",
    "\n",
    "### GUI-Programmierung\n",
    "#### Grundlagen\n",
    "- [C# und WPF](../csharp/framework/wpf/Basics.de.ipynb)\n",
    "\n",
    "### Backend-Programmierung\n",
    "- [Web-APIs](../WebAPIs.de.ipynb)"
   ]
  },
  {
   "cell_type": "markdown",
   "metadata": {},
   "source": [
    "### Anhang\n",
    "\n",
    "[Erzeugen von HTML-Seiten aus den notebooks](../../Create_pdf.en.ipynb)\n",
    "\n",
    "[Erzeugen einer Webpage aus HTML-Seiten](../../Deploy_Contents.en.ipynb)\n",
    "\n",
    "[Kommandozeile](../cmdline/Shells.de.ipynb)\n",
    "\n",
    "[Windows auf dem Mac mit UTM](../../tools/UTM_n_VS.de.ipynb)"
   ]
  }
 ],
 "metadata": {
  "kernelspec": {
   "display_name": ".NET (C#)",
   "language": "C#",
   "name": ".net-csharp"
  },
  "language_info": {
   "name": "python",
   "version": "3.10.5"
  },
  "polyglot_notebook": {
   "kernelInfo": {
    "defaultKernelName": "csharp",
    "items": [
     {
      "aliases": [],
      "name": "csharp"
     }
    ]
   }
  }
 },
 "nbformat": 4,
 "nbformat_minor": 2
}
