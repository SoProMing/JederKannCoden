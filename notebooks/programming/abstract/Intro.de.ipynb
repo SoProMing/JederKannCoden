{
 "cells": [
  {
   "cell_type": "markdown",
   "metadata": {},
   "source": [
    "# Jeder kann coden\n",
    "\n",
    "<img src=\"Everybody_can_code.webp\">"
   ]
  },
  {
   "cell_type": "markdown",
   "metadata": {},
   "source": [
    "## Einleitung\n",
    "\n",
    "Willkommen bei \"Everybody Can Code\"! Dieses Dokument nimmt dich mit auf eine Reise durch die Welt des Programmierens und zeigt dir, dass wirklich jeder die Fähigkeit entwickeln kann, Software zu verstehen und zu erschaffen. Egal, ob du Anfänger oder bereits erfahrener Entwickler bist – die Inhalte bieten dir wertvolle Einblicke, praktische Beispiele und Inspiration, um deine Fähigkeiten zu erweitern und deine Kreativität zu fördern.\n",
    "\n",
    "Die Welt der Technologie entwickelt sich rasant, und Programmieren ist zu einer Schlüsselkompetenz geworden, die in allen Branchen gebraucht wird. Dieses Dokument will Barrieren abbauen und dir einen klaren, zugänglichen Weg zum Programmierenlernen zeigen. Lass uns gemeinsam den ersten Schritt machen – oder einen weiteren auf deinem Weg zur Exzellenz."
   ]
  },
  {
   "cell_type": "markdown",
   "metadata": {},
   "source": [
    "## Und wie geht das?\n",
    "\n",
    "Dieses Dokument ist dein interaktiver Leitfaden, um das Programmieren zu lernen. Es kombiniert Theorie und Praxis und bietet dir eine strukturierte Herangehensweise. Damit du das Beste aus den Inhalten herausholst, empfehle ich dir folgende Schritte:\n",
    "\n",
    "1. **Lesen und Verstehen**: Lies die erklärenden Texte aufmerksam, um die Konzepte und Prinzipien zu verstehen. Jedes Kapitel baut auf dem vorherigen auf, daher macht es Sinn, der Reihenfolge zu folgen.\n",
    "\n",
    "2. **Praktische Übungen**: Viele Abschnitte enthalten Codebeispiele. Kopiere den Code in deine Entwicklungsumgebung und probiere ihn aus. Verändere den Code und beobachte, wie sich deine Änderungen auf das Programm auswirken.\n",
    "\n",
    "3. **Eigene Projekte erstellen**: Wende die erlernten Konzepte an, indem du deine eigenen kleinen Projekte startest. Das hilft dir, das Gelernte zu festigen und deine Kreativität zu fördern.\n",
    "\n",
    "4. **Vertiefung durch Fragen**: Überlege dir bei jedem Abschnitt, wie du die Konzepte in echten Anwendungen einsetzen kannst. Das vertieft dein Verständnis und hilft dir, die Brücke zwischen Theorie und Praxis zu schlagen.\n",
    "\n",
    "5. **Zusätzliche Ressourcen verwenden**: Wenn dich ein Thema besonders interessiert, nutze die Links und Hinweise auf weiterführende Materialien, um dein Wissen zu erweitern.\n",
    "\n",
    "Dieses Dokument ist mehr als nur ein Text – es ist dein Werkzeug, um Programmierkenntnisse praktisch und verständlich zu erweitern. Egal, ob du Selbstlerner bist, anderen Programmieren beibringen willst oder Workshops leitest, hier findest du die Unterstützung, die du brauchst.\n",
    "\n",
    "## Was erwartet dich?\n",
    "\n",
    "**Schritt-für-Schritt-Anleitungen**: Erlerne Programmierkonzepte in deinem eigenen Tempo.\n",
    "\n",
    "**Codebeispiele**: Jede Lektion enthält Codebeispiele, die du sofort ausprobieren kannst.\n",
    "\n",
    "**Interaktivität**: Dank Jupyter Notebooks kannst du den Code direkt bearbeiten und ausführen.\n",
    "\n",
    "**Anleitung zur Einrichtung**: Unter https://github.com/SoProMing/JederKannCoden findest du eine detaillierte Anleitung, wie du die Notebooks herunterladen und Visual Studio Code einrichten kannst, um direkt loszulegen."
   ]
  },
  {
   "cell_type": "markdown",
   "metadata": {},
   "source": [
    "**Hier geht es los**:\n",
    "\n",
    "## [Inhaltsverzeichnis](Contents.de.ipynb) →\n",
    "\n",
    "## Metainformationen"
   ]
  },
  {
   "cell_type": "code",
   "execution_count": 3,
   "metadata": {},
   "outputs": [
    {
     "data": {
      "text/markdown": [
       "\n",
       "    # Dokumentversion und Repository-Status\n",
       "    - **Version**: 1.0.678\n",
       "    - **Aktuelles Datum**: 2024-12-08  \n",
       "    - **Git-Branch**: WS24_25  \n",
       "    - **Git-Commit**: 1648114  \n",
       "    "
      ],
      "text/plain": [
       "<IPython.core.display.Markdown object>"
      ]
     },
     "metadata": {},
     "output_type": "display_data"
    }
   ],
   "source": [
    "from IPython.display import Markdown, display\n",
    "import subprocess\n",
    "from datetime import datetime\n",
    "\n",
    "def get_git_info():\n",
    "    try:\n",
    "        # Aktuellen Commit-Hash\n",
    "        commit_hash = subprocess.check_output([\"git\", \"rev-parse\", \"HEAD\"]).strip().decode('utf-8')\n",
    "        # Aktueller Branch\n",
    "        branch_name = subprocess.check_output([\"git\", \"rev-parse\", \"--abbrev-ref\", \"HEAD\"]).strip().decode('utf-8')\n",
    "        return commit_hash[:7], branch_name\n",
    "    except Exception as e:\n",
    "        return \"Unknown\", \"Unknown\"\n",
    "    \n",
    "def get_days_since():\n",
    "    # Festgelegtes Datum (Projektstart)\n",
    "    start_date = datetime(2023, 1, 30)\n",
    "    # Aktuelles Datum\n",
    "    current_date = datetime.now()\n",
    "    # Differenz in Tagen berechnen\n",
    "    return (current_date - start_date).days\n",
    "\n",
    "def display_document_info():\n",
    "    commit, branch = get_git_info()\n",
    "    current_date = datetime.now().strftime(\"%Y-%m-%d\")\n",
    "    version = \"1.0\"  # Feste Version oder aus einer Konfigurationsdatei laden\n",
    "    \n",
    "    display(Markdown(f\"\"\"\n",
    "    # Dokumentversion und Repository-Status\n",
    "    - **Version**: {version}.{get_days_since()}\n",
    "    - **Aktuelles Datum**: {current_date}  \n",
    "    - **Git-Branch**: {branch}  \n",
    "    - **Git-Commit**: {commit}  \n",
    "    \"\"\"))\n",
    "\n",
    "# Informationen anzeigen\n",
    "display_document_info()"
   ]
  }
 ],
 "metadata": {
  "kernelspec": {
   "display_name": "Python 3",
   "language": "python",
   "name": "python3"
  },
  "language_info": {
   "codemirror_mode": {
    "name": "ipython",
    "version": 3
   },
   "file_extension": ".py",
   "mimetype": "text/x-python",
   "name": "python",
   "nbconvert_exporter": "python",
   "pygments_lexer": "ipython3",
   "version": "3.9.13"
  },
  "polyglot_notebook": {
   "kernelInfo": {
    "defaultKernelName": "csharp",
    "items": [
     {
      "aliases": [],
      "name": "csharp"
     }
    ]
   }
  }
 },
 "nbformat": 4,
 "nbformat_minor": 2
}
