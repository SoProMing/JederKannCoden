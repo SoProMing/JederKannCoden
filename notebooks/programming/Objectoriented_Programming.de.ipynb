{
 "cells": [
  {
   "cell_type": "markdown",
   "metadata": {},
   "source": [
    "[Jeder kann coden](../../abstract/Contents.de.ipynb) / [Zahlensysteme](Number_Systems.de.ipynb) / [Prozedurale Programmierung](Programming_And_TicTacToe.de.ipynb)\n",
    "\n",
    "# Objektorientierte Programmierung\n",
    "\n",
    "<img src=\"OOP_Basics.webp\" style=\"width:280px; height:280px;\">\n",
    "\n",
    "Wir können die Prinzipien der objektorientierten Programmierung anhand eines **Ökosystems** veranschaulichen. In einem Ökosystem gibt es viele verschiedene Elemente wie Pflanzen, Tiere und Gewässer. Diese Elemente interagieren miteinander, und jedes hat bestimmte Eigenschaften und Verhaltensweisen. Lass uns die OOP-Konzepte hier anwenden:\n",
    "\n",
    "### 1. Klassen und Objekte\n",
    "\n",
    "**Analogie**: Stell dir vor, wir möchten verschiedene **Lebewesen** in einem Ökosystem darstellen. Die Klasse **Lebewesen** ist wie eine Vorlage für alle Lebewesen und beschreibt allgemeine Eigenschaften und Verhaltensweisen. Daraus können wir dann Objekte wie **Bäume** oder **Tiere** erstellen.\n",
    "\n",
    "**Diagramm**:\n",
    "```mermaid\n",
    "classDiagram\n",
    "    class Lebewesen {\n",
    "        +name : String\n",
    "        +alter : int\n",
    "        +wachsen() : void\n",
    "    }\n",
    "\n",
    "    class Pflanze {\n",
    "        +leben() : void\n",
    "    }\n",
    "    \n",
    "    class Tier {\n",
    "        +leben() : void\n",
    "    }\n",
    "\n",
    "    Lebewesen <|-- Pflanze\n",
    "    Lebewesen <|-- Tier\n",
    "\n",
    "    class Eiche {\n",
    "        +Photosynthese() : void\n",
    "    }\n",
    "\n",
    "    class Reh {\n",
    "        +atmen() : void\n",
    "    }\n",
    "\n",
    "    Pflanze <|-- Eiche\n",
    "    Tier <|-- Reh\n",
    "```\n",
    "\n",
    "**Codebeispiel**:"
   ]
  },
  {
   "cell_type": "code",
   "execution_count": 1,
   "metadata": {},
   "outputs": [],
   "source": [
    "class Lebewesen:\n",
    "    def __init__(self, name, alter):\n",
    "        self.name = name\n",
    "        self.alter = alter\n",
    "    \n",
    "    def wachsen(self):\n",
    "        print(f\"{self.name} wächst.\")"
   ]
  },
  {
   "cell_type": "markdown",
   "metadata": {},
   "source": [
    "**Bäume** und **Tiere** sind beides Lebewesen, also können wir Instanzen der Klasse `Lebewesen` erstellen:"
   ]
  },
  {
   "cell_type": "code",
   "execution_count": 2,
   "metadata": {},
   "outputs": [
    {
     "name": "stdout",
     "output_type": "stream",
     "text": [
      "Eiche wächst.\n",
      "Reh wächst.\n"
     ]
    }
   ],
   "source": [
    "baum = Lebewesen(\"Eiche\", 50)\n",
    "tier = Lebewesen(\"Reh\", 5)\n",
    "baum.wachsen()\n",
    "tier.wachsen()\n",
    "# Ausgabe:\n",
    "# Eiche wächst.\n",
    "# Reh wächst."
   ]
  },
  {
   "cell_type": "markdown",
   "metadata": {},
   "source": [
    "### 2. Kapselung\n",
    "\n",
    "**Analogie**: Angenommen, ein Baum hat seine eigenen Prozesse wie **Photosynthese**. Das ist ein interner Prozess, der nicht direkt sichtbar ist. Andere Lebewesen müssen nicht wissen, wie Photosynthese genau funktioniert – sie sehen nur das Ergebnis, dass der Baum wächst. \n",
    "\n",
    "**Diagramm:**\n",
    "```mermaid\n",
    "classDiagram\n",
    "    class Baum {\n",
    "        +String name\n",
    "        +int alter\n",
    "        -bool __photosynthese_aktiv\n",
    "        +wachsen()\n",
    "        -__photosynthese_starten()\n",
    "    }\n",
    "```\n",
    "\n",
    "**Codebeispiel**:"
   ]
  },
  {
   "cell_type": "code",
   "execution_count": null,
   "metadata": {},
   "outputs": [],
   "source": [
    "class Baum:\n",
    "    def __init__(self, name, alter):\n",
    "        self.name = name\n",
    "        self.alter = alter\n",
    "        self.__photosynthese_aktiv = False  # Diese Information ist privat\n",
    "\n",
    "    def wachsen(self):\n",
    "        self.__photosynthese_starten()\n",
    "        print(f\"{self.name} wächst.\")\n",
    "\n",
    "    def __photosynthese_starten(self):\n",
    "        self.__photosynthese_aktiv = True\n",
    "        print(\"Photosynthese gestartet.\")"
   ]
  },
  {
   "cell_type": "markdown",
   "metadata": {},
   "source": [
    "Hier ist `__photosynthese_aktiv` ein privates Attribut, und `__photosynthese_starten` ist eine Methode, die nur intern verwendet wird. Der Baum führt die Photosynthese nur für sich selbst aus, ohne dass andere Lebewesen eingreifen können."
   ]
  },
  {
   "cell_type": "code",
   "execution_count": null,
   "metadata": {},
   "outputs": [],
   "source": [
    "eiche = Baum(\"Eiche\", 50)\n",
    "eiche.wachsen()\n",
    "# Ausgabe:\n",
    "# Photosynthese gestartet.\n",
    "# Eiche wächst."
   ]
  },
  {
   "cell_type": "markdown",
   "metadata": {},
   "source": [
    "### 3. Vererbung\n",
    "\n",
    "**Analogie**: Innerhalb eines Ökosystems gibt es verschiedene Arten von Lebewesen. Zum Beispiel könnten wir eine allgemeine Klasse **Tier** haben, und davon abgeleitet spezielle Klassen wie **Vogel** oder **Säugetier**. Diese Spezies haben gemeinsame Eigenschaften (wie \"Atmung\"), aber auch individuelle Unterschiede.\n",
    "\n",
    "**Diagramm:**\n",
    "```mermaid\n",
    "classDiagram\n",
    "    class Lebewesen {\n",
    "        -name: String\n",
    "        -alter: int\n",
    "        +wachsen(): void\n",
    "    }\n",
    "\n",
    "    class Tier {\n",
    "        +atmen(): void\n",
    "    }\n",
    "    \n",
    "    class Vogel {\n",
    "        +fliegen(): void\n",
    "    }\n",
    "\n",
    "    class Säugetier {\n",
    "        +laufen(): void\n",
    "    }\n",
    "\n",
    "    Lebewesen <|-- Tier\n",
    "    Tier <|-- Vogel\n",
    "    Tier <|-- Säugetier\n",
    "```\n",
    "\n",
    "**Codebeispiel**:"
   ]
  },
  {
   "cell_type": "code",
   "execution_count": null,
   "metadata": {},
   "outputs": [],
   "source": [
    "class Tier(Lebewesen):\n",
    "    def __init__(self, name, alter, art):\n",
    "        super().__init__(name, alter)\n",
    "        self.art = art\n",
    "\n",
    "    def atmen(self):\n",
    "        print(f\"{self.name} atmet.\")\n",
    "\n",
    "class Vogel(Tier):\n",
    "    def __init__(self, name, alter):\n",
    "        super().__init__(name, alter, \"Vogel\")\n",
    "    \n",
    "    def fliegen(self):\n",
    "        print(f\"{self.name} fliegt.\")"
   ]
  },
  {
   "cell_type": "markdown",
   "metadata": {},
   "source": [
    "`Vogel` erbt die `atmen`-Methode von `Tier`, aber es hat auch eine eigene Methode, `fliegen`."
   ]
  },
  {
   "cell_type": "code",
   "execution_count": null,
   "metadata": {},
   "outputs": [],
   "source": [
    "spatz = Vogel(\"Spatz\", 2)\n",
    "spatz.atmen()    # Ausgabe: Spatz atmet.\n",
    "spatz.fliegen()  # Ausgabe: Spatz fliegt."
   ]
  },
  {
   "cell_type": "markdown",
   "metadata": {},
   "source": [
    "### 4. Polymorphismus\n",
    "\n",
    "**Analogie**: In einem Ökosystem sind Pflanzen, Tiere und Pilze unterschiedliche Lebewesen. Alle \"leben\" auf ihre Weise, aber Pflanzen betreiben Photosynthese, Tiere atmen, und Pilze zersetzen organisches Material. Polymorphismus bedeutet, dass sie alle eine Methode `leben` haben können, die jeweils unterschiedlich funktioniert.\n",
    "\n",
    "**Diagramm**:\n",
    "```mermaid\n",
    "classDiagram\n",
    "    class Lebewesen {\n",
    "        +name: str\n",
    "        +alter: int\n",
    "        +leben()\n",
    "    }\n",
    "\n",
    "    class Pflanze {\n",
    "        +leben()\n",
    "        \"Photosyntehese\"\n",
    "    }\n",
    "\n",
    "    class Tier {\n",
    "        +leben()\n",
    "        \"Atmung\"\n",
    "    }\n",
    "\n",
    "    class Pilz {\n",
    "        +leben()\n",
    "        \"Zersetzung\"\n",
    "    }\n",
    "\n",
    "    Lebewesen <|-- Pflanze\n",
    "    Lebewesen <|-- Tier\n",
    "    Lebewesen <|-- Pilz\n",
    "```\n",
    "\n",
    "**Codebeispiel**:"
   ]
  },
  {
   "cell_type": "code",
   "execution_count": null,
   "metadata": {},
   "outputs": [],
   "source": [
    "class Pflanze(Lebewesen):\n",
    "    def leben(self):\n",
    "        print(f\"{self.name} wächst durch Photosynthese.\")\n",
    "\n",
    "class Tier(Lebewesen):\n",
    "    def leben(self):\n",
    "        print(f\"{self.name} atmet.\")\n",
    "\n",
    "class Pilz(Lebewesen):\n",
    "    def leben(self):\n",
    "        print(f\"{self.name} zersetzt organisches Material.\")"
   ]
  },
  {
   "cell_type": "markdown",
   "metadata": {},
   "source": [
    "Jetzt können wir jedes Lebewesen-Objekt durch `leben` beschreiben, ohne genau zu wissen, wie es funktioniert. So funktioniert Polymorphismus – wir rufen die Methode `leben` auf, und jedes Objekt führt es auf seine Weise aus."
   ]
  },
  {
   "cell_type": "code",
   "execution_count": null,
   "metadata": {},
   "outputs": [],
   "source": [
    "pflanze = Pflanze(\"Eiche\", 50)\n",
    "tier = Tier(\"Reh\", 5)\n",
    "pilz = Pilz(\"Champignon\", 1)\n",
    "\n",
    "lebewesen = [pflanze, tier, pilz]\n",
    "for leb in lebewesen:\n",
    "    leb.leben()\n",
    "\n",
    "# Ausgabe:\n",
    "# Eiche wächst durch Photosynthese.\n",
    "# Reh atmet.\n",
    "# Champignon zersetzt organisches Material."
   ]
  },
  {
   "cell_type": "markdown",
   "metadata": {},
   "source": [
    "### Zusammenfassung mit dem Ökosystem-Beispiel:\n",
    "\n",
    "1. **Klassen und Objekte**: Eine Klasse ist wie ein Entwurf für Lebewesen, und Objekte sind konkrete Pflanzen, Tiere, usw.\n",
    "2. **Kapselung**: Interne Prozesse wie Photosynthese sind privat und nur für das jeweilige Lebewesen sichtbar.\n",
    "3. **Vererbung**: Lebewesen wie Tiere und Pflanzen haben gemeinsame Eigenschaften, aber auch eigene Besonderheiten.\n",
    "4. **Polymorphismus**: Verschiedene Lebewesen \"leben\" auf ihre Weise, und der gleiche Aufruf (`leben`) kann unterschiedliche Ergebnisse haben.\n",
    "\n",
    "Dieses Modell hilft, verschiedene Lebewesen in einem Ökosystem strukturiert und flexibel darzustellen und ihr Verhalten klar zu definieren, was für die Modellierung und Simulation in der Umweltinformatik nützlich ist."
   ]
  }
 ],
 "metadata": {
  "kernelspec": {
   "display_name": "Python 3",
   "language": "python",
   "name": "python3"
  },
  "language_info": {
   "codemirror_mode": {
    "name": "ipython",
    "version": 3
   },
   "file_extension": ".py",
   "mimetype": "text/x-python",
   "name": "python",
   "nbconvert_exporter": "python",
   "pygments_lexer": "ipython3",
   "version": "3.9.13"
  }
 },
 "nbformat": 4,
 "nbformat_minor": 2
}
