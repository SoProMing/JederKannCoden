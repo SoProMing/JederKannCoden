{
 "cells": [
  {
   "cell_type": "markdown",
   "id": "831bfee7",
   "metadata": {},
   "source": [
    "[Jeder kann coden](abstract/Contents.de.ipynb) / [Programmieren & TicTacToe](Programming_And_TicTacToe.de.ipynb) / [Objektorientierte Programmierung](Objectoriented_Programming.de.ipynb)\n",
    "\n",
    "# Was sind Web APIs?\n",
    "\n",
    "<table border=\"0\">\n",
    "  <tr>\n",
    "    <td>\n",
    "        <img src=\"WebAPIs.png\">\n",
    "    </td>\n",
    "    <td rowspan=\"2\">\n",
    "        <a href=\"https://miro.com/app/board/o9J_lOJi2o0=/?moveToWidget=3458764554347680798&cot=14\"><img src=\"Radar_WebAPIs.jpg\"></a>\n",
    "    </td>\n",
    "  </tr>\n",
    "  <tr>\n",
    "    <td>\n",
    "        <a href=\"https://jsonplaceholder.typicode.com/\" target=\"_blank\">JSONPlaceholder – Fake REST API zum Testen</a><br>\n",
    "        <a href=\"https://developer.mozilla.org/de/docs/Web/HTTP\" target=\"_blank\">MDN Web Docs: HTTP-Grundlagen</a><br>\n",
    "        <a href=\"https://restfulapi.net/\" target=\"_blank\">restfulapi.net – Einführung in REST</a><br>\n",
    "        <a href=\"https://www.soapui.org/learn/api/soap-vs-rest/\" target=\"_blank\">SoapUI – Vergleich von SOAP und REST</a><br>\n",
    "        <a href=\"https://learn.microsoft.com/de-de/dotnet/csharp/tutorials/console-webapiclient\" target=\"_blank\">Microsoft C#-Tutorial: Web-API mit HttpClient</a><br>\n",
    "        <a href=\"https://www.json.org/json-de.html\" target=\"_blank\">Was ist JSON? (offizielle Spezifikation)</a><br>\n",
    "        <a href=\"https://json2csharp.com/\" target=\"_blank\">JSON zu C# Klassen konvertieren (json2csharp.com)</a><br>\n",
    "        <a href=\"https://learn.microsoft.com/de-de/dotnet/api/system.net.http.httpclient\" target=\"_blank\">Microsoft-Dokumentation zu HttpClient</a><br>\n",
    "        <a href=\"https://www.postman.com/\" target=\"_blank\">Postman – Tool zum Testen von REST APIs</a><br>\n",
    "        <a href=\"https://swagger.io/specification/\" target=\"_blank\">OpenAPI (Swagger) Spezifikation für REST APIs</a><br>\n",
    "    </td>\n",
    "  </tr>\n",
    "</table>\n",
    "\n"
   ]
  },
  {
   "cell_type": "markdown",
   "id": "bde209c7",
   "metadata": {},
   "source": [
    "## Einleitung\n",
    "\n",
    "Web APIs (Application Programming Interfaces) ermöglichen es Softwareanwendungen, über das Internet miteinander zu kommunizieren. Sie definieren **Schnittstellen**, über die Programme **Daten austauschen oder Funktionen auf entfernten Systemen aufrufen** können – oft unabhängig von Programmiersprache oder Plattform.\n",
    "\n",
    "Stell dir eine Web API wie ein **digitales Service-Terminal** vor: Du sendest eine Anfrage (z. B. „Gib mir alle Nutzer“) und bekommst eine strukturierte Antwort zurück (z. B. als JSON oder XML). Dabei läuft die Kommunikation meist über das **HTTP-Protokoll**, so wie bei Webseiten – nur für Maschinen statt für Menschen.\n",
    "\n",
    "Zwei der bekanntesten Arten, wie Web APIs gestaltet sein können, sind:\n",
    "- **REST** (leichtgewichtig, URL-basiert, oft mit JSON)\n",
    "- **SOAP** (standardisiert, XML-basiert, für komplexe Anforderungen)\n",
    "\n",
    "Beide verfolgen unterschiedliche Ansätze und haben jeweils ihre typischen Einsatzbereiche – und genau darum geht’s im Folgenden."
   ]
  },
  {
   "cell_type": "markdown",
   "id": "079f1591",
   "metadata": {},
   "source": [
    "## REST (Representational State Transfer)\n",
    "\n",
    "### Was ist REST?\n",
    "REST ist ein Architekturstil für Webservices, der auf den Standards und Protokollen des Internets basiert, insbesondere auf **HTTP**. Er wurde 2000 von Roy Fielding in seiner Dissertation beschrieben.\n",
    "\n",
    "### Grundprinzipien von REST\n",
    "REST ist kein Protokoll, sondern ein Architekturstil mit folgenden Prinzipien:\n",
    "\n",
    "1. **Client-Server-Modell**: Trennung von Benutzeroberfläche (Client) und Datenverarbeitung (Server).\n",
    "2. **Zustandslosigkeit (Statelessness)**: Jeder Request vom Client muss alle Informationen enthalten, die der Server braucht. Der Server speichert keinen Zustand des Clients zwischen zwei Aufrufen.\n",
    "3. **Cachebarkeit**: Antworten können als cachebar oder nicht cachebar markiert werden.\n",
    "4. **Einheitliche Schnittstelle (Uniform Interface)**:\n",
    "   - Ressourcen werden durch URIs identifiziert.\n",
    "   - Die Manipulation von Ressourcen erfolgt über standardisierte HTTP-Methoden (GET, POST, PUT, DELETE, PATCH).\n",
    "5. **Repräsentationen**: Ressourcen werden über Repräsentationen (z. B. JSON, XML) übertragen.\n",
    "6. **Schichtenarchitektur**: System kann aus mehreren Schichten bestehen (z. B. Load Balancer, Caches, Gateways).\n",
    "\n",
    "<a href=\"https://miro.com/app/board/o9J_lOJi2o0=/?moveToWidget=3074457357698719659&cot=14\"><img src=\"REST.jpg\"></a>\n",
    "\n",
    "### Beispiel für REST-API\n",
    "```\n",
    "GET /api/users → Liste aller Nutzer\n",
    "GET /api/users/42 → Details von Nutzer mit ID 42\n",
    "POST /api/users → Neuen Nutzer anlegen\n",
    "PUT /api/users/42 → Nutzer 42 aktualisieren\n",
    "DELETE /api/users/42 → Nutzer 42 löschen\n",
    "```\n",
    "\n",
    "### Vorteile von REST\n",
    "- Leichtgewichtig (insbesondere mit JSON)\n",
    "- Einfach verständlich\n",
    "- Gut test- und debugbar\n",
    "- Skalierbar\n",
    "- Breite Unterstützung in Webtechnologien\n",
    "\n",
    "### Nachteile von REST\n",
    "- Keine standardisierte Beschreibung wie bei SOAP (es gibt jedoch OpenAPI/Swagger)\n",
    "- Sicherheits- und Transaktionsanforderungen müssen manuell definiert werden\n",
    "- Weniger geeignet für komplexe Operationen und Standardisierung"
   ]
  },
  {
   "cell_type": "markdown",
   "id": "74ff1bdb",
   "metadata": {},
   "source": [
    "## Was ist JSON?\n",
    "\n",
    "**JSON** steht für **JavaScript Object Notation** und ist ein **leichtgewichtiges Datenformat**, das Menschen gut lesen und Maschinen leicht verarbeiten können. Es wird oft für den **Datenaustausch zwischen Server und Client** verwendet – zum Beispiel bei Web APIs.\n",
    "\n",
    "### Aufbau\n",
    "JSON stellt Daten in **Schlüssel-Wert-Paaren** dar und ähnelt dabei den Objekten in JavaScript. Es unterstützt:\n",
    "- Zeichenketten (`string`)\n",
    "- Zahlen\n",
    "- Wahrheitswerte (`true`/`false`)\n",
    "- Arrays (Listen)\n",
    "- Objekte (geschachtelte Strukturen)\n",
    "- `null`-Werte\n",
    "\n",
    "\n",
    "<a href=\"https://miro.com/app/board/o9J_lOJi2o0=/?moveToWidget=3074457357701041103&cot=14\"><img src=\"JSON.jpg\"></a>\n",
    "\n",
    "### Beispiel:\n",
    "```json\n",
    "{\n",
    "  \"id\": 1,\n",
    "  \"title\": \"Hello World\",\n",
    "  \"completed\": false,\n",
    "  \"tags\": [\"json\", \"api\", \"example\"]\n",
    "}\n",
    "```\n",
    "\n",
    "### Typische Einsatzgebiete\n",
    "- Web APIs (z. B. REST)\n",
    "- Konfigurationsdateien\n",
    "- Datenübertragung in Webanwendungen und mobilen Apps\n",
    "\n",
    "JSON ist heute eines der am weitesten verbreiteten Formate für Daten im Web – weil es **einfach**, **klar strukturiert** und **in nahezu jeder Programmiersprache nutzbar** ist."
   ]
  },
  {
   "cell_type": "markdown",
   "id": "4725ecb3",
   "metadata": {},
   "source": [
    "## SOAP (Simple Object Access Protocol)\n",
    "\n",
    "### Was ist SOAP?\n",
    "SOAP ist ein standardisiertes Protokoll für den Nachrichtenaustausch, das auf **XML** basiert und für komplexere Enterprise-Anwendungen entwickelt wurde. Es war lange der De-facto-Standard für Webservices, vor allem in Unternehmensumgebungen.\n",
    "\n",
    "### Eigenschaften von SOAP\n",
    "1. **XML-basiert**: Alle Nachrichten werden als XML-Dokumente übertragen.\n",
    "2. **Streng standardisiert**: SOAP ist eng definiert durch WSDL (Web Services Description Language) und verwendet standardisierte Protokolle für Sicherheit, Transaktionen und Routing.\n",
    "3. **Transportprotokoll-unabhängig**: Kann über HTTP, SMTP, JMS, etc. kommunizieren (häufig jedoch HTTP).\n",
    "4. **Envelope-Struktur**: Jede Nachricht besteht aus einem Envelope, Header und Body.\n",
    "\n",
    "### Beispiel SOAP-Request (verkürzt)\n",
    "```xml\n",
    "<soapenv:Envelope xmlns:soapenv=\"http://schemas.xmlsoap.org/soap/envelope/\"\n",
    "                  xmlns:ex=\"http://example.com/\">\n",
    "   <soapenv:Header/>\n",
    "   <soapenv:Body>\n",
    "      <ex:GetUser>\n",
    "         <ex:UserId>42</ex:UserId>\n",
    "      </ex:GetUser>\n",
    "   </soapenv:Body>\n",
    "</soapenv:Envelope>\n",
    "```\n",
    "\n",
    "### Vorteile von SOAP\n",
    "- Sehr **formell** und **standardisiert**\n",
    "- Unterstützt komplexe Sicherheit (WS-Security), Transaktionen, Routing, etc.\n",
    "- Gute Integration mit Unternehmenssystemen (z. B. .NET, Java EE)\n",
    "- Beschreibung durch **WSDL** für automatische Generierung von Clients/Servern\n",
    "\n",
    "### Nachteile von SOAP\n",
    "- Komplexität und Overhead durch XML\n",
    "- Weniger geeignet für einfache Web-APIs\n",
    "- Schwerer zu debuggen (wegen verschachtelter XML-Strukturen)\n",
    "- Geringere Performance (langsamer als REST)"
   ]
  },
  {
   "cell_type": "markdown",
   "id": "ce9abb29",
   "metadata": {},
   "source": [
    "## REST vs. SOAP – Vergleichstabelle\n",
    "\n",
    "| Merkmal              | REST                             | SOAP                                 |\n",
    "|----------------------|----------------------------------|--------------------------------------|\n",
    "| Stil                 | Architekturstil                  | Protokoll                            |\n",
    "| Datenformat          | Beliebig (meist JSON oder XML)   | XML                                  |\n",
    "| Standardisierung     | Locker (z. B. mit OpenAPI)        | Stark (WSDL, WS-*)                   |\n",
    "| Sicherheit           | HTTPS, OAuth, JWT                | WS-Security                          |\n",
    "| Transaktionen        | Nicht nativ                      | Ja, z. B. ACID möglich               |\n",
    "| Performance          | Leichtgewichtig, schneller       | Schwergewichtiger, langsamer         |\n",
    "| Komplexe Workflows   | Nicht direkt unterstützt         | Besser geeignet                      |\n",
    "| Verbreitung          | Modernes Web, Mobile, Microservices | Enterprise-Anwendungen, B2B       |\n",
    "\n",
    "## Wann solltest du REST oder SOAP verwenden?\n",
    "\n",
    "| Situation                                      | Empfehlung        |\n",
    "|------------------------------------------------|-------------------|\n",
    "| Mobile App oder Web App                       | REST              |\n",
    "| Einfache CRUD-APIs                            | REST              |\n",
    "| Integration mit alten Unternehmenssystemen    | SOAP              |\n",
    "| Sicherheit auf Nachrichtenniveau notwendig    | SOAP              |\n",
    "| Du brauchst Transaktionen oder Messaging      | SOAP              |\n",
    "| Du willst eine leichtgewichtige API           | REST              |\n",
    "| Du willst eine stark beschriebene API (WSDL)  | SOAP              |"
   ]
  },
  {
   "cell_type": "markdown",
   "id": "6ea335f9",
   "metadata": {},
   "source": [
    "## Begriffe und Abkürzungen\n",
    "\n",
    "### HTTP-bezogene Begriffe\n",
    "\n",
    "| Abkürzung | Bedeutung                            | Erklärung |\n",
    "|----------|----------------------------------------|-----------|\n",
    "| **HTTP** | HyperText Transfer Protocol           | Protokoll für die Kommunikation im Web, z. B. für Webseiten oder APIs. |\n",
    "| **URI**  | Uniform Resource Identifier           | Eine eindeutige Adresse für eine Ressource (z. B. `https://example.com/api/users/42`). |\n",
    "| **URL**  | Uniform Resource Locator              | Spezielle Form eines URI, die auch das Protokoll und den Pfad enthält. |\n",
    "| **GET**  | -                                     | HTTP-Methode, um Daten abzurufen. |\n",
    "| **POST** | -                                     | HTTP-Methode, um neue Daten zu senden/erstellen. |\n",
    "| **PUT**  | -                                     | HTTP-Methode, um Daten vollständig zu aktualisieren. |\n",
    "| **DELETE**| -                                    | HTTP-Methode, um Daten zu löschen. |\n",
    "| **PATCH**| -                                     | HTTP-Methode, um Daten teilweise zu aktualisieren. |\n",
    "\n",
    "### REST/SOAP/Architektur\n",
    "\n",
    "| Abkürzung | Bedeutung                              | Erklärung |\n",
    "|----------|------------------------------------------|-----------|\n",
    "| **REST** | Representational State Transfer         | Architekturstil für APIs auf Basis von HTTP. |\n",
    "| **SOAP** | Simple Object Access Protocol           | XML-basiertes Protokoll für Webservices. |\n",
    "| **API**  | Application Programming Interface       | Schnittstelle, über die Software miteinander kommuniziert. |\n",
    "| **WSDL** | Web Services Description Language       | XML-basierte Beschreibung von SOAP-Webservices. |\n",
    "| **JSON** | JavaScript Object Notation              | Leichtgewichtiges, lesbares Format zur Darstellung von Daten. |\n",
    "| **XML**  | eXtensible Markup Language              | Format zur Darstellung hierarchischer Daten, maschinenlesbar. |\n",
    "| **CRUD** | Create, Read, Update, Delete            | Grundoperationen bei Datenzugriffen über APIs. |\n",
    "| **ACID** | Atomicity, Consistency, Isolation, Durability | Eigenschaften von sicheren Transaktionen in Datenbanken. |\n",
    "\n",
    "### Sicherheit & Standards\n",
    "\n",
    "| Abkürzung     | Bedeutung                          | Erklärung |\n",
    "|--------------|--------------------------------------|-----------|\n",
    "| **HTTPS**     | HyperText Transfer Protocol Secure | Verschlüsseltes HTTP-Protokoll. |\n",
    "| **OAuth**     | Open Authorization                 | Standard zur sicheren API-Autorisierung (z. B. via Google Login). |\n",
    "| **JWT**       | JSON Web Token                     | Token-Format zur sicheren Authentifizierung und Autorisierung. |\n",
    "| **WS-Security** | Web Services Security             | Standard für Sicherheit bei SOAP-Webservices. |\n",
    "\n",
    "## Technik & Tools\n",
    "\n",
    "| Abkürzung | Bedeutung                                | Erklärung |\n",
    "|----------|--------------------------------------------|-----------|\n",
    "| **JMS**  | Java Message Service                      | API für Messaging zwischen Java-Anwendungen. |\n",
    "| **SMTP** | Simple Mail Transfer Protocol             | Protokoll zum Versand von E-Mails. |\n",
    "| **WAF**  | Web Application Firewall                  | Schutzmechanismus für Webanwendungen gegen Angriffe. |"
   ]
  },
  {
   "cell_type": "markdown",
   "id": "f9fb59a9",
   "metadata": {},
   "source": [
    "## Beispiel mit JSONPlaceholder\n",
    "\n",
    "### JSONPlaceholder?\n",
    "\n",
    "**[https://jsonplaceholder.typicode.com](https://jsonplaceholder.typicode.com)** ist eine kostenlose Fake-Online-API zum Testen und Prototypen. Sie simuliert typische REST-Endpunkte wie:\n",
    "\n",
    "| Ressource | Beschreibung |\n",
    "|-----------|--------------|\n",
    "| `/posts`  | Blogbeiträge |\n",
    "| `/comments` | Kommentare |\n",
    "| `/users` | Benutzer |\n",
    "\n",
    "Beispiel:  \n",
    "`GET https://jsonplaceholder.typicode.com/posts/1` liefert einen Blogbeitrag im JSON-Format.\n",
    "\n",
    "### Was ist `curl`?\n",
    "\n",
    "`curl` ist ein **Kommandozeilenwerkzeug**, mit dem du **HTTP-Anfragen** (und viele andere Protokolle) direkt im Terminal senden kannst. Es ist ideal zum Testen von APIs, Debugging oder zum Automatisieren von Datenabfragen.\n",
    "\n",
    "#### 📦 Beispiel: JSONPlaceholder mit `curl` verwenden\n",
    "\n",
    "#### 🔍 Ziel: Den ersten Blogpost abrufen"
   ]
  },
  {
   "cell_type": "code",
   "execution_count": 1,
   "id": "55967105",
   "metadata": {
    "vscode": {
     "languageId": "polyglot-notebook"
    }
   },
   "outputs": [
    {
     "name": "stdout",
     "output_type": "stream",
     "text": [
      "\u001b[31;1m  % Total    % Received % Xferd  Average Speed   Time    Time     Time  Current\u001b[0m\n",
      "\u001b[31;1m                                 Dload  Upload   Total   Spent    Left  Speed\u001b[0m\n",
      "\u001b[31;1m\u001b[0m\n",
      "\u001b[31;1m  0     0    0     0    0     0      0      0 --:--:-- --:--:-- --:--:--     0\u001b[0m\n",
      "\u001b[31;1m100   292  100   292    0     0    623      0 --:--:-- --:--:-- --:--:--   623\u001b[0m\n",
      "{\n",
      "  \"userId\": 1,\n",
      "  \"id\": 1,\n",
      "  \"title\": \"sunt aut facere repellat provident occaecati excepturi optio reprehenderit\",\n",
      "  \"body\": \"quia et suscipit\\nsuscipit recusandae consequuntur expedita et cum\\nreprehenderit molestiae ut ut quas totam\\nnostrum rerum est autem sunt rem eveniet architecto\"\n",
      "}\n"
     ]
    }
   ],
   "source": [
    "#!pwsh\n",
    "curl https://jsonplaceholder.typicode.com/posts/1"
   ]
  },
  {
   "cell_type": "markdown",
   "id": "790b3bf7",
   "metadata": {},
   "source": [
    "#### 📝 Beispiel: Einen neuen Blogpost erstellen (POST)"
   ]
  },
  {
   "cell_type": "code",
   "execution_count": 4,
   "id": "882c13c8",
   "metadata": {
    "vscode": {
     "languageId": "polyglot-notebook"
    }
   },
   "outputs": [
    {
     "name": "stdout",
     "output_type": "stream",
     "text": [
      "\u001b[31;1m  % Total    % Received % Xferd  Average Speed   Time    Time     Time  Current\u001b[0m\n",
      "\u001b[31;1m                                 Dload  Upload   Total   Spent    Left  Speed\u001b[0m\n",
      "\u001b[31;1m\u001b[0m\n",
      "\u001b[31;1m  0     0    0     0    0     0      0      0 --:--:-- --:--:-- --:--:--     0\u001b[0m\n",
      "\u001b[31;1m  0     0    0     0    0     0      0      0 --:--:-- --:--:-- --:--:--     0\u001b[0m\n",
      "\u001b[31;1m100   153  100    87  100    66    140    106 --:--:-- --:--:-- --:--:--   246\u001b[0m\n",
      "{\n",
      "  \"title\": \"Hallo Welt\",\n",
      "  \"body\": \"Dies ist ein Test.\",\n",
      "  \"userId\": 1,\n",
      "  \"id\": 101\n",
      "}\n"
     ]
    }
   ],
   "source": [
    "#!pwsh\n",
    "curl -X POST https://jsonplaceholder.typicode.com/posts `\n",
    "  -H \"Content-Type: application/json\" `\n",
    "  -d '{\"title\": \"Hallo Welt\", \"body\": \"Dies ist ein Test.\", \"userId\": 1}'"
   ]
  },
  {
   "cell_type": "markdown",
   "id": "7224d678",
   "metadata": {},
   "source": [
    "#### 🔄 Erklärung:\n",
    "- `-X POST`: Methode `POST` verwenden\n",
    "- `-H`: Header mitgeben (hier: `Content-Type: application/json`)\n",
    "- `-d`: Daten (JSON-String) im Request-Body\n",
    "\n",
    "JSONPlaceholder speichert die Daten **nicht dauerhaft**, gibt aber eine **simulierte Antwort** zurück.\n",
    "\n",
    "### JSONPlaceholder API mit C#\n",
    "\n",
    "#### 💡 Tipp: JSON automatisch in Klassen umwandeln\n",
    "\n",
    "Nutze z. B. https://json2csharp.com – dort kannst du JSON einfügen und erhältst passende C#-Klassen. Hiermit kann man aus der [Dokumentation von JSONPlaceholder](https://jsonplaceholder.typicode.com/guide/) die Klassen generieren.\n",
    "\n",
    "#### Die Datenklasse `Post`"
   ]
  },
  {
   "cell_type": "code",
   "execution_count": 8,
   "id": "b0cd50a3",
   "metadata": {
    "vscode": {
     "languageId": "polyglot-notebook"
    }
   },
   "outputs": [],
   "source": [
    "public class Post\n",
    "{\n",
    "    public int userId { get; set; }\n",
    "    public int id { get; set; }\n",
    "    public string title { get; set; }\n",
    "    public string body { get; set; }\n",
    "}"
   ]
  },
  {
   "cell_type": "markdown",
   "id": "6ec107e3",
   "metadata": {},
   "source": [
    "#### Beispiel: Auslesen des ersten Blogposts"
   ]
  },
  {
   "cell_type": "code",
   "execution_count": 10,
   "id": "0f561fb7",
   "metadata": {
    "vscode": {
     "languageId": "polyglot-notebook"
    }
   },
   "outputs": [
    {
     "name": "stdout",
     "output_type": "stream",
     "text": [
      "Titel: sunt aut facere repellat provident occaecati excepturi optio reprehenderit\n",
      "Inhalt: quia et suscipit\n",
      "suscipit recusandae consequuntur expedita et cum\n",
      "reprehenderit molestiae ut ut quas totam\n",
      "nostrum rerum est autem sunt rem eveniet architecto\n"
     ]
    }
   ],
   "source": [
    "\n",
    "using System;\n",
    "using System.Net.Http;\n",
    "using System.Threading.Tasks;\n",
    "using System.Text.Json;\n",
    "\n",
    "// 1. HttpClient erzeugen\n",
    "HttpClient client = new HttpClient();\n",
    "\n",
    "// 2. URL zur JSONPlaceholder API\n",
    "string url = \"https://jsonplaceholder.typicode.com/posts/1\";\n",
    "\n",
    "// 3. GET-Request senden\n",
    "HttpResponseMessage response = await client.GetAsync(url);\n",
    "\n",
    "// 4. Statuscode prüfen\n",
    "if (response.IsSuccessStatusCode)\n",
    "{\n",
    "    // 5. JSON-Inhalt als String lesen\n",
    "    string json = await response.Content.ReadAsStringAsync();\n",
    "\n",
    "    // 6. JSON in ein Objekt deserialisieren\n",
    "    Post post = JsonSerializer.Deserialize<Post>(json);\n",
    "\n",
    "    // 7. Ausgabe\n",
    "    Console.WriteLine($\"Titel: {post.title}\");\n",
    "    Console.WriteLine($\"Inhalt: {post.body}\");\n",
    "}\n",
    "else\n",
    "{\n",
    "    Console.WriteLine($\"Fehler: {response.StatusCode}\");\n",
    "}"
   ]
  },
  {
   "cell_type": "markdown",
   "id": "86350ae8",
   "metadata": {},
   "source": [
    "### Was passiert hier genau?\n",
    "\n",
    "#### 🔢 1. `HttpClient`\n",
    "Ein Objekt, mit dem du HTTP-Requests senden kannst – z. B. GET, POST.\n",
    "\n",
    "#### 🌐 2. URL\n",
    "Wir rufen `https://jsonplaceholder.typicode.com/posts/1` auf – das ist der erste Blogpost.\n",
    "\n",
    "#### 📩 3. `GetAsync()`\n",
    "Sendet asynchron eine GET-Anfrage.\n",
    "\n",
    "#### 📦 4. Statuscode prüfen\n",
    "Nur wenn `IsSuccessStatusCode == true`, geht es weiter.\n",
    "\n",
    "#### 📜 5. JSON als String lesen\n",
    "Die Antwort wird als String eingelesen.\n",
    "\n",
    "#### 🧰 6. JSON → C#-Objekt\n",
    "`JsonSerializer.Deserialize<Post>(json)` macht aus dem JSON-Text ein `Post`-Objekt.\n",
    "\n",
    "#### 🖨 7. Ausgabe\n",
    "Wir geben `Title` und `Body` aus.\n",
    "\n",
    "### Nächster Schritt: Alle Posts laden"
   ]
  },
  {
   "cell_type": "code",
   "execution_count": 11,
   "id": "84f42345",
   "metadata": {
    "vscode": {
     "languageId": "polyglot-notebook"
    }
   },
   "outputs": [],
   "source": [
    "string url = \"https://jsonplaceholder.typicode.com/posts\";\n",
    "HttpResponseMessage response = await client.GetAsync(url);\n",
    "string json = await response.Content.ReadAsStringAsync();\n",
    "List<Post> posts = JsonSerializer.Deserialize<List<Post>>(json);"
   ]
  },
  {
   "cell_type": "markdown",
   "id": "a1cdac97",
   "metadata": {},
   "source": [
    "Dann kannst du z. B. alle Titel ausgeben:"
   ]
  },
  {
   "cell_type": "code",
   "execution_count": 13,
   "id": "473513ac",
   "metadata": {
    "vscode": {
     "languageId": "polyglot-notebook"
    }
   },
   "outputs": [
    {
     "name": "stdout",
     "output_type": "stream",
     "text": [
      "1: sunt aut facere repellat provident occaecati excepturi optio reprehenderit\n",
      "2: qui est esse\n",
      "3: ea molestias quasi exercitationem repellat qui ipsa sit aut\n",
      "4: eum et est occaecati\n",
      "5: nesciunt quas odio\n",
      "6: dolorem eum magni eos aperiam quia\n",
      "7: magnam facilis autem\n",
      "8: dolorem dolore est ipsam\n",
      "9: nesciunt iure omnis dolorem tempora et accusantium\n",
      "10: optio molestias id quia eum\n",
      "11: et ea vero quia laudantium autem\n",
      "12: in quibusdam tempore odit est dolorem\n",
      "13: dolorum ut in voluptas mollitia et saepe quo animi\n",
      "14: voluptatem eligendi optio\n",
      "15: eveniet quod temporibus\n",
      "16: sint suscipit perspiciatis velit dolorum rerum ipsa laboriosam odio\n",
      "17: fugit voluptas sed molestias voluptatem provident\n",
      "18: voluptate et itaque vero tempora molestiae\n",
      "19: adipisci placeat illum aut reiciendis qui\n",
      "20: doloribus ad provident suscipit at\n",
      "21: asperiores ea ipsam voluptatibus modi minima quia sint\n",
      "22: dolor sint quo a velit explicabo quia nam\n",
      "23: maxime id vitae nihil numquam\n",
      "24: autem hic labore sunt dolores incidunt\n",
      "25: rem alias distinctio quo quis\n",
      "26: est et quae odit qui non\n",
      "27: quasi id et eos tenetur aut quo autem\n",
      "28: delectus ullam et corporis nulla voluptas sequi\n",
      "29: iusto eius quod necessitatibus culpa ea\n",
      "30: a quo magni similique perferendis\n",
      "31: ullam ut quidem id aut vel consequuntur\n",
      "32: doloremque illum aliquid sunt\n",
      "33: qui explicabo molestiae dolorem\n",
      "34: magnam ut rerum iure\n",
      "35: id nihil consequatur molestias animi provident\n",
      "36: fuga nam accusamus voluptas reiciendis itaque\n",
      "37: provident vel ut sit ratione est\n",
      "38: explicabo et eos deleniti nostrum ab id repellendus\n",
      "39: eos dolorem iste accusantium est eaque quam\n",
      "40: enim quo cumque\n",
      "41: non est facere\n",
      "42: commodi ullam sint et excepturi error explicabo praesentium voluptas\n",
      "43: eligendi iste nostrum consequuntur adipisci praesentium sit beatae perferendis\n",
      "44: optio dolor molestias sit\n",
      "45: ut numquam possimus omnis eius suscipit laudantium iure\n",
      "46: aut quo modi neque nostrum ducimus\n",
      "47: quibusdam cumque rem aut deserunt\n",
      "48: ut voluptatem illum ea doloribus itaque eos\n",
      "49: laborum non sunt aut ut assumenda perspiciatis voluptas\n",
      "50: repellendus qui recusandae incidunt voluptates tenetur qui omnis exercitationem\n",
      "51: soluta aliquam aperiam consequatur illo quis voluptas\n",
      "52: qui enim et consequuntur quia animi quis voluptate quibusdam\n",
      "53: ut quo aut ducimus alias\n",
      "54: sit asperiores ipsam eveniet odio non quia\n",
      "55: sit vel voluptatem et non libero\n",
      "56: qui et at rerum necessitatibus\n",
      "57: sed ab est est\n",
      "58: voluptatum itaque dolores nisi et quasi\n",
      "59: qui commodi dolor at maiores et quis id accusantium\n",
      "60: consequatur placeat omnis quisquam quia reprehenderit fugit veritatis facere\n",
      "61: voluptatem doloribus consectetur est ut ducimus\n",
      "62: beatae enim quia vel\n",
      "63: voluptas blanditiis repellendus animi ducimus error sapiente et suscipit\n",
      "64: et fugit quas eum in in aperiam quod\n",
      "65: consequatur id enim sunt et et\n",
      "66: repudiandae ea animi iusto\n",
      "67: aliquid eos sed fuga est maxime repellendus\n",
      "68: odio quis facere architecto reiciendis optio\n",
      "69: fugiat quod pariatur odit minima\n",
      "70: voluptatem laborum magni\n",
      "71: et iusto veniam et illum aut fuga\n",
      "72: sint hic doloribus consequatur eos non id\n",
      "73: consequuntur deleniti eos quia temporibus ab aliquid at\n",
      "74: enim unde ratione doloribus quas enim ut sit sapiente\n",
      "75: dignissimos eum dolor ut enim et delectus in\n",
      "76: doloremque officiis ad et non perferendis\n",
      "77: necessitatibus quasi exercitationem odio\n",
      "78: quam voluptatibus rerum veritatis\n",
      "79: pariatur consequatur quia magnam autem omnis non amet\n",
      "80: labore in ex et explicabo corporis aut quas\n",
      "81: tempora rem veritatis voluptas quo dolores vero\n",
      "82: laudantium voluptate suscipit sunt enim enim\n",
      "83: odit et voluptates doloribus alias odio et\n",
      "84: optio ipsam molestias necessitatibus occaecati facilis veritatis dolores aut\n",
      "85: dolore veritatis porro provident adipisci blanditiis et sunt\n",
      "86: placeat quia et porro iste\n",
      "87: nostrum quis quasi placeat\n",
      "88: sapiente omnis fugit eos\n",
      "89: sint soluta et vel magnam aut ut sed qui\n",
      "90: ad iusto omnis odit dolor voluptatibus\n",
      "91: aut amet sed\n",
      "92: ratione ex tenetur perferendis\n",
      "93: beatae soluta recusandae\n",
      "94: qui qui voluptates illo iste minima\n",
      "95: id minus libero illum nam ad officiis\n",
      "96: quaerat velit veniam amet cupiditate aut numquam ut sequi\n",
      "97: quas fugiat ut perspiciatis vero provident\n",
      "98: laboriosam dolor voluptates\n",
      "99: temporibus sit alias delectus eligendi possimus magni\n",
      "100: at nam consequatur ea labore ea harum\n"
     ]
    }
   ],
   "source": [
    "foreach (var post in posts)\n",
    "{\n",
    "    Console.WriteLine($\"{post.id}: {post.title}\");\n",
    "}"
   ]
  }
 ],
 "metadata": {
  "kernelspec": {
   "display_name": ".NET (C#)",
   "language": "C#",
   "name": ".net-csharp"
  },
  "language_info": {
   "name": "python"
  },
  "polyglot_notebook": {
   "kernelInfo": {
    "defaultKernelName": "csharp",
    "items": [
     {
      "aliases": [],
      "name": "csharp"
     }
    ]
   }
  }
 },
 "nbformat": 4,
 "nbformat_minor": 5
}
