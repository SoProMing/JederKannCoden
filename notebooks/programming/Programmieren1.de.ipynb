{
 "cells": [
  {
   "cell_type": "markdown",
   "metadata": {},
   "source": [
    "# Programmieren 1\n",
    "\n",
    "<img src=\"Programmieren1.webp\" style=\"width:280px; height:280px;\">"
   ]
  },
  {
   "cell_type": "markdown",
   "metadata": {},
   "source": [
    "## Inhaltsverzeichnis\n",
    "\n",
    "### Vorbereitung\n",
    "- [Eisbrecher](csharp/CSharp_icebreaker.de.ipynb)\n",
    "- [Zahlensysteme und Zeichen](Number_Systems.de.ipynb)\n",
    "- [Werkzeuge zur Vorlesung](csharp/tools/Toolchain.de.ipynb)\n",
    "### Grundlagen\n",
    "- [Programmieren & TicTacToe:](Programming_And_TicTacToe.de.ipynb) Prozedurale Programmierung am Beispiel von Python & TicTacToe\n",
    "- [Einführung in C#:](csharp/CSharp_Introduction.de.ipynb) Prozedurale Programmierung in C# als Übersicht\n",
    "### Vertiefung\n",
    "#### Textausgabe\n",
    "- [WriteLine Basiswissen](csharp/procedural-functional/Console_WriteLine_Basics.de.ipynb)\n",
    "- [Hallo Welt!](csharp/procedural-functional/CSharp_HelloWorld_Explanation.de.ipynb)\n",
    "- [WriteLine Samples](csharp/procedural-functional/Console_WriteLine_Samples.de.ipynb)\n",
    "- [WriteLine & TicTacToe](csharp/procedural-functional/Console_WriteLine_TicTacToe.de.ipynb)\n",
    "#### Texteingabe\n",
    "- [ReadLine & TicTacToe](csharp/procedural-functional/Console_ReadLine_Basics.de.ipynb)\n",
    "#### Operatoren\n",
    "- [Boolesche Operatoren](csharp/procedural-functional/CSharp_Boolean_Operators_Basics.de.ipynb)\n",
    "- [Weitere Operatoren](csharp/procedural-functional/CSharp_Other_Operators_Basics.de.ipynb)\n",
    "#### Datentypen\n",
    "- [Numerische Typen](csharp/procedural-functional/CSharp_Numerical_Types.de.ipynb)\n",
    "- [Numerische Gleitkomma-Typen](csharp/procedural-functional/CSharp_Numerical_Floating_Types.de.ipynb)\n",
    "- [String Typen](csharp/procedural-functional/CSharp_String_Type.de.ipynb)\n",
    "- [Arrays](csharp/procedural-functional/CSharp_Arrays.de.ipynb)\n",
    "#### Kontrollstrukturen\n",
    "- [Bedingte Anweisungen](csharp/procedural-functional/CSharp_Conditional.de.ipynb)\n",
    "- [Schleifen](csharp/procedural-functional/CSharp_Loops.de.ipynb)\n",
    "### [TicTacToe in einer einzelnen Prozedur](csharp/procedural-functional/CSharp_Loops_TicTacToe.de.ipynb)"
   ]
  },
  {
   "cell_type": "markdown",
   "metadata": {},
   "source": [
    "## Roter Faden zur Veranstaltung\n",
    "\n",
    "Der rote Faden zeigt auf, wie einzelne Themen und Cluster von Themen aufeinander aufbauen, um Programmieren stukturiert zu erlernen. Da einzelne Themen erst mit Kombination anderer Themen gut zu verstehen sind, kommt es speziell am Anfang vor, dass mehrere Themen in Grundzügen angesprochen werden und \"in Bearbeitung\" sind.  Wir gehen also gemeinsam in \"die Breite\", bevor wir jedes Thema für sich genau besprochen haben und es dann als \"Fertig\" gelten kann.\n",
    "\n",
    "<iframe width=\"768\" height=\"432\" src=\"https://miro.com/app/live-embed/o9J_lOJi2o0=/?moveToViewport=789,-7187,5380,3988&embedId=719314280622\" frameborder=\"0\" scrolling=\"no\" allow=\"fullscreen; clipboard-read; clipboard-write\" allowfullscreen></iframe>\n",
    "\n",
    "[Zum Finger 👈 im roten Faden in Miro springen...](https://miro.com/app/board/o9J_lOJi2o0=/?moveToWidget=3458764597610515146&cot=14)\n",
    "\n",
    "<details><summary>Der rote faden als screenshot</summary>\n",
    "<img src=\"csharp/Red_thread.miro.de.jpg\" style=\"width:1024px;\">\n",
    "</details>"
   ]
  },
  {
   "cell_type": "markdown",
   "metadata": {},
   "source": [
    "## Appendix\n",
    "\n",
    "### Kanban board\n",
    "\n",
    "- **Kanban**: Methode zur Verbesserung von Produktionsprozessen und Arbeitsabläufen\n",
    "- **Ursprung**: Entwickelt von Toyota zur Optimierung der Fertigung\n",
    "- **Visualisierung**: Aufgaben werden auf einem Board mit Spalten (z.B. „To Do“, „In Arbeit“, „Erledigt“) dargestellt\n",
    "- **Ziel**: Optimierung des Arbeitsflusses durch Visualisierung von Engpässen und Priorisierung von Aufgaben\n",
    "- **WIP-Limits** (Work in Progress): Begrenzung der parallelen Arbeiten zur Vermeidung von Überlastung\n",
    "- **Kontinuierliche Verbesserung**: Regelmäßige Überprüfung und Anpassung des Prozesses\n",
    "\n",
    "<details>\n",
    "<summary>Nochmal zum Nachlesen...</summary>\n",
    "\n",
    "Ein  **Kanban-Board**  ist ein visuelles Tool, das verwendet wird, um Arbeitsprozesse und -abläufe zu organisieren und zu optimieren. Es stammt aus der Kanban-Methode, die ursprünglich von Toyota in den 1940er Jahren entwickelt wurde, um die Produktionseffizienz zu verbessern. Heute wird es häufig im Projektmanagement, insbesondere im agilen Umfeld, verwendet.\n",
    "\n",
    "Ein typisches Kanban-Board besteht aus drei Hauptspalten:\n",
    "\n",
    "1.  **To Do**  (Zu erledigen): In dieser Spalte werden alle Aufgaben aufgelistet, die noch begonnen werden müssen.\n",
    "2.  **In Progress**  (In Arbeit): Hier befinden sich Aufgaben, die gerade bearbeitet werden.\n",
    "3.  **Done**  (Erledigt): Diese Spalte zeigt an, welche Aufgaben abgeschlossen sind.\n",
    "\n",
    "Jede Aufgabe wird auf einer  **Karte**  dargestellt, die durch die verschiedenen Spalten verschoben wird, wenn der Status der Aufgabe sich ändert. Diese Karten enthalten oft zusätzliche Informationen wie Verantwortlichkeiten, Fälligkeitsdaten oder Prioritäten.\n",
    "\n",
    "Wichtige Aspekte des Kanban-Boards sind:\n",
    "\n",
    "-   **WIP-Limits (Work in Progress Limits):**  Es gibt eine festgelegte maximale Anzahl an Aufgaben, die gleichzeitig in einer Spalte (meist in der \"In Progress\"-Spalte) sein dürfen. Dies verhindert, dass zu viele Aufgaben gleichzeitig bearbeitet werden und fördert den Fokus auf den Abschluss von Aufgaben.\n",
    "-   **Pull-Prinzip:**  Aufgaben werden nicht nach einem festen Plan, sondern nach Bedarf \"gezogen\", wenn Kapazitäten frei werden. Dies sorgt für einen gleichmäßigeren Arbeitsfluss.\n",
    "\n",
    "Das Ziel eines Kanban-Boards ist es, Engpässe sichtbar zu machen, den Arbeitsfluss zu verbessern und den Prozess der kontinuierlichen Verbesserung zu unterstützen.\n",
    "\n",
    "</details>\n",
    "\n",
    "<img src=\"Kanban1.miro.de.jpg\" style=\"width:100%;\">\n",
    "\n",
    "<details>\n",
    "<summary>Inline miro frame...</summary>\n",
    "<iframe src=\"https://miro.com/app/board/o9J_lOJi2o0=/?moveToWidget=3074457365363233230&cot=14\" width=\"100%\" height=\"600px\"></iframe>\n",
    "</details>\n",
    "\n",
    "[Link auf Miro Frame...](https://miro.com/app/board/o9J_lOJi2o0=/?moveToWidget=3074457365363233230&cot=14)"
   ]
  },
  {
   "cell_type": "markdown",
   "metadata": {},
   "source": [
    "### [Erzeugen von HTML-Seiten aus den notebooks](../Create_pdf.en.ipynb)"
   ]
  }
 ],
 "metadata": {
  "kernelspec": {
   "display_name": ".NET (C#)",
   "language": "C#",
   "name": ".net-csharp"
  },
  "language_info": {
   "name": "python",
   "version": "3.10.5"
  },
  "polyglot_notebook": {
   "kernelInfo": {
    "defaultKernelName": "csharp",
    "items": [
     {
      "aliases": [],
      "name": "csharp"
     }
    ]
   }
  }
 },
 "nbformat": 4,
 "nbformat_minor": 2
}
