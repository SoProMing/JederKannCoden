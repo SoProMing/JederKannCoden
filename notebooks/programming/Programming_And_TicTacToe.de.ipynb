{
 "cells": [
  {
   "cell_type": "markdown",
   "metadata": {},
   "source": [
    "# Programmierung und Tic-Tac-Toe\n",
    "\n",
    "<img src=\"Programming_And_TicTacToe.webp\" style=\"width:280px; height:280px;\">\n",
    "\n",
    "## Einleitung: Die Spielregeln von Tic-Tac-Toe\n",
    "\n",
    "Tic-Tac-Toe ist ein einfaches und beliebtes Spiel, das auf einem 3x3-Raster gespielt wird. Zwei Spieler, normalerweise als „X“ und „O“ bezeichnet, platzieren abwechselnd ihre Symbole auf dem Raster. Das Ziel ist es, eine Reihe von drei eigenen Symbolen in einer Reihe, Spalte oder Diagonale zu bilden. Der erste Spieler, der dies erreicht, gewinnt das Spiel. Wenn alle Zellen des Rasters besetzt sind und niemand gewonnen hat, endet das Spiel unentschieden."
   ]
  },
  {
   "cell_type": "markdown",
   "metadata": {},
   "source": [
    "<details>\n",
    "<summary>Diagramm...</summary>\n",
    "\n",
    "```mermaid\n",
    "graph TD;\n",
    "    A[Start] --> B[Board initialisieren]\n",
    "    B --> C{Ist das Spiel beendet?}\n",
    "    C -->|Ja| D[Beende das Spiel]\n",
    "    C -->|Nein| E{Ist es X's Zug?}\n",
    "    E -->|Ja| F[X wählt ein Feld]\n",
    "    F --> G{Hat X gewonnen?}\n",
    "    G -->|Ja| D[Beende das Spiel]\n",
    "    G -->|Nein| H{Ist das Board voll?}\n",
    "    H -->|Ja| D[Beende das Spiel]\n",
    "    H -->|Nein| E\n",
    "    E -->|Nein| I[O wählt ein Feld]\n",
    "    I --> J{Hat O gewonnen?}\n",
    "    J -->|Ja| D[Beende das Spiel]\n",
    "    J -->|Nein| K{Ist das Board voll?}\n",
    "    K -->|Ja| D[Beende das Spiel]\n",
    "    K -->|Nein| E\n",
    "```\n",
    "</details>\n",
    "\n",
    "<details>\n",
    "<summary>Schrittweiser Ablauf...</summary>\n",
    "\n",
    "1.  **Start**: Das Spiel beginnt.\n",
    "2.  **Board initialisieren**: Ein leeres Spielfeld wird erstellt.\n",
    "3.  **Ist das Spiel beendet?**: Überprüfung, ob das Spiel zu Ende ist.\n",
    "4.  **Ist es X's Zug?**: Bestimmt, ob der Spieler X an der Reihe ist.\n",
    "5.  **X wählt ein Feld**: Spieler X wählt ein Feld auf dem Board.\n",
    "6.  **Hat X gewonnen?**: Überprüfung, ob Spieler X gewonnen hat.\n",
    "7.  **Ist das Board voll?**: Überprüfung, ob das Spielfeld voll ist.\n",
    "8.  **O wählt ein Feld**: Wenn es nicht X's Zug ist, wählt Spieler O ein Feld.\n",
    "9.  **Hat O gewonnen?**: Überprüfung, ob Spieler O gewonnen hat.\n",
    "10.  **Ende**: Das Spiel wird beendet, wenn ein Spieler gewonnen hat oder das Board voll ist.\n",
    "</details>"
   ]
  },
  {
   "cell_type": "markdown",
   "metadata": {},
   "source": [
    "## Grundlegende Programmierkonzepte mit Tic-Tac-Toe\n",
    "\n",
    "Programmierkonzepte, mit denen man Tic-Tac-Toe programmieren kann, lassen sich vergleichen mit verschiedenen Konzepten, die beim Schreiben der Spielregeln verwendet werden. Hier eine Gegenüberstellungen mit den grundlegenden Programmierkonzepten:\n",
    "- [Navigation durch den Text](#navigation-durch-den-text)\n",
    "- [Datentypen und Variablen](#datentypen-und-variablen)\n",
    "- [Kontrollstrukturen](#kontrollstrukturen)\n",
    "- [Arithmetik](#arithmetik)\n",
    "- [Funktionen](#funktionen)"
   ]
  },
  {
   "cell_type": "markdown",
   "metadata": {},
   "source": [
    "### Navigation durch den Text\n",
    "\n",
    "-   **Schrittweises Verständnis:**  Spielregeln werden schrittweise gelesen und verstanden, ähnlich wie ein Algorithmus.\n",
    "-   **Sequentielle Verarbeitung:**  Ein Python-Interpreter verarbeitet den Code zeichenweise und zeilenweise, ähnlich wie ein Mensch die Spielregeln sequentiell liest.\n",
    "-   **Unterschied:**  Der Mensch versteht das Regelwerk global, während der Interpreter den Code strikt sequenziell abarbeitet.\n",
    "\n",
    "<details>\n",
    "<summary>Ausführliche Erklärung...</summary>\n",
    "Wenn man Spielregeln wie die von TicTacToe liest, erfolgt der Prozess schrittweise, als würde man einem Algorithmus folgen. Zuerst werden die grundlegenden Spielbedingungen festgelegt, z.B. das Spielfeld besteht aus einem 3x3-Raster und zwei Spieler setzen abwechselnd entweder \"X\" oder \"O\". Die Spielregeln werden dabei nacheinander durchgegangen, um das Verhalten und die Bedingungen des Spiels zu verstehen und anzuwenden.\n",
    "\n",
    "Ähnlich dazu verarbeitet ein Python-Interpreter den Code zeichenweise und zeilenweise. Der Interpreter liest den Code, zerlegt ihn in Einheiten (Tokens) und führt dann die entsprechenden Anweisungen aus. Dies geschieht streng sequentiell, wobei jede Zeile Code analysiert und ausgeführt wird, bevor zur nächsten Zeile übergegangen wird. Die Bedeutung der Zeichen (Tokens) wird basierend auf den Sprachregeln von Python interpretiert.\n",
    "</details>\n",
    "\n",
    "Hier ist eine einfache Version des TicTacToe-Spiels, die nur den Ablauf einer Runde als lesbaren Text ausgibt:"
   ]
  },
  {
   "cell_type": "code",
   "execution_count": null,
   "metadata": {},
   "outputs": [
    {
     "name": "stdout",
     "output_type": "stream",
     "text": [
      "Start des Spiels!\n",
      "Victor Spielfeld:\n",
      "   |   |   \n",
      "-----------\n",
      "   |   |   \n",
      "-----------\n",
      "   |   |   \n",
      "\n"
     ]
    }
   ],
   "source": [
    "# Textbasierte TicTacToe-Spielsimulation ohne Methoden\n",
    "\n",
    "print(\"Start des Spiels!\")\n",
    "print(\"Leeres Spielfeld:\")\n",
    "print(\"   |   |   \")\n",
    "print(\"-----------\")\n",
    "print(\"   |   |   \")\n",
    "print(\"-----------\")\n",
    "print(\"   |   |   \")\n",
    "print(\"\")"
   ]
  },
  {
   "cell_type": "code",
   "execution_count": 2,
   "metadata": {},
   "outputs": [
    {
     "name": "stdout",
     "output_type": "stream",
     "text": [
      "Zug 1: Spieler X setzt auf Position (0, 0)\n",
      " X |   |   \n",
      "-----------\n",
      "   |   |   \n",
      "-----------\n",
      "   |   |   \n",
      "\n"
     ]
    }
   ],
   "source": [
    "# Zug 1: Spieler X setzt auf (0, 0)\n",
    "print(\"Zug 1: Spieler X setzt auf Position (0, 0)\")\n",
    "print(\" X |   |   \")\n",
    "print(\"-----------\")\n",
    "print(\"   |   |   \")\n",
    "print(\"-----------\")\n",
    "print(\"   |   |   \")\n",
    "print(\"\")"
   ]
  },
  {
   "cell_type": "code",
   "execution_count": 4,
   "metadata": {},
   "outputs": [
    {
     "name": "stdout",
     "output_type": "stream",
     "text": [
      "Zug 2: Spieler O setzt auf Position (1, 1)\n",
      " X |   |   \n",
      "-----------\n",
      "   | O |   \n",
      "-----------\n",
      "   |   |   \n",
      "\n"
     ]
    }
   ],
   "source": [
    "# Zug 2: Spieler O setzt auf (1, 1)\n",
    "print(\"Zug 2: Spieler O setzt auf Position (1, 1)\")\n",
    "print(\" X |   |   \")\n",
    "print(\"-----------\")\n",
    "print(\"   | O |   \")\n",
    "print(\"-----------\")\n",
    "print(\"   |   |   \")\n",
    "print(\"\")"
   ]
  },
  {
   "cell_type": "code",
   "execution_count": 6,
   "metadata": {},
   "outputs": [
    {
     "name": "stdout",
     "output_type": "stream",
     "text": [
      "Zug 3: Spieler X setzt auf Position (0, 1)\n",
      " X | X |   \n",
      "-----------\n",
      "   | O |   \n",
      "-----------\n",
      "   |   |   \n",
      "\n"
     ]
    }
   ],
   "source": [
    "# Zug 3: Spieler X setzt auf (0, 1)\n",
    "print(\"Zug 3: Spieler X setzt auf Position (0, 1)\")\n",
    "print(\" X | X |   \")\n",
    "print(\"-----------\")\n",
    "print(\"   | O |   \")\n",
    "print(\"-----------\")\n",
    "print(\"   |   |   \")\n",
    "print(\"\")"
   ]
  },
  {
   "cell_type": "code",
   "execution_count": 7,
   "metadata": {},
   "outputs": [
    {
     "name": "stdout",
     "output_type": "stream",
     "text": [
      "Zug 4: Spieler O setzt auf Position (2, 2)\n",
      " X | X |   \n",
      "-----------\n",
      "   | O |   \n",
      "-----------\n",
      "   |   | O \n",
      "\n"
     ]
    }
   ],
   "source": [
    "# Zug 4: Spieler O setzt auf (2, 2)\n",
    "print(\"Zug 4: Spieler O setzt auf Position (2, 2)\")\n",
    "print(\" X | X |   \")\n",
    "print(\"-----------\")\n",
    "print(\"   | O |   \")\n",
    "print(\"-----------\")\n",
    "print(\"   |   | O \")\n",
    "print(\"\")"
   ]
  },
  {
   "cell_type": "code",
   "execution_count": 4,
   "metadata": {},
   "outputs": [
    {
     "name": "stdout",
     "output_type": "stream",
     "text": [
      "Zug 6: Spieler O setzt auf Position (0, 2)\n",
      " X | X | O \n",
      "-----------\n",
      " X | O |   \n",
      "-----------\n",
      "   |   | O \n",
      "\n"
     ]
    }
   ],
   "source": [
    "print(\"Zug 6: Spieler O setzt auf Position (0, 2)\")\n",
    "print(\" X | X | O \")\n",
    "print(\"-----------\")\n",
    "print(\" X | O |   \")\n",
    "print(\"-----------\")\n",
    "print(\"   |   | O \")\n",
    "print(\"\")"
   ]
  },
  {
   "cell_type": "code",
   "execution_count": 8,
   "metadata": {},
   "outputs": [
    {
     "name": "stdout",
     "output_type": "stream",
     "text": [
      "Zug 6: Spieler O setzt auf Position (2, 0)\n",
      " X | X | O \n",
      "-----------\n",
      " X | O |   \n",
      "-----------\n",
      " o |   | O \n",
      "\n"
     ]
    }
   ],
   "source": [
    "print(\"Zug 6: Spieler O setzt auf Position (2, 0)\")\n",
    "print(\" X | X | O \")\n",
    "print(\"-----------\")\n",
    "print(\" X | O |   \")\n",
    "print(\"-----------\")\n",
    "print(\" o |   | O \")\n",
    "print(\"\")"
   ]
  },
  {
   "cell_type": "code",
   "execution_count": 6,
   "metadata": {},
   "outputs": [
    {
     "name": "stdout",
     "output_type": "stream",
     "text": [
      "Spieler O gewinnt mit einer vollen Diagonalen!\n",
      "Spiel beendet.\n"
     ]
    }
   ],
   "source": [
    "# Spieler O gewinnt\n",
    "print(\"Spieler O gewinnt mit einer vollen Diagonalen!\")\n",
    "print(\"Spiel beendet.\")"
   ]
  },
  {
   "cell_type": "markdown",
   "metadata": {},
   "source": [
    "[Einführung in C#](csharp/CSharp_Introduction.de.ipynb) →"
   ]
  },
  {
   "cell_type": "markdown",
   "metadata": {},
   "source": [
    "### **Datentypen und Variablen**\n",
    "\n",
    "-   Das TicTacToe-Spielbrett kann als 2D-Array (Liste von Listen) gespeichert werden.\n",
    "-   Jede Zelle des Arrays repräsentiert den Zustand eines Spielfeldes (leer, X, O).\n",
    "-   In Programmiersprachen können Variablen und Datentypen genutzt werden, um den Spielstand zu speichern und zu verwalten.\n",
    "-   Durch das Aktualisieren der Datenstruktur (Liste von Listen) wird der Spielstand im Programm gespeichert.\n",
    "-   Der Spielstand kann durch eine Funktion ausgegeben und damit für die Spieler sichtbar gemacht werden.\n",
    "-   `Integer`-Variablen können zur Zählung von Zügen oder zum Speichern von Spielergebnissen verwendet werden.\n",
    "\n",
    "<details> <summary>Ausführliche Erklärung...</summary> In einem Spiel wie TicTacToe stellt das Spielbrett ein 3x3-Raster dar. Jedes Feld dieses Rasters kann leer sein oder von einer Spielfigur (X oder O) besetzt werden. Um den aktuellen Spielstand zu speichern, kann man ein 2D-Array (Liste von Listen) verwenden. Jede Position in diesem Array repräsentiert dabei eine Position auf dem Spielfeld. In Python könnten wir beispielsweise eine Liste von Listen verwenden, um den Zustand des Spiels zu speichern. Der Typ der Variablen in jeder Zelle könnte entweder ein Zeichen (`'X'`, `'O'`) oder ein Leerzeichen (`' '`) sein, um ein unbesetztes Feld darzustellen.\n",
    "\n",
    "Zusätzlich können  `Integer`-Variablen genutzt werden, um Zähler für die Anzahl der Züge oder die Anzahl der gewonnenen Spiele zu speichern. Beispielsweise könnte eine Variable  `move_count`  verwendet werden, um die Anzahl der bereits getätigten Züge zu zählen. Der Wert dieser Variablen erhöht sich nach jedem Zug um eins, was es ermöglicht, den Fortschritt des Spiels nachzuvollziehen und mögliche Gewinnbedingungen zu überprüfen.\n",
    "\n",
    "</details>\n",
    "\n",
    "**Konzept:**  Datentypen definieren die Art der Daten, die in Variablen gespeichert werden können.\n",
    "\n",
    "**Beispiel in Tic-Tac-Toe:**\n",
    "\n",
    "1.  **Datentyp  `List`  für das Board:**\n",
    "    \n",
    "    -   Das  `board`  ist eine Liste von Listen (2D-Array), wobei jede innere Liste eine Reihe des Boards darstellt. Die Elemente der Listen sind Zeichen (`'X'`,  `'O'`  oder  `' '`).\n",
    "2.  **Datentyp  `String`  für die Spielerzeichen:**\n",
    "    \n",
    "    -   Die Spielerzeichen sind Strings (`'X'`  und  `'O'`), die in den Zellen des Boards gespeichert werden.\n",
    "3.  **Datentyp  `Integer`  für Zählvariablen:**\n",
    "    \n",
    "    -   `Integer`  kann verwendet werden, um Zähler für die Anzahl der Züge oder die Anzahl der gewonnenen Spiele zu speichern. Beispielsweise könnte eine Variable  `move_count`  verwendet werden, um die Anzahl der bereits getätigten Züge zu zählen. Der Wert dieser Variablen erhöht sich nach jedem Zug um eins.\n",
    "    \n",
    "Hier ist ein Beispiel, wie du das Board initialisieren verwenden könntest:"
   ]
  },
  {
   "cell_type": "code",
   "execution_count": 10,
   "metadata": {},
   "outputs": [
    {
     "name": "stdout",
     "output_type": "stream",
     "text": [
      "X| | \n",
      " |O| \n",
      " | |X\n"
     ]
    }
   ],
   "source": [
    "# Initialisierung des Spielbretts als 3x3-Array\n",
    "spielbrett = [\n",
    "    [' ', ' ', ' '],\n",
    "    [' ', ' ', ' '],\n",
    "    [' ', ' ', ' ']\n",
    "]\n",
    "\n",
    "# Zähler für die erste Zeile\n",
    "erste_zeile_index = 0\n",
    "\n",
    "# Beispielhafte Spielzüge\n",
    "spielbrett[0][0] = 'X'  # Spieler X setzt auf die obere linke Position\n",
    "spielbrett[1][1] = 'O'  # Spieler O setzt auf die mittlere Position\n",
    "spielbrett[2][2] = 'X'  # Spieler X setzt auf die untere rechte Position\n",
    "\n",
    "# Ausgabe des Spielbretts\n",
    "print(spielbrett[erste_zeile_index][0] + \"|\" + spielbrett[erste_zeile_index][1] + \"|\" + spielbrett[erste_zeile_index][2])  # Ausgabe der ersten Zeile\n",
    "print(spielbrett[1][0] + \"|\" + spielbrett[1][1] + \"|\" + spielbrett[1][2])  # Ausgabe der zweiten Zeile\n",
    "print(spielbrett[2][0] + \"|\" + spielbrett[2][1] + \"|\" + spielbrett[2][2])  # Ausgabe der dritten Zeile"
   ]
  },
  {
   "cell_type": "markdown",
   "metadata": {},
   "source": [
    "<details>\n",
    "<summary>Ausführliche Erklärung...</summary>\n",
    "\n",
    "\n",
    "-   **Initialisierung des Spielbretts**:\n",
    "    \n",
    "    -   Der Code erstellt ein 2D-Array (Liste von Listen) namens  `spielbrett`, das ein 3x3-Raster darstellt, welches dem TicTacToe-Spielbrett entspricht.\n",
    "    -   Zu Beginn wird jede Zelle des Arrays mit einem Leerzeichen (`' '`) initialisiert, um anzuzeigen, dass das Spielfeld leer ist.\n",
    "-   **Zähler für die erste Zeile**:\n",
    "    \n",
    "    -   Eine Variable namens  `erste_zeile_index`  wird deklariert und auf  `0`  gesetzt. Diese Variable dient dazu, die Indizierung für die erste Zeile des Spielbretts zu speichern.\n",
    "    -   In Python beginnt die Indizierung von Listen bei  `0`, sodass die erste Zeile des Arrays  `spielbrett`  tatsächlich  `spielbrett[0]`  entspricht.\n",
    "-   **Beispielhafte Spielzüge**:\n",
    "    \n",
    "    -   Im Code werden drei Spielzüge durchgeführt:\n",
    "        -   Spieler X setzt ein X in die obere linke Position des Spielbretts (0. Zeile, 0. Spalte).\n",
    "        -   Spieler O setzt ein O in die mittlere Position des Spielbretts (1. Zeile, 1. Spalte).\n",
    "        -   Spieler X setzt ein X in die untere rechte Position des Spielbretts (2. Zeile, 2. Spalte).\n",
    "    -   Diese Zuweisungen aktualisieren den Zustand des Spielbretts entsprechend den Spielzügen der Spieler.\n",
    "-   **Ausgabe des Spielbretts**:\n",
    "    \n",
    "    -   Der aktuelle Zustand des Spielbretts wird ausgegeben.\n",
    "    -   Die erste Zeile wird mit Hilfe der  `erste_zeile_index`-Variable ausgegeben, indem die Werte der ersten Zeile in einen String kombiniert werden.\n",
    "    -   Für die zweite und dritte Zeile werden die Indizes direkt verwendet, um die Werte der entsprechenden Zeilen auszugeben.\n",
    "    -   Das Ergebnis zeigt den aktuellen Zustand des Spielbretts in der Konsole, sodass die Spieler den Fortschritt des Spiels sehen können.\n",
    "</details>"
   ]
  },
  {
   "cell_type": "markdown",
   "metadata": {},
   "source": [
    "#### Tic Tac Toe Gitter mit Indizes\n",
    "\n",
    "| `[0][0]` | `[0][1]` | `[0][2]` |\n",
    "|-----|-----|-----|\n",
    "| `[1][0]` | `[1][1]` | `[1][2]` |\n",
    "| `[2][0]` | `[2][1]` | `[2][2]` |\n",
    "\n",
    "##### Erklärung:\n",
    "- Jede Zelle wird durch ihren Zeilen- und Spaltenindex dargestellt, wobei die obere linke Ecke als `[0][0]` bezeichnet ist.\n",
    "- Die Zeilen sind von 0 bis 2 und die Spalten sind ebenfalls von 0 bis 2 indiziert.\n"
   ]
  },
  {
   "cell_type": "markdown",
   "metadata": {},
   "source": [
    "[Das Konzept einer Variablen in C#](csharp/CSharp_Introduction.de.ipynb#Das-Konzept-einer-Variablen) →"
   ]
  },
  {
   "cell_type": "markdown",
   "metadata": {},
   "source": [
    "### **Arithmetik**\n",
    "\n",
    "-   Arithmetische Operationen helfen, Spielregeln zu verwalten, z.B. das Zählen von Zügen oder das Berechnen von Positionen.\n",
    "-   Arithmetik wird genutzt, um Regeln zu steuern, wie z.B. das Erkennen eines Unentschiedens nach einer bestimmten Anzahl von Zügen.\n",
    "-   In Python entsprechen diese Operationen typischen arithmetischen Berechnungen wie Addition, Subtraktion und Vergleichen, um Zustände im Spiel zu verwalten.\n",
    "\n",
    "<details>\n",
    "<summary>Ausführliche Erklärung...</summary>\n",
    "Arithmetik spielt in den Regeln von Spielen wie TicTacToe eine Rolle, um die Spiellogik effizient zu verwalten. Zum Beispiel kann das Zählen der Anzahl der Spielzüge genutzt werden, um zu erkennen, wann das Spiel unentschieden endet (nach genau 9 Zügen). Auch das Berechnen von Indexpositionen oder das Überprüfen von Gewinnbedingungen kann arithmetische Operationen beinhalten.\n",
    "\n",
    "In Python entsprechen diese arithmetischen Operationen typischen mathematischen Berechnungen, wie Addition, Subtraktion, Zählen oder Vergleiche. Diese Operationen helfen, den Zustand des Spiels zu verwalten und auf bestimmte Ereignisse zu reagieren.\n",
    "</details>\n",
    "\n",
    "Schauen wir uns ein Codebeispiel an, das arithmetische Operationen in TicTacToe-Regeln verwendet:"
   ]
  },
  {
   "cell_type": "code",
   "execution_count": 1,
   "metadata": {},
   "outputs": [
    {
     "name": "stdout",
     "output_type": "stream",
     "text": [
      "Das Spiel endet unentschieden!\n"
     ]
    }
   ],
   "source": [
    "# Tic-Tac-Toe-Spielbrett\n",
    "spielbrett = [[' ' for _ in range(3)] for _ in range(3)]\n",
    "\n",
    "# Zähler für die Anzahl der Spielzüge\n",
    "zug_zaehler = 0  # Arithmetik: Startwert für die Anzahl der Züge\n",
    "\n",
    "# Beispielhafte Spielzüge\n",
    "spielbrett[0][0] = 'X'  # Spieler X macht einen Zug\n",
    "zug_zaehler = zug_zaehler + 1\n",
    "zug_zaehler += 1  # Arithmetik: Spielzugzähler um 1 erhöhen\n",
    "\n",
    "spielbrett[1][1] = 'O'  # Spieler O macht einen Zug\n",
    "zug_zaehler += 1  # Arithmetik: Spielzugzähler um 1 erhöhen\n",
    "\n",
    "spielbrett[0][1] = 'X'  # Spieler X macht einen weiteren Zug\n",
    "zug_zaehler += 1  # Arithmetik: Spielzugzähler um 1 erhöhen\n",
    "\n",
    "spielbrett[1][0] = 'O'  # Spieler O macht einen weiteren Zug\n",
    "zug_zaehler += 1  # Arithmetik: Spielzugzähler um 1 erhöhen\n",
    "\n",
    "spielbrett[0][2] = 'X'  # Spieler X macht einen weiteren Zug\n",
    "zug_zaehler += 1  # Arithmetik: Spielzugzähler um 1 erhöhen\n",
    "\n",
    "spielbrett[1][2] = 'O'  # Spieler O macht einen weiteren Zug\n",
    "zug_zaehler += 1  # Arithmetik: Spielzugzähler um 1 erhöhen\n",
    "\n",
    "spielbrett[2][0] = 'X'  # Spieler X macht einen weiteren Zug\n",
    "zug_zaehler += 1  # Arithmetik: Spielzugzähler um 1 erhöhen\n",
    "\n",
    "spielbrett[2][1] = 'O'  # Spieler O macht einen weiteren Zug\n",
    "zug_zaehler += 1  # Arithmetik: Spielzugzähler um 1 erhöhen\n",
    "\n",
    "spielbrett[2][2] = 'X'  # Spieler X macht den letzten Zug\n",
    "zug_zaehler += 1  # Arithmetik: Spielzugzähler um 1 erhöhen\n",
    "\n",
    "# Überprüfen, ob das Spiel unentschieden ist\n",
    "if zug_zaehler == 9:  # Arithmetik: Wenn 9 Züge gemacht wurden, ist das Spiel unentschieden\n",
    "    print(\"Das Spiel endet unentschieden!\")\n",
    "else:\n",
    "    print(\"Das Spiel ist noch nicht unentschieden.\")"
   ]
  },
  {
   "cell_type": "markdown",
   "metadata": {},
   "source": [
    "<details>\n",
    "<summary>Ausführliche Erklärung...</summary>\n",
    "\n",
    "- **Initialisierung des Spielbretts**:\n",
    "  - Ein 3x3-Array (`spielbrett`) wird erstellt, in dem alle Felder zunächst leer (`' '`) sind.\n",
    "\n",
    "- **Zähler für Spielzüge**:\n",
    "  - Die Variable `zug_zaehler` startet bei 0 und repräsentiert die Anzahl der bisherigen Spielzüge.\n",
    "\n",
    "- **Spielzüge der Spieler**:\n",
    "  - Jeder Zug eines Spielers (`'X'` oder `'O'`) wird in ein bestimmtes Feld des `spielbrett` eingetragen.\n",
    "  - Nach jedem Zug wird `zug_zaehler` um 1 erhöht (Arithmetik: `zug_zaehler += 1`).\n",
    "\n",
    "- **Überprüfung auf Unentschieden**:\n",
    "  - Nach den Spielzügen wird geprüft, ob `zug_zaehler` den Wert 9 erreicht hat.\n",
    "  - Wenn `zug_zaehler == 9`, sind alle Felder belegt, und das Spiel endet unentschieden.\n",
    "  - Andernfalls ist das Spiel noch offen.\n",
    "\n",
    "- **Ausgabe des Ergebnisses**:\n",
    "  - Je nach Zustand des `zug_zaehler` wird entweder eine Nachricht für ein unentschiedenes Spiel oder eine Fortsetzung des Spiels angezeigt.\n",
    "\n",
    "</details>"
   ]
  },
  {
   "cell_type": "markdown",
   "metadata": {},
   "source": [
    "[Operatoren in C#](./csharp/CSharp_Introduction.de.ipynb#operstoren) →"
   ]
  },
  {
   "cell_type": "markdown",
   "metadata": {},
   "source": [
    "### **Kontrollstrukturen**\n",
    "\n",
    "-   Spielregeln in TicTacToe werden durch Bedingungen und Schleifen gesteuert.\n",
    "-   `if`-Bedingungen prüfen bestimmte Situationen (z.B. Sieg, ungültige Züge).\n",
    "-   `for`-Schleifen steuern den Spielfluss, bis eine Endbedingung (Sieg, Unentschieden) erreicht ist.\n",
    "-   Kontrollstrukturen in Python (z.B.  `if`,  `for`) setzen diese Regeln um, um den Spielstand zu prüfen und das Spiel zu steuern.\n",
    "\n",
    "<details>\n",
    "<summary>Ausführliche Erklärung...</summary>\n",
    "TicTacToe hat klare Regeln, die durch verschiedene Bedingungen und Wiederholungen gesteuert werden können. Beispielsweise muss überprüft werden, ob ein Spieler gewonnen hat, ob das Spielfeld voll ist oder ob ein Zug erlaubt ist. Diese Regeln lassen sich gut mit den Kontrollstrukturen in Python umsetzen. Mit `if`-Bedingungen können wir bestimmte Situationen (z.B. Siegbedingungen) behandeln, während Schleifen (wie `for`) verwendet werden, um das Spiel so lange laufen zu lassen, bis eine Endbedingung (z.B. Sieg oder Unentschieden) erreicht ist.\n",
    "</details>\n",
    "\n",
    "**Konzept:** Kontrollstrukturen steuern den Ablauf eines Programms, wie Bedingungen und Schleifen.\n",
    "\n",
    "**Beispiel in Tic-Tac-Toe:**\n",
    "\n",
    "- **Bedingungen** zur Überprüfung des Gewinnerstatus\n",
    "- **Schleifen** zum Durchlaufen des Boards oder für wiederholte Aufgaben\n",
    "\n",
    "Hier ist ein Beispiel zum zeilenweisen Test auf einen Gewinner:"
   ]
  },
  {
   "cell_type": "code",
   "execution_count": 3,
   "metadata": {},
   "outputs": [
    {
     "name": "stdout",
     "output_type": "stream",
     "text": [
      "Keine drei gleichen Zeichen in den Zeilen gefunden.\n"
     ]
    }
   ],
   "source": [
    "gefunden = False  # Variable, die anzeigt, ob drei gleiche Zeichen gefunden wurden\n",
    "\n",
    "# Schleife, die durch jede Zeile des Spielbretts iteriert\n",
    "for reihe in spielbrett:\n",
    "    # Überprüfung, ob alle drei Zeichen in der aktuellen Zeile gleich sind und nicht leer (nicht ' ')\n",
    "    if reihe[0] == reihe[1] == reihe[2] and reihe[0] != ' ':\n",
    "        gefunden = True  # Setzt die Variable 'gefunden' auf True, wenn eine Zeile mit drei gleichen Zeichen gefunden wurde\n",
    "        print(f\"Drei gleiche Zeichen gefunden: {reihe[0]}\")  # Gibt das Zeichen aus, das in der Zeile dreimal vorkommt\n",
    "\n",
    "# Nach der Schleife wird überprüft, ob keine Zeile mit drei gleichen Zeichen gefunden wurde\n",
    "if not gefunden:\n",
    "    print(\"Keine drei gleichen Zeichen in den Zeilen gefunden.\")  # Ausgabe, wenn kein passendes Zeichen gefunden wurde"
   ]
  },
  {
   "cell_type": "markdown",
   "metadata": {},
   "source": [
    "<details>\n",
    "<summary>Ausführliche Erklärung...</summary>\n",
    "\n",
    "-   **Initialisierung der Variable  `gefunden`:**\n",
    "    \n",
    "    -   Zu Beginn wird die Variable  `gefunden`  auf  `False`  gesetzt. Diese Variable dient als Flag, um festzustellen, ob eine Zeile mit drei gleichen Zeichen gefunden wurde.\n",
    "-   **Schleife über das Spielbrett (`for reihe in spielbrett`):**\n",
    "    \n",
    "    -   Der Code durchläuft jede Zeile (`reihe`) des 2D-Arrays  `spielbrett`.\n",
    "-   **Bedingung zur Überprüfung der Zeilen:**\n",
    "    \n",
    "    -   Innerhalb der Schleife wird mit  `if reihe[0] == reihe[1] == reihe[2] and reihe[0] != ' '`  überprüft, ob alle drei Zeichen in der aktuellen Zeile gleich sind und ob das Zeichen nicht leer (`' '`) ist.\n",
    "    -   Falls diese Bedingung erfüllt ist, bedeutet das, dass drei gleiche Zeichen in der Zeile gefunden wurden.\n",
    "-   **Aktion bei gefundenen Zeichen:**\n",
    "    \n",
    "    -   Wenn drei gleiche Zeichen gefunden werden, wird die Variable  `gefunden`  auf  `True`  gesetzt, um anzuzeigen, dass eine passende Zeile gefunden wurde.\n",
    "    -   Außerdem wird das Zeichen, das dreimal vorkommt, mittels  `print(f\"Drei gleiche Zeichen gefunden: {reihe[0]}\")`  ausgegeben.\n",
    "-   **Überprüfung nach der Schleife:**\n",
    "    \n",
    "    -   Nach dem Durchlaufen aller Zeilen wird überprüft, ob die Variable  `gefunden`  immer noch  `False`  ist, was bedeutet, dass keine Zeile mit drei gleichen Zeichen gefunden wurde.\n",
    "    -   In diesem Fall wird die Meldung  `\"Keine drei gleichen Zeichen in den Zeilen gefunden.\"`  ausgegeben.\n",
    "</details>"
   ]
  },
  {
   "cell_type": "markdown",
   "metadata": {},
   "source": [
    "[Bedingte Anweisungen in C#](./csharp/CSharp_Introduction.de.ipynb#bedingte-anweisungen) →\n",
    "\n",
    "[Schleifen in C#](./csharp/CSharp_Introduction.de.ipynb#schleifen) →"
   ]
  },
  {
   "cell_type": "markdown",
   "metadata": {},
   "source": [
    "### **Funktionen**\n",
    "\n",
    "-   Spielregeln werden in verschiedene Phasen unterteilt (Spielstart, Spielzug, Spielende).\n",
    "-   Jede Phase hat eigene Regeln und Aufgaben.\n",
    "-   Ähnlich wie Funktionen in Python, die spezifische Aufgaben übernehmen und durch Namensgebung und Struktur Zusammenhänge verdeutlichen.\n",
    "-   Jede Funktion repräsentiert eine logische Einheit des Spiels, um Modularität und Wiederverwendbarkeit zu gewährleisten.\n",
    "\n",
    "<details>\n",
    "<summary>Ausführliche Erklärung...</summary>\n",
    "In einem Spiel wie TicTacToe können die Spielregeln in verschiedene Phasen unterteilt werden, die jeweils eigene Aufgaben und Regeln haben. Dies ermöglicht es, die Logik des Spiels klar zu strukturieren und sicherzustellen, dass die richtige Regel zur richtigen Zeit angewendet wird. Ähnlich wie bei Funktionen und Methoden in Python, die zur Modularisierung und Wiederverwendbarkeit des Codes dienen, kann jede Phase des Spiels durch eine eigene Funktion repräsentiert werden.\n",
    "\n",
    "Ein typisches TicTacToe-Spiel könnte in die folgenden Phasen unterteilt werden:\n",
    "\n",
    "1.  **Spielstart:**  Hier wird das Spiel initialisiert, das Spielfeld wird erstellt, und eventuell werden die Spieler eingelesen.\n",
    "2.  **Spielzug:**  In dieser Phase führen die Spieler ihre Züge aus, die Regeln für gültige Züge werden überprüft, und das Spielfeld wird aktualisiert.\n",
    "3.  **Spielende:**  Es wird überprüft, ob ein Spieler gewonnen hat oder ob das Spiel unentschieden ist, und das Spiel wird entsprechend beendet.\n",
    "</details>\n",
    "\n",
    "**Konzept:** Funktionen sind wiederverwendbare Codeblöcke, die eine bestimmte Aufgabe erledigen.\n",
    "\n",
    "**Beispiel in Tic-Tac-Toe:**\n",
    "\n",
    "Schauen wir uns nun ein Beispiel in Python an, das diese Struktur mit Funktionen umsetzt:\n"
   ]
  },
  {
   "cell_type": "code",
   "execution_count": 4,
   "metadata": {},
   "outputs": [
    {
     "name": "stdout",
     "output_type": "stream",
     "text": [
      "Willkommen zu TicTacToe!\n",
      "X| | \n",
      " | | \n",
      " | | \n",
      "X|O| \n",
      " | | \n",
      " | | \n",
      "X|O|X\n",
      " | | \n",
      " | | \n",
      "X|O|X\n",
      "O| | \n",
      " | | \n",
      "X|O|X\n",
      "O|X| \n",
      " | | \n",
      "X|O|X\n",
      "O|X| \n",
      "O| | \n",
      "X|O|X\n",
      "O|X| \n",
      "O|X| \n",
      "X|O|X\n",
      "O|X| \n",
      "O|X|O\n",
      "X|O|X\n",
      "O|X|X\n",
      "O|X|O\n",
      "Unentschieden!\n"
     ]
    }
   ],
   "source": [
    "# Funktion für den Spielstart\n",
    "def spiel_starten():\n",
    "    print(\"Willkommen zu TicTacToe!\")\n",
    "    return [\n",
    "        [' ', ' ', ' '],\n",
    "        [' ', ' ', ' '],\n",
    "        [' ', ' ', ' ']\n",
    "    ]\n",
    "\n",
    "# Funktion für den Spielzug\n",
    "def spielzug_machen(spielbrett, spieler):\n",
    "    while True:\n",
    "        try:\n",
    "            zeile = int(input(f\"Spieler {spieler}, wähle eine Zeile (0-2): \"))\n",
    "            spalte = int(input(f\"Spieler {spieler}, wähle eine Spalte (0-2): \"))\n",
    "            if spielbrett[zeile][spalte] == ' ':\n",
    "                spielbrett[zeile][spalte] = spieler\n",
    "                break\n",
    "            else:\n",
    "                print(\"Das Feld ist bereits belegt. Wähle ein anderes Feld.\")\n",
    "        except (ValueError, IndexError):\n",
    "            print(\"Ungültige Eingabe. Bitte wähle eine Zahl zwischen 0 und 2.\")\n",
    "\n",
    "# Funktion für das Spielende\n",
    "def spiel_ende(spielbrett, spieler):\n",
    "    # Überprüfung der Zeilen, Spalten und Diagonalen auf Gewinnbedingungen\n",
    "    for reihe in spielbrett:\n",
    "        if reihe[0] == reihe[1] == reihe[2] and reihe[0] != ' ':\n",
    "            return f\"Spieler {spieler} hat gewonnen!\"\n",
    "    for spalte in range(3):\n",
    "        if spielbrett[0][spalte] == spielbrett[1][spalte] == spielbrett[2][spalte] and spielbrett[0][spalte] != ' ':\n",
    "            return f\"Spieler {spieler} hat gewonnen!\"\n",
    "    if spielbrett[0][0] == spielbrett[1][1] == spielbrett[2][2] and spielbrett[0][0] != ' ':\n",
    "        return f\"Spieler {spieler} hat gewonnen!\"\n",
    "    if spielbrett[0][2] == spielbrett[1][1] == spielbrett[2][0] and spielbrett[0][2] != ' ':\n",
    "        return f\"Spieler {spieler} hat gewonnen!\"\n",
    "    # Überprüfung auf Unentschieden\n",
    "    if all(feld != ' ' for reihe in spielbrett for feld in reihe):\n",
    "        return \"Unentschieden!\"\n",
    "    return None\n",
    "\n",
    "# Hauptspiellogik\n",
    "def tic_tac_toe():\n",
    "    spielbrett = spiel_starten()  # Spiel wird gestartet\n",
    "    aktueller_spieler = 'X'\n",
    "    \n",
    "    while True:\n",
    "        spielzug_machen(spielbrett, aktueller_spieler)  # Spieler macht seinen Zug\n",
    "        ergebnis = spiel_ende(spielbrett, aktueller_spieler)  # Überprüfen, ob das Spiel zu Ende ist\n",
    "        for reihe in spielbrett:\n",
    "            print(\"|\".join(reihe))\n",
    "        if ergebnis:\n",
    "            print(ergebnis)\n",
    "            break\n",
    "        # Spieler wechseln\n",
    "        aktueller_spieler = 'O' if aktueller_spieler == 'X' else 'X'\n",
    "\n",
    "# Spiel starten\n",
    "tic_tac_toe()"
   ]
  },
  {
   "cell_type": "markdown",
   "metadata": {},
   "source": [
    "<details>\n",
    "<summary>Ausführliche Erklärung...</summary>\n",
    "\n",
    "-   **Spielstart:**  Die Funktion  `spiel_starten`  initialisiert das Spielfeld und gibt es zurück. Dies ist ähnlich wie eine Initialisierungsphase, in der alle relevanten Parameter vorbereitet werden.\n",
    "    \n",
    "-   **Spielzug:**  In der Funktion  `spielzug_machen`  wird der Spieler aufgefordert, eine Zeile und eine Spalte zu wählen. Es wird geprüft, ob das gewählte Feld leer ist. Falls nicht, muss der Spieler einen anderen Zug machen. Diese Phase umfasst die Regeln für gültige Züge.\n",
    "    \n",
    "-   **Spielende:**  Die Funktion  `spiel_ende`  überprüft, ob ein Spieler gewonnen hat oder ob das Spiel unentschieden ist. Dies entspricht der Endphase des Spiels, in der überprüft wird, ob eine der Gewinnbedingungen erfüllt wurde.\n",
    "    \n",
    "-   **Vergleich mit Funktionen in Python:**  Jede Phase des Spiels wird durch eine eigene Funktion repräsentiert. Diese Funktionen kapseln die Logik für die jeweiligen Spielphasen und machen den Code modular, wiederverwendbar und leichter verständlich. Durch die Namensgebung und die Strukturierung der Funktionen wird der Zusammenhang zwischen den einzelnen Phasen des Spiels deutlich.\n",
    "</details>"
   ]
  },
  {
   "cell_type": "markdown",
   "metadata": {},
   "source": [
    "[Prozeduren und Funktionen in C#](./csharp/CSharp_Introduction.de.ipynb#prozeduren-und-funktionen) →"
   ]
  },
  {
   "cell_type": "markdown",
   "metadata": {},
   "source": [
    "### **Komplexere Datenstrukturen**\n",
    "\n",
    "-   Datenstrukturen wie Dictionaries speichern Informationen in Schlüssel-Wert-Paaren.\n",
    "-   Sie ermöglichen schnellen Zugriff auf Daten über eindeutige Schlüssel.\n",
    "-   In Python sind Dictionaries nützlich für komplexe Spielzustände, z.B. das Speichern von Spielergebnissen oder Statistiken.\n",
    "-   Dictionaries bieten flexible und strukturierte Datenspeicherung im Vergleich zu einfachen Listen oder Arrays.\n",
    "\n",
    "<details>\n",
    "<summary>Ausführliche Erklärung...</summary>\n",
    "In einem Spiel wie TicTacToe können Dictionaries verwendet werden, um Informationen wie die Spielergebnisse, Statistiken oder Spielfelder zu speichern und darauf zuzugreifen. Ein Dictionary ermöglicht es, Werte anhand eines eindeutigen Schlüssels abzurufen, was besonders nützlich ist, wenn man Daten nicht nur in einfachen Listen oder Arrays speichern möchte. Im Gegensatz zu Listen, die über Indexelemente zugreifen, erlaubt ein Dictionary, über benannte Schlüssel direkt auf Werte zuzugreifen.\n",
    "\n",
    "In Python ist ein Dictionary eine eingebaute Datenstruktur, die durch geschweifte Klammern  `{}`  dargestellt wird. Es kann für die Speicherung von Paaren aus Schlüsseln und Werten verwendet werden, wobei der Schlüssel als eindeutiger Bezeichner dient. Dies kann beispielsweise verwendet werden, um den aktuellen Status des Spiels nach Spielern oder Spielfeldern zu strukturieren.\n",
    "</details>\n",
    "\n",
    "**Konzept:** Datenstrukturen organisieren und speichern Daten effizient.\n",
    "\n",
    "**Beispiel in Tic-Tac-Toe:**\n",
    "\n",
    "1. **Datenstruktur `List` für das Board:**\n",
    "   - Das `spielbrett` ist eine Liste von Listen, die den aktuellen Zustand des Spiels speichert.\n",
    "\n",
    "2. **Datenstruktur `Dictionary` für mehrere Spiele:**\n",
    "   - Ein Dictionary kann verwendet werden, um zusätzliche Informationen über das Spiel zu speichern\n",
    "\n",
    "Schauen wir uns ein Codebeispiel an, das ein Dictionary in einem TicTacToe-Spiel verwendet:"
   ]
  },
  {
   "cell_type": "code",
   "execution_count": 6,
   "metadata": {},
   "outputs": [
    {
     "name": "stdout",
     "output_type": "stream",
     "text": [
      "{'Spieler X': 1, 'Spieler O': 0, 'Unentschieden': 1}\n"
     ]
    }
   ],
   "source": [
    "# Dictionary zur Speicherung der Spielergebnisse\n",
    "spielstatistik = {\n",
    "    'Spieler X': 0,\n",
    "    'Spieler O': 0,\n",
    "    'Unentschieden': 0\n",
    "}\n",
    "\n",
    "# Funktion zur Aktualisierung der Spielergebnisse\n",
    "def aktualisiere_statistik(gewinner):\n",
    "    if gewinner in spielstatistik:\n",
    "        spielstatistik[gewinner] += 1  # Erhöhe den Zähler für den Gewinner\n",
    "    else:\n",
    "        print(\"Ungültiger Gewinner\")\n",
    "\n",
    "# Beispielhafte Nutzung\n",
    "aktualisiere_statistik('Spieler X')  # Spieler X gewinnt\n",
    "aktualisiere_statistik('Unentschieden')  # Unentschieden\n",
    "\n",
    "# Ausgabe der aktuellen Spielstatistik\n",
    "print(spielstatistik)"
   ]
  },
  {
   "cell_type": "markdown",
   "metadata": {},
   "source": [
    "<details>\n",
    "<summary>Ausführliche Erklärung...</summary>\n",
    "\n",
    "-   **Datenstruktur Dictionary:**  Hier wird ein Dictionary  `spielstatistik`  verwendet, um die Anzahl der Siege für \"Spieler X\", \"Spieler O\" und \"Unentschieden\" zu speichern. Die Schlüssel sind die Namen der Spielergebnisse, und die Werte sind die Anzahl der Siege.\n",
    "    \n",
    "-   **Arbeiten mit Schlüsseln und Werten:**  In der Funktion  `aktualisiere_statistik`  wird der Zähler für den Gewinner anhand des Schlüssels im Dictionary um 1 erhöht. Dies zeigt, wie einfach und flexibel der Zugriff auf Daten mit einem Dictionary ist.\n",
    "    \n",
    "-   **Vergleich mit Datenstrukturen in Python:**  Ein Dictionary in Python bietet im Vergleich zu einfachen Listen oder Arrays den Vorteil, dass Daten klar strukturiert und leicht zugänglich sind, insbesondere wenn sie komplexer werden. Durch die Verwendung von Schlüsseln ist der Zugriff auf spezifische Daten sehr effizient und leicht nachvollziehbar.\n",
    "</details>"
   ]
  },
  {
   "cell_type": "markdown",
   "metadata": {},
   "source": [
    "### Zusammenfassung der Konzepte:\n",
    "\n",
    "-   **Navigation durch den Text:** Das Lesen von Spielregeln und das Ausführen von Code erfolgen schrittweise. Der Mensch versteht Regeln global, während ein Interpreter Code streng sequentiell verarbeitet.\n",
    "\n",
    "-   **Spielstand speichern und sichtbar machen:**  In TicTacToe wird der Spielstand in einem 2D-Array gespeichert. Dies entspricht der Speicherung von Daten in Variablen und Datentypen in Python, wobei der Zustand des Spiels durch Aktualisierung der Datenstruktur verwaltet wird.\n",
    "    \n",
    "-   **Bedingungen und Schleifen:**  Spielregeln werden durch Bedingungen (`if`) und Wiederholungen (`while`) umgesetzt, um das Spiel zu steuern. Diese Kontrollstrukturen in Python helfen dabei, verschiedene Spielzustände zu prüfen und den Spielfluss zu steuern, z.B. Siegbedingungen oder Spielende.\n",
    "    \n",
    "-   **Arithmetik in Regeln:**  Arithmetische Operationen helfen, Spielregeln umzusetzen, wie das Zählen der Züge oder das Erkennen eines Unentschiedens. In Python entsprechen diese Operationen typischen Berechnungen wie Addition und Vergleichsoperationen.\n",
    "    \n",
    "-   **Phasen des Spiels:**  Spielregeln können in verschiedene Phasen unterteilt werden, z.B. Spielstart, Spielzug und Spielende. Diese Phasen lassen sich mit Funktionen in Python abbilden, die jede Phase klar strukturieren und den Code modular und wiederverwendbar machen.\n",
    "    \n",
    "-   **Komplexere Datenstrukturen (Dictionary):**  Dictionaries in Python speichern Daten in Schlüssel-Wert-Paaren und bieten schnellen Zugriff auf komplexe Spielinformationen, wie z.B. Spielergebnisse. Sie sind nützlich, um strukturierte und flexible Datenverwaltung im Spiel zu ermöglichen."
   ]
  },
  {
   "cell_type": "markdown",
   "metadata": {},
   "source": [
    "[Komplexere Datenstrukturen in C#](./csharp/CSharp_Introduction.de.ipynb#komplexere-datenstrukturen) →"
   ]
  },
  {
   "cell_type": "markdown",
   "metadata": {},
   "source": [
    "← [Programmieren 1](./Programmieren1.de.ipynb#Inhaltsverzeichnis)"
   ]
  }
 ],
 "metadata": {
  "kernelspec": {
   "display_name": "Python 3",
   "language": "python",
   "name": "python3"
  },
  "language_info": {
   "codemirror_mode": {
    "name": "ipython",
    "version": 3
   },
   "file_extension": ".py",
   "mimetype": "text/x-python",
   "name": "python",
   "nbconvert_exporter": "python",
   "pygments_lexer": "ipython3",
   "version": "3.9.13"
  }
 },
 "nbformat": 4,
 "nbformat_minor": 2
}
