{
 "cells": [
  {
   "cell_type": "markdown",
   "metadata": {},
   "source": [
    "# Programmierung und Tic-Tac-Toe\n",
    "\n",
    "<img src=\"Programming_And_TicTacToe.webp\" style=\"width:280px; height:280px;\">\n",
    "\n",
    "## Einleitung: Die Spielregeln von Tic-Tac-Toe\n",
    "\n",
    "Tic-Tac-Toe ist ein einfaches und beliebtes Spiel, das auf einem 3x3-Raster gespielt wird. Zwei Spieler, normalerweise als „X“ und „O“ bezeichnet, platzieren abwechselnd ihre Symbole auf dem Raster. Das Ziel ist es, eine Reihe von drei eigenen Symbolen in einer Reihe, Spalte oder Diagonale zu bilden. Der erste Spieler, der dies erreicht, gewinnt das Spiel. Wenn alle Zellen des Rasters besetzt sind und niemand gewonnen hat, endet das Spiel unentschieden.\n",
    "\n",
    "## Grundlegende Programmierkonzepte mit Tic-Tac-Toe\n",
    "\n",
    "### 1. **Variablen**\n",
    "\n",
    "**Konzept:** Variablen sind Speicherorte für Werte, die sich im Laufe des Programms ändern können.\n",
    "\n",
    "**Beispiel in Tic-Tac-Toe:**"
   ]
  },
  {
   "cell_type": "code",
   "execution_count": 1,
   "metadata": {},
   "outputs": [],
   "source": [
    "# Das Board ist ein 2D-Array, das den Zustand des Spiels speichert.\n",
    "board = [\n",
    "    [' ', ' ', ' '],  # Erste Reihe\n",
    "    [' ', ' ', ' '],  # Zweite Reihe\n",
    "    [' ', ' ', ' ']   # Dritte Reihe\n",
    "]"
   ]
  },
  {
   "cell_type": "markdown",
   "metadata": {},
   "source": [
    "Hier speichern wir den Zustand des Spiels, wobei `' '` (Leerstelle) die leeren Zellen darstellt.\n",
    "\n",
    "### 2. **Datentypen**\n",
    "\n",
    "**Konzept:** Datentypen definieren die Art der Daten, die in Variablen gespeichert werden können.\n",
    "\n",
    "**Beispiel in Tic-Tac-Toe:**\n",
    "\n",
    "1. **Datentyp `List` für das Board:**\n",
    "   - Das `board` ist eine Liste von Listen (2D-Array), wobei jede innere Liste eine Reihe des Boards darstellt. Die Elemente der Listen sind Zeichen (`'X'`, `'O'` oder `' '`).\n",
    "\n",
    "2. **Datentyp `String` für die Spielerzeichen:**\n",
    "   - Die Spielerzeichen sind Strings (`'X'` und `'O'`), die in den Zellen des Boards gespeichert werden.\n",
    "\n",
    "Hier ist ein Beispiel, wie du das Board initialisieren und ein Spielbrett drucken könntest:"
   ]
  },
  {
   "cell_type": "code",
   "execution_count": 2,
   "metadata": {},
   "outputs": [
    {
     "name": "stdout",
     "output_type": "stream",
     "text": [
      "X\n"
     ]
    }
   ],
   "source": [
    "# Definiere die Variable player1 und speichere in ihr den String X\n",
    "player1 = 'X'\n",
    "\n",
    "# Setze den Wert auf dem Board in der Mitte auf den Wert von Variable player1\n",
    "board[1][1] = player1\n",
    "\n",
    "print(player1)"
   ]
  },
  {
   "cell_type": "markdown",
   "metadata": {},
   "source": [
    "**Erklärung:**\n",
    "- `board` ist eine Liste von Listen, wobei jede Liste eine Reihe auf dem Tic-Tac-Toe-Board darstellt.\n",
    "- `row` in der Schleife ist eine Liste von Zeichen (Strings).\n",
    "- `' | '.join(row)` verbindet die Zeichen in einer Reihe zu einem String, der dann gedruckt wird.\n",
    "\n",
    "### 3. **Kontrollstrukturen**\n",
    "\n",
    "**Konzept:** Kontrollstrukturen steuern den Ablauf eines Programms, wie Bedingungen und Schleifen.\n",
    "\n",
    "**Beispiel in Tic-Tac-Toe:**\n",
    "\n",
    "- **Bedingungen** zur Überprüfung des Gewinnerstatus:"
   ]
  },
  {
   "cell_type": "code",
   "execution_count": 3,
   "metadata": {},
   "outputs": [
    {
     "name": "stdout",
     "output_type": "stream",
     "text": [
      "None\n"
     ]
    }
   ],
   "source": [
    "def check_winner(board):\n",
    "    # Prüfen der Diagonalen\n",
    "    if board[0][0] == board[1][1] == board[2][2] != ' ':\n",
    "        return board[0][0]\n",
    "    if board[0][2] == board[1][1] == board[2][0] != ' ':\n",
    "        return board[0][2]\n",
    "    \n",
    "    return None  # Kein Gewinner\n",
    "\n",
    "print(check_winner(board))"
   ]
  },
  {
   "cell_type": "markdown",
   "metadata": {},
   "source": [
    "- **Schleifen** zum Durchlaufen des Boards oder für wiederholte Aufgaben:"
   ]
  },
  {
   "cell_type": "code",
   "execution_count": 6,
   "metadata": {},
   "outputs": [
    {
     "name": "stdout",
     "output_type": "stream",
     "text": [
      "  |   |  \n",
      "---------\n",
      "  | X |  \n",
      "---------\n",
      "  |   |  \n",
      "---------\n"
     ]
    }
   ],
   "source": [
    "def print_board(board):\n",
    "    for row in board:\n",
    "        # Druckt jede Zeile des Boards, die durch ' | ' getrennt ist.\n",
    "        print(' | '.join(row))\n",
    "        print('-' * 9)  # Trennt die Reihen durch eine Linie\n",
    "\n",
    "print_board(board)"
   ]
  },
  {
   "cell_type": "markdown",
   "metadata": {},
   "source": [
    "### 4. **Funktionen**\n",
    "\n",
    "**Konzept:** Funktionen sind wiederverwendbare Codeblöcke, die eine bestimmte Aufgabe erledigen.\n",
    "\n",
    "**Beispiel in Tic-Tac-Toe:**\n",
    "\n",
    "- **Funktion** zum Platzieren eines Zuges:\n"
   ]
  },
  {
   "cell_type": "code",
   "execution_count": 7,
   "metadata": {},
   "outputs": [
    {
     "name": "stdout",
     "output_type": "stream",
     "text": [
      "Die Zelle ist bereits besetzt!\n"
     ]
    }
   ],
   "source": [
    "def place_move(board, row, col, player):\n",
    "    # Überprüft, ob die gewählte Zelle leer ist.\n",
    "    if board[row][col] == ' ':\n",
    "        board[row][col] = player  # Setzt das Zeichen des Spielers in die Zelle\n",
    "    else:\n",
    "        print(\"Die Zelle ist bereits besetzt!\")  # Informiert, wenn die Zelle nicht leer ist\n",
    "\n",
    "place_move(board, 1, 1, 'O')"
   ]
  },
  {
   "cell_type": "markdown",
   "metadata": {},
   "source": [
    "### 5. **Datenstrukturen**\n",
    "\n",
    "**Konzept:** Datenstrukturen organisieren und speichern Daten effizient.\n",
    "\n",
    "**Beispiel in Tic-Tac-Toe:**\n",
    "\n",
    "1. **Datenstruktur `List` für das Board:**\n",
    "   - Das `board` ist eine Liste von Listen, die den aktuellen Zustand des Spiels speichert.\n",
    "\n",
    "2. **Datenstruktur `Dictionary` für Spielstatus und Züge:**\n",
    "   - Ein Dictionary kann verwendet werden, um zusätzliche Informationen über das Spiel zu speichern, wie z.B. die Zuganzahl und wer an der Reihe ist.\n",
    "\n",
    "Hier erweitern wir das Tic-Tac-Toe-Beispiel um ein Dictionary, das zusätzliche Spielinformationen speichert:"
   ]
  },
  {
   "cell_type": "code",
   "execution_count": 9,
   "metadata": {},
   "outputs": [
    {
     "name": "stdout",
     "output_type": "stream",
     "text": [
      "  |   |  \n",
      "---------\n",
      "  |   |  \n",
      "---------\n",
      "  |   |  \n",
      "---------\n"
     ]
    },
    {
     "name": "stdout",
     "output_type": "stream",
     "text": [
      "X |   |  \n",
      "---------\n",
      "  |   |  \n",
      "---------\n",
      "  |   |  \n",
      "---------\n",
      "X |   |  \n",
      "---------\n",
      "  | O |  \n",
      "---------\n",
      "  |   |  \n",
      "---------\n",
      "X |   |  \n",
      "---------\n",
      "  | O |  \n",
      "---------\n",
      "  | X |  \n",
      "---------\n",
      "X |   |  \n",
      "---------\n",
      "O | O |  \n",
      "---------\n",
      "  | X |  \n",
      "---------\n",
      "X | X |  \n",
      "---------\n",
      "O | O |  \n",
      "---------\n",
      "  | X |  \n",
      "---------\n",
      "X | X |  \n",
      "---------\n",
      "O | O | O\n",
      "---------\n",
      "  | X |  \n",
      "---------\n",
      "Spieler O hat gewonnen!\n"
     ]
    }
   ],
   "source": [
    "# Initialisiere das Spiel mit einem Dictionary\n",
    "game_state = {\n",
    "    'board': [[' ' for _ in range(3)] for _ in range(3)],  # Board als 2D-Array\n",
    "    'current_player': 'X',  # Der aktuelle Spieler\n",
    "    'move_count': 0  # Zähler für die Anzahl der Züge\n",
    "}\n",
    "\n",
    "# Funktion zum Platzieren eines Zuges\n",
    "def place_move(game_state, row, col):\n",
    "    # Zugriff auf das Board aus dem Dictionary\n",
    "    board = game_state['board']\n",
    "    \n",
    "    if board[row][col] == ' ':\n",
    "        board[row][col] = game_state['current_player']\n",
    "        game_state['move_count'] += 1\n",
    "        # Wechseln des Spielers für den nächsten Zug\n",
    "        game_state['current_player'] = 'O' if game_state['current_player'] == 'X' else 'X'\n",
    "    else:\n",
    "        print(\"Die Zelle ist bereits besetzt!\")\n",
    "\n",
    "# Funktion zum Drucken des Boards\n",
    "def print_board(board):\n",
    "    for row in board:\n",
    "        print(' | '.join(row))\n",
    "        print('-' * 9)\n",
    "\n",
    "# Funktion zum Überprüfen des Gewinns\n",
    "def check_winner(board):\n",
    "    # Prüfen der Reihen\n",
    "    for row in board:\n",
    "        if row[0] == row[1] == row[2] != ' ':\n",
    "            return row[0]\n",
    "    \n",
    "    # Prüfen der Spalten\n",
    "    for col in range(3):\n",
    "        if board[0][col] == board[1][col] == board[2][col] != ' ':\n",
    "            return board[0][col]\n",
    "    \n",
    "    # Prüfen der Diagonalen\n",
    "    if board[0][0] == board[1][1] == board[2][2] != ' ':\n",
    "        return board[0][0]\n",
    "    if board[0][2] == board[1][1] == board[2][0] != ' ':\n",
    "        return board[0][2]\n",
    "    \n",
    "    return None\n",
    "\n",
    "# --- Hauptspielschleife ---\n",
    "\n",
    "def main():\n",
    "    while True:\n",
    "        # Aktuelles Board ausdrucken\n",
    "        print_board(game_state['board'])\n",
    "        \n",
    "        # Spielerzug einlesen\n",
    "        try:\n",
    "            row = int(input(f\"Spieler {game_state['current_player']}, wähle die Zeile (0-2): \"))\n",
    "            col = int(input(f\"Spieler {game_state['current_player']}, wähle die Spalte (0-2): \"))\n",
    "            \n",
    "            if not (0 <= row <= 2 and 0 <= col <= 2):\n",
    "                print(\"Ungültige Zeile oder Spalte! Bitte wähle eine Zahl zwischen 0 und 2.\")\n",
    "                continue\n",
    "            \n",
    "            # Zug platzieren\n",
    "            place_move(game_state, row, col)\n",
    "            \n",
    "            # Überprüfen, ob es einen Gewinner gibt\n",
    "            winner = check_winner(game_state['board'])\n",
    "            if winner:\n",
    "                print_board(game_state['board'])\n",
    "                print(f\"Spieler {winner} hat gewonnen!\")\n",
    "                break\n",
    "                      \n",
    "            # Überprüfen, ob das Board voll ist (Unentschieden)\n",
    "            if game_state['move_count'] == 9:\n",
    "                print_board(game_state['board'])\n",
    "                print(\"Das Spiel endet unentschieden!\")\n",
    "                break\n",
    "        \n",
    "        except ValueError:\n",
    "            print(\"Bitte gib eine gültige Zahl ein!\")\n",
    "\n",
    "if __name__ == \"__main__\":\n",
    "    main()"
   ]
  },
  {
   "cell_type": "markdown",
   "metadata": {},
   "source": [
    "### Zusammenfassung der Konzepte:\n",
    "\n",
    "1.  **Variablen:**  Speichern von Werten, wie das  `board`  für das Spielfeld.\n",
    "2.  **Datentypen:**  Listen für das Board und Strings für die Spielerzeichen.\n",
    "3.  **Kontrollstrukturen:**  Bedingungen und Schleifen zur Steuerung des Programmlaufs.\n",
    "4.  **Funktionen:**  Wiederverwendbare Codeblöcke für bestimmte Aufgaben.\n",
    "5.  **Datenstrukturen:**  Listen und Dictionaries zur Organisation und Speicherung von Daten.\n",
    "\n",
    "Mit diesem Programm kannst du die grundlegenden Programmierkonzepte in Python verstehen und anwenden, indem du ein einfaches Tic-Tac-Toe-Spiel implementierst."
   ]
  }
 ],
 "metadata": {
  "kernelspec": {
   "display_name": "Python 3",
   "language": "python",
   "name": "python3"
  },
  "language_info": {
   "codemirror_mode": {
    "name": "ipython",
    "version": 3
   },
   "file_extension": ".py",
   "mimetype": "text/x-python",
   "name": "python",
   "nbconvert_exporter": "python",
   "pygments_lexer": "ipython3",
   "version": "3.10.5"
  }
 },
 "nbformat": 4,
 "nbformat_minor": 2
}
