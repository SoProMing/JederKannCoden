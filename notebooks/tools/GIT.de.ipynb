{
 "cells": [
  {
   "cell_type": "markdown",
   "id": "d7d9b20a",
   "metadata": {},
   "source": [
    "[Jeder kann coden](../programming/abstract/Contents.de.ipynb) / [Programmieren & TicTacToe](../programming/Programming_And_TicTacToe.de.ipynb)\n",
    "\n",
    "# Quellcodeverwaltung mit GIT\n",
    "\n",
    "<table border=\"0\">\n",
    "  <tr>\n",
    "    <td>\n",
    "        <img src=\"GIT.jpeg\">\n",
    "    </td>\n",
    "    <td rowspan=\"2\">\n",
    "        <a href=\"https://miro.com/app/board/uXjVPm0lbTo=/?moveToWidget=3458764607889708296&cot=14\"><img src=\"../programming/abstract/Radar.de.jpg\"></a>\n",
    "    </td>\n",
    "  </tr>\n",
    "  <tr>\n",
    "    <td>\n",
    "      <a href=\"https://git-scm.com/book/de/v2\">Offizielles Git Buch (Deutsch)</a><br>\n",
    "      <a href=\"https://learngitbranching.js.org/\">Interaktives Git-Tutorial im Browser</a><br>\n",
    "      <a href=\"https://www.atlassian.com/de/git/tutorials/what-is-git\">Was ist Git? (Atlassian Guide)</a><br>\n",
    "      <a href=\"https://www.git-tower.com/learn/git/ebook/de/command-line/introduction\">Tower Git-Einsteigerbuch (Deutsch)</a><br>\n",
    "      <a href=\"https://guides.github.com/introduction/git-handbook/\">GitHub Git-Handbuch (Englisch)</a><br>\n",
    "      <a href=\"https://www.markdownguide.org/basic-syntax/\">Markdown Syntax Guide</a><br>\n",
    "      <a href=\"https://jupyter-notebook.readthedocs.io/en/stable/\">Offizielle Jupyter Notebook Dokumentation</a><br>\n",
    "      <a href=\"https://www.dataquest.io/blog/jupyter-notebook-tips-tricks-shortcuts/\">Jupyter-Tipps & Tricks (Dataquest)</a><br>\n",
    "      <a href=\"https://www.gitkraken.com/learn/git/problems/merge-conflict\">Git Merge-Konflikte verstehen & lösen</a><br>\n",
    "      <a href=\"https://ohmygit.org/\">Oh My Git! – Lernspiel zu Git</a><br>\n",
    "      <a href=\"https://www.codecademy.com/learn/learn-git\">Git-Kurs auf Codecademy (Englisch)</a><br>\n",
    "      <a href=\"https://github.com/\">GitHub – Plattform für Git-Repositories</a><br>\n",
    "    </td>\n",
    "  </tr>\n",
    "</table>"
   ]
  },
  {
   "cell_type": "markdown",
   "id": "5ac15e6d",
   "metadata": {},
   "source": [
    "## Einleitung\n",
    "\n",
    "**Git** ist ein **Versionskontrollsystem**. Es hilft dir, den Verlauf deines Codes oder Projekts zu speichern, Änderungen rückgängig zu machen und mit anderen zusammenzuarbeiten.\n",
    "\n",
    "Stell dir Git wie ein „Zeitreise-Werkzeug“ für deinen Code vor – du kannst jederzeit sehen, wer was geändert hat und in welchem Zustand dein Projekt früher war.\n",
    "\n",
    "## Voraussetzungen\n",
    "\n",
    "Du brauchst:\n",
    "- Git installiert ([Download hier](https://git-scm.com/))\n",
    "- Ein Terminal (z. B. die Eingabeaufforderung auf Windows oder das Terminal auf macOS/Linux)\n",
    "- Optional: Ein GitHub-Account (für Online-Zusammenarbeit)\n",
    "\n",
    "## Typischer Ablauf bei der Arbeit mit Git\n",
    "\n",
    "### 1. Ein Git-Repository erstellen\n",
    "\n",
    "Du gehst in dein Projektverzeichnis und sagst Git: „Ich möchte, dass du ab jetzt dieses Projekt überwachst.“\n",
    "\n",
    "```bash\n",
    "git init\n",
    "```\n",
    "\n",
    "Dadurch wird ein versteckter `.git`-Ordner angelegt, in dem Git alle Informationen speichert.\n",
    "\n",
    "### 2. Dateien zum Commit vorbereiten\n",
    "\n",
    "Git „beobachtet“ nicht automatisch alle Dateien. Du musst sagen, welche Dateien du sichern möchtest:\n",
    "\n",
    "```bash\n",
    "git add dateiname.txt\n",
    "```\n",
    "\n",
    "Oder alles auf einmal:\n",
    "\n",
    "```bash\n",
    "git add .\n",
    "```\n",
    "\n",
    "### 3. Änderungen speichern – Commit\n",
    "\n",
    "Ein **Commit** ist ein Schnappschuss deines Projekts zu einem bestimmten Zeitpunkt.\n",
    "\n",
    "```bash\n",
    "git commit -m \"Kurze Beschreibung der Änderung\"\n",
    "```\n",
    "\n",
    "Beispiel:\n",
    "\n",
    "```bash\n",
    "git commit -m \"Fügt erste Version der Startseite hinzu\"\n",
    "```\n",
    "\n",
    "### 4. Änderungen ansehen\n",
    "\n",
    "Zeige dir an, was seit dem letzten Commit passiert ist:\n",
    "\n",
    "```bash\n",
    "git status\n",
    "```\n",
    "\n",
    "Oder die genaue Änderung:\n",
    "\n",
    "```bash\n",
    "git diff\n",
    "```\n",
    "\n",
    "## Ein Projekt aus einem bestehenden Repository klonen\n",
    "\n",
    "Wenn du mit einem bestehenden Git-Projekt arbeiten willst (z. B. von GitHub):\n",
    "\n",
    "```bash\n",
    "git clone https://github.com/username/repository.git\n",
    "```\n",
    "\n",
    "Dadurch wird das ganze Projekt lokal auf deinen Rechner kopiert.\n",
    "\n",
    "### Git Client-Tools\n",
    "\n",
    "Es gibt viele Programme, die dir die Arbeit mit Git erleichtern, z. B.:\n",
    "- [GitKraken](https://www.gitkraken.com/)\n",
    "- [Sourcetree](https://www.sourcetreeapp.com/)\n",
    "- [GitHub Desktop](https://desktop.github.com/)\n",
    "\n",
    "Hier ein Beispiel, wie graphische Git-Clients aussehen können:\n",
    "\n",
    "<a href=\"https://miro.com/app/board/o9J_lOJi2o0=/?moveToWidget=3074457357266301234&cot=14\"><img src=\"Sourcetree.jpg\"></a>\n",
    "\n",
    "## Arbeiten mit GitHub (oder GitLab, etc.)\n",
    "\n",
    "Wenn du deine Änderungen online speichern willst, brauchst du ein Remote-Repository.\n",
    "\n",
    "### 1. GitHub-Repository anlegen (z. B. über die Webseite)\n",
    "\n",
    "### 2. Repository verknüpfen:\n",
    "\n",
    "```bash\n",
    "git remote add origin https://github.com/deinname/projekt.git\n",
    "```\n",
    "\n",
    "### 3. Hochladen (Pushen):\n",
    "\n",
    "```bash\n",
    "git push -u origin main\n",
    "```\n",
    "\n",
    "Beim ersten Mal mit `-u`, danach reicht:\n",
    "\n",
    "```bash\n",
    "git push\n",
    "```\n",
    "\n",
    "### Lokales Repository aus Visual Studio publizieren\n",
    "\n",
    "<a href=\"https://miro.com/app/board/o9J_lOJi2o0=/?moveToWidget=3074457359526052526&cot=14\"><img src=\"VS_gitpub.jpg\"></a>\n",
    "\n",
    "## Änderungen herunterladen (Pull)\n",
    "\n",
    "Wenn andere etwas verändert haben, kannst du dir die Änderungen holen:\n",
    "\n",
    "```bash\n",
    "git pull\n",
    "```\n",
    "\n",
    "## Branches – parallele Entwicklungsstränge\n",
    "\n",
    "Ein **Branch** ist wie ein „Alternativ-Zweig“ deines Projekts. Praktisch zum Testen neuer Features, ohne die Hauptversion zu verändern.\n",
    "\n",
    "### Branch erstellen:\n",
    "\n",
    "```bash\n",
    "git checkout -b neuer-branch\n",
    "```\n",
    "\n",
    "### Zurück zum Haupt-Branch:\n",
    "\n",
    "```bash\n",
    "git checkout main\n",
    "```\n",
    "\n",
    "### Änderungen zusammenführen:\n",
    "\n",
    "```bash\n",
    "git merge neuer-branch\n",
    "```\n",
    "\n",
    "### Branching-Modelle\n",
    "\n",
    "Es gibt verschiedene Modelle, wie Branches organisiert werden können, z. B. **Git Flow** oder **GitHub Flow**. Diese helfen, den Überblick zu behalten und die Zusammenarbeit zu strukturieren.\n",
    "\n",
    "<a href=\"https://miro.com/app/board/o9J_lOJi2o0=/?moveToWidget=3074457360820819879&cot=14\"><img src=\"Branching Modell.jpg\"></a>\n",
    "\n",
    "## Häufige Befehle auf einen Blick\n",
    "\n",
    "| Befehl | Bedeutung |\n",
    "|--------|-----------|\n",
    "| `git init` | Neues Git-Repo erstellen |\n",
    "| `git add .` | Alle Änderungen zum Commit vormerken |\n",
    "| `git commit -m \"Nachricht\"` | Änderungen speichern |\n",
    "| `git status` | Aktuellen Stand prüfen |\n",
    "| `git log` | Chronik der Commits |\n",
    "| `git clone URL` | Projekt herunterladen |\n",
    "| `git push` | Änderungen hochladen |\n",
    "| `git pull` | Änderungen herunterladen |\n",
    "| `git checkout branchname` | Branch wechseln |\n",
    "| `git merge branchname` | Branch zusammenführen |\n",
    "\n",
    "## Bonus: Git einfach ausprobieren\n",
    "\n",
    "Du kannst Git kostenlos im Browser ausprobieren – ohne Installation:\n",
    "\n",
    "- https://learngitbranching.js.org/\n",
    "- https://git-school.github.io/visualizing-git/\n",
    "\n",
    "## Git Cheatsheet\n",
    "\n",
    "<a href=\"https://miro.com/app/board/o9J_lOJi2o0=/?moveToWidget=3458764523874833010&cot=14\"><img src=\"Git_cheat_sheet.en.jpg\"></a>"
   ]
  },
  {
   "cell_type": "markdown",
   "id": "4409e570",
   "metadata": {},
   "source": [
    "## Git Konzepte, die hilfreich sind\n",
    "\n",
    "### 1. **.gitignore** Datei\n",
    "\n",
    "Manchmal willst du bestimmte Dateien *nicht* versionieren (z. B. temporäre Dateien, Log-Dateien, IDE-Dateien wie `.vscode/`, `node_modules`, `bin/`, etc.).\n",
    "\n",
    "Dazu legst du eine `.gitignore`-Datei an:\n",
    "\n",
    "```text\n",
    "# Beispiel .gitignore\n",
    "*.log\n",
    "*.tmp\n",
    "node_modules/\n",
    ".vscode/\n",
    "```\n",
    "\n",
    "Git ignoriert diese Dateien dann komplett.\n",
    "\n",
    "### 2. **Undo – Rückgängig machen**\n",
    "\n",
    "#### 🔙 Letzten Commit rückgängig machen (aber Änderungen behalten)\n",
    "\n",
    "```bash\n",
    "git reset --soft HEAD~1\n",
    "```\n",
    "\n",
    "#### 🔙 Letzten Commit rückgängig machen (Änderungen verwerfen!)\n",
    "\n",
    "```bash\n",
    "git reset --hard HEAD~1\n",
    "```\n",
    "\n",
    "⚠️ **Achtung**: `--hard` ist wie „löschen & vergessen“ – mit Vorsicht benutzen!\n",
    "\n",
    "#### 🧽 Arbeitsverzeichnis zurücksetzen\n",
    "\n",
    "```bash\n",
    "git checkout -- datei.txt\n",
    "```\n",
    "\n",
    "Setzt `datei.txt` auf den letzten gespeicherten Stand zurück.\n",
    "\n",
    "### 3. **Tags setzen (z. B. für Versionen)**\n",
    "\n",
    "```bash\n",
    "git tag v1.0\n",
    "git push origin v1.0\n",
    "```\n",
    "\n",
    "So kannst du z. B. Releases markieren.\n",
    "\n",
    "### 4. **Rebase statt Merge** (für aufgeräumte Historien)\n",
    "\n",
    "Ein `merge` kombiniert zwei Zweige inklusive Merge-Commit. `rebase` „setzt“ deine Änderungen auf eine neue Basis und hält die Historie linear.\n",
    "\n",
    "```bash\n",
    "git checkout feature\n",
    "git rebase main\n",
    "```\n",
    "\n",
    "Danach:\n",
    "\n",
    "```bash\n",
    "git checkout main\n",
    "git merge feature\n",
    "```\n",
    "\n",
    "### 5. **Interaktives Rebase (Commits zusammenfassen oder umsortieren)**\n",
    "\n",
    "```bash\n",
    "git rebase -i HEAD~3\n",
    "```\n",
    "\n",
    "Öffnet eine Liste der letzten 3 Commits. Du kannst:\n",
    "\n",
    "- `pick` → so lassen\n",
    "- `squash` → mit vorherigem Commit zusammenfassen\n",
    "- `reword` → Commit-Nachricht ändern\n",
    "\n",
    "### 6. **Staging Area verstehen**\n",
    "\n",
    "Git hat drei „Zustände“:\n",
    "- **Working Directory** → dein aktuelles Projektverzeichnis\n",
    "- **Staging Area (Index)** → was du mit `git add` vorgemerkt hast\n",
    "- **Repository (HEAD)** → was du mit `git commit` gespeichert hast\n",
    "\n",
    "Beispiel:\n",
    "\n",
    "```bash\n",
    "# du änderst eine Datei\n",
    "# git weiß noch nichts davon\n",
    "\n",
    "git status\n",
    "# Datei erscheint als \"modified\"\n",
    "\n",
    "git add datei.txt\n",
    "# Datei kommt in die Staging Area\n",
    "\n",
    "git commit -m \"Update\"\n",
    "# Datei wird ins Repository geschrieben\n",
    "```\n",
    "\n",
    "## SSH statt Passwort\n",
    "\n",
    "Wenn du mit GitHub arbeitest, kannst du statt Benutzername/Passwort einen **SSH-Schlüssel** verwenden:\n",
    "\n",
    "```bash\n",
    "ssh-keygen -t ed25519 -C \"deinname@example.com\"\n",
    "```\n",
    "\n",
    "Dann deinen öffentlichen Schlüssel (`~/.ssh/id_ed25519.pub`) bei GitHub unter **Settings > SSH Keys** hinzufügen.\n",
    "\n",
    "Danach kannst du klonen über:\n",
    "\n",
    "```bash\n",
    "git clone git@github.com:benutzer/repo.git\n",
    "```\n",
    "\n",
    "## Weitere Tools und Tipps\n",
    "\n",
    "- **Git GUI Tools**: z. B. **GitKraken**, **Sourcetree**, **GitHub Desktop**\n",
    "- **Git Hooks**: Automatisiere Prüfungen vor dem Commit (z. B. Linting)\n",
    "- **Aliase setzen**: `git config --global alias.lg \"log --oneline --graph\"`\n",
    "\n",
    "## Merksatz für die Praxis\n",
    "\n",
    "> **Add → Commit → Push**  \n",
    "> Denke wie ein Autor: Entwürfe schreiben (add), speichern (commit), veröffentlichen (push)"
   ]
  },
  {
   "cell_type": "markdown",
   "id": "44620d86",
   "metadata": {},
   "source": [
    "## Cheatsheet\n",
    "\n",
    "Hier ist ein **Git-Cheatsheet** als übersichtliche Tabelle – ideal für Einsteiger und zum Nachschlagen:\n",
    "\n",
    "| **Befehl**                                  | **Beschreibung**                                           |\n",
    "|--------------------------------------------|------------------------------------------------------------|\n",
    "| `git init`                                  | Neues Git-Repository im aktuellen Ordner erstellen         |\n",
    "| `git clone <URL>`                           | Bestehendes Repository (z. B. von GitHub) klonen            |\n",
    "| `git status`                                | Zeigt Status der Arbeitsverzeichnisse und Staging Area     |\n",
    "| `git add <datei>`                           | Datei zur Staging Area hinzufügen                          |\n",
    "| `git add .`                                  | Alle Änderungen zur Staging Area hinzufügen                |\n",
    "| `git commit -m \"Nachricht\"`                 | Änderungen dauerhaft speichern (Commit)                    |\n",
    "| `git log`                                   | Liste der Commits anzeigen                                 |\n",
    "| `git diff`                                  | Unterschiede seit letztem Commit anzeigen                  |\n",
    "| `git branch`                                | Alle Branches anzeigen                                     |\n",
    "| `git branch <name>`                         | Neuen Branch erstellen                                     |\n",
    "| `git checkout <branch>`                     | Zu einem anderen Branch wechseln                           |\n",
    "| `git checkout -b <branch>`                  | Branch erstellen und direkt wechseln                       |\n",
    "| `git merge <branch>`                        | Änderungen von anderem Branch in aktuellen übernehmen      |\n",
    "| `git pull`                                  | Änderungen vom Remote-Repository holen und integrieren     |\n",
    "| `git push`                                  | Änderungen zum Remote-Repository hochladen                 |\n",
    "| `git push -u origin <branch>`               | Neuen Branch zum Remote hinzufügen                         |\n",
    "| `git remote -v`                             | Zeigt verknüpfte Remote-Repositories                       |\n",
    "| `git remote add origin <URL>`               | Remote-Repository hinzufügen                               |\n",
    "| `git reset --soft HEAD~1`                  | Letzten Commit rückgängig machen (Änderungen behalten)     |\n",
    "| `git reset --hard HEAD~1`                  | Letzten Commit rückgängig machen (Änderungen verwerfen)    |\n",
    "| `git checkout -- <datei>`                   | Datei zurücksetzen (auf letzte Version)                    |\n",
    "| `git stash`                                 | Änderungen vorübergehend verstecken                        |\n",
    "| `git stash pop`                             | Versteckte Änderungen wiederherstellen                     |\n",
    "| `git tag v1.0`                              | Tag (z. B. Version) setzen                                 |\n",
    "| `git rebase <branch>`                       | Änderungen auf anderen Branch „neu aufbauen“               |\n",
    "| `git rebase -i HEAD~n`                      | Interaktives Rebase der letzten n Commits                  |\n",
    "| `git config --global user.name \"Name\"`      | Git-Nutzername global festlegen                            |\n",
    "| `git config --global user.email \"Email\"`    | Git-E-Mail global festlegen                                |\n",
    "| `git config --global alias.st status`       | Alias erstellen (hier: `git st` = `git status`)            |"
   ]
  },
  {
   "cell_type": "markdown",
   "id": "464e4504",
   "metadata": {},
   "source": [
    "## Übung\n",
    "\n",
    "> In dieser Übung erzeugst du ein temporäres Git-Repository, führst parallele Änderungen aus und löst einen Merge-Konflikt beim Rebase.\n",
    "\n",
    "### Aufgabe 1: Neues Repository erstellen"
   ]
  },
  {
   "cell_type": "code",
   "execution_count": 1,
   "id": "2001e51d",
   "metadata": {
    "vscode": {
     "languageId": "shellscript"
    }
   },
   "outputs": [
    {
     "name": "stdout",
     "output_type": "stream",
     "text": [
      "Initialized empty Git repository in /Users/starkj/Documents/2hands/Soproming/Repo/temp-repo/.git/\n",
      "[main (root-commit) d09d1ba] Initialer Commit auf main\n",
      " 1 file changed, 1 insertion(+)\n",
      " create mode 100644 beispiel.txt\n",
      "Zeige den aktuellen Stand des Repositories an:\n",
      "* d09d1ba Initialer Commit auf main\n"
     ]
    }
   ],
   "source": [
    "%%bash\n",
    "cd ../../.. # Gehe zum übergeordneten Verzeichnis\n",
    "rm -rf temp-repo # Entferne das temporäre Verzeichnis, falls es existiert\n",
    "# Erstelle ein neues temporäres Git-Repository\n",
    "mkdir temp-repo\n",
    "cd temp-repo\n",
    "git init\n",
    "echo \"Zeile aus main\" > beispiel.txt\n",
    "git add beispiel.txt\n",
    "git commit -m \"Initialer Commit auf main\"\n",
    "echo \"Zeige den aktuellen Stand des Repositories an:\"\n",
    "git log --oneline --graph --all"
   ]
  },
  {
   "cell_type": "markdown",
   "id": "aa77103e",
   "metadata": {},
   "source": [
    "#### Aktueller Stand\n",
    "\n",
    "```mermaid\n",
    "gitGraph\n",
    "   commit id: \"Initial commit\"\n",
    "```\n",
    "\n",
    "### Aufgabe 2: Neuen Feature-Branch anlegen"
   ]
  },
  {
   "cell_type": "code",
   "execution_count": 2,
   "id": "6b9ca87a",
   "metadata": {
    "vscode": {
     "languageId": "shellscript"
    }
   },
   "outputs": [
    {
     "name": "stderr",
     "output_type": "stream",
     "text": [
      "Switched to a new branch 'feature-a'\n"
     ]
    },
    {
     "name": "stdout",
     "output_type": "stream",
     "text": [
      "[feature-a 416c451] Änderung auf feature-a\n",
      " 1 file changed, 1 insertion(+)\n",
      "Zeige den aktuellen Stand des Repositories an:\n",
      "* 416c451 Änderung auf feature-a\n",
      "* d09d1ba Initialer Commit auf main\n"
     ]
    }
   ],
   "source": [
    "%%bash\n",
    "cd ../../../temp-repo\n",
    "git checkout -b feature-a\n",
    "echo \"Änderung aus feature-a\" >> beispiel.txt\n",
    "git commit -am \"Änderung auf feature-a\"\n",
    "echo \"Zeige den aktuellen Stand des Repositories an:\"\n",
    "git log --oneline --graph --all"
   ]
  },
  {
   "cell_type": "markdown",
   "id": "9259c5a6",
   "metadata": {},
   "source": [
    "#### Aktueller Stand\n",
    "\n",
    "```mermaid\n",
    "gitGraph\n",
    "   commit id: \"Initial commit\"\n",
    "   branch feature-a\n",
    "   commit id: \"Änderung auf feature-a\"\n",
    "```\n",
    "\n",
    "### Aufgabe 3: Änderung auf `main` durchführen"
   ]
  },
  {
   "cell_type": "code",
   "execution_count": 3,
   "id": "229fbb87",
   "metadata": {
    "vscode": {
     "languageId": "shellscript"
    }
   },
   "outputs": [
    {
     "name": "stderr",
     "output_type": "stream",
     "text": [
      "Switched to branch 'main'\n"
     ]
    },
    {
     "name": "stdout",
     "output_type": "stream",
     "text": [
      "[main f3e418d] Änderung auf main\n",
      " 1 file changed, 1 insertion(+)\n",
      "Zeige den aktuellen Stand des Repositories an:\n",
      "* f3e418d Änderung auf main\n",
      "| * 416c451 Änderung auf feature-a\n",
      "|/  \n",
      "* d09d1ba Initialer Commit auf main\n"
     ]
    }
   ],
   "source": [
    "%%bash\n",
    "cd ../../../temp-repo\n",
    "git checkout main\n",
    "echo \"Änderung aus main\" >> beispiel.txt\n",
    "git commit -am \"Änderung auf main\"\n",
    "echo \"Zeige den aktuellen Stand des Repositories an:\"\n",
    "git log --oneline --graph --all"
   ]
  },
  {
   "cell_type": "markdown",
   "id": "73163801",
   "metadata": {},
   "source": [
    "#### Aktueller Stand\n",
    "\n",
    "```mermaid\n",
    "gitGraph\n",
    "   commit id: \"Initial commit\"\n",
    "   branch feature-a\n",
    "   commit id: \"Änderung auf feature-a\"\n",
    "   checkout main\n",
    "   commit id: \"Änderung auf main\"\n",
    "```\n",
    "\n",
    "### Aufgabe 4: Rebase mit Konflikt"
   ]
  },
  {
   "cell_type": "code",
   "execution_count": 4,
   "id": "28801d8a",
   "metadata": {
    "vscode": {
     "languageId": "shellscript"
    }
   },
   "outputs": [
    {
     "name": "stderr",
     "output_type": "stream",
     "text": [
      "Switched to branch 'feature-a'\n"
     ]
    },
    {
     "name": "stdout",
     "output_type": "stream",
     "text": [
      "Auto-merging beispiel.txt\n",
      "CONFLICT (content): Merge conflict in beispiel.txt\n"
     ]
    },
    {
     "name": "stderr",
     "output_type": "stream",
     "text": [
      "error: could not apply 416c451... Änderung auf feature-a\n",
      "hint: Resolve all conflicts manually, mark them as resolved with\n",
      "hint: \"git add/rm <conflicted_files>\", then run \"git rebase --continue\".\n",
      "hint: You can instead skip this commit: run \"git rebase --skip\".\n",
      "hint: To abort and get back to the state before \"git rebase\", run \"git rebase --abort\".\n",
      "Could not apply 416c451... Änderung auf feature-a\n"
     ]
    },
    {
     "ename": "CalledProcessError",
     "evalue": "Command 'b'cd ../../../temp-repo\\ngit checkout feature-a\\ngit rebase main\\n'' returned non-zero exit status 1.",
     "output_type": "error",
     "traceback": [
      "\u001b[0;31m---------------------------------------------------------------------------\u001b[0m",
      "\u001b[0;31mCalledProcessError\u001b[0m                        Traceback (most recent call last)",
      "Cell \u001b[0;32mIn[4], line 1\u001b[0m\n\u001b[0;32m----> 1\u001b[0m \u001b[43mget_ipython\u001b[49m\u001b[43m(\u001b[49m\u001b[43m)\u001b[49m\u001b[38;5;241;43m.\u001b[39;49m\u001b[43mrun_cell_magic\u001b[49m\u001b[43m(\u001b[49m\u001b[38;5;124;43m'\u001b[39;49m\u001b[38;5;124;43mbash\u001b[39;49m\u001b[38;5;124;43m'\u001b[39;49m\u001b[43m,\u001b[49m\u001b[43m \u001b[49m\u001b[38;5;124;43m'\u001b[39;49m\u001b[38;5;124;43m'\u001b[39;49m\u001b[43m,\u001b[49m\u001b[43m \u001b[49m\u001b[38;5;124;43m'\u001b[39;49m\u001b[38;5;124;43mcd ../../../temp-repo\u001b[39;49m\u001b[38;5;130;43;01m\\n\u001b[39;49;00m\u001b[38;5;124;43mgit checkout feature-a\u001b[39;49m\u001b[38;5;130;43;01m\\n\u001b[39;49;00m\u001b[38;5;124;43mgit rebase main\u001b[39;49m\u001b[38;5;130;43;01m\\n\u001b[39;49;00m\u001b[38;5;124;43m'\u001b[39;49m\u001b[43m)\u001b[49m\n",
      "File \u001b[0;32m~/Library/Python/3.9/lib/python/site-packages/IPython/core/interactiveshell.py:2517\u001b[0m, in \u001b[0;36mInteractiveShell.run_cell_magic\u001b[0;34m(self, magic_name, line, cell)\u001b[0m\n\u001b[1;32m   2515\u001b[0m \u001b[38;5;28;01mwith\u001b[39;00m \u001b[38;5;28mself\u001b[39m\u001b[38;5;241m.\u001b[39mbuiltin_trap:\n\u001b[1;32m   2516\u001b[0m     args \u001b[38;5;241m=\u001b[39m (magic_arg_s, cell)\n\u001b[0;32m-> 2517\u001b[0m     result \u001b[38;5;241m=\u001b[39m \u001b[43mfn\u001b[49m\u001b[43m(\u001b[49m\u001b[38;5;241;43m*\u001b[39;49m\u001b[43margs\u001b[49m\u001b[43m,\u001b[49m\u001b[43m \u001b[49m\u001b[38;5;241;43m*\u001b[39;49m\u001b[38;5;241;43m*\u001b[39;49m\u001b[43mkwargs\u001b[49m\u001b[43m)\u001b[49m\n\u001b[1;32m   2519\u001b[0m \u001b[38;5;66;03m# The code below prevents the output from being displayed\u001b[39;00m\n\u001b[1;32m   2520\u001b[0m \u001b[38;5;66;03m# when using magics with decorator @output_can_be_silenced\u001b[39;00m\n\u001b[1;32m   2521\u001b[0m \u001b[38;5;66;03m# when the last Python token in the expression is a ';'.\u001b[39;00m\n\u001b[1;32m   2522\u001b[0m \u001b[38;5;28;01mif\u001b[39;00m \u001b[38;5;28mgetattr\u001b[39m(fn, magic\u001b[38;5;241m.\u001b[39mMAGIC_OUTPUT_CAN_BE_SILENCED, \u001b[38;5;28;01mFalse\u001b[39;00m):\n",
      "File \u001b[0;32m~/Library/Python/3.9/lib/python/site-packages/IPython/core/magics/script.py:154\u001b[0m, in \u001b[0;36mScriptMagics._make_script_magic.<locals>.named_script_magic\u001b[0;34m(line, cell)\u001b[0m\n\u001b[1;32m    152\u001b[0m \u001b[38;5;28;01melse\u001b[39;00m:\n\u001b[1;32m    153\u001b[0m     line \u001b[38;5;241m=\u001b[39m script\n\u001b[0;32m--> 154\u001b[0m \u001b[38;5;28;01mreturn\u001b[39;00m \u001b[38;5;28;43mself\u001b[39;49m\u001b[38;5;241;43m.\u001b[39;49m\u001b[43mshebang\u001b[49m\u001b[43m(\u001b[49m\u001b[43mline\u001b[49m\u001b[43m,\u001b[49m\u001b[43m \u001b[49m\u001b[43mcell\u001b[49m\u001b[43m)\u001b[49m\n",
      "File \u001b[0;32m~/Library/Python/3.9/lib/python/site-packages/IPython/core/magics/script.py:314\u001b[0m, in \u001b[0;36mScriptMagics.shebang\u001b[0;34m(self, line, cell)\u001b[0m\n\u001b[1;32m    309\u001b[0m \u001b[38;5;28;01mif\u001b[39;00m args\u001b[38;5;241m.\u001b[39mraise_error \u001b[38;5;129;01mand\u001b[39;00m p\u001b[38;5;241m.\u001b[39mreturncode \u001b[38;5;241m!=\u001b[39m \u001b[38;5;241m0\u001b[39m:\n\u001b[1;32m    310\u001b[0m     \u001b[38;5;66;03m# If we get here and p.returncode is still None, we must have\u001b[39;00m\n\u001b[1;32m    311\u001b[0m     \u001b[38;5;66;03m# killed it but not yet seen its return code. We don't wait for it,\u001b[39;00m\n\u001b[1;32m    312\u001b[0m     \u001b[38;5;66;03m# in case it's stuck in uninterruptible sleep. -9 = SIGKILL\u001b[39;00m\n\u001b[1;32m    313\u001b[0m     rc \u001b[38;5;241m=\u001b[39m p\u001b[38;5;241m.\u001b[39mreturncode \u001b[38;5;129;01mor\u001b[39;00m \u001b[38;5;241m-\u001b[39m\u001b[38;5;241m9\u001b[39m\n\u001b[0;32m--> 314\u001b[0m     \u001b[38;5;28;01mraise\u001b[39;00m CalledProcessError(rc, cell)\n",
      "\u001b[0;31mCalledProcessError\u001b[0m: Command 'b'cd ../../../temp-repo\\ngit checkout feature-a\\ngit rebase main\\n'' returned non-zero exit status 1."
     ]
    }
   ],
   "source": [
    "%%bash\n",
    "cd ../../../temp-repo\n",
    "git checkout feature-a\n",
    "git rebase main"
   ]
  },
  {
   "cell_type": "markdown",
   "id": "e29d4eae",
   "metadata": {},
   "source": [
    "> ⚠️ Jetzt entsteht ein **Konflikt**, weil `beispiel.txt` in beiden Branches verändert wurde.\n",
    "\n",
    "#### Visualisierung des Rebase-Versuchs\n",
    "\n",
    "```mermaid\n",
    "gitGraph\n",
    "   commit id: \"Initial commit\"\n",
    "   commit id: \"Änderung auf main\"\n",
    "   branch feature-a\n",
    "   commit id: \"Änderung auf feature-a (rebased, CONFLICT)\"\n",
    "```\n",
    "\n",
    "### Aufgabe 5: Konflikt auflösen\n",
    "\n",
    "1. Datei `beispiel.txt` bearbeiten:\n",
    "\n",
    "```txt\n",
    "Zeile aus main\n",
    "Änderung aus main\n",
    "Änderung aus feature-a\n",
    "```\n",
    "\n",
    "2. Konflikt beenden:"
   ]
  },
  {
   "cell_type": "code",
   "execution_count": 5,
   "id": "7c09615a",
   "metadata": {
    "vscode": {
     "languageId": "shellscript"
    }
   },
   "outputs": [
    {
     "name": "stdout",
     "output_type": "stream",
     "text": [
      "[detached HEAD bc17928] Änderung auf feature-a\n",
      " 1 file changed, 1 insertion(+)\n"
     ]
    },
    {
     "name": "stderr",
     "output_type": "stream",
     "text": [
      "\u001b[KSuccessfully rebased and updated refs/heads/feature-a.\n"
     ]
    }
   ],
   "source": [
    "%%bash\n",
    "cd ../../../temp-repo\n",
    "git add beispiel.txt\n",
    "GIT_EDITOR=true git rebase --continue # GIT_EDITOR=true überspringt den Editor, was wir hier im Notebook wollen"
   ]
  },
  {
   "cell_type": "markdown",
   "id": "1010c4e9",
   "metadata": {},
   "source": [
    "#### Rebase abgeschlossen\n",
    "\n",
    "```mermaid\n",
    "gitGraph\n",
    "   commit id: \"Initial commit\"\n",
    "   commit id: \"Änderung auf main\"\n",
    "   commit id: \"Änderung auf feature-a (rebased)\"\n",
    "```\n",
    "\n",
    "### Aufgabe 6: Log anzeigen"
   ]
  },
  {
   "cell_type": "code",
   "execution_count": 19,
   "id": "8e70618e",
   "metadata": {
    "vscode": {
     "languageId": "shellscript"
    }
   },
   "outputs": [
    {
     "name": "stdout",
     "output_type": "stream",
     "text": [
      "Zeige den aktuellen Stand des Repositories an:\n",
      "* caf82e8 Änderung auf feature-a\n",
      "* bddfa1d Änderung auf main\n",
      "* d210be7 Initialer Commit auf main\n"
     ]
    }
   ],
   "source": [
    "%%bash\n",
    "cd ../../../temp-repo\n",
    "echo \"Zeige den aktuellen Stand des Repositories an:\"\n",
    "git log --oneline --graph --all"
   ]
  },
  {
   "cell_type": "markdown",
   "id": "e9a9bd4a",
   "metadata": {},
   "source": [
    "➤ **Frage:** Was fällt dir am Verlauf auf?"
   ]
  },
  {
   "cell_type": "markdown",
   "id": "ed111cda",
   "metadata": {},
   "source": [
    "## Konfliktlösung mit KDiff\n",
    "\n",
    "<a href=\"https://miro.com/app/board/o9J_lOJi2o0=/?moveToWidget=3074457357267705130&cot=14\"><img src=\"KDiff.jpg\"></a>"
   ]
  }
 ],
 "metadata": {
  "kernelspec": {
   "display_name": "Python 3",
   "language": "python",
   "name": "python3"
  },
  "language_info": {
   "codemirror_mode": {
    "name": "ipython",
    "version": 3
   },
   "file_extension": ".py",
   "mimetype": "text/x-python",
   "name": "python",
   "nbconvert_exporter": "python",
   "pygments_lexer": "ipython3",
   "version": "3.9.6"
  }
 },
 "nbformat": 4,
 "nbformat_minor": 5
}
