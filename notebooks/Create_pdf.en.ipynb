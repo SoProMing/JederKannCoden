{
 "cells": [
  {
   "cell_type": "markdown",
   "metadata": {},
   "source": [
    "# Create portable version\n",
    "\n",
    "<img src=\"Export_jupiter.webp\" style=\"width:280px; height:280px;\">\n",
    "\n",
    "This page describes and actually impliments, how to make the jupyter notebooks of the whole project portable."
   ]
  },
  {
   "cell_type": "markdown",
   "metadata": {},
   "source": [
    "# Recursive HTML exporting and link replacement\n",
    "\n",
    "This one is in use right now to create linked and working html pages.\n",
    "\n",
    "To achieve this, you can write a Python script that:\n",
    "\n",
    "1. Recursively searches for `.ipynb` files in a directory.\n",
    "2. Exports each `.ipynb` file to an HTML file.\n",
    "3. Replaces links within the HTML files that point to `.ipynb` files with `.html` links (so that the links work correctly in a browser).\n",
    "\n",
    "You can use the following libraries:\n",
    "- `os` or `pathlib` for file traversal.\n",
    "- `nbconvert` for converting `.ipynb` to `.html`.\n",
    "- `re` for regular expressions to replace links in HTML content.\n",
    "\n",
    "## Prerequesits\n",
    "\n",
    "### Install the Required Modules\n",
    "\n",
    "You can install the necessary modules using the following commands in your terminal or command prompt.\n",
    "\n",
    "1.  **Install  `nbconvert`**: This module is used to convert Jupyter notebooks to HTML."
   ]
  },
  {
   "cell_type": "code",
   "execution_count": 1,
   "metadata": {
    "vscode": {
     "languageId": "shellscript"
    }
   },
   "outputs": [
    {
     "name": "stdout",
     "output_type": "stream",
     "text": [
      "Defaulting to user installation because normal site-packages is not writeable\n",
      "Requirement already satisfied: nbconvert in /Library/Frameworks/Python.framework/Versions/3.9/lib/python3.9/site-packages (7.16.4)\n",
      "Requirement already satisfied: beautifulsoup4 in /Library/Frameworks/Python.framework/Versions/3.9/lib/python3.9/site-packages (from nbconvert) (4.12.3)\n",
      "Requirement already satisfied: bleach!=5.0.0 in /Library/Frameworks/Python.framework/Versions/3.9/lib/python3.9/site-packages (from nbconvert) (6.1.0)\n",
      "Requirement already satisfied: defusedxml in /Library/Frameworks/Python.framework/Versions/3.9/lib/python3.9/site-packages (from nbconvert) (0.7.1)\n",
      "Requirement already satisfied: importlib-metadata>=3.6 in /Library/Frameworks/Python.framework/Versions/3.9/lib/python3.9/site-packages (from nbconvert) (8.2.0)\n",
      "Requirement already satisfied: jinja2>=3.0 in /Library/Frameworks/Python.framework/Versions/3.9/lib/python3.9/site-packages (from nbconvert) (3.1.4)\n",
      "Requirement already satisfied: jupyter-core>=4.7 in /Library/Frameworks/Python.framework/Versions/3.9/lib/python3.9/site-packages (from nbconvert) (5.7.2)\n",
      "Requirement already satisfied: jupyterlab-pygments in /Library/Frameworks/Python.framework/Versions/3.9/lib/python3.9/site-packages (from nbconvert) (0.3.0)\n",
      "Requirement already satisfied: markupsafe>=2.0 in /Library/Frameworks/Python.framework/Versions/3.9/lib/python3.9/site-packages (from nbconvert) (2.1.5)\n",
      "Requirement already satisfied: mistune<4,>=2.0.3 in /Library/Frameworks/Python.framework/Versions/3.9/lib/python3.9/site-packages (from nbconvert) (3.0.2)\n",
      "Requirement already satisfied: nbclient>=0.5.0 in /Library/Frameworks/Python.framework/Versions/3.9/lib/python3.9/site-packages (from nbconvert) (0.10.0)\n",
      "Requirement already satisfied: nbformat>=5.7 in /Library/Frameworks/Python.framework/Versions/3.9/lib/python3.9/site-packages (from nbconvert) (5.10.4)\n",
      "Requirement already satisfied: packaging in /Library/Frameworks/Python.framework/Versions/3.9/lib/python3.9/site-packages (from nbconvert) (24.1)\n",
      "Requirement already satisfied: pandocfilters>=1.4.1 in /Library/Frameworks/Python.framework/Versions/3.9/lib/python3.9/site-packages (from nbconvert) (1.5.1)\n",
      "Requirement already satisfied: pygments>=2.4.1 in /Library/Frameworks/Python.framework/Versions/3.9/lib/python3.9/site-packages (from nbconvert) (2.18.0)\n",
      "Requirement already satisfied: tinycss2 in /Library/Frameworks/Python.framework/Versions/3.9/lib/python3.9/site-packages (from nbconvert) (1.3.0)\n",
      "Requirement already satisfied: traitlets>=5.1 in /Library/Frameworks/Python.framework/Versions/3.9/lib/python3.9/site-packages (from nbconvert) (5.14.3)\n",
      "Requirement already satisfied: six>=1.9.0 in /Library/Frameworks/Python.framework/Versions/3.9/lib/python3.9/site-packages (from bleach!=5.0.0->nbconvert) (1.16.0)\n",
      "Requirement already satisfied: webencodings in /Library/Frameworks/Python.framework/Versions/3.9/lib/python3.9/site-packages (from bleach!=5.0.0->nbconvert) (0.5.1)\n",
      "Requirement already satisfied: zipp>=0.5 in /Library/Frameworks/Python.framework/Versions/3.9/lib/python3.9/site-packages (from importlib-metadata>=3.6->nbconvert) (3.19.2)\n",
      "Requirement already satisfied: platformdirs>=2.5 in /Library/Frameworks/Python.framework/Versions/3.9/lib/python3.9/site-packages (from jupyter-core>=4.7->nbconvert) (4.2.2)\n",
      "Requirement already satisfied: jupyter-client>=6.1.12 in /Library/Frameworks/Python.framework/Versions/3.9/lib/python3.9/site-packages (from nbclient>=0.5.0->nbconvert) (8.6.2)\n",
      "Requirement already satisfied: fastjsonschema>=2.15 in /Library/Frameworks/Python.framework/Versions/3.9/lib/python3.9/site-packages (from nbformat>=5.7->nbconvert) (2.20.0)\n",
      "Requirement already satisfied: jsonschema>=2.6 in /Library/Frameworks/Python.framework/Versions/3.9/lib/python3.9/site-packages (from nbformat>=5.7->nbconvert) (4.23.0)\n",
      "Requirement already satisfied: soupsieve>1.2 in /Library/Frameworks/Python.framework/Versions/3.9/lib/python3.9/site-packages (from beautifulsoup4->nbconvert) (2.5)\n",
      "Requirement already satisfied: attrs>=22.2.0 in /Library/Frameworks/Python.framework/Versions/3.9/lib/python3.9/site-packages (from jsonschema>=2.6->nbformat>=5.7->nbconvert) (24.1.0)\n",
      "Requirement already satisfied: jsonschema-specifications>=2023.03.6 in /Library/Frameworks/Python.framework/Versions/3.9/lib/python3.9/site-packages (from jsonschema>=2.6->nbformat>=5.7->nbconvert) (2023.12.1)\n",
      "Requirement already satisfied: referencing>=0.28.4 in /Library/Frameworks/Python.framework/Versions/3.9/lib/python3.9/site-packages (from jsonschema>=2.6->nbformat>=5.7->nbconvert) (0.35.1)\n",
      "Requirement already satisfied: rpds-py>=0.7.1 in /Library/Frameworks/Python.framework/Versions/3.9/lib/python3.9/site-packages (from jsonschema>=2.6->nbformat>=5.7->nbconvert) (0.19.1)\n",
      "Requirement already satisfied: python-dateutil>=2.8.2 in /Library/Frameworks/Python.framework/Versions/3.9/lib/python3.9/site-packages (from jupyter-client>=6.1.12->nbclient>=0.5.0->nbconvert) (2.9.0.post0)\n",
      "Requirement already satisfied: pyzmq>=23.0 in /Library/Frameworks/Python.framework/Versions/3.9/lib/python3.9/site-packages (from jupyter-client>=6.1.12->nbclient>=0.5.0->nbconvert) (26.1.0)\n",
      "Requirement already satisfied: tornado>=6.2 in /Library/Frameworks/Python.framework/Versions/3.9/lib/python3.9/site-packages (from jupyter-client>=6.1.12->nbclient>=0.5.0->nbconvert) (6.4.1)\n",
      "Note: you may need to restart the kernel to use updated packages.\n"
     ]
    }
   ],
   "source": [
    "pip install nbconvert"
   ]
  },
  {
   "cell_type": "markdown",
   "metadata": {},
   "source": [
    "2.  **Install  `nbformat`**: This module is used to read and write Jupyter notebook files."
   ]
  },
  {
   "cell_type": "code",
   "execution_count": 2,
   "metadata": {
    "vscode": {
     "languageId": "shellscript"
    }
   },
   "outputs": [
    {
     "name": "stdout",
     "output_type": "stream",
     "text": [
      "Defaulting to user installation because normal site-packages is not writeable\n",
      "Requirement already satisfied: nbformat in /Library/Frameworks/Python.framework/Versions/3.9/lib/python3.9/site-packages (5.10.4)\n",
      "Requirement already satisfied: fastjsonschema>=2.15 in /Library/Frameworks/Python.framework/Versions/3.9/lib/python3.9/site-packages (from nbformat) (2.20.0)\n",
      "Requirement already satisfied: jsonschema>=2.6 in /Library/Frameworks/Python.framework/Versions/3.9/lib/python3.9/site-packages (from nbformat) (4.23.0)\n",
      "Requirement already satisfied: jupyter-core!=5.0.*,>=4.12 in /Library/Frameworks/Python.framework/Versions/3.9/lib/python3.9/site-packages (from nbformat) (5.7.2)\n",
      "Requirement already satisfied: traitlets>=5.1 in /Library/Frameworks/Python.framework/Versions/3.9/lib/python3.9/site-packages (from nbformat) (5.14.3)\n",
      "Requirement already satisfied: attrs>=22.2.0 in /Library/Frameworks/Python.framework/Versions/3.9/lib/python3.9/site-packages (from jsonschema>=2.6->nbformat) (24.1.0)\n",
      "Requirement already satisfied: jsonschema-specifications>=2023.03.6 in /Library/Frameworks/Python.framework/Versions/3.9/lib/python3.9/site-packages (from jsonschema>=2.6->nbformat) (2023.12.1)\n",
      "Requirement already satisfied: referencing>=0.28.4 in /Library/Frameworks/Python.framework/Versions/3.9/lib/python3.9/site-packages (from jsonschema>=2.6->nbformat) (0.35.1)\n",
      "Requirement already satisfied: rpds-py>=0.7.1 in /Library/Frameworks/Python.framework/Versions/3.9/lib/python3.9/site-packages (from jsonschema>=2.6->nbformat) (0.19.1)\n",
      "Requirement already satisfied: platformdirs>=2.5 in /Library/Frameworks/Python.framework/Versions/3.9/lib/python3.9/site-packages (from jupyter-core!=5.0.*,>=4.12->nbformat) (4.2.2)\n",
      "Note: you may need to restart the kernel to use updated packages.\n"
     ]
    }
   ],
   "source": [
    "pip install nbformat"
   ]
  },
  {
   "cell_type": "markdown",
   "metadata": {},
   "source": [
    "\n",
    "Here's an outline of the script:\n",
    "\n",
    "### Script: Convert and Modify Links in HTML"
   ]
  },
  {
   "cell_type": "code",
   "execution_count": 33,
   "metadata": {},
   "outputs": [],
   "source": [
    "import os\n",
    "import nbformat\n",
    "from nbconvert import HTMLExporter\n",
    "import re\n",
    "\n",
    "def convert_ipynb_to_html(ipynb_file):\n",
    "    # Load the notebook\n",
    "    with open(ipynb_file, 'r', encoding='utf-8') as f:\n",
    "        notebook = nbformat.read(f, as_version=4)\n",
    "    \n",
    "    # Convert to HTML\n",
    "    html_exporter = HTMLExporter()\n",
    "    (body, resources) = html_exporter.from_notebook_node(notebook)\n",
    "    \n",
    "    # Define the HTML filename\n",
    "    html_filename = os.path.splitext(ipynb_file)[0] + '.html'\n",
    "\n",
    "    if os.path.isfile(html_filename):\n",
    "        os.remove(html_filename)\n",
    "    \n",
    "    # Write the HTML file in the same directory as the ipynb file\n",
    "    with open(html_filename, 'w', encoding='utf-8') as f:\n",
    "        f.write(body)\n",
    "    \n",
    "    return html_filename\n",
    "\n",
    "def replace_ipynb_links_in_html(html_file, root_dir):\n",
    "    with open(html_file, 'r', encoding='utf-8') as f:\n",
    "        content = f.read()\n",
    "    \n",
    "    # Replace .ipynb links with relative .html links\n",
    "    updated_content = re.sub(\n",
    "        r'(?<=href=[\"\\'])(.*?\\.ipynb)(#.*)?(?=[\"\\'])', \n",
    "        lambda match: make_relative_html_link(match.group(1), match.group(2), root_dir), \n",
    "        content\n",
    "    )\n",
    "    \n",
    "    # Write the updated content back to the file\n",
    "    with open(html_file, 'w', encoding='utf-8') as f:\n",
    "        f.write(updated_content)\n",
    "\n",
    "def make_relative_html_link(ipynb_link, anchor, root_dir):\n",
    "    # Convert .ipynb link to corresponding .html link\n",
    "    html_link = os.path.splitext(ipynb_link)[0] + '.html'\n",
    "    \n",
    "    # Get the absolute path of the html link\n",
    "    absolute_html_path = os.path.abspath(html_link)\n",
    "    \n",
    "    # Remove the root directory (CWD) from the absolute path to make it relative\n",
    "    relative_html_path = os.path.relpath(absolute_html_path, start=root_dir)\n",
    "\n",
    "    if anchor:\n",
    "        relative_html_path += anchor\n",
    "    \n",
    "    return relative_html_path\n",
    "\n",
    "def recursive_convert_and_replace_links(root_dir):\n",
    "    # Recursively find .ipynb files\n",
    "    for subdir, dirs, files in os.walk(root_dir):\n",
    "        for file in files:\n",
    "            if file.endswith('.ipynb'):\n",
    "                ipynb_path = os.path.join(subdir, file)\n",
    "                \n",
    "                # Convert to HTML and save it in the same directory\n",
    "                html_file = convert_ipynb_to_html(ipynb_path)\n",
    "                \n",
    "                # Replace .ipynb links with relative .html links, removing the cwd from the path\n",
    "                replace_ipynb_links_in_html(html_file, root_dir)\n",
    "\n",
    "if __name__ == \"__main__\":\n",
    "    # Use the current working directory as the root directory\n",
    "    root_directory = os.getcwd()\n",
    "    \n",
    "    recursive_convert_and_replace_links(root_directory)"
   ]
  },
  {
   "cell_type": "markdown",
   "metadata": {},
   "source": [
    "\n",
    "### How the Script Works:\n",
    "\n",
    "1. **Convert `.ipynb` to `.html`**: \n",
    "   - The `convert_ipynb_to_html` function uses `nbconvert` to convert a Jupyter Notebook (`.ipynb`) to an HTML file and saves it in the `output_dir`.\n",
    "\n",
    "2. **Replace `.ipynb` Links with `.html` Links**:\n",
    "   - The `replace_ipynb_links_in_html` function reads the generated HTML file, finds any links to `.ipynb` files, and replaces them with `.html` links.\n",
    "   - This is done using a regular expression that matches the links in the HTML content.\n",
    "\n",
    "3. **Recursively Process Files**:\n",
    "   - The `recursive_convert_and_replace_links` function walks through the directory tree (`os.walk`) and processes all `.ipynb` files. It calls the conversion and replacement functions for each file found.\n",
    "\n",
    "### Notes:\n",
    "\n",
    "- **File Paths**: Make sure to update the `root_directory` and `output_directory` variables to match your desired input and output paths.\n",
    "- **Dependencies**: You may need to install `nbconvert` and `nbformat` via `pip install nbconvert nbformat`.\n",
    "  \n",
    "This script will help you convert all `.ipynb` files to HTML and ensure that the links between notebooks are correctly pointing to the corresponding `.html` files."
   ]
  },
  {
   "cell_type": "markdown",
   "metadata": {},
   "source": [
    "## Create pdf with chrome headless\n",
    "\n",
    "WiP"
   ]
  },
  {
   "cell_type": "code",
   "execution_count": 30,
   "metadata": {
    "vscode": {
     "languageId": "shellscript"
    }
   },
   "outputs": [
    {
     "name": "stdout",
     "output_type": "stream",
     "text": [
      "[76146:259:1027/095612.882640:ERROR:chrome_browser_main.cc(1141)] The use of Rosetta to run the x64 version of Chromium on Arm is neither tested nor maintained, and unexpected behavior will likely result. Please check that all tools that spawn Chromium are Arm-native.\n",
      "[76146:36099:1027/095616.001720:ERROR:trust_store_mac.cc(821)] Error parsing certificate:\n",
      "ERROR: Failed parsing extensions\n",
      "\n",
      "3300299 bytes written to file output.pdf\n"
     ]
    }
   ],
   "source": [
    "!/Applications/Google\\ Chrome.app/Contents/MacOS/Google\\ Chrome --headless --print-to-pdf-no-header --no-margins --window-size=1280,1024 --print-to-pdf=\"output.pdf\" programming/Programmieren1.de.html"
   ]
  },
  {
   "cell_type": "markdown",
   "metadata": {},
   "source": [
    "## Create pdf with wkhtmltopdf\n",
    "\n",
    "WiP"
   ]
  },
  {
   "cell_type": "code",
   "execution_count": 19,
   "metadata": {
    "vscode": {
     "languageId": "shellscript"
    }
   },
   "outputs": [
    {
     "name": "stdout",
     "output_type": "stream",
     "text": [
      "\u001b[34m==>\u001b[0m \u001b[1mAuto-updating Homebrew...\u001b[0m\n",
      "Adjust how often this is run with HOMEBREW_AUTO_UPDATE_SECS or disable with\n",
      "HOMEBREW_NO_AUTO_UPDATE. Hide these hints with HOMEBREW_NO_ENV_HINTS (see `man brew`).\n",
      "\u001b[33mWarning:\u001b[0m wkhtmltopdf has been deprecated because it is discontinued upstream! It will be disabled on 2024-12-17.\n",
      "\u001b[34m==>\u001b[0m \u001b[1mDownloading https://github.com/wkhtmltopdf/packaging/releases/download/0.12.\u001b[0m\n",
      "\u001b[34m==>\u001b[0m \u001b[1mDownloading from https://objects.githubusercontent.com/github-production-rel\u001b[0m\n",
      "######################################################################### 100.0%\n",
      "\u001b[32m==>\u001b[0m \u001b[1mInstalling Cask \u001b[32mwkhtmltopdf\u001b[39m\u001b[0m\n",
      "\u001b[34m==>\u001b[0m \u001b[1mRunning installer for wkhtmltopdf with sudo; the password may be necessary.\u001b[0m\n",
      "Password:\n",
      "\n"
     ]
    }
   ],
   "source": [
    "!brew install wkhtmltopdf"
   ]
  },
  {
   "cell_type": "code",
   "execution_count": 22,
   "metadata": {
    "vscode": {
     "languageId": "shellscript"
    }
   },
   "outputs": [
    {
     "name": "stdout",
     "output_type": "stream",
     "text": [
      "Loading pages (1/6)\n",
      "Counting pages (2/6)                                                             ] 46%           ] 47%==>                             ] 50%\n",
      "Resolving links (4/6)                                                       \n",
      "Loading headers and footers (5/6)                                           \n",
      "Printing pages (6/6)\n",
      "Done                                          ===============] Page 3 of 3                            \n"
     ]
    }
   ],
   "source": [
    "!wkhtmltopdf --enable-local-file-access --no-stop-slow-scripts --print-media-type programming/Programmieren1.de.html output.pdf"
   ]
  },
  {
   "cell_type": "markdown",
   "metadata": {},
   "source": [
    "# Create with pdfkit\n",
    "\n",
    "WiP"
   ]
  },
  {
   "cell_type": "code",
   "execution_count": 13,
   "metadata": {
    "vscode": {
     "languageId": "shellscript"
    }
   },
   "outputs": [
    {
     "name": "stdout",
     "output_type": "stream",
     "text": [
      "Defaulting to user installation because normal site-packages is not writeable\n",
      "Requirement already satisfied: pdfkit in /Users/starkj/Library/Python/3.9/lib/python/site-packages (1.0.0)\n",
      "Requirement already satisfied: bs4 in /Users/starkj/Library/Python/3.9/lib/python/site-packages (0.0.2)\n",
      "Requirement already satisfied: requests in /Library/Frameworks/Python.framework/Versions/3.9/lib/python3.9/site-packages (2.32.3)\n",
      "Collecting pypdf2\n",
      "  Downloading pypdf2-3.0.1-py3-none-any.whl.metadata (6.8 kB)\n",
      "Requirement already satisfied: beautifulsoup4 in /Library/Frameworks/Python.framework/Versions/3.9/lib/python3.9/site-packages (from bs4) (4.12.3)\n",
      "Requirement already satisfied: charset-normalizer<4,>=2 in /Library/Frameworks/Python.framework/Versions/3.9/lib/python3.9/site-packages (from requests) (3.3.2)\n",
      "Requirement already satisfied: idna<4,>=2.5 in /Library/Frameworks/Python.framework/Versions/3.9/lib/python3.9/site-packages (from requests) (3.7)\n",
      "Requirement already satisfied: urllib3<3,>=1.21.1 in /Library/Frameworks/Python.framework/Versions/3.9/lib/python3.9/site-packages (from requests) (2.2.2)\n",
      "Requirement already satisfied: certifi>=2017.4.17 in /Library/Frameworks/Python.framework/Versions/3.9/lib/python3.9/site-packages (from requests) (2024.7.4)\n",
      "Requirement already satisfied: typing_extensions>=3.10.0.0 in /Library/Frameworks/Python.framework/Versions/3.9/lib/python3.9/site-packages (from pypdf2) (4.12.2)\n",
      "Requirement already satisfied: soupsieve>1.2 in /Library/Frameworks/Python.framework/Versions/3.9/lib/python3.9/site-packages (from beautifulsoup4->bs4) (2.5)\n",
      "Downloading pypdf2-3.0.1-py3-none-any.whl (232 kB)\n",
      "Installing collected packages: pypdf2\n",
      "Successfully installed pypdf2-3.0.1\n",
      "Note: you may need to restart the kernel to use updated packages.\n"
     ]
    }
   ],
   "source": [
    "pip install pdfkit bs4 requests pypdf2"
   ]
  },
  {
   "cell_type": "code",
   "execution_count": 16,
   "metadata": {},
   "outputs": [
    {
     "name": "stdout",
     "output_type": "stream",
     "text": [
      "Converting: ./programming/Programmieren1.de.html\n"
     ]
    },
    {
     "name": "stderr",
     "output_type": "stream",
     "text": [
      "Illegal character in Name Object (b'/\\x91i8\\xf8\\x92_E\\x1e\\x89\\xed\\xff\\xc5\\x06!\\x84\\xf3\\xbd\\xcd~\\x9e')\n",
      "Illegal character in Name Object (b'/f\\xeaQ\\xbd\\x15\\xb4\\x15\\x13\\x9e\\xbc\\x1b\\xad(y\\x98\\xfbP\\xadeF')\n",
      "Illegal character in Name Object (b'/7\\xf5\\xb6n\\r\\x19\\xbe\"\\x8ai\\x9ex\\xb9\\xcfr|#\\x16\\xd2\\xcf')\n",
      "Illegal character in Name Object (b'/\\x9e\\xda#\\xde\\x0cq\\x87\\xdd\\xef\\xd6x\\xe6\\xef\\x18Z\\x90\\xfaPU\\xc2')\n",
      "Illegal character in Name Object (b\"/!\\x01\\xa8e\\xcc\\xd0\\x82\\xa1\\x96\\x9d\\xb1'UT\\xa9p\\x0b'!L\")\n",
      "Illegal character in Name Object (b\"/\\xd9\\x12\\xefl'\\xca\\xcaF2\\xaf<uKs%\\xa8\\xe0\\xde\\x93\\x1e\")\n",
      "Illegal character in Name Object (b'/#\\\\\\xa7J\\xd4\\xfc4\\xe50\\x9e\\x18X\"#\\x1b=\\x7f\\xcf\\x03\\x9e')\n",
      "Illegal character in Name Object (b'/\\xc0%\\xc5|\\x8e\\xfd\\x15\\x05\\xda\\x0f\\xd8\\x13\\x81\\x13\\xc4I\\x8cOOa')\n",
      "Illegal character in Name Object (b'/\\xee\\xc0\\xf3\\xfdj\\xac\\xeb\\x84\\x1f;!\\xb4\\xf8\\x86J\\xa9\\xe2:0\\xa4')\n"
     ]
    },
    {
     "ename": "DeprecationError",
     "evalue": "addBookmark is deprecated and was removed in PyPDF2 3.0.0. Use add_outline_item instead.",
     "output_type": "error",
     "traceback": [
      "\u001b[0;31m---------------------------------------------------------------------------\u001b[0m",
      "\u001b[0;31mDeprecationError\u001b[0m                          Traceback (most recent call last)",
      "Cell \u001b[0;32mIn[16], line 67\u001b[0m\n\u001b[1;32m     65\u001b[0m main_html \u001b[38;5;241m=\u001b[39m \u001b[38;5;124m\"\u001b[39m\u001b[38;5;124mProgrammieren1.de.html\u001b[39m\u001b[38;5;124m\"\u001b[39m  \u001b[38;5;66;03m# Main HTML file to start with\u001b[39;00m\n\u001b[1;32m     66\u001b[0m output_pdf \u001b[38;5;241m=\u001b[39m \u001b[38;5;124m\"\u001b[39m\u001b[38;5;124mmerged_document.pdf\u001b[39m\u001b[38;5;124m\"\u001b[39m\n\u001b[0;32m---> 67\u001b[0m \u001b[43mcreate_pdf_with_toc\u001b[49m\u001b[43m(\u001b[49m\u001b[43mmain_html\u001b[49m\u001b[43m,\u001b[49m\u001b[43m \u001b[49m\u001b[43mbase_folder\u001b[49m\u001b[43m,\u001b[49m\u001b[43m \u001b[49m\u001b[43moutput_pdf\u001b[49m\u001b[43m)\u001b[49m\n",
      "Cell \u001b[0;32mIn[16], line 48\u001b[0m, in \u001b[0;36mcreate_pdf_with_toc\u001b[0;34m(main_html, base_folder, output_pdf)\u001b[0m\n\u001b[1;32m     46\u001b[0m save_as_pdf(html_file, pdf_path)  \u001b[38;5;66;03m# Convert each HTML to a PDF\u001b[39;00m\n\u001b[1;32m     47\u001b[0m merger\u001b[38;5;241m.\u001b[39mappend(pdf_path)  \u001b[38;5;66;03m# Append PDF to the merger\u001b[39;00m\n\u001b[0;32m---> 48\u001b[0m \u001b[43mmerger\u001b[49m\u001b[38;5;241;43m.\u001b[39;49m\u001b[43maddBookmark\u001b[49m\u001b[43m(\u001b[49m\u001b[38;5;124;43mf\u001b[39;49m\u001b[38;5;124;43m\"\u001b[39;49m\u001b[38;5;124;43mPage \u001b[39;49m\u001b[38;5;132;43;01m{\u001b[39;49;00m\u001b[43mpage_number\u001b[49m\u001b[38;5;132;43;01m}\u001b[39;49;00m\u001b[38;5;124;43m: \u001b[39;49m\u001b[38;5;132;43;01m{\u001b[39;49;00m\u001b[43mos\u001b[49m\u001b[38;5;241;43m.\u001b[39;49m\u001b[43mpath\u001b[49m\u001b[38;5;241;43m.\u001b[39;49m\u001b[43mbasename\u001b[49m\u001b[43m(\u001b[49m\u001b[43mhtml_file\u001b[49m\u001b[43m)\u001b[49m\u001b[38;5;132;43;01m}\u001b[39;49;00m\u001b[38;5;124;43m\"\u001b[39;49m\u001b[43m,\u001b[49m\u001b[43m \u001b[49m\u001b[43mpage_number\u001b[49m\u001b[43m \u001b[49m\u001b[38;5;241;43m-\u001b[39;49m\u001b[43m \u001b[49m\u001b[38;5;241;43m1\u001b[39;49m\u001b[43m)\u001b[49m  \u001b[38;5;66;03m# Add bookmark\u001b[39;00m\n\u001b[1;32m     50\u001b[0m \u001b[38;5;66;03m# Find additional links within the current HTML file\u001b[39;00m\n\u001b[1;32m     51\u001b[0m new_links \u001b[38;5;241m=\u001b[39m get_all_local_links(html_file, base_folder)\n",
      "File \u001b[0;32m~/Library/Python/3.9/lib/python/site-packages/PyPDF2/_merger.py:731\u001b[0m, in \u001b[0;36mPdfMerger.addBookmark\u001b[0;34m(self, title, pagenum, parent, color, bold, italic, fit, *args)\u001b[0m\n\u001b[1;32m    716\u001b[0m \u001b[38;5;28;01mdef\u001b[39;00m \u001b[38;5;21maddBookmark\u001b[39m(\n\u001b[1;32m    717\u001b[0m     \u001b[38;5;28mself\u001b[39m,\n\u001b[1;32m    718\u001b[0m     title: \u001b[38;5;28mstr\u001b[39m,\n\u001b[0;32m   (...)\u001b[0m\n\u001b[1;32m    725\u001b[0m     \u001b[38;5;241m*\u001b[39margs: ZoomArgType,\n\u001b[1;32m    726\u001b[0m ) \u001b[38;5;241m-\u001b[39m\u001b[38;5;241m>\u001b[39m IndirectObject:  \u001b[38;5;66;03m# pragma: no cover\u001b[39;00m\n\u001b[1;32m    727\u001b[0m \u001b[38;5;250m    \u001b[39m\u001b[38;5;124;03m\"\"\"\u001b[39;00m\n\u001b[1;32m    728\u001b[0m \u001b[38;5;124;03m    .. deprecated:: 1.28.0\u001b[39;00m\n\u001b[1;32m    729\u001b[0m \u001b[38;5;124;03m        Use :meth:`add_outline_item` instead.\u001b[39;00m\n\u001b[1;32m    730\u001b[0m \u001b[38;5;124;03m    \"\"\"\u001b[39;00m\n\u001b[0;32m--> 731\u001b[0m     \u001b[43mdeprecation_with_replacement\u001b[49m\u001b[43m(\u001b[49m\u001b[38;5;124;43m\"\u001b[39;49m\u001b[38;5;124;43maddBookmark\u001b[39;49m\u001b[38;5;124;43m\"\u001b[39;49m\u001b[43m,\u001b[49m\u001b[43m \u001b[49m\u001b[38;5;124;43m\"\u001b[39;49m\u001b[38;5;124;43madd_outline_item\u001b[39;49m\u001b[38;5;124;43m\"\u001b[39;49m\u001b[43m,\u001b[49m\u001b[43m \u001b[49m\u001b[38;5;124;43m\"\u001b[39;49m\u001b[38;5;124;43m3.0.0\u001b[39;49m\u001b[38;5;124;43m\"\u001b[39;49m\u001b[43m)\u001b[49m\n\u001b[1;32m    732\u001b[0m     \u001b[38;5;28;01mreturn\u001b[39;00m \u001b[38;5;28mself\u001b[39m\u001b[38;5;241m.\u001b[39madd_outline_item(\n\u001b[1;32m    733\u001b[0m         title,\n\u001b[1;32m    734\u001b[0m         pagenum,\n\u001b[0;32m   (...)\u001b[0m\n\u001b[1;32m    739\u001b[0m         Fit(fit_type\u001b[38;5;241m=\u001b[39mfit, fit_args\u001b[38;5;241m=\u001b[39margs),\n\u001b[1;32m    740\u001b[0m     )\n",
      "File \u001b[0;32m~/Library/Python/3.9/lib/python/site-packages/PyPDF2/_utils.py:369\u001b[0m, in \u001b[0;36mdeprecation_with_replacement\u001b[0;34m(old_name, new_name, removed_in)\u001b[0m\n\u001b[1;32m    363\u001b[0m \u001b[38;5;28;01mdef\u001b[39;00m \u001b[38;5;21mdeprecation_with_replacement\u001b[39m(\n\u001b[1;32m    364\u001b[0m     old_name: \u001b[38;5;28mstr\u001b[39m, new_name: \u001b[38;5;28mstr\u001b[39m, removed_in: \u001b[38;5;28mstr\u001b[39m \u001b[38;5;241m=\u001b[39m \u001b[38;5;124m\"\u001b[39m\u001b[38;5;124m3.0.0\u001b[39m\u001b[38;5;124m\"\u001b[39m\n\u001b[1;32m    365\u001b[0m ) \u001b[38;5;241m-\u001b[39m\u001b[38;5;241m>\u001b[39m \u001b[38;5;28;01mNone\u001b[39;00m:\n\u001b[1;32m    366\u001b[0m \u001b[38;5;250m    \u001b[39m\u001b[38;5;124;03m\"\"\"\u001b[39;00m\n\u001b[1;32m    367\u001b[0m \u001b[38;5;124;03m    Raise an exception that a feature was already removed, but has a replacement.\u001b[39;00m\n\u001b[1;32m    368\u001b[0m \u001b[38;5;124;03m    \"\"\"\u001b[39;00m\n\u001b[0;32m--> 369\u001b[0m     \u001b[43mdeprecation\u001b[49m\u001b[43m(\u001b[49m\u001b[43mDEPR_MSG_HAPPENED\u001b[49m\u001b[38;5;241;43m.\u001b[39;49m\u001b[43mformat\u001b[49m\u001b[43m(\u001b[49m\u001b[43mold_name\u001b[49m\u001b[43m,\u001b[49m\u001b[43m \u001b[49m\u001b[43mremoved_in\u001b[49m\u001b[43m,\u001b[49m\u001b[43m \u001b[49m\u001b[43mnew_name\u001b[49m\u001b[43m)\u001b[49m\u001b[43m)\u001b[49m\n",
      "File \u001b[0;32m~/Library/Python/3.9/lib/python/site-packages/PyPDF2/_utils.py:351\u001b[0m, in \u001b[0;36mdeprecation\u001b[0;34m(msg)\u001b[0m\n\u001b[1;32m    350\u001b[0m \u001b[38;5;28;01mdef\u001b[39;00m \u001b[38;5;21mdeprecation\u001b[39m(msg: \u001b[38;5;28mstr\u001b[39m) \u001b[38;5;241m-\u001b[39m\u001b[38;5;241m>\u001b[39m \u001b[38;5;28;01mNone\u001b[39;00m:\n\u001b[0;32m--> 351\u001b[0m     \u001b[38;5;28;01mraise\u001b[39;00m DeprecationError(msg)\n",
      "\u001b[0;31mDeprecationError\u001b[0m: addBookmark is deprecated and was removed in PyPDF2 3.0.0. Use add_outline_item instead."
     ]
    }
   ],
   "source": [
    "import os\n",
    "from bs4 import BeautifulSoup\n",
    "import pdfkit\n",
    "from PyPDF2 import PdfMerger\n",
    "\n",
    "def get_all_local_links(html_file, base_folder):\n",
    "    \"\"\"\n",
    "    Extracts all local links to other HTML files within the same folder.\n",
    "    \"\"\"\n",
    "    links = set()\n",
    "    with open(html_file, 'r', encoding='utf-8') as file:\n",
    "        soup = BeautifulSoup(file, 'html.parser')\n",
    "        for a_tag in soup.find_all('a', href=True):\n",
    "            href = a_tag['href']\n",
    "            if href.endswith('.html') and os.path.exists(os.path.join(base_folder, href)):\n",
    "                links.add(os.path.join(base_folder, href))\n",
    "    return list(links)\n",
    "\n",
    "def save_as_pdf(input_html, output_pdf):\n",
    "    \"\"\"\n",
    "    Converts a local HTML file to a PDF.\n",
    "    \"\"\"\n",
    "    options = {\n",
    "        'enable-local-file-access': None,\n",
    "        'quiet': ''\n",
    "    }\n",
    "    pdfkit.from_file(input_html, output_pdf, options=options)\n",
    "\n",
    "def create_pdf_with_toc(main_html, base_folder, output_pdf):\n",
    "    \"\"\"\n",
    "    Main function to create a merged PDF with a table of contents.\n",
    "    \"\"\"\n",
    "    visited = set()  # Track visited HTML files to avoid duplicates\n",
    "    links_to_visit = [os.path.join(base_folder, main_html)]\n",
    "    merger = PdfMerger()  # PdfMerger to combine PDFs\n",
    "\n",
    "    page_number = 1\n",
    "    while links_to_visit:\n",
    "        html_file = links_to_visit.pop(0)\n",
    "        if html_file in visited:\n",
    "            continue\n",
    "        visited.add(html_file)\n",
    "        \n",
    "        pdf_path = f\"page_{page_number}.pdf\"\n",
    "        print(f\"Converting: {html_file}\")\n",
    "        save_as_pdf(html_file, pdf_path)  # Convert each HTML to a PDF\n",
    "        merger.append(pdf_path)  # Append PDF to the merger\n",
    "        merger.addBookmark(f\"Page {page_number}: {os.path.basename(html_file)}\", page_number - 1)  # Add bookmark\n",
    "        \n",
    "        # Find additional links within the current HTML file\n",
    "        new_links = get_all_local_links(html_file, base_folder)\n",
    "        for link in new_links:\n",
    "            if link not in visited:\n",
    "                links_to_visit.append(link)\n",
    "\n",
    "        page_number += 1\n",
    "\n",
    "    merger.write(output_pdf)\n",
    "    merger.close()\n",
    "    print(f\"Merged PDF successfully created as '{output_pdf}'\")\n",
    "\n",
    "# Example usage:\n",
    "# Assume `base_folder` contains the main HTML file and all linked HTML files\n",
    "base_folder = \"./programming\"\n",
    "main_html = \"Programmieren1.de.html\"  # Main HTML file to start with\n",
    "output_pdf = \"merged_document.pdf\"\n",
    "create_pdf_with_toc(main_html, base_folder, output_pdf)"
   ]
  },
  {
   "cell_type": "markdown",
   "metadata": {},
   "source": [
    "## Create PDF with pandoc\n",
    "\n",
    "WiP"
   ]
  },
  {
   "cell_type": "code",
   "execution_count": 9,
   "metadata": {
    "vscode": {
     "languageId": "shellscript"
    }
   },
   "outputs": [
    {
     "name": "stdout",
     "output_type": "stream",
     "text": [
      "[WARNING] Could not fetch resource Programmieren1.webp: replacing image with description\n",
      "[WARNING] Could not fetch resource Kanban1.miro.de.jpg: replacing image with description\n",
      "The SVG /private/var/folders/29/66ymvpfx7j7dxrkh4vzx5zyc0000gn/T/tex2pdf.-bbc607c786810983/d9088db889f93d7c57c17520ee1d8a39d1bbe06a.svg has no dimensions\n",
      "[WARNING] Could not convert image /private/var/folders/29/66ymvpfx7j7dxrkh4vzx5zyc0000gn/T/tex2pdf.-bbc607c786810983/d9088db889f93d7c57c17520ee1d8a39d1bbe06a.svg: conversion from SVG failed\n",
      "The SVG /private/var/folders/29/66ymvpfx7j7dxrkh4vzx5zyc0000gn/T/tex2pdf.-bbc607c786810983/d9088db889f93d7c57c17520ee1d8a39d1bbe06a.svg has no dimensions\n",
      "[WARNING] Could not convert image /private/var/folders/29/66ymvpfx7j7dxrkh4vzx5zyc0000gn/T/tex2pdf.-bbc607c786810983/d9088db889f93d7c57c17520ee1d8a39d1bbe06a.svg: conversion from SVG failed\n",
      "Error producing PDF.\n",
      "! Package svg Error: File `d9088db889f93d7c57c17520ee1d8a39d1bbe06a_svg-tex.pdf\n",
      "' is missing.\n",
      "\n",
      "See the svg package documentation for explanation.\n",
      "Type  H <return>  for immediate help.\n",
      " ...                                              \n",
      "                                                  \n",
      "l.101 ...db889f93d7c57c17520ee1d8a39d1bbe06a.svg}}\n",
      "\n"
     ]
    }
   ],
   "source": [
    "!pandoc -s programming/Programmieren1.de.html -o output.pdf --toc"
   ]
  },
  {
   "cell_type": "markdown",
   "metadata": {
    "vscode": {
     "languageId": "polyglot-notebook"
    }
   },
   "source": [
    "# Create PDF with beautiful soup and pdfkit\n",
    "\n",
    "Does not work so well.\n",
    "\n",
    "### 1.  **Extract Headlines from HTML Files:**\n",
    "\n",
    "-   You'll need to parse the HTML files to extract the headline tags (`<h1>`,  `<h2>`, etc.) and use them to generate the table of contents.\n",
    "-   The  `BeautifulSoup`  library from  `bs4`  is perfect for parsing HTML.\n",
    "\n",
    "### 2.  **Create the Table of Contents:**\n",
    "\n",
    "-   Use the extracted headlines to create a TOC in HTML format, with links to the corresponding sections.\n",
    "\n",
    "### 3.  **Insert the TOC at the Beginning of the Combined HTML File:**\n",
    "\n",
    "-   Add the generated TOC to the beginning of your combined HTML file before converting it to PDF.\n",
    "\n",
    "### 4.  **Convert to PDF:**\n",
    "\n",
    "-   Once you have the HTML with the TOC, convert it to PDF as before.\n",
    "\n",
    "Here’s a Python script that implements these steps:\n",
    "\n",
    "#### **Step 1: Install Necessary Libraries**\n",
    "\n",
    "You’ll need to install the required libraries:"
   ]
  },
  {
   "cell_type": "code",
   "execution_count": 6,
   "metadata": {
    "vscode": {
     "languageId": "shellscript"
    }
   },
   "outputs": [
    {
     "name": "stdout",
     "output_type": "stream",
     "text": [
      "Defaulting to user installation because normal site-packages is not writeable\n",
      "Requirement already satisfied: pdfkit in /Users/starkj/Library/Python/3.9/lib/python/site-packages (1.0.0)\n",
      "Collecting bs4\n",
      "  Downloading bs4-0.0.2-py2.py3-none-any.whl.metadata (411 bytes)\n",
      "Requirement already satisfied: requests in /Library/Frameworks/Python.framework/Versions/3.9/lib/python3.9/site-packages (2.32.3)\n",
      "Requirement already satisfied: beautifulsoup4 in /Library/Frameworks/Python.framework/Versions/3.9/lib/python3.9/site-packages (from bs4) (4.12.3)\n",
      "Requirement already satisfied: charset-normalizer<4,>=2 in /Library/Frameworks/Python.framework/Versions/3.9/lib/python3.9/site-packages (from requests) (3.3.2)\n",
      "Requirement already satisfied: idna<4,>=2.5 in /Library/Frameworks/Python.framework/Versions/3.9/lib/python3.9/site-packages (from requests) (3.7)\n",
      "Requirement already satisfied: urllib3<3,>=1.21.1 in /Library/Frameworks/Python.framework/Versions/3.9/lib/python3.9/site-packages (from requests) (2.2.2)\n",
      "Requirement already satisfied: certifi>=2017.4.17 in /Library/Frameworks/Python.framework/Versions/3.9/lib/python3.9/site-packages (from requests) (2024.7.4)\n",
      "Requirement already satisfied: soupsieve>1.2 in /Library/Frameworks/Python.framework/Versions/3.9/lib/python3.9/site-packages (from beautifulsoup4->bs4) (2.5)\n",
      "Downloading bs4-0.0.2-py2.py3-none-any.whl (1.2 kB)\n",
      "Installing collected packages: bs4\n",
      "Successfully installed bs4-0.0.2\n",
      "Note: you may need to restart the kernel to use updated packages.\n"
     ]
    }
   ],
   "source": [
    "pip install beautifulsoup4 pdfkit"
   ]
  },
  {
   "cell_type": "markdown",
   "metadata": {},
   "source": [
    "#### Step 2: Python Script to Generate TOC and Convert HTML to PDF"
   ]
  },
  {
   "cell_type": "code",
   "execution_count": 5,
   "metadata": {},
   "outputs": [
    {
     "name": "stdout",
     "output_type": "stream",
     "text": [
      "PDF with Table of Contents has been generated as 'output_with_toc.pdf'.\n"
     ]
    }
   ],
   "source": [
    "import os\n",
    "from bs4 import BeautifulSoup\n",
    "import pdfkit\n",
    "\n",
    "# Function to extract headlines from HTML\n",
    "def extract_headlines(html_content, file_index):\n",
    "    soup = BeautifulSoup(html_content, 'html.parser')\n",
    "    headlines = []\n",
    "    for tag in ['h1', 'h2', 'h3', 'h4', 'h5', 'h6']:\n",
    "        for header in soup.find_all(tag):\n",
    "            # Create an anchor link for each headline\n",
    "            anchor = f\"section_{file_index}_{len(headlines)}\"\n",
    "            header['id'] = anchor\n",
    "            headlines.append((header.text.strip(), tag, anchor))\n",
    "    return headlines, str(soup)\n",
    "\n",
    "# Function to gather all HTML files recursively\n",
    "def gather_html_files(directory):\n",
    "    html_files = []\n",
    "    for root, _, files in os.walk(directory):\n",
    "        for file in files:\n",
    "            if file.endswith('.ipynb.html'):\n",
    "                html_files.append(os.path.join(root, file))\n",
    "    return sorted(html_files)  # Sorting ensures the order is preserved\n",
    "\n",
    "# Specify the top-level folder containing the HTML files\n",
    "top_level_folder = 'csharp'\n",
    "output_html = 'combined_with_toc.html'\n",
    "\n",
    "# Gather all HTML files recursively\n",
    "html_files = gather_html_files(top_level_folder)\n",
    "\n",
    "toc_entries = []\n",
    "full_html_content = \"<html><head><title>Document with TOC</title></head><body>\"\n",
    "\n",
    "# Generate the TOC and combine HTML files\n",
    "for i, filepath in enumerate(html_files):\n",
    "    with open(filepath, 'r', encoding='utf-8') as infile:\n",
    "        content = infile.read()\n",
    "        headlines, updated_html = extract_headlines(content, i)\n",
    "        toc_entries.extend(headlines)\n",
    "        full_html_content += updated_html\n",
    "        full_html_content += '<div style=\"page-break-after: always;\"></div>'\n",
    "\n",
    "# Create the TOC HTML structure\n",
    "toc_html = '<h1>Table of Contents</h1><ul>'\n",
    "for text, tag, anchor in toc_entries:\n",
    "    toc_html += f'<li><a href=\"#{anchor}\">{text}</a></li>'\n",
    "toc_html += '</ul><div style=\"page-break-after: always;\"></div>'\n",
    "\n",
    "# Add the TOC to the beginning of the document\n",
    "full_html_content = toc_html + full_html_content + \"</body></html>\"\n",
    "\n",
    "# Write the combined HTML with TOC to a file\n",
    "with open(output_html, 'w', encoding='utf-8') as outfile:\n",
    "    outfile.write(full_html_content)\n",
    "\n",
    "# Convert the combined HTML file with TOC to PDF\n",
    "pdfkit.from_file(output_html, 'output_with_toc.pdf')\n",
    "\n",
    "print(\"PDF with Table of Contents has been generated as 'output_with_toc.pdf'.\")"
   ]
  },
  {
   "cell_type": "markdown",
   "metadata": {},
   "source": [
    "\n",
    "### **Requirements:**\n",
    "\n",
    "1.  **wkhtmltopdf:**  Make sure  `wkhtmltopdf`  is installed on your system for  `pdfkit`  to work. You can download it from  wkhtmltopdf.org.\n",
    "2.  **HTML Structure:**  Ensure that your HTML files are well-formed, with proper heading tags for the TOC to be generated accurately.\n",
    "\n",
    "This script will produce a PDF with a generated Table of Contents at the beginning, linking to all the headlines within your HTML files."
   ]
  }
 ],
 "metadata": {
  "kernelspec": {
   "display_name": "Python 3",
   "language": "python",
   "name": "python3"
  },
  "language_info": {
   "codemirror_mode": {
    "name": "ipython",
    "version": 3
   },
   "file_extension": ".py",
   "mimetype": "text/x-python",
   "name": "python",
   "nbconvert_exporter": "python",
   "pygments_lexer": "ipython3",
   "version": "3.9.13"
  }
 },
 "nbformat": 4,
 "nbformat_minor": 2
}
