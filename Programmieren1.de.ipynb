{
 "cells": [
  {
   "cell_type": "markdown",
   "metadata": {},
   "source": [
    "# Programmieren 1\n",
    "\n",
    "<img src=\"Programmieren1.webp\" style=\"width:280px; height:280px;\">\n",
    "\n",
    "## Miro board zur Veranstaltung\n",
    "\n",
    "<img src=\"Programmieren1.miro.de.jpg\" style=\"width:100%;\">\n",
    "\n",
    "<details>\n",
    "<summary>Inline miro frame...</summary>\n",
    "<iframe src=\"https://miro.com/app/board/o9J_lOJi2o0=/?moveToWidget=3074457356084748502&cot=14\" width=\"100%\" height=\"600px\"></iframe>\n",
    "</details>\n",
    "\n",
    "[Link auf Miro Frame...](https://miro.com/app/board/o9J_lOJi2o0=/?moveToWidget=3074457356084748502&cot=14)\n",
    "\n",
    "## Begleitmaterial\n",
    "\n",
    "* [Eisbrecher](data/csharp/CSharp_icebreaker.de.ipynb)\n",
    "* [Zahlensysteme und Zeichen](data/Number_Systems.de.ipynb)\n",
    "* [Werkzeuge zur Vorlesung](data/csharp/tools/Toolchain.de.ipynb)\n",
    "* [Einführung in C#](data/csharp/CSharp_Introduction.de.ipynb)\n",
    "    * [WriteLine Basiswissen](data/csharp/procedural-functional/Console_WriteLine_Basics.de.ipynb)\n",
    "    * [Hallo Welt!](data/csharp/procedural-functional/CSharp_HelloWorld_Explanation.de.ipynb)\n",
    "\n",
    "## Kanban board\n",
    "\n",
    "Ein  **Kanban-Board**  ist ein visuelles Tool, das verwendet wird, um Arbeitsprozesse und -abläufe zu organisieren und zu optimieren. Es stammt aus der Kanban-Methode, die ursprünglich von Toyota in den 1940er Jahren entwickelt wurde, um die Produktionseffizienz zu verbessern. Heute wird es häufig im Projektmanagement, insbesondere im agilen Umfeld, verwendet.\n",
    "\n",
    "Ein typisches Kanban-Board besteht aus drei Hauptspalten:\n",
    "\n",
    "1.  **To Do**  (Zu erledigen): In dieser Spalte werden alle Aufgaben aufgelistet, die noch begonnen werden müssen.\n",
    "2.  **In Progress**  (In Arbeit): Hier befinden sich Aufgaben, die gerade bearbeitet werden.\n",
    "3.  **Done**  (Erledigt): Diese Spalte zeigt an, welche Aufgaben abgeschlossen sind.\n",
    "\n",
    "Jede Aufgabe wird auf einer  **Karte**  dargestellt, die durch die verschiedenen Spalten verschoben wird, wenn der Status der Aufgabe sich ändert. Diese Karten enthalten oft zusätzliche Informationen wie Verantwortlichkeiten, Fälligkeitsdaten oder Prioritäten.\n",
    "\n",
    "Wichtige Aspekte des Kanban-Boards sind:\n",
    "\n",
    "-   **WIP-Limits (Work in Progress Limits):**  Es gibt eine festgelegte maximale Anzahl an Aufgaben, die gleichzeitig in einer Spalte (meist in der \"In Progress\"-Spalte) sein dürfen. Dies verhindert, dass zu viele Aufgaben gleichzeitig bearbeitet werden und fördert den Fokus auf den Abschluss von Aufgaben.\n",
    "-   **Pull-Prinzip:**  Aufgaben werden nicht nach einem festen Plan, sondern nach Bedarf \"gezogen\", wenn Kapazitäten frei werden. Dies sorgt für einen gleichmäßigeren Arbeitsfluss.\n",
    "\n",
    "Das Ziel eines Kanban-Boards ist es, Engpässe sichtbar zu machen, den Arbeitsfluss zu verbessern und den Prozess der kontinuierlichen Verbesserung zu unterstützen.\n",
    "\n",
    "<img src=\"Kanban1.miro.de.jpg\" style=\"width:100%;\">\n",
    "\n",
    "<details>\n",
    "<summary>Inline miro frame...</summary>\n",
    "<iframe src=\"https://miro.com/app/board/o9J_lOJi2o0=/?moveToWidget=3074457365363233230&cot=14\" width=\"100%\" height=\"600px\"></iframe>\n",
    "</details>\n",
    "\n",
    "[Link auf Miro Frame...](https://miro.com/app/board/o9J_lOJi2o0=/?moveToWidget=3074457365363233230&cot=14)"
   ]
  },
  {
   "cell_type": "markdown",
   "metadata": {},
   "source": [
    "## Appendix\n",
    "\n",
    "* [Erzeugen von HTML-Seiten aus den notebooks](Create_pdf.en.ipynb)"
   ]
  }
 ],
 "metadata": {
  "kernelspec": {
   "display_name": "Python 3",
   "language": "python",
   "name": "python3"
  },
  "language_info": {
   "name": "python",
   "version": "3.10.5"
  }
 },
 "nbformat": 4,
 "nbformat_minor": 2
}
