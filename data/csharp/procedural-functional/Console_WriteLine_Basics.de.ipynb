{
 "cells": [
  {
   "cell_type": "markdown",
   "id": "3adfadcf",
   "metadata": {},
   "source": [
    "# Grundlagen C# WriteLine\n",
    "\n",
    "<img src=\"writeline.webp\" style=\"width:280px; height:280px;\">\n",
    "\n",
    "<iframe src=\"https://miro.com/app/board/o9J_lOJi2o0=/?moveToWidget=3458764596274128631&cot=14\" width=\"100%\" height=\"400px\"></iframe>\n",
    "\n",
    "* [Link zur Übersicht auf Miro](https://miro.com/app/board/o9J_lOJi2o0=/?moveToWidget=3458764596274128631&cot=14)\n",
    "\n",
    "* [Link zur Microsoft Dokumentation](https://learn.microsoft.com/de-de/dotnet/api/system.console.writeline?view=net-5.0)"
   ]
  },
  {
   "cell_type": "markdown",
   "id": "e2203104",
   "metadata": {},
   "source": [
    "In C# gibt es mehrere Möglichkeiten, Textausgaben zu erzeugen, insbesondere wenn man Konsolenanwendungen schreibt. Hier sind einige der gebräuchlichsten Methoden:\n",
    "\n",
    "## 1. Console.WriteLine\n",
    "Console.WriteLine ist die häufigste Methode zur Ausgabe von Text in die Konsole. Sie zeigt den angegebenen Text an und fügt am Ende einen Zeilenumbruch hinzu."
   ]
  },
  {
   "cell_type": "code",
   "execution_count": null,
   "id": "d9169cb6",
   "metadata": {
    "dotnet_interactive": {
     "language": "csharp"
    },
    "polyglot_notebook": {
     "kernelName": "csharp"
    },
    "vscode": {
     "languageId": "polyglot-notebook"
    }
   },
   "outputs": [],
   "source": [
    "Console.WriteLine(\"Dies ist eine Textausgabe mit einem Zeilenumbruch.\");\n",
    "Console.WriteLine(\"Nächste Zeile...\");"
   ]
  },
  {
   "cell_type": "markdown",
   "id": "8102ce4a",
   "metadata": {},
   "source": [
    "## 2. Console.Write\n",
    "Im Gegensatz zu Console.WriteLine zeigt Console.Write den Text an, ohne einen Zeilenumbruch hinzuzufügen. Dadurch bleibt der Cursor in derselben Zeile."
   ]
  },
  {
   "cell_type": "code",
   "execution_count": null,
   "id": "8b102f39",
   "metadata": {
    "dotnet_interactive": {
     "language": "csharp"
    },
    "polyglot_notebook": {
     "kernelName": "csharp"
    },
    "vscode": {
     "languageId": "polyglot-notebook"
    }
   },
   "outputs": [],
   "source": [
    "Console.Write(\"Dies ist eine Textausgabe ohne Zeilenumbruch.\");\n",
    "Console.WriteLine(\"Nächste Zeile...\");"
   ]
  },
  {
   "cell_type": "markdown",
   "id": "50922302",
   "metadata": {},
   "source": [
    "## 3. String-Interpolation\n",
    "Seit C# 6.0 kann man Zeichenfolgeninterpolation verwenden, um Variablen und Text miteinander zu kombinieren. Dies geschieht durch das Voranstellen eines $-Zeichens vor die Zeichenkette."
   ]
  },
  {
   "cell_type": "code",
   "execution_count": null,
   "id": "aae37cc0",
   "metadata": {
    "dotnet_interactive": {
     "language": "csharp"
    },
    "polyglot_notebook": {
     "kernelName": "csharp"
    },
    "vscode": {
     "languageId": "polyglot-notebook"
    }
   },
   "outputs": [],
   "source": [
    "int alter = 25;\n",
    "Console.WriteLine($\"Ich bin {alter} Jahre alt.\");"
   ]
  },
  {
   "cell_type": "markdown",
   "id": "50a7b5fa",
   "metadata": {},
   "source": [
    "## 4. Verkettung von Zeichenfolgen\n",
    "Man kann auch mehrere Zeichenfolgen und Werte durch Verkettung kombinieren, bevor man sie ausgibt."
   ]
  },
  {
   "cell_type": "code",
   "execution_count": null,
   "id": "4e9b2154",
   "metadata": {
    "dotnet_interactive": {
     "language": "csharp"
    },
    "polyglot_notebook": {
     "kernelName": "csharp"
    },
    "vscode": {
     "languageId": "polyglot-notebook"
    }
   },
   "outputs": [],
   "source": [
    "Console.WriteLine(\"Dies ist eine \" + \"verkettete Nachricht.\");"
   ]
  },
  {
   "cell_type": "markdown",
   "id": "2a06d456",
   "metadata": {},
   "source": [
    "## 5. Formatierte Ausgabe\n",
    "Man kann Console.WriteLine auch mit formatierter Ausgabe verwenden, wobei Platzhalter {} verwendet werden, um Werte in einer Zeichenfolge zu platzieren."
   ]
  },
  {
   "cell_type": "code",
   "execution_count": null,
   "id": "64c79b64",
   "metadata": {
    "dotnet_interactive": {
     "language": "csharp"
    },
    "polyglot_notebook": {
     "kernelName": "csharp"
    },
    "vscode": {
     "languageId": "polyglot-notebook"
    }
   },
   "outputs": [],
   "source": [
    "Console.WriteLine(\"Name: {0}, Alter: {1}\", \"Anna\", 30);"
   ]
  },
  {
   "cell_type": "markdown",
   "id": "9568e6b8",
   "metadata": {},
   "source": [
    "## 6. Mehrzeilige Ausgaben\n",
    "Man kann auch mehrere Zeilen auf einmal ausgeben, indem man entweder mehrere Console.WriteLine-Befehle verwendet oder \\n für Zeilenumbrüche in einer Zeichenkette benutzt."
   ]
  },
  {
   "cell_type": "code",
   "execution_count": null,
   "id": "61156a35",
   "metadata": {
    "dotnet_interactive": {
     "language": "csharp"
    },
    "polyglot_notebook": {
     "kernelName": "csharp"
    },
    "vscode": {
     "languageId": "polyglot-notebook"
    }
   },
   "outputs": [],
   "source": [
    "Console.WriteLine(\"Erste Zeile\\nZweite Zeile\\nDritte Zeile\");"
   ]
  },
  {
   "cell_type": "markdown",
   "id": "2b0e1f71",
   "metadata": {},
   "source": [
    "## 7. Escape-Sequenzen\n",
    "In C# können spezielle Zeichen wie Anführungszeichen oder Backslashes in Zeichenfolgen mit einem Backslash (\\\\) maskiert werden, um sie korrekt anzuzeigen."
   ]
  },
  {
   "cell_type": "code",
   "execution_count": null,
   "id": "15162ddc",
   "metadata": {
    "dotnet_interactive": {
     "language": "csharp"
    },
    "polyglot_notebook": {
     "kernelName": "csharp"
    },
    "vscode": {
     "languageId": "polyglot-notebook"
    }
   },
   "outputs": [],
   "source": [
    "Console.WriteLine(\"Das ist ein \\\"Zitat\\\".\");"
   ]
  },
  {
   "cell_type": "markdown",
   "id": "57262234",
   "metadata": {},
   "source": [
    "## Zusammenfassung\n",
    "Diese Methoden sind nützlich, um Benutzern Informationen anzuzeigen, Debugging zu betreiben oder Daten zu präsentieren. Sie bieten Flexibilität bei der Darstellung und Formatierung von Text."
   ]
  }
 ],
 "metadata": {
  "kernelspec": {
   "display_name": ".NET (C#)",
   "language": "C#",
   "name": ".net-csharp"
  },
  "language_info": {
   "name": "C#"
  },
  "polyglot_notebook": {
   "kernelInfo": {
    "defaultKernelName": "csharp",
    "items": [
     {
      "aliases": [],
      "name": "csharp"
     }
    ]
   }
  }
 },
 "nbformat": 4,
 "nbformat_minor": 5
}
