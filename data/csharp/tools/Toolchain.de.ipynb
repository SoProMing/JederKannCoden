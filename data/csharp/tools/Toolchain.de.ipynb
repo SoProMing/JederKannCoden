{
 "cells": [
  {
   "cell_type": "markdown",
   "metadata": {
    "dotnet_interactive": {
     "language": "csharp"
    },
    "polyglot_notebook": {
     "kernelName": "csharp"
    }
   },
   "source": [
    "# Entwicklungswerkzeuge für Programmierung\n",
    "\n",
    "<img src=\"programmingtools.webp\" style=\"width:280px; height:280px;\">\n",
    "\n",
    "## 1. Visual Studio Code und .NET Framework\n",
    "\n",
    "**Beschreibung und Funktionen:**\n",
    "\n",
    "-   **Visual Studio Code (VS Code):**  Ein leichtgewichtiges, aber leistungsstarkes Editor-Tool, das für viele Programmiersprachen unterstützt. Es bietet eine umfassende Unterstützung für .NET durch Erweiterungen.\n",
    "-   **.NET Framework:**  Ein Software-Framework von Microsoft, das für die Entwicklung und Ausführung von Anwendungen auf Windows erforderlich ist.\n",
    "\n",
    "**Einrichtung und Verwendung:**\n",
    "\n",
    "1.  **Installation:**\n",
    "    -   **Visual Studio Code:**  Herunterladen von  [code.visualstudio.com](https://code.visualstudio.com/)  und installieren.\n",
    "    -   **.NET SDK:**  Herunterladen von  [dotnet.microsoft.com](https://dotnet.microsoft.com/download)  und installieren.\n",
    "2.  **Erweiterungen:**\n",
    "    -   Öffne VS Code, gehe zu Extensions (`Strg+Shift+X`), suche nach „C#“ und installiere die C#-Erweiterung von Microsoft.\n",
    "    -   Um .NET-Projekte zu erstellen, öffne ein Terminal in VS Code und führe `dotnet new console` aus, um ein neues Konsolenanwendungsprojekt zu erstellen.\n",
    "3.  **Verwendung:**\n",
    "    -   **Code Schreiben:**  Öffne die  `Program.cs`-Datei und schreibe Deinen C#-Code.\n",
    "    -   **Ausführen:**  Nutze das Terminal und den Befehl  `dotnet run`, um Deine Anwendung auszuführen.\n",
    "\n",
    "**Kurze Demo:**  Erstellen eines neuen .NET-Projekts und Ausführen eines „Hello World“-Programms.\n",
    "\n",
    "## 2. Jupyter Notebooks mit Diagrammen und Code\n",
    "\n",
    "**Beschreibung und Funktionen:**\n",
    "\n",
    "-   **Jupyter Notebooks:**  Interaktive Umgebung zum Schreiben und Ausführen von Code in verschiedenen Programmiersprachen. Unterstützt auch das Einbinden von Diagrammen und Visualisierungen.\n",
    "-   **Mermaid Diagrams:**  Eine Sprache zur Erzeugung von Diagrammen und Grafiken direkt in Markdown-Dateien.\n",
    "\n",
    "**Einrichtung und Verwendung:**\n",
    "\n",
    "1.  **Installation:**\n",
    "    -   Installiere Jupyter Notebooks durch Anaconda Distribution ([anaconda.com](https://www.anaconda.com/)) oder mit  `pip install notebook`.\n",
    "2.  **Erstellen eines Notebooks:**\n",
    "    -   Starte Jupyter Notebook durch Eingabe von  `jupyter notebook`  im Terminal.\n",
    "    -   Erstelle ein neues Notebook durch „New“ -> „Python 3“.\n",
    "3.  **Mermaid Diagrams:**\n",
    "    -   Nutze die Markdown-Zelle, um Mermaid-Diagramme zu erstellen: Füge  `mermaid`  gefolgt von Deinem Diagramm-Code ein.\n",
    "    -   Beispiel für ein einfaches Diagramm:\n"
   ]
  },
  {
   "cell_type": "markdown",
   "metadata": {},
   "source": [
    "```mermaid\n",
    "graph LR\n",
    "    A[Start] --> B[Process]\n",
    "    B --> C[End] \n",
    "```"
   ]
  },
  {
   "cell_type": "markdown",
   "metadata": {},
   "source": [
    "4.  **C# Code:**\n",
    "    -   Füge C# Codezellen hinzu und nutze  `!dotnet run`  um den Code auszuführen.\n",
    "\n",
    "**Kurze Demo:**  Erstellen eines Notebooks, Einfügen eines Mermaid-Diagramms und Ausführen einer einfachen C# Codezelle.\n",
    "\n",
    "## 3. Visual Studio\n",
    "\n",
    "**Beschreibung und Funktionen:**\n",
    "\n",
    "-   **Visual Studio:**  Eine vollständige IDE für .NET-Entwicklung mit umfangreichen Funktionen für Debugging, Code-Navigation und Integration von Versionskontrollsystemen.\n",
    "\n",
    "**Einrichtung und Verwendung:**\n",
    "\n",
    "1.  **Installation:**\n",
    "    -   Herunterladen von  [visualstudio.com](https://visualstudio.microsoft.com/)  und installieren. Wähle beim Setup die gewünschten Workloads aus (z.B. .NET Desktop Development).\n",
    "2.  **Erstellen eines Projekts:**\n",
    "    -   Starte Visual Studio, klicke auf „Create a new project“ und wähle „Console App (.NET Core)“ aus.\n",
    "    -   Gib einen Projektnamen ein und klicke auf „Create“.\n",
    "3.  **Verwendung:**\n",
    "    -   **Code Schreiben:**  Schreibe Deinen C#-Code im  `Program.cs`.\n",
    "    -   **Debugging:**  Setze Breakpoints und nutze den Debugger durch F5 oder „Start Debugging“.\n",
    "\n",
    "## 4. Miro\n",
    "\n",
    "**Beschreibung und Funktionen:**\n",
    "\n",
    "-   **Miro:**  Ein kollaboratives Whiteboard-Tool für Brainstorming, Visualisierung von Ideen und Planen von Projekten.\n",
    "\n",
    "**Einrichtung und Verwendung:**\n",
    "\n",
    "1.  **Registrierung und Anmeldung:**\n",
    "    -   Registriere Dich auf  [miro.com](https://miro.com/)  und melde Dich an.\n",
    "2.  **Erstellen eines Boards:**\n",
    "    -   Klicke auf „Create a Board“ und wähle ein Layout.\n",
    "3.  **Verwendung:**\n",
    "    -   **Diagramme Erstellen:**  Verwende die Werkzeuge auf der linken Seite, um Notizen, Formen und Verbindungen hinzuzufügen.\n",
    "    -   **Kollaboration:**  Lade Teammitglieder ein und arbeitet gleichzeitig am Board.\n",
    "\n",
    "## 5. GitLab und GitHub\n",
    "\n",
    "**Beschreibung und Funktionen:**\n",
    "\n",
    "-   **GitLab:**  Ein Web-Dienst für Versionskontrolle und CI/CD, der Git-Repository-Management, Issue-Tracking und mehr bietet.\n",
    "-   **GitHub:**  Ein ähnlicher Dienst, der sich auf die Versionskontrolle und das soziale Coding konzentriert.\n",
    "\n",
    "**Einrichtung und Verwendung:**\n",
    "\n",
    "1.  **Registrierung und Anmeldung:**\n",
    "    -   Registriere Dich auf  [gitlab.com](https://gitlab.com/)  oder  [github.com](https://github.com/)  und melde Dich an.\n",
    "2.  **Repository Erstellen:**\n",
    "    -   Klicke auf „New Repository“ und gib einen Namen und eine Beschreibung ein.\n",
    "3.  **Verwendung:**\n",
    "    -   **Code Hochladen:**  Nutze Git-Befehle wie  `git init`,  `git add`,  `git commit`  und  `git push`, um Deinen Code hochzuladen.\n",
    "    -   **Issues und Pull Requests:**  Erstelle Issues zur Aufgabenverfolgung und Pull Requests (Merge Requests auf gitlab) zur Code-Überprüfung."
   ]
  }
 ],
 "metadata": {
  "kernelspec": {
   "display_name": ".NET (C#)",
   "language": "C#",
   "name": ".net-csharp"
  },
  "language_info": {
   "name": "python"
  },
  "polyglot_notebook": {
   "kernelInfo": {
    "defaultKernelName": "csharp",
    "items": [
     {
      "aliases": [],
      "name": "csharp"
     }
    ]
   }
  }
 },
 "nbformat": 4,
 "nbformat_minor": 2
}
