{
 "cells": [
  {
   "cell_type": "markdown",
   "metadata": {
    "dotnet_interactive": {
     "language": "csharp"
    },
    "polyglot_notebook": {
     "kernelName": "csharp"
    }
   },
   "source": [
    "# Entwicklungswerkzeuge für Programmierung\n",
    "\n",
    "<img src=\"programmingtools.webp\" style=\"width:280px; height:280px;\">\n",
    "\n",
    "## 1. Visual Studio Code und .NET Framework\n",
    "\n",
    "**Beschreibung und Funktionen:**\n",
    "\n",
    "-   **Visual Studio Code (VS Code):**  Ein leichtgewichtiges, aber leistungsstarkes Editor-Tool, das für viele Programmiersprachen unterstützt. Es bietet eine umfassende Unterstützung für .NET durch Erweiterungen.\n",
    "-   **.NET Framework:**  Ein Software-Framework von Microsoft, das für die Entwicklung und Ausführung von Anwendungen auf Windows erforderlich ist.\n",
    "\n",
    "**Einrichtung und Verwendung:**\n",
    "\n",
    "1.  **Installation:**\n",
    "    -   **Visual Studio Code:**  Herunterladen von  [code.visualstudio.com](https://code.visualstudio.com/)  und installieren.\n",
    "    -   **.NET SDK:**  Herunterladen von  [dotnet.microsoft.com](https://dotnet.microsoft.com/download)  und installieren.\n",
    "2.  **Erweiterungen:**\n",
    "    -   Öffnen Sie VS Code, gehen Sie zu Extensions (`Strg+Shift+X`), suchen Sie nach „C#“ und installieren Sie die C#-Erweiterung von Microsoft.\n",
    "    -   Um .NET-Projekte zu erstellen, öffnen Sie ein Terminal in VS Code und führen Sie `dotnet new console` aus, um ein neues Konsolenanwendungsprojekt zu erstellen.\n",
    "3.  **Verwendung:**\n",
    "    -   **Code Schreiben:**  Öffnen Sie die  `Program.cs`-Datei und schreiben Sie Ihren C#-Code.\n",
    "    -   **Ausführen:**  Nutzen Sie das Terminal und den Befehl  `dotnet run`, um Ihre Anwendung auszuführen.\n",
    "\n",
    "**Kurze Demo:**  Erstellen eines neuen .NET-Projekts und Ausführen eines „Hello World“-Programms.\n",
    "\n",
    "## 2. Jupyter Notebooks mit Diagrammen und Code\n",
    "\n",
    "**Beschreibung und Funktionen:**\n",
    "\n",
    "-   **Jupyter Notebooks:**  Interaktive Umgebung zum Schreiben und Ausführen von Code in verschiedenen Programmiersprachen. Unterstützt auch das Einbinden von Diagrammen und Visualisierungen.\n",
    "-   **Mermaid Diagrams:**  Eine Sprache zur Erzeugung von Diagrammen und Grafiken direkt in Markdown-Dateien.\n",
    "\n",
    "**Einrichtung und Verwendung:**\n",
    "\n",
    "1.  **Installation:**\n",
    "    -   Installieren Sie Jupyter Notebooks durch Anaconda Distribution ([anaconda.com](https://www.anaconda.com/)) oder mit  `pip install notebook`.\n",
    "2.  **Erstellen eines Notebooks:**\n",
    "    -   Starten Sie Jupyter Notebook durch Eingabe von  `jupyter notebook`  im Terminal.\n",
    "    -   Erstellen Sie ein neues Notebook durch „New“ -> „Python 3“.\n",
    "3.  **Mermaid Diagrams:**\n",
    "    -   Nutzen Sie die Markdown-Zelle, um Mermaid-Diagramme zu erstellen: Fügen Sie  `mermaid`  gefolgt von Ihrem Diagramm-Code ein.\n",
    "    -   Beispiel für ein einfaches Diagramm:\n"
   ]
  },
  {
   "cell_type": "markdown",
   "metadata": {},
   "source": [
    "```mermaid\n",
    "graph LR\n",
    "    A[Start] --> B[Process]\n",
    "    B --> C[End] \n",
    "```"
   ]
  },
  {
   "cell_type": "markdown",
   "metadata": {},
   "source": [
    "4.  **C# Code:**\n",
    "    -   Fügen Sie C# Codezellen hinzu und nutzen Sie  `!dotnet run`  um den Code auszuführen.\n",
    "\n",
    "**Kurze Demo:**  Erstellen eines Notebooks, Einfügen eines Mermaid-Diagramms und Ausführen einer einfachen C# Codezelle.\n",
    "\n",
    "## 3. Visual Studio\n",
    "\n",
    "**Beschreibung und Funktionen:**\n",
    "\n",
    "-   **Visual Studio:**  Eine vollständige IDE für .NET-Entwicklung mit umfangreichen Funktionen für Debugging, Code-Navigation und Integration von Versionskontrollsystemen.\n",
    "\n",
    "**Einrichtung und Verwendung:**\n",
    "\n",
    "1.  **Installation:**\n",
    "    -   Herunterladen von  [visualstudio.com](https://visualstudio.microsoft.com/)  und installieren. Wählen Sie beim Setup die gewünschten Workloads aus (z.B. .NET Desktop Development).\n",
    "2.  **Erstellen eines Projekts:**\n",
    "    -   Starten Sie Visual Studio, klicken Sie auf „Create a new project“ und wählen Sie „Console App (.NET Core)“ aus.\n",
    "    -   Geben Sie einen Projektnamen ein und klicken Sie auf „Create“.\n",
    "3.  **Verwendung:**\n",
    "    -   **Code Schreiben:**  Schreiben Sie Ihren C#-Code im  `Program.cs`.\n",
    "    -   **Debugging:**  Setzen Sie Breakpoints und nutzen Sie den Debugger durch F5 oder „Start Debugging“.\n",
    "\n",
    "**Kurze Demo:**  Erstellen eines neuen .NET-Projekts in Visual Studio und Ausführen eines einfachen „Hello World“-Programms.\n",
    "\n",
    "## 4. Miro\n",
    "\n",
    "**Beschreibung und Funktionen:**\n",
    "\n",
    "-   **Miro:**  Ein kollaboratives Whiteboard-Tool für Brainstorming, Visualisierung von Ideen und Planen von Projekten.\n",
    "\n",
    "**Einrichtung und Verwendung:**\n",
    "\n",
    "1.  **Registrierung und Anmeldung:**\n",
    "    -   Registrieren Sie sich auf  [miro.com](https://miro.com/)  und melden Sie sich an.\n",
    "2.  **Erstellen eines Boards:**\n",
    "    -   Klicken Sie auf „Create a Board“ und wählen Sie ein Layout.\n",
    "3.  **Verwendung:**\n",
    "    -   **Diagramme Erstellen:**  Verwenden Sie die Werkzeuge auf der linken Seite, um Notizen, Formen und Verbindungen hinzuzufügen.\n",
    "    -   **Kollaboration:**  Laden Sie Teammitglieder ein und arbeiten Sie gleichzeitig am Board.\n",
    "\n",
    "**Kurze Demo:**  Erstellen eines einfachen Diagramms und Verwendung der Kollaborationsfunktionen.\n",
    "\n",
    "## 5. GitLab und GitHub\n",
    "\n",
    "**Beschreibung und Funktionen:**\n",
    "\n",
    "-   **GitLab:**  Ein Web-Dienst für Versionskontrolle und CI/CD, der Git-Repository-Management, Issue-Tracking und mehr bietet.\n",
    "-   **GitHub:**  Ein ähnlicher Dienst, der sich auf die Versionskontrolle und das soziale Coding konzentriert.\n",
    "\n",
    "**Einrichtung und Verwendung:**\n",
    "\n",
    "1.  **Registrierung und Anmeldung:**\n",
    "    -   Registrieren Sie sich auf  [gitlab.com](https://gitlab.com/)  oder  [github.com](https://github.com/)  und melden Sie sich an.\n",
    "2.  **Repository Erstellen:**\n",
    "    -   Klicken Sie auf „New Repository“ und geben Sie einen Namen und eine Beschreibung ein.\n",
    "3.  **Verwendung:**\n",
    "    -   **Code Hochladen:**  Nutzen Sie Git-Befehle wie  `git init`,  `git add`,  `git commit`  und  `git push`, um Ihren Code hochzuladen.\n",
    "    -   **Issues und Pull Requests:**  Erstellen Sie Issues zur Aufgabenverfolgung und Pull Requests zur Code-Überprüfung.\n",
    "\n",
    "**Kurze Demo:**  Erstellen eines neuen Repositories, Hinzufügen von Dateien und Erstellen eines Pull Requests."
   ]
  }
 ],
 "metadata": {
  "kernelspec": {
   "display_name": ".NET (C#)",
   "language": "C#",
   "name": ".net-csharp"
  },
  "language_info": {
   "name": "python"
  },
  "polyglot_notebook": {
   "kernelInfo": {
    "defaultKernelName": "csharp",
    "items": [
     {
      "aliases": [],
      "name": "csharp"
     }
    ]
   }
  }
 },
 "nbformat": 4,
 "nbformat_minor": 2
}
