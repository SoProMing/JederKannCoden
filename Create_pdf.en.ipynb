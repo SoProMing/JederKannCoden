{
 "cells": [
  {
   "cell_type": "markdown",
   "metadata": {},
   "source": [
    "# Create portable version\n",
    "\n",
    "<img src=\"Export_jupiter.webp\" style=\"width:280px; height:280px;\">\n",
    "\n",
    "This page describes and actually impliments, how to make the jupyter notebooks of the whole project portable."
   ]
  },
  {
   "cell_type": "markdown",
   "metadata": {},
   "source": [
    "# Recursive HTML exporting and link replacement\n",
    "\n",
    "This one is in use right now to create linked and working html pages.\n",
    "\n",
    "To achieve this, you can write a Python script that:\n",
    "\n",
    "1. Recursively searches for `.ipynb` files in a directory.\n",
    "2. Exports each `.ipynb` file to an HTML file.\n",
    "3. Replaces links within the HTML files that point to `.ipynb` files with `.html` links (so that the links work correctly in a browser).\n",
    "\n",
    "You can use the following libraries:\n",
    "- `os` or `pathlib` for file traversal.\n",
    "- `nbconvert` for converting `.ipynb` to `.html`.\n",
    "- `re` for regular expressions to replace links in HTML content.\n",
    "\n",
    "## Prerequesits\n",
    "\n",
    "### Install the Required Modules\n",
    "\n",
    "You can install the necessary modules using the following commands in your terminal or command prompt.\n",
    "\n",
    "1.  **Install  `nbconvert`**: This module is used to convert Jupyter notebooks to HTML."
   ]
  },
  {
   "cell_type": "code",
   "execution_count": 5,
   "metadata": {
    "vscode": {
     "languageId": "shellscript"
    }
   },
   "outputs": [
    {
     "name": "stderr",
     "output_type": "stream",
     "text": [
      "17172.36s - pydevd: Sending message related to process being replaced timed-out after 5 seconds\n"
     ]
    },
    {
     "name": "stdout",
     "output_type": "stream",
     "text": [
      "Collecting nbconvert\n",
      "  Downloading nbconvert-7.16.4-py3-none-any.whl (257 kB)\n",
      "\u001b[2K     \u001b[90m━━━━━━━━━━━━━━━━━━━━━━━━━━━━━━━━━━━━━━━\u001b[0m \u001b[32m257.4/257.4 KB\u001b[0m \u001b[31m4.5 MB/s\u001b[0m eta \u001b[36m0:00:00\u001b[0ma \u001b[36m0:00:01\u001b[0m\n",
      "\u001b[?25hCollecting nbclient>=0.5.0\n",
      "  Downloading nbclient-0.10.0-py3-none-any.whl (25 kB)\n",
      "Collecting tinycss2\n",
      "  Downloading tinycss2-1.3.0-py3-none-any.whl (22 kB)\n",
      "Collecting bleach!=5.0.0\n",
      "  Downloading bleach-6.1.0-py3-none-any.whl (162 kB)\n",
      "\u001b[2K     \u001b[90m━━━━━━━━━━━━━━━━━━━━━━━━━━━━━━━━━━━━━━━\u001b[0m \u001b[32m162.8/162.8 KB\u001b[0m \u001b[31m7.0 MB/s\u001b[0m eta \u001b[36m0:00:00\u001b[0m\n",
      "\u001b[?25hCollecting nbformat>=5.7\n",
      "  Downloading nbformat-5.10.4-py3-none-any.whl (78 kB)\n",
      "\u001b[2K     \u001b[90m━━━━━━━━━━━━━━━━━━━━━━━━━━━━━━━━━━━━━━━━\u001b[0m \u001b[32m78.5/78.5 KB\u001b[0m \u001b[31m6.3 MB/s\u001b[0m eta \u001b[36m0:00:00\u001b[0m\n",
      "\u001b[?25hCollecting markupsafe>=2.0\n",
      "  Downloading MarkupSafe-2.1.5-cp310-cp310-macosx_10_9_x86_64.whl (14 kB)\n",
      "Requirement already satisfied: pygments>=2.4.1 in /Users/starkj/Library/Python/3.10/lib/python/site-packages (from nbconvert) (2.18.0)\n",
      "Collecting jinja2>=3.0\n",
      "  Downloading jinja2-3.1.4-py3-none-any.whl (133 kB)\n",
      "\u001b[2K     \u001b[90m━━━━━━━━━━━━━━━━━━━━━━━━━━━━━━━━━━━━━━━\u001b[0m \u001b[32m133.3/133.3 KB\u001b[0m \u001b[31m6.8 MB/s\u001b[0m eta \u001b[36m0:00:00\u001b[0m\n",
      "\u001b[?25hCollecting jupyterlab-pygments\n",
      "  Downloading jupyterlab_pygments-0.3.0-py3-none-any.whl (15 kB)\n",
      "Requirement already satisfied: jupyter-core>=4.7 in /Users/starkj/Library/Python/3.10/lib/python/site-packages (from nbconvert) (5.7.2)\n",
      "Requirement already satisfied: packaging in /Users/starkj/Library/Python/3.10/lib/python/site-packages (from nbconvert) (24.1)\n",
      "Collecting pandocfilters>=1.4.1\n",
      "  Downloading pandocfilters-1.5.1-py2.py3-none-any.whl (8.7 kB)\n",
      "Collecting mistune<4,>=2.0.3\n",
      "  Downloading mistune-3.0.2-py3-none-any.whl (47 kB)\n",
      "\u001b[2K     \u001b[90m━━━━━━━━━━━━━━━━━━━━━━━━━━━━━━━━━━━━━━━━\u001b[0m \u001b[32m48.0/48.0 KB\u001b[0m \u001b[31m4.0 MB/s\u001b[0m eta \u001b[36m0:00:00\u001b[0m\n",
      "\u001b[?25hCollecting defusedxml\n",
      "  Downloading defusedxml-0.7.1-py2.py3-none-any.whl (25 kB)\n",
      "Requirement already satisfied: traitlets>=5.1 in /Users/starkj/Library/Python/3.10/lib/python/site-packages (from nbconvert) (5.14.3)\n",
      "Requirement already satisfied: beautifulsoup4 in /Library/Frameworks/Python.framework/Versions/3.10/lib/python3.10/site-packages (from nbconvert) (4.12.3)\n",
      "Requirement already satisfied: six>=1.9.0 in /Users/starkj/Library/Python/3.10/lib/python/site-packages (from bleach!=5.0.0->nbconvert) (1.16.0)\n",
      "Collecting webencodings\n",
      "  Downloading webencodings-0.5.1-py2.py3-none-any.whl (11 kB)\n",
      "Requirement already satisfied: platformdirs>=2.5 in /Users/starkj/Library/Python/3.10/lib/python/site-packages (from jupyter-core>=4.7->nbconvert) (4.2.2)\n",
      "Requirement already satisfied: jupyter-client>=6.1.12 in /Users/starkj/Library/Python/3.10/lib/python/site-packages (from nbclient>=0.5.0->nbconvert) (8.6.2)\n",
      "Collecting fastjsonschema>=2.15\n",
      "  Downloading fastjsonschema-2.20.0-py3-none-any.whl (23 kB)\n",
      "Collecting jsonschema>=2.6\n",
      "  Downloading jsonschema-4.23.0-py3-none-any.whl (88 kB)\n",
      "\u001b[2K     \u001b[90m━━━━━━━━━━━━━━━━━━━━━━━━━━━━━━━━━━━━━━━━\u001b[0m \u001b[32m88.5/88.5 KB\u001b[0m \u001b[31m4.9 MB/s\u001b[0m eta \u001b[36m0:00:00\u001b[0m\n",
      "\u001b[?25hRequirement already satisfied: soupsieve>1.2 in /Library/Frameworks/Python.framework/Versions/3.10/lib/python3.10/site-packages (from beautifulsoup4->nbconvert) (2.6)\n",
      "Collecting attrs>=22.2.0\n",
      "  Downloading attrs-24.2.0-py3-none-any.whl (63 kB)\n",
      "\u001b[2K     \u001b[90m━━━━━━━━━━━━━━━━━━━━━━━━━━━━━━━━━━━━━━━━\u001b[0m \u001b[32m63.0/63.0 KB\u001b[0m \u001b[31m5.2 MB/s\u001b[0m eta \u001b[36m0:00:00\u001b[0m\n",
      "\u001b[?25hCollecting referencing>=0.28.4\n",
      "  Downloading referencing-0.35.1-py3-none-any.whl (26 kB)\n",
      "Collecting jsonschema-specifications>=2023.03.6\n",
      "  Downloading jsonschema_specifications-2023.12.1-py3-none-any.whl (18 kB)\n",
      "Collecting rpds-py>=0.7.1\n",
      "  Downloading rpds_py-0.20.0-cp310-cp310-macosx_10_12_x86_64.whl (318 kB)\n",
      "\u001b[2K     \u001b[90m━━━━━━━━━━━━━━━━━━━━━━━━━━━━━━━━━━━━━━━\u001b[0m \u001b[32m318.4/318.4 KB\u001b[0m \u001b[31m2.5 MB/s\u001b[0m eta \u001b[36m0:00:00\u001b[0m00:01\u001b[0m\n",
      "\u001b[?25hRequirement already satisfied: python-dateutil>=2.8.2 in /Users/starkj/Library/Python/3.10/lib/python/site-packages (from jupyter-client>=6.1.12->nbclient>=0.5.0->nbconvert) (2.9.0.post0)\n",
      "Requirement already satisfied: tornado>=6.2 in /Users/starkj/Library/Python/3.10/lib/python/site-packages (from jupyter-client>=6.1.12->nbclient>=0.5.0->nbconvert) (6.4.1)\n",
      "Requirement already satisfied: pyzmq>=23.0 in /Users/starkj/Library/Python/3.10/lib/python/site-packages (from jupyter-client>=6.1.12->nbclient>=0.5.0->nbconvert) (26.1.0)\n",
      "Installing collected packages: webencodings, fastjsonschema, tinycss2, rpds-py, pandocfilters, mistune, markupsafe, jupyterlab-pygments, defusedxml, bleach, attrs, referencing, jinja2, jsonschema-specifications, jsonschema, nbformat, nbclient, nbconvert\n",
      "Successfully installed attrs-24.2.0 bleach-6.1.0 defusedxml-0.7.1 fastjsonschema-2.20.0 jinja2-3.1.4 jsonschema-4.23.0 jsonschema-specifications-2023.12.1 jupyterlab-pygments-0.3.0 markupsafe-2.1.5 mistune-3.0.2 nbclient-0.10.0 nbconvert-7.16.4 nbformat-5.10.4 pandocfilters-1.5.1 referencing-0.35.1 rpds-py-0.20.0 tinycss2-1.3.0 webencodings-0.5.1\n",
      "\u001b[33mWARNING: You are using pip version 22.0.4; however, version 24.2 is available.\n",
      "You should consider upgrading via the '/usr/local/bin/python3.10 -m pip install --upgrade pip' command.\u001b[0m\u001b[33m\n",
      "\u001b[0mNote: you may need to restart the kernel to use updated packages.\n"
     ]
    }
   ],
   "source": [
    "pip install nbconvert"
   ]
  },
  {
   "cell_type": "markdown",
   "metadata": {},
   "source": [
    "2.  **Install  `nbformat`**: This module is used to read and write Jupyter notebook files."
   ]
  },
  {
   "cell_type": "code",
   "execution_count": 6,
   "metadata": {
    "vscode": {
     "languageId": "shellscript"
    }
   },
   "outputs": [
    {
     "name": "stderr",
     "output_type": "stream",
     "text": [
      "17192.76s - pydevd: Sending message related to process being replaced timed-out after 5 seconds\n"
     ]
    },
    {
     "name": "stdout",
     "output_type": "stream",
     "text": [
      "Requirement already satisfied: nbformat in /Library/Frameworks/Python.framework/Versions/3.10/lib/python3.10/site-packages (5.10.4)\n",
      "Requirement already satisfied: fastjsonschema>=2.15 in /Library/Frameworks/Python.framework/Versions/3.10/lib/python3.10/site-packages (from nbformat) (2.20.0)\n",
      "Requirement already satisfied: jupyter-core!=5.0.*,>=4.12 in /Users/starkj/Library/Python/3.10/lib/python/site-packages (from nbformat) (5.7.2)\n",
      "Requirement already satisfied: traitlets>=5.1 in /Users/starkj/Library/Python/3.10/lib/python/site-packages (from nbformat) (5.14.3)\n",
      "Requirement already satisfied: jsonschema>=2.6 in /Library/Frameworks/Python.framework/Versions/3.10/lib/python3.10/site-packages (from nbformat) (4.23.0)\n",
      "Requirement already satisfied: jsonschema-specifications>=2023.03.6 in /Library/Frameworks/Python.framework/Versions/3.10/lib/python3.10/site-packages (from jsonschema>=2.6->nbformat) (2023.12.1)\n",
      "Requirement already satisfied: attrs>=22.2.0 in /Library/Frameworks/Python.framework/Versions/3.10/lib/python3.10/site-packages (from jsonschema>=2.6->nbformat) (24.2.0)\n",
      "Requirement already satisfied: rpds-py>=0.7.1 in /Library/Frameworks/Python.framework/Versions/3.10/lib/python3.10/site-packages (from jsonschema>=2.6->nbformat) (0.20.0)\n",
      "Requirement already satisfied: referencing>=0.28.4 in /Library/Frameworks/Python.framework/Versions/3.10/lib/python3.10/site-packages (from jsonschema>=2.6->nbformat) (0.35.1)\n",
      "Requirement already satisfied: platformdirs>=2.5 in /Users/starkj/Library/Python/3.10/lib/python/site-packages (from jupyter-core!=5.0.*,>=4.12->nbformat) (4.2.2)\n",
      "\u001b[33mWARNING: You are using pip version 22.0.4; however, version 24.2 is available.\n",
      "You should consider upgrading via the '/usr/local/bin/python3.10 -m pip install --upgrade pip' command.\u001b[0m\u001b[33m\n",
      "\u001b[0mNote: you may need to restart the kernel to use updated packages.\n"
     ]
    }
   ],
   "source": [
    "pip install nbformat"
   ]
  },
  {
   "cell_type": "markdown",
   "metadata": {},
   "source": [
    "\n",
    "Here's an outline of the script:\n",
    "\n",
    "### Script: Convert and Modify Links in HTML"
   ]
  },
  {
   "cell_type": "code",
   "execution_count": 5,
   "metadata": {},
   "outputs": [],
   "source": [
    "import os\n",
    "import nbformat\n",
    "from nbconvert import HTMLExporter\n",
    "import re\n",
    "\n",
    "def convert_ipynb_to_html(ipynb_file):\n",
    "    # Load the notebook\n",
    "    with open(ipynb_file, 'r', encoding='utf-8') as f:\n",
    "        notebook = nbformat.read(f, as_version=4)\n",
    "    \n",
    "    # Convert to HTML\n",
    "    html_exporter = HTMLExporter()\n",
    "    (body, resources) = html_exporter.from_notebook_node(notebook)\n",
    "    \n",
    "    # Define the HTML filename\n",
    "    html_filename = os.path.splitext(ipynb_file)[0] + '.html'\n",
    "    \n",
    "    # Write the HTML file in the same directory as the ipynb file\n",
    "    with open(html_filename, 'w', encoding='utf-8') as f:\n",
    "        f.write(body)\n",
    "    \n",
    "    return html_filename\n",
    "\n",
    "def replace_ipynb_links_in_html(html_file, root_dir):\n",
    "    with open(html_file, 'r', encoding='utf-8') as f:\n",
    "        content = f.read()\n",
    "    \n",
    "    # Replace .ipynb links with relative .html links\n",
    "    updated_content = re.sub(\n",
    "        r'(?<=href=[\"\\'])(.*?\\.ipynb)(?=[\"\\'])', \n",
    "        lambda match: make_relative_html_link(match.group(1), root_dir), \n",
    "        content\n",
    "    )\n",
    "    \n",
    "    # Write the updated content back to the file\n",
    "    with open(html_file, 'w', encoding='utf-8') as f:\n",
    "        f.write(updated_content)\n",
    "\n",
    "def make_relative_html_link(ipynb_link, root_dir):\n",
    "    # Convert .ipynb link to corresponding .html link\n",
    "    html_link = os.path.splitext(ipynb_link)[0] + '.html'\n",
    "    \n",
    "    # Get the absolute path of the html link\n",
    "    absolute_html_path = os.path.abspath(html_link)\n",
    "    \n",
    "    # Remove the root directory (CWD) from the absolute path to make it relative\n",
    "    relative_html_path = os.path.relpath(absolute_html_path, start=root_dir)\n",
    "    \n",
    "    return relative_html_path\n",
    "\n",
    "def recursive_convert_and_replace_links(root_dir):\n",
    "    # Recursively find .ipynb files\n",
    "    for subdir, dirs, files in os.walk(root_dir):\n",
    "        for file in files:\n",
    "            if file.endswith('.ipynb'):\n",
    "                ipynb_path = os.path.join(subdir, file)\n",
    "                \n",
    "                # Convert to HTML and save it in the same directory\n",
    "                html_file = convert_ipynb_to_html(ipynb_path)\n",
    "                \n",
    "                # Replace .ipynb links with relative .html links, removing the cwd from the path\n",
    "                replace_ipynb_links_in_html(html_file, root_dir)\n",
    "\n",
    "if __name__ == \"__main__\":\n",
    "    # Use the current working directory as the root directory\n",
    "    root_directory = os.getcwd()\n",
    "    \n",
    "    recursive_convert_and_replace_links(root_directory)"
   ]
  },
  {
   "cell_type": "markdown",
   "metadata": {},
   "source": [
    "\n",
    "### How the Script Works:\n",
    "\n",
    "1. **Convert `.ipynb` to `.html`**: \n",
    "   - The `convert_ipynb_to_html` function uses `nbconvert` to convert a Jupyter Notebook (`.ipynb`) to an HTML file and saves it in the `output_dir`.\n",
    "\n",
    "2. **Replace `.ipynb` Links with `.html` Links**:\n",
    "   - The `replace_ipynb_links_in_html` function reads the generated HTML file, finds any links to `.ipynb` files, and replaces them with `.html` links.\n",
    "   - This is done using a regular expression that matches the links in the HTML content.\n",
    "\n",
    "3. **Recursively Process Files**:\n",
    "   - The `recursive_convert_and_replace_links` function walks through the directory tree (`os.walk`) and processes all `.ipynb` files. It calls the conversion and replacement functions for each file found.\n",
    "\n",
    "### Notes:\n",
    "\n",
    "- **File Paths**: Make sure to update the `root_directory` and `output_directory` variables to match your desired input and output paths.\n",
    "- **Dependencies**: You may need to install `nbconvert` and `nbformat` via `pip install nbconvert nbformat`.\n",
    "  \n",
    "This script will help you convert all `.ipynb` files to HTML and ensure that the links between notebooks are correctly pointing to the corresponding `.html` files."
   ]
  },
  {
   "cell_type": "markdown",
   "metadata": {
    "vscode": {
     "languageId": "polyglot-notebook"
    }
   },
   "source": [
    "# Create PDF with beautiful soup and pdfkit\n",
    "\n",
    "Does not work so well.\n",
    "\n",
    "### 1.  **Extract Headlines from HTML Files:**\n",
    "\n",
    "-   You'll need to parse the HTML files to extract the headline tags (`<h1>`,  `<h2>`, etc.) and use them to generate the table of contents.\n",
    "-   The  `BeautifulSoup`  library from  `bs4`  is perfect for parsing HTML.\n",
    "\n",
    "### 2.  **Create the Table of Contents:**\n",
    "\n",
    "-   Use the extracted headlines to create a TOC in HTML format, with links to the corresponding sections.\n",
    "\n",
    "### 3.  **Insert the TOC at the Beginning of the Combined HTML File:**\n",
    "\n",
    "-   Add the generated TOC to the beginning of your combined HTML file before converting it to PDF.\n",
    "\n",
    "### 4.  **Convert to PDF:**\n",
    "\n",
    "-   Once you have the HTML with the TOC, convert it to PDF as before.\n",
    "\n",
    "Here’s a Python script that implements these steps:\n",
    "\n",
    "#### **Step 1: Install Necessary Libraries**\n",
    "\n",
    "You’ll need to install the required libraries:"
   ]
  },
  {
   "cell_type": "code",
   "execution_count": 1,
   "metadata": {
    "vscode": {
     "languageId": "shellscript"
    }
   },
   "outputs": [
    {
     "name": "stdout",
     "output_type": "stream",
     "text": [
      "Collecting beautifulsoup4\n",
      "  Downloading beautifulsoup4-4.12.3-py3-none-any.whl (147 kB)\n",
      "\u001b[2K     \u001b[90m━━━━━━━━━━━━━━━━━━━━━━━━━━━━━━━━━━━━━\u001b[0m \u001b[32m147.9/147.9 KB\u001b[0m \u001b[31m549.8 kB/s\u001b[0m eta \u001b[36m0:00:00\u001b[0ma \u001b[36m0:00:01\u001b[0m\n",
      "\u001b[?25hCollecting pdfkit\n",
      "  Downloading pdfkit-1.0.0-py3-none-any.whl (12 kB)\n",
      "Collecting soupsieve>1.2\n",
      "  Downloading soupsieve-2.6-py3-none-any.whl (36 kB)\n",
      "Installing collected packages: pdfkit, soupsieve, beautifulsoup4\n",
      "Successfully installed beautifulsoup4-4.12.3 pdfkit-1.0.0 soupsieve-2.6\n",
      "\u001b[33mWARNING: You are using pip version 22.0.4; however, version 24.2 is available.\n",
      "You should consider upgrading via the '/usr/local/bin/python3.10 -m pip install --upgrade pip' command.\u001b[0m\u001b[33m\n",
      "\u001b[0mNote: you may need to restart the kernel to use updated packages.\n"
     ]
    }
   ],
   "source": [
    "pip install beautifulsoup4 pdfkit"
   ]
  },
  {
   "cell_type": "markdown",
   "metadata": {},
   "source": [
    "#### Step 2: Python Script to Generate TOC and Convert HTML to PDF"
   ]
  },
  {
   "cell_type": "code",
   "execution_count": 3,
   "metadata": {},
   "outputs": [
    {
     "ename": "OSError",
     "evalue": "wkhtmltopdf reported an error:\nExit with code 1 due to network error: ProtocolUnknownError\n",
     "output_type": "error",
     "traceback": [
      "\u001b[0;31m---------------------------------------------------------------------------\u001b[0m",
      "\u001b[0;31mOSError\u001b[0m                                   Traceback (most recent call last)",
      "Cell \u001b[0;32mIn[3], line 59\u001b[0m\n\u001b[1;32m     56\u001b[0m     outfile\u001b[38;5;241m.\u001b[39mwrite(full_html_content)\n\u001b[1;32m     58\u001b[0m \u001b[38;5;66;03m# Convert the combined HTML file with TOC to PDF\u001b[39;00m\n\u001b[0;32m---> 59\u001b[0m \u001b[43mpdfkit\u001b[49m\u001b[38;5;241;43m.\u001b[39;49m\u001b[43mfrom_file\u001b[49m\u001b[43m(\u001b[49m\u001b[43moutput_html\u001b[49m\u001b[43m,\u001b[49m\u001b[43m \u001b[49m\u001b[38;5;124;43m'\u001b[39;49m\u001b[38;5;124;43moutput_with_toc.pdf\u001b[39;49m\u001b[38;5;124;43m'\u001b[39;49m\u001b[43m)\u001b[49m\n\u001b[1;32m     61\u001b[0m \u001b[38;5;28mprint\u001b[39m(\u001b[38;5;124m\"\u001b[39m\u001b[38;5;124mPDF with Table of Contents has been generated as \u001b[39m\u001b[38;5;124m'\u001b[39m\u001b[38;5;124moutput_with_toc.pdf\u001b[39m\u001b[38;5;124m'\u001b[39m\u001b[38;5;124m.\u001b[39m\u001b[38;5;124m\"\u001b[39m)\n",
      "File \u001b[0;32m/Library/Frameworks/Python.framework/Versions/3.10/lib/python3.10/site-packages/pdfkit/api.py:51\u001b[0m, in \u001b[0;36mfrom_file\u001b[0;34m(input, output_path, options, toc, cover, css, configuration, cover_first, verbose)\u001b[0m\n\u001b[1;32m     32\u001b[0m \u001b[38;5;250m\u001b[39m\u001b[38;5;124;03m\"\"\"\u001b[39;00m\n\u001b[1;32m     33\u001b[0m \u001b[38;5;124;03mConvert HTML file or files to PDF document\u001b[39;00m\n\u001b[1;32m     34\u001b[0m \n\u001b[0;32m   (...)\u001b[0m\n\u001b[1;32m     45\u001b[0m \u001b[38;5;124;03mReturns: True on success\u001b[39;00m\n\u001b[1;32m     46\u001b[0m \u001b[38;5;124;03m\"\"\"\u001b[39;00m\n\u001b[1;32m     48\u001b[0m r \u001b[38;5;241m=\u001b[39m PDFKit(\u001b[38;5;28minput\u001b[39m, \u001b[38;5;124m'\u001b[39m\u001b[38;5;124mfile\u001b[39m\u001b[38;5;124m'\u001b[39m, options\u001b[38;5;241m=\u001b[39moptions, toc\u001b[38;5;241m=\u001b[39mtoc, cover\u001b[38;5;241m=\u001b[39mcover, css\u001b[38;5;241m=\u001b[39mcss,\n\u001b[1;32m     49\u001b[0m            configuration\u001b[38;5;241m=\u001b[39mconfiguration, cover_first\u001b[38;5;241m=\u001b[39mcover_first, verbose\u001b[38;5;241m=\u001b[39mverbose)\n\u001b[0;32m---> 51\u001b[0m \u001b[38;5;28;01mreturn\u001b[39;00m \u001b[43mr\u001b[49m\u001b[38;5;241;43m.\u001b[39;49m\u001b[43mto_pdf\u001b[49m\u001b[43m(\u001b[49m\u001b[43moutput_path\u001b[49m\u001b[43m)\u001b[49m\n",
      "File \u001b[0;32m/Library/Frameworks/Python.framework/Versions/3.10/lib/python3.10/site-packages/pdfkit/pdfkit.py:201\u001b[0m, in \u001b[0;36mPDFKit.to_pdf\u001b[0;34m(self, path)\u001b[0m\n\u001b[1;32m    199\u001b[0m stderr \u001b[38;5;241m=\u001b[39m stderr\u001b[38;5;241m.\u001b[39mdecode(\u001b[38;5;124m'\u001b[39m\u001b[38;5;124mutf-8\u001b[39m\u001b[38;5;124m'\u001b[39m, errors\u001b[38;5;241m=\u001b[39m\u001b[38;5;124m'\u001b[39m\u001b[38;5;124mreplace\u001b[39m\u001b[38;5;124m'\u001b[39m)\n\u001b[1;32m    200\u001b[0m exit_code \u001b[38;5;241m=\u001b[39m result\u001b[38;5;241m.\u001b[39mreturncode\n\u001b[0;32m--> 201\u001b[0m \u001b[38;5;28;43mself\u001b[39;49m\u001b[38;5;241;43m.\u001b[39;49m\u001b[43mhandle_error\u001b[49m\u001b[43m(\u001b[49m\u001b[43mexit_code\u001b[49m\u001b[43m,\u001b[49m\u001b[43m \u001b[49m\u001b[43mstderr\u001b[49m\u001b[43m)\u001b[49m\n\u001b[1;32m    203\u001b[0m \u001b[38;5;66;03m# Since wkhtmltopdf sends its output to stderr we will capture it\u001b[39;00m\n\u001b[1;32m    204\u001b[0m \u001b[38;5;66;03m# and properly send to stdout\u001b[39;00m\n\u001b[1;32m    205\u001b[0m \u001b[38;5;28;01mif\u001b[39;00m \u001b[38;5;124m'\u001b[39m\u001b[38;5;124m--quiet\u001b[39m\u001b[38;5;124m'\u001b[39m \u001b[38;5;129;01mnot\u001b[39;00m \u001b[38;5;129;01min\u001b[39;00m args:\n",
      "File \u001b[0;32m/Library/Frameworks/Python.framework/Versions/3.10/lib/python3.10/site-packages/pdfkit/pdfkit.py:155\u001b[0m, in \u001b[0;36mPDFKit.handle_error\u001b[0;34m(exit_code, stderr)\u001b[0m\n\u001b[1;32m    149\u001b[0m     \u001b[38;5;28;01mraise\u001b[39;00m \u001b[38;5;167;01mIOError\u001b[39;00m(\u001b[38;5;124m'\u001b[39m\u001b[38;5;132;01m%s\u001b[39;00m\u001b[38;5;130;01m\\n\u001b[39;00m\u001b[38;5;124m'\u001b[39m\n\u001b[1;32m    150\u001b[0m                   \u001b[38;5;124m'\u001b[39m\u001b[38;5;124mYou will need to run wkhtmltopdf within a \u001b[39m\u001b[38;5;124m\"\u001b[39m\u001b[38;5;124mvirtual\u001b[39m\u001b[38;5;124m\"\u001b[39m\u001b[38;5;124m X server.\u001b[39m\u001b[38;5;130;01m\\n\u001b[39;00m\u001b[38;5;124m'\u001b[39m\n\u001b[1;32m    151\u001b[0m                   \u001b[38;5;124m'\u001b[39m\u001b[38;5;124mGo to the link below for more information\u001b[39m\u001b[38;5;130;01m\\n\u001b[39;00m\u001b[38;5;124m'\u001b[39m\n\u001b[1;32m    152\u001b[0m                   \u001b[38;5;124m'\u001b[39m\u001b[38;5;124mhttps://github.com/JazzCore/python-pdfkit/wiki/Using-wkhtmltopdf-without-X-server\u001b[39m\u001b[38;5;124m'\u001b[39m \u001b[38;5;241m%\u001b[39m stderr)\n\u001b[1;32m    154\u001b[0m \u001b[38;5;28;01mif\u001b[39;00m \u001b[38;5;124m'\u001b[39m\u001b[38;5;124mError\u001b[39m\u001b[38;5;124m'\u001b[39m \u001b[38;5;129;01min\u001b[39;00m stderr:\n\u001b[0;32m--> 155\u001b[0m     \u001b[38;5;28;01mraise\u001b[39;00m \u001b[38;5;167;01mIOError\u001b[39;00m(\u001b[38;5;124m'\u001b[39m\u001b[38;5;124mwkhtmltopdf reported an error:\u001b[39m\u001b[38;5;130;01m\\n\u001b[39;00m\u001b[38;5;124m'\u001b[39m \u001b[38;5;241m+\u001b[39m stderr)\n\u001b[1;32m    157\u001b[0m error_msg \u001b[38;5;241m=\u001b[39m stderr \u001b[38;5;129;01mor\u001b[39;00m \u001b[38;5;124m'\u001b[39m\u001b[38;5;124mUnknown Error\u001b[39m\u001b[38;5;124m'\u001b[39m\n\u001b[1;32m    158\u001b[0m \u001b[38;5;28;01mraise\u001b[39;00m \u001b[38;5;167;01mIOError\u001b[39;00m(\u001b[38;5;124m\"\u001b[39m\u001b[38;5;124mwkhtmltopdf exited with non-zero code \u001b[39m\u001b[38;5;132;01m{0}\u001b[39;00m\u001b[38;5;124m. error:\u001b[39m\u001b[38;5;130;01m\\n\u001b[39;00m\u001b[38;5;132;01m{1}\u001b[39;00m\u001b[38;5;124m\"\u001b[39m\u001b[38;5;241m.\u001b[39mformat(exit_code, error_msg))\n",
      "\u001b[0;31mOSError\u001b[0m: wkhtmltopdf reported an error:\nExit with code 1 due to network error: ProtocolUnknownError\n"
     ]
    }
   ],
   "source": [
    "import os\n",
    "from bs4 import BeautifulSoup\n",
    "import pdfkit\n",
    "\n",
    "# Function to extract headlines from HTML\n",
    "def extract_headlines(html_content, file_index):\n",
    "    soup = BeautifulSoup(html_content, 'html.parser')\n",
    "    headlines = []\n",
    "    for tag in ['h1', 'h2', 'h3', 'h4', 'h5', 'h6']:\n",
    "        for header in soup.find_all(tag):\n",
    "            # Create an anchor link for each headline\n",
    "            anchor = f\"section_{file_index}_{len(headlines)}\"\n",
    "            header['id'] = anchor\n",
    "            headlines.append((header.text.strip(), tag, anchor))\n",
    "    return headlines, str(soup)\n",
    "\n",
    "# Function to gather all HTML files recursively\n",
    "def gather_html_files(directory):\n",
    "    html_files = []\n",
    "    for root, _, files in os.walk(directory):\n",
    "        for file in files:\n",
    "            if file.endswith('.ipynb.html'):\n",
    "                html_files.append(os.path.join(root, file))\n",
    "    return sorted(html_files)  # Sorting ensures the order is preserved\n",
    "\n",
    "# Specify the top-level folder containing the HTML files\n",
    "top_level_folder = 'csharp'\n",
    "output_html = 'combined_with_toc.html'\n",
    "\n",
    "# Gather all HTML files recursively\n",
    "html_files = gather_html_files(top_level_folder)\n",
    "\n",
    "toc_entries = []\n",
    "full_html_content = \"<html><head><title>Document with TOC</title></head><body>\"\n",
    "\n",
    "# Generate the TOC and combine HTML files\n",
    "for i, filepath in enumerate(html_files):\n",
    "    with open(filepath, 'r', encoding='utf-8') as infile:\n",
    "        content = infile.read()\n",
    "        headlines, updated_html = extract_headlines(content, i)\n",
    "        toc_entries.extend(headlines)\n",
    "        full_html_content += updated_html\n",
    "        full_html_content += '<div style=\"page-break-after: always;\"></div>'\n",
    "\n",
    "# Create the TOC HTML structure\n",
    "toc_html = '<h1>Table of Contents</h1><ul>'\n",
    "for text, tag, anchor in toc_entries:\n",
    "    toc_html += f'<li><a href=\"#{anchor}\">{text}</a></li>'\n",
    "toc_html += '</ul><div style=\"page-break-after: always;\"></div>'\n",
    "\n",
    "# Add the TOC to the beginning of the document\n",
    "full_html_content = toc_html + full_html_content + \"</body></html>\"\n",
    "\n",
    "# Write the combined HTML with TOC to a file\n",
    "with open(output_html, 'w', encoding='utf-8') as outfile:\n",
    "    outfile.write(full_html_content)\n",
    "\n",
    "# Convert the combined HTML file with TOC to PDF\n",
    "pdfkit.from_file(output_html, 'output_with_toc.pdf')\n",
    "\n",
    "print(\"PDF with Table of Contents has been generated as 'output_with_toc.pdf'.\")"
   ]
  },
  {
   "cell_type": "markdown",
   "metadata": {},
   "source": [
    "\n",
    "### **Requirements:**\n",
    "\n",
    "1.  **wkhtmltopdf:**  Make sure  `wkhtmltopdf`  is installed on your system for  `pdfkit`  to work. You can download it from  wkhtmltopdf.org.\n",
    "2.  **HTML Structure:**  Ensure that your HTML files are well-formed, with proper heading tags for the TOC to be generated accurately.\n",
    "\n",
    "This script will produce a PDF with a generated Table of Contents at the beginning, linking to all the headlines within your HTML files."
   ]
  }
 ],
 "metadata": {
  "kernelspec": {
   "display_name": "Python 3",
   "language": "python",
   "name": "python3"
  },
  "language_info": {
   "codemirror_mode": {
    "name": "ipython",
    "version": 3
   },
   "file_extension": ".py",
   "mimetype": "text/x-python",
   "name": "python",
   "nbconvert_exporter": "python",
   "pygments_lexer": "ipython3",
   "version": "3.10.5"
  }
 },
 "nbformat": 4,
 "nbformat_minor": 2
}
